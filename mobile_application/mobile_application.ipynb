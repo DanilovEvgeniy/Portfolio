{
 "cells": [
  {
   "cell_type": "markdown",
   "id": "699ae100",
   "metadata": {
    "toc": true
   },
   "source": [
    "<h1>Содержание<span class=\"tocSkip\"></span></h1>\n",
    "<div class=\"toc\"><ul class=\"toc-item\"><li><span><a href=\"#Материалы\" data-toc-modified-id=\"Материалы-1\"><span class=\"toc-item-num\">1&nbsp;&nbsp;</span>Материалы</a></span></li><li><span><a href=\"#Описание-приложения\" data-toc-modified-id=\"Описание-приложения-2\"><span class=\"toc-item-num\">2&nbsp;&nbsp;</span>Описание приложения</a></span></li><li><span><a href=\"#Задачи-исследования\" data-toc-modified-id=\"Задачи-исследования-3\"><span class=\"toc-item-num\">3&nbsp;&nbsp;</span>Задачи исследования</a></span></li><li><span><a href=\"#Основные-вопросы-исследования\" data-toc-modified-id=\"Основные-вопросы-исследования-4\"><span class=\"toc-item-num\">4&nbsp;&nbsp;</span>Основные вопросы исследования</a></span></li><li><span><a href=\"#Описание-данных\" data-toc-modified-id=\"Описание-данных-5\"><span class=\"toc-item-num\">5&nbsp;&nbsp;</span>Описание данных</a></span></li><li><span><a href=\"#План-проекта\" data-toc-modified-id=\"План-проекта-6\"><span class=\"toc-item-num\">6&nbsp;&nbsp;</span>План проекта</a></span></li><li><span><a href=\"#Загрузка-данных\" data-toc-modified-id=\"Загрузка-данных-7\"><span class=\"toc-item-num\">7&nbsp;&nbsp;</span>Загрузка данных</a></span></li><li><span><a href=\"#Предобработка-данных\" data-toc-modified-id=\"Предобработка-данных-8\"><span class=\"toc-item-num\">8&nbsp;&nbsp;</span>Предобработка данных</a></span><ul class=\"toc-item\"><li><span><a href=\"#Работа-с-названиями-колонок\" data-toc-modified-id=\"Работа-с-названиями-колонок-8.1\"><span class=\"toc-item-num\">8.1&nbsp;&nbsp;</span>Работа с названиями колонок</a></span></li><li><span><a href=\"#Проверка-наличия-пропусков\" data-toc-modified-id=\"Проверка-наличия-пропусков-8.2\"><span class=\"toc-item-num\">8.2&nbsp;&nbsp;</span>Проверка наличия пропусков</a></span></li><li><span><a href=\"#Проверка-на-явные-и-неявные-дубликаты\" data-toc-modified-id=\"Проверка-на-явные-и-неявные-дубликаты-8.3\"><span class=\"toc-item-num\">8.3&nbsp;&nbsp;</span>Проверка на явные и неявные дубликаты</a></span></li><li><span><a href=\"#Изменение-типов-данных-колонок\" data-toc-modified-id=\"Изменение-типов-данных-колонок-8.4\"><span class=\"toc-item-num\">8.4&nbsp;&nbsp;</span>Изменение типов данных колонок</a></span></li><li><span><a href=\"#Изменим-действие-пользователей-с-show_contacts-на-contacts_show-в-датафрейме\" data-toc-modified-id=\"Изменим-действие-пользователей-с-show_contacts-на-contacts_show-в-датафрейме-8.5\"><span class=\"toc-item-num\">8.5&nbsp;&nbsp;</span>Изменим действие пользователей с show_contacts на contacts_show в датафрейме</a></span></li><li><span><a href=\"#Предварительный-вывод-по-разделу\" data-toc-modified-id=\"Предварительный-вывод-по-разделу-8.6\"><span class=\"toc-item-num\">8.6&nbsp;&nbsp;</span>Предварительный вывод по разделу</a></span></li></ul></li><li><span><a href=\"#Исследовательский-анализ-данных\" data-toc-modified-id=\"Исследовательский-анализ-данных-9\"><span class=\"toc-item-num\">9&nbsp;&nbsp;</span>Исследовательский анализ данных</a></span><ul class=\"toc-item\"><li><span><a href=\"#Количество-уникальных-записей-в-датасетах-и-их-названия\" data-toc-modified-id=\"Количество-уникальных-записей-в-датасетах-и-их-названия-9.1\"><span class=\"toc-item-num\">9.1&nbsp;&nbsp;</span>Количество уникальных записей в датасетах и их названия</a></span></li><li><span><a href=\"#Находим-частоту-совершения-пользователями-действий-в-приложении\" data-toc-modified-id=\"Находим-частоту-совершения-пользователями-действий-в-приложении-9.2\"><span class=\"toc-item-num\">9.2&nbsp;&nbsp;</span>Находим частоту совершения пользователями действий в приложении</a></span></li><li><span><a href=\"#Смотрим-распределение-пользователей-по-источникам\" data-toc-modified-id=\"Смотрим-распределение-пользователей-по-источникам-9.3\"><span class=\"toc-item-num\">9.3&nbsp;&nbsp;</span>Смотрим распределение пользователей по источникам</a></span></li><li><span><a href=\"#Расчёт-удержания-(retention-rate)\" data-toc-modified-id=\"Расчёт-удержания-(retention-rate)-9.4\"><span class=\"toc-item-num\">9.4&nbsp;&nbsp;</span>Расчёт удержания (retention rate)</a></span></li><li><span><a href=\"#Расчет-времени-пользователей-в-приложении\" data-toc-modified-id=\"Расчет-времени-пользователей-в-приложении-9.5\"><span class=\"toc-item-num\">9.5&nbsp;&nbsp;</span>Расчет времени пользователей в приложении</a></span></li><li><span><a href=\"#Расчёт-конверсии-по-ключевому-действию---contacts_show(просмотр-контактов)\" data-toc-modified-id=\"Расчёт-конверсии-по-ключевому-действию---contacts_show(просмотр-контактов)-9.6\"><span class=\"toc-item-num\">9.6&nbsp;&nbsp;</span>Расчёт конверсии по ключевому действию - contacts_show(просмотр контактов)</a></span></li><li><span><a href=\"#Предварительный-вывод-по-разделу\" data-toc-modified-id=\"Предварительный-вывод-по-разделу-9.7\"><span class=\"toc-item-num\">9.7&nbsp;&nbsp;</span>Предварительный вывод по разделу</a></span></li></ul></li><li><span><a href=\"#Сегментация-пользователей\" data-toc-modified-id=\"Сегментация-пользователей-10\"><span class=\"toc-item-num\">10&nbsp;&nbsp;</span>Сегментация пользователей</a></span><ul class=\"toc-item\"><li><span><a href=\"#Сегментация-пользователей-по-времени-пользователей-в-приложении\" data-toc-modified-id=\"Сегментация-пользователей-по-времени-пользователей-в-приложении-10.1\"><span class=\"toc-item-num\">10.1&nbsp;&nbsp;</span>Сегментация пользователей по времени пользователей в приложении</a></span></li><li><span><a href=\"#Удержание-пользователей-по-сегментам\" data-toc-modified-id=\"Удержание-пользователей-по-сегментам-10.2\"><span class=\"toc-item-num\">10.2&nbsp;&nbsp;</span>Удержание пользователей по сегментам</a></span></li><li><span><a href=\"#Конверсия-после-сегментации-в-целевое-действие---contacts_show(просмотр-контактов)\" data-toc-modified-id=\"Конверсия-после-сегментации-в-целевое-действие---contacts_show(просмотр-контактов)-10.3\"><span class=\"toc-item-num\">10.3&nbsp;&nbsp;</span>Конверсия после сегментации в целевое действие - contacts_show(просмотр контактов)</a></span></li><li><span><a href=\"#Предварительный-вывод-по-разделу\" data-toc-modified-id=\"Предварительный-вывод-по-разделу-10.4\"><span class=\"toc-item-num\">10.4&nbsp;&nbsp;</span>Предварительный вывод по разделу</a></span></li></ul></li><li><span><a href=\"#Проверка-статистических-гипотез\" data-toc-modified-id=\"Проверка-статистических-гипотез-11\"><span class=\"toc-item-num\">11&nbsp;&nbsp;</span>Проверка статистических гипотез</a></span><ul class=\"toc-item\"><li><span><a href=\"#Первая-гипотеза-по-источникам-установки-приложения\" data-toc-modified-id=\"Первая-гипотеза-по-источникам-установки-приложения-11.1\"><span class=\"toc-item-num\">11.1&nbsp;&nbsp;</span>Первая гипотеза по источникам установки приложения</a></span></li><li><span><a href=\"#Вторая-гипотеза-по-времени-пользователей-в-приложении\" data-toc-modified-id=\"Вторая-гипотеза-по-времени-пользователей-в-приложении-11.2\"><span class=\"toc-item-num\">11.2&nbsp;&nbsp;</span>Вторая гипотеза по времени пользователей в приложении</a></span></li><li><span><a href=\"#Предварительный-вывод-по-разделу\" data-toc-modified-id=\"Предварительный-вывод-по-разделу-11.3\"><span class=\"toc-item-num\">11.3&nbsp;&nbsp;</span>Предварительный вывод по разделу</a></span></li></ul></li><li><span><a href=\"#Общие-выводы\" data-toc-modified-id=\"Общие-выводы-12\"><span class=\"toc-item-num\">12&nbsp;&nbsp;</span>Общие выводы</a></span></li></ul></div>"
   ]
  },
  {
   "cell_type": "markdown",
   "id": "05253572",
   "metadata": {},
   "source": [
    "# Мобильное приложения \"Ненужные вещи\""
   ]
  },
  {
   "cell_type": "markdown",
   "id": "166e01a3",
   "metadata": {},
   "source": [
    "## Материалы\n",
    "[Презентация](https://disk.yandex.ru/i/QOiW6T0MsdBNbg)"
   ]
  },
  {
   "cell_type": "markdown",
   "id": "dcac6b08",
   "metadata": {},
   "source": [
    "## Описание приложения"
   ]
  },
  {
   "cell_type": "markdown",
   "id": "8bb7e08f",
   "metadata": {},
   "source": [
    "Пользователи продают ненужные вещи в приложении. Основная цель бизнеса - увеличение доли продаж ненужных вещей пользователей через приложение, что в свою очередь приведёт к увеличению монитизации приложения \"Ненужные вещи\"."
   ]
  },
  {
   "cell_type": "markdown",
   "id": "17bfca27",
   "metadata": {},
   "source": [
    "## Задачи исследования"
   ]
  },
  {
   "cell_type": "markdown",
   "id": "bc8fd58f",
   "metadata": {},
   "source": [
    "Выделить группы пользователь, которые различаются по метрикам (смотрим общее поведение пользователей):\n",
    "- Retention Rate;\n",
    "- Время в приложении;\n",
    "- Частота совершения событий;\n",
    "- Конверсия в целевое действие **contacts_show(просмотр контактов)**."
   ]
  },
  {
   "cell_type": "markdown",
   "id": "5846680a",
   "metadata": {},
   "source": [
    "## Основные вопросы исследования"
   ]
  },
  {
   "cell_type": "markdown",
   "id": "ab4fbc6d",
   "metadata": {},
   "source": [
    "- Пользователи какой группы склонны часто возвращаться в мобильное приложение (retention rate)?\n",
    "- Пользователи какой группы часто делают целевое событие (конверсия в целевое событие)?"
   ]
  },
  {
   "cell_type": "markdown",
   "id": "13f66c97",
   "metadata": {},
   "source": [
    "## Описание данных"
   ]
  },
  {
   "cell_type": "markdown",
   "id": "6b368834",
   "metadata": {},
   "source": [
    "В датасете содержатся данные пользователей, впервые совершивших действия в\n",
    "приложении после 7 октября 2019 года.  \n",
    "\n",
    "Колонки в `/datasets/mobile_sources.csv` :\n",
    "- `userId` — идентификатор пользователя,\n",
    "- `source` — источник, с которого пользователь установил приложение.  \n",
    "\n",
    "Колонки в `/datasets/mobile_dataset.csv` :\n",
    "- `event.time` — время совершения,\n",
    "- `user.id` — идентификатор пользователя,\n",
    "- `event.name` — действие пользователя.  \n",
    "    Виды действий:\n",
    "    - **advert_open** — открыл карточки объявления,\n",
    "    - **photos_show** — просмотрел фотографий в объявлении,\n",
    "    - **tips_show** — увидел рекомендованные объявления,\n",
    "    - **tips_click** — кликнул по рекомендованному объявлению,\n",
    "    - **contacts_show и show_contacts** — посмотрел номер телефона,\n",
    "    - **contacts_call** — позвонил по номеру из объявления,\n",
    "    - **map** — открыл карту объявлений,\n",
    "    - **search_1 — search_7** — разные действия, связанные с поиском по сайту,\n",
    "    - **favorites_add** — добавил объявление в избранное."
   ]
  },
  {
   "cell_type": "markdown",
   "id": "da132b05",
   "metadata": {},
   "source": [
    "## План проекта"
   ]
  },
  {
   "cell_type": "markdown",
   "id": "ee367437",
   "metadata": {},
   "source": [
    "1. Предобработка данных:  \n",
    "    - Работа с названиями колонок;  \n",
    "    - Проверка наличия пропусков;  \n",
    "    - Проверка на явные и неявные дубликаты;  \n",
    "    - Проверка типа данных в колонках и их изменение (при необходимости);\n",
    "    - Изменим действие пользователей с show_contacts на contacts_show;\n",
    "    - Предварительный вывод по разделу.\n",
    "2. Исследовательский анализ данных:  \n",
    "    - Смотрим кол-во уникальных пользователей в датасетах;  \n",
    "    - Смотрим кол-во уникальных действий пользователей и их названия;  \n",
    "    - Смотрим кол-во уникальных источников и их названия;  \n",
    "    - Находим частоту совершения событий пользователями;  \n",
    "    - Смотрим распределение пользователей по источникам;  \n",
    "    - Находим минимальную и максимальную дату установки приложения пользователями; \n",
    "    - Расчёт удержания (retention rate) и построение тепловой карты для пользователей по дням;\n",
    "    - Смотрим время пользователей в приложении;\n",
    "    - Расчёт конверсии по ключевому действию - **contacts_show(просмотр контактов)**;\n",
    "    - Предварительный вывод по разделу.\n",
    "3. Сегментация пользователей:  \n",
    "    - Сегментация пользователей по времени пользователей в приложении или по частоте совершения событий пользователей;\n",
    "    - Пользователи какой группы после сегментации склонны часто возвращаться в мобильное приложение (retention rate);\n",
    "    - Пользователи какой группы после сегментации имеют большую конверсию в целевое действие - **contacts_show(просмотр контактов)**;\n",
    "    - Предварительные выводы по разделу.\n",
    "4. Проверка статистических гипотез:  \n",
    "    - Некоторые пользователи установили приложение по ссылке из ***yandex***, другие — из ***google***. Проверка гипотезы: две эти группы демонстрируют разную конверсию в **contacts_show(просмотр контактов)**;\n",
    "    - Н0: пользователи, пришедшие из источников yandex и google имеют одинаковую продолжительность нахождения в приложении.Н1: пользователи, пришедшие из источника yandex имеют большую продолжительность нахождения в приложении, чем пользователи, пришедшие из источника google.\n",
    "    - Предварительный вывод по разделу.\n",
    "5. Общие выводы и рекомендации:\n",
    "    - общие выводы по данным;\n",
    "    - общие выводы по удержанию пользователей;\n",
    "    - общие выводы по времени пользователей в приложении;\n",
    "    - общие выводы по конверсии в ключевое действие - **contacts_show(просмотр контактов)**;\n",
    "    - общие выводы по удержанию, времени пользователей в приложении и конверсии в ключевое действие по сегментам пользователей;\n",
    "    - общие выводы по статистическим гипотезам;\n",
    "    - рекомендации."
   ]
  },
  {
   "cell_type": "markdown",
   "id": "177de64f",
   "metadata": {},
   "source": [
    "## Загрузка данных"
   ]
  },
  {
   "cell_type": "code",
   "execution_count": 1,
   "id": "31980992",
   "metadata": {},
   "outputs": [],
   "source": [
    "import pandas as pd\n",
    "import seaborn as sns\n",
    "import matplotlib.pyplot as plt\n",
    "from matplotlib import style \n",
    "import numpy as np\n",
    "import scipy.stats as stats\n",
    "from statsmodels.stats.proportion import proportions_ztest"
   ]
  },
  {
   "cell_type": "code",
   "execution_count": 2,
   "id": "86191286",
   "metadata": {},
   "outputs": [],
   "source": [
    "data = pd.read_csv('/Users/mac/Desktop/проекты в Яндекс Практикуме/Датасеты и проекты/Выпускной проект/датасеты/mobile_dataset.csv')\n",
    "sources = pd.read_csv('/Users/mac/Desktop/проекты в Яндекс Практикуме/Датасеты и проекты/Выпускной проект/датасеты/mobile_sourсes.csv')"
   ]
  },
  {
   "cell_type": "code",
   "execution_count": 3,
   "id": "9feae09e",
   "metadata": {},
   "outputs": [
    {
     "data": {
      "text/html": [
       "<div>\n",
       "<style scoped>\n",
       "    .dataframe tbody tr th:only-of-type {\n",
       "        vertical-align: middle;\n",
       "    }\n",
       "\n",
       "    .dataframe tbody tr th {\n",
       "        vertical-align: top;\n",
       "    }\n",
       "\n",
       "    .dataframe thead th {\n",
       "        text-align: right;\n",
       "    }\n",
       "</style>\n",
       "<table border=\"1\" class=\"dataframe\">\n",
       "  <thead>\n",
       "    <tr style=\"text-align: right;\">\n",
       "      <th></th>\n",
       "      <th>event.time</th>\n",
       "      <th>event.name</th>\n",
       "      <th>user.id</th>\n",
       "    </tr>\n",
       "  </thead>\n",
       "  <tbody>\n",
       "    <tr>\n",
       "      <th>0</th>\n",
       "      <td>2019-10-07 00:00:00.431357</td>\n",
       "      <td>advert_open</td>\n",
       "      <td>020292ab-89bc-4156-9acf-68bc2783f894</td>\n",
       "    </tr>\n",
       "    <tr>\n",
       "      <th>1</th>\n",
       "      <td>2019-10-07 00:00:01.236320</td>\n",
       "      <td>tips_show</td>\n",
       "      <td>020292ab-89bc-4156-9acf-68bc2783f894</td>\n",
       "    </tr>\n",
       "    <tr>\n",
       "      <th>2</th>\n",
       "      <td>2019-10-07 00:00:02.245341</td>\n",
       "      <td>tips_show</td>\n",
       "      <td>cf7eda61-9349-469f-ac27-e5b6f5ec475c</td>\n",
       "    </tr>\n",
       "    <tr>\n",
       "      <th>3</th>\n",
       "      <td>2019-10-07 00:00:07.039334</td>\n",
       "      <td>tips_show</td>\n",
       "      <td>020292ab-89bc-4156-9acf-68bc2783f894</td>\n",
       "    </tr>\n",
       "    <tr>\n",
       "      <th>4</th>\n",
       "      <td>2019-10-07 00:00:56.319813</td>\n",
       "      <td>advert_open</td>\n",
       "      <td>cf7eda61-9349-469f-ac27-e5b6f5ec475c</td>\n",
       "    </tr>\n",
       "  </tbody>\n",
       "</table>\n",
       "</div>"
      ],
      "text/plain": [
       "                   event.time   event.name  \\\n",
       "0  2019-10-07 00:00:00.431357  advert_open   \n",
       "1  2019-10-07 00:00:01.236320    tips_show   \n",
       "2  2019-10-07 00:00:02.245341    tips_show   \n",
       "3  2019-10-07 00:00:07.039334    tips_show   \n",
       "4  2019-10-07 00:00:56.319813  advert_open   \n",
       "\n",
       "                                user.id  \n",
       "0  020292ab-89bc-4156-9acf-68bc2783f894  \n",
       "1  020292ab-89bc-4156-9acf-68bc2783f894  \n",
       "2  cf7eda61-9349-469f-ac27-e5b6f5ec475c  \n",
       "3  020292ab-89bc-4156-9acf-68bc2783f894  \n",
       "4  cf7eda61-9349-469f-ac27-e5b6f5ec475c  "
      ]
     },
     "execution_count": 3,
     "metadata": {},
     "output_type": "execute_result"
    }
   ],
   "source": [
    "data.head()"
   ]
  },
  {
   "cell_type": "code",
   "execution_count": 4,
   "id": "9053bc34",
   "metadata": {},
   "outputs": [
    {
     "name": "stdout",
     "output_type": "stream",
     "text": [
      "<class 'pandas.core.frame.DataFrame'>\n",
      "RangeIndex: 74197 entries, 0 to 74196\n",
      "Data columns (total 3 columns):\n",
      " #   Column      Non-Null Count  Dtype \n",
      "---  ------      --------------  ----- \n",
      " 0   event.time  74197 non-null  object\n",
      " 1   event.name  74197 non-null  object\n",
      " 2   user.id     74197 non-null  object\n",
      "dtypes: object(3)\n",
      "memory usage: 1.7+ MB\n"
     ]
    }
   ],
   "source": [
    "data.info()"
   ]
  },
  {
   "cell_type": "code",
   "execution_count": 5,
   "id": "01c4f9c8",
   "metadata": {},
   "outputs": [
    {
     "data": {
      "text/html": [
       "<div>\n",
       "<style scoped>\n",
       "    .dataframe tbody tr th:only-of-type {\n",
       "        vertical-align: middle;\n",
       "    }\n",
       "\n",
       "    .dataframe tbody tr th {\n",
       "        vertical-align: top;\n",
       "    }\n",
       "\n",
       "    .dataframe thead th {\n",
       "        text-align: right;\n",
       "    }\n",
       "</style>\n",
       "<table border=\"1\" class=\"dataframe\">\n",
       "  <thead>\n",
       "    <tr style=\"text-align: right;\">\n",
       "      <th></th>\n",
       "      <th>userId</th>\n",
       "      <th>source</th>\n",
       "    </tr>\n",
       "  </thead>\n",
       "  <tbody>\n",
       "    <tr>\n",
       "      <th>0</th>\n",
       "      <td>020292ab-89bc-4156-9acf-68bc2783f894</td>\n",
       "      <td>other</td>\n",
       "    </tr>\n",
       "    <tr>\n",
       "      <th>1</th>\n",
       "      <td>cf7eda61-9349-469f-ac27-e5b6f5ec475c</td>\n",
       "      <td>yandex</td>\n",
       "    </tr>\n",
       "    <tr>\n",
       "      <th>2</th>\n",
       "      <td>8c356c42-3ba9-4cb6-80b8-3f868d0192c3</td>\n",
       "      <td>yandex</td>\n",
       "    </tr>\n",
       "    <tr>\n",
       "      <th>3</th>\n",
       "      <td>d9b06b47-0f36-419b-bbb0-3533e582a6cb</td>\n",
       "      <td>other</td>\n",
       "    </tr>\n",
       "    <tr>\n",
       "      <th>4</th>\n",
       "      <td>f32e1e2a-3027-4693-b793-b7b3ff274439</td>\n",
       "      <td>google</td>\n",
       "    </tr>\n",
       "  </tbody>\n",
       "</table>\n",
       "</div>"
      ],
      "text/plain": [
       "                                 userId  source\n",
       "0  020292ab-89bc-4156-9acf-68bc2783f894   other\n",
       "1  cf7eda61-9349-469f-ac27-e5b6f5ec475c  yandex\n",
       "2  8c356c42-3ba9-4cb6-80b8-3f868d0192c3  yandex\n",
       "3  d9b06b47-0f36-419b-bbb0-3533e582a6cb   other\n",
       "4  f32e1e2a-3027-4693-b793-b7b3ff274439  google"
      ]
     },
     "execution_count": 5,
     "metadata": {},
     "output_type": "execute_result"
    }
   ],
   "source": [
    "sources.head()"
   ]
  },
  {
   "cell_type": "code",
   "execution_count": 6,
   "id": "fa566417",
   "metadata": {},
   "outputs": [
    {
     "name": "stdout",
     "output_type": "stream",
     "text": [
      "<class 'pandas.core.frame.DataFrame'>\n",
      "RangeIndex: 4293 entries, 0 to 4292\n",
      "Data columns (total 2 columns):\n",
      " #   Column  Non-Null Count  Dtype \n",
      "---  ------  --------------  ----- \n",
      " 0   userId  4293 non-null   object\n",
      " 1   source  4293 non-null   object\n",
      "dtypes: object(2)\n",
      "memory usage: 67.2+ KB\n"
     ]
    }
   ],
   "source": [
    "sources.info()"
   ]
  },
  {
   "cell_type": "markdown",
   "id": "496c91a1",
   "metadata": {},
   "source": [
    "## Предобработка данных"
   ]
  },
  {
   "cell_type": "markdown",
   "id": "e5558286",
   "metadata": {},
   "source": [
    "### Работа с названиями колонок"
   ]
  },
  {
   "cell_type": "code",
   "execution_count": 7,
   "id": "46adf10f",
   "metadata": {},
   "outputs": [
    {
     "data": {
      "text/plain": [
       "Index(['event_time', 'event_name', 'user_id'], dtype='object')"
      ]
     },
     "execution_count": 7,
     "metadata": {},
     "output_type": "execute_result"
    }
   ],
   "source": [
    "data.columns = [x.replace('.', '_') for x in data.columns]\n",
    "data.columns"
   ]
  },
  {
   "cell_type": "code",
   "execution_count": 8,
   "id": "86e1abed",
   "metadata": {},
   "outputs": [
    {
     "data": {
      "text/plain": [
       "Index(['user_id', 'source'], dtype='object')"
      ]
     },
     "execution_count": 8,
     "metadata": {},
     "output_type": "execute_result"
    }
   ],
   "source": [
    "sources.columns = ['user_id', 'source']\n",
    "sources.columns"
   ]
  },
  {
   "cell_type": "markdown",
   "id": "daa1072f",
   "metadata": {},
   "source": [
    "Произвели приведение названия колонок к \"змеиному\" регистру."
   ]
  },
  {
   "cell_type": "markdown",
   "id": "0c0a3a3c",
   "metadata": {},
   "source": [
    "### Проверка наличия пропусков"
   ]
  },
  {
   "cell_type": "code",
   "execution_count": 9,
   "id": "0009d88a",
   "metadata": {},
   "outputs": [
    {
     "data": {
      "text/plain": [
       "event_time    0\n",
       "event_name    0\n",
       "user_id       0\n",
       "dtype: int64"
      ]
     },
     "execution_count": 9,
     "metadata": {},
     "output_type": "execute_result"
    }
   ],
   "source": [
    "data.isna().sum()"
   ]
  },
  {
   "cell_type": "code",
   "execution_count": 10,
   "id": "9d8473e1",
   "metadata": {},
   "outputs": [
    {
     "data": {
      "text/plain": [
       "user_id    0\n",
       "source     0\n",
       "dtype: int64"
      ]
     },
     "execution_count": 10,
     "metadata": {},
     "output_type": "execute_result"
    }
   ],
   "source": [
    "sources.isna().sum()"
   ]
  },
  {
   "cell_type": "markdown",
   "id": "99771416",
   "metadata": {},
   "source": [
    "Пропусков в датафреймах нет, это радует."
   ]
  },
  {
   "cell_type": "markdown",
   "id": "8c255564",
   "metadata": {},
   "source": [
    "### Проверка на явные и неявные дубликаты"
   ]
  },
  {
   "cell_type": "code",
   "execution_count": 11,
   "id": "abf7aa0f",
   "metadata": {},
   "outputs": [
    {
     "data": {
      "text/plain": [
       "0"
      ]
     },
     "execution_count": 11,
     "metadata": {},
     "output_type": "execute_result"
    }
   ],
   "source": [
    "data.duplicated().sum()"
   ]
  },
  {
   "cell_type": "code",
   "execution_count": 12,
   "id": "789d6209",
   "metadata": {},
   "outputs": [
    {
     "data": {
      "text/plain": [
       "0"
      ]
     },
     "execution_count": 12,
     "metadata": {},
     "output_type": "execute_result"
    }
   ],
   "source": [
    "data.duplicated(['event_time', 'user_id'], keep=False).sum()"
   ]
  },
  {
   "cell_type": "code",
   "execution_count": 13,
   "id": "28469a3c",
   "metadata": {},
   "outputs": [
    {
     "data": {
      "text/plain": [
       "0"
      ]
     },
     "execution_count": 13,
     "metadata": {},
     "output_type": "execute_result"
    }
   ],
   "source": [
    "sources.duplicated().sum()"
   ]
  },
  {
   "cell_type": "markdown",
   "id": "613b06ff",
   "metadata": {},
   "source": [
    "Явные дубликаты и неявные отсутствуют в датасетах."
   ]
  },
  {
   "cell_type": "markdown",
   "id": "a1615875",
   "metadata": {},
   "source": [
    "### Изменение типов данных колонок"
   ]
  },
  {
   "cell_type": "code",
   "execution_count": 14,
   "id": "08f76514",
   "metadata": {},
   "outputs": [
    {
     "data": {
      "text/plain": [
       "event_time    object\n",
       "event_name    object\n",
       "user_id       object\n",
       "dtype: object"
      ]
     },
     "execution_count": 14,
     "metadata": {},
     "output_type": "execute_result"
    }
   ],
   "source": [
    "data.dtypes"
   ]
  },
  {
   "cell_type": "code",
   "execution_count": 15,
   "id": "80a347fb",
   "metadata": {},
   "outputs": [
    {
     "data": {
      "text/plain": [
       "event_time    datetime64[ns]\n",
       "event_name            object\n",
       "user_id               object\n",
       "dtype: object"
      ]
     },
     "execution_count": 15,
     "metadata": {},
     "output_type": "execute_result"
    }
   ],
   "source": [
    "data['event_time'] = pd.to_datetime(data['event_time'])\n",
    "data.dtypes"
   ]
  },
  {
   "cell_type": "code",
   "execution_count": 16,
   "id": "848d776a",
   "metadata": {},
   "outputs": [
    {
     "data": {
      "text/plain": [
       "user_id    object\n",
       "source     object\n",
       "dtype: object"
      ]
     },
     "execution_count": 16,
     "metadata": {},
     "output_type": "execute_result"
    }
   ],
   "source": [
    "sources.dtypes"
   ]
  },
  {
   "cell_type": "markdown",
   "id": "ff892ffa",
   "metadata": {},
   "source": [
    "Произвели преобразование временных данных в формат datetime для удобства работы с датами."
   ]
  },
  {
   "cell_type": "markdown",
   "id": "de82e255",
   "metadata": {},
   "source": [
    "### Изменим действие пользователей с show_contacts на contacts_show в датафрейме"
   ]
  },
  {
   "cell_type": "code",
   "execution_count": 17,
   "id": "7342b749",
   "metadata": {},
   "outputs": [
    {
     "data": {
      "text/plain": [
       "array(['advert_open', 'tips_show', 'map', 'contacts_show', 'search_4',\n",
       "       'search_5', 'tips_click', 'photos_show', 'search_1', 'search_2',\n",
       "       'search_3', 'favorites_add', 'contacts_call', 'search_6',\n",
       "       'search_7', 'show_contacts'], dtype=object)"
      ]
     },
     "execution_count": 17,
     "metadata": {},
     "output_type": "execute_result"
    }
   ],
   "source": [
    "data['event_name'].unique()"
   ]
  },
  {
   "cell_type": "code",
   "execution_count": 18,
   "id": "760729b6",
   "metadata": {},
   "outputs": [],
   "source": [
    "data['event_name'] = [row.replace('show_contacts', 'contacts_show') for row in data['event_name']]"
   ]
  },
  {
   "cell_type": "code",
   "execution_count": 19,
   "id": "7d11082e",
   "metadata": {},
   "outputs": [
    {
     "data": {
      "text/plain": [
       "array(['advert_open', 'tips_show', 'map', 'contacts_show', 'search_4',\n",
       "       'search_5', 'tips_click', 'photos_show', 'search_1', 'search_2',\n",
       "       'search_3', 'favorites_add', 'contacts_call', 'search_6',\n",
       "       'search_7'], dtype=object)"
      ]
     },
     "execution_count": 19,
     "metadata": {},
     "output_type": "execute_result"
    }
   ],
   "source": [
    "data['event_name'].unique()"
   ]
  },
  {
   "cell_type": "markdown",
   "id": "e8651fb4",
   "metadata": {},
   "source": [
    "Произвели замену show_contacts на contacts_show в датафрейме `data` так как это одно и тоже действие"
   ]
  },
  {
   "cell_type": "markdown",
   "id": "91ed8112",
   "metadata": {},
   "source": [
    "### Предварительный вывод по разделу"
   ]
  },
  {
   "cell_type": "markdown",
   "id": "a33f3435",
   "metadata": {},
   "source": [
    "1. В предоставленных данных отсутствуют пропуски, явные и неявные дубликаты;\n",
    "2. Произведено изменение названия колонок в общепризнанный \"змеиный\" регистр;\n",
    "3. Выполнена замена show_contacts на contacts_show в датафрейме, так как это является одним и тем же действием."
   ]
  },
  {
   "cell_type": "markdown",
   "id": "2fc1dffb",
   "metadata": {},
   "source": [
    "## Исследовательский анализ данных"
   ]
  },
  {
   "cell_type": "markdown",
   "id": "0024dcb4",
   "metadata": {},
   "source": [
    "### Количество уникальных записей в датасетах и их названия"
   ]
  },
  {
   "cell_type": "code",
   "execution_count": 20,
   "id": "4728f791",
   "metadata": {},
   "outputs": [
    {
     "name": "stdout",
     "output_type": "stream",
     "text": [
      "['advert_open' 'tips_show' 'map' 'contacts_show' 'search_4' 'search_5'\n",
      " 'tips_click' 'photos_show' 'search_1' 'search_2' 'search_3'\n",
      " 'favorites_add' 'contacts_call' 'search_6' 'search_7']\n",
      "----------------------------------------------------------------------\n",
      "кол-во уникальных действий пользователей равняется - 15\n"
     ]
    }
   ],
   "source": [
    "print(data['event_name'].unique())\n",
    "print('-'*70)\n",
    "print(\"кол-во уникальных действий пользователей равняется - {count_}\".format\\\n",
    "      (count_=data['event_name'].nunique()))"
   ]
  },
  {
   "cell_type": "code",
   "execution_count": 21,
   "id": "17e7c5b3",
   "metadata": {},
   "outputs": [
    {
     "name": "stdout",
     "output_type": "stream",
     "text": [
      "кол-во уникальных пользователей датафрейма data - 4293\n"
     ]
    }
   ],
   "source": [
    "print(\"кол-во уникальных пользователей датафрейма data - {user}\".format\\\n",
    "      (user=data['user_id'].nunique()))"
   ]
  },
  {
   "cell_type": "code",
   "execution_count": 22,
   "id": "7c9c218b",
   "metadata": {},
   "outputs": [
    {
     "name": "stdout",
     "output_type": "stream",
     "text": [
      "кол-во уникальных пользователей датафрейма sources - 4293\n"
     ]
    }
   ],
   "source": [
    "print(\"кол-во уникальных пользователей датафрейма sources - {user}\".format\\\n",
    "      (user=sources['user_id'].nunique()))"
   ]
  },
  {
   "cell_type": "code",
   "execution_count": 23,
   "id": "89111340",
   "metadata": {},
   "outputs": [
    {
     "name": "stdout",
     "output_type": "stream",
     "text": [
      "['other' 'yandex' 'google']\n",
      "------------------------------------------------------------\n",
      "кол-во уникальных источников датафрейма sources - 3\n"
     ]
    }
   ],
   "source": [
    "print(sources['source'].unique())\n",
    "print('-'*60)\n",
    "print(\"кол-во уникальных источников датафрейма sources - {source}\".format\\\n",
    "      (source=sources['source'].nunique()))"
   ]
  },
  {
   "cell_type": "markdown",
   "id": "c0323110",
   "metadata": {},
   "source": [
    "### Находим частоту совершения пользователями действий в приложении"
   ]
  },
  {
   "cell_type": "markdown",
   "id": "28be1547",
   "metadata": {},
   "source": [
    "Для начала выделим дату датафрейма `data` в отдельный столбец"
   ]
  },
  {
   "cell_type": "code",
   "execution_count": 24,
   "id": "5c3903aa",
   "metadata": {},
   "outputs": [
    {
     "data": {
      "text/html": [
       "<div>\n",
       "<style scoped>\n",
       "    .dataframe tbody tr th:only-of-type {\n",
       "        vertical-align: middle;\n",
       "    }\n",
       "\n",
       "    .dataframe tbody tr th {\n",
       "        vertical-align: top;\n",
       "    }\n",
       "\n",
       "    .dataframe thead th {\n",
       "        text-align: right;\n",
       "    }\n",
       "</style>\n",
       "<table border=\"1\" class=\"dataframe\">\n",
       "  <thead>\n",
       "    <tr style=\"text-align: right;\">\n",
       "      <th></th>\n",
       "      <th>event_time</th>\n",
       "      <th>event_name</th>\n",
       "      <th>user_id</th>\n",
       "      <th>dt</th>\n",
       "    </tr>\n",
       "  </thead>\n",
       "  <tbody>\n",
       "    <tr>\n",
       "      <th>0</th>\n",
       "      <td>2019-10-07 00:00:00.431357</td>\n",
       "      <td>advert_open</td>\n",
       "      <td>020292ab-89bc-4156-9acf-68bc2783f894</td>\n",
       "      <td>2019-10-07</td>\n",
       "    </tr>\n",
       "    <tr>\n",
       "      <th>1</th>\n",
       "      <td>2019-10-07 00:00:01.236320</td>\n",
       "      <td>tips_show</td>\n",
       "      <td>020292ab-89bc-4156-9acf-68bc2783f894</td>\n",
       "      <td>2019-10-07</td>\n",
       "    </tr>\n",
       "    <tr>\n",
       "      <th>2</th>\n",
       "      <td>2019-10-07 00:00:02.245341</td>\n",
       "      <td>tips_show</td>\n",
       "      <td>cf7eda61-9349-469f-ac27-e5b6f5ec475c</td>\n",
       "      <td>2019-10-07</td>\n",
       "    </tr>\n",
       "    <tr>\n",
       "      <th>3</th>\n",
       "      <td>2019-10-07 00:00:07.039334</td>\n",
       "      <td>tips_show</td>\n",
       "      <td>020292ab-89bc-4156-9acf-68bc2783f894</td>\n",
       "      <td>2019-10-07</td>\n",
       "    </tr>\n",
       "    <tr>\n",
       "      <th>4</th>\n",
       "      <td>2019-10-07 00:00:56.319813</td>\n",
       "      <td>advert_open</td>\n",
       "      <td>cf7eda61-9349-469f-ac27-e5b6f5ec475c</td>\n",
       "      <td>2019-10-07</td>\n",
       "    </tr>\n",
       "  </tbody>\n",
       "</table>\n",
       "</div>"
      ],
      "text/plain": [
       "                  event_time   event_name  \\\n",
       "0 2019-10-07 00:00:00.431357  advert_open   \n",
       "1 2019-10-07 00:00:01.236320    tips_show   \n",
       "2 2019-10-07 00:00:02.245341    tips_show   \n",
       "3 2019-10-07 00:00:07.039334    tips_show   \n",
       "4 2019-10-07 00:00:56.319813  advert_open   \n",
       "\n",
       "                                user_id          dt  \n",
       "0  020292ab-89bc-4156-9acf-68bc2783f894  2019-10-07  \n",
       "1  020292ab-89bc-4156-9acf-68bc2783f894  2019-10-07  \n",
       "2  cf7eda61-9349-469f-ac27-e5b6f5ec475c  2019-10-07  \n",
       "3  020292ab-89bc-4156-9acf-68bc2783f894  2019-10-07  \n",
       "4  cf7eda61-9349-469f-ac27-e5b6f5ec475c  2019-10-07  "
      ]
     },
     "execution_count": 24,
     "metadata": {},
     "output_type": "execute_result"
    }
   ],
   "source": [
    "data['dt'] = data['event_time'].dt.date\n",
    "data.head()"
   ]
  },
  {
   "cell_type": "markdown",
   "id": "6b66f912",
   "metadata": {},
   "source": [
    "Следующим шагом создадим сводную таблицу, в которой по датам и по названию действий пользователей будет посчитано их общее кол-во совершенного действия в ту или иную дату"
   ]
  },
  {
   "cell_type": "code",
   "execution_count": 25,
   "id": "e7fc3cae",
   "metadata": {},
   "outputs": [
    {
     "data": {
      "text/html": [
       "<div>\n",
       "<style scoped>\n",
       "    .dataframe tbody tr th:only-of-type {\n",
       "        vertical-align: middle;\n",
       "    }\n",
       "\n",
       "    .dataframe tbody tr th {\n",
       "        vertical-align: top;\n",
       "    }\n",
       "\n",
       "    .dataframe thead th {\n",
       "        text-align: right;\n",
       "    }\n",
       "</style>\n",
       "<table border=\"1\" class=\"dataframe\">\n",
       "  <thead>\n",
       "    <tr style=\"text-align: right;\">\n",
       "      <th>event_name</th>\n",
       "      <th>advert_open</th>\n",
       "      <th>contacts_call</th>\n",
       "      <th>contacts_show</th>\n",
       "      <th>favorites_add</th>\n",
       "      <th>map</th>\n",
       "      <th>photos_show</th>\n",
       "      <th>search_1</th>\n",
       "      <th>search_2</th>\n",
       "      <th>search_3</th>\n",
       "      <th>search_4</th>\n",
       "      <th>search_5</th>\n",
       "      <th>search_6</th>\n",
       "      <th>search_7</th>\n",
       "      <th>tips_click</th>\n",
       "      <th>tips_show</th>\n",
       "    </tr>\n",
       "    <tr>\n",
       "      <th>dt</th>\n",
       "      <th></th>\n",
       "      <th></th>\n",
       "      <th></th>\n",
       "      <th></th>\n",
       "      <th></th>\n",
       "      <th></th>\n",
       "      <th></th>\n",
       "      <th></th>\n",
       "      <th></th>\n",
       "      <th></th>\n",
       "      <th></th>\n",
       "      <th></th>\n",
       "      <th></th>\n",
       "      <th></th>\n",
       "      <th></th>\n",
       "    </tr>\n",
       "  </thead>\n",
       "  <tbody>\n",
       "    <tr>\n",
       "      <th>2019-10-07</th>\n",
       "      <td>401</td>\n",
       "      <td>7</td>\n",
       "      <td>61</td>\n",
       "      <td>40</td>\n",
       "      <td>168</td>\n",
       "      <td>230</td>\n",
       "      <td>52</td>\n",
       "      <td>8</td>\n",
       "      <td>11</td>\n",
       "      <td>17</td>\n",
       "      <td>26</td>\n",
       "      <td>9</td>\n",
       "      <td>4</td>\n",
       "      <td>27</td>\n",
       "      <td>1484</td>\n",
       "    </tr>\n",
       "    <tr>\n",
       "      <th>2019-10-08</th>\n",
       "      <td>206</td>\n",
       "      <td>23</td>\n",
       "      <td>119</td>\n",
       "      <td>97</td>\n",
       "      <td>261</td>\n",
       "      <td>239</td>\n",
       "      <td>79</td>\n",
       "      <td>10</td>\n",
       "      <td>18</td>\n",
       "      <td>31</td>\n",
       "      <td>42</td>\n",
       "      <td>20</td>\n",
       "      <td>12</td>\n",
       "      <td>26</td>\n",
       "      <td>1316</td>\n",
       "    </tr>\n",
       "    <tr>\n",
       "      <th>2019-10-09</th>\n",
       "      <td>130</td>\n",
       "      <td>10</td>\n",
       "      <td>99</td>\n",
       "      <td>43</td>\n",
       "      <td>133</td>\n",
       "      <td>235</td>\n",
       "      <td>99</td>\n",
       "      <td>7</td>\n",
       "      <td>12</td>\n",
       "      <td>18</td>\n",
       "      <td>27</td>\n",
       "      <td>11</td>\n",
       "      <td>4</td>\n",
       "      <td>17</td>\n",
       "      <td>1182</td>\n",
       "    </tr>\n",
       "    <tr>\n",
       "      <th>2019-10-10</th>\n",
       "      <td>105</td>\n",
       "      <td>19</td>\n",
       "      <td>106</td>\n",
       "      <td>30</td>\n",
       "      <td>163</td>\n",
       "      <td>218</td>\n",
       "      <td>67</td>\n",
       "      <td>10</td>\n",
       "      <td>14</td>\n",
       "      <td>22</td>\n",
       "      <td>44</td>\n",
       "      <td>18</td>\n",
       "      <td>10</td>\n",
       "      <td>27</td>\n",
       "      <td>1390</td>\n",
       "    </tr>\n",
       "    <tr>\n",
       "      <th>2019-10-11</th>\n",
       "      <td>109</td>\n",
       "      <td>6</td>\n",
       "      <td>88</td>\n",
       "      <td>16</td>\n",
       "      <td>108</td>\n",
       "      <td>381</td>\n",
       "      <td>90</td>\n",
       "      <td>18</td>\n",
       "      <td>12</td>\n",
       "      <td>21</td>\n",
       "      <td>43</td>\n",
       "      <td>14</td>\n",
       "      <td>4</td>\n",
       "      <td>17</td>\n",
       "      <td>1103</td>\n",
       "    </tr>\n",
       "    <tr>\n",
       "      <th>2019-10-12</th>\n",
       "      <td>141</td>\n",
       "      <td>10</td>\n",
       "      <td>54</td>\n",
       "      <td>37</td>\n",
       "      <td>112</td>\n",
       "      <td>302</td>\n",
       "      <td>87</td>\n",
       "      <td>11</td>\n",
       "      <td>12</td>\n",
       "      <td>16</td>\n",
       "      <td>29</td>\n",
       "      <td>13</td>\n",
       "      <td>5</td>\n",
       "      <td>17</td>\n",
       "      <td>997</td>\n",
       "    </tr>\n",
       "    <tr>\n",
       "      <th>2019-10-13</th>\n",
       "      <td>286</td>\n",
       "      <td>4</td>\n",
       "      <td>107</td>\n",
       "      <td>44</td>\n",
       "      <td>152</td>\n",
       "      <td>373</td>\n",
       "      <td>77</td>\n",
       "      <td>16</td>\n",
       "      <td>23</td>\n",
       "      <td>25</td>\n",
       "      <td>34</td>\n",
       "      <td>14</td>\n",
       "      <td>5</td>\n",
       "      <td>11</td>\n",
       "      <td>1464</td>\n",
       "    </tr>\n",
       "    <tr>\n",
       "      <th>2019-10-14</th>\n",
       "      <td>166</td>\n",
       "      <td>20</td>\n",
       "      <td>212</td>\n",
       "      <td>49</td>\n",
       "      <td>179</td>\n",
       "      <td>324</td>\n",
       "      <td>112</td>\n",
       "      <td>11</td>\n",
       "      <td>20</td>\n",
       "      <td>25</td>\n",
       "      <td>42</td>\n",
       "      <td>16</td>\n",
       "      <td>12</td>\n",
       "      <td>43</td>\n",
       "      <td>1803</td>\n",
       "    </tr>\n",
       "    <tr>\n",
       "      <th>2019-10-15</th>\n",
       "      <td>297</td>\n",
       "      <td>32</td>\n",
       "      <td>212</td>\n",
       "      <td>63</td>\n",
       "      <td>148</td>\n",
       "      <td>344</td>\n",
       "      <td>118</td>\n",
       "      <td>13</td>\n",
       "      <td>10</td>\n",
       "      <td>27</td>\n",
       "      <td>37</td>\n",
       "      <td>20</td>\n",
       "      <td>16</td>\n",
       "      <td>25</td>\n",
       "      <td>1360</td>\n",
       "    </tr>\n",
       "    <tr>\n",
       "      <th>2019-10-16</th>\n",
       "      <td>254</td>\n",
       "      <td>17</td>\n",
       "      <td>187</td>\n",
       "      <td>21</td>\n",
       "      <td>148</td>\n",
       "      <td>279</td>\n",
       "      <td>113</td>\n",
       "      <td>15</td>\n",
       "      <td>21</td>\n",
       "      <td>25</td>\n",
       "      <td>40</td>\n",
       "      <td>15</td>\n",
       "      <td>10</td>\n",
       "      <td>20</td>\n",
       "      <td>1565</td>\n",
       "    </tr>\n",
       "    <tr>\n",
       "      <th>2019-10-17</th>\n",
       "      <td>164</td>\n",
       "      <td>35</td>\n",
       "      <td>265</td>\n",
       "      <td>56</td>\n",
       "      <td>160</td>\n",
       "      <td>347</td>\n",
       "      <td>99</td>\n",
       "      <td>8</td>\n",
       "      <td>9</td>\n",
       "      <td>18</td>\n",
       "      <td>33</td>\n",
       "      <td>13</td>\n",
       "      <td>7</td>\n",
       "      <td>42</td>\n",
       "      <td>1362</td>\n",
       "    </tr>\n",
       "    <tr>\n",
       "      <th>2019-10-18</th>\n",
       "      <td>186</td>\n",
       "      <td>16</td>\n",
       "      <td>166</td>\n",
       "      <td>35</td>\n",
       "      <td>127</td>\n",
       "      <td>333</td>\n",
       "      <td>137</td>\n",
       "      <td>10</td>\n",
       "      <td>38</td>\n",
       "      <td>25</td>\n",
       "      <td>33</td>\n",
       "      <td>18</td>\n",
       "      <td>7</td>\n",
       "      <td>37</td>\n",
       "      <td>1576</td>\n",
       "    </tr>\n",
       "    <tr>\n",
       "      <th>2019-10-19</th>\n",
       "      <td>191</td>\n",
       "      <td>20</td>\n",
       "      <td>90</td>\n",
       "      <td>42</td>\n",
       "      <td>122</td>\n",
       "      <td>454</td>\n",
       "      <td>141</td>\n",
       "      <td>8</td>\n",
       "      <td>6</td>\n",
       "      <td>24</td>\n",
       "      <td>32</td>\n",
       "      <td>17</td>\n",
       "      <td>3</td>\n",
       "      <td>9</td>\n",
       "      <td>1172</td>\n",
       "    </tr>\n",
       "    <tr>\n",
       "      <th>2019-10-20</th>\n",
       "      <td>132</td>\n",
       "      <td>30</td>\n",
       "      <td>183</td>\n",
       "      <td>50</td>\n",
       "      <td>131</td>\n",
       "      <td>405</td>\n",
       "      <td>145</td>\n",
       "      <td>7</td>\n",
       "      <td>13</td>\n",
       "      <td>20</td>\n",
       "      <td>24</td>\n",
       "      <td>10</td>\n",
       "      <td>4</td>\n",
       "      <td>26</td>\n",
       "      <td>964</td>\n",
       "    </tr>\n",
       "    <tr>\n",
       "      <th>2019-10-21</th>\n",
       "      <td>249</td>\n",
       "      <td>15</td>\n",
       "      <td>175</td>\n",
       "      <td>35</td>\n",
       "      <td>263</td>\n",
       "      <td>316</td>\n",
       "      <td>137</td>\n",
       "      <td>9</td>\n",
       "      <td>29</td>\n",
       "      <td>26</td>\n",
       "      <td>36</td>\n",
       "      <td>19</td>\n",
       "      <td>12</td>\n",
       "      <td>29</td>\n",
       "      <td>1558</td>\n",
       "    </tr>\n",
       "    <tr>\n",
       "      <th>2019-10-22</th>\n",
       "      <td>164</td>\n",
       "      <td>19</td>\n",
       "      <td>215</td>\n",
       "      <td>67</td>\n",
       "      <td>149</td>\n",
       "      <td>358</td>\n",
       "      <td>169</td>\n",
       "      <td>12</td>\n",
       "      <td>17</td>\n",
       "      <td>28</td>\n",
       "      <td>36</td>\n",
       "      <td>12</td>\n",
       "      <td>9</td>\n",
       "      <td>25</td>\n",
       "      <td>1448</td>\n",
       "    </tr>\n",
       "    <tr>\n",
       "      <th>2019-10-23</th>\n",
       "      <td>224</td>\n",
       "      <td>22</td>\n",
       "      <td>239</td>\n",
       "      <td>55</td>\n",
       "      <td>196</td>\n",
       "      <td>502</td>\n",
       "      <td>167</td>\n",
       "      <td>7</td>\n",
       "      <td>27</td>\n",
       "      <td>25</td>\n",
       "      <td>30</td>\n",
       "      <td>15</td>\n",
       "      <td>7</td>\n",
       "      <td>37</td>\n",
       "      <td>1808</td>\n",
       "    </tr>\n",
       "    <tr>\n",
       "      <th>2019-10-24</th>\n",
       "      <td>244</td>\n",
       "      <td>35</td>\n",
       "      <td>220</td>\n",
       "      <td>68</td>\n",
       "      <td>163</td>\n",
       "      <td>378</td>\n",
       "      <td>144</td>\n",
       "      <td>14</td>\n",
       "      <td>22</td>\n",
       "      <td>37</td>\n",
       "      <td>47</td>\n",
       "      <td>20</td>\n",
       "      <td>6</td>\n",
       "      <td>28</td>\n",
       "      <td>1607</td>\n",
       "    </tr>\n",
       "    <tr>\n",
       "      <th>2019-10-25</th>\n",
       "      <td>215</td>\n",
       "      <td>19</td>\n",
       "      <td>188</td>\n",
       "      <td>51</td>\n",
       "      <td>119</td>\n",
       "      <td>352</td>\n",
       "      <td>125</td>\n",
       "      <td>13</td>\n",
       "      <td>14</td>\n",
       "      <td>35</td>\n",
       "      <td>45</td>\n",
       "      <td>13</td>\n",
       "      <td>8</td>\n",
       "      <td>25</td>\n",
       "      <td>1396</td>\n",
       "    </tr>\n",
       "    <tr>\n",
       "      <th>2019-10-26</th>\n",
       "      <td>274</td>\n",
       "      <td>19</td>\n",
       "      <td>181</td>\n",
       "      <td>38</td>\n",
       "      <td>141</td>\n",
       "      <td>577</td>\n",
       "      <td>178</td>\n",
       "      <td>12</td>\n",
       "      <td>21</td>\n",
       "      <td>28</td>\n",
       "      <td>43</td>\n",
       "      <td>23</td>\n",
       "      <td>12</td>\n",
       "      <td>43</td>\n",
       "      <td>1537</td>\n",
       "    </tr>\n",
       "    <tr>\n",
       "      <th>2019-10-27</th>\n",
       "      <td>287</td>\n",
       "      <td>16</td>\n",
       "      <td>101</td>\n",
       "      <td>70</td>\n",
       "      <td>123</td>\n",
       "      <td>507</td>\n",
       "      <td>153</td>\n",
       "      <td>12</td>\n",
       "      <td>21</td>\n",
       "      <td>27</td>\n",
       "      <td>38</td>\n",
       "      <td>15</td>\n",
       "      <td>2</td>\n",
       "      <td>53</td>\n",
       "      <td>1436</td>\n",
       "    </tr>\n",
       "    <tr>\n",
       "      <th>2019-10-28</th>\n",
       "      <td>305</td>\n",
       "      <td>31</td>\n",
       "      <td>198</td>\n",
       "      <td>18</td>\n",
       "      <td>226</td>\n",
       "      <td>332</td>\n",
       "      <td>129</td>\n",
       "      <td>23</td>\n",
       "      <td>36</td>\n",
       "      <td>34</td>\n",
       "      <td>60</td>\n",
       "      <td>21</td>\n",
       "      <td>12</td>\n",
       "      <td>48</td>\n",
       "      <td>1711</td>\n",
       "    </tr>\n",
       "    <tr>\n",
       "      <th>2019-10-29</th>\n",
       "      <td>285</td>\n",
       "      <td>12</td>\n",
       "      <td>162</td>\n",
       "      <td>76</td>\n",
       "      <td>84</td>\n",
       "      <td>375</td>\n",
       "      <td>222</td>\n",
       "      <td>9</td>\n",
       "      <td>19</td>\n",
       "      <td>33</td>\n",
       "      <td>50</td>\n",
       "      <td>19</td>\n",
       "      <td>18</td>\n",
       "      <td>37</td>\n",
       "      <td>1795</td>\n",
       "    </tr>\n",
       "    <tr>\n",
       "      <th>2019-10-30</th>\n",
       "      <td>237</td>\n",
       "      <td>25</td>\n",
       "      <td>190</td>\n",
       "      <td>120</td>\n",
       "      <td>68</td>\n",
       "      <td>313</td>\n",
       "      <td>154</td>\n",
       "      <td>18</td>\n",
       "      <td>17</td>\n",
       "      <td>25</td>\n",
       "      <td>43</td>\n",
       "      <td>27</td>\n",
       "      <td>8</td>\n",
       "      <td>37</td>\n",
       "      <td>1595</td>\n",
       "    </tr>\n",
       "    <tr>\n",
       "      <th>2019-10-31</th>\n",
       "      <td>270</td>\n",
       "      <td>29</td>\n",
       "      <td>234</td>\n",
       "      <td>37</td>\n",
       "      <td>61</td>\n",
       "      <td>348</td>\n",
       "      <td>109</td>\n",
       "      <td>18</td>\n",
       "      <td>20</td>\n",
       "      <td>33</td>\n",
       "      <td>40</td>\n",
       "      <td>18</td>\n",
       "      <td>9</td>\n",
       "      <td>23</td>\n",
       "      <td>1619</td>\n",
       "    </tr>\n",
       "    <tr>\n",
       "      <th>2019-11-01</th>\n",
       "      <td>228</td>\n",
       "      <td>12</td>\n",
       "      <td>223</td>\n",
       "      <td>40</td>\n",
       "      <td>72</td>\n",
       "      <td>305</td>\n",
       "      <td>125</td>\n",
       "      <td>6</td>\n",
       "      <td>18</td>\n",
       "      <td>18</td>\n",
       "      <td>27</td>\n",
       "      <td>16</td>\n",
       "      <td>6</td>\n",
       "      <td>43</td>\n",
       "      <td>1438</td>\n",
       "    </tr>\n",
       "    <tr>\n",
       "      <th>2019-11-02</th>\n",
       "      <td>88</td>\n",
       "      <td>18</td>\n",
       "      <td>122</td>\n",
       "      <td>44</td>\n",
       "      <td>39</td>\n",
       "      <td>331</td>\n",
       "      <td>130</td>\n",
       "      <td>7</td>\n",
       "      <td>9</td>\n",
       "      <td>16</td>\n",
       "      <td>30</td>\n",
       "      <td>13</td>\n",
       "      <td>5</td>\n",
       "      <td>14</td>\n",
       "      <td>987</td>\n",
       "    </tr>\n",
       "    <tr>\n",
       "      <th>2019-11-03</th>\n",
       "      <td>326</td>\n",
       "      <td>20</td>\n",
       "      <td>132</td>\n",
       "      <td>75</td>\n",
       "      <td>65</td>\n",
       "      <td>554</td>\n",
       "      <td>148</td>\n",
       "      <td>12</td>\n",
       "      <td>33</td>\n",
       "      <td>22</td>\n",
       "      <td>38</td>\n",
       "      <td>21</td>\n",
       "      <td>5</td>\n",
       "      <td>28</td>\n",
       "      <td>1382</td>\n",
       "    </tr>\n",
       "  </tbody>\n",
       "</table>\n",
       "</div>"
      ],
      "text/plain": [
       "event_name  advert_open  contacts_call  contacts_show  favorites_add  map  \\\n",
       "dt                                                                          \n",
       "2019-10-07          401              7             61             40  168   \n",
       "2019-10-08          206             23            119             97  261   \n",
       "2019-10-09          130             10             99             43  133   \n",
       "2019-10-10          105             19            106             30  163   \n",
       "2019-10-11          109              6             88             16  108   \n",
       "2019-10-12          141             10             54             37  112   \n",
       "2019-10-13          286              4            107             44  152   \n",
       "2019-10-14          166             20            212             49  179   \n",
       "2019-10-15          297             32            212             63  148   \n",
       "2019-10-16          254             17            187             21  148   \n",
       "2019-10-17          164             35            265             56  160   \n",
       "2019-10-18          186             16            166             35  127   \n",
       "2019-10-19          191             20             90             42  122   \n",
       "2019-10-20          132             30            183             50  131   \n",
       "2019-10-21          249             15            175             35  263   \n",
       "2019-10-22          164             19            215             67  149   \n",
       "2019-10-23          224             22            239             55  196   \n",
       "2019-10-24          244             35            220             68  163   \n",
       "2019-10-25          215             19            188             51  119   \n",
       "2019-10-26          274             19            181             38  141   \n",
       "2019-10-27          287             16            101             70  123   \n",
       "2019-10-28          305             31            198             18  226   \n",
       "2019-10-29          285             12            162             76   84   \n",
       "2019-10-30          237             25            190            120   68   \n",
       "2019-10-31          270             29            234             37   61   \n",
       "2019-11-01          228             12            223             40   72   \n",
       "2019-11-02           88             18            122             44   39   \n",
       "2019-11-03          326             20            132             75   65   \n",
       "\n",
       "event_name  photos_show  search_1  search_2  search_3  search_4  search_5  \\\n",
       "dt                                                                          \n",
       "2019-10-07          230        52         8        11        17        26   \n",
       "2019-10-08          239        79        10        18        31        42   \n",
       "2019-10-09          235        99         7        12        18        27   \n",
       "2019-10-10          218        67        10        14        22        44   \n",
       "2019-10-11          381        90        18        12        21        43   \n",
       "2019-10-12          302        87        11        12        16        29   \n",
       "2019-10-13          373        77        16        23        25        34   \n",
       "2019-10-14          324       112        11        20        25        42   \n",
       "2019-10-15          344       118        13        10        27        37   \n",
       "2019-10-16          279       113        15        21        25        40   \n",
       "2019-10-17          347        99         8         9        18        33   \n",
       "2019-10-18          333       137        10        38        25        33   \n",
       "2019-10-19          454       141         8         6        24        32   \n",
       "2019-10-20          405       145         7        13        20        24   \n",
       "2019-10-21          316       137         9        29        26        36   \n",
       "2019-10-22          358       169        12        17        28        36   \n",
       "2019-10-23          502       167         7        27        25        30   \n",
       "2019-10-24          378       144        14        22        37        47   \n",
       "2019-10-25          352       125        13        14        35        45   \n",
       "2019-10-26          577       178        12        21        28        43   \n",
       "2019-10-27          507       153        12        21        27        38   \n",
       "2019-10-28          332       129        23        36        34        60   \n",
       "2019-10-29          375       222         9        19        33        50   \n",
       "2019-10-30          313       154        18        17        25        43   \n",
       "2019-10-31          348       109        18        20        33        40   \n",
       "2019-11-01          305       125         6        18        18        27   \n",
       "2019-11-02          331       130         7         9        16        30   \n",
       "2019-11-03          554       148        12        33        22        38   \n",
       "\n",
       "event_name  search_6  search_7  tips_click  tips_show  \n",
       "dt                                                     \n",
       "2019-10-07         9         4          27       1484  \n",
       "2019-10-08        20        12          26       1316  \n",
       "2019-10-09        11         4          17       1182  \n",
       "2019-10-10        18        10          27       1390  \n",
       "2019-10-11        14         4          17       1103  \n",
       "2019-10-12        13         5          17        997  \n",
       "2019-10-13        14         5          11       1464  \n",
       "2019-10-14        16        12          43       1803  \n",
       "2019-10-15        20        16          25       1360  \n",
       "2019-10-16        15        10          20       1565  \n",
       "2019-10-17        13         7          42       1362  \n",
       "2019-10-18        18         7          37       1576  \n",
       "2019-10-19        17         3           9       1172  \n",
       "2019-10-20        10         4          26        964  \n",
       "2019-10-21        19        12          29       1558  \n",
       "2019-10-22        12         9          25       1448  \n",
       "2019-10-23        15         7          37       1808  \n",
       "2019-10-24        20         6          28       1607  \n",
       "2019-10-25        13         8          25       1396  \n",
       "2019-10-26        23        12          43       1537  \n",
       "2019-10-27        15         2          53       1436  \n",
       "2019-10-28        21        12          48       1711  \n",
       "2019-10-29        19        18          37       1795  \n",
       "2019-10-30        27         8          37       1595  \n",
       "2019-10-31        18         9          23       1619  \n",
       "2019-11-01        16         6          43       1438  \n",
       "2019-11-02        13         5          14        987  \n",
       "2019-11-03        21         5          28       1382  "
      ]
     },
     "execution_count": 25,
     "metadata": {},
     "output_type": "execute_result"
    }
   ],
   "source": [
    "user_id_count_pivot_dt = data.pivot_table(index='dt', \n",
    "                                          columns='event_name', \n",
    "                                          values='user_id', \n",
    "                                          aggfunc='count')\n",
    "user_id_count_pivot_dt"
   ]
  },
  {
   "cell_type": "markdown",
   "id": "86b73e17",
   "metadata": {},
   "source": [
    "Визуализируем полученную выше сводную таблицу, только для лучшей читабельности сделаем срез и исключим все действия, связанные с поисками (search_1...search_7)"
   ]
  },
  {
   "cell_type": "code",
   "execution_count": 26,
   "id": "617a7d1f",
   "metadata": {},
   "outputs": [],
   "source": [
    "mask = list(user_id_count_pivot_dt.columns)[0:6] + list(user_id_count_pivot_dt.columns)[-2:]"
   ]
  },
  {
   "cell_type": "code",
   "execution_count": 27,
   "id": "97f34410",
   "metadata": {},
   "outputs": [
    {
     "data": {
      "image/png": "[encoded data removed]",
      "text/plain": [
       "<Figure size 1200x900 with 2 Axes>"
      ]
     },
     "metadata": {},
     "output_type": "display_data"
    }
   ],
   "source": [
    "plt.figure(figsize=(12, 9))\n",
    "\n",
    "sns.heatmap(user_id_count_pivot_dt[mask], cmap=\"magma_r\")\n",
    "plt.title('Частота совершения пользователями действий в приложении')\n",
    "plt.ylabel(None)\n",
    "plt.xlabel('действия пользователей')\n",
    "plt.show()"
   ]
  },
  {
   "cell_type": "markdown",
   "id": "f7f81f28",
   "metadata": {},
   "source": [
    "- На представленной тепловой карте видно, что ***tips_show — увидел рекомендованные объявления*** является самым частым действием пользователей, но стоит обратить внимание на то, что ***tips_click — кликнул по рекомендованному объявлению*** имеет гораздо меньшие значения действий, а значит стоит на это обратить внимание, так как возможно есть проблема в приложении, что многие пользователи не хотят или **не могут кликнуть на рекомендованное объявление**.\n",
    "- Действие ***photos_show — просмотрел фотографий в объявлении*** является вторым по популярности у пользователей;\n",
    "- Действие ***advert_open — открыл карточки объявления*** судя по всему является третим по популярности у пользователей;\n",
    "- Целевое действие ***contacts_show — посмотрел номер телефона*** является четвёртым по популярности у пользователей."
   ]
  },
  {
   "cell_type": "markdown",
   "id": "f5f9c1d7",
   "metadata": {},
   "source": [
    "Дополнительно посмотрим какие события и с какой частотой совершают пользователи по дням недели. Для этого создадим колонку в датафрейме с днём недели - `weekday` и извлечём из предоставленных дат дни недели."
   ]
  },
  {
   "cell_type": "code",
   "execution_count": 28,
   "id": "8e3fb4fe",
   "metadata": {},
   "outputs": [],
   "source": [
    "data['weekday'] = data['event_time'].dt.weekday.astype('int')"
   ]
  },
  {
   "cell_type": "markdown",
   "id": "17e37aa7",
   "metadata": {},
   "source": [
    "Напишем функцию, которая вернёт привычные названия дней недели"
   ]
  },
  {
   "cell_type": "code",
   "execution_count": 29,
   "id": "1e18b495",
   "metadata": {},
   "outputs": [],
   "source": [
    "def weekday_norm (col):\n",
    "    if col==0:\n",
    "        return 'понедельник'\n",
    "    if col==1:\n",
    "        return 'вторник'\n",
    "    if col==2:\n",
    "        return 'среда'\n",
    "    if col==3:\n",
    "        return 'четверг'\n",
    "    if col==4:\n",
    "        return 'пятница'\n",
    "    if col==5:\n",
    "        return 'суббота'\n",
    "    return 'воскресенье'"
   ]
  },
  {
   "cell_type": "code",
   "execution_count": 30,
   "id": "7f1123d4",
   "metadata": {},
   "outputs": [
    {
     "data": {
      "text/plain": [
       "array(['понедельник', 'вторник', 'среда', 'четверг', 'пятница', 'суббота',\n",
       "       'воскресенье'], dtype=object)"
      ]
     },
     "execution_count": 30,
     "metadata": {},
     "output_type": "execute_result"
    }
   ],
   "source": [
    "data['weekday'] = data['weekday'].apply(weekday_norm)\n",
    "data['weekday'].unique()"
   ]
  },
  {
   "cell_type": "markdown",
   "id": "30d35d10",
   "metadata": {},
   "source": [
    "Теперь сделаем сводную таблицу по дням недели и по совершённым событиям пользователей в эти дни"
   ]
  },
  {
   "cell_type": "code",
   "execution_count": 31,
   "id": "06082298",
   "metadata": {},
   "outputs": [
    {
     "data": {
      "text/html": [
       "<div>\n",
       "<style scoped>\n",
       "    .dataframe tbody tr th:only-of-type {\n",
       "        vertical-align: middle;\n",
       "    }\n",
       "\n",
       "    .dataframe tbody tr th {\n",
       "        vertical-align: top;\n",
       "    }\n",
       "\n",
       "    .dataframe thead th {\n",
       "        text-align: right;\n",
       "    }\n",
       "</style>\n",
       "<table border=\"1\" class=\"dataframe\">\n",
       "  <thead>\n",
       "    <tr style=\"text-align: right;\">\n",
       "      <th></th>\n",
       "      <th>weekday</th>\n",
       "      <th>user_id</th>\n",
       "    </tr>\n",
       "  </thead>\n",
       "  <tbody>\n",
       "    <tr>\n",
       "      <th>0</th>\n",
       "      <td>суббота</td>\n",
       "      <td>9154</td>\n",
       "    </tr>\n",
       "    <tr>\n",
       "      <th>1</th>\n",
       "      <td>пятница</td>\n",
       "      <td>9969</td>\n",
       "    </tr>\n",
       "    <tr>\n",
       "      <th>2</th>\n",
       "      <td>воскресенье</td>\n",
       "      <td>10501</td>\n",
       "    </tr>\n",
       "    <tr>\n",
       "      <th>3</th>\n",
       "      <td>четверг</td>\n",
       "      <td>10762</td>\n",
       "    </tr>\n",
       "    <tr>\n",
       "      <th>4</th>\n",
       "      <td>среда</td>\n",
       "      <td>10995</td>\n",
       "    </tr>\n",
       "    <tr>\n",
       "      <th>5</th>\n",
       "      <td>вторник</td>\n",
       "      <td>11145</td>\n",
       "    </tr>\n",
       "    <tr>\n",
       "      <th>6</th>\n",
       "      <td>понедельник</td>\n",
       "      <td>11671</td>\n",
       "    </tr>\n",
       "  </tbody>\n",
       "</table>\n",
       "</div>"
      ],
      "text/plain": [
       "       weekday  user_id\n",
       "0      суббота     9154\n",
       "1      пятница     9969\n",
       "2  воскресенье    10501\n",
       "3      четверг    10762\n",
       "4        среда    10995\n",
       "5      вторник    11145\n",
       "6  понедельник    11671"
      ]
     },
     "execution_count": 31,
     "metadata": {},
     "output_type": "execute_result"
    }
   ],
   "source": [
    "user_id_weekday = (data.pivot_table(index='weekday', \n",
    "                                   values='user_id', \n",
    "                                   aggfunc='count').sort_values('user_id').reset_index()\n",
    "                  )\n",
    "\n",
    "user_id_weekday"
   ]
  },
  {
   "cell_type": "code",
   "execution_count": 32,
   "id": "f2fc300d",
   "metadata": {},
   "outputs": [
    {
     "data": {
      "image/png": "[encoded data removed]",
      "text/plain": [
       "<Figure size 1700x600 with 1 Axes>"
      ]
     },
     "metadata": {},
     "output_type": "display_data"
    }
   ],
   "source": [
    "plt.figure(figsize=(17,6))\n",
    "\n",
    "sns.barplot(x='weekday', y='user_id', data=user_id_weekday, color='blue')\n",
    "\n",
    "plt.title('Кол-во событий пользователями по дням недели')\n",
    "plt.xlabel('Дни недели')\n",
    "plt.ylabel('Количество событий')\n",
    "plt.xticks(rotation=30)\n",
    "\n",
    "plt.show()"
   ]
  },
  {
   "cell_type": "markdown",
   "id": "9cf1db7a",
   "metadata": {},
   "source": [
    "Как видно из графика, наиболее активными днями недели являются понедельник и вторник, а вот суббота и пятница являются менее активными днями недели."
   ]
  },
  {
   "cell_type": "markdown",
   "id": "48725106",
   "metadata": {},
   "source": [
    "### Смотрим распределение пользователей по источникам"
   ]
  },
  {
   "cell_type": "markdown",
   "id": "251cacda",
   "metadata": {},
   "source": [
    "Делаем сводную таблицу и группируем данные датафрейма `source` по истоничкам, с которого пользователь установил приложение и считаем количество пользователей с дальнейшей визуализацией данных."
   ]
  },
  {
   "cell_type": "code",
   "execution_count": 33,
   "id": "3f4b4d6a",
   "metadata": {},
   "outputs": [
    {
     "data": {
      "image/png": "[encoded data removed]",
      "text/plain": [
       "<Figure size 800x560 with 1 Axes>"
      ]
     },
     "metadata": {},
     "output_type": "display_data"
    }
   ],
   "source": [
    "source_user_id = sources.groupby('source')['user_id'].agg(['nunique'])\n",
    "\n",
    "plt.style.use('classic')\n",
    "\n",
    "plt.rcParams[\"figure.figsize\"] = (10,7)\n",
    "\n",
    "ax = source_user_id.plot(kind='barh', legend=None)\n",
    "ax.bar_label(ax.containers[0], label_type='edge')\n",
    "plt.title('Кол-во пользователей по источникам')\n",
    "plt.xlabel('Кол-во пользователей')\n",
    "plt.xlim([0, 2100])\n",
    "plt.ylabel('источник')\n",
    "plt.show();"
   ]
  },
  {
   "cell_type": "markdown",
   "id": "ca11ce6b",
   "metadata": {},
   "source": [
    "### Расчёт удержания (retention rate)"
   ]
  },
  {
   "cell_type": "markdown",
   "id": "ba9496c2",
   "metadata": {},
   "source": [
    "Для начала найдём минимальную и максимальные даты действий пользователей в приложении"
   ]
  },
  {
   "cell_type": "code",
   "execution_count": 34,
   "id": "d650c03f",
   "metadata": {},
   "outputs": [
    {
     "data": {
      "text/html": [
       "<div>\n",
       "<style scoped>\n",
       "    .dataframe tbody tr th:only-of-type {\n",
       "        vertical-align: middle;\n",
       "    }\n",
       "\n",
       "    .dataframe tbody tr th {\n",
       "        vertical-align: top;\n",
       "    }\n",
       "\n",
       "    .dataframe thead th {\n",
       "        text-align: right;\n",
       "    }\n",
       "</style>\n",
       "<table border=\"1\" class=\"dataframe\">\n",
       "  <thead>\n",
       "    <tr style=\"text-align: right;\">\n",
       "      <th></th>\n",
       "      <th>event_time</th>\n",
       "      <th>event_name</th>\n",
       "      <th>user_id</th>\n",
       "      <th>dt</th>\n",
       "      <th>weekday</th>\n",
       "    </tr>\n",
       "  </thead>\n",
       "  <tbody>\n",
       "    <tr>\n",
       "      <th>min</th>\n",
       "      <td>2019-10-07 00:00:00.431357</td>\n",
       "      <td>advert_open</td>\n",
       "      <td>0001b1d5-b74a-4cbf-aeb0-7df5947bf349</td>\n",
       "      <td>2019-10-07</td>\n",
       "      <td>воскресенье</td>\n",
       "    </tr>\n",
       "    <tr>\n",
       "      <th>max</th>\n",
       "      <td>2019-11-03 23:58:12.532487</td>\n",
       "      <td>tips_show</td>\n",
       "      <td>fffb9e79-b927-4dbb-9b48-7fd09b23a62b</td>\n",
       "      <td>2019-11-03</td>\n",
       "      <td>четверг</td>\n",
       "    </tr>\n",
       "  </tbody>\n",
       "</table>\n",
       "</div>"
      ],
      "text/plain": [
       "                    event_time   event_name  \\\n",
       "min 2019-10-07 00:00:00.431357  advert_open   \n",
       "max 2019-11-03 23:58:12.532487    tips_show   \n",
       "\n",
       "                                  user_id          dt      weekday  \n",
       "min  0001b1d5-b74a-4cbf-aeb0-7df5947bf349  2019-10-07  воскресенье  \n",
       "max  fffb9e79-b927-4dbb-9b48-7fd09b23a62b  2019-11-03      четверг  "
      ]
     },
     "execution_count": 34,
     "metadata": {},
     "output_type": "execute_result"
    }
   ],
   "source": [
    "data.sort_values(['user_id', 'event_time']).agg(['min', 'max'])"
   ]
  },
  {
   "cell_type": "markdown",
   "id": "275869fb",
   "metadata": {},
   "source": [
    "Теперь определим для каждого пользователя первоначальную дату совершения им действия в приложении и добавим её в новый столбец `first_ts` датафрейма"
   ]
  },
  {
   "cell_type": "code",
   "execution_count": 35,
   "id": "e4878383",
   "metadata": {},
   "outputs": [
    {
     "data": {
      "text/html": [
       "<div>\n",
       "<style scoped>\n",
       "    .dataframe tbody tr th:only-of-type {\n",
       "        vertical-align: middle;\n",
       "    }\n",
       "\n",
       "    .dataframe tbody tr th {\n",
       "        vertical-align: top;\n",
       "    }\n",
       "\n",
       "    .dataframe thead th {\n",
       "        text-align: right;\n",
       "    }\n",
       "</style>\n",
       "<table border=\"1\" class=\"dataframe\">\n",
       "  <thead>\n",
       "    <tr style=\"text-align: right;\">\n",
       "      <th></th>\n",
       "      <th>event_time</th>\n",
       "      <th>event_name</th>\n",
       "      <th>user_id</th>\n",
       "      <th>dt</th>\n",
       "      <th>weekday</th>\n",
       "      <th>first_ts</th>\n",
       "    </tr>\n",
       "  </thead>\n",
       "  <tbody>\n",
       "    <tr>\n",
       "      <th>0</th>\n",
       "      <td>2019-10-07 00:00:00.431357</td>\n",
       "      <td>advert_open</td>\n",
       "      <td>020292ab-89bc-4156-9acf-68bc2783f894</td>\n",
       "      <td>2019-10-07</td>\n",
       "      <td>понедельник</td>\n",
       "      <td>2019-10-07 00:00:00.431357</td>\n",
       "    </tr>\n",
       "    <tr>\n",
       "      <th>1</th>\n",
       "      <td>2019-10-07 00:00:01.236320</td>\n",
       "      <td>tips_show</td>\n",
       "      <td>020292ab-89bc-4156-9acf-68bc2783f894</td>\n",
       "      <td>2019-10-07</td>\n",
       "      <td>понедельник</td>\n",
       "      <td>2019-10-07 00:00:00.431357</td>\n",
       "    </tr>\n",
       "    <tr>\n",
       "      <th>2</th>\n",
       "      <td>2019-10-07 00:00:02.245341</td>\n",
       "      <td>tips_show</td>\n",
       "      <td>cf7eda61-9349-469f-ac27-e5b6f5ec475c</td>\n",
       "      <td>2019-10-07</td>\n",
       "      <td>понедельник</td>\n",
       "      <td>2019-10-07 00:00:02.245341</td>\n",
       "    </tr>\n",
       "    <tr>\n",
       "      <th>3</th>\n",
       "      <td>2019-10-07 00:00:07.039334</td>\n",
       "      <td>tips_show</td>\n",
       "      <td>020292ab-89bc-4156-9acf-68bc2783f894</td>\n",
       "      <td>2019-10-07</td>\n",
       "      <td>понедельник</td>\n",
       "      <td>2019-10-07 00:00:00.431357</td>\n",
       "    </tr>\n",
       "    <tr>\n",
       "      <th>4</th>\n",
       "      <td>2019-10-07 00:00:56.319813</td>\n",
       "      <td>advert_open</td>\n",
       "      <td>cf7eda61-9349-469f-ac27-e5b6f5ec475c</td>\n",
       "      <td>2019-10-07</td>\n",
       "      <td>понедельник</td>\n",
       "      <td>2019-10-07 00:00:02.245341</td>\n",
       "    </tr>\n",
       "  </tbody>\n",
       "</table>\n",
       "</div>"
      ],
      "text/plain": [
       "                  event_time   event_name  \\\n",
       "0 2019-10-07 00:00:00.431357  advert_open   \n",
       "1 2019-10-07 00:00:01.236320    tips_show   \n",
       "2 2019-10-07 00:00:02.245341    tips_show   \n",
       "3 2019-10-07 00:00:07.039334    tips_show   \n",
       "4 2019-10-07 00:00:56.319813  advert_open   \n",
       "\n",
       "                                user_id          dt      weekday  \\\n",
       "0  020292ab-89bc-4156-9acf-68bc2783f894  2019-10-07  понедельник   \n",
       "1  020292ab-89bc-4156-9acf-68bc2783f894  2019-10-07  понедельник   \n",
       "2  cf7eda61-9349-469f-ac27-e5b6f5ec475c  2019-10-07  понедельник   \n",
       "3  020292ab-89bc-4156-9acf-68bc2783f894  2019-10-07  понедельник   \n",
       "4  cf7eda61-9349-469f-ac27-e5b6f5ec475c  2019-10-07  понедельник   \n",
       "\n",
       "                    first_ts  \n",
       "0 2019-10-07 00:00:00.431357  \n",
       "1 2019-10-07 00:00:00.431357  \n",
       "2 2019-10-07 00:00:02.245341  \n",
       "3 2019-10-07 00:00:00.431357  \n",
       "4 2019-10-07 00:00:02.245341  "
      ]
     },
     "execution_count": 35,
     "metadata": {},
     "output_type": "execute_result"
    }
   ],
   "source": [
    "t = (data.sort_values(['user_id', 'event_time']).\n",
    "     groupby(['user_id']).\n",
    "     agg({'event_time':'first'}).\n",
    "     rename(columns={'event_time': 'first_ts'})\n",
    "    )\n",
    "data = data.merge(t, on='user_id')\n",
    "data.head()"
   ]
  },
  {
   "cell_type": "markdown",
   "id": "f1e89901",
   "metadata": {},
   "source": [
    "Выделим даты совершения первого действия в отдельный столбец `dt_ts`"
   ]
  },
  {
   "cell_type": "code",
   "execution_count": 36,
   "id": "2e912f89",
   "metadata": {},
   "outputs": [
    {
     "data": {
      "text/html": [
       "<div>\n",
       "<style scoped>\n",
       "    .dataframe tbody tr th:only-of-type {\n",
       "        vertical-align: middle;\n",
       "    }\n",
       "\n",
       "    .dataframe tbody tr th {\n",
       "        vertical-align: top;\n",
       "    }\n",
       "\n",
       "    .dataframe thead th {\n",
       "        text-align: right;\n",
       "    }\n",
       "</style>\n",
       "<table border=\"1\" class=\"dataframe\">\n",
       "  <thead>\n",
       "    <tr style=\"text-align: right;\">\n",
       "      <th></th>\n",
       "      <th>event_time</th>\n",
       "      <th>event_name</th>\n",
       "      <th>user_id</th>\n",
       "      <th>dt</th>\n",
       "      <th>weekday</th>\n",
       "      <th>first_ts</th>\n",
       "      <th>dt_ts</th>\n",
       "    </tr>\n",
       "  </thead>\n",
       "  <tbody>\n",
       "    <tr>\n",
       "      <th>0</th>\n",
       "      <td>2019-10-07 00:00:00.431357</td>\n",
       "      <td>advert_open</td>\n",
       "      <td>020292ab-89bc-4156-9acf-68bc2783f894</td>\n",
       "      <td>2019-10-07</td>\n",
       "      <td>понедельник</td>\n",
       "      <td>2019-10-07 00:00:00.431357</td>\n",
       "      <td>2019-10-07</td>\n",
       "    </tr>\n",
       "    <tr>\n",
       "      <th>1</th>\n",
       "      <td>2019-10-07 00:00:01.236320</td>\n",
       "      <td>tips_show</td>\n",
       "      <td>020292ab-89bc-4156-9acf-68bc2783f894</td>\n",
       "      <td>2019-10-07</td>\n",
       "      <td>понедельник</td>\n",
       "      <td>2019-10-07 00:00:00.431357</td>\n",
       "      <td>2019-10-07</td>\n",
       "    </tr>\n",
       "    <tr>\n",
       "      <th>2</th>\n",
       "      <td>2019-10-07 00:00:02.245341</td>\n",
       "      <td>tips_show</td>\n",
       "      <td>cf7eda61-9349-469f-ac27-e5b6f5ec475c</td>\n",
       "      <td>2019-10-07</td>\n",
       "      <td>понедельник</td>\n",
       "      <td>2019-10-07 00:00:02.245341</td>\n",
       "      <td>2019-10-07</td>\n",
       "    </tr>\n",
       "    <tr>\n",
       "      <th>3</th>\n",
       "      <td>2019-10-07 00:00:07.039334</td>\n",
       "      <td>tips_show</td>\n",
       "      <td>020292ab-89bc-4156-9acf-68bc2783f894</td>\n",
       "      <td>2019-10-07</td>\n",
       "      <td>понедельник</td>\n",
       "      <td>2019-10-07 00:00:00.431357</td>\n",
       "      <td>2019-10-07</td>\n",
       "    </tr>\n",
       "    <tr>\n",
       "      <th>4</th>\n",
       "      <td>2019-10-07 00:00:56.319813</td>\n",
       "      <td>advert_open</td>\n",
       "      <td>cf7eda61-9349-469f-ac27-e5b6f5ec475c</td>\n",
       "      <td>2019-10-07</td>\n",
       "      <td>понедельник</td>\n",
       "      <td>2019-10-07 00:00:02.245341</td>\n",
       "      <td>2019-10-07</td>\n",
       "    </tr>\n",
       "  </tbody>\n",
       "</table>\n",
       "</div>"
      ],
      "text/plain": [
       "                  event_time   event_name  \\\n",
       "0 2019-10-07 00:00:00.431357  advert_open   \n",
       "1 2019-10-07 00:00:01.236320    tips_show   \n",
       "2 2019-10-07 00:00:02.245341    tips_show   \n",
       "3 2019-10-07 00:00:07.039334    tips_show   \n",
       "4 2019-10-07 00:00:56.319813  advert_open   \n",
       "\n",
       "                                user_id          dt      weekday  \\\n",
       "0  020292ab-89bc-4156-9acf-68bc2783f894  2019-10-07  понедельник   \n",
       "1  020292ab-89bc-4156-9acf-68bc2783f894  2019-10-07  понедельник   \n",
       "2  cf7eda61-9349-469f-ac27-e5b6f5ec475c  2019-10-07  понедельник   \n",
       "3  020292ab-89bc-4156-9acf-68bc2783f894  2019-10-07  понедельник   \n",
       "4  cf7eda61-9349-469f-ac27-e5b6f5ec475c  2019-10-07  понедельник   \n",
       "\n",
       "                    first_ts       dt_ts  \n",
       "0 2019-10-07 00:00:00.431357  2019-10-07  \n",
       "1 2019-10-07 00:00:00.431357  2019-10-07  \n",
       "2 2019-10-07 00:00:02.245341  2019-10-07  \n",
       "3 2019-10-07 00:00:00.431357  2019-10-07  \n",
       "4 2019-10-07 00:00:02.245341  2019-10-07  "
      ]
     },
     "execution_count": 36,
     "metadata": {},
     "output_type": "execute_result"
    }
   ],
   "source": [
    "data['dt_ts'] = data['first_ts'].dt.date\n",
    "data.head()"
   ]
  },
  {
   "cell_type": "markdown",
   "id": "abfbf3af",
   "metadata": {},
   "source": [
    "Примем сессию = календарный день. Расчитаем лайфтайм пользователей и добавим его в новый столбец датафрейма - `lifetime`. "
   ]
  },
  {
   "cell_type": "code",
   "execution_count": 37,
   "id": "1c8d5a2f",
   "metadata": {},
   "outputs": [
    {
     "data": {
      "text/html": [
       "<div>\n",
       "<style scoped>\n",
       "    .dataframe tbody tr th:only-of-type {\n",
       "        vertical-align: middle;\n",
       "    }\n",
       "\n",
       "    .dataframe tbody tr th {\n",
       "        vertical-align: top;\n",
       "    }\n",
       "\n",
       "    .dataframe thead th {\n",
       "        text-align: right;\n",
       "    }\n",
       "</style>\n",
       "<table border=\"1\" class=\"dataframe\">\n",
       "  <thead>\n",
       "    <tr style=\"text-align: right;\">\n",
       "      <th></th>\n",
       "      <th>event_time</th>\n",
       "      <th>event_name</th>\n",
       "      <th>user_id</th>\n",
       "      <th>dt</th>\n",
       "      <th>weekday</th>\n",
       "      <th>first_ts</th>\n",
       "      <th>dt_ts</th>\n",
       "      <th>lifetime</th>\n",
       "    </tr>\n",
       "  </thead>\n",
       "  <tbody>\n",
       "    <tr>\n",
       "      <th>0</th>\n",
       "      <td>2019-10-07 00:00:00.431357</td>\n",
       "      <td>advert_open</td>\n",
       "      <td>020292ab-89bc-4156-9acf-68bc2783f894</td>\n",
       "      <td>2019-10-07</td>\n",
       "      <td>понедельник</td>\n",
       "      <td>2019-10-07 00:00:00.431357</td>\n",
       "      <td>2019-10-07</td>\n",
       "      <td>0</td>\n",
       "    </tr>\n",
       "    <tr>\n",
       "      <th>1</th>\n",
       "      <td>2019-10-07 00:00:01.236320</td>\n",
       "      <td>tips_show</td>\n",
       "      <td>020292ab-89bc-4156-9acf-68bc2783f894</td>\n",
       "      <td>2019-10-07</td>\n",
       "      <td>понедельник</td>\n",
       "      <td>2019-10-07 00:00:00.431357</td>\n",
       "      <td>2019-10-07</td>\n",
       "      <td>0</td>\n",
       "    </tr>\n",
       "    <tr>\n",
       "      <th>2</th>\n",
       "      <td>2019-10-07 00:00:02.245341</td>\n",
       "      <td>tips_show</td>\n",
       "      <td>cf7eda61-9349-469f-ac27-e5b6f5ec475c</td>\n",
       "      <td>2019-10-07</td>\n",
       "      <td>понедельник</td>\n",
       "      <td>2019-10-07 00:00:02.245341</td>\n",
       "      <td>2019-10-07</td>\n",
       "      <td>0</td>\n",
       "    </tr>\n",
       "    <tr>\n",
       "      <th>3</th>\n",
       "      <td>2019-10-07 00:00:07.039334</td>\n",
       "      <td>tips_show</td>\n",
       "      <td>020292ab-89bc-4156-9acf-68bc2783f894</td>\n",
       "      <td>2019-10-07</td>\n",
       "      <td>понедельник</td>\n",
       "      <td>2019-10-07 00:00:00.431357</td>\n",
       "      <td>2019-10-07</td>\n",
       "      <td>0</td>\n",
       "    </tr>\n",
       "    <tr>\n",
       "      <th>4</th>\n",
       "      <td>2019-10-07 00:00:56.319813</td>\n",
       "      <td>advert_open</td>\n",
       "      <td>cf7eda61-9349-469f-ac27-e5b6f5ec475c</td>\n",
       "      <td>2019-10-07</td>\n",
       "      <td>понедельник</td>\n",
       "      <td>2019-10-07 00:00:02.245341</td>\n",
       "      <td>2019-10-07</td>\n",
       "      <td>0</td>\n",
       "    </tr>\n",
       "  </tbody>\n",
       "</table>\n",
       "</div>"
      ],
      "text/plain": [
       "                  event_time   event_name  \\\n",
       "0 2019-10-07 00:00:00.431357  advert_open   \n",
       "1 2019-10-07 00:00:01.236320    tips_show   \n",
       "2 2019-10-07 00:00:02.245341    tips_show   \n",
       "3 2019-10-07 00:00:07.039334    tips_show   \n",
       "4 2019-10-07 00:00:56.319813  advert_open   \n",
       "\n",
       "                                user_id          dt      weekday  \\\n",
       "0  020292ab-89bc-4156-9acf-68bc2783f894  2019-10-07  понедельник   \n",
       "1  020292ab-89bc-4156-9acf-68bc2783f894  2019-10-07  понедельник   \n",
       "2  cf7eda61-9349-469f-ac27-e5b6f5ec475c  2019-10-07  понедельник   \n",
       "3  020292ab-89bc-4156-9acf-68bc2783f894  2019-10-07  понедельник   \n",
       "4  cf7eda61-9349-469f-ac27-e5b6f5ec475c  2019-10-07  понедельник   \n",
       "\n",
       "                    first_ts       dt_ts  lifetime  \n",
       "0 2019-10-07 00:00:00.431357  2019-10-07         0  \n",
       "1 2019-10-07 00:00:00.431357  2019-10-07         0  \n",
       "2 2019-10-07 00:00:02.245341  2019-10-07         0  \n",
       "3 2019-10-07 00:00:00.431357  2019-10-07         0  \n",
       "4 2019-10-07 00:00:02.245341  2019-10-07         0  "
      ]
     },
     "execution_count": 37,
     "metadata": {},
     "output_type": "execute_result"
    }
   ],
   "source": [
    "data['lifetime'] = (data['event_time'] - data['first_ts']).dt.days\n",
    "data.head()"
   ]
  },
  {
   "cell_type": "markdown",
   "id": "b4e3858f",
   "metadata": {},
   "source": [
    "Строим сводную таблицу удержания. Сделаем даты первого действия заголовками строк, лайфтамы - заголовками столбцов, количество уникальных пользователей - значениями."
   ]
  },
  {
   "cell_type": "code",
   "execution_count": 38,
   "id": "d5d2b3c9",
   "metadata": {},
   "outputs": [
    {
     "data": {
      "text/html": [
       "<div>\n",
       "<style scoped>\n",
       "    .dataframe tbody tr th:only-of-type {\n",
       "        vertical-align: middle;\n",
       "    }\n",
       "\n",
       "    .dataframe tbody tr th {\n",
       "        vertical-align: top;\n",
       "    }\n",
       "\n",
       "    .dataframe thead th {\n",
       "        text-align: right;\n",
       "    }\n",
       "</style>\n",
       "<table border=\"1\" class=\"dataframe\">\n",
       "  <thead>\n",
       "    <tr style=\"text-align: right;\">\n",
       "      <th>lifetime</th>\n",
       "      <th>0</th>\n",
       "      <th>1</th>\n",
       "      <th>2</th>\n",
       "      <th>3</th>\n",
       "      <th>4</th>\n",
       "      <th>5</th>\n",
       "      <th>6</th>\n",
       "      <th>7</th>\n",
       "      <th>8</th>\n",
       "      <th>9</th>\n",
       "      <th>...</th>\n",
       "      <th>17</th>\n",
       "      <th>18</th>\n",
       "      <th>19</th>\n",
       "      <th>20</th>\n",
       "      <th>21</th>\n",
       "      <th>22</th>\n",
       "      <th>23</th>\n",
       "      <th>24</th>\n",
       "      <th>25</th>\n",
       "      <th>26</th>\n",
       "    </tr>\n",
       "    <tr>\n",
       "      <th>dt_ts</th>\n",
       "      <th></th>\n",
       "      <th></th>\n",
       "      <th></th>\n",
       "      <th></th>\n",
       "      <th></th>\n",
       "      <th></th>\n",
       "      <th></th>\n",
       "      <th></th>\n",
       "      <th></th>\n",
       "      <th></th>\n",
       "      <th></th>\n",
       "      <th></th>\n",
       "      <th></th>\n",
       "      <th></th>\n",
       "      <th></th>\n",
       "      <th></th>\n",
       "      <th></th>\n",
       "      <th></th>\n",
       "      <th></th>\n",
       "      <th></th>\n",
       "      <th></th>\n",
       "    </tr>\n",
       "  </thead>\n",
       "  <tbody>\n",
       "    <tr>\n",
       "      <th>2019-10-07</th>\n",
       "      <td>204.0</td>\n",
       "      <td>25.0</td>\n",
       "      <td>20.0</td>\n",
       "      <td>22.0</td>\n",
       "      <td>11.0</td>\n",
       "      <td>8.0</td>\n",
       "      <td>12.0</td>\n",
       "      <td>16.0</td>\n",
       "      <td>11.0</td>\n",
       "      <td>10.0</td>\n",
       "      <td>...</td>\n",
       "      <td>4.0</td>\n",
       "      <td>9.0</td>\n",
       "      <td>5.0</td>\n",
       "      <td>3.0</td>\n",
       "      <td>4.0</td>\n",
       "      <td>7.0</td>\n",
       "      <td>7.0</td>\n",
       "      <td>8.0</td>\n",
       "      <td>9.0</td>\n",
       "      <td>6.0</td>\n",
       "    </tr>\n",
       "    <tr>\n",
       "      <th>2019-10-08</th>\n",
       "      <td>167.0</td>\n",
       "      <td>27.0</td>\n",
       "      <td>21.0</td>\n",
       "      <td>9.0</td>\n",
       "      <td>7.0</td>\n",
       "      <td>11.0</td>\n",
       "      <td>9.0</td>\n",
       "      <td>12.0</td>\n",
       "      <td>10.0</td>\n",
       "      <td>7.0</td>\n",
       "      <td>...</td>\n",
       "      <td>5.0</td>\n",
       "      <td>3.0</td>\n",
       "      <td>8.0</td>\n",
       "      <td>6.0</td>\n",
       "      <td>3.0</td>\n",
       "      <td>4.0</td>\n",
       "      <td>7.0</td>\n",
       "      <td>5.0</td>\n",
       "      <td>4.0</td>\n",
       "      <td>2.0</td>\n",
       "    </tr>\n",
       "    <tr>\n",
       "      <th>2019-10-09</th>\n",
       "      <td>176.0</td>\n",
       "      <td>13.0</td>\n",
       "      <td>11.0</td>\n",
       "      <td>10.0</td>\n",
       "      <td>12.0</td>\n",
       "      <td>12.0</td>\n",
       "      <td>10.0</td>\n",
       "      <td>13.0</td>\n",
       "      <td>11.0</td>\n",
       "      <td>6.0</td>\n",
       "      <td>...</td>\n",
       "      <td>3.0</td>\n",
       "      <td>2.0</td>\n",
       "      <td>5.0</td>\n",
       "      <td>2.0</td>\n",
       "      <td>6.0</td>\n",
       "      <td>2.0</td>\n",
       "      <td>1.0</td>\n",
       "      <td>4.0</td>\n",
       "      <td>3.0</td>\n",
       "      <td>NaN</td>\n",
       "    </tr>\n",
       "    <tr>\n",
       "      <th>2019-10-10</th>\n",
       "      <td>174.0</td>\n",
       "      <td>16.0</td>\n",
       "      <td>18.0</td>\n",
       "      <td>14.0</td>\n",
       "      <td>17.0</td>\n",
       "      <td>14.0</td>\n",
       "      <td>12.0</td>\n",
       "      <td>9.0</td>\n",
       "      <td>14.0</td>\n",
       "      <td>6.0</td>\n",
       "      <td>...</td>\n",
       "      <td>11.0</td>\n",
       "      <td>6.0</td>\n",
       "      <td>5.0</td>\n",
       "      <td>3.0</td>\n",
       "      <td>7.0</td>\n",
       "      <td>3.0</td>\n",
       "      <td>2.0</td>\n",
       "      <td>2.0</td>\n",
       "      <td>NaN</td>\n",
       "      <td>NaN</td>\n",
       "    </tr>\n",
       "    <tr>\n",
       "      <th>2019-10-11</th>\n",
       "      <td>136.0</td>\n",
       "      <td>12.0</td>\n",
       "      <td>16.0</td>\n",
       "      <td>13.0</td>\n",
       "      <td>12.0</td>\n",
       "      <td>10.0</td>\n",
       "      <td>10.0</td>\n",
       "      <td>6.0</td>\n",
       "      <td>2.0</td>\n",
       "      <td>6.0</td>\n",
       "      <td>...</td>\n",
       "      <td>8.0</td>\n",
       "      <td>4.0</td>\n",
       "      <td>3.0</td>\n",
       "      <td>3.0</td>\n",
       "      <td>4.0</td>\n",
       "      <td>4.0</td>\n",
       "      <td>2.0</td>\n",
       "      <td>NaN</td>\n",
       "      <td>NaN</td>\n",
       "      <td>NaN</td>\n",
       "    </tr>\n",
       "    <tr>\n",
       "      <th>2019-10-12</th>\n",
       "      <td>125.0</td>\n",
       "      <td>16.0</td>\n",
       "      <td>20.0</td>\n",
       "      <td>7.0</td>\n",
       "      <td>8.0</td>\n",
       "      <td>11.0</td>\n",
       "      <td>10.0</td>\n",
       "      <td>11.0</td>\n",
       "      <td>10.0</td>\n",
       "      <td>8.0</td>\n",
       "      <td>...</td>\n",
       "      <td>5.0</td>\n",
       "      <td>5.0</td>\n",
       "      <td>3.0</td>\n",
       "      <td>3.0</td>\n",
       "      <td>8.0</td>\n",
       "      <td>4.0</td>\n",
       "      <td>NaN</td>\n",
       "      <td>NaN</td>\n",
       "      <td>NaN</td>\n",
       "      <td>NaN</td>\n",
       "    </tr>\n",
       "    <tr>\n",
       "      <th>2019-10-13</th>\n",
       "      <td>148.0</td>\n",
       "      <td>19.0</td>\n",
       "      <td>10.0</td>\n",
       "      <td>8.0</td>\n",
       "      <td>10.0</td>\n",
       "      <td>8.0</td>\n",
       "      <td>8.0</td>\n",
       "      <td>7.0</td>\n",
       "      <td>7.0</td>\n",
       "      <td>7.0</td>\n",
       "      <td>...</td>\n",
       "      <td>2.0</td>\n",
       "      <td>3.0</td>\n",
       "      <td>2.0</td>\n",
       "      <td>5.0</td>\n",
       "      <td>1.0</td>\n",
       "      <td>NaN</td>\n",
       "      <td>NaN</td>\n",
       "      <td>NaN</td>\n",
       "      <td>NaN</td>\n",
       "      <td>NaN</td>\n",
       "    </tr>\n",
       "    <tr>\n",
       "      <th>2019-10-14</th>\n",
       "      <td>185.0</td>\n",
       "      <td>21.0</td>\n",
       "      <td>19.0</td>\n",
       "      <td>19.0</td>\n",
       "      <td>15.0</td>\n",
       "      <td>13.0</td>\n",
       "      <td>10.0</td>\n",
       "      <td>8.0</td>\n",
       "      <td>14.0</td>\n",
       "      <td>7.0</td>\n",
       "      <td>...</td>\n",
       "      <td>7.0</td>\n",
       "      <td>4.0</td>\n",
       "      <td>3.0</td>\n",
       "      <td>1.0</td>\n",
       "      <td>NaN</td>\n",
       "      <td>NaN</td>\n",
       "      <td>NaN</td>\n",
       "      <td>NaN</td>\n",
       "      <td>NaN</td>\n",
       "      <td>NaN</td>\n",
       "    </tr>\n",
       "    <tr>\n",
       "      <th>2019-10-15</th>\n",
       "      <td>186.0</td>\n",
       "      <td>26.0</td>\n",
       "      <td>17.0</td>\n",
       "      <td>15.0</td>\n",
       "      <td>10.0</td>\n",
       "      <td>10.0</td>\n",
       "      <td>15.0</td>\n",
       "      <td>14.0</td>\n",
       "      <td>12.0</td>\n",
       "      <td>4.0</td>\n",
       "      <td>...</td>\n",
       "      <td>6.0</td>\n",
       "      <td>5.0</td>\n",
       "      <td>3.0</td>\n",
       "      <td>NaN</td>\n",
       "      <td>NaN</td>\n",
       "      <td>NaN</td>\n",
       "      <td>NaN</td>\n",
       "      <td>NaN</td>\n",
       "      <td>NaN</td>\n",
       "      <td>NaN</td>\n",
       "    </tr>\n",
       "    <tr>\n",
       "      <th>2019-10-16</th>\n",
       "      <td>166.0</td>\n",
       "      <td>21.0</td>\n",
       "      <td>12.0</td>\n",
       "      <td>5.0</td>\n",
       "      <td>8.0</td>\n",
       "      <td>10.0</td>\n",
       "      <td>7.0</td>\n",
       "      <td>9.0</td>\n",
       "      <td>10.0</td>\n",
       "      <td>7.0</td>\n",
       "      <td>...</td>\n",
       "      <td>2.0</td>\n",
       "      <td>1.0</td>\n",
       "      <td>NaN</td>\n",
       "      <td>NaN</td>\n",
       "      <td>NaN</td>\n",
       "      <td>NaN</td>\n",
       "      <td>NaN</td>\n",
       "      <td>NaN</td>\n",
       "      <td>NaN</td>\n",
       "      <td>NaN</td>\n",
       "    </tr>\n",
       "    <tr>\n",
       "      <th>2019-10-17</th>\n",
       "      <td>170.0</td>\n",
       "      <td>24.0</td>\n",
       "      <td>22.0</td>\n",
       "      <td>15.0</td>\n",
       "      <td>15.0</td>\n",
       "      <td>16.0</td>\n",
       "      <td>16.0</td>\n",
       "      <td>8.0</td>\n",
       "      <td>8.0</td>\n",
       "      <td>7.0</td>\n",
       "      <td>...</td>\n",
       "      <td>1.0</td>\n",
       "      <td>NaN</td>\n",
       "      <td>NaN</td>\n",
       "      <td>NaN</td>\n",
       "      <td>NaN</td>\n",
       "      <td>NaN</td>\n",
       "      <td>NaN</td>\n",
       "      <td>NaN</td>\n",
       "      <td>NaN</td>\n",
       "      <td>NaN</td>\n",
       "    </tr>\n",
       "    <tr>\n",
       "      <th>2019-10-18</th>\n",
       "      <td>156.0</td>\n",
       "      <td>13.0</td>\n",
       "      <td>15.0</td>\n",
       "      <td>15.0</td>\n",
       "      <td>9.0</td>\n",
       "      <td>10.0</td>\n",
       "      <td>10.0</td>\n",
       "      <td>12.0</td>\n",
       "      <td>11.0</td>\n",
       "      <td>5.0</td>\n",
       "      <td>...</td>\n",
       "      <td>NaN</td>\n",
       "      <td>NaN</td>\n",
       "      <td>NaN</td>\n",
       "      <td>NaN</td>\n",
       "      <td>NaN</td>\n",
       "      <td>NaN</td>\n",
       "      <td>NaN</td>\n",
       "      <td>NaN</td>\n",
       "      <td>NaN</td>\n",
       "      <td>NaN</td>\n",
       "    </tr>\n",
       "    <tr>\n",
       "      <th>2019-10-19</th>\n",
       "      <td>159.0</td>\n",
       "      <td>15.0</td>\n",
       "      <td>18.0</td>\n",
       "      <td>11.0</td>\n",
       "      <td>4.0</td>\n",
       "      <td>9.0</td>\n",
       "      <td>10.0</td>\n",
       "      <td>10.0</td>\n",
       "      <td>5.0</td>\n",
       "      <td>7.0</td>\n",
       "      <td>...</td>\n",
       "      <td>NaN</td>\n",
       "      <td>NaN</td>\n",
       "      <td>NaN</td>\n",
       "      <td>NaN</td>\n",
       "      <td>NaN</td>\n",
       "      <td>NaN</td>\n",
       "      <td>NaN</td>\n",
       "      <td>NaN</td>\n",
       "      <td>NaN</td>\n",
       "      <td>NaN</td>\n",
       "    </tr>\n",
       "    <tr>\n",
       "      <th>2019-10-20</th>\n",
       "      <td>144.0</td>\n",
       "      <td>15.0</td>\n",
       "      <td>11.0</td>\n",
       "      <td>7.0</td>\n",
       "      <td>10.0</td>\n",
       "      <td>9.0</td>\n",
       "      <td>6.0</td>\n",
       "      <td>10.0</td>\n",
       "      <td>8.0</td>\n",
       "      <td>4.0</td>\n",
       "      <td>...</td>\n",
       "      <td>NaN</td>\n",
       "      <td>NaN</td>\n",
       "      <td>NaN</td>\n",
       "      <td>NaN</td>\n",
       "      <td>NaN</td>\n",
       "      <td>NaN</td>\n",
       "      <td>NaN</td>\n",
       "      <td>NaN</td>\n",
       "      <td>NaN</td>\n",
       "      <td>NaN</td>\n",
       "    </tr>\n",
       "    <tr>\n",
       "      <th>2019-10-21</th>\n",
       "      <td>161.0</td>\n",
       "      <td>15.0</td>\n",
       "      <td>14.0</td>\n",
       "      <td>17.0</td>\n",
       "      <td>7.0</td>\n",
       "      <td>6.0</td>\n",
       "      <td>8.0</td>\n",
       "      <td>15.0</td>\n",
       "      <td>6.0</td>\n",
       "      <td>4.0</td>\n",
       "      <td>...</td>\n",
       "      <td>NaN</td>\n",
       "      <td>NaN</td>\n",
       "      <td>NaN</td>\n",
       "      <td>NaN</td>\n",
       "      <td>NaN</td>\n",
       "      <td>NaN</td>\n",
       "      <td>NaN</td>\n",
       "      <td>NaN</td>\n",
       "      <td>NaN</td>\n",
       "      <td>NaN</td>\n",
       "    </tr>\n",
       "    <tr>\n",
       "      <th>2019-10-22</th>\n",
       "      <td>157.0</td>\n",
       "      <td>18.0</td>\n",
       "      <td>13.0</td>\n",
       "      <td>8.0</td>\n",
       "      <td>6.0</td>\n",
       "      <td>9.0</td>\n",
       "      <td>9.0</td>\n",
       "      <td>11.0</td>\n",
       "      <td>9.0</td>\n",
       "      <td>8.0</td>\n",
       "      <td>...</td>\n",
       "      <td>NaN</td>\n",
       "      <td>NaN</td>\n",
       "      <td>NaN</td>\n",
       "      <td>NaN</td>\n",
       "      <td>NaN</td>\n",
       "      <td>NaN</td>\n",
       "      <td>NaN</td>\n",
       "      <td>NaN</td>\n",
       "      <td>NaN</td>\n",
       "      <td>NaN</td>\n",
       "    </tr>\n",
       "    <tr>\n",
       "      <th>2019-10-23</th>\n",
       "      <td>189.0</td>\n",
       "      <td>18.0</td>\n",
       "      <td>15.0</td>\n",
       "      <td>14.0</td>\n",
       "      <td>10.0</td>\n",
       "      <td>10.0</td>\n",
       "      <td>9.0</td>\n",
       "      <td>11.0</td>\n",
       "      <td>5.0</td>\n",
       "      <td>5.0</td>\n",
       "      <td>...</td>\n",
       "      <td>NaN</td>\n",
       "      <td>NaN</td>\n",
       "      <td>NaN</td>\n",
       "      <td>NaN</td>\n",
       "      <td>NaN</td>\n",
       "      <td>NaN</td>\n",
       "      <td>NaN</td>\n",
       "      <td>NaN</td>\n",
       "      <td>NaN</td>\n",
       "      <td>NaN</td>\n",
       "    </tr>\n",
       "    <tr>\n",
       "      <th>2019-10-24</th>\n",
       "      <td>162.0</td>\n",
       "      <td>17.0</td>\n",
       "      <td>12.0</td>\n",
       "      <td>8.0</td>\n",
       "      <td>10.0</td>\n",
       "      <td>10.0</td>\n",
       "      <td>11.0</td>\n",
       "      <td>5.0</td>\n",
       "      <td>7.0</td>\n",
       "      <td>8.0</td>\n",
       "      <td>...</td>\n",
       "      <td>NaN</td>\n",
       "      <td>NaN</td>\n",
       "      <td>NaN</td>\n",
       "      <td>NaN</td>\n",
       "      <td>NaN</td>\n",
       "      <td>NaN</td>\n",
       "      <td>NaN</td>\n",
       "      <td>NaN</td>\n",
       "      <td>NaN</td>\n",
       "      <td>NaN</td>\n",
       "    </tr>\n",
       "    <tr>\n",
       "      <th>2019-10-25</th>\n",
       "      <td>147.0</td>\n",
       "      <td>13.0</td>\n",
       "      <td>14.0</td>\n",
       "      <td>15.0</td>\n",
       "      <td>14.0</td>\n",
       "      <td>9.0</td>\n",
       "      <td>10.0</td>\n",
       "      <td>10.0</td>\n",
       "      <td>7.0</td>\n",
       "      <td>3.0</td>\n",
       "      <td>...</td>\n",
       "      <td>NaN</td>\n",
       "      <td>NaN</td>\n",
       "      <td>NaN</td>\n",
       "      <td>NaN</td>\n",
       "      <td>NaN</td>\n",
       "      <td>NaN</td>\n",
       "      <td>NaN</td>\n",
       "      <td>NaN</td>\n",
       "      <td>NaN</td>\n",
       "      <td>NaN</td>\n",
       "    </tr>\n",
       "    <tr>\n",
       "      <th>2019-10-26</th>\n",
       "      <td>139.0</td>\n",
       "      <td>21.0</td>\n",
       "      <td>9.0</td>\n",
       "      <td>10.0</td>\n",
       "      <td>12.0</td>\n",
       "      <td>8.0</td>\n",
       "      <td>10.0</td>\n",
       "      <td>4.0</td>\n",
       "      <td>5.0</td>\n",
       "      <td>NaN</td>\n",
       "      <td>...</td>\n",
       "      <td>NaN</td>\n",
       "      <td>NaN</td>\n",
       "      <td>NaN</td>\n",
       "      <td>NaN</td>\n",
       "      <td>NaN</td>\n",
       "      <td>NaN</td>\n",
       "      <td>NaN</td>\n",
       "      <td>NaN</td>\n",
       "      <td>NaN</td>\n",
       "      <td>NaN</td>\n",
       "    </tr>\n",
       "    <tr>\n",
       "      <th>2019-10-27</th>\n",
       "      <td>139.0</td>\n",
       "      <td>10.0</td>\n",
       "      <td>10.0</td>\n",
       "      <td>10.0</td>\n",
       "      <td>11.0</td>\n",
       "      <td>12.0</td>\n",
       "      <td>9.0</td>\n",
       "      <td>6.0</td>\n",
       "      <td>NaN</td>\n",
       "      <td>NaN</td>\n",
       "      <td>...</td>\n",
       "      <td>NaN</td>\n",
       "      <td>NaN</td>\n",
       "      <td>NaN</td>\n",
       "      <td>NaN</td>\n",
       "      <td>NaN</td>\n",
       "      <td>NaN</td>\n",
       "      <td>NaN</td>\n",
       "      <td>NaN</td>\n",
       "      <td>NaN</td>\n",
       "      <td>NaN</td>\n",
       "    </tr>\n",
       "    <tr>\n",
       "      <th>2019-10-28</th>\n",
       "      <td>158.0</td>\n",
       "      <td>15.0</td>\n",
       "      <td>15.0</td>\n",
       "      <td>9.0</td>\n",
       "      <td>9.0</td>\n",
       "      <td>2.0</td>\n",
       "      <td>4.0</td>\n",
       "      <td>NaN</td>\n",
       "      <td>NaN</td>\n",
       "      <td>NaN</td>\n",
       "      <td>...</td>\n",
       "      <td>NaN</td>\n",
       "      <td>NaN</td>\n",
       "      <td>NaN</td>\n",
       "      <td>NaN</td>\n",
       "      <td>NaN</td>\n",
       "      <td>NaN</td>\n",
       "      <td>NaN</td>\n",
       "      <td>NaN</td>\n",
       "      <td>NaN</td>\n",
       "      <td>NaN</td>\n",
       "    </tr>\n",
       "    <tr>\n",
       "      <th>2019-10-29</th>\n",
       "      <td>135.0</td>\n",
       "      <td>23.0</td>\n",
       "      <td>17.0</td>\n",
       "      <td>13.0</td>\n",
       "      <td>8.0</td>\n",
       "      <td>3.0</td>\n",
       "      <td>NaN</td>\n",
       "      <td>NaN</td>\n",
       "      <td>NaN</td>\n",
       "      <td>NaN</td>\n",
       "      <td>...</td>\n",
       "      <td>NaN</td>\n",
       "      <td>NaN</td>\n",
       "      <td>NaN</td>\n",
       "      <td>NaN</td>\n",
       "      <td>NaN</td>\n",
       "      <td>NaN</td>\n",
       "      <td>NaN</td>\n",
       "      <td>NaN</td>\n",
       "      <td>NaN</td>\n",
       "      <td>NaN</td>\n",
       "    </tr>\n",
       "    <tr>\n",
       "      <th>2019-10-30</th>\n",
       "      <td>134.0</td>\n",
       "      <td>19.0</td>\n",
       "      <td>10.0</td>\n",
       "      <td>8.0</td>\n",
       "      <td>3.0</td>\n",
       "      <td>NaN</td>\n",
       "      <td>NaN</td>\n",
       "      <td>NaN</td>\n",
       "      <td>NaN</td>\n",
       "      <td>NaN</td>\n",
       "      <td>...</td>\n",
       "      <td>NaN</td>\n",
       "      <td>NaN</td>\n",
       "      <td>NaN</td>\n",
       "      <td>NaN</td>\n",
       "      <td>NaN</td>\n",
       "      <td>NaN</td>\n",
       "      <td>NaN</td>\n",
       "      <td>NaN</td>\n",
       "      <td>NaN</td>\n",
       "      <td>NaN</td>\n",
       "    </tr>\n",
       "    <tr>\n",
       "      <th>2019-10-31</th>\n",
       "      <td>132.0</td>\n",
       "      <td>12.0</td>\n",
       "      <td>6.0</td>\n",
       "      <td>3.0</td>\n",
       "      <td>NaN</td>\n",
       "      <td>NaN</td>\n",
       "      <td>NaN</td>\n",
       "      <td>NaN</td>\n",
       "      <td>NaN</td>\n",
       "      <td>NaN</td>\n",
       "      <td>...</td>\n",
       "      <td>NaN</td>\n",
       "      <td>NaN</td>\n",
       "      <td>NaN</td>\n",
       "      <td>NaN</td>\n",
       "      <td>NaN</td>\n",
       "      <td>NaN</td>\n",
       "      <td>NaN</td>\n",
       "      <td>NaN</td>\n",
       "      <td>NaN</td>\n",
       "      <td>NaN</td>\n",
       "    </tr>\n",
       "    <tr>\n",
       "      <th>2019-11-01</th>\n",
       "      <td>112.0</td>\n",
       "      <td>11.0</td>\n",
       "      <td>3.0</td>\n",
       "      <td>NaN</td>\n",
       "      <td>NaN</td>\n",
       "      <td>NaN</td>\n",
       "      <td>NaN</td>\n",
       "      <td>NaN</td>\n",
       "      <td>NaN</td>\n",
       "      <td>NaN</td>\n",
       "      <td>...</td>\n",
       "      <td>NaN</td>\n",
       "      <td>NaN</td>\n",
       "      <td>NaN</td>\n",
       "      <td>NaN</td>\n",
       "      <td>NaN</td>\n",
       "      <td>NaN</td>\n",
       "      <td>NaN</td>\n",
       "      <td>NaN</td>\n",
       "      <td>NaN</td>\n",
       "      <td>NaN</td>\n",
       "    </tr>\n",
       "    <tr>\n",
       "      <th>2019-11-02</th>\n",
       "      <td>97.0</td>\n",
       "      <td>10.0</td>\n",
       "      <td>NaN</td>\n",
       "      <td>NaN</td>\n",
       "      <td>NaN</td>\n",
       "      <td>NaN</td>\n",
       "      <td>NaN</td>\n",
       "      <td>NaN</td>\n",
       "      <td>NaN</td>\n",
       "      <td>NaN</td>\n",
       "      <td>...</td>\n",
       "      <td>NaN</td>\n",
       "      <td>NaN</td>\n",
       "      <td>NaN</td>\n",
       "      <td>NaN</td>\n",
       "      <td>NaN</td>\n",
       "      <td>NaN</td>\n",
       "      <td>NaN</td>\n",
       "      <td>NaN</td>\n",
       "      <td>NaN</td>\n",
       "      <td>NaN</td>\n",
       "    </tr>\n",
       "    <tr>\n",
       "      <th>2019-11-03</th>\n",
       "      <td>135.0</td>\n",
       "      <td>NaN</td>\n",
       "      <td>NaN</td>\n",
       "      <td>NaN</td>\n",
       "      <td>NaN</td>\n",
       "      <td>NaN</td>\n",
       "      <td>NaN</td>\n",
       "      <td>NaN</td>\n",
       "      <td>NaN</td>\n",
       "      <td>NaN</td>\n",
       "      <td>...</td>\n",
       "      <td>NaN</td>\n",
       "      <td>NaN</td>\n",
       "      <td>NaN</td>\n",
       "      <td>NaN</td>\n",
       "      <td>NaN</td>\n",
       "      <td>NaN</td>\n",
       "      <td>NaN</td>\n",
       "      <td>NaN</td>\n",
       "      <td>NaN</td>\n",
       "      <td>NaN</td>\n",
       "    </tr>\n",
       "  </tbody>\n",
       "</table>\n",
       "<p>28 rows × 27 columns</p>\n",
       "</div>"
      ],
      "text/plain": [
       "lifetime       0     1     2     3     4     5     6     7     8     9   ...  \\\n",
       "dt_ts                                                                    ...   \n",
       "2019-10-07  204.0  25.0  20.0  22.0  11.0   8.0  12.0  16.0  11.0  10.0  ...   \n",
       "2019-10-08  167.0  27.0  21.0   9.0   7.0  11.0   9.0  12.0  10.0   7.0  ...   \n",
       "2019-10-09  176.0  13.0  11.0  10.0  12.0  12.0  10.0  13.0  11.0   6.0  ...   \n",
       "2019-10-10  174.0  16.0  18.0  14.0  17.0  14.0  12.0   9.0  14.0   6.0  ...   \n",
       "2019-10-11  136.0  12.0  16.0  13.0  12.0  10.0  10.0   6.0   2.0   6.0  ...   \n",
       "2019-10-12  125.0  16.0  20.0   7.0   8.0  11.0  10.0  11.0  10.0   8.0  ...   \n",
       "2019-10-13  148.0  19.0  10.0   8.0  10.0   8.0   8.0   7.0   7.0   7.0  ...   \n",
       "2019-10-14  185.0  21.0  19.0  19.0  15.0  13.0  10.0   8.0  14.0   7.0  ...   \n",
       "2019-10-15  186.0  26.0  17.0  15.0  10.0  10.0  15.0  14.0  12.0   4.0  ...   \n",
       "2019-10-16  166.0  21.0  12.0   5.0   8.0  10.0   7.0   9.0  10.0   7.0  ...   \n",
       "2019-10-17  170.0  24.0  22.0  15.0  15.0  16.0  16.0   8.0   8.0   7.0  ...   \n",
       "2019-10-18  156.0  13.0  15.0  15.0   9.0  10.0  10.0  12.0  11.0   5.0  ...   \n",
       "2019-10-19  159.0  15.0  18.0  11.0   4.0   9.0  10.0  10.0   5.0   7.0  ...   \n",
       "2019-10-20  144.0  15.0  11.0   7.0  10.0   9.0   6.0  10.0   8.0   4.0  ...   \n",
       "2019-10-21  161.0  15.0  14.0  17.0   7.0   6.0   8.0  15.0   6.0   4.0  ...   \n",
       "2019-10-22  157.0  18.0  13.0   8.0   6.0   9.0   9.0  11.0   9.0   8.0  ...   \n",
       "2019-10-23  189.0  18.0  15.0  14.0  10.0  10.0   9.0  11.0   5.0   5.0  ...   \n",
       "2019-10-24  162.0  17.0  12.0   8.0  10.0  10.0  11.0   5.0   7.0   8.0  ...   \n",
       "2019-10-25  147.0  13.0  14.0  15.0  14.0   9.0  10.0  10.0   7.0   3.0  ...   \n",
       "2019-10-26  139.0  21.0   9.0  10.0  12.0   8.0  10.0   4.0   5.0   NaN  ...   \n",
       "2019-10-27  139.0  10.0  10.0  10.0  11.0  12.0   9.0   6.0   NaN   NaN  ...   \n",
       "2019-10-28  158.0  15.0  15.0   9.0   9.0   2.0   4.0   NaN   NaN   NaN  ...   \n",
       "2019-10-29  135.0  23.0  17.0  13.0   8.0   3.0   NaN   NaN   NaN   NaN  ...   \n",
       "2019-10-30  134.0  19.0  10.0   8.0   3.0   NaN   NaN   NaN   NaN   NaN  ...   \n",
       "2019-10-31  132.0  12.0   6.0   3.0   NaN   NaN   NaN   NaN   NaN   NaN  ...   \n",
       "2019-11-01  112.0  11.0   3.0   NaN   NaN   NaN   NaN   NaN   NaN   NaN  ...   \n",
       "2019-11-02   97.0  10.0   NaN   NaN   NaN   NaN   NaN   NaN   NaN   NaN  ...   \n",
       "2019-11-03  135.0   NaN   NaN   NaN   NaN   NaN   NaN   NaN   NaN   NaN  ...   \n",
       "\n",
       "lifetime      17   18   19   20   21   22   23   24   25   26  \n",
       "dt_ts                                                          \n",
       "2019-10-07   4.0  9.0  5.0  3.0  4.0  7.0  7.0  8.0  9.0  6.0  \n",
       "2019-10-08   5.0  3.0  8.0  6.0  3.0  4.0  7.0  5.0  4.0  2.0  \n",
       "2019-10-09   3.0  2.0  5.0  2.0  6.0  2.0  1.0  4.0  3.0  NaN  \n",
       "2019-10-10  11.0  6.0  5.0  3.0  7.0  3.0  2.0  2.0  NaN  NaN  \n",
       "2019-10-11   8.0  4.0  3.0  3.0  4.0  4.0  2.0  NaN  NaN  NaN  \n",
       "2019-10-12   5.0  5.0  3.0  3.0  8.0  4.0  NaN  NaN  NaN  NaN  \n",
       "2019-10-13   2.0  3.0  2.0  5.0  1.0  NaN  NaN  NaN  NaN  NaN  \n",
       "2019-10-14   7.0  4.0  3.0  1.0  NaN  NaN  NaN  NaN  NaN  NaN  \n",
       "2019-10-15   6.0  5.0  3.0  NaN  NaN  NaN  NaN  NaN  NaN  NaN  \n",
       "2019-10-16   2.0  1.0  NaN  NaN  NaN  NaN  NaN  NaN  NaN  NaN  \n",
       "2019-10-17   1.0  NaN  NaN  NaN  NaN  NaN  NaN  NaN  NaN  NaN  \n",
       "2019-10-18   NaN  NaN  NaN  NaN  NaN  NaN  NaN  NaN  NaN  NaN  \n",
       "2019-10-19   NaN  NaN  NaN  NaN  NaN  NaN  NaN  NaN  NaN  NaN  \n",
       "2019-10-20   NaN  NaN  NaN  NaN  NaN  NaN  NaN  NaN  NaN  NaN  \n",
       "2019-10-21   NaN  NaN  NaN  NaN  NaN  NaN  NaN  NaN  NaN  NaN  \n",
       "2019-10-22   NaN  NaN  NaN  NaN  NaN  NaN  NaN  NaN  NaN  NaN  \n",
       "2019-10-23   NaN  NaN  NaN  NaN  NaN  NaN  NaN  NaN  NaN  NaN  \n",
       "2019-10-24   NaN  NaN  NaN  NaN  NaN  NaN  NaN  NaN  NaN  NaN  \n",
       "2019-10-25   NaN  NaN  NaN  NaN  NaN  NaN  NaN  NaN  NaN  NaN  \n",
       "2019-10-26   NaN  NaN  NaN  NaN  NaN  NaN  NaN  NaN  NaN  NaN  \n",
       "2019-10-27   NaN  NaN  NaN  NaN  NaN  NaN  NaN  NaN  NaN  NaN  \n",
       "2019-10-28   NaN  NaN  NaN  NaN  NaN  NaN  NaN  NaN  NaN  NaN  \n",
       "2019-10-29   NaN  NaN  NaN  NaN  NaN  NaN  NaN  NaN  NaN  NaN  \n",
       "2019-10-30   NaN  NaN  NaN  NaN  NaN  NaN  NaN  NaN  NaN  NaN  \n",
       "2019-10-31   NaN  NaN  NaN  NaN  NaN  NaN  NaN  NaN  NaN  NaN  \n",
       "2019-11-01   NaN  NaN  NaN  NaN  NaN  NaN  NaN  NaN  NaN  NaN  \n",
       "2019-11-02   NaN  NaN  NaN  NaN  NaN  NaN  NaN  NaN  NaN  NaN  \n",
       "2019-11-03   NaN  NaN  NaN  NaN  NaN  NaN  NaN  NaN  NaN  NaN  \n",
       "\n",
       "[28 rows x 27 columns]"
      ]
     },
     "execution_count": 38,
     "metadata": {},
     "output_type": "execute_result"
    }
   ],
   "source": [
    "data_lifetime = data.pivot_table(index='dt_ts', \n",
    "                                 columns='lifetime', \n",
    "                                 values='user_id', \n",
    "                                 aggfunc='nunique')\n",
    "data_lifetime"
   ]
  },
  {
   "cell_type": "markdown",
   "id": "429e4228",
   "metadata": {},
   "source": [
    "Следующим шагом высчитаем размер когорт. Сделаем сводную таблицу по дате первого посещения и в каждой из них посчитаем количество уникальных пользователей."
   ]
  },
  {
   "cell_type": "code",
   "execution_count": 39,
   "id": "4941a2f7",
   "metadata": {},
   "outputs": [
    {
     "data": {
      "text/html": [
       "<div>\n",
       "<style scoped>\n",
       "    .dataframe tbody tr th:only-of-type {\n",
       "        vertical-align: middle;\n",
       "    }\n",
       "\n",
       "    .dataframe tbody tr th {\n",
       "        vertical-align: top;\n",
       "    }\n",
       "\n",
       "    .dataframe thead th {\n",
       "        text-align: right;\n",
       "    }\n",
       "</style>\n",
       "<table border=\"1\" class=\"dataframe\">\n",
       "  <thead>\n",
       "    <tr style=\"text-align: right;\">\n",
       "      <th></th>\n",
       "      <th>sizes_cohort</th>\n",
       "    </tr>\n",
       "    <tr>\n",
       "      <th>dt_ts</th>\n",
       "      <th></th>\n",
       "    </tr>\n",
       "  </thead>\n",
       "  <tbody>\n",
       "    <tr>\n",
       "      <th>2019-10-07</th>\n",
       "      <td>204</td>\n",
       "    </tr>\n",
       "    <tr>\n",
       "      <th>2019-10-08</th>\n",
       "      <td>167</td>\n",
       "    </tr>\n",
       "    <tr>\n",
       "      <th>2019-10-09</th>\n",
       "      <td>176</td>\n",
       "    </tr>\n",
       "    <tr>\n",
       "      <th>2019-10-10</th>\n",
       "      <td>174</td>\n",
       "    </tr>\n",
       "    <tr>\n",
       "      <th>2019-10-11</th>\n",
       "      <td>136</td>\n",
       "    </tr>\n",
       "    <tr>\n",
       "      <th>2019-10-12</th>\n",
       "      <td>125</td>\n",
       "    </tr>\n",
       "    <tr>\n",
       "      <th>2019-10-13</th>\n",
       "      <td>148</td>\n",
       "    </tr>\n",
       "    <tr>\n",
       "      <th>2019-10-14</th>\n",
       "      <td>185</td>\n",
       "    </tr>\n",
       "    <tr>\n",
       "      <th>2019-10-15</th>\n",
       "      <td>186</td>\n",
       "    </tr>\n",
       "    <tr>\n",
       "      <th>2019-10-16</th>\n",
       "      <td>166</td>\n",
       "    </tr>\n",
       "    <tr>\n",
       "      <th>2019-10-17</th>\n",
       "      <td>170</td>\n",
       "    </tr>\n",
       "    <tr>\n",
       "      <th>2019-10-18</th>\n",
       "      <td>156</td>\n",
       "    </tr>\n",
       "    <tr>\n",
       "      <th>2019-10-19</th>\n",
       "      <td>159</td>\n",
       "    </tr>\n",
       "    <tr>\n",
       "      <th>2019-10-20</th>\n",
       "      <td>144</td>\n",
       "    </tr>\n",
       "    <tr>\n",
       "      <th>2019-10-21</th>\n",
       "      <td>161</td>\n",
       "    </tr>\n",
       "    <tr>\n",
       "      <th>2019-10-22</th>\n",
       "      <td>157</td>\n",
       "    </tr>\n",
       "    <tr>\n",
       "      <th>2019-10-23</th>\n",
       "      <td>189</td>\n",
       "    </tr>\n",
       "    <tr>\n",
       "      <th>2019-10-24</th>\n",
       "      <td>162</td>\n",
       "    </tr>\n",
       "    <tr>\n",
       "      <th>2019-10-25</th>\n",
       "      <td>147</td>\n",
       "    </tr>\n",
       "    <tr>\n",
       "      <th>2019-10-26</th>\n",
       "      <td>139</td>\n",
       "    </tr>\n",
       "    <tr>\n",
       "      <th>2019-10-27</th>\n",
       "      <td>139</td>\n",
       "    </tr>\n",
       "    <tr>\n",
       "      <th>2019-10-28</th>\n",
       "      <td>158</td>\n",
       "    </tr>\n",
       "    <tr>\n",
       "      <th>2019-10-29</th>\n",
       "      <td>135</td>\n",
       "    </tr>\n",
       "    <tr>\n",
       "      <th>2019-10-30</th>\n",
       "      <td>134</td>\n",
       "    </tr>\n",
       "    <tr>\n",
       "      <th>2019-10-31</th>\n",
       "      <td>132</td>\n",
       "    </tr>\n",
       "    <tr>\n",
       "      <th>2019-11-01</th>\n",
       "      <td>112</td>\n",
       "    </tr>\n",
       "    <tr>\n",
       "      <th>2019-11-02</th>\n",
       "      <td>97</td>\n",
       "    </tr>\n",
       "    <tr>\n",
       "      <th>2019-11-03</th>\n",
       "      <td>135</td>\n",
       "    </tr>\n",
       "  </tbody>\n",
       "</table>\n",
       "</div>"
      ],
      "text/plain": [
       "            sizes_cohort\n",
       "dt_ts                   \n",
       "2019-10-07           204\n",
       "2019-10-08           167\n",
       "2019-10-09           176\n",
       "2019-10-10           174\n",
       "2019-10-11           136\n",
       "2019-10-12           125\n",
       "2019-10-13           148\n",
       "2019-10-14           185\n",
       "2019-10-15           186\n",
       "2019-10-16           166\n",
       "2019-10-17           170\n",
       "2019-10-18           156\n",
       "2019-10-19           159\n",
       "2019-10-20           144\n",
       "2019-10-21           161\n",
       "2019-10-22           157\n",
       "2019-10-23           189\n",
       "2019-10-24           162\n",
       "2019-10-25           147\n",
       "2019-10-26           139\n",
       "2019-10-27           139\n",
       "2019-10-28           158\n",
       "2019-10-29           135\n",
       "2019-10-30           134\n",
       "2019-10-31           132\n",
       "2019-11-01           112\n",
       "2019-11-02            97\n",
       "2019-11-03           135"
      ]
     },
     "execution_count": 39,
     "metadata": {},
     "output_type": "execute_result"
    }
   ],
   "source": [
    "sizes_cohort = (data.groupby('dt_ts')['user_id'].\n",
    "                agg(['nunique']).\n",
    "                rename(columns={'nunique':'sizes_cohort'})\n",
    "               )\n",
    "sizes_cohort"
   ]
  },
  {
   "cell_type": "markdown",
   "id": "cc064615",
   "metadata": {},
   "source": [
    "Теперь объединим таблицу удержания и таблицу размера когорт по столбцу дат, NaN заменим на \"0\""
   ]
  },
  {
   "cell_type": "code",
   "execution_count": 40,
   "id": "6cbda8e9",
   "metadata": {},
   "outputs": [
    {
     "data": {
      "text/html": [
       "<div>\n",
       "<style scoped>\n",
       "    .dataframe tbody tr th:only-of-type {\n",
       "        vertical-align: middle;\n",
       "    }\n",
       "\n",
       "    .dataframe tbody tr th {\n",
       "        vertical-align: top;\n",
       "    }\n",
       "\n",
       "    .dataframe thead th {\n",
       "        text-align: right;\n",
       "    }\n",
       "</style>\n",
       "<table border=\"1\" class=\"dataframe\">\n",
       "  <thead>\n",
       "    <tr style=\"text-align: right;\">\n",
       "      <th></th>\n",
       "      <th>sizes_cohort</th>\n",
       "      <th>0</th>\n",
       "      <th>1</th>\n",
       "      <th>2</th>\n",
       "      <th>3</th>\n",
       "      <th>4</th>\n",
       "      <th>5</th>\n",
       "      <th>6</th>\n",
       "      <th>7</th>\n",
       "      <th>8</th>\n",
       "      <th>...</th>\n",
       "      <th>17</th>\n",
       "      <th>18</th>\n",
       "      <th>19</th>\n",
       "      <th>20</th>\n",
       "      <th>21</th>\n",
       "      <th>22</th>\n",
       "      <th>23</th>\n",
       "      <th>24</th>\n",
       "      <th>25</th>\n",
       "      <th>26</th>\n",
       "    </tr>\n",
       "    <tr>\n",
       "      <th>dt_ts</th>\n",
       "      <th></th>\n",
       "      <th></th>\n",
       "      <th></th>\n",
       "      <th></th>\n",
       "      <th></th>\n",
       "      <th></th>\n",
       "      <th></th>\n",
       "      <th></th>\n",
       "      <th></th>\n",
       "      <th></th>\n",
       "      <th></th>\n",
       "      <th></th>\n",
       "      <th></th>\n",
       "      <th></th>\n",
       "      <th></th>\n",
       "      <th></th>\n",
       "      <th></th>\n",
       "      <th></th>\n",
       "      <th></th>\n",
       "      <th></th>\n",
       "      <th></th>\n",
       "    </tr>\n",
       "  </thead>\n",
       "  <tbody>\n",
       "    <tr>\n",
       "      <th>2019-10-07</th>\n",
       "      <td>204</td>\n",
       "      <td>204.0</td>\n",
       "      <td>25.0</td>\n",
       "      <td>20.0</td>\n",
       "      <td>22.0</td>\n",
       "      <td>11.0</td>\n",
       "      <td>8.0</td>\n",
       "      <td>12.0</td>\n",
       "      <td>16.0</td>\n",
       "      <td>11.0</td>\n",
       "      <td>...</td>\n",
       "      <td>4.0</td>\n",
       "      <td>9.0</td>\n",
       "      <td>5.0</td>\n",
       "      <td>3.0</td>\n",
       "      <td>4.0</td>\n",
       "      <td>7.0</td>\n",
       "      <td>7.0</td>\n",
       "      <td>8.0</td>\n",
       "      <td>9.0</td>\n",
       "      <td>6.0</td>\n",
       "    </tr>\n",
       "    <tr>\n",
       "      <th>2019-10-08</th>\n",
       "      <td>167</td>\n",
       "      <td>167.0</td>\n",
       "      <td>27.0</td>\n",
       "      <td>21.0</td>\n",
       "      <td>9.0</td>\n",
       "      <td>7.0</td>\n",
       "      <td>11.0</td>\n",
       "      <td>9.0</td>\n",
       "      <td>12.0</td>\n",
       "      <td>10.0</td>\n",
       "      <td>...</td>\n",
       "      <td>5.0</td>\n",
       "      <td>3.0</td>\n",
       "      <td>8.0</td>\n",
       "      <td>6.0</td>\n",
       "      <td>3.0</td>\n",
       "      <td>4.0</td>\n",
       "      <td>7.0</td>\n",
       "      <td>5.0</td>\n",
       "      <td>4.0</td>\n",
       "      <td>2.0</td>\n",
       "    </tr>\n",
       "    <tr>\n",
       "      <th>2019-10-09</th>\n",
       "      <td>176</td>\n",
       "      <td>176.0</td>\n",
       "      <td>13.0</td>\n",
       "      <td>11.0</td>\n",
       "      <td>10.0</td>\n",
       "      <td>12.0</td>\n",
       "      <td>12.0</td>\n",
       "      <td>10.0</td>\n",
       "      <td>13.0</td>\n",
       "      <td>11.0</td>\n",
       "      <td>...</td>\n",
       "      <td>3.0</td>\n",
       "      <td>2.0</td>\n",
       "      <td>5.0</td>\n",
       "      <td>2.0</td>\n",
       "      <td>6.0</td>\n",
       "      <td>2.0</td>\n",
       "      <td>1.0</td>\n",
       "      <td>4.0</td>\n",
       "      <td>3.0</td>\n",
       "      <td>0.0</td>\n",
       "    </tr>\n",
       "    <tr>\n",
       "      <th>2019-10-10</th>\n",
       "      <td>174</td>\n",
       "      <td>174.0</td>\n",
       "      <td>16.0</td>\n",
       "      <td>18.0</td>\n",
       "      <td>14.0</td>\n",
       "      <td>17.0</td>\n",
       "      <td>14.0</td>\n",
       "      <td>12.0</td>\n",
       "      <td>9.0</td>\n",
       "      <td>14.0</td>\n",
       "      <td>...</td>\n",
       "      <td>11.0</td>\n",
       "      <td>6.0</td>\n",
       "      <td>5.0</td>\n",
       "      <td>3.0</td>\n",
       "      <td>7.0</td>\n",
       "      <td>3.0</td>\n",
       "      <td>2.0</td>\n",
       "      <td>2.0</td>\n",
       "      <td>0.0</td>\n",
       "      <td>0.0</td>\n",
       "    </tr>\n",
       "    <tr>\n",
       "      <th>2019-10-11</th>\n",
       "      <td>136</td>\n",
       "      <td>136.0</td>\n",
       "      <td>12.0</td>\n",
       "      <td>16.0</td>\n",
       "      <td>13.0</td>\n",
       "      <td>12.0</td>\n",
       "      <td>10.0</td>\n",
       "      <td>10.0</td>\n",
       "      <td>6.0</td>\n",
       "      <td>2.0</td>\n",
       "      <td>...</td>\n",
       "      <td>8.0</td>\n",
       "      <td>4.0</td>\n",
       "      <td>3.0</td>\n",
       "      <td>3.0</td>\n",
       "      <td>4.0</td>\n",
       "      <td>4.0</td>\n",
       "      <td>2.0</td>\n",
       "      <td>0.0</td>\n",
       "      <td>0.0</td>\n",
       "      <td>0.0</td>\n",
       "    </tr>\n",
       "    <tr>\n",
       "      <th>2019-10-12</th>\n",
       "      <td>125</td>\n",
       "      <td>125.0</td>\n",
       "      <td>16.0</td>\n",
       "      <td>20.0</td>\n",
       "      <td>7.0</td>\n",
       "      <td>8.0</td>\n",
       "      <td>11.0</td>\n",
       "      <td>10.0</td>\n",
       "      <td>11.0</td>\n",
       "      <td>10.0</td>\n",
       "      <td>...</td>\n",
       "      <td>5.0</td>\n",
       "      <td>5.0</td>\n",
       "      <td>3.0</td>\n",
       "      <td>3.0</td>\n",
       "      <td>8.0</td>\n",
       "      <td>4.0</td>\n",
       "      <td>0.0</td>\n",
       "      <td>0.0</td>\n",
       "      <td>0.0</td>\n",
       "      <td>0.0</td>\n",
       "    </tr>\n",
       "    <tr>\n",
       "      <th>2019-10-13</th>\n",
       "      <td>148</td>\n",
       "      <td>148.0</td>\n",
       "      <td>19.0</td>\n",
       "      <td>10.0</td>\n",
       "      <td>8.0</td>\n",
       "      <td>10.0</td>\n",
       "      <td>8.0</td>\n",
       "      <td>8.0</td>\n",
       "      <td>7.0</td>\n",
       "      <td>7.0</td>\n",
       "      <td>...</td>\n",
       "      <td>2.0</td>\n",
       "      <td>3.0</td>\n",
       "      <td>2.0</td>\n",
       "      <td>5.0</td>\n",
       "      <td>1.0</td>\n",
       "      <td>0.0</td>\n",
       "      <td>0.0</td>\n",
       "      <td>0.0</td>\n",
       "      <td>0.0</td>\n",
       "      <td>0.0</td>\n",
       "    </tr>\n",
       "    <tr>\n",
       "      <th>2019-10-14</th>\n",
       "      <td>185</td>\n",
       "      <td>185.0</td>\n",
       "      <td>21.0</td>\n",
       "      <td>19.0</td>\n",
       "      <td>19.0</td>\n",
       "      <td>15.0</td>\n",
       "      <td>13.0</td>\n",
       "      <td>10.0</td>\n",
       "      <td>8.0</td>\n",
       "      <td>14.0</td>\n",
       "      <td>...</td>\n",
       "      <td>7.0</td>\n",
       "      <td>4.0</td>\n",
       "      <td>3.0</td>\n",
       "      <td>1.0</td>\n",
       "      <td>0.0</td>\n",
       "      <td>0.0</td>\n",
       "      <td>0.0</td>\n",
       "      <td>0.0</td>\n",
       "      <td>0.0</td>\n",
       "      <td>0.0</td>\n",
       "    </tr>\n",
       "    <tr>\n",
       "      <th>2019-10-15</th>\n",
       "      <td>186</td>\n",
       "      <td>186.0</td>\n",
       "      <td>26.0</td>\n",
       "      <td>17.0</td>\n",
       "      <td>15.0</td>\n",
       "      <td>10.0</td>\n",
       "      <td>10.0</td>\n",
       "      <td>15.0</td>\n",
       "      <td>14.0</td>\n",
       "      <td>12.0</td>\n",
       "      <td>...</td>\n",
       "      <td>6.0</td>\n",
       "      <td>5.0</td>\n",
       "      <td>3.0</td>\n",
       "      <td>0.0</td>\n",
       "      <td>0.0</td>\n",
       "      <td>0.0</td>\n",
       "      <td>0.0</td>\n",
       "      <td>0.0</td>\n",
       "      <td>0.0</td>\n",
       "      <td>0.0</td>\n",
       "    </tr>\n",
       "    <tr>\n",
       "      <th>2019-10-16</th>\n",
       "      <td>166</td>\n",
       "      <td>166.0</td>\n",
       "      <td>21.0</td>\n",
       "      <td>12.0</td>\n",
       "      <td>5.0</td>\n",
       "      <td>8.0</td>\n",
       "      <td>10.0</td>\n",
       "      <td>7.0</td>\n",
       "      <td>9.0</td>\n",
       "      <td>10.0</td>\n",
       "      <td>...</td>\n",
       "      <td>2.0</td>\n",
       "      <td>1.0</td>\n",
       "      <td>0.0</td>\n",
       "      <td>0.0</td>\n",
       "      <td>0.0</td>\n",
       "      <td>0.0</td>\n",
       "      <td>0.0</td>\n",
       "      <td>0.0</td>\n",
       "      <td>0.0</td>\n",
       "      <td>0.0</td>\n",
       "    </tr>\n",
       "    <tr>\n",
       "      <th>2019-10-17</th>\n",
       "      <td>170</td>\n",
       "      <td>170.0</td>\n",
       "      <td>24.0</td>\n",
       "      <td>22.0</td>\n",
       "      <td>15.0</td>\n",
       "      <td>15.0</td>\n",
       "      <td>16.0</td>\n",
       "      <td>16.0</td>\n",
       "      <td>8.0</td>\n",
       "      <td>8.0</td>\n",
       "      <td>...</td>\n",
       "      <td>1.0</td>\n",
       "      <td>0.0</td>\n",
       "      <td>0.0</td>\n",
       "      <td>0.0</td>\n",
       "      <td>0.0</td>\n",
       "      <td>0.0</td>\n",
       "      <td>0.0</td>\n",
       "      <td>0.0</td>\n",
       "      <td>0.0</td>\n",
       "      <td>0.0</td>\n",
       "    </tr>\n",
       "    <tr>\n",
       "      <th>2019-10-18</th>\n",
       "      <td>156</td>\n",
       "      <td>156.0</td>\n",
       "      <td>13.0</td>\n",
       "      <td>15.0</td>\n",
       "      <td>15.0</td>\n",
       "      <td>9.0</td>\n",
       "      <td>10.0</td>\n",
       "      <td>10.0</td>\n",
       "      <td>12.0</td>\n",
       "      <td>11.0</td>\n",
       "      <td>...</td>\n",
       "      <td>0.0</td>\n",
       "      <td>0.0</td>\n",
       "      <td>0.0</td>\n",
       "      <td>0.0</td>\n",
       "      <td>0.0</td>\n",
       "      <td>0.0</td>\n",
       "      <td>0.0</td>\n",
       "      <td>0.0</td>\n",
       "      <td>0.0</td>\n",
       "      <td>0.0</td>\n",
       "    </tr>\n",
       "    <tr>\n",
       "      <th>2019-10-19</th>\n",
       "      <td>159</td>\n",
       "      <td>159.0</td>\n",
       "      <td>15.0</td>\n",
       "      <td>18.0</td>\n",
       "      <td>11.0</td>\n",
       "      <td>4.0</td>\n",
       "      <td>9.0</td>\n",
       "      <td>10.0</td>\n",
       "      <td>10.0</td>\n",
       "      <td>5.0</td>\n",
       "      <td>...</td>\n",
       "      <td>0.0</td>\n",
       "      <td>0.0</td>\n",
       "      <td>0.0</td>\n",
       "      <td>0.0</td>\n",
       "      <td>0.0</td>\n",
       "      <td>0.0</td>\n",
       "      <td>0.0</td>\n",
       "      <td>0.0</td>\n",
       "      <td>0.0</td>\n",
       "      <td>0.0</td>\n",
       "    </tr>\n",
       "    <tr>\n",
       "      <th>2019-10-20</th>\n",
       "      <td>144</td>\n",
       "      <td>144.0</td>\n",
       "      <td>15.0</td>\n",
       "      <td>11.0</td>\n",
       "      <td>7.0</td>\n",
       "      <td>10.0</td>\n",
       "      <td>9.0</td>\n",
       "      <td>6.0</td>\n",
       "      <td>10.0</td>\n",
       "      <td>8.0</td>\n",
       "      <td>...</td>\n",
       "      <td>0.0</td>\n",
       "      <td>0.0</td>\n",
       "      <td>0.0</td>\n",
       "      <td>0.0</td>\n",
       "      <td>0.0</td>\n",
       "      <td>0.0</td>\n",
       "      <td>0.0</td>\n",
       "      <td>0.0</td>\n",
       "      <td>0.0</td>\n",
       "      <td>0.0</td>\n",
       "    </tr>\n",
       "    <tr>\n",
       "      <th>2019-10-21</th>\n",
       "      <td>161</td>\n",
       "      <td>161.0</td>\n",
       "      <td>15.0</td>\n",
       "      <td>14.0</td>\n",
       "      <td>17.0</td>\n",
       "      <td>7.0</td>\n",
       "      <td>6.0</td>\n",
       "      <td>8.0</td>\n",
       "      <td>15.0</td>\n",
       "      <td>6.0</td>\n",
       "      <td>...</td>\n",
       "      <td>0.0</td>\n",
       "      <td>0.0</td>\n",
       "      <td>0.0</td>\n",
       "      <td>0.0</td>\n",
       "      <td>0.0</td>\n",
       "      <td>0.0</td>\n",
       "      <td>0.0</td>\n",
       "      <td>0.0</td>\n",
       "      <td>0.0</td>\n",
       "      <td>0.0</td>\n",
       "    </tr>\n",
       "    <tr>\n",
       "      <th>2019-10-22</th>\n",
       "      <td>157</td>\n",
       "      <td>157.0</td>\n",
       "      <td>18.0</td>\n",
       "      <td>13.0</td>\n",
       "      <td>8.0</td>\n",
       "      <td>6.0</td>\n",
       "      <td>9.0</td>\n",
       "      <td>9.0</td>\n",
       "      <td>11.0</td>\n",
       "      <td>9.0</td>\n",
       "      <td>...</td>\n",
       "      <td>0.0</td>\n",
       "      <td>0.0</td>\n",
       "      <td>0.0</td>\n",
       "      <td>0.0</td>\n",
       "      <td>0.0</td>\n",
       "      <td>0.0</td>\n",
       "      <td>0.0</td>\n",
       "      <td>0.0</td>\n",
       "      <td>0.0</td>\n",
       "      <td>0.0</td>\n",
       "    </tr>\n",
       "    <tr>\n",
       "      <th>2019-10-23</th>\n",
       "      <td>189</td>\n",
       "      <td>189.0</td>\n",
       "      <td>18.0</td>\n",
       "      <td>15.0</td>\n",
       "      <td>14.0</td>\n",
       "      <td>10.0</td>\n",
       "      <td>10.0</td>\n",
       "      <td>9.0</td>\n",
       "      <td>11.0</td>\n",
       "      <td>5.0</td>\n",
       "      <td>...</td>\n",
       "      <td>0.0</td>\n",
       "      <td>0.0</td>\n",
       "      <td>0.0</td>\n",
       "      <td>0.0</td>\n",
       "      <td>0.0</td>\n",
       "      <td>0.0</td>\n",
       "      <td>0.0</td>\n",
       "      <td>0.0</td>\n",
       "      <td>0.0</td>\n",
       "      <td>0.0</td>\n",
       "    </tr>\n",
       "    <tr>\n",
       "      <th>2019-10-24</th>\n",
       "      <td>162</td>\n",
       "      <td>162.0</td>\n",
       "      <td>17.0</td>\n",
       "      <td>12.0</td>\n",
       "      <td>8.0</td>\n",
       "      <td>10.0</td>\n",
       "      <td>10.0</td>\n",
       "      <td>11.0</td>\n",
       "      <td>5.0</td>\n",
       "      <td>7.0</td>\n",
       "      <td>...</td>\n",
       "      <td>0.0</td>\n",
       "      <td>0.0</td>\n",
       "      <td>0.0</td>\n",
       "      <td>0.0</td>\n",
       "      <td>0.0</td>\n",
       "      <td>0.0</td>\n",
       "      <td>0.0</td>\n",
       "      <td>0.0</td>\n",
       "      <td>0.0</td>\n",
       "      <td>0.0</td>\n",
       "    </tr>\n",
       "    <tr>\n",
       "      <th>2019-10-25</th>\n",
       "      <td>147</td>\n",
       "      <td>147.0</td>\n",
       "      <td>13.0</td>\n",
       "      <td>14.0</td>\n",
       "      <td>15.0</td>\n",
       "      <td>14.0</td>\n",
       "      <td>9.0</td>\n",
       "      <td>10.0</td>\n",
       "      <td>10.0</td>\n",
       "      <td>7.0</td>\n",
       "      <td>...</td>\n",
       "      <td>0.0</td>\n",
       "      <td>0.0</td>\n",
       "      <td>0.0</td>\n",
       "      <td>0.0</td>\n",
       "      <td>0.0</td>\n",
       "      <td>0.0</td>\n",
       "      <td>0.0</td>\n",
       "      <td>0.0</td>\n",
       "      <td>0.0</td>\n",
       "      <td>0.0</td>\n",
       "    </tr>\n",
       "    <tr>\n",
       "      <th>2019-10-26</th>\n",
       "      <td>139</td>\n",
       "      <td>139.0</td>\n",
       "      <td>21.0</td>\n",
       "      <td>9.0</td>\n",
       "      <td>10.0</td>\n",
       "      <td>12.0</td>\n",
       "      <td>8.0</td>\n",
       "      <td>10.0</td>\n",
       "      <td>4.0</td>\n",
       "      <td>5.0</td>\n",
       "      <td>...</td>\n",
       "      <td>0.0</td>\n",
       "      <td>0.0</td>\n",
       "      <td>0.0</td>\n",
       "      <td>0.0</td>\n",
       "      <td>0.0</td>\n",
       "      <td>0.0</td>\n",
       "      <td>0.0</td>\n",
       "      <td>0.0</td>\n",
       "      <td>0.0</td>\n",
       "      <td>0.0</td>\n",
       "    </tr>\n",
       "    <tr>\n",
       "      <th>2019-10-27</th>\n",
       "      <td>139</td>\n",
       "      <td>139.0</td>\n",
       "      <td>10.0</td>\n",
       "      <td>10.0</td>\n",
       "      <td>10.0</td>\n",
       "      <td>11.0</td>\n",
       "      <td>12.0</td>\n",
       "      <td>9.0</td>\n",
       "      <td>6.0</td>\n",
       "      <td>0.0</td>\n",
       "      <td>...</td>\n",
       "      <td>0.0</td>\n",
       "      <td>0.0</td>\n",
       "      <td>0.0</td>\n",
       "      <td>0.0</td>\n",
       "      <td>0.0</td>\n",
       "      <td>0.0</td>\n",
       "      <td>0.0</td>\n",
       "      <td>0.0</td>\n",
       "      <td>0.0</td>\n",
       "      <td>0.0</td>\n",
       "    </tr>\n",
       "    <tr>\n",
       "      <th>2019-10-28</th>\n",
       "      <td>158</td>\n",
       "      <td>158.0</td>\n",
       "      <td>15.0</td>\n",
       "      <td>15.0</td>\n",
       "      <td>9.0</td>\n",
       "      <td>9.0</td>\n",
       "      <td>2.0</td>\n",
       "      <td>4.0</td>\n",
       "      <td>0.0</td>\n",
       "      <td>0.0</td>\n",
       "      <td>...</td>\n",
       "      <td>0.0</td>\n",
       "      <td>0.0</td>\n",
       "      <td>0.0</td>\n",
       "      <td>0.0</td>\n",
       "      <td>0.0</td>\n",
       "      <td>0.0</td>\n",
       "      <td>0.0</td>\n",
       "      <td>0.0</td>\n",
       "      <td>0.0</td>\n",
       "      <td>0.0</td>\n",
       "    </tr>\n",
       "    <tr>\n",
       "      <th>2019-10-29</th>\n",
       "      <td>135</td>\n",
       "      <td>135.0</td>\n",
       "      <td>23.0</td>\n",
       "      <td>17.0</td>\n",
       "      <td>13.0</td>\n",
       "      <td>8.0</td>\n",
       "      <td>3.0</td>\n",
       "      <td>0.0</td>\n",
       "      <td>0.0</td>\n",
       "      <td>0.0</td>\n",
       "      <td>...</td>\n",
       "      <td>0.0</td>\n",
       "      <td>0.0</td>\n",
       "      <td>0.0</td>\n",
       "      <td>0.0</td>\n",
       "      <td>0.0</td>\n",
       "      <td>0.0</td>\n",
       "      <td>0.0</td>\n",
       "      <td>0.0</td>\n",
       "      <td>0.0</td>\n",
       "      <td>0.0</td>\n",
       "    </tr>\n",
       "    <tr>\n",
       "      <th>2019-10-30</th>\n",
       "      <td>134</td>\n",
       "      <td>134.0</td>\n",
       "      <td>19.0</td>\n",
       "      <td>10.0</td>\n",
       "      <td>8.0</td>\n",
       "      <td>3.0</td>\n",
       "      <td>0.0</td>\n",
       "      <td>0.0</td>\n",
       "      <td>0.0</td>\n",
       "      <td>0.0</td>\n",
       "      <td>...</td>\n",
       "      <td>0.0</td>\n",
       "      <td>0.0</td>\n",
       "      <td>0.0</td>\n",
       "      <td>0.0</td>\n",
       "      <td>0.0</td>\n",
       "      <td>0.0</td>\n",
       "      <td>0.0</td>\n",
       "      <td>0.0</td>\n",
       "      <td>0.0</td>\n",
       "      <td>0.0</td>\n",
       "    </tr>\n",
       "    <tr>\n",
       "      <th>2019-10-31</th>\n",
       "      <td>132</td>\n",
       "      <td>132.0</td>\n",
       "      <td>12.0</td>\n",
       "      <td>6.0</td>\n",
       "      <td>3.0</td>\n",
       "      <td>0.0</td>\n",
       "      <td>0.0</td>\n",
       "      <td>0.0</td>\n",
       "      <td>0.0</td>\n",
       "      <td>0.0</td>\n",
       "      <td>...</td>\n",
       "      <td>0.0</td>\n",
       "      <td>0.0</td>\n",
       "      <td>0.0</td>\n",
       "      <td>0.0</td>\n",
       "      <td>0.0</td>\n",
       "      <td>0.0</td>\n",
       "      <td>0.0</td>\n",
       "      <td>0.0</td>\n",
       "      <td>0.0</td>\n",
       "      <td>0.0</td>\n",
       "    </tr>\n",
       "    <tr>\n",
       "      <th>2019-11-01</th>\n",
       "      <td>112</td>\n",
       "      <td>112.0</td>\n",
       "      <td>11.0</td>\n",
       "      <td>3.0</td>\n",
       "      <td>0.0</td>\n",
       "      <td>0.0</td>\n",
       "      <td>0.0</td>\n",
       "      <td>0.0</td>\n",
       "      <td>0.0</td>\n",
       "      <td>0.0</td>\n",
       "      <td>...</td>\n",
       "      <td>0.0</td>\n",
       "      <td>0.0</td>\n",
       "      <td>0.0</td>\n",
       "      <td>0.0</td>\n",
       "      <td>0.0</td>\n",
       "      <td>0.0</td>\n",
       "      <td>0.0</td>\n",
       "      <td>0.0</td>\n",
       "      <td>0.0</td>\n",
       "      <td>0.0</td>\n",
       "    </tr>\n",
       "    <tr>\n",
       "      <th>2019-11-02</th>\n",
       "      <td>97</td>\n",
       "      <td>97.0</td>\n",
       "      <td>10.0</td>\n",
       "      <td>0.0</td>\n",
       "      <td>0.0</td>\n",
       "      <td>0.0</td>\n",
       "      <td>0.0</td>\n",
       "      <td>0.0</td>\n",
       "      <td>0.0</td>\n",
       "      <td>0.0</td>\n",
       "      <td>...</td>\n",
       "      <td>0.0</td>\n",
       "      <td>0.0</td>\n",
       "      <td>0.0</td>\n",
       "      <td>0.0</td>\n",
       "      <td>0.0</td>\n",
       "      <td>0.0</td>\n",
       "      <td>0.0</td>\n",
       "      <td>0.0</td>\n",
       "      <td>0.0</td>\n",
       "      <td>0.0</td>\n",
       "    </tr>\n",
       "    <tr>\n",
       "      <th>2019-11-03</th>\n",
       "      <td>135</td>\n",
       "      <td>135.0</td>\n",
       "      <td>0.0</td>\n",
       "      <td>0.0</td>\n",
       "      <td>0.0</td>\n",
       "      <td>0.0</td>\n",
       "      <td>0.0</td>\n",
       "      <td>0.0</td>\n",
       "      <td>0.0</td>\n",
       "      <td>0.0</td>\n",
       "      <td>...</td>\n",
       "      <td>0.0</td>\n",
       "      <td>0.0</td>\n",
       "      <td>0.0</td>\n",
       "      <td>0.0</td>\n",
       "      <td>0.0</td>\n",
       "      <td>0.0</td>\n",
       "      <td>0.0</td>\n",
       "      <td>0.0</td>\n",
       "      <td>0.0</td>\n",
       "      <td>0.0</td>\n",
       "    </tr>\n",
       "  </tbody>\n",
       "</table>\n",
       "<p>28 rows × 28 columns</p>\n",
       "</div>"
      ],
      "text/plain": [
       "            sizes_cohort      0     1     2     3     4     5     6     7  \\\n",
       "dt_ts                                                                       \n",
       "2019-10-07           204  204.0  25.0  20.0  22.0  11.0   8.0  12.0  16.0   \n",
       "2019-10-08           167  167.0  27.0  21.0   9.0   7.0  11.0   9.0  12.0   \n",
       "2019-10-09           176  176.0  13.0  11.0  10.0  12.0  12.0  10.0  13.0   \n",
       "2019-10-10           174  174.0  16.0  18.0  14.0  17.0  14.0  12.0   9.0   \n",
       "2019-10-11           136  136.0  12.0  16.0  13.0  12.0  10.0  10.0   6.0   \n",
       "2019-10-12           125  125.0  16.0  20.0   7.0   8.0  11.0  10.0  11.0   \n",
       "2019-10-13           148  148.0  19.0  10.0   8.0  10.0   8.0   8.0   7.0   \n",
       "2019-10-14           185  185.0  21.0  19.0  19.0  15.0  13.0  10.0   8.0   \n",
       "2019-10-15           186  186.0  26.0  17.0  15.0  10.0  10.0  15.0  14.0   \n",
       "2019-10-16           166  166.0  21.0  12.0   5.0   8.0  10.0   7.0   9.0   \n",
       "2019-10-17           170  170.0  24.0  22.0  15.0  15.0  16.0  16.0   8.0   \n",
       "2019-10-18           156  156.0  13.0  15.0  15.0   9.0  10.0  10.0  12.0   \n",
       "2019-10-19           159  159.0  15.0  18.0  11.0   4.0   9.0  10.0  10.0   \n",
       "2019-10-20           144  144.0  15.0  11.0   7.0  10.0   9.0   6.0  10.0   \n",
       "2019-10-21           161  161.0  15.0  14.0  17.0   7.0   6.0   8.0  15.0   \n",
       "2019-10-22           157  157.0  18.0  13.0   8.0   6.0   9.0   9.0  11.0   \n",
       "2019-10-23           189  189.0  18.0  15.0  14.0  10.0  10.0   9.0  11.0   \n",
       "2019-10-24           162  162.0  17.0  12.0   8.0  10.0  10.0  11.0   5.0   \n",
       "2019-10-25           147  147.0  13.0  14.0  15.0  14.0   9.0  10.0  10.0   \n",
       "2019-10-26           139  139.0  21.0   9.0  10.0  12.0   8.0  10.0   4.0   \n",
       "2019-10-27           139  139.0  10.0  10.0  10.0  11.0  12.0   9.0   6.0   \n",
       "2019-10-28           158  158.0  15.0  15.0   9.0   9.0   2.0   4.0   0.0   \n",
       "2019-10-29           135  135.0  23.0  17.0  13.0   8.0   3.0   0.0   0.0   \n",
       "2019-10-30           134  134.0  19.0  10.0   8.0   3.0   0.0   0.0   0.0   \n",
       "2019-10-31           132  132.0  12.0   6.0   3.0   0.0   0.0   0.0   0.0   \n",
       "2019-11-01           112  112.0  11.0   3.0   0.0   0.0   0.0   0.0   0.0   \n",
       "2019-11-02            97   97.0  10.0   0.0   0.0   0.0   0.0   0.0   0.0   \n",
       "2019-11-03           135  135.0   0.0   0.0   0.0   0.0   0.0   0.0   0.0   \n",
       "\n",
       "               8  ...    17   18   19   20   21   22   23   24   25   26  \n",
       "dt_ts             ...                                                     \n",
       "2019-10-07  11.0  ...   4.0  9.0  5.0  3.0  4.0  7.0  7.0  8.0  9.0  6.0  \n",
       "2019-10-08  10.0  ...   5.0  3.0  8.0  6.0  3.0  4.0  7.0  5.0  4.0  2.0  \n",
       "2019-10-09  11.0  ...   3.0  2.0  5.0  2.0  6.0  2.0  1.0  4.0  3.0  0.0  \n",
       "2019-10-10  14.0  ...  11.0  6.0  5.0  3.0  7.0  3.0  2.0  2.0  0.0  0.0  \n",
       "2019-10-11   2.0  ...   8.0  4.0  3.0  3.0  4.0  4.0  2.0  0.0  0.0  0.0  \n",
       "2019-10-12  10.0  ...   5.0  5.0  3.0  3.0  8.0  4.0  0.0  0.0  0.0  0.0  \n",
       "2019-10-13   7.0  ...   2.0  3.0  2.0  5.0  1.0  0.0  0.0  0.0  0.0  0.0  \n",
       "2019-10-14  14.0  ...   7.0  4.0  3.0  1.0  0.0  0.0  0.0  0.0  0.0  0.0  \n",
       "2019-10-15  12.0  ...   6.0  5.0  3.0  0.0  0.0  0.0  0.0  0.0  0.0  0.0  \n",
       "2019-10-16  10.0  ...   2.0  1.0  0.0  0.0  0.0  0.0  0.0  0.0  0.0  0.0  \n",
       "2019-10-17   8.0  ...   1.0  0.0  0.0  0.0  0.0  0.0  0.0  0.0  0.0  0.0  \n",
       "2019-10-18  11.0  ...   0.0  0.0  0.0  0.0  0.0  0.0  0.0  0.0  0.0  0.0  \n",
       "2019-10-19   5.0  ...   0.0  0.0  0.0  0.0  0.0  0.0  0.0  0.0  0.0  0.0  \n",
       "2019-10-20   8.0  ...   0.0  0.0  0.0  0.0  0.0  0.0  0.0  0.0  0.0  0.0  \n",
       "2019-10-21   6.0  ...   0.0  0.0  0.0  0.0  0.0  0.0  0.0  0.0  0.0  0.0  \n",
       "2019-10-22   9.0  ...   0.0  0.0  0.0  0.0  0.0  0.0  0.0  0.0  0.0  0.0  \n",
       "2019-10-23   5.0  ...   0.0  0.0  0.0  0.0  0.0  0.0  0.0  0.0  0.0  0.0  \n",
       "2019-10-24   7.0  ...   0.0  0.0  0.0  0.0  0.0  0.0  0.0  0.0  0.0  0.0  \n",
       "2019-10-25   7.0  ...   0.0  0.0  0.0  0.0  0.0  0.0  0.0  0.0  0.0  0.0  \n",
       "2019-10-26   5.0  ...   0.0  0.0  0.0  0.0  0.0  0.0  0.0  0.0  0.0  0.0  \n",
       "2019-10-27   0.0  ...   0.0  0.0  0.0  0.0  0.0  0.0  0.0  0.0  0.0  0.0  \n",
       "2019-10-28   0.0  ...   0.0  0.0  0.0  0.0  0.0  0.0  0.0  0.0  0.0  0.0  \n",
       "2019-10-29   0.0  ...   0.0  0.0  0.0  0.0  0.0  0.0  0.0  0.0  0.0  0.0  \n",
       "2019-10-30   0.0  ...   0.0  0.0  0.0  0.0  0.0  0.0  0.0  0.0  0.0  0.0  \n",
       "2019-10-31   0.0  ...   0.0  0.0  0.0  0.0  0.0  0.0  0.0  0.0  0.0  0.0  \n",
       "2019-11-01   0.0  ...   0.0  0.0  0.0  0.0  0.0  0.0  0.0  0.0  0.0  0.0  \n",
       "2019-11-02   0.0  ...   0.0  0.0  0.0  0.0  0.0  0.0  0.0  0.0  0.0  0.0  \n",
       "2019-11-03   0.0  ...   0.0  0.0  0.0  0.0  0.0  0.0  0.0  0.0  0.0  0.0  \n",
       "\n",
       "[28 rows x 28 columns]"
      ]
     },
     "execution_count": 40,
     "metadata": {},
     "output_type": "execute_result"
    }
   ],
   "source": [
    "data_lifetime_cohort = sizes_cohort.merge(data_lifetime, on='dt_ts').fillna(0)\n",
    "data_lifetime_cohort"
   ]
  },
  {
   "cell_type": "markdown",
   "id": "7423f2c1",
   "metadata": {},
   "source": [
    "Сейчас формируем таблицу удержания. Разделим построчно значения сводной таблицы `data_lifetime_cohort` на размер когорт (значения `data_lifetime_cohort['sizes_cohort']`)"
   ]
  },
  {
   "cell_type": "code",
   "execution_count": 41,
   "id": "4e130c49",
   "metadata": {},
   "outputs": [
    {
     "data": {
      "text/html": [
       "<div>\n",
       "<style scoped>\n",
       "    .dataframe tbody tr th:only-of-type {\n",
       "        vertical-align: middle;\n",
       "    }\n",
       "\n",
       "    .dataframe tbody tr th {\n",
       "        vertical-align: top;\n",
       "    }\n",
       "\n",
       "    .dataframe thead th {\n",
       "        text-align: right;\n",
       "    }\n",
       "</style>\n",
       "<table border=\"1\" class=\"dataframe\">\n",
       "  <thead>\n",
       "    <tr style=\"text-align: right;\">\n",
       "      <th></th>\n",
       "      <th>sizes_cohort</th>\n",
       "      <th>0</th>\n",
       "      <th>1</th>\n",
       "      <th>2</th>\n",
       "      <th>3</th>\n",
       "      <th>4</th>\n",
       "      <th>5</th>\n",
       "      <th>6</th>\n",
       "      <th>7</th>\n",
       "      <th>8</th>\n",
       "      <th>...</th>\n",
       "      <th>17</th>\n",
       "      <th>18</th>\n",
       "      <th>19</th>\n",
       "      <th>20</th>\n",
       "      <th>21</th>\n",
       "      <th>22</th>\n",
       "      <th>23</th>\n",
       "      <th>24</th>\n",
       "      <th>25</th>\n",
       "      <th>26</th>\n",
       "    </tr>\n",
       "    <tr>\n",
       "      <th>dt_ts</th>\n",
       "      <th></th>\n",
       "      <th></th>\n",
       "      <th></th>\n",
       "      <th></th>\n",
       "      <th></th>\n",
       "      <th></th>\n",
       "      <th></th>\n",
       "      <th></th>\n",
       "      <th></th>\n",
       "      <th></th>\n",
       "      <th></th>\n",
       "      <th></th>\n",
       "      <th></th>\n",
       "      <th></th>\n",
       "      <th></th>\n",
       "      <th></th>\n",
       "      <th></th>\n",
       "      <th></th>\n",
       "      <th></th>\n",
       "      <th></th>\n",
       "      <th></th>\n",
       "    </tr>\n",
       "  </thead>\n",
       "  <tbody>\n",
       "    <tr>\n",
       "      <th>2019-10-07</th>\n",
       "      <td>1.0</td>\n",
       "      <td>1.0</td>\n",
       "      <td>0.122549</td>\n",
       "      <td>0.098039</td>\n",
       "      <td>0.107843</td>\n",
       "      <td>0.053922</td>\n",
       "      <td>0.039216</td>\n",
       "      <td>0.058824</td>\n",
       "      <td>0.078431</td>\n",
       "      <td>0.053922</td>\n",
       "      <td>...</td>\n",
       "      <td>0.019608</td>\n",
       "      <td>0.044118</td>\n",
       "      <td>0.024510</td>\n",
       "      <td>0.014706</td>\n",
       "      <td>0.019608</td>\n",
       "      <td>0.034314</td>\n",
       "      <td>0.034314</td>\n",
       "      <td>0.039216</td>\n",
       "      <td>0.044118</td>\n",
       "      <td>0.029412</td>\n",
       "    </tr>\n",
       "    <tr>\n",
       "      <th>2019-10-08</th>\n",
       "      <td>1.0</td>\n",
       "      <td>1.0</td>\n",
       "      <td>0.161677</td>\n",
       "      <td>0.125749</td>\n",
       "      <td>0.053892</td>\n",
       "      <td>0.041916</td>\n",
       "      <td>0.065868</td>\n",
       "      <td>0.053892</td>\n",
       "      <td>0.071856</td>\n",
       "      <td>0.059880</td>\n",
       "      <td>...</td>\n",
       "      <td>0.029940</td>\n",
       "      <td>0.017964</td>\n",
       "      <td>0.047904</td>\n",
       "      <td>0.035928</td>\n",
       "      <td>0.017964</td>\n",
       "      <td>0.023952</td>\n",
       "      <td>0.041916</td>\n",
       "      <td>0.029940</td>\n",
       "      <td>0.023952</td>\n",
       "      <td>0.011976</td>\n",
       "    </tr>\n",
       "    <tr>\n",
       "      <th>2019-10-09</th>\n",
       "      <td>1.0</td>\n",
       "      <td>1.0</td>\n",
       "      <td>0.073864</td>\n",
       "      <td>0.062500</td>\n",
       "      <td>0.056818</td>\n",
       "      <td>0.068182</td>\n",
       "      <td>0.068182</td>\n",
       "      <td>0.056818</td>\n",
       "      <td>0.073864</td>\n",
       "      <td>0.062500</td>\n",
       "      <td>...</td>\n",
       "      <td>0.017045</td>\n",
       "      <td>0.011364</td>\n",
       "      <td>0.028409</td>\n",
       "      <td>0.011364</td>\n",
       "      <td>0.034091</td>\n",
       "      <td>0.011364</td>\n",
       "      <td>0.005682</td>\n",
       "      <td>0.022727</td>\n",
       "      <td>0.017045</td>\n",
       "      <td>0.000000</td>\n",
       "    </tr>\n",
       "    <tr>\n",
       "      <th>2019-10-10</th>\n",
       "      <td>1.0</td>\n",
       "      <td>1.0</td>\n",
       "      <td>0.091954</td>\n",
       "      <td>0.103448</td>\n",
       "      <td>0.080460</td>\n",
       "      <td>0.097701</td>\n",
       "      <td>0.080460</td>\n",
       "      <td>0.068966</td>\n",
       "      <td>0.051724</td>\n",
       "      <td>0.080460</td>\n",
       "      <td>...</td>\n",
       "      <td>0.063218</td>\n",
       "      <td>0.034483</td>\n",
       "      <td>0.028736</td>\n",
       "      <td>0.017241</td>\n",
       "      <td>0.040230</td>\n",
       "      <td>0.017241</td>\n",
       "      <td>0.011494</td>\n",
       "      <td>0.011494</td>\n",
       "      <td>0.000000</td>\n",
       "      <td>0.000000</td>\n",
       "    </tr>\n",
       "    <tr>\n",
       "      <th>2019-10-11</th>\n",
       "      <td>1.0</td>\n",
       "      <td>1.0</td>\n",
       "      <td>0.088235</td>\n",
       "      <td>0.117647</td>\n",
       "      <td>0.095588</td>\n",
       "      <td>0.088235</td>\n",
       "      <td>0.073529</td>\n",
       "      <td>0.073529</td>\n",
       "      <td>0.044118</td>\n",
       "      <td>0.014706</td>\n",
       "      <td>...</td>\n",
       "      <td>0.058824</td>\n",
       "      <td>0.029412</td>\n",
       "      <td>0.022059</td>\n",
       "      <td>0.022059</td>\n",
       "      <td>0.029412</td>\n",
       "      <td>0.029412</td>\n",
       "      <td>0.014706</td>\n",
       "      <td>0.000000</td>\n",
       "      <td>0.000000</td>\n",
       "      <td>0.000000</td>\n",
       "    </tr>\n",
       "    <tr>\n",
       "      <th>2019-10-12</th>\n",
       "      <td>1.0</td>\n",
       "      <td>1.0</td>\n",
       "      <td>0.128000</td>\n",
       "      <td>0.160000</td>\n",
       "      <td>0.056000</td>\n",
       "      <td>0.064000</td>\n",
       "      <td>0.088000</td>\n",
       "      <td>0.080000</td>\n",
       "      <td>0.088000</td>\n",
       "      <td>0.080000</td>\n",
       "      <td>...</td>\n",
       "      <td>0.040000</td>\n",
       "      <td>0.040000</td>\n",
       "      <td>0.024000</td>\n",
       "      <td>0.024000</td>\n",
       "      <td>0.064000</td>\n",
       "      <td>0.032000</td>\n",
       "      <td>0.000000</td>\n",
       "      <td>0.000000</td>\n",
       "      <td>0.000000</td>\n",
       "      <td>0.000000</td>\n",
       "    </tr>\n",
       "    <tr>\n",
       "      <th>2019-10-13</th>\n",
       "      <td>1.0</td>\n",
       "      <td>1.0</td>\n",
       "      <td>0.128378</td>\n",
       "      <td>0.067568</td>\n",
       "      <td>0.054054</td>\n",
       "      <td>0.067568</td>\n",
       "      <td>0.054054</td>\n",
       "      <td>0.054054</td>\n",
       "      <td>0.047297</td>\n",
       "      <td>0.047297</td>\n",
       "      <td>...</td>\n",
       "      <td>0.013514</td>\n",
       "      <td>0.020270</td>\n",
       "      <td>0.013514</td>\n",
       "      <td>0.033784</td>\n",
       "      <td>0.006757</td>\n",
       "      <td>0.000000</td>\n",
       "      <td>0.000000</td>\n",
       "      <td>0.000000</td>\n",
       "      <td>0.000000</td>\n",
       "      <td>0.000000</td>\n",
       "    </tr>\n",
       "    <tr>\n",
       "      <th>2019-10-14</th>\n",
       "      <td>1.0</td>\n",
       "      <td>1.0</td>\n",
       "      <td>0.113514</td>\n",
       "      <td>0.102703</td>\n",
       "      <td>0.102703</td>\n",
       "      <td>0.081081</td>\n",
       "      <td>0.070270</td>\n",
       "      <td>0.054054</td>\n",
       "      <td>0.043243</td>\n",
       "      <td>0.075676</td>\n",
       "      <td>...</td>\n",
       "      <td>0.037838</td>\n",
       "      <td>0.021622</td>\n",
       "      <td>0.016216</td>\n",
       "      <td>0.005405</td>\n",
       "      <td>0.000000</td>\n",
       "      <td>0.000000</td>\n",
       "      <td>0.000000</td>\n",
       "      <td>0.000000</td>\n",
       "      <td>0.000000</td>\n",
       "      <td>0.000000</td>\n",
       "    </tr>\n",
       "    <tr>\n",
       "      <th>2019-10-15</th>\n",
       "      <td>1.0</td>\n",
       "      <td>1.0</td>\n",
       "      <td>0.139785</td>\n",
       "      <td>0.091398</td>\n",
       "      <td>0.080645</td>\n",
       "      <td>0.053763</td>\n",
       "      <td>0.053763</td>\n",
       "      <td>0.080645</td>\n",
       "      <td>0.075269</td>\n",
       "      <td>0.064516</td>\n",
       "      <td>...</td>\n",
       "      <td>0.032258</td>\n",
       "      <td>0.026882</td>\n",
       "      <td>0.016129</td>\n",
       "      <td>0.000000</td>\n",
       "      <td>0.000000</td>\n",
       "      <td>0.000000</td>\n",
       "      <td>0.000000</td>\n",
       "      <td>0.000000</td>\n",
       "      <td>0.000000</td>\n",
       "      <td>0.000000</td>\n",
       "    </tr>\n",
       "    <tr>\n",
       "      <th>2019-10-16</th>\n",
       "      <td>1.0</td>\n",
       "      <td>1.0</td>\n",
       "      <td>0.126506</td>\n",
       "      <td>0.072289</td>\n",
       "      <td>0.030120</td>\n",
       "      <td>0.048193</td>\n",
       "      <td>0.060241</td>\n",
       "      <td>0.042169</td>\n",
       "      <td>0.054217</td>\n",
       "      <td>0.060241</td>\n",
       "      <td>...</td>\n",
       "      <td>0.012048</td>\n",
       "      <td>0.006024</td>\n",
       "      <td>0.000000</td>\n",
       "      <td>0.000000</td>\n",
       "      <td>0.000000</td>\n",
       "      <td>0.000000</td>\n",
       "      <td>0.000000</td>\n",
       "      <td>0.000000</td>\n",
       "      <td>0.000000</td>\n",
       "      <td>0.000000</td>\n",
       "    </tr>\n",
       "    <tr>\n",
       "      <th>2019-10-17</th>\n",
       "      <td>1.0</td>\n",
       "      <td>1.0</td>\n",
       "      <td>0.141176</td>\n",
       "      <td>0.129412</td>\n",
       "      <td>0.088235</td>\n",
       "      <td>0.088235</td>\n",
       "      <td>0.094118</td>\n",
       "      <td>0.094118</td>\n",
       "      <td>0.047059</td>\n",
       "      <td>0.047059</td>\n",
       "      <td>...</td>\n",
       "      <td>0.005882</td>\n",
       "      <td>0.000000</td>\n",
       "      <td>0.000000</td>\n",
       "      <td>0.000000</td>\n",
       "      <td>0.000000</td>\n",
       "      <td>0.000000</td>\n",
       "      <td>0.000000</td>\n",
       "      <td>0.000000</td>\n",
       "      <td>0.000000</td>\n",
       "      <td>0.000000</td>\n",
       "    </tr>\n",
       "    <tr>\n",
       "      <th>2019-10-18</th>\n",
       "      <td>1.0</td>\n",
       "      <td>1.0</td>\n",
       "      <td>0.083333</td>\n",
       "      <td>0.096154</td>\n",
       "      <td>0.096154</td>\n",
       "      <td>0.057692</td>\n",
       "      <td>0.064103</td>\n",
       "      <td>0.064103</td>\n",
       "      <td>0.076923</td>\n",
       "      <td>0.070513</td>\n",
       "      <td>...</td>\n",
       "      <td>0.000000</td>\n",
       "      <td>0.000000</td>\n",
       "      <td>0.000000</td>\n",
       "      <td>0.000000</td>\n",
       "      <td>0.000000</td>\n",
       "      <td>0.000000</td>\n",
       "      <td>0.000000</td>\n",
       "      <td>0.000000</td>\n",
       "      <td>0.000000</td>\n",
       "      <td>0.000000</td>\n",
       "    </tr>\n",
       "    <tr>\n",
       "      <th>2019-10-19</th>\n",
       "      <td>1.0</td>\n",
       "      <td>1.0</td>\n",
       "      <td>0.094340</td>\n",
       "      <td>0.113208</td>\n",
       "      <td>0.069182</td>\n",
       "      <td>0.025157</td>\n",
       "      <td>0.056604</td>\n",
       "      <td>0.062893</td>\n",
       "      <td>0.062893</td>\n",
       "      <td>0.031447</td>\n",
       "      <td>...</td>\n",
       "      <td>0.000000</td>\n",
       "      <td>0.000000</td>\n",
       "      <td>0.000000</td>\n",
       "      <td>0.000000</td>\n",
       "      <td>0.000000</td>\n",
       "      <td>0.000000</td>\n",
       "      <td>0.000000</td>\n",
       "      <td>0.000000</td>\n",
       "      <td>0.000000</td>\n",
       "      <td>0.000000</td>\n",
       "    </tr>\n",
       "    <tr>\n",
       "      <th>2019-10-20</th>\n",
       "      <td>1.0</td>\n",
       "      <td>1.0</td>\n",
       "      <td>0.104167</td>\n",
       "      <td>0.076389</td>\n",
       "      <td>0.048611</td>\n",
       "      <td>0.069444</td>\n",
       "      <td>0.062500</td>\n",
       "      <td>0.041667</td>\n",
       "      <td>0.069444</td>\n",
       "      <td>0.055556</td>\n",
       "      <td>...</td>\n",
       "      <td>0.000000</td>\n",
       "      <td>0.000000</td>\n",
       "      <td>0.000000</td>\n",
       "      <td>0.000000</td>\n",
       "      <td>0.000000</td>\n",
       "      <td>0.000000</td>\n",
       "      <td>0.000000</td>\n",
       "      <td>0.000000</td>\n",
       "      <td>0.000000</td>\n",
       "      <td>0.000000</td>\n",
       "    </tr>\n",
       "    <tr>\n",
       "      <th>2019-10-21</th>\n",
       "      <td>1.0</td>\n",
       "      <td>1.0</td>\n",
       "      <td>0.093168</td>\n",
       "      <td>0.086957</td>\n",
       "      <td>0.105590</td>\n",
       "      <td>0.043478</td>\n",
       "      <td>0.037267</td>\n",
       "      <td>0.049689</td>\n",
       "      <td>0.093168</td>\n",
       "      <td>0.037267</td>\n",
       "      <td>...</td>\n",
       "      <td>0.000000</td>\n",
       "      <td>0.000000</td>\n",
       "      <td>0.000000</td>\n",
       "      <td>0.000000</td>\n",
       "      <td>0.000000</td>\n",
       "      <td>0.000000</td>\n",
       "      <td>0.000000</td>\n",
       "      <td>0.000000</td>\n",
       "      <td>0.000000</td>\n",
       "      <td>0.000000</td>\n",
       "    </tr>\n",
       "    <tr>\n",
       "      <th>2019-10-22</th>\n",
       "      <td>1.0</td>\n",
       "      <td>1.0</td>\n",
       "      <td>0.114650</td>\n",
       "      <td>0.082803</td>\n",
       "      <td>0.050955</td>\n",
       "      <td>0.038217</td>\n",
       "      <td>0.057325</td>\n",
       "      <td>0.057325</td>\n",
       "      <td>0.070064</td>\n",
       "      <td>0.057325</td>\n",
       "      <td>...</td>\n",
       "      <td>0.000000</td>\n",
       "      <td>0.000000</td>\n",
       "      <td>0.000000</td>\n",
       "      <td>0.000000</td>\n",
       "      <td>0.000000</td>\n",
       "      <td>0.000000</td>\n",
       "      <td>0.000000</td>\n",
       "      <td>0.000000</td>\n",
       "      <td>0.000000</td>\n",
       "      <td>0.000000</td>\n",
       "    </tr>\n",
       "    <tr>\n",
       "      <th>2019-10-23</th>\n",
       "      <td>1.0</td>\n",
       "      <td>1.0</td>\n",
       "      <td>0.095238</td>\n",
       "      <td>0.079365</td>\n",
       "      <td>0.074074</td>\n",
       "      <td>0.052910</td>\n",
       "      <td>0.052910</td>\n",
       "      <td>0.047619</td>\n",
       "      <td>0.058201</td>\n",
       "      <td>0.026455</td>\n",
       "      <td>...</td>\n",
       "      <td>0.000000</td>\n",
       "      <td>0.000000</td>\n",
       "      <td>0.000000</td>\n",
       "      <td>0.000000</td>\n",
       "      <td>0.000000</td>\n",
       "      <td>0.000000</td>\n",
       "      <td>0.000000</td>\n",
       "      <td>0.000000</td>\n",
       "      <td>0.000000</td>\n",
       "      <td>0.000000</td>\n",
       "    </tr>\n",
       "    <tr>\n",
       "      <th>2019-10-24</th>\n",
       "      <td>1.0</td>\n",
       "      <td>1.0</td>\n",
       "      <td>0.104938</td>\n",
       "      <td>0.074074</td>\n",
       "      <td>0.049383</td>\n",
       "      <td>0.061728</td>\n",
       "      <td>0.061728</td>\n",
       "      <td>0.067901</td>\n",
       "      <td>0.030864</td>\n",
       "      <td>0.043210</td>\n",
       "      <td>...</td>\n",
       "      <td>0.000000</td>\n",
       "      <td>0.000000</td>\n",
       "      <td>0.000000</td>\n",
       "      <td>0.000000</td>\n",
       "      <td>0.000000</td>\n",
       "      <td>0.000000</td>\n",
       "      <td>0.000000</td>\n",
       "      <td>0.000000</td>\n",
       "      <td>0.000000</td>\n",
       "      <td>0.000000</td>\n",
       "    </tr>\n",
       "    <tr>\n",
       "      <th>2019-10-25</th>\n",
       "      <td>1.0</td>\n",
       "      <td>1.0</td>\n",
       "      <td>0.088435</td>\n",
       "      <td>0.095238</td>\n",
       "      <td>0.102041</td>\n",
       "      <td>0.095238</td>\n",
       "      <td>0.061224</td>\n",
       "      <td>0.068027</td>\n",
       "      <td>0.068027</td>\n",
       "      <td>0.047619</td>\n",
       "      <td>...</td>\n",
       "      <td>0.000000</td>\n",
       "      <td>0.000000</td>\n",
       "      <td>0.000000</td>\n",
       "      <td>0.000000</td>\n",
       "      <td>0.000000</td>\n",
       "      <td>0.000000</td>\n",
       "      <td>0.000000</td>\n",
       "      <td>0.000000</td>\n",
       "      <td>0.000000</td>\n",
       "      <td>0.000000</td>\n",
       "    </tr>\n",
       "    <tr>\n",
       "      <th>2019-10-26</th>\n",
       "      <td>1.0</td>\n",
       "      <td>1.0</td>\n",
       "      <td>0.151079</td>\n",
       "      <td>0.064748</td>\n",
       "      <td>0.071942</td>\n",
       "      <td>0.086331</td>\n",
       "      <td>0.057554</td>\n",
       "      <td>0.071942</td>\n",
       "      <td>0.028777</td>\n",
       "      <td>0.035971</td>\n",
       "      <td>...</td>\n",
       "      <td>0.000000</td>\n",
       "      <td>0.000000</td>\n",
       "      <td>0.000000</td>\n",
       "      <td>0.000000</td>\n",
       "      <td>0.000000</td>\n",
       "      <td>0.000000</td>\n",
       "      <td>0.000000</td>\n",
       "      <td>0.000000</td>\n",
       "      <td>0.000000</td>\n",
       "      <td>0.000000</td>\n",
       "    </tr>\n",
       "    <tr>\n",
       "      <th>2019-10-27</th>\n",
       "      <td>1.0</td>\n",
       "      <td>1.0</td>\n",
       "      <td>0.071942</td>\n",
       "      <td>0.071942</td>\n",
       "      <td>0.071942</td>\n",
       "      <td>0.079137</td>\n",
       "      <td>0.086331</td>\n",
       "      <td>0.064748</td>\n",
       "      <td>0.043165</td>\n",
       "      <td>0.000000</td>\n",
       "      <td>...</td>\n",
       "      <td>0.000000</td>\n",
       "      <td>0.000000</td>\n",
       "      <td>0.000000</td>\n",
       "      <td>0.000000</td>\n",
       "      <td>0.000000</td>\n",
       "      <td>0.000000</td>\n",
       "      <td>0.000000</td>\n",
       "      <td>0.000000</td>\n",
       "      <td>0.000000</td>\n",
       "      <td>0.000000</td>\n",
       "    </tr>\n",
       "    <tr>\n",
       "      <th>2019-10-28</th>\n",
       "      <td>1.0</td>\n",
       "      <td>1.0</td>\n",
       "      <td>0.094937</td>\n",
       "      <td>0.094937</td>\n",
       "      <td>0.056962</td>\n",
       "      <td>0.056962</td>\n",
       "      <td>0.012658</td>\n",
       "      <td>0.025316</td>\n",
       "      <td>0.000000</td>\n",
       "      <td>0.000000</td>\n",
       "      <td>...</td>\n",
       "      <td>0.000000</td>\n",
       "      <td>0.000000</td>\n",
       "      <td>0.000000</td>\n",
       "      <td>0.000000</td>\n",
       "      <td>0.000000</td>\n",
       "      <td>0.000000</td>\n",
       "      <td>0.000000</td>\n",
       "      <td>0.000000</td>\n",
       "      <td>0.000000</td>\n",
       "      <td>0.000000</td>\n",
       "    </tr>\n",
       "    <tr>\n",
       "      <th>2019-10-29</th>\n",
       "      <td>1.0</td>\n",
       "      <td>1.0</td>\n",
       "      <td>0.170370</td>\n",
       "      <td>0.125926</td>\n",
       "      <td>0.096296</td>\n",
       "      <td>0.059259</td>\n",
       "      <td>0.022222</td>\n",
       "      <td>0.000000</td>\n",
       "      <td>0.000000</td>\n",
       "      <td>0.000000</td>\n",
       "      <td>...</td>\n",
       "      <td>0.000000</td>\n",
       "      <td>0.000000</td>\n",
       "      <td>0.000000</td>\n",
       "      <td>0.000000</td>\n",
       "      <td>0.000000</td>\n",
       "      <td>0.000000</td>\n",
       "      <td>0.000000</td>\n",
       "      <td>0.000000</td>\n",
       "      <td>0.000000</td>\n",
       "      <td>0.000000</td>\n",
       "    </tr>\n",
       "    <tr>\n",
       "      <th>2019-10-30</th>\n",
       "      <td>1.0</td>\n",
       "      <td>1.0</td>\n",
       "      <td>0.141791</td>\n",
       "      <td>0.074627</td>\n",
       "      <td>0.059701</td>\n",
       "      <td>0.022388</td>\n",
       "      <td>0.000000</td>\n",
       "      <td>0.000000</td>\n",
       "      <td>0.000000</td>\n",
       "      <td>0.000000</td>\n",
       "      <td>...</td>\n",
       "      <td>0.000000</td>\n",
       "      <td>0.000000</td>\n",
       "      <td>0.000000</td>\n",
       "      <td>0.000000</td>\n",
       "      <td>0.000000</td>\n",
       "      <td>0.000000</td>\n",
       "      <td>0.000000</td>\n",
       "      <td>0.000000</td>\n",
       "      <td>0.000000</td>\n",
       "      <td>0.000000</td>\n",
       "    </tr>\n",
       "    <tr>\n",
       "      <th>2019-10-31</th>\n",
       "      <td>1.0</td>\n",
       "      <td>1.0</td>\n",
       "      <td>0.090909</td>\n",
       "      <td>0.045455</td>\n",
       "      <td>0.022727</td>\n",
       "      <td>0.000000</td>\n",
       "      <td>0.000000</td>\n",
       "      <td>0.000000</td>\n",
       "      <td>0.000000</td>\n",
       "      <td>0.000000</td>\n",
       "      <td>...</td>\n",
       "      <td>0.000000</td>\n",
       "      <td>0.000000</td>\n",
       "      <td>0.000000</td>\n",
       "      <td>0.000000</td>\n",
       "      <td>0.000000</td>\n",
       "      <td>0.000000</td>\n",
       "      <td>0.000000</td>\n",
       "      <td>0.000000</td>\n",
       "      <td>0.000000</td>\n",
       "      <td>0.000000</td>\n",
       "    </tr>\n",
       "    <tr>\n",
       "      <th>2019-11-01</th>\n",
       "      <td>1.0</td>\n",
       "      <td>1.0</td>\n",
       "      <td>0.098214</td>\n",
       "      <td>0.026786</td>\n",
       "      <td>0.000000</td>\n",
       "      <td>0.000000</td>\n",
       "      <td>0.000000</td>\n",
       "      <td>0.000000</td>\n",
       "      <td>0.000000</td>\n",
       "      <td>0.000000</td>\n",
       "      <td>...</td>\n",
       "      <td>0.000000</td>\n",
       "      <td>0.000000</td>\n",
       "      <td>0.000000</td>\n",
       "      <td>0.000000</td>\n",
       "      <td>0.000000</td>\n",
       "      <td>0.000000</td>\n",
       "      <td>0.000000</td>\n",
       "      <td>0.000000</td>\n",
       "      <td>0.000000</td>\n",
       "      <td>0.000000</td>\n",
       "    </tr>\n",
       "    <tr>\n",
       "      <th>2019-11-02</th>\n",
       "      <td>1.0</td>\n",
       "      <td>1.0</td>\n",
       "      <td>0.103093</td>\n",
       "      <td>0.000000</td>\n",
       "      <td>0.000000</td>\n",
       "      <td>0.000000</td>\n",
       "      <td>0.000000</td>\n",
       "      <td>0.000000</td>\n",
       "      <td>0.000000</td>\n",
       "      <td>0.000000</td>\n",
       "      <td>...</td>\n",
       "      <td>0.000000</td>\n",
       "      <td>0.000000</td>\n",
       "      <td>0.000000</td>\n",
       "      <td>0.000000</td>\n",
       "      <td>0.000000</td>\n",
       "      <td>0.000000</td>\n",
       "      <td>0.000000</td>\n",
       "      <td>0.000000</td>\n",
       "      <td>0.000000</td>\n",
       "      <td>0.000000</td>\n",
       "    </tr>\n",
       "    <tr>\n",
       "      <th>2019-11-03</th>\n",
       "      <td>1.0</td>\n",
       "      <td>1.0</td>\n",
       "      <td>0.000000</td>\n",
       "      <td>0.000000</td>\n",
       "      <td>0.000000</td>\n",
       "      <td>0.000000</td>\n",
       "      <td>0.000000</td>\n",
       "      <td>0.000000</td>\n",
       "      <td>0.000000</td>\n",
       "      <td>0.000000</td>\n",
       "      <td>...</td>\n",
       "      <td>0.000000</td>\n",
       "      <td>0.000000</td>\n",
       "      <td>0.000000</td>\n",
       "      <td>0.000000</td>\n",
       "      <td>0.000000</td>\n",
       "      <td>0.000000</td>\n",
       "      <td>0.000000</td>\n",
       "      <td>0.000000</td>\n",
       "      <td>0.000000</td>\n",
       "      <td>0.000000</td>\n",
       "    </tr>\n",
       "  </tbody>\n",
       "</table>\n",
       "<p>28 rows × 28 columns</p>\n",
       "</div>"
      ],
      "text/plain": [
       "            sizes_cohort    0         1         2         3         4  \\\n",
       "dt_ts                                                                   \n",
       "2019-10-07           1.0  1.0  0.122549  0.098039  0.107843  0.053922   \n",
       "2019-10-08           1.0  1.0  0.161677  0.125749  0.053892  0.041916   \n",
       "2019-10-09           1.0  1.0  0.073864  0.062500  0.056818  0.068182   \n",
       "2019-10-10           1.0  1.0  0.091954  0.103448  0.080460  0.097701   \n",
       "2019-10-11           1.0  1.0  0.088235  0.117647  0.095588  0.088235   \n",
       "2019-10-12           1.0  1.0  0.128000  0.160000  0.056000  0.064000   \n",
       "2019-10-13           1.0  1.0  0.128378  0.067568  0.054054  0.067568   \n",
       "2019-10-14           1.0  1.0  0.113514  0.102703  0.102703  0.081081   \n",
       "2019-10-15           1.0  1.0  0.139785  0.091398  0.080645  0.053763   \n",
       "2019-10-16           1.0  1.0  0.126506  0.072289  0.030120  0.048193   \n",
       "2019-10-17           1.0  1.0  0.141176  0.129412  0.088235  0.088235   \n",
       "2019-10-18           1.0  1.0  0.083333  0.096154  0.096154  0.057692   \n",
       "2019-10-19           1.0  1.0  0.094340  0.113208  0.069182  0.025157   \n",
       "2019-10-20           1.0  1.0  0.104167  0.076389  0.048611  0.069444   \n",
       "2019-10-21           1.0  1.0  0.093168  0.086957  0.105590  0.043478   \n",
       "2019-10-22           1.0  1.0  0.114650  0.082803  0.050955  0.038217   \n",
       "2019-10-23           1.0  1.0  0.095238  0.079365  0.074074  0.052910   \n",
       "2019-10-24           1.0  1.0  0.104938  0.074074  0.049383  0.061728   \n",
       "2019-10-25           1.0  1.0  0.088435  0.095238  0.102041  0.095238   \n",
       "2019-10-26           1.0  1.0  0.151079  0.064748  0.071942  0.086331   \n",
       "2019-10-27           1.0  1.0  0.071942  0.071942  0.071942  0.079137   \n",
       "2019-10-28           1.0  1.0  0.094937  0.094937  0.056962  0.056962   \n",
       "2019-10-29           1.0  1.0  0.170370  0.125926  0.096296  0.059259   \n",
       "2019-10-30           1.0  1.0  0.141791  0.074627  0.059701  0.022388   \n",
       "2019-10-31           1.0  1.0  0.090909  0.045455  0.022727  0.000000   \n",
       "2019-11-01           1.0  1.0  0.098214  0.026786  0.000000  0.000000   \n",
       "2019-11-02           1.0  1.0  0.103093  0.000000  0.000000  0.000000   \n",
       "2019-11-03           1.0  1.0  0.000000  0.000000  0.000000  0.000000   \n",
       "\n",
       "                   5         6         7         8  ...        17        18  \\\n",
       "dt_ts                                               ...                       \n",
       "2019-10-07  0.039216  0.058824  0.078431  0.053922  ...  0.019608  0.044118   \n",
       "2019-10-08  0.065868  0.053892  0.071856  0.059880  ...  0.029940  0.017964   \n",
       "2019-10-09  0.068182  0.056818  0.073864  0.062500  ...  0.017045  0.011364   \n",
       "2019-10-10  0.080460  0.068966  0.051724  0.080460  ...  0.063218  0.034483   \n",
       "2019-10-11  0.073529  0.073529  0.044118  0.014706  ...  0.058824  0.029412   \n",
       "2019-10-12  0.088000  0.080000  0.088000  0.080000  ...  0.040000  0.040000   \n",
       "2019-10-13  0.054054  0.054054  0.047297  0.047297  ...  0.013514  0.020270   \n",
       "2019-10-14  0.070270  0.054054  0.043243  0.075676  ...  0.037838  0.021622   \n",
       "2019-10-15  0.053763  0.080645  0.075269  0.064516  ...  0.032258  0.026882   \n",
       "2019-10-16  0.060241  0.042169  0.054217  0.060241  ...  0.012048  0.006024   \n",
       "2019-10-17  0.094118  0.094118  0.047059  0.047059  ...  0.005882  0.000000   \n",
       "2019-10-18  0.064103  0.064103  0.076923  0.070513  ...  0.000000  0.000000   \n",
       "2019-10-19  0.056604  0.062893  0.062893  0.031447  ...  0.000000  0.000000   \n",
       "2019-10-20  0.062500  0.041667  0.069444  0.055556  ...  0.000000  0.000000   \n",
       "2019-10-21  0.037267  0.049689  0.093168  0.037267  ...  0.000000  0.000000   \n",
       "2019-10-22  0.057325  0.057325  0.070064  0.057325  ...  0.000000  0.000000   \n",
       "2019-10-23  0.052910  0.047619  0.058201  0.026455  ...  0.000000  0.000000   \n",
       "2019-10-24  0.061728  0.067901  0.030864  0.043210  ...  0.000000  0.000000   \n",
       "2019-10-25  0.061224  0.068027  0.068027  0.047619  ...  0.000000  0.000000   \n",
       "2019-10-26  0.057554  0.071942  0.028777  0.035971  ...  0.000000  0.000000   \n",
       "2019-10-27  0.086331  0.064748  0.043165  0.000000  ...  0.000000  0.000000   \n",
       "2019-10-28  0.012658  0.025316  0.000000  0.000000  ...  0.000000  0.000000   \n",
       "2019-10-29  0.022222  0.000000  0.000000  0.000000  ...  0.000000  0.000000   \n",
       "2019-10-30  0.000000  0.000000  0.000000  0.000000  ...  0.000000  0.000000   \n",
       "2019-10-31  0.000000  0.000000  0.000000  0.000000  ...  0.000000  0.000000   \n",
       "2019-11-01  0.000000  0.000000  0.000000  0.000000  ...  0.000000  0.000000   \n",
       "2019-11-02  0.000000  0.000000  0.000000  0.000000  ...  0.000000  0.000000   \n",
       "2019-11-03  0.000000  0.000000  0.000000  0.000000  ...  0.000000  0.000000   \n",
       "\n",
       "                  19        20        21        22        23        24  \\\n",
       "dt_ts                                                                    \n",
       "2019-10-07  0.024510  0.014706  0.019608  0.034314  0.034314  0.039216   \n",
       "2019-10-08  0.047904  0.035928  0.017964  0.023952  0.041916  0.029940   \n",
       "2019-10-09  0.028409  0.011364  0.034091  0.011364  0.005682  0.022727   \n",
       "2019-10-10  0.028736  0.017241  0.040230  0.017241  0.011494  0.011494   \n",
       "2019-10-11  0.022059  0.022059  0.029412  0.029412  0.014706  0.000000   \n",
       "2019-10-12  0.024000  0.024000  0.064000  0.032000  0.000000  0.000000   \n",
       "2019-10-13  0.013514  0.033784  0.006757  0.000000  0.000000  0.000000   \n",
       "2019-10-14  0.016216  0.005405  0.000000  0.000000  0.000000  0.000000   \n",
       "2019-10-15  0.016129  0.000000  0.000000  0.000000  0.000000  0.000000   \n",
       "2019-10-16  0.000000  0.000000  0.000000  0.000000  0.000000  0.000000   \n",
       "2019-10-17  0.000000  0.000000  0.000000  0.000000  0.000000  0.000000   \n",
       "2019-10-18  0.000000  0.000000  0.000000  0.000000  0.000000  0.000000   \n",
       "2019-10-19  0.000000  0.000000  0.000000  0.000000  0.000000  0.000000   \n",
       "2019-10-20  0.000000  0.000000  0.000000  0.000000  0.000000  0.000000   \n",
       "2019-10-21  0.000000  0.000000  0.000000  0.000000  0.000000  0.000000   \n",
       "2019-10-22  0.000000  0.000000  0.000000  0.000000  0.000000  0.000000   \n",
       "2019-10-23  0.000000  0.000000  0.000000  0.000000  0.000000  0.000000   \n",
       "2019-10-24  0.000000  0.000000  0.000000  0.000000  0.000000  0.000000   \n",
       "2019-10-25  0.000000  0.000000  0.000000  0.000000  0.000000  0.000000   \n",
       "2019-10-26  0.000000  0.000000  0.000000  0.000000  0.000000  0.000000   \n",
       "2019-10-27  0.000000  0.000000  0.000000  0.000000  0.000000  0.000000   \n",
       "2019-10-28  0.000000  0.000000  0.000000  0.000000  0.000000  0.000000   \n",
       "2019-10-29  0.000000  0.000000  0.000000  0.000000  0.000000  0.000000   \n",
       "2019-10-30  0.000000  0.000000  0.000000  0.000000  0.000000  0.000000   \n",
       "2019-10-31  0.000000  0.000000  0.000000  0.000000  0.000000  0.000000   \n",
       "2019-11-01  0.000000  0.000000  0.000000  0.000000  0.000000  0.000000   \n",
       "2019-11-02  0.000000  0.000000  0.000000  0.000000  0.000000  0.000000   \n",
       "2019-11-03  0.000000  0.000000  0.000000  0.000000  0.000000  0.000000   \n",
       "\n",
       "                  25        26  \n",
       "dt_ts                           \n",
       "2019-10-07  0.044118  0.029412  \n",
       "2019-10-08  0.023952  0.011976  \n",
       "2019-10-09  0.017045  0.000000  \n",
       "2019-10-10  0.000000  0.000000  \n",
       "2019-10-11  0.000000  0.000000  \n",
       "2019-10-12  0.000000  0.000000  \n",
       "2019-10-13  0.000000  0.000000  \n",
       "2019-10-14  0.000000  0.000000  \n",
       "2019-10-15  0.000000  0.000000  \n",
       "2019-10-16  0.000000  0.000000  \n",
       "2019-10-17  0.000000  0.000000  \n",
       "2019-10-18  0.000000  0.000000  \n",
       "2019-10-19  0.000000  0.000000  \n",
       "2019-10-20  0.000000  0.000000  \n",
       "2019-10-21  0.000000  0.000000  \n",
       "2019-10-22  0.000000  0.000000  \n",
       "2019-10-23  0.000000  0.000000  \n",
       "2019-10-24  0.000000  0.000000  \n",
       "2019-10-25  0.000000  0.000000  \n",
       "2019-10-26  0.000000  0.000000  \n",
       "2019-10-27  0.000000  0.000000  \n",
       "2019-10-28  0.000000  0.000000  \n",
       "2019-10-29  0.000000  0.000000  \n",
       "2019-10-30  0.000000  0.000000  \n",
       "2019-10-31  0.000000  0.000000  \n",
       "2019-11-01  0.000000  0.000000  \n",
       "2019-11-02  0.000000  0.000000  \n",
       "2019-11-03  0.000000  0.000000  \n",
       "\n",
       "[28 rows x 28 columns]"
      ]
     },
     "execution_count": 41,
     "metadata": {},
     "output_type": "execute_result"
    }
   ],
   "source": [
    "retention_rate = data_lifetime_cohort.div(data_lifetime_cohort['sizes_cohort'], axis=0)\n",
    "retention_rate"
   ]
  },
  {
   "cell_type": "markdown",
   "id": "49d8f603",
   "metadata": {},
   "source": [
    "Для лучшей наглядности визуализиурем таблицу retention rate и перед этим удалим в ней столбец размера когорт."
   ]
  },
  {
   "cell_type": "code",
   "execution_count": 42,
   "id": "d56f5bbe",
   "metadata": {},
   "outputs": [
    {
     "data": {
      "image/png": "[encoded data removed]",
      "text/plain": [
       "<Figure size 960x720 with 2 Axes>"
      ]
     },
     "metadata": {},
     "output_type": "display_data"
    }
   ],
   "source": [
    "plt.style.use('seaborn-v0_8-notebook')\n",
    "\n",
    "plt.figure(figsize=(12, 9))\n",
    "\n",
    "sns.heatmap(retention_rate.drop(columns=['sizes_cohort']), cmap=\"magma_r\")\n",
    "plt.title('Таблица удержания (retention rate)')\n",
    "plt.ylabel(None)\n",
    "plt.xlabel('лайфтаймы')\n",
    "plt.show()"
   ]
  },
  {
   "cell_type": "markdown",
   "id": "86f5ca10",
   "metadata": {},
   "source": [
    "Общее удержание пользователей со временем \"жизни\" уменьшается."
   ]
  },
  {
   "cell_type": "markdown",
   "id": "ebdf24d5",
   "metadata": {},
   "source": [
    "### Расчет времени пользователей в приложении"
   ]
  },
  {
   "cell_type": "markdown",
   "id": "a6b0a64c",
   "metadata": {},
   "source": [
    "Напишем собственную функцию **duration**, которая принимает на вход датафрейм, создаёт внутри сводную таблицу по дате и user_id для нахождения разницы во времени в рамках одной сессии (одного календарного дня) и возвращает исходный датафрейм с дополнительной колонкой `duration`, в которой будет хранится время в **минутах**, описывающее сколько пользователь находился в приложении."
   ]
  },
  {
   "cell_type": "code",
   "execution_count": 43,
   "id": "3a2a2559",
   "metadata": {},
   "outputs": [],
   "source": [
    "def duration (data):\n",
    "    \n",
    "    grouped = data.groupby(['dt', 'user_id'])['event_time'].agg(['first', 'last'])\n",
    "    \n",
    "    grouped['t_delta'] = grouped['last'] - grouped['first']\n",
    "    \n",
    "    grouped['duration'] = grouped['t_delta'].apply(lambda row: round(row.total_seconds() / 60, 1))\n",
    "    \n",
    "    data = data.merge(grouped['duration'], on=['user_id', 'dt'], how='left')\n",
    "    \n",
    "    return data"
   ]
  },
  {
   "cell_type": "code",
   "execution_count": 44,
   "id": "0a65032f",
   "metadata": {},
   "outputs": [
    {
     "data": {
      "text/html": [
       "<div>\n",
       "<style scoped>\n",
       "    .dataframe tbody tr th:only-of-type {\n",
       "        vertical-align: middle;\n",
       "    }\n",
       "\n",
       "    .dataframe tbody tr th {\n",
       "        vertical-align: top;\n",
       "    }\n",
       "\n",
       "    .dataframe thead th {\n",
       "        text-align: right;\n",
       "    }\n",
       "</style>\n",
       "<table border=\"1\" class=\"dataframe\">\n",
       "  <thead>\n",
       "    <tr style=\"text-align: right;\">\n",
       "      <th></th>\n",
       "      <th>event_time</th>\n",
       "      <th>event_name</th>\n",
       "      <th>user_id</th>\n",
       "      <th>dt</th>\n",
       "      <th>weekday</th>\n",
       "      <th>first_ts</th>\n",
       "      <th>dt_ts</th>\n",
       "      <th>lifetime</th>\n",
       "      <th>duration</th>\n",
       "    </tr>\n",
       "  </thead>\n",
       "  <tbody>\n",
       "    <tr>\n",
       "      <th>0</th>\n",
       "      <td>2019-10-07 00:00:00.431357</td>\n",
       "      <td>advert_open</td>\n",
       "      <td>020292ab-89bc-4156-9acf-68bc2783f894</td>\n",
       "      <td>2019-10-07</td>\n",
       "      <td>понедельник</td>\n",
       "      <td>2019-10-07 00:00:00.431357</td>\n",
       "      <td>2019-10-07</td>\n",
       "      <td>0</td>\n",
       "      <td>18.7</td>\n",
       "    </tr>\n",
       "    <tr>\n",
       "      <th>1</th>\n",
       "      <td>2019-10-07 00:00:01.236320</td>\n",
       "      <td>tips_show</td>\n",
       "      <td>020292ab-89bc-4156-9acf-68bc2783f894</td>\n",
       "      <td>2019-10-07</td>\n",
       "      <td>понедельник</td>\n",
       "      <td>2019-10-07 00:00:00.431357</td>\n",
       "      <td>2019-10-07</td>\n",
       "      <td>0</td>\n",
       "      <td>18.7</td>\n",
       "    </tr>\n",
       "    <tr>\n",
       "      <th>2</th>\n",
       "      <td>2019-10-07 00:00:02.245341</td>\n",
       "      <td>tips_show</td>\n",
       "      <td>cf7eda61-9349-469f-ac27-e5b6f5ec475c</td>\n",
       "      <td>2019-10-07</td>\n",
       "      <td>понедельник</td>\n",
       "      <td>2019-10-07 00:00:02.245341</td>\n",
       "      <td>2019-10-07</td>\n",
       "      <td>0</td>\n",
       "      <td>41.6</td>\n",
       "    </tr>\n",
       "    <tr>\n",
       "      <th>3</th>\n",
       "      <td>2019-10-07 00:00:07.039334</td>\n",
       "      <td>tips_show</td>\n",
       "      <td>020292ab-89bc-4156-9acf-68bc2783f894</td>\n",
       "      <td>2019-10-07</td>\n",
       "      <td>понедельник</td>\n",
       "      <td>2019-10-07 00:00:00.431357</td>\n",
       "      <td>2019-10-07</td>\n",
       "      <td>0</td>\n",
       "      <td>18.7</td>\n",
       "    </tr>\n",
       "    <tr>\n",
       "      <th>4</th>\n",
       "      <td>2019-10-07 00:00:56.319813</td>\n",
       "      <td>advert_open</td>\n",
       "      <td>cf7eda61-9349-469f-ac27-e5b6f5ec475c</td>\n",
       "      <td>2019-10-07</td>\n",
       "      <td>понедельник</td>\n",
       "      <td>2019-10-07 00:00:02.245341</td>\n",
       "      <td>2019-10-07</td>\n",
       "      <td>0</td>\n",
       "      <td>41.6</td>\n",
       "    </tr>\n",
       "  </tbody>\n",
       "</table>\n",
       "</div>"
      ],
      "text/plain": [
       "                  event_time   event_name  \\\n",
       "0 2019-10-07 00:00:00.431357  advert_open   \n",
       "1 2019-10-07 00:00:01.236320    tips_show   \n",
       "2 2019-10-07 00:00:02.245341    tips_show   \n",
       "3 2019-10-07 00:00:07.039334    tips_show   \n",
       "4 2019-10-07 00:00:56.319813  advert_open   \n",
       "\n",
       "                                user_id          dt      weekday  \\\n",
       "0  020292ab-89bc-4156-9acf-68bc2783f894  2019-10-07  понедельник   \n",
       "1  020292ab-89bc-4156-9acf-68bc2783f894  2019-10-07  понедельник   \n",
       "2  cf7eda61-9349-469f-ac27-e5b6f5ec475c  2019-10-07  понедельник   \n",
       "3  020292ab-89bc-4156-9acf-68bc2783f894  2019-10-07  понедельник   \n",
       "4  cf7eda61-9349-469f-ac27-e5b6f5ec475c  2019-10-07  понедельник   \n",
       "\n",
       "                    first_ts       dt_ts  lifetime  duration  \n",
       "0 2019-10-07 00:00:00.431357  2019-10-07         0      18.7  \n",
       "1 2019-10-07 00:00:00.431357  2019-10-07         0      18.7  \n",
       "2 2019-10-07 00:00:02.245341  2019-10-07         0      41.6  \n",
       "3 2019-10-07 00:00:00.431357  2019-10-07         0      18.7  \n",
       "4 2019-10-07 00:00:02.245341  2019-10-07         0      41.6  "
      ]
     },
     "execution_count": 44,
     "metadata": {},
     "output_type": "execute_result"
    }
   ],
   "source": [
    "data = duration(data)\n",
    "data.head()"
   ]
  },
  {
   "cell_type": "markdown",
   "id": "64932395",
   "metadata": {},
   "source": [
    "Посмотрим на распределения значений времени пользователей в приложении."
   ]
  },
  {
   "cell_type": "code",
   "execution_count": 45,
   "id": "9ee74f47",
   "metadata": {},
   "outputs": [
    {
     "data": {
      "image/png": "[encoded data removed]",
      "text/plain": [
       "<Figure size 800x400 with 1 Axes>"
      ]
     },
     "metadata": {},
     "output_type": "display_data"
    }
   ],
   "source": [
    "plt.figure(figsize=(10,5))\n",
    "\n",
    "data['duration'].hist()\n",
    "plt.title('Распределение времени нахождения пользователей в приложении')\n",
    "plt.ylabel('частатов встречаемости')\n",
    "plt.xlabel('время (в минутах)')\n",
    "plt.show()"
   ]
  },
  {
   "cell_type": "code",
   "execution_count": 46,
   "id": "4f70eb05",
   "metadata": {},
   "outputs": [
    {
     "data": {
      "image/png": "[encoded data removed]",
      "text/plain": [
       "<Figure size 800x400 with 1 Axes>"
      ]
     },
     "metadata": {},
     "output_type": "display_data"
    }
   ],
   "source": [
    "plt.figure(figsize=(10,5))\n",
    "\n",
    "sns.boxplot(y=data['duration'])\n",
    "plt.title('Распределение времени (в минутах) нахождения пользователей в приложении', \n",
    "          x= 0.5 , \n",
    "          y= 1.1)\n",
    "plt.ylabel('время (в минутах)')\n",
    "plt.ylim(-50, 1600)\n",
    "plt.show()"
   ]
  },
  {
   "cell_type": "code",
   "execution_count": 47,
   "id": "73aa562f",
   "metadata": {},
   "outputs": [
    {
     "data": {
      "text/plain": [
       "count    74197.000000\n",
       "mean       151.795798\n",
       "std        239.576708\n",
       "min          0.000000\n",
       "25%         14.800000\n",
       "50%         44.300000\n",
       "75%        176.700000\n",
       "max       1417.500000\n",
       "Name: duration, dtype: float64"
      ]
     },
     "execution_count": 47,
     "metadata": {},
     "output_type": "execute_result"
    }
   ],
   "source": [
    "data['duration'].describe()"
   ]
  },
  {
   "cell_type": "markdown",
   "id": "3107c49b",
   "metadata": {},
   "source": [
    "Допустим есть пользователи, которые готовы целый день сидеть в приложении, но вот пользователи, которые находятся в приложении 0 минут - это явны вызывает подозрение. Посмотрим на долю таких пользователей."
   ]
  },
  {
   "cell_type": "code",
   "execution_count": 48,
   "id": "649d39cc",
   "metadata": {},
   "outputs": [
    {
     "name": "stdout",
     "output_type": "stream",
     "text": [
      "Доля пользователей, которые находятся в приложении 0 минут - 0.02\n"
     ]
    }
   ],
   "source": [
    "t = len(data.query('duration == 0')) / len(data)\n",
    "print(f'Доля пользователей, которые находятся в приложении 0 минут - {round(t, 2)}')"
   ]
  },
  {
   "cell_type": "markdown",
   "id": "51ae504e",
   "metadata": {},
   "source": [
    "Также дополнительно посмотрим на события, которые совершали пользователи с нулевой сессией"
   ]
  },
  {
   "cell_type": "code",
   "execution_count": 49,
   "id": "354ab3b3",
   "metadata": {},
   "outputs": [
    {
     "data": {
      "text/html": [
       "<div>\n",
       "<style scoped>\n",
       "    .dataframe tbody tr th:only-of-type {\n",
       "        vertical-align: middle;\n",
       "    }\n",
       "\n",
       "    .dataframe tbody tr th {\n",
       "        vertical-align: top;\n",
       "    }\n",
       "\n",
       "    .dataframe thead th {\n",
       "        text-align: right;\n",
       "    }\n",
       "</style>\n",
       "<table border=\"1\" class=\"dataframe\">\n",
       "  <thead>\n",
       "    <tr style=\"text-align: right;\">\n",
       "      <th></th>\n",
       "      <th>user_id</th>\n",
       "    </tr>\n",
       "    <tr>\n",
       "      <th>event_name</th>\n",
       "      <th></th>\n",
       "    </tr>\n",
       "  </thead>\n",
       "  <tbody>\n",
       "    <tr>\n",
       "      <th>advert_open</th>\n",
       "      <td>21</td>\n",
       "    </tr>\n",
       "    <tr>\n",
       "      <th>contacts_call</th>\n",
       "      <td>5</td>\n",
       "    </tr>\n",
       "    <tr>\n",
       "      <th>contacts_show</th>\n",
       "      <td>68</td>\n",
       "    </tr>\n",
       "    <tr>\n",
       "      <th>favorites_add</th>\n",
       "      <td>8</td>\n",
       "    </tr>\n",
       "    <tr>\n",
       "      <th>map</th>\n",
       "      <td>57</td>\n",
       "    </tr>\n",
       "    <tr>\n",
       "      <th>photos_show</th>\n",
       "      <td>204</td>\n",
       "    </tr>\n",
       "    <tr>\n",
       "      <th>search_1</th>\n",
       "      <td>128</td>\n",
       "    </tr>\n",
       "    <tr>\n",
       "      <th>search_2</th>\n",
       "      <td>1</td>\n",
       "    </tr>\n",
       "    <tr>\n",
       "      <th>search_3</th>\n",
       "      <td>1</td>\n",
       "    </tr>\n",
       "    <tr>\n",
       "      <th>search_4</th>\n",
       "      <td>2</td>\n",
       "    </tr>\n",
       "    <tr>\n",
       "      <th>search_5</th>\n",
       "      <td>13</td>\n",
       "    </tr>\n",
       "    <tr>\n",
       "      <th>search_6</th>\n",
       "      <td>2</td>\n",
       "    </tr>\n",
       "    <tr>\n",
       "      <th>search_7</th>\n",
       "      <td>5</td>\n",
       "    </tr>\n",
       "    <tr>\n",
       "      <th>tips_click</th>\n",
       "      <td>5</td>\n",
       "    </tr>\n",
       "    <tr>\n",
       "      <th>tips_show</th>\n",
       "      <td>291</td>\n",
       "    </tr>\n",
       "  </tbody>\n",
       "</table>\n",
       "</div>"
      ],
      "text/plain": [
       "               user_id\n",
       "event_name            \n",
       "advert_open         21\n",
       "contacts_call        5\n",
       "contacts_show       68\n",
       "favorites_add        8\n",
       "map                 57\n",
       "photos_show        204\n",
       "search_1           128\n",
       "search_2             1\n",
       "search_3             1\n",
       "search_4             2\n",
       "search_5            13\n",
       "search_6             2\n",
       "search_7             5\n",
       "tips_click           5\n",
       "tips_show          291"
      ]
     },
     "execution_count": 49,
     "metadata": {},
     "output_type": "execute_result"
    }
   ],
   "source": [
    "data.query('duration == 0').pivot_table(index='event_name',  \n",
    "                                        values='user_id',\n",
    "                                        aggfunc='nunique')"
   ]
  },
  {
   "cell_type": "markdown",
   "id": "bcee58b8",
   "metadata": {},
   "source": [
    "По сводной таблице видно, что пользователи с нулевой сессией совершали события в приложение, а значит эта активность не могла показывать 0, скорее всего это программный сбой, также не хватает ведение журнала логирования сессий. Но будем учитывать при дальнейшем анализе, что доля пользователей со временем 0 минут равняется 2% и можно будет ими принебречь в каких-то моментах. Любителей посидеть в приложении более 176 минут пока оставим как есть, но возьмём на заметку, что они есть и их доля равняется 25%."
   ]
  },
  {
   "cell_type": "markdown",
   "id": "8b106bd7",
   "metadata": {},
   "source": [
    "### Расчёт конверсии по ключевому действию - contacts_show(просмотр контактов)"
   ]
  },
  {
   "cell_type": "code",
   "execution_count": 50,
   "id": "7c543fb4",
   "metadata": {},
   "outputs": [
    {
     "data": {
      "text/html": [
       "<div>\n",
       "<style scoped>\n",
       "    .dataframe tbody tr th:only-of-type {\n",
       "        vertical-align: middle;\n",
       "    }\n",
       "\n",
       "    .dataframe tbody tr th {\n",
       "        vertical-align: top;\n",
       "    }\n",
       "\n",
       "    .dataframe thead th {\n",
       "        text-align: right;\n",
       "    }\n",
       "</style>\n",
       "<table border=\"1\" class=\"dataframe\">\n",
       "  <thead>\n",
       "    <tr style=\"text-align: right;\">\n",
       "      <th></th>\n",
       "      <th>conversion</th>\n",
       "    </tr>\n",
       "    <tr>\n",
       "      <th>dt_ts</th>\n",
       "      <th></th>\n",
       "    </tr>\n",
       "  </thead>\n",
       "  <tbody>\n",
       "    <tr>\n",
       "      <th>2019-10-07</th>\n",
       "      <td>0.250000</td>\n",
       "    </tr>\n",
       "    <tr>\n",
       "      <th>2019-10-08</th>\n",
       "      <td>0.233533</td>\n",
       "    </tr>\n",
       "    <tr>\n",
       "      <th>2019-10-09</th>\n",
       "      <td>0.284091</td>\n",
       "    </tr>\n",
       "    <tr>\n",
       "      <th>2019-10-10</th>\n",
       "      <td>0.235632</td>\n",
       "    </tr>\n",
       "    <tr>\n",
       "      <th>2019-10-11</th>\n",
       "      <td>0.220588</td>\n",
       "    </tr>\n",
       "  </tbody>\n",
       "</table>\n",
       "</div>"
      ],
      "text/plain": [
       "            conversion\n",
       "dt_ts                 \n",
       "2019-10-07    0.250000\n",
       "2019-10-08    0.233533\n",
       "2019-10-09    0.284091\n",
       "2019-10-10    0.235632\n",
       "2019-10-11    0.220588"
      ]
     },
     "execution_count": 50,
     "metadata": {},
     "output_type": "execute_result"
    }
   ],
   "source": [
    "data_conversion = pd.DataFrame(\n",
    "    (data.\n",
    "     query('event_name == \"contacts_show\"').\n",
    "     pivot_table(index='dt_ts', \n",
    "                 values='user_id', \n",
    "                 aggfunc='nunique')['user_id'] \n",
    "     / \n",
    "     sizes_cohort['sizes_cohort']\n",
    "    ), \n",
    "    columns=['conversion']\n",
    ")\n",
    "\n",
    "data_conversion.head()"
   ]
  },
  {
   "cell_type": "code",
   "execution_count": 51,
   "id": "25a91cd6",
   "metadata": {},
   "outputs": [
    {
     "data": {
      "text/plain": [
       "min    0.180723\n",
       "max    0.296296\n",
       "Name: conversion, dtype: float64"
      ]
     },
     "execution_count": 51,
     "metadata": {},
     "output_type": "execute_result"
    }
   ],
   "source": [
    "data_conversion['conversion'].agg(['min', 'max'])"
   ]
  },
  {
   "cell_type": "code",
   "execution_count": 52,
   "id": "baf74777",
   "metadata": {},
   "outputs": [
    {
     "data": {
      "image/png": "[encoded data removed]",
      "text/plain": [
       "<Figure size 960x720 with 2 Axes>"
      ]
     },
     "metadata": {},
     "output_type": "display_data"
    }
   ],
   "source": [
    "plt.figure(figsize=(12, 9))\n",
    "\n",
    "sns.heatmap(data_conversion, cmap=\"magma_r\")\n",
    "\n",
    "plt.title('Конверсия целевого действия contacts_show')\n",
    "plt.ylabel('дата первого действия в приложении (когорты)')\n",
    "plt.xlabel(None)\n",
    "plt.xticks(ticks=[])\n",
    "plt.show()"
   ]
  },
  {
   "cell_type": "markdown",
   "id": "8ba00751",
   "metadata": {},
   "source": [
    "Конверсия в целевое действие contacts_show (просмотр контактов) по когортам неоднородна. Максимальная конверсия приходится на когорту **\"2019-10-24\"**, минимальные значения конверсии в когортах **\"2019-10-15\" и \"2019-10-16\"**. Также в анализируемом периоде ***07.10.2019 - 03.11.2019*** стоит отметить то, что конверсия выше 0,24 фиксируется в когортах с интервалов в 8 дней (начиная с когорты **\"2019-10-09\"**), что соответствует дням недели - **среда, четверг, пятница.**"
   ]
  },
  {
   "cell_type": "markdown",
   "id": "173d1016",
   "metadata": {},
   "source": [
    "### Предварительный вывод по разделу"
   ]
  },
  {
   "cell_type": "markdown",
   "id": "11f7b421",
   "metadata": {},
   "source": [
    "По частоте совершения действий пользователями в приложении:\n",
    "- всего в датафрейме представлено 4293 пользователя, кол-во действий пользователей равняется - 15;\n",
    "- ***tips_show — увидел рекомендованные объявления*** является самым частым действием пользователей, но стоит обратить внимание на то, что ***tips_click — кликнул по рекомендованному объявлению*** имеет гораздо меньшие значения действий, а значит стоит на это обратить внимание, так как возможно есть проблема в приложении, что многие пользователи не хотят или **не могут кликнуть на рекомендованное объявление**.\n",
    "- Действие ***photos_show — просмотрел фотографий в объявлении*** является вторым по популярности у пользователей;\n",
    "- Действие ***advert_open — открыл карточки объявления*** судя по всему является третим по популярности у пользователей;\n",
    "- Целевое действие ***contacts_show — посмотрел номер телефона*** является четвёртым по популярности у пользователей.\n",
    "- наиболее активными днями недели являются понедельник и вторник, а вот суббота и пятница являются менее активными днями недели."
   ]
  },
  {
   "cell_type": "markdown",
   "id": "6d87c47e",
   "metadata": {},
   "source": [
    "По источникам, с которых пользователи установили приложение:\n",
    "- источников всего 3: yandex, other, google;\n",
    "- кол-во пользоватлей, пришедших от yandex - 1934, от other - 1230, от google - 1129."
   ]
  },
  {
   "cell_type": "markdown",
   "id": "5f73bf31",
   "metadata": {},
   "source": [
    "По удержанию пользователей (retention rate):\n",
    "- общее удержание со временем \"жизни\" пользователей уменьшается."
   ]
  },
  {
   "cell_type": "markdown",
   "id": "bc46bd7d",
   "metadata": {},
   "source": [
    "По времени пользователей в приложении:\n",
    "- медианное временя нахождения пользователей в приложении составляет 44 минуты 18 секунд;\n",
    "- также в данных присутствуют пользователи, которые проводили в приложении от 176 минут 42 секунд до 1417 минут 30 секунд. Последнее значение равняется практически 24 часам и вызывает настороженность в своей достоверности. В дальнейшем чтобы точнее определять время нахождения пользователей в приложении необходимо вести журнал сессий, это стоит вынести в рекомендации разработчикам."
   ]
  },
  {
   "cell_type": "markdown",
   "id": "dde584f4",
   "metadata": {},
   "source": [
    "По конверсии ключевого действия - contacts_show(просмотр контактов):\n",
    "- конверсия пользователей в целевое действие находится от 0,17 до 0,30;\n",
    "- максимальная конверсия приходится на когорту **\"2019-10-24\"**;\n",
    "- минимальные значения конверсии в когортах **\"2019-10-15\" и \"2019-10-16\"**;\n",
    "- также в анализируемом периоде ***07.10.2019 - 03.11.2019*** стоит отметить то, что конверсия выше 0,24 фиксируется в когортах с интервалов в 8 дней (начиная с когорты **\"2019-10-09\"**), что соответствует дням недели - **среда, четверг, пятница.**"
   ]
  },
  {
   "cell_type": "markdown",
   "id": "9e82114b",
   "metadata": {},
   "source": [
    "## Сегментация пользователей"
   ]
  },
  {
   "cell_type": "markdown",
   "id": "7124fb9a",
   "metadata": {},
   "source": [
    "### Сегментация пользователей по времени пользователей в приложении"
   ]
  },
  {
   "cell_type": "markdown",
   "id": "fa804826",
   "metadata": {},
   "source": [
    "Так как время нахождения пользователей в приложении может указывает на \"лояльность\" (или наоборот) того или иного человека, то это время может влиять на основыне метрики, такие как удержание пользователей (retention rate) и конверсия в целевое действие. Поэтому стоит выполнить сегментацию по времени пользователей в приложении и далее использовать её для анализа необходимых метрик."
   ]
  },
  {
   "cell_type": "code",
   "execution_count": 53,
   "id": "da09e211",
   "metadata": {},
   "outputs": [
    {
     "data": {
      "text/plain": [
       "count    74197.000000\n",
       "mean       151.795798\n",
       "std        239.576708\n",
       "min          0.000000\n",
       "25%         14.800000\n",
       "50%         44.300000\n",
       "75%        176.700000\n",
       "max       1417.500000\n",
       "Name: duration, dtype: float64"
      ]
     },
     "execution_count": 53,
     "metadata": {},
     "output_type": "execute_result"
    }
   ],
   "source": [
    "data['duration'].describe()"
   ]
  },
  {
   "cell_type": "markdown",
   "id": "8ad432a9",
   "metadata": {},
   "source": [
    "Напишем собственную функцию, которая выполнит сегментацию пользователей для добавления колонки `segment` в датафрейм по следующим параметрам (пользователей, которые провели в приложении 0 минут исключим из анализа):\n",
    "- пользователи, которые проводят в приложении **не более 14 минут**;\n",
    "- пользователи, которые проводят в приложении **от 14 до 44 минут**;\n",
    "- пользователи, которые проводят в приложении **от 44 до 176 минут**;\n",
    "- пользователи, которые проводят в приложении **более 176 минут**."
   ]
  },
  {
   "cell_type": "code",
   "execution_count": 54,
   "id": "14427002",
   "metadata": {},
   "outputs": [],
   "source": [
    "def user_segment (duration):\n",
    "    \"\"\"\n",
    "    Возвращает сегмент группы по значению продолжительности duration, используя правила:\n",
    "    - 'не более 14 минут', если duration <= 14 ;\n",
    "    - 'от 14 до 44 минут', если 14 < duration <= 44;\n",
    "    - 'от 44 до 176 минут' — если 44 < duration <= 176;\n",
    "    - 'более 176 минут' - если duration > 176\n",
    "    \"\"\"\n",
    "    if duration <= 14:\n",
    "        return 'не более 14 минут'\n",
    "    if 14 < duration <= 44:\n",
    "        return 'от 14 до 44 минут'\n",
    "    if 44 < duration <= 176:\n",
    "        return 'от 44 до 176 минут'\n",
    "    return 'более 176 минут'"
   ]
  },
  {
   "cell_type": "markdown",
   "id": "da83fc03",
   "metadata": {},
   "source": [
    "До применения написанной функции рассчитаем медианное значение времени нахождения в приложения, сделаем это по сводной таблице, в которой выполним группировку по дате первого действия и пользователю. Это делается для того, чтобы один и тот же пользователь не попал в разные сегменты. Далее добавим столбец `duration_median` к датафрейму."
   ]
  },
  {
   "cell_type": "code",
   "execution_count": 55,
   "id": "9ffb303e",
   "metadata": {},
   "outputs": [
    {
     "data": {
      "text/html": [
       "<div>\n",
       "<style scoped>\n",
       "    .dataframe tbody tr th:only-of-type {\n",
       "        vertical-align: middle;\n",
       "    }\n",
       "\n",
       "    .dataframe tbody tr th {\n",
       "        vertical-align: top;\n",
       "    }\n",
       "\n",
       "    .dataframe thead th {\n",
       "        text-align: right;\n",
       "    }\n",
       "</style>\n",
       "<table border=\"1\" class=\"dataframe\">\n",
       "  <thead>\n",
       "    <tr style=\"text-align: right;\">\n",
       "      <th></th>\n",
       "      <th>event_time</th>\n",
       "      <th>event_name</th>\n",
       "      <th>user_id</th>\n",
       "      <th>dt</th>\n",
       "      <th>weekday</th>\n",
       "      <th>first_ts</th>\n",
       "      <th>dt_ts</th>\n",
       "      <th>lifetime</th>\n",
       "      <th>duration</th>\n",
       "      <th>duration_median</th>\n",
       "    </tr>\n",
       "  </thead>\n",
       "  <tbody>\n",
       "    <tr>\n",
       "      <th>0</th>\n",
       "      <td>2019-10-07 00:00:00.431357</td>\n",
       "      <td>advert_open</td>\n",
       "      <td>020292ab-89bc-4156-9acf-68bc2783f894</td>\n",
       "      <td>2019-10-07</td>\n",
       "      <td>понедельник</td>\n",
       "      <td>2019-10-07 00:00:00.431357</td>\n",
       "      <td>2019-10-07</td>\n",
       "      <td>0</td>\n",
       "      <td>18.7</td>\n",
       "      <td>18.7</td>\n",
       "    </tr>\n",
       "    <tr>\n",
       "      <th>1</th>\n",
       "      <td>2019-10-07 00:00:01.236320</td>\n",
       "      <td>tips_show</td>\n",
       "      <td>020292ab-89bc-4156-9acf-68bc2783f894</td>\n",
       "      <td>2019-10-07</td>\n",
       "      <td>понедельник</td>\n",
       "      <td>2019-10-07 00:00:00.431357</td>\n",
       "      <td>2019-10-07</td>\n",
       "      <td>0</td>\n",
       "      <td>18.7</td>\n",
       "      <td>18.7</td>\n",
       "    </tr>\n",
       "    <tr>\n",
       "      <th>2</th>\n",
       "      <td>2019-10-07 00:00:02.245341</td>\n",
       "      <td>tips_show</td>\n",
       "      <td>cf7eda61-9349-469f-ac27-e5b6f5ec475c</td>\n",
       "      <td>2019-10-07</td>\n",
       "      <td>понедельник</td>\n",
       "      <td>2019-10-07 00:00:02.245341</td>\n",
       "      <td>2019-10-07</td>\n",
       "      <td>0</td>\n",
       "      <td>41.6</td>\n",
       "      <td>29.3</td>\n",
       "    </tr>\n",
       "    <tr>\n",
       "      <th>3</th>\n",
       "      <td>2019-10-07 00:00:07.039334</td>\n",
       "      <td>tips_show</td>\n",
       "      <td>020292ab-89bc-4156-9acf-68bc2783f894</td>\n",
       "      <td>2019-10-07</td>\n",
       "      <td>понедельник</td>\n",
       "      <td>2019-10-07 00:00:00.431357</td>\n",
       "      <td>2019-10-07</td>\n",
       "      <td>0</td>\n",
       "      <td>18.7</td>\n",
       "      <td>18.7</td>\n",
       "    </tr>\n",
       "    <tr>\n",
       "      <th>4</th>\n",
       "      <td>2019-10-07 00:00:56.319813</td>\n",
       "      <td>advert_open</td>\n",
       "      <td>cf7eda61-9349-469f-ac27-e5b6f5ec475c</td>\n",
       "      <td>2019-10-07</td>\n",
       "      <td>понедельник</td>\n",
       "      <td>2019-10-07 00:00:02.245341</td>\n",
       "      <td>2019-10-07</td>\n",
       "      <td>0</td>\n",
       "      <td>41.6</td>\n",
       "      <td>29.3</td>\n",
       "    </tr>\n",
       "  </tbody>\n",
       "</table>\n",
       "</div>"
      ],
      "text/plain": [
       "                  event_time   event_name  \\\n",
       "0 2019-10-07 00:00:00.431357  advert_open   \n",
       "1 2019-10-07 00:00:01.236320    tips_show   \n",
       "2 2019-10-07 00:00:02.245341    tips_show   \n",
       "3 2019-10-07 00:00:07.039334    tips_show   \n",
       "4 2019-10-07 00:00:56.319813  advert_open   \n",
       "\n",
       "                                user_id          dt      weekday  \\\n",
       "0  020292ab-89bc-4156-9acf-68bc2783f894  2019-10-07  понедельник   \n",
       "1  020292ab-89bc-4156-9acf-68bc2783f894  2019-10-07  понедельник   \n",
       "2  cf7eda61-9349-469f-ac27-e5b6f5ec475c  2019-10-07  понедельник   \n",
       "3  020292ab-89bc-4156-9acf-68bc2783f894  2019-10-07  понедельник   \n",
       "4  cf7eda61-9349-469f-ac27-e5b6f5ec475c  2019-10-07  понедельник   \n",
       "\n",
       "                    first_ts       dt_ts  lifetime  duration  duration_median  \n",
       "0 2019-10-07 00:00:00.431357  2019-10-07         0      18.7             18.7  \n",
       "1 2019-10-07 00:00:00.431357  2019-10-07         0      18.7             18.7  \n",
       "2 2019-10-07 00:00:02.245341  2019-10-07         0      41.6             29.3  \n",
       "3 2019-10-07 00:00:00.431357  2019-10-07         0      18.7             18.7  \n",
       "4 2019-10-07 00:00:02.245341  2019-10-07         0      41.6             29.3  "
      ]
     },
     "execution_count": 55,
     "metadata": {},
     "output_type": "execute_result"
    }
   ],
   "source": [
    "user_duration_median = (data.\n",
    "                        groupby(['dt_ts', 'user_id'])[['duration']].\n",
    "                        median().\n",
    "                        reset_index().rename(columns={'duration':'duration_median'})\n",
    "                       )\n",
    "\n",
    "data = data.merge(user_duration_median, on=['dt_ts', 'user_id'], how='left')\n",
    "\n",
    "data.head()"
   ]
  },
  {
   "cell_type": "markdown",
   "id": "b2030242",
   "metadata": {},
   "source": [
    "Применим написанную функцию к колонке `duration` датафрейма, предварительно удалив пользователей с нулевым временем нахождения в приложении, так как раньше мы поняли, что они составляют 2% и ими можно принебречь."
   ]
  },
  {
   "cell_type": "code",
   "execution_count": 56,
   "id": "69fb171b",
   "metadata": {},
   "outputs": [
    {
     "data": {
      "text/html": [
       "<div>\n",
       "<style scoped>\n",
       "    .dataframe tbody tr th:only-of-type {\n",
       "        vertical-align: middle;\n",
       "    }\n",
       "\n",
       "    .dataframe tbody tr th {\n",
       "        vertical-align: top;\n",
       "    }\n",
       "\n",
       "    .dataframe thead th {\n",
       "        text-align: right;\n",
       "    }\n",
       "</style>\n",
       "<table border=\"1\" class=\"dataframe\">\n",
       "  <thead>\n",
       "    <tr style=\"text-align: right;\">\n",
       "      <th></th>\n",
       "      <th>event_time</th>\n",
       "      <th>event_name</th>\n",
       "      <th>user_id</th>\n",
       "      <th>dt</th>\n",
       "      <th>weekday</th>\n",
       "      <th>first_ts</th>\n",
       "      <th>dt_ts</th>\n",
       "      <th>lifetime</th>\n",
       "      <th>duration</th>\n",
       "      <th>duration_median</th>\n",
       "      <th>segment</th>\n",
       "    </tr>\n",
       "  </thead>\n",
       "  <tbody>\n",
       "    <tr>\n",
       "      <th>0</th>\n",
       "      <td>2019-10-07 00:00:00.431357</td>\n",
       "      <td>advert_open</td>\n",
       "      <td>020292ab-89bc-4156-9acf-68bc2783f894</td>\n",
       "      <td>2019-10-07</td>\n",
       "      <td>понедельник</td>\n",
       "      <td>2019-10-07 00:00:00.431357</td>\n",
       "      <td>2019-10-07</td>\n",
       "      <td>0</td>\n",
       "      <td>18.7</td>\n",
       "      <td>18.7</td>\n",
       "      <td>от 14 до 44 минут</td>\n",
       "    </tr>\n",
       "    <tr>\n",
       "      <th>1</th>\n",
       "      <td>2019-10-07 00:00:01.236320</td>\n",
       "      <td>tips_show</td>\n",
       "      <td>020292ab-89bc-4156-9acf-68bc2783f894</td>\n",
       "      <td>2019-10-07</td>\n",
       "      <td>понедельник</td>\n",
       "      <td>2019-10-07 00:00:00.431357</td>\n",
       "      <td>2019-10-07</td>\n",
       "      <td>0</td>\n",
       "      <td>18.7</td>\n",
       "      <td>18.7</td>\n",
       "      <td>от 14 до 44 минут</td>\n",
       "    </tr>\n",
       "    <tr>\n",
       "      <th>2</th>\n",
       "      <td>2019-10-07 00:00:02.245341</td>\n",
       "      <td>tips_show</td>\n",
       "      <td>cf7eda61-9349-469f-ac27-e5b6f5ec475c</td>\n",
       "      <td>2019-10-07</td>\n",
       "      <td>понедельник</td>\n",
       "      <td>2019-10-07 00:00:02.245341</td>\n",
       "      <td>2019-10-07</td>\n",
       "      <td>0</td>\n",
       "      <td>41.6</td>\n",
       "      <td>29.3</td>\n",
       "      <td>от 14 до 44 минут</td>\n",
       "    </tr>\n",
       "    <tr>\n",
       "      <th>3</th>\n",
       "      <td>2019-10-07 00:00:07.039334</td>\n",
       "      <td>tips_show</td>\n",
       "      <td>020292ab-89bc-4156-9acf-68bc2783f894</td>\n",
       "      <td>2019-10-07</td>\n",
       "      <td>понедельник</td>\n",
       "      <td>2019-10-07 00:00:00.431357</td>\n",
       "      <td>2019-10-07</td>\n",
       "      <td>0</td>\n",
       "      <td>18.7</td>\n",
       "      <td>18.7</td>\n",
       "      <td>от 14 до 44 минут</td>\n",
       "    </tr>\n",
       "    <tr>\n",
       "      <th>4</th>\n",
       "      <td>2019-10-07 00:00:56.319813</td>\n",
       "      <td>advert_open</td>\n",
       "      <td>cf7eda61-9349-469f-ac27-e5b6f5ec475c</td>\n",
       "      <td>2019-10-07</td>\n",
       "      <td>понедельник</td>\n",
       "      <td>2019-10-07 00:00:02.245341</td>\n",
       "      <td>2019-10-07</td>\n",
       "      <td>0</td>\n",
       "      <td>41.6</td>\n",
       "      <td>29.3</td>\n",
       "      <td>от 14 до 44 минут</td>\n",
       "    </tr>\n",
       "  </tbody>\n",
       "</table>\n",
       "</div>"
      ],
      "text/plain": [
       "                  event_time   event_name  \\\n",
       "0 2019-10-07 00:00:00.431357  advert_open   \n",
       "1 2019-10-07 00:00:01.236320    tips_show   \n",
       "2 2019-10-07 00:00:02.245341    tips_show   \n",
       "3 2019-10-07 00:00:07.039334    tips_show   \n",
       "4 2019-10-07 00:00:56.319813  advert_open   \n",
       "\n",
       "                                user_id          dt      weekday  \\\n",
       "0  020292ab-89bc-4156-9acf-68bc2783f894  2019-10-07  понедельник   \n",
       "1  020292ab-89bc-4156-9acf-68bc2783f894  2019-10-07  понедельник   \n",
       "2  cf7eda61-9349-469f-ac27-e5b6f5ec475c  2019-10-07  понедельник   \n",
       "3  020292ab-89bc-4156-9acf-68bc2783f894  2019-10-07  понедельник   \n",
       "4  cf7eda61-9349-469f-ac27-e5b6f5ec475c  2019-10-07  понедельник   \n",
       "\n",
       "                    first_ts       dt_ts  lifetime  duration  duration_median  \\\n",
       "0 2019-10-07 00:00:00.431357  2019-10-07         0      18.7             18.7   \n",
       "1 2019-10-07 00:00:00.431357  2019-10-07         0      18.7             18.7   \n",
       "2 2019-10-07 00:00:02.245341  2019-10-07         0      41.6             29.3   \n",
       "3 2019-10-07 00:00:00.431357  2019-10-07         0      18.7             18.7   \n",
       "4 2019-10-07 00:00:02.245341  2019-10-07         0      41.6             29.3   \n",
       "\n",
       "             segment  \n",
       "0  от 14 до 44 минут  \n",
       "1  от 14 до 44 минут  \n",
       "2  от 14 до 44 минут  \n",
       "3  от 14 до 44 минут  \n",
       "4  от 14 до 44 минут  "
      ]
     },
     "execution_count": 56,
     "metadata": {},
     "output_type": "execute_result"
    }
   ],
   "source": [
    "data = data.drop(index=data.loc[data['duration'] == 0].index)\n",
    "\n",
    "data['segment'] = data['duration_median'].apply(user_segment)\n",
    "\n",
    "data.head()"
   ]
  },
  {
   "cell_type": "code",
   "execution_count": 57,
   "id": "89e8289e",
   "metadata": {},
   "outputs": [
    {
     "data": {
      "text/plain": [
       "segment\n",
       "более 176 минут        500\n",
       "не более 14 минут     1841\n",
       "от 14 до 44 минут     1157\n",
       "от 44 до 176 минут     709\n",
       "Name: user_id, dtype: int64"
      ]
     },
     "execution_count": 57,
     "metadata": {},
     "output_type": "execute_result"
    }
   ],
   "source": [
    "data.groupby('segment')['user_id'].nunique()"
   ]
  },
  {
   "cell_type": "markdown",
   "id": "5906392a",
   "metadata": {},
   "source": [
    "### Удержание пользователей по сегментам"
   ]
  },
  {
   "cell_type": "markdown",
   "id": "ddad5d99",
   "metadata": {},
   "source": [
    "Напишем собственную функцию для расчёта удержания (retention rate) по различной сегментации"
   ]
  },
  {
   "cell_type": "code",
   "execution_count": 58,
   "id": "23f03131",
   "metadata": {},
   "outputs": [],
   "source": [
    "def get_retention(data, segmentation=[]):\n",
    "    \n",
    "    \"\"\" Функция на вход принимает датафрейм с посчитанными датами первого действия,\n",
    "    лайфтаймами, а также параметр, значение которого отражает желаемую \n",
    "    колонку датафрейма для сегментации. Возвращает функция входящие данные, \n",
    "    таблицу удержания и таблицу динамики удержания.\n",
    "    \"\"\" \n",
    "    \n",
    "    result_raw = data.copy()\n",
    "        \n",
    "    # группируем по cohort, если в segmentation ничего нет\n",
    "    if len(segmentation) == 0:\n",
    "        result_raw['cohort'] = 'All users'\n",
    "        segmentation = segmentation + ['cohort']\n",
    "    \n",
    "    # функция для группировки таблицы по желаемой сегментации\n",
    "    def group_by_segmentation(df, segment):\n",
    "        result = df.pivot_table(index=segment, \n",
    "                                columns='lifetime', \n",
    "                                values='user_id', \n",
    "                                aggfunc='nunique'\n",
    "                               )\n",
    "        \n",
    "        cohort_sizes = (df.groupby(segment).\n",
    "                        agg({'user_id': 'nunique'}).\n",
    "                        rename(columns={'user_id': 'cohort_size'})\n",
    "                       )\n",
    "        \n",
    "        result = cohort_sizes.merge(result, \n",
    "                                    on=segment, \n",
    "                                    how='left').fillna(0)\n",
    "        \n",
    "        result = result.div(result['cohort_size'], axis=0).drop(columns='cohort_size')\n",
    "        \n",
    "        return result\n",
    "    \n",
    "    # получаем таблицу удержания\n",
    "    result_grouped = group_by_segmentation(result_raw, segmentation)\n",
    "    \n",
    "    # получаем таблицу динамики удержания\n",
    "    result_in_time = group_by_segmentation(result_raw, segmentation + ['dt_ts'])\n",
    "    \n",
    "    return result_raw, result_grouped, result_in_time"
   ]
  },
  {
   "cell_type": "markdown",
   "id": "11004df5",
   "metadata": {},
   "source": [
    "Ниже посмотрим на значения таблицы удержания для сегментированных пользователей по времени нахождения их в приложении"
   ]
  },
  {
   "cell_type": "code",
   "execution_count": 59,
   "id": "49770fa9",
   "metadata": {},
   "outputs": [
    {
     "data": {
      "text/html": [
       "<div>\n",
       "<style scoped>\n",
       "    .dataframe tbody tr th:only-of-type {\n",
       "        vertical-align: middle;\n",
       "    }\n",
       "\n",
       "    .dataframe tbody tr th {\n",
       "        vertical-align: top;\n",
       "    }\n",
       "\n",
       "    .dataframe thead th {\n",
       "        text-align: right;\n",
       "    }\n",
       "</style>\n",
       "<table border=\"1\" class=\"dataframe\">\n",
       "  <thead>\n",
       "    <tr style=\"text-align: right;\">\n",
       "      <th></th>\n",
       "      <th>0</th>\n",
       "      <th>1</th>\n",
       "      <th>2</th>\n",
       "      <th>3</th>\n",
       "      <th>4</th>\n",
       "      <th>5</th>\n",
       "      <th>6</th>\n",
       "      <th>7</th>\n",
       "      <th>8</th>\n",
       "      <th>9</th>\n",
       "      <th>...</th>\n",
       "      <th>17</th>\n",
       "      <th>18</th>\n",
       "      <th>19</th>\n",
       "      <th>20</th>\n",
       "      <th>21</th>\n",
       "      <th>22</th>\n",
       "      <th>23</th>\n",
       "      <th>24</th>\n",
       "      <th>25</th>\n",
       "      <th>26</th>\n",
       "    </tr>\n",
       "    <tr>\n",
       "      <th>segment</th>\n",
       "      <th></th>\n",
       "      <th></th>\n",
       "      <th></th>\n",
       "      <th></th>\n",
       "      <th></th>\n",
       "      <th></th>\n",
       "      <th></th>\n",
       "      <th></th>\n",
       "      <th></th>\n",
       "      <th></th>\n",
       "      <th></th>\n",
       "      <th></th>\n",
       "      <th></th>\n",
       "      <th></th>\n",
       "      <th></th>\n",
       "      <th></th>\n",
       "      <th></th>\n",
       "      <th></th>\n",
       "      <th></th>\n",
       "      <th></th>\n",
       "      <th></th>\n",
       "    </tr>\n",
       "  </thead>\n",
       "  <tbody>\n",
       "    <tr>\n",
       "      <th>более 176 минут</th>\n",
       "      <td>0.956000</td>\n",
       "      <td>0.260000</td>\n",
       "      <td>0.172000</td>\n",
       "      <td>0.132000</td>\n",
       "      <td>0.116000</td>\n",
       "      <td>0.102000</td>\n",
       "      <td>0.106000</td>\n",
       "      <td>0.098000</td>\n",
       "      <td>0.072000</td>\n",
       "      <td>0.056000</td>\n",
       "      <td>...</td>\n",
       "      <td>0.030000</td>\n",
       "      <td>0.026000</td>\n",
       "      <td>0.014000</td>\n",
       "      <td>0.014000</td>\n",
       "      <td>0.028000</td>\n",
       "      <td>0.014000</td>\n",
       "      <td>0.014000</td>\n",
       "      <td>0.012000</td>\n",
       "      <td>0.014000</td>\n",
       "      <td>0.000000</td>\n",
       "    </tr>\n",
       "    <tr>\n",
       "      <th>не более 14 минут</th>\n",
       "      <td>0.946768</td>\n",
       "      <td>0.055948</td>\n",
       "      <td>0.046714</td>\n",
       "      <td>0.038566</td>\n",
       "      <td>0.029875</td>\n",
       "      <td>0.023357</td>\n",
       "      <td>0.022271</td>\n",
       "      <td>0.018468</td>\n",
       "      <td>0.019555</td>\n",
       "      <td>0.014123</td>\n",
       "      <td>...</td>\n",
       "      <td>0.009234</td>\n",
       "      <td>0.004345</td>\n",
       "      <td>0.005975</td>\n",
       "      <td>0.001086</td>\n",
       "      <td>0.002173</td>\n",
       "      <td>0.002716</td>\n",
       "      <td>0.001086</td>\n",
       "      <td>0.002716</td>\n",
       "      <td>0.001086</td>\n",
       "      <td>0.001630</td>\n",
       "    </tr>\n",
       "    <tr>\n",
       "      <th>от 14 до 44 минут</th>\n",
       "      <td>0.974071</td>\n",
       "      <td>0.069144</td>\n",
       "      <td>0.058773</td>\n",
       "      <td>0.034572</td>\n",
       "      <td>0.038029</td>\n",
       "      <td>0.037165</td>\n",
       "      <td>0.039758</td>\n",
       "      <td>0.038029</td>\n",
       "      <td>0.029386</td>\n",
       "      <td>0.015557</td>\n",
       "      <td>...</td>\n",
       "      <td>0.004322</td>\n",
       "      <td>0.005186</td>\n",
       "      <td>0.004322</td>\n",
       "      <td>0.000864</td>\n",
       "      <td>0.003457</td>\n",
       "      <td>0.002593</td>\n",
       "      <td>0.002593</td>\n",
       "      <td>0.001729</td>\n",
       "      <td>0.000864</td>\n",
       "      <td>0.001729</td>\n",
       "    </tr>\n",
       "    <tr>\n",
       "      <th>от 44 до 176 минут</th>\n",
       "      <td>0.952045</td>\n",
       "      <td>0.115656</td>\n",
       "      <td>0.100141</td>\n",
       "      <td>0.081805</td>\n",
       "      <td>0.052186</td>\n",
       "      <td>0.063470</td>\n",
       "      <td>0.052186</td>\n",
       "      <td>0.052186</td>\n",
       "      <td>0.049365</td>\n",
       "      <td>0.035261</td>\n",
       "      <td>...</td>\n",
       "      <td>0.009873</td>\n",
       "      <td>0.005642</td>\n",
       "      <td>0.007052</td>\n",
       "      <td>0.008463</td>\n",
       "      <td>0.002821</td>\n",
       "      <td>0.007052</td>\n",
       "      <td>0.004231</td>\n",
       "      <td>0.005642</td>\n",
       "      <td>0.004231</td>\n",
       "      <td>0.002821</td>\n",
       "    </tr>\n",
       "  </tbody>\n",
       "</table>\n",
       "<p>4 rows × 27 columns</p>\n",
       "</div>"
      ],
      "text/plain": [
       "                          0         1         2         3         4   \\\n",
       "segment                                                                \n",
       "более 176 минут     0.956000  0.260000  0.172000  0.132000  0.116000   \n",
       "не более 14 минут   0.946768  0.055948  0.046714  0.038566  0.029875   \n",
       "от 14 до 44 минут   0.974071  0.069144  0.058773  0.034572  0.038029   \n",
       "от 44 до 176 минут  0.952045  0.115656  0.100141  0.081805  0.052186   \n",
       "\n",
       "                          5         6         7         8         9   ...  \\\n",
       "segment                                                               ...   \n",
       "более 176 минут     0.102000  0.106000  0.098000  0.072000  0.056000  ...   \n",
       "не более 14 минут   0.023357  0.022271  0.018468  0.019555  0.014123  ...   \n",
       "от 14 до 44 минут   0.037165  0.039758  0.038029  0.029386  0.015557  ...   \n",
       "от 44 до 176 минут  0.063470  0.052186  0.052186  0.049365  0.035261  ...   \n",
       "\n",
       "                          17        18        19        20        21  \\\n",
       "segment                                                                \n",
       "более 176 минут     0.030000  0.026000  0.014000  0.014000  0.028000   \n",
       "не более 14 минут   0.009234  0.004345  0.005975  0.001086  0.002173   \n",
       "от 14 до 44 минут   0.004322  0.005186  0.004322  0.000864  0.003457   \n",
       "от 44 до 176 минут  0.009873  0.005642  0.007052  0.008463  0.002821   \n",
       "\n",
       "                          22        23        24        25        26  \n",
       "segment                                                               \n",
       "более 176 минут     0.014000  0.014000  0.012000  0.014000  0.000000  \n",
       "не более 14 минут   0.002716  0.001086  0.002716  0.001086  0.001630  \n",
       "от 14 до 44 минут   0.002593  0.002593  0.001729  0.000864  0.001729  \n",
       "от 44 до 176 минут  0.007052  0.004231  0.005642  0.004231  0.002821  \n",
       "\n",
       "[4 rows x 27 columns]"
      ]
     },
     "execution_count": 59,
     "metadata": {},
     "output_type": "execute_result"
    }
   ],
   "source": [
    "retention_raw, retention, retention_history = get_retention(data, segmentation=['segment'])\n",
    "retention"
   ]
  },
  {
   "cell_type": "markdown",
   "id": "da4a5ad6",
   "metadata": {},
   "source": [
    "Визуализируем полученную таблицу удержания сегментированных пользователей и посмотрим какие пользователи лучше удерживаются"
   ]
  },
  {
   "cell_type": "code",
   "execution_count": 60,
   "id": "00a49b08",
   "metadata": {},
   "outputs": [
    {
     "data": {
      "image/png": "[encoded data removed]",
      "text/plain": [
       "<Figure size 960x720 with 2 Axes>"
      ]
     },
     "metadata": {},
     "output_type": "display_data"
    }
   ],
   "source": [
    "plt.figure(figsize=(12, 9))\n",
    "\n",
    "sns.heatmap(retention, cmap=\"magma_r\")\n",
    "plt.title('Таблица удержания (retention rate) по сегментации пользователей ')\n",
    "plt.ylabel('сегменты пользователей (время в приложении)')\n",
    "plt.xlabel('лайфтаймы')\n",
    "plt.show()"
   ]
  },
  {
   "cell_type": "markdown",
   "id": "ddef6268",
   "metadata": {},
   "source": [
    "Как ранее отмечал, общее удержание пользователей уменьшается. Но в первые семь дней лучше удерживаются пользователи, которые проводят в приложении более 176 минут."
   ]
  },
  {
   "cell_type": "markdown",
   "id": "dbdc0b00",
   "metadata": {},
   "source": [
    "### Конверсия после сегментации в целевое действие - contacts_show(просмотр контактов)"
   ]
  },
  {
   "cell_type": "markdown",
   "id": "d756f3e8",
   "metadata": {},
   "source": [
    "Сводную таблицу по кол-ву пользователей в целевое действие делим на общее количество пользователей в сегментах и получаем конверсию в целевое действие в сегментах."
   ]
  },
  {
   "cell_type": "code",
   "execution_count": 61,
   "id": "fd1b7b61",
   "metadata": {},
   "outputs": [
    {
     "data": {
      "text/html": [
       "<div>\n",
       "<style scoped>\n",
       "    .dataframe tbody tr th:only-of-type {\n",
       "        vertical-align: middle;\n",
       "    }\n",
       "\n",
       "    .dataframe tbody tr th {\n",
       "        vertical-align: top;\n",
       "    }\n",
       "\n",
       "    .dataframe thead th {\n",
       "        text-align: right;\n",
       "    }\n",
       "</style>\n",
       "<table border=\"1\" class=\"dataframe\">\n",
       "  <thead>\n",
       "    <tr style=\"text-align: right;\">\n",
       "      <th></th>\n",
       "      <th>conversion_segment</th>\n",
       "    </tr>\n",
       "    <tr>\n",
       "      <th>segment</th>\n",
       "      <th></th>\n",
       "    </tr>\n",
       "  </thead>\n",
       "  <tbody>\n",
       "    <tr>\n",
       "      <th>более 176 минут</th>\n",
       "      <td>0.408000</td>\n",
       "    </tr>\n",
       "    <tr>\n",
       "      <th>не более 14 минут</th>\n",
       "      <td>0.159153</td>\n",
       "    </tr>\n",
       "    <tr>\n",
       "      <th>от 14 до 44 минут</th>\n",
       "      <td>0.197926</td>\n",
       "    </tr>\n",
       "    <tr>\n",
       "      <th>от 44 до 176 минут</th>\n",
       "      <td>0.325811</td>\n",
       "    </tr>\n",
       "  </tbody>\n",
       "</table>\n",
       "</div>"
      ],
      "text/plain": [
       "                    conversion_segment\n",
       "segment                               \n",
       "более 176 минут               0.408000\n",
       "не более 14 минут             0.159153\n",
       "от 14 до 44 минут             0.197926\n",
       "от 44 до 176 минут            0.325811"
      ]
     },
     "execution_count": 61,
     "metadata": {},
     "output_type": "execute_result"
    }
   ],
   "source": [
    "user_segment_conversion = pd.DataFrame(\n",
    "    (data.\n",
    "     query('event_name == \"contacts_show\"').\n",
    "     groupby('segment').agg({'user_id':'nunique'}).\n",
    "     rename(columns={'user_id':'user_id_nunique'})['user_id_nunique'] \n",
    "     / \n",
    "     data.groupby('segment').\n",
    "     agg({'user_id':'nunique'})['user_id']\n",
    "    ), \n",
    "    columns=['conversion_segment']\n",
    ")\n",
    "\n",
    "user_segment_conversion"
   ]
  },
  {
   "cell_type": "code",
   "execution_count": 62,
   "id": "b96ff0f0",
   "metadata": {},
   "outputs": [
    {
     "data": {
      "text/plain": [
       "min    0.159153\n",
       "max    0.408000\n",
       "Name: conversion_segment, dtype: float64"
      ]
     },
     "execution_count": 62,
     "metadata": {},
     "output_type": "execute_result"
    }
   ],
   "source": [
    "user_segment_conversion['conversion_segment'].agg(['min', 'max'])"
   ]
  },
  {
   "cell_type": "markdown",
   "id": "c7925920",
   "metadata": {},
   "source": [
    "Также визуализируем полученную таблицу конверсии"
   ]
  },
  {
   "cell_type": "code",
   "execution_count": 63,
   "id": "58e11e9b",
   "metadata": {},
   "outputs": [
    {
     "data": {
      "image/png": "[encoded data removed]",
      "text/plain": [
       "<Figure size 960x720 with 2 Axes>"
      ]
     },
     "metadata": {},
     "output_type": "display_data"
    }
   ],
   "source": [
    "plt.figure(figsize=(12, 9))\n",
    "\n",
    "sns.heatmap(user_segment_conversion, cmap=\"magma_r\")\n",
    "\n",
    "plt.title('Конверсия целевого действия contacts_show в сегментах')\n",
    "plt.ylabel('сегменты пользователей по времени в приложении')\n",
    "plt.xlabel(None)\n",
    "plt.xticks(ticks=[])\n",
    "plt.show()"
   ]
  },
  {
   "cell_type": "markdown",
   "id": "6fa22776",
   "metadata": {},
   "source": [
    "Конверсия в целевое действие внутри сегментов пользователей по времени нахождения в приложении находится от **0,16 до 0,41**. Лучше всех конвертируются пользователи, которые находятся в приложении более 176 минут, на втором месте идут пользователи, которые проводят в приложении от 44 до 176 минут. Хуже всех конвертируются пользователи, находящиеся в приложении не более 14 минут."
   ]
  },
  {
   "cell_type": "markdown",
   "id": "a323c7f2",
   "metadata": {},
   "source": [
    "### Предварительный вывод по разделу"
   ]
  },
  {
   "cell_type": "markdown",
   "id": "2a2cc02d",
   "metadata": {},
   "source": [
    "В результате анализа нахождения пользователей в приложении были выделены следующие 4 сегмента (по времени нахождения в приложении):\n",
    "- пользователи, которые проводят в приложении **не более 14 минут**;\n",
    "- пользователи, которые проводят в приложении **от 14 до 44 минут**;\n",
    "- пользователи, которые проводят в приложении **от 44 до 176 минут**;\n",
    "- пользователи, которые проводят в приложении **более 176 минут**.  \n",
    "\n",
    "Это позволило выявить следующее:\n",
    "\n",
    "***Удержание пользователей(retention rate):***\n",
    "- Не смотря на то, что общее удержание пользователей уменьшается. Но в первые семь дней лучше удерживаются пользователи, которые проводят в приложении более 176 минут;\n",
    "- Хуже всех удерживаются пользователи, проводящие в приложении от 14 до 44 минут и пользователи, проводящие в приложении менее 14 минут.\n",
    "\n",
    "***Конверсия пользователей в целевое действие contacts_show (просмотр контактов):***\n",
    "- лучше всех конвертируются пользователи, которые находятся в приложении более 176 минут;\n",
    "- На втором месте идут пользователи, которые проводят в приложении от 44 до 176 минут;\n",
    "- Хуже всех конвертируются пользователи, проводящие в приложении не более 14 минут."
   ]
  },
  {
   "cell_type": "markdown",
   "id": "f9b4b4a7",
   "metadata": {},
   "source": [
    "## Проверка статистических гипотез"
   ]
  },
  {
   "cell_type": "markdown",
   "id": "3a1850d8",
   "metadata": {},
   "source": [
    "### Первая гипотеза по источникам установки приложения"
   ]
  },
  {
   "cell_type": "markdown",
   "id": "cc4ba253",
   "metadata": {},
   "source": [
    "Некоторые пользователи установили приложение по ссылке из yandex, другие — из google. Проверка гипотезы: две эти группы демонстрируют разную конверсию в contacts_show (просмотр контактов)."
   ]
  },
  {
   "cell_type": "markdown",
   "id": "3327bfc8",
   "metadata": {},
   "source": [
    "Сформулируем гипотезы (нулевую гипотезу, альтернативная у нас уже есть):\n",
    "\n",
    "**Н0: пользователи, которые установили приложение по ссылкам из yandex и google демонстрируют одинаковую конверсию в contacts_show (просмотр контактов).**\n",
    "\n",
    "**Н1: пользователи, которые установили приложение по ссылкам из yandex и google демонстрируют разную конверсию в contacts_show (просмотр контактов).**"
   ]
  },
  {
   "cell_type": "markdown",
   "id": "5e373b38",
   "metadata": {},
   "source": [
    "Для начала объединим датафреймы `data` и `sources` по колонке `user_id`"
   ]
  },
  {
   "cell_type": "code",
   "execution_count": 64,
   "id": "4538e549",
   "metadata": {},
   "outputs": [
    {
     "data": {
      "text/html": [
       "<div>\n",
       "<style scoped>\n",
       "    .dataframe tbody tr th:only-of-type {\n",
       "        vertical-align: middle;\n",
       "    }\n",
       "\n",
       "    .dataframe tbody tr th {\n",
       "        vertical-align: top;\n",
       "    }\n",
       "\n",
       "    .dataframe thead th {\n",
       "        text-align: right;\n",
       "    }\n",
       "</style>\n",
       "<table border=\"1\" class=\"dataframe\">\n",
       "  <thead>\n",
       "    <tr style=\"text-align: right;\">\n",
       "      <th></th>\n",
       "      <th>event_time</th>\n",
       "      <th>event_name</th>\n",
       "      <th>user_id</th>\n",
       "      <th>dt</th>\n",
       "      <th>weekday</th>\n",
       "      <th>first_ts</th>\n",
       "      <th>dt_ts</th>\n",
       "      <th>lifetime</th>\n",
       "      <th>duration</th>\n",
       "      <th>duration_median</th>\n",
       "      <th>segment</th>\n",
       "      <th>source</th>\n",
       "    </tr>\n",
       "  </thead>\n",
       "  <tbody>\n",
       "    <tr>\n",
       "      <th>0</th>\n",
       "      <td>2019-10-07 00:00:00.431357</td>\n",
       "      <td>advert_open</td>\n",
       "      <td>020292ab-89bc-4156-9acf-68bc2783f894</td>\n",
       "      <td>2019-10-07</td>\n",
       "      <td>понедельник</td>\n",
       "      <td>2019-10-07 00:00:00.431357</td>\n",
       "      <td>2019-10-07</td>\n",
       "      <td>0</td>\n",
       "      <td>18.7</td>\n",
       "      <td>18.7</td>\n",
       "      <td>от 14 до 44 минут</td>\n",
       "      <td>other</td>\n",
       "    </tr>\n",
       "    <tr>\n",
       "      <th>1</th>\n",
       "      <td>2019-10-07 00:00:01.236320</td>\n",
       "      <td>tips_show</td>\n",
       "      <td>020292ab-89bc-4156-9acf-68bc2783f894</td>\n",
       "      <td>2019-10-07</td>\n",
       "      <td>понедельник</td>\n",
       "      <td>2019-10-07 00:00:00.431357</td>\n",
       "      <td>2019-10-07</td>\n",
       "      <td>0</td>\n",
       "      <td>18.7</td>\n",
       "      <td>18.7</td>\n",
       "      <td>от 14 до 44 минут</td>\n",
       "      <td>other</td>\n",
       "    </tr>\n",
       "    <tr>\n",
       "      <th>2</th>\n",
       "      <td>2019-10-07 00:00:02.245341</td>\n",
       "      <td>tips_show</td>\n",
       "      <td>cf7eda61-9349-469f-ac27-e5b6f5ec475c</td>\n",
       "      <td>2019-10-07</td>\n",
       "      <td>понедельник</td>\n",
       "      <td>2019-10-07 00:00:02.245341</td>\n",
       "      <td>2019-10-07</td>\n",
       "      <td>0</td>\n",
       "      <td>41.6</td>\n",
       "      <td>29.3</td>\n",
       "      <td>от 14 до 44 минут</td>\n",
       "      <td>yandex</td>\n",
       "    </tr>\n",
       "    <tr>\n",
       "      <th>3</th>\n",
       "      <td>2019-10-07 00:00:07.039334</td>\n",
       "      <td>tips_show</td>\n",
       "      <td>020292ab-89bc-4156-9acf-68bc2783f894</td>\n",
       "      <td>2019-10-07</td>\n",
       "      <td>понедельник</td>\n",
       "      <td>2019-10-07 00:00:00.431357</td>\n",
       "      <td>2019-10-07</td>\n",
       "      <td>0</td>\n",
       "      <td>18.7</td>\n",
       "      <td>18.7</td>\n",
       "      <td>от 14 до 44 минут</td>\n",
       "      <td>other</td>\n",
       "    </tr>\n",
       "    <tr>\n",
       "      <th>4</th>\n",
       "      <td>2019-10-07 00:00:56.319813</td>\n",
       "      <td>advert_open</td>\n",
       "      <td>cf7eda61-9349-469f-ac27-e5b6f5ec475c</td>\n",
       "      <td>2019-10-07</td>\n",
       "      <td>понедельник</td>\n",
       "      <td>2019-10-07 00:00:02.245341</td>\n",
       "      <td>2019-10-07</td>\n",
       "      <td>0</td>\n",
       "      <td>41.6</td>\n",
       "      <td>29.3</td>\n",
       "      <td>от 14 до 44 минут</td>\n",
       "      <td>yandex</td>\n",
       "    </tr>\n",
       "  </tbody>\n",
       "</table>\n",
       "</div>"
      ],
      "text/plain": [
       "                  event_time   event_name  \\\n",
       "0 2019-10-07 00:00:00.431357  advert_open   \n",
       "1 2019-10-07 00:00:01.236320    tips_show   \n",
       "2 2019-10-07 00:00:02.245341    tips_show   \n",
       "3 2019-10-07 00:00:07.039334    tips_show   \n",
       "4 2019-10-07 00:00:56.319813  advert_open   \n",
       "\n",
       "                                user_id          dt      weekday  \\\n",
       "0  020292ab-89bc-4156-9acf-68bc2783f894  2019-10-07  понедельник   \n",
       "1  020292ab-89bc-4156-9acf-68bc2783f894  2019-10-07  понедельник   \n",
       "2  cf7eda61-9349-469f-ac27-e5b6f5ec475c  2019-10-07  понедельник   \n",
       "3  020292ab-89bc-4156-9acf-68bc2783f894  2019-10-07  понедельник   \n",
       "4  cf7eda61-9349-469f-ac27-e5b6f5ec475c  2019-10-07  понедельник   \n",
       "\n",
       "                    first_ts       dt_ts  lifetime  duration  duration_median  \\\n",
       "0 2019-10-07 00:00:00.431357  2019-10-07         0      18.7             18.7   \n",
       "1 2019-10-07 00:00:00.431357  2019-10-07         0      18.7             18.7   \n",
       "2 2019-10-07 00:00:02.245341  2019-10-07         0      41.6             29.3   \n",
       "3 2019-10-07 00:00:00.431357  2019-10-07         0      18.7             18.7   \n",
       "4 2019-10-07 00:00:02.245341  2019-10-07         0      41.6             29.3   \n",
       "\n",
       "             segment  source  \n",
       "0  от 14 до 44 минут   other  \n",
       "1  от 14 до 44 минут   other  \n",
       "2  от 14 до 44 минут  yandex  \n",
       "3  от 14 до 44 минут   other  \n",
       "4  от 14 до 44 минут  yandex  "
      ]
     },
     "execution_count": 64,
     "metadata": {},
     "output_type": "execute_result"
    }
   ],
   "source": [
    "data_sources = data.merge(sources, on='user_id')\n",
    "data_sources.head()"
   ]
  },
  {
   "cell_type": "markdown",
   "id": "cd11b6cc",
   "metadata": {},
   "source": [
    "Так как мы хотим детектировать предполагаемую разницу конверсий (это пропорция - отношение числа пользователей совершивших целевое действие к общему числу пользователей) между 2 группами, то мы можем использовать z-test."
   ]
  },
  {
   "cell_type": "markdown",
   "id": "62ba4d3f",
   "metadata": {},
   "source": [
    "Для начала найдём кол-во пользователей, которые совершили целевое действие contacts_show (просмотр контактов) и которые пришли из yandex или из google. А также найдём общее кол-во пришедших людей по каналам."
   ]
  },
  {
   "cell_type": "code",
   "execution_count": 65,
   "id": "ac62d45c",
   "metadata": {},
   "outputs": [],
   "source": [
    "group_yandex_count = (data_sources.\n",
    "                query('event_name == \"contacts_show\" and source == \"yandex\"').\n",
    "                agg({'user_id':'nunique'})\n",
    "               )\n",
    "\n",
    "group_yandex_nobs = (data_sources.\n",
    "                query('source == \"yandex\"').\n",
    "                agg({'user_id':'nunique'})\n",
    "               )\n",
    "\n",
    "group_google_count = (data_sources.\n",
    "                query('event_name == \"contacts_show\" and source == \"google\"').\n",
    "                agg({'user_id':'nunique'})\n",
    "               )\n",
    "\n",
    "group_google_nobs = (data_sources.\n",
    "                query('source == \"google\"').\n",
    "                agg({'user_id':'nunique'})\n",
    "               )"
   ]
  },
  {
   "cell_type": "markdown",
   "id": "7effd988",
   "metadata": {},
   "source": [
    "Теперь проведём z-тестирование и посмотрим есть ли статистическая значимость между конверсиями пользователей в целевое действие contacts_show (просмотр контактов), пришедших из разных источников"
   ]
  },
  {
   "cell_type": "code",
   "execution_count": 66,
   "id": "277ceae4",
   "metadata": {},
   "outputs": [
    {
     "name": "stdout",
     "output_type": "stream",
     "text": [
      "p-значение:  [0.79393222]\n",
      "--------------------------------------------------------------------------------\n",
      "Не получилось отвергнуть нулевую гипотезу - пользователи,    которые установили приложение по ссылкам из yandex и google    демонстрируют одинаковую конверсию в contacts_show (просмотр контактов)\n"
     ]
    }
   ],
   "source": [
    "# задаём уровень статистической значимости alpha\n",
    "\n",
    "alpha = .05\n",
    "\n",
    "# кол-во пользователей в целевое действие по источникам\n",
    "count = np.array([group_yandex_count, group_google_count])\n",
    "\n",
    "# общее кол-во пользователей по источникам\n",
    "nobs = np.array([group_yandex_nobs, group_google_nobs])\n",
    "\n",
    "stat, p_value = proportions_ztest(count, nobs)\n",
    "\n",
    "print('p-значение: ', p_value)\n",
    "print('-'*80)\n",
    "\n",
    "if p_value < alpha:\n",
    "    print('Отвергаем нулевую гипотезу - пользователи,\\\n",
    "    которые установили приложение по ссылкам из yandex и google\\\n",
    "    демонстрируют разную конверсию в contacts_show (просмотр контактов)')\n",
    "else:\n",
    "    print('Не получилось отвергнуть нулевую гипотезу - пользователи,\\\n",
    "    которые установили приложение по ссылкам из yandex и google\\\n",
    "    демонстрируют одинаковую конверсию в contacts_show (просмотр контактов)')"
   ]
  },
  {
   "cell_type": "markdown",
   "id": "31c5068f",
   "metadata": {},
   "source": [
    "### Вторая гипотеза по времени пользователей в приложении"
   ]
  },
  {
   "cell_type": "markdown",
   "id": "56b63c84",
   "metadata": {},
   "source": [
    "Сформулируем гипотезы:\n",
    "\n",
    "***Н0: пользователи, пришедшие из источников yandex и google имеют одинаковую продолжительность нахождения в приложении.***\n",
    "\n",
    "***Н1: пользователи, пришедшие из источника yandex имеют большую продолжительность нахождения в приложении, чем пользователи, пришедшие из источника google.***"
   ]
  },
  {
   "cell_type": "markdown",
   "id": "e32245e2",
   "metadata": {},
   "source": [
    "Вспомним распределение нахождения пользователей по времени в приложении и то, что данная колонка имеет \"выбросы\", поэтому для определения статистической значимости наличия различий во времени между пользователями, пришедших из разных источников, применим критерий Манна-Уитни."
   ]
  },
  {
   "cell_type": "markdown",
   "id": "d3a4e25c",
   "metadata": {},
   "source": [
    "Для начала сформируем выборки по источнику установки приложения и времени нахождения в приложение по пользователям"
   ]
  },
  {
   "cell_type": "code",
   "execution_count": 67,
   "id": "2504103f",
   "metadata": {},
   "outputs": [],
   "source": [
    "data_sources_yandex = (data_sources.query('source == \"yandex\"').\n",
    "                       groupby('user_id').agg({'duration':'first'}).\n",
    "                       reset_index().\n",
    "                       drop(columns='user_id')\n",
    "                      )\n",
    "\n",
    "data_sources_google = (data_sources.query('source == \"google\"').\n",
    "                       groupby('user_id').agg({'duration':'first'}).\n",
    "                       reset_index().\n",
    "                       drop(columns='user_id')\n",
    "                      )"
   ]
  },
  {
   "cell_type": "markdown",
   "id": "84c08c64",
   "metadata": {},
   "source": [
    "Сейчас выполним проверку статистической значимости различий критерием Манна-Уитни"
   ]
  },
  {
   "cell_type": "code",
   "execution_count": 68,
   "id": "13038fd8",
   "metadata": {},
   "outputs": [
    {
     "name": "stdout",
     "output_type": "stream",
     "text": [
      "p-value равняется = 0.8122390311608794\n",
      "Не получилось отвергнуть нулевую гипотезу - пользователи, пришедшие из    источников yandex и google имеют одинаковую продолжительность нахождения в приложении.\n"
     ]
    }
   ],
   "source": [
    "# задаём уровень статистической значимости\n",
    "alpha = .05\n",
    "\n",
    "# вычисляем p_value для правостороннего теста\n",
    "p_value = stats.mannwhitneyu(data_sources_yandex['duration'], \n",
    "                             data_sources_google['duration'], \n",
    "                             alternative='greater')[1]\n",
    "\n",
    "print('p-value равняется =', p_value)\n",
    "\n",
    "if p_value < alpha:\n",
    "    print('Отвергаем нулевую гипотезу - пользователи, пришедшие из источника\\\n",
    "    yandex имеют большую продолжительность нахождения в приложении, чем пользователи,\\\n",
    "    пришедшие из источника google.')\n",
    "    \n",
    "else:\n",
    "    print('Не получилось отвергнуть нулевую гипотезу - пользователи, пришедшие из\\\n",
    "    источников yandex и google имеют одинаковую продолжительность нахождения в приложении.')\n",
    "    \n"
   ]
  },
  {
   "cell_type": "markdown",
   "id": "4930c598",
   "metadata": {},
   "source": [
    "### Предварительный вывод по разделу"
   ]
  },
  {
   "cell_type": "markdown",
   "id": "0043a0dc",
   "metadata": {},
   "source": [
    "Были выдвенуты 2 гипотезы о возможном наличие различией между пользователями, установившими приложение из источника yandex и google. Статистические результаты следующие:\n",
    "- пользователи, которые установили приложение по ссылкам из yandex и google демонстрируют одинаковую конверсию в целевое действие contacts_show (просмотр контактов);\n",
    "- пользователи, пришедшие из источников yandex и google имеют одинаковую продолжительность нахождения в приложении."
   ]
  },
  {
   "cell_type": "markdown",
   "id": "da51f5cd",
   "metadata": {},
   "source": [
    "## Общие выводы"
   ]
  },
  {
   "cell_type": "markdown",
   "id": "deaa3417",
   "metadata": {},
   "source": [
    "**По предоставленным данным:**\n",
    "- в предоставленных данных отсутствуют пропуски, явные и неявные дубликаты;\n",
    "- всего в датафрейме представлено 4293 пользователя, 15 событий пользователей и 3 источника, с которого пользователи установливали приложение."
   ]
  },
  {
   "cell_type": "markdown",
   "id": "1b49b669",
   "metadata": {},
   "source": [
    "**По частоте совершения действий пользователями в приложении:**\n",
    "- ***tips_show — увидел рекомендованные объявления*** является самым частым действием пользователей, но стоит обратить внимание на то, что ***tips_click — кликнул по рекомендованному объявлению*** имеет гораздо меньшие значения действий, а значит стоит на это обратить внимание, так как возможно есть проблема в приложении, что многие пользователи не хотят или **не могут кликнуть на рекомендованное объявление**.\n",
    "- Действие ***photos_show — просмотрел фотографий в объявлении*** является вторым по популярности у пользователей;\n",
    "- Действие ***advert_open — открыл карточки объявления*** судя по всему является третим по популярности у пользователей;\n",
    "- Целевое действие ***contacts_show — посмотрел номер телефона*** является четвёртым по популярности у пользователей\n",
    "- наиболее активными днями недели являются понедельник и вторник, а вот суббота и пятница являются менее активными днями недели;\n",
    "- Наиболее активными днями недели являются **понедельник и вторник**, а вот **суббота и пятница** являются менее активными днями недели."
   ]
  },
  {
   "cell_type": "markdown",
   "id": "bc7573c6",
   "metadata": {},
   "source": [
    "**По источникам, с которых пользователи установили приложение:**\n",
    "- источников всего 3: yandex, other, google;\n",
    "- кол-во пользоватлей, пришедших от yandex - 1934, от other - 1230, от google - 1129."
   ]
  },
  {
   "cell_type": "markdown",
   "id": "2fdaec38",
   "metadata": {},
   "source": [
    "**По удержанию пользователей (retention rate):**\n",
    "- общее удержание со временем \"жизни\" пользователей уменьшается."
   ]
  },
  {
   "cell_type": "markdown",
   "id": "39a73eeb",
   "metadata": {},
   "source": [
    "**По времени пользователей в приложении:**\n",
    "- медианное временя нахождения пользователей в приложении составляет 44 минуты 18 секунд;\n",
    "- также в данных присутствуют пользователи, которые проводили в приложении от 176 минут 42 секунд до 1417 минут 30 секунд;\n",
    "- были выявлены пользователи с нулевой сессией. При проверке этих пользователей выяснилось, что они совершали события в приложение, а значит эта активность не могла показывать 0, скорее всего это программный сбой (также для дополнительного анализа не хватает ведения журнала логирования пользователей - будет вынесено в рекомендации)."
   ]
  },
  {
   "cell_type": "markdown",
   "id": "398b1bc7",
   "metadata": {},
   "source": [
    "**По конверсии ключевого действия - contacts_show(просмотр контактов):**\n",
    "- конверсия пользователей в целевое действие находится от **0,17 до 0,30**;\n",
    "- максимальная конверсия приходится на когорту **\"2019-10-24\"**;\n",
    "- минимальные значения конверсии в когортах **\"2019-10-15\" и \"2019-10-16\"**;\n",
    "- также в анализируемом периоде ***07.10.2019 - 03.11.2019*** стоит отметить то, что конверсия выше 0,24 фиксируется в когортах с интервалов в 8 дней (начиная с когорты **\"2019-10-09\"**), что соответствует дням недели - **среда, четверг, пятница.**"
   ]
  },
  {
   "cell_type": "markdown",
   "id": "a3366a4c",
   "metadata": {},
   "source": [
    "**По сегментации пользователей:**  \n",
    "\n",
    "В результате анализа нахождения пользователей в приложении были выделены следующие 4 сегмента (по времени нахождения в приложении):\n",
    "- пользователи, которые проводят в приложении **не более 14 минут**;\n",
    "- пользователи, которые проводят в приложении **от 14 до 44 минут**;\n",
    "- пользователи, которые проводят в приложении **от 44 до 176 минут**;\n",
    "- пользователи, которые проводят в приложении **более 176 минут**.  \n",
    "\n",
    "Это позволило выявить следующее:\n",
    "\n",
    "***Удержание пользователей(retention rate):***\n",
    "- Не смотря на то, что общее удержание пользователей уменьшается. Но в первые семь дней лучше удерживаются пользователи, которые проводят в приложении более 176 минут;\n",
    "- Хуже всех удерживаются пользователи, проводящие в приложении от 14 до 44 минут и пользователи, проводящие в приложении менее 14 минут.\n",
    "\n",
    "***Конверсия пользователей в целевое действие contacts_show (просмотр контактов):***\n",
    "- конверсия в целевое действие внутри сегментов пользователей по времени нахождения в приложении находится от **0,16 до 0,41**.\n",
    "- лучше всех конвертируются пользователи, которые находятся в приложении более 176 минут;\n",
    "- На втором месте идут пользователи, которые проводят в приложении от 44 до 176 минут;\n",
    "- Хуже всех конвертируются пользователи, проводящие в приложении не более 14 минут."
   ]
  },
  {
   "cell_type": "markdown",
   "id": "96171f59",
   "metadata": {},
   "source": [
    "**По выдвинутым гипотезам:**  \n",
    "\n",
    "Были выдвинуты 2 гипотезы о возможном наличие различией между пользователями, установившими приложение из источника yandex и google. Статистические результаты следующие:\n",
    "- пользователи, которые установили приложение по ссылкам из yandex и google демонстрируют одинаковую конверсию в целевое действие contacts_show (просмотр контактов);\n",
    "- пользователи, пришедшие из источников yandex и google имеют одинаковую продолжительность нахождения в приложении."
   ]
  },
  {
   "cell_type": "markdown",
   "id": "02e3ab0e",
   "metadata": {},
   "source": [
    "**Рекомендации**:\n",
    "- в предоставленных данных отсутствовал журнал логирования сессий, стоит начать собирать такие данные, так как они позволяют более детально проанализировать действия пользователей в приложении;\n",
    "- общее удержание пользователей со временем уменьшается, стоит работать над удержанием пользователей;\n",
    "- хуже всех конвертируются пользователи, проводящие в приложении не более 14 минут. После того как начнёт вестись журнал логирования сессий, стоит дополнительно изучить поведения данного сегмента пользователей и понять на каком шаге конверсия падает сильнее всего, чтобы работать над её улучшением в будущем."
   ]
  }
 ],
 "metadata": {
  "ExecuteTimeLog": [
   {
    "duration": 0,
    "start_time": "2024-04-10T16:40:58.985Z"
   },
   {
    "duration": 0,
    "start_time": "2024-04-10T16:40:58.986Z"
   },
   {
    "duration": 0,
    "start_time": "2024-04-10T16:40:58.987Z"
   },
   {
    "duration": 0,
    "start_time": "2024-04-10T16:40:58.988Z"
   },
   {
    "duration": 0,
    "start_time": "2024-04-10T16:40:58.989Z"
   },
   {
    "duration": 0,
    "start_time": "2024-04-10T16:40:58.990Z"
   },
   {
    "duration": 0,
    "start_time": "2024-04-10T16:40:58.991Z"
   },
   {
    "duration": 0,
    "start_time": "2024-04-10T16:40:58.992Z"
   },
   {
    "duration": 0,
    "start_time": "2024-04-10T16:40:58.993Z"
   },
   {
    "duration": 0,
    "start_time": "2024-04-10T16:40:59.055Z"
   },
   {
    "duration": 0,
    "start_time": "2024-04-10T16:40:59.057Z"
   },
   {
    "duration": 0,
    "start_time": "2024-04-10T16:40:59.058Z"
   },
   {
    "duration": 0,
    "start_time": "2024-04-10T16:40:59.059Z"
   },
   {
    "duration": 0,
    "start_time": "2024-04-10T16:40:59.061Z"
   },
   {
    "duration": 0,
    "start_time": "2024-04-10T16:40:59.062Z"
   },
   {
    "duration": 0,
    "start_time": "2024-04-10T16:40:59.063Z"
   },
   {
    "duration": 1,
    "start_time": "2024-04-10T16:40:59.064Z"
   },
   {
    "duration": 0,
    "start_time": "2024-04-10T16:40:59.066Z"
   },
   {
    "duration": 0,
    "start_time": "2024-04-10T16:40:59.068Z"
   },
   {
    "duration": 0,
    "start_time": "2024-04-10T16:40:59.069Z"
   },
   {
    "duration": 0,
    "start_time": "2024-04-10T16:40:59.070Z"
   },
   {
    "duration": 0,
    "start_time": "2024-04-10T16:40:59.071Z"
   },
   {
    "duration": 0,
    "start_time": "2024-04-10T16:40:59.072Z"
   },
   {
    "duration": 0,
    "start_time": "2024-04-10T16:40:59.073Z"
   },
   {
    "duration": 0,
    "start_time": "2024-04-10T16:40:59.075Z"
   },
   {
    "duration": 0,
    "start_time": "2024-04-10T16:40:59.076Z"
   },
   {
    "duration": 0,
    "start_time": "2024-04-10T16:40:59.077Z"
   },
   {
    "duration": 0,
    "start_time": "2024-04-10T16:40:59.078Z"
   },
   {
    "duration": 0,
    "start_time": "2024-04-10T16:40:59.079Z"
   },
   {
    "duration": 0,
    "start_time": "2024-04-10T16:40:59.080Z"
   },
   {
    "duration": 0,
    "start_time": "2024-04-10T16:40:59.081Z"
   },
   {
    "duration": 0,
    "start_time": "2024-04-10T16:40:59.082Z"
   },
   {
    "duration": 0,
    "start_time": "2024-04-10T16:40:59.083Z"
   },
   {
    "duration": 0,
    "start_time": "2024-04-10T16:40:59.084Z"
   },
   {
    "duration": 0,
    "start_time": "2024-04-10T16:40:59.085Z"
   },
   {
    "duration": 0,
    "start_time": "2024-04-10T16:40:59.086Z"
   },
   {
    "duration": 0,
    "start_time": "2024-04-10T16:40:59.088Z"
   },
   {
    "duration": 0,
    "start_time": "2024-04-10T16:40:59.089Z"
   },
   {
    "duration": 0,
    "start_time": "2024-04-10T16:40:59.090Z"
   },
   {
    "duration": 0,
    "start_time": "2024-04-10T16:40:59.090Z"
   },
   {
    "duration": 0,
    "start_time": "2024-04-10T16:40:59.156Z"
   },
   {
    "duration": 0,
    "start_time": "2024-04-10T16:40:59.157Z"
   },
   {
    "duration": 0,
    "start_time": "2024-04-10T16:40:59.158Z"
   },
   {
    "duration": 0,
    "start_time": "2024-04-10T16:40:59.159Z"
   },
   {
    "duration": 0,
    "start_time": "2024-04-10T16:40:59.160Z"
   },
   {
    "duration": 0,
    "start_time": "2024-04-10T16:40:59.161Z"
   },
   {
    "duration": 0,
    "start_time": "2024-04-10T16:40:59.162Z"
   },
   {
    "duration": 0,
    "start_time": "2024-04-10T16:40:59.163Z"
   },
   {
    "duration": 0,
    "start_time": "2024-04-10T16:40:59.164Z"
   },
   {
    "duration": 0,
    "start_time": "2024-04-10T16:40:59.165Z"
   },
   {
    "duration": 0,
    "start_time": "2024-04-10T16:40:59.166Z"
   },
   {
    "duration": 0,
    "start_time": "2024-04-10T16:40:59.167Z"
   },
   {
    "duration": 0,
    "start_time": "2024-04-10T16:40:59.168Z"
   },
   {
    "duration": 0,
    "start_time": "2024-04-10T16:40:59.169Z"
   },
   {
    "duration": 0,
    "start_time": "2024-04-10T16:40:59.171Z"
   },
   {
    "duration": 0,
    "start_time": "2024-04-10T16:40:59.172Z"
   },
   {
    "duration": 0,
    "start_time": "2024-04-10T16:40:59.173Z"
   },
   {
    "duration": 0,
    "start_time": "2024-04-10T16:40:59.174Z"
   },
   {
    "duration": 0,
    "start_time": "2024-04-10T16:40:59.175Z"
   },
   {
    "duration": 0,
    "start_time": "2024-04-10T16:40:59.176Z"
   },
   {
    "duration": 0,
    "start_time": "2024-04-10T16:40:59.177Z"
   },
   {
    "duration": 0,
    "start_time": "2024-04-10T16:40:59.178Z"
   },
   {
    "duration": 1207,
    "start_time": "2024-04-10T16:41:15.635Z"
   },
   {
    "duration": 354,
    "start_time": "2024-04-10T16:41:16.844Z"
   },
   {
    "duration": 0,
    "start_time": "2024-04-10T16:41:17.202Z"
   },
   {
    "duration": 0,
    "start_time": "2024-04-10T16:41:17.203Z"
   },
   {
    "duration": 0,
    "start_time": "2024-04-10T16:41:17.205Z"
   },
   {
    "duration": 0,
    "start_time": "2024-04-10T16:41:17.206Z"
   },
   {
    "duration": 0,
    "start_time": "2024-04-10T16:41:17.207Z"
   },
   {
    "duration": 0,
    "start_time": "2024-04-10T16:41:17.208Z"
   },
   {
    "duration": 0,
    "start_time": "2024-04-10T16:41:17.209Z"
   },
   {
    "duration": 0,
    "start_time": "2024-04-10T16:41:17.210Z"
   },
   {
    "duration": 0,
    "start_time": "2024-04-10T16:41:17.211Z"
   },
   {
    "duration": 0,
    "start_time": "2024-04-10T16:41:17.213Z"
   },
   {
    "duration": 0,
    "start_time": "2024-04-10T16:41:17.214Z"
   },
   {
    "duration": 0,
    "start_time": "2024-04-10T16:41:17.215Z"
   },
   {
    "duration": 0,
    "start_time": "2024-04-10T16:41:17.216Z"
   },
   {
    "duration": 0,
    "start_time": "2024-04-10T16:41:17.218Z"
   },
   {
    "duration": 0,
    "start_time": "2024-04-10T16:41:17.219Z"
   },
   {
    "duration": 0,
    "start_time": "2024-04-10T16:41:17.220Z"
   },
   {
    "duration": 0,
    "start_time": "2024-04-10T16:41:17.221Z"
   },
   {
    "duration": 0,
    "start_time": "2024-04-10T16:41:17.222Z"
   },
   {
    "duration": 0,
    "start_time": "2024-04-10T16:41:17.223Z"
   },
   {
    "duration": 0,
    "start_time": "2024-04-10T16:41:17.256Z"
   },
   {
    "duration": 0,
    "start_time": "2024-04-10T16:41:17.257Z"
   },
   {
    "duration": 0,
    "start_time": "2024-04-10T16:41:17.258Z"
   },
   {
    "duration": 0,
    "start_time": "2024-04-10T16:41:17.259Z"
   },
   {
    "duration": 0,
    "start_time": "2024-04-10T16:41:17.261Z"
   },
   {
    "duration": 0,
    "start_time": "2024-04-10T16:41:17.262Z"
   },
   {
    "duration": 0,
    "start_time": "2024-04-10T16:41:17.263Z"
   },
   {
    "duration": 0,
    "start_time": "2024-04-10T16:41:17.264Z"
   },
   {
    "duration": 0,
    "start_time": "2024-04-10T16:41:17.265Z"
   },
   {
    "duration": 0,
    "start_time": "2024-04-10T16:41:17.266Z"
   },
   {
    "duration": 0,
    "start_time": "2024-04-10T16:41:17.267Z"
   },
   {
    "duration": 0,
    "start_time": "2024-04-10T16:41:17.267Z"
   },
   {
    "duration": 0,
    "start_time": "2024-04-10T16:41:17.268Z"
   },
   {
    "duration": 0,
    "start_time": "2024-04-10T16:41:17.269Z"
   },
   {
    "duration": 0,
    "start_time": "2024-04-10T16:41:17.270Z"
   },
   {
    "duration": 0,
    "start_time": "2024-04-10T16:41:17.271Z"
   },
   {
    "duration": 0,
    "start_time": "2024-04-10T16:41:17.272Z"
   },
   {
    "duration": 0,
    "start_time": "2024-04-10T16:41:17.273Z"
   },
   {
    "duration": 0,
    "start_time": "2024-04-10T16:41:17.274Z"
   },
   {
    "duration": 0,
    "start_time": "2024-04-10T16:41:17.275Z"
   },
   {
    "duration": 0,
    "start_time": "2024-04-10T16:41:17.277Z"
   },
   {
    "duration": 0,
    "start_time": "2024-04-10T16:41:17.278Z"
   },
   {
    "duration": 0,
    "start_time": "2024-04-10T16:41:17.279Z"
   },
   {
    "duration": 0,
    "start_time": "2024-04-10T16:41:17.280Z"
   },
   {
    "duration": 0,
    "start_time": "2024-04-10T16:41:17.281Z"
   },
   {
    "duration": 0,
    "start_time": "2024-04-10T16:41:17.282Z"
   },
   {
    "duration": 0,
    "start_time": "2024-04-10T16:41:17.284Z"
   },
   {
    "duration": 0,
    "start_time": "2024-04-10T16:41:17.285Z"
   },
   {
    "duration": 1,
    "start_time": "2024-04-10T16:41:17.286Z"
   },
   {
    "duration": 0,
    "start_time": "2024-04-10T16:41:17.288Z"
   },
   {
    "duration": 0,
    "start_time": "2024-04-10T16:41:17.290Z"
   },
   {
    "duration": 0,
    "start_time": "2024-04-10T16:41:17.291Z"
   },
   {
    "duration": 0,
    "start_time": "2024-04-10T16:41:17.292Z"
   },
   {
    "duration": 0,
    "start_time": "2024-04-10T16:41:17.294Z"
   },
   {
    "duration": 0,
    "start_time": "2024-04-10T16:41:17.356Z"
   },
   {
    "duration": 0,
    "start_time": "2024-04-10T16:41:17.357Z"
   },
   {
    "duration": 0,
    "start_time": "2024-04-10T16:41:17.358Z"
   },
   {
    "duration": 0,
    "start_time": "2024-04-10T16:41:17.359Z"
   },
   {
    "duration": 0,
    "start_time": "2024-04-10T16:41:17.360Z"
   },
   {
    "duration": 0,
    "start_time": "2024-04-10T16:41:17.361Z"
   },
   {
    "duration": 0,
    "start_time": "2024-04-10T16:41:17.362Z"
   },
   {
    "duration": 230,
    "start_time": "2024-04-10T16:41:59.082Z"
   },
   {
    "duration": 301,
    "start_time": "2024-04-10T16:42:29.925Z"
   },
   {
    "duration": 11,
    "start_time": "2024-04-10T16:42:31.807Z"
   },
   {
    "duration": 20,
    "start_time": "2024-04-10T16:42:33.370Z"
   },
   {
    "duration": 7,
    "start_time": "2024-04-10T16:42:35.386Z"
   },
   {
    "duration": 12,
    "start_time": "2024-04-10T16:42:37.358Z"
   },
   {
    "duration": 1123,
    "start_time": "2024-04-10T16:42:49.990Z"
   },
   {
    "duration": 74,
    "start_time": "2024-04-10T16:42:51.115Z"
   },
   {
    "duration": 0,
    "start_time": "2024-04-10T16:42:51.192Z"
   },
   {
    "duration": 0,
    "start_time": "2024-04-10T16:42:51.193Z"
   },
   {
    "duration": 0,
    "start_time": "2024-04-10T16:42:51.195Z"
   },
   {
    "duration": 0,
    "start_time": "2024-04-10T16:42:51.196Z"
   },
   {
    "duration": 0,
    "start_time": "2024-04-10T16:42:51.197Z"
   },
   {
    "duration": 0,
    "start_time": "2024-04-10T16:42:51.198Z"
   },
   {
    "duration": 0,
    "start_time": "2024-04-10T16:42:51.200Z"
   },
   {
    "duration": 0,
    "start_time": "2024-04-10T16:42:51.201Z"
   },
   {
    "duration": 0,
    "start_time": "2024-04-10T16:42:51.202Z"
   },
   {
    "duration": 0,
    "start_time": "2024-04-10T16:42:51.203Z"
   },
   {
    "duration": 0,
    "start_time": "2024-04-10T16:42:51.204Z"
   },
   {
    "duration": 0,
    "start_time": "2024-04-10T16:42:51.205Z"
   },
   {
    "duration": 0,
    "start_time": "2024-04-10T16:42:51.206Z"
   },
   {
    "duration": 0,
    "start_time": "2024-04-10T16:42:51.207Z"
   },
   {
    "duration": 0,
    "start_time": "2024-04-10T16:42:51.208Z"
   },
   {
    "duration": 0,
    "start_time": "2024-04-10T16:42:51.209Z"
   },
   {
    "duration": 0,
    "start_time": "2024-04-10T16:42:51.210Z"
   },
   {
    "duration": 0,
    "start_time": "2024-04-10T16:42:51.211Z"
   },
   {
    "duration": 0,
    "start_time": "2024-04-10T16:42:51.212Z"
   },
   {
    "duration": 0,
    "start_time": "2024-04-10T16:42:51.214Z"
   },
   {
    "duration": 0,
    "start_time": "2024-04-10T16:42:51.215Z"
   },
   {
    "duration": 0,
    "start_time": "2024-04-10T16:42:51.216Z"
   },
   {
    "duration": 0,
    "start_time": "2024-04-10T16:42:51.218Z"
   },
   {
    "duration": 0,
    "start_time": "2024-04-10T16:42:51.219Z"
   },
   {
    "duration": 0,
    "start_time": "2024-04-10T16:42:51.219Z"
   },
   {
    "duration": 0,
    "start_time": "2024-04-10T16:42:51.220Z"
   },
   {
    "duration": 0,
    "start_time": "2024-04-10T16:42:51.221Z"
   },
   {
    "duration": 0,
    "start_time": "2024-04-10T16:42:51.222Z"
   },
   {
    "duration": 0,
    "start_time": "2024-04-10T16:42:51.223Z"
   },
   {
    "duration": 0,
    "start_time": "2024-04-10T16:42:51.224Z"
   },
   {
    "duration": 0,
    "start_time": "2024-04-10T16:42:51.225Z"
   },
   {
    "duration": 0,
    "start_time": "2024-04-10T16:42:51.226Z"
   },
   {
    "duration": 0,
    "start_time": "2024-04-10T16:42:51.227Z"
   },
   {
    "duration": 0,
    "start_time": "2024-04-10T16:42:51.228Z"
   },
   {
    "duration": 0,
    "start_time": "2024-04-10T16:42:51.229Z"
   },
   {
    "duration": 0,
    "start_time": "2024-04-10T16:42:51.258Z"
   },
   {
    "duration": 0,
    "start_time": "2024-04-10T16:42:51.259Z"
   },
   {
    "duration": 0,
    "start_time": "2024-04-10T16:42:51.261Z"
   },
   {
    "duration": 0,
    "start_time": "2024-04-10T16:42:51.267Z"
   },
   {
    "duration": 0,
    "start_time": "2024-04-10T16:42:51.269Z"
   },
   {
    "duration": 0,
    "start_time": "2024-04-10T16:42:51.270Z"
   },
   {
    "duration": 0,
    "start_time": "2024-04-10T16:42:51.272Z"
   },
   {
    "duration": 0,
    "start_time": "2024-04-10T16:42:51.276Z"
   },
   {
    "duration": 0,
    "start_time": "2024-04-10T16:42:51.278Z"
   },
   {
    "duration": 0,
    "start_time": "2024-04-10T16:42:51.279Z"
   },
   {
    "duration": 0,
    "start_time": "2024-04-10T16:42:51.281Z"
   },
   {
    "duration": 0,
    "start_time": "2024-04-10T16:42:51.282Z"
   },
   {
    "duration": 0,
    "start_time": "2024-04-10T16:42:51.283Z"
   },
   {
    "duration": 0,
    "start_time": "2024-04-10T16:42:51.284Z"
   },
   {
    "duration": 0,
    "start_time": "2024-04-10T16:42:51.286Z"
   },
   {
    "duration": 0,
    "start_time": "2024-04-10T16:42:51.287Z"
   },
   {
    "duration": 0,
    "start_time": "2024-04-10T16:42:51.288Z"
   },
   {
    "duration": 0,
    "start_time": "2024-04-10T16:42:51.289Z"
   },
   {
    "duration": 0,
    "start_time": "2024-04-10T16:42:51.290Z"
   },
   {
    "duration": 0,
    "start_time": "2024-04-10T16:42:51.291Z"
   },
   {
    "duration": 0,
    "start_time": "2024-04-10T16:42:51.292Z"
   },
   {
    "duration": 0,
    "start_time": "2024-04-10T16:42:51.293Z"
   },
   {
    "duration": 0,
    "start_time": "2024-04-10T16:42:51.294Z"
   },
   {
    "duration": 0,
    "start_time": "2024-04-10T16:42:51.295Z"
   },
   {
    "duration": 0,
    "start_time": "2024-04-10T16:42:51.296Z"
   },
   {
    "duration": 1223,
    "start_time": "2024-04-10T16:43:06.120Z"
   },
   {
    "duration": 340,
    "start_time": "2024-04-10T16:43:07.346Z"
   },
   {
    "duration": 12,
    "start_time": "2024-04-10T16:43:07.688Z"
   },
   {
    "duration": 25,
    "start_time": "2024-04-10T16:43:07.702Z"
   },
   {
    "duration": 7,
    "start_time": "2024-04-10T16:43:07.729Z"
   },
   {
    "duration": 24,
    "start_time": "2024-04-10T16:43:07.737Z"
   },
   {
    "duration": 6,
    "start_time": "2024-04-10T16:43:07.763Z"
   },
   {
    "duration": 8,
    "start_time": "2024-04-10T16:43:07.771Z"
   },
   {
    "duration": 16,
    "start_time": "2024-04-10T16:43:07.781Z"
   },
   {
    "duration": 6,
    "start_time": "2024-04-10T16:43:07.800Z"
   },
   {
    "duration": 59,
    "start_time": "2024-04-10T16:43:07.808Z"
   },
   {
    "duration": 30,
    "start_time": "2024-04-10T16:43:07.869Z"
   },
   {
    "duration": 6,
    "start_time": "2024-04-10T16:43:07.900Z"
   },
   {
    "duration": 7,
    "start_time": "2024-04-10T16:43:07.908Z"
   },
   {
    "duration": 42,
    "start_time": "2024-04-10T16:43:07.916Z"
   },
   {
    "duration": 5,
    "start_time": "2024-04-10T16:43:07.960Z"
   },
   {
    "duration": 11,
    "start_time": "2024-04-10T16:43:07.967Z"
   },
   {
    "duration": 16,
    "start_time": "2024-04-10T16:43:07.980Z"
   },
   {
    "duration": 13,
    "start_time": "2024-04-10T16:43:07.997Z"
   },
   {
    "duration": 44,
    "start_time": "2024-04-10T16:43:08.012Z"
   },
   {
    "duration": 14,
    "start_time": "2024-04-10T16:43:08.058Z"
   },
   {
    "duration": 5,
    "start_time": "2024-04-10T16:43:08.074Z"
   },
   {
    "duration": 10,
    "start_time": "2024-04-10T16:43:08.080Z"
   },
   {
    "duration": 45,
    "start_time": "2024-04-10T16:43:08.092Z"
   },
   {
    "duration": 61,
    "start_time": "2024-04-10T16:43:08.139Z"
   },
   {
    "duration": 3,
    "start_time": "2024-04-10T16:43:08.202Z"
   },
   {
    "duration": 607,
    "start_time": "2024-04-10T16:43:08.206Z"
   },
   {
    "duration": 232,
    "start_time": "2024-04-10T16:43:08.817Z"
   },
   {
    "duration": 0,
    "start_time": "2024-04-10T16:43:09.050Z"
   },
   {
    "duration": 0,
    "start_time": "2024-04-10T16:43:09.051Z"
   },
   {
    "duration": 0,
    "start_time": "2024-04-10T16:43:09.055Z"
   },
   {
    "duration": 0,
    "start_time": "2024-04-10T16:43:09.056Z"
   },
   {
    "duration": 0,
    "start_time": "2024-04-10T16:43:09.058Z"
   },
   {
    "duration": 0,
    "start_time": "2024-04-10T16:43:09.059Z"
   },
   {
    "duration": 0,
    "start_time": "2024-04-10T16:43:09.059Z"
   },
   {
    "duration": 0,
    "start_time": "2024-04-10T16:43:09.060Z"
   },
   {
    "duration": 0,
    "start_time": "2024-04-10T16:43:09.061Z"
   },
   {
    "duration": 0,
    "start_time": "2024-04-10T16:43:09.062Z"
   },
   {
    "duration": 0,
    "start_time": "2024-04-10T16:43:09.063Z"
   },
   {
    "duration": 0,
    "start_time": "2024-04-10T16:43:09.064Z"
   },
   {
    "duration": 0,
    "start_time": "2024-04-10T16:43:09.065Z"
   },
   {
    "duration": 0,
    "start_time": "2024-04-10T16:43:09.066Z"
   },
   {
    "duration": 0,
    "start_time": "2024-04-10T16:43:09.067Z"
   },
   {
    "duration": 0,
    "start_time": "2024-04-10T16:43:09.068Z"
   },
   {
    "duration": 0,
    "start_time": "2024-04-10T16:43:09.069Z"
   },
   {
    "duration": 0,
    "start_time": "2024-04-10T16:43:09.070Z"
   },
   {
    "duration": 0,
    "start_time": "2024-04-10T16:43:09.071Z"
   },
   {
    "duration": 0,
    "start_time": "2024-04-10T16:43:09.072Z"
   },
   {
    "duration": 0,
    "start_time": "2024-04-10T16:43:09.072Z"
   },
   {
    "duration": 0,
    "start_time": "2024-04-10T16:43:09.073Z"
   },
   {
    "duration": 1,
    "start_time": "2024-04-10T16:43:09.074Z"
   },
   {
    "duration": 0,
    "start_time": "2024-04-10T16:43:09.075Z"
   },
   {
    "duration": 0,
    "start_time": "2024-04-10T16:43:09.076Z"
   },
   {
    "duration": 0,
    "start_time": "2024-04-10T16:43:09.077Z"
   },
   {
    "duration": 0,
    "start_time": "2024-04-10T16:43:09.078Z"
   },
   {
    "duration": 0,
    "start_time": "2024-04-10T16:43:09.079Z"
   },
   {
    "duration": 0,
    "start_time": "2024-04-10T16:43:09.081Z"
   },
   {
    "duration": 0,
    "start_time": "2024-04-10T16:43:09.082Z"
   },
   {
    "duration": 0,
    "start_time": "2024-04-10T16:43:09.083Z"
   },
   {
    "duration": 0,
    "start_time": "2024-04-10T16:43:09.084Z"
   },
   {
    "duration": 0,
    "start_time": "2024-04-10T16:43:09.085Z"
   },
   {
    "duration": 0,
    "start_time": "2024-04-10T16:43:09.086Z"
   },
   {
    "duration": 1243,
    "start_time": "2024-04-11T09:40:46.605Z"
   },
   {
    "duration": 388,
    "start_time": "2024-04-11T09:40:47.850Z"
   },
   {
    "duration": 10,
    "start_time": "2024-04-11T09:40:48.239Z"
   },
   {
    "duration": 15,
    "start_time": "2024-04-11T09:40:48.251Z"
   },
   {
    "duration": 6,
    "start_time": "2024-04-11T09:40:48.267Z"
   },
   {
    "duration": 9,
    "start_time": "2024-04-11T09:40:48.274Z"
   },
   {
    "duration": 8,
    "start_time": "2024-04-11T09:40:48.285Z"
   },
   {
    "duration": 9,
    "start_time": "2024-04-11T09:40:48.294Z"
   },
   {
    "duration": 20,
    "start_time": "2024-04-11T09:40:48.304Z"
   },
   {
    "duration": 9,
    "start_time": "2024-04-11T09:40:48.326Z"
   },
   {
    "duration": 28,
    "start_time": "2024-04-11T09:40:48.337Z"
   },
   {
    "duration": 34,
    "start_time": "2024-04-11T09:40:48.366Z"
   },
   {
    "duration": 5,
    "start_time": "2024-04-11T09:40:48.401Z"
   },
   {
    "duration": 5,
    "start_time": "2024-04-11T09:40:48.407Z"
   },
   {
    "duration": 20,
    "start_time": "2024-04-11T09:40:48.413Z"
   },
   {
    "duration": 24,
    "start_time": "2024-04-11T09:40:48.435Z"
   },
   {
    "duration": 16,
    "start_time": "2024-04-11T09:40:48.460Z"
   },
   {
    "duration": 25,
    "start_time": "2024-04-11T09:40:48.477Z"
   },
   {
    "duration": 11,
    "start_time": "2024-04-11T09:40:48.504Z"
   },
   {
    "duration": 14,
    "start_time": "2024-04-11T09:40:48.517Z"
   },
   {
    "duration": 11,
    "start_time": "2024-04-11T09:40:48.532Z"
   },
   {
    "duration": 4,
    "start_time": "2024-04-11T09:40:48.544Z"
   },
   {
    "duration": 8,
    "start_time": "2024-04-11T09:40:48.550Z"
   },
   {
    "duration": 48,
    "start_time": "2024-04-11T09:40:48.559Z"
   },
   {
    "duration": 42,
    "start_time": "2024-04-11T09:40:48.609Z"
   },
   {
    "duration": 2,
    "start_time": "2024-04-11T09:40:48.652Z"
   },
   {
    "duration": 538,
    "start_time": "2024-04-11T09:40:48.656Z"
   },
   {
    "duration": 211,
    "start_time": "2024-04-11T09:40:49.197Z"
   },
   {
    "duration": 0,
    "start_time": "2024-04-11T09:40:49.409Z"
   },
   {
    "duration": 0,
    "start_time": "2024-04-11T09:40:49.410Z"
   },
   {
    "duration": 0,
    "start_time": "2024-04-11T09:40:49.411Z"
   },
   {
    "duration": 0,
    "start_time": "2024-04-11T09:40:49.412Z"
   },
   {
    "duration": 0,
    "start_time": "2024-04-11T09:40:49.412Z"
   },
   {
    "duration": 0,
    "start_time": "2024-04-11T09:40:49.413Z"
   },
   {
    "duration": 0,
    "start_time": "2024-04-11T09:40:49.414Z"
   },
   {
    "duration": 0,
    "start_time": "2024-04-11T09:40:49.415Z"
   },
   {
    "duration": 0,
    "start_time": "2024-04-11T09:40:49.416Z"
   },
   {
    "duration": 0,
    "start_time": "2024-04-11T09:40:49.417Z"
   },
   {
    "duration": 0,
    "start_time": "2024-04-11T09:40:49.417Z"
   },
   {
    "duration": 0,
    "start_time": "2024-04-11T09:40:49.418Z"
   },
   {
    "duration": 0,
    "start_time": "2024-04-11T09:40:49.419Z"
   },
   {
    "duration": 0,
    "start_time": "2024-04-11T09:40:49.421Z"
   },
   {
    "duration": 0,
    "start_time": "2024-04-11T09:40:49.421Z"
   },
   {
    "duration": 0,
    "start_time": "2024-04-11T09:40:49.422Z"
   },
   {
    "duration": 0,
    "start_time": "2024-04-11T09:40:49.423Z"
   },
   {
    "duration": 0,
    "start_time": "2024-04-11T09:40:49.424Z"
   },
   {
    "duration": 0,
    "start_time": "2024-04-11T09:40:49.424Z"
   },
   {
    "duration": 0,
    "start_time": "2024-04-11T09:40:49.425Z"
   },
   {
    "duration": 0,
    "start_time": "2024-04-11T09:40:49.426Z"
   },
   {
    "duration": 0,
    "start_time": "2024-04-11T09:40:49.427Z"
   },
   {
    "duration": 0,
    "start_time": "2024-04-11T09:40:49.428Z"
   },
   {
    "duration": 0,
    "start_time": "2024-04-11T09:40:49.429Z"
   },
   {
    "duration": 0,
    "start_time": "2024-04-11T09:40:49.429Z"
   },
   {
    "duration": 0,
    "start_time": "2024-04-11T09:40:49.430Z"
   },
   {
    "duration": 0,
    "start_time": "2024-04-11T09:40:49.431Z"
   },
   {
    "duration": 0,
    "start_time": "2024-04-11T09:40:49.432Z"
   },
   {
    "duration": 0,
    "start_time": "2024-04-11T09:40:49.432Z"
   },
   {
    "duration": 0,
    "start_time": "2024-04-11T09:40:49.433Z"
   },
   {
    "duration": 0,
    "start_time": "2024-04-11T09:40:49.434Z"
   },
   {
    "duration": 0,
    "start_time": "2024-04-11T09:40:49.435Z"
   },
   {
    "duration": 0,
    "start_time": "2024-04-11T09:40:49.436Z"
   },
   {
    "duration": 0,
    "start_time": "2024-04-11T09:40:49.485Z"
   },
   {
    "duration": 2146,
    "start_time": "2024-04-11T09:52:09.081Z"
   },
   {
    "duration": 1257,
    "start_time": "2024-04-11T09:53:10.533Z"
   },
   {
    "duration": 2106,
    "start_time": "2024-04-11T09:53:25.644Z"
   },
   {
    "duration": 2109,
    "start_time": "2024-04-11T09:59:55.967Z"
   },
   {
    "duration": 2138,
    "start_time": "2024-04-11T10:00:29.725Z"
   },
   {
    "duration": 9003,
    "start_time": "2024-04-11T12:37:00.380Z"
   },
   {
    "duration": 1173,
    "start_time": "2024-04-11T12:37:09.385Z"
   },
   {
    "duration": 2419,
    "start_time": "2024-04-11T12:37:10.560Z"
   },
   {
    "duration": 2362,
    "start_time": "2024-04-11T12:37:12.981Z"
   },
   {
    "duration": 2371,
    "start_time": "2024-04-11T12:37:15.346Z"
   },
   {
    "duration": 2349,
    "start_time": "2024-04-11T12:37:17.719Z"
   },
   {
    "duration": 414,
    "start_time": "2024-04-11T12:37:20.071Z"
   },
   {
    "duration": 14,
    "start_time": "2024-04-11T12:37:20.487Z"
   },
   {
    "duration": 26,
    "start_time": "2024-04-11T12:37:20.502Z"
   },
   {
    "duration": 24,
    "start_time": "2024-04-11T12:37:20.529Z"
   },
   {
    "duration": 20,
    "start_time": "2024-04-11T12:37:20.554Z"
   },
   {
    "duration": 30,
    "start_time": "2024-04-11T12:37:20.575Z"
   },
   {
    "duration": 20,
    "start_time": "2024-04-11T12:37:20.607Z"
   },
   {
    "duration": 46,
    "start_time": "2024-04-11T12:37:20.630Z"
   },
   {
    "duration": 42,
    "start_time": "2024-04-11T12:37:20.677Z"
   },
   {
    "duration": 53,
    "start_time": "2024-04-11T12:37:20.720Z"
   },
   {
    "duration": 26,
    "start_time": "2024-04-11T12:37:20.774Z"
   },
   {
    "duration": 19,
    "start_time": "2024-04-11T12:37:20.801Z"
   },
   {
    "duration": 35,
    "start_time": "2024-04-11T12:37:20.821Z"
   },
   {
    "duration": 51,
    "start_time": "2024-04-11T12:37:20.857Z"
   },
   {
    "duration": 44,
    "start_time": "2024-04-11T12:37:20.909Z"
   },
   {
    "duration": 49,
    "start_time": "2024-04-11T12:37:20.954Z"
   },
   {
    "duration": 31,
    "start_time": "2024-04-11T12:37:21.004Z"
   },
   {
    "duration": 38,
    "start_time": "2024-04-11T12:37:21.036Z"
   },
   {
    "duration": 33,
    "start_time": "2024-04-11T12:37:21.076Z"
   },
   {
    "duration": 17,
    "start_time": "2024-04-11T12:37:21.110Z"
   },
   {
    "duration": 4,
    "start_time": "2024-04-11T12:37:21.128Z"
   },
   {
    "duration": 16,
    "start_time": "2024-04-11T12:37:21.134Z"
   },
   {
    "duration": 46,
    "start_time": "2024-04-11T12:37:21.152Z"
   },
   {
    "duration": 90,
    "start_time": "2024-04-11T12:37:21.199Z"
   },
   {
    "duration": 2,
    "start_time": "2024-04-11T12:37:21.291Z"
   },
   {
    "duration": 514,
    "start_time": "2024-04-11T12:37:21.295Z"
   },
   {
    "duration": 273,
    "start_time": "2024-04-11T12:37:21.811Z"
   },
   {
    "duration": 67,
    "start_time": "2024-04-11T12:37:22.086Z"
   },
   {
    "duration": 74,
    "start_time": "2024-04-11T12:37:22.154Z"
   },
   {
    "duration": 25,
    "start_time": "2024-04-11T12:37:22.229Z"
   },
   {
    "duration": 31,
    "start_time": "2024-04-11T12:37:22.255Z"
   },
   {
    "duration": 84,
    "start_time": "2024-04-11T12:37:22.287Z"
   },
   {
    "duration": 18,
    "start_time": "2024-04-11T12:37:22.373Z"
   },
   {
    "duration": 45,
    "start_time": "2024-04-11T12:37:22.392Z"
   },
   {
    "duration": 85,
    "start_time": "2024-04-11T12:37:22.441Z"
   },
   {
    "duration": 574,
    "start_time": "2024-04-11T12:37:22.527Z"
   },
   {
    "duration": 3,
    "start_time": "2024-04-11T12:37:23.103Z"
   },
   {
    "duration": 105,
    "start_time": "2024-04-11T12:37:23.108Z"
   },
   {
    "duration": 274,
    "start_time": "2024-04-11T12:37:23.214Z"
   },
   {
    "duration": 209,
    "start_time": "2024-04-11T12:37:23.489Z"
   },
   {
    "duration": 8,
    "start_time": "2024-04-11T12:37:23.699Z"
   },
   {
    "duration": 35,
    "start_time": "2024-04-11T12:37:23.708Z"
   },
   {
    "duration": 74,
    "start_time": "2024-04-11T12:37:23.744Z"
   },
   {
    "duration": 21,
    "start_time": "2024-04-11T12:37:23.820Z"
   },
   {
    "duration": 43,
    "start_time": "2024-04-11T12:37:23.842Z"
   },
   {
    "duration": 39,
    "start_time": "2024-04-11T12:37:23.886Z"
   },
   {
    "duration": 585,
    "start_time": "2024-04-11T12:37:23.926Z"
   },
   {
    "duration": 8,
    "start_time": "2024-04-11T12:37:24.512Z"
   },
   {
    "duration": 5,
    "start_time": "2024-04-11T12:37:24.521Z"
   },
   {
    "duration": 57,
    "start_time": "2024-04-11T12:37:24.527Z"
   },
   {
    "duration": 5,
    "start_time": "2024-04-11T12:37:24.585Z"
   },
   {
    "duration": 158,
    "start_time": "2024-04-11T12:37:24.592Z"
   },
   {
    "duration": 461,
    "start_time": "2024-04-11T12:37:24.752Z"
   },
   {
    "duration": 6,
    "start_time": "2024-04-11T12:37:25.214Z"
   },
   {
    "duration": 200,
    "start_time": "2024-04-11T12:37:25.222Z"
   },
   {
    "duration": 367,
    "start_time": "2024-04-11T12:37:25.423Z"
   },
   {
    "duration": 28,
    "start_time": "2024-04-11T12:37:25.792Z"
   },
   {
    "duration": 44,
    "start_time": "2024-04-11T12:37:25.822Z"
   },
   {
    "duration": 19,
    "start_time": "2024-04-11T12:37:25.868Z"
   },
   {
    "duration": 53,
    "start_time": "2024-04-11T12:37:25.889Z"
   },
   {
    "duration": 8,
    "start_time": "2024-04-11T12:37:25.944Z"
   },
   {
    "duration": 43029,
    "start_time": "2024-04-11T12:44:45.010Z"
   },
   {
    "duration": 1331,
    "start_time": "2024-04-11T12:45:28.040Z"
   },
   {
    "duration": 2447,
    "start_time": "2024-04-11T12:45:29.372Z"
   },
   {
    "duration": 2460,
    "start_time": "2024-04-11T12:45:31.821Z"
   },
   {
    "duration": 2420,
    "start_time": "2024-04-11T12:45:34.283Z"
   },
   {
    "duration": 2447,
    "start_time": "2024-04-11T12:45:36.705Z"
   },
   {
    "duration": 392,
    "start_time": "2024-04-11T12:45:39.154Z"
   },
   {
    "duration": 13,
    "start_time": "2024-04-11T12:45:39.547Z"
   },
   {
    "duration": 16,
    "start_time": "2024-04-11T12:45:39.561Z"
   },
   {
    "duration": 7,
    "start_time": "2024-04-11T12:45:39.580Z"
   },
   {
    "duration": 8,
    "start_time": "2024-04-11T12:45:39.588Z"
   },
   {
    "duration": 13,
    "start_time": "2024-04-11T12:45:39.598Z"
   },
   {
    "duration": 9,
    "start_time": "2024-04-11T12:45:39.612Z"
   },
   {
    "duration": 19,
    "start_time": "2024-04-11T12:45:39.623Z"
   },
   {
    "duration": 6,
    "start_time": "2024-04-11T12:45:39.643Z"
   },
   {
    "duration": 40,
    "start_time": "2024-04-11T12:45:39.650Z"
   },
   {
    "duration": 20,
    "start_time": "2024-04-11T12:45:39.691Z"
   },
   {
    "duration": 4,
    "start_time": "2024-04-11T12:45:39.712Z"
   },
   {
    "duration": 12,
    "start_time": "2024-04-11T12:45:39.717Z"
   },
   {
    "duration": 25,
    "start_time": "2024-04-11T12:45:39.730Z"
   },
   {
    "duration": 8,
    "start_time": "2024-04-11T12:45:39.756Z"
   },
   {
    "duration": 18,
    "start_time": "2024-04-11T12:45:39.765Z"
   },
   {
    "duration": 13,
    "start_time": "2024-04-11T12:45:39.784Z"
   },
   {
    "duration": 10,
    "start_time": "2024-04-11T12:45:39.799Z"
   },
   {
    "duration": 10,
    "start_time": "2024-04-11T12:45:39.810Z"
   },
   {
    "duration": 7,
    "start_time": "2024-04-11T12:45:39.821Z"
   },
   {
    "duration": 5,
    "start_time": "2024-04-11T12:45:39.830Z"
   },
   {
    "duration": 3,
    "start_time": "2024-04-11T12:45:39.839Z"
   },
   {
    "duration": 44,
    "start_time": "2024-04-11T12:45:39.843Z"
   },
   {
    "duration": 32,
    "start_time": "2024-04-11T12:45:39.888Z"
   },
   {
    "duration": 2,
    "start_time": "2024-04-11T12:45:39.922Z"
   },
   {
    "duration": 559,
    "start_time": "2024-04-11T12:45:39.926Z"
   },
   {
    "duration": 217,
    "start_time": "2024-04-11T12:45:40.487Z"
   },
   {
    "duration": 55,
    "start_time": "2024-04-11T12:45:40.705Z"
   },
   {
    "duration": 74,
    "start_time": "2024-04-11T12:45:40.761Z"
   },
   {
    "duration": 20,
    "start_time": "2024-04-11T12:45:40.836Z"
   },
   {
    "duration": 27,
    "start_time": "2024-04-11T12:45:40.857Z"
   },
   {
    "duration": 69,
    "start_time": "2024-04-11T12:45:40.886Z"
   },
   {
    "duration": 28,
    "start_time": "2024-04-11T12:45:40.957Z"
   },
   {
    "duration": 42,
    "start_time": "2024-04-11T12:45:40.987Z"
   },
   {
    "duration": 27,
    "start_time": "2024-04-11T12:45:41.030Z"
   },
   {
    "duration": 559,
    "start_time": "2024-04-11T12:45:41.058Z"
   },
   {
    "duration": 3,
    "start_time": "2024-04-11T12:45:41.619Z"
   },
   {
    "duration": 147,
    "start_time": "2024-04-11T12:45:41.623Z"
   },
   {
    "duration": 248,
    "start_time": "2024-04-11T12:45:41.771Z"
   },
   {
    "duration": 267,
    "start_time": "2024-04-11T12:45:42.021Z"
   },
   {
    "duration": 9,
    "start_time": "2024-04-11T12:45:42.290Z"
   },
   {
    "duration": 9,
    "start_time": "2024-04-11T12:45:42.300Z"
   },
   {
    "duration": 49,
    "start_time": "2024-04-11T12:45:42.310Z"
   },
   {
    "duration": 37,
    "start_time": "2024-04-11T12:45:42.360Z"
   },
   {
    "duration": 34,
    "start_time": "2024-04-11T12:45:42.398Z"
   },
   {
    "duration": 24,
    "start_time": "2024-04-11T12:45:42.434Z"
   },
   {
    "duration": 559,
    "start_time": "2024-04-11T12:45:42.460Z"
   },
   {
    "duration": 10,
    "start_time": "2024-04-11T12:45:43.020Z"
   },
   {
    "duration": 4,
    "start_time": "2024-04-11T12:45:43.031Z"
   },
   {
    "duration": 49,
    "start_time": "2024-04-11T12:45:43.036Z"
   },
   {
    "duration": 4,
    "start_time": "2024-04-11T12:45:43.087Z"
   },
   {
    "duration": 116,
    "start_time": "2024-04-11T12:45:43.092Z"
   },
   {
    "duration": 393,
    "start_time": "2024-04-11T12:45:43.209Z"
   },
   {
    "duration": 6,
    "start_time": "2024-04-11T12:45:43.604Z"
   },
   {
    "duration": 178,
    "start_time": "2024-04-11T12:45:43.611Z"
   },
   {
    "duration": 390,
    "start_time": "2024-04-11T12:45:43.790Z"
   },
   {
    "duration": 31,
    "start_time": "2024-04-11T12:45:44.181Z"
   },
   {
    "duration": 37,
    "start_time": "2024-04-11T12:45:44.214Z"
   },
   {
    "duration": 5,
    "start_time": "2024-04-11T12:45:44.253Z"
   },
   {
    "duration": 45,
    "start_time": "2024-04-11T12:45:44.259Z"
   },
   {
    "duration": 8,
    "start_time": "2024-04-11T12:45:44.306Z"
   },
   {
    "duration": 14653,
    "start_time": "2024-04-11T12:52:33.252Z"
   },
   {
    "duration": 13482,
    "start_time": "2024-04-11T12:53:47.506Z"
   },
   {
    "duration": 14759,
    "start_time": "2024-04-11T12:55:58.496Z"
   },
   {
    "duration": 1758,
    "start_time": "2024-04-11T12:56:13.257Z"
   },
   {
    "duration": 13559,
    "start_time": "2024-04-11T12:56:15.016Z"
   },
   {
    "duration": 373,
    "start_time": "2024-04-11T12:56:28.577Z"
   },
   {
    "duration": 11,
    "start_time": "2024-04-11T12:56:28.952Z"
   },
   {
    "duration": 14,
    "start_time": "2024-04-11T12:56:28.964Z"
   },
   {
    "duration": 9,
    "start_time": "2024-04-11T12:56:28.979Z"
   },
   {
    "duration": 8,
    "start_time": "2024-04-11T12:56:28.989Z"
   },
   {
    "duration": 5,
    "start_time": "2024-04-11T12:56:28.998Z"
   },
   {
    "duration": 3,
    "start_time": "2024-04-11T12:56:29.005Z"
   },
   {
    "duration": 10,
    "start_time": "2024-04-11T12:56:29.009Z"
   },
   {
    "duration": 3,
    "start_time": "2024-04-11T12:56:29.020Z"
   },
   {
    "duration": 34,
    "start_time": "2024-04-11T12:56:29.024Z"
   },
   {
    "duration": 30,
    "start_time": "2024-04-11T12:56:29.059Z"
   },
   {
    "duration": 4,
    "start_time": "2024-04-11T12:56:29.090Z"
   },
   {
    "duration": 8,
    "start_time": "2024-04-11T12:56:29.095Z"
   },
   {
    "duration": 23,
    "start_time": "2024-04-11T12:56:29.104Z"
   },
   {
    "duration": 9,
    "start_time": "2024-04-11T12:56:29.128Z"
   },
   {
    "duration": 11,
    "start_time": "2024-04-11T12:56:29.138Z"
   },
   {
    "duration": 10,
    "start_time": "2024-04-11T12:56:29.150Z"
   },
   {
    "duration": 23,
    "start_time": "2024-04-11T12:56:29.162Z"
   },
   {
    "duration": 16,
    "start_time": "2024-04-11T12:56:29.186Z"
   },
   {
    "duration": 19,
    "start_time": "2024-04-11T12:56:29.203Z"
   },
   {
    "duration": 21,
    "start_time": "2024-04-11T12:56:29.224Z"
   },
   {
    "duration": 17,
    "start_time": "2024-04-11T12:56:29.246Z"
   },
   {
    "duration": 51,
    "start_time": "2024-04-11T12:56:29.264Z"
   },
   {
    "duration": 50,
    "start_time": "2024-04-11T12:56:29.316Z"
   },
   {
    "duration": 3,
    "start_time": "2024-04-11T12:56:29.369Z"
   },
   {
    "duration": 508,
    "start_time": "2024-04-11T12:56:29.373Z"
   },
   {
    "duration": 214,
    "start_time": "2024-04-11T12:56:29.883Z"
   },
   {
    "duration": 49,
    "start_time": "2024-04-11T12:56:30.098Z"
   },
   {
    "duration": 77,
    "start_time": "2024-04-11T12:56:30.149Z"
   },
   {
    "duration": 20,
    "start_time": "2024-04-11T12:56:30.228Z"
   },
   {
    "duration": 109,
    "start_time": "2024-04-11T12:56:30.249Z"
   },
   {
    "duration": 115,
    "start_time": "2024-04-11T12:56:30.360Z"
   },
   {
    "duration": 18,
    "start_time": "2024-04-11T12:56:30.476Z"
   },
   {
    "duration": 326,
    "start_time": "2024-04-11T12:56:30.495Z"
   },
   {
    "duration": 67,
    "start_time": "2024-04-11T12:56:30.823Z"
   },
   {
    "duration": 497,
    "start_time": "2024-04-11T12:56:30.892Z"
   },
   {
    "duration": 4,
    "start_time": "2024-04-11T12:56:31.391Z"
   },
   {
    "duration": 141,
    "start_time": "2024-04-11T12:56:31.396Z"
   },
   {
    "duration": 253,
    "start_time": "2024-04-11T12:56:31.539Z"
   },
   {
    "duration": 204,
    "start_time": "2024-04-11T12:56:31.793Z"
   },
   {
    "duration": 9,
    "start_time": "2024-04-11T12:56:31.999Z"
   },
   {
    "duration": 7,
    "start_time": "2024-04-11T12:56:32.009Z"
   },
   {
    "duration": 76,
    "start_time": "2024-04-11T12:56:32.018Z"
   },
   {
    "duration": 33,
    "start_time": "2024-04-11T12:56:32.095Z"
   },
   {
    "duration": 47,
    "start_time": "2024-04-11T12:56:32.129Z"
   },
   {
    "duration": 35,
    "start_time": "2024-04-11T12:56:32.177Z"
   },
   {
    "duration": 480,
    "start_time": "2024-04-11T12:56:32.213Z"
   },
   {
    "duration": 8,
    "start_time": "2024-04-11T12:56:32.694Z"
   },
   {
    "duration": 30,
    "start_time": "2024-04-11T12:56:32.703Z"
   },
   {
    "duration": 69,
    "start_time": "2024-04-11T12:56:32.734Z"
   },
   {
    "duration": 40,
    "start_time": "2024-04-11T12:56:32.805Z"
   },
   {
    "duration": 146,
    "start_time": "2024-04-11T12:56:32.846Z"
   },
   {
    "duration": 381,
    "start_time": "2024-04-11T12:56:32.993Z"
   },
   {
    "duration": 9,
    "start_time": "2024-04-11T12:56:33.375Z"
   },
   {
    "duration": 128,
    "start_time": "2024-04-11T12:56:33.385Z"
   },
   {
    "duration": 350,
    "start_time": "2024-04-11T12:56:33.514Z"
   },
   {
    "duration": 30,
    "start_time": "2024-04-11T12:56:33.866Z"
   },
   {
    "duration": 34,
    "start_time": "2024-04-11T12:56:33.897Z"
   },
   {
    "duration": 5,
    "start_time": "2024-04-11T12:56:33.932Z"
   },
   {
    "duration": 27,
    "start_time": "2024-04-11T12:56:33.938Z"
   },
   {
    "duration": 20,
    "start_time": "2024-04-11T12:56:33.966Z"
   },
   {
    "duration": 43,
    "start_time": "2024-04-11T13:06:42.722Z"
   },
   {
    "duration": 5,
    "start_time": "2024-04-11T13:06:46.498Z"
   },
   {
    "duration": 53969,
    "start_time": "2024-04-11T13:06:51.154Z"
   },
   {
    "duration": 1634,
    "start_time": "2024-04-11T13:07:45.125Z"
   },
   {
    "duration": 14017,
    "start_time": "2024-04-11T13:07:46.762Z"
   },
   {
    "duration": 366,
    "start_time": "2024-04-11T13:08:00.782Z"
   },
   {
    "duration": 13,
    "start_time": "2024-04-11T13:08:01.150Z"
   },
   {
    "duration": 43,
    "start_time": "2024-04-11T13:08:01.164Z"
   },
   {
    "duration": 18,
    "start_time": "2024-04-11T13:08:01.209Z"
   },
   {
    "duration": 50,
    "start_time": "2024-04-11T13:08:01.229Z"
   },
   {
    "duration": 63,
    "start_time": "2024-04-11T13:08:01.281Z"
   },
   {
    "duration": 84,
    "start_time": "2024-04-11T13:08:01.346Z"
   },
   {
    "duration": 64,
    "start_time": "2024-04-11T13:08:01.432Z"
   },
   {
    "duration": 76,
    "start_time": "2024-04-11T13:08:01.497Z"
   },
   {
    "duration": 98,
    "start_time": "2024-04-11T13:08:01.575Z"
   },
   {
    "duration": 56,
    "start_time": "2024-04-11T13:08:01.674Z"
   },
   {
    "duration": 14,
    "start_time": "2024-04-11T13:08:01.732Z"
   },
   {
    "duration": 45,
    "start_time": "2024-04-11T13:08:01.748Z"
   },
   {
    "duration": 51,
    "start_time": "2024-04-11T13:08:01.795Z"
   },
   {
    "duration": 38,
    "start_time": "2024-04-11T13:08:01.848Z"
   },
   {
    "duration": 64,
    "start_time": "2024-04-11T13:08:01.888Z"
   },
   {
    "duration": 45,
    "start_time": "2024-04-11T13:08:01.953Z"
   },
   {
    "duration": 21,
    "start_time": "2024-04-11T13:08:01.999Z"
   },
   {
    "duration": 21,
    "start_time": "2024-04-11T13:08:02.023Z"
   },
   {
    "duration": 79,
    "start_time": "2024-04-11T13:08:02.046Z"
   },
   {
    "duration": 51,
    "start_time": "2024-04-11T13:08:02.126Z"
   },
   {
    "duration": 70,
    "start_time": "2024-04-11T13:08:02.179Z"
   },
   {
    "duration": 53,
    "start_time": "2024-04-11T13:08:02.251Z"
   },
   {
    "duration": 50,
    "start_time": "2024-04-11T13:08:02.306Z"
   },
   {
    "duration": 22,
    "start_time": "2024-04-11T13:08:02.360Z"
   },
   {
    "duration": 628,
    "start_time": "2024-04-11T13:08:02.384Z"
   },
   {
    "duration": 243,
    "start_time": "2024-04-11T13:08:03.014Z"
   },
   {
    "duration": 112,
    "start_time": "2024-04-11T13:08:03.259Z"
   },
   {
    "duration": 78,
    "start_time": "2024-04-11T13:08:03.373Z"
   },
   {
    "duration": 23,
    "start_time": "2024-04-11T13:08:03.453Z"
   },
   {
    "duration": 23,
    "start_time": "2024-04-11T13:08:03.477Z"
   },
   {
    "duration": 105,
    "start_time": "2024-04-11T13:08:03.502Z"
   },
   {
    "duration": 22,
    "start_time": "2024-04-11T13:08:03.621Z"
   },
   {
    "duration": 81,
    "start_time": "2024-04-11T13:08:03.645Z"
   },
   {
    "duration": 55,
    "start_time": "2024-04-11T13:08:03.728Z"
   },
   {
    "duration": 607,
    "start_time": "2024-04-11T13:08:03.785Z"
   },
   {
    "duration": 3,
    "start_time": "2024-04-11T13:08:04.394Z"
   },
   {
    "duration": 176,
    "start_time": "2024-04-11T13:08:04.399Z"
   },
   {
    "duration": 270,
    "start_time": "2024-04-11T13:08:04.577Z"
   },
   {
    "duration": 293,
    "start_time": "2024-04-11T13:08:04.848Z"
   },
   {
    "duration": 515,
    "start_time": "2024-04-11T13:08:05.143Z"
   },
   {
    "duration": 32,
    "start_time": "2024-04-11T13:08:05.660Z"
   },
   {
    "duration": 27,
    "start_time": "2024-04-11T13:08:05.694Z"
   },
   {
    "duration": 70,
    "start_time": "2024-04-11T13:08:05.723Z"
   },
   {
    "duration": 30,
    "start_time": "2024-04-11T13:08:05.794Z"
   },
   {
    "duration": 26,
    "start_time": "2024-04-11T13:08:05.826Z"
   },
   {
    "duration": 28,
    "start_time": "2024-04-11T13:08:05.854Z"
   },
   {
    "duration": 600,
    "start_time": "2024-04-11T13:08:05.884Z"
   },
   {
    "duration": 10,
    "start_time": "2024-04-11T13:08:06.485Z"
   },
   {
    "duration": 34,
    "start_time": "2024-04-11T13:08:06.496Z"
   },
   {
    "duration": 60,
    "start_time": "2024-04-11T13:08:06.531Z"
   },
   {
    "duration": 5,
    "start_time": "2024-04-11T13:08:06.593Z"
   },
   {
    "duration": 146,
    "start_time": "2024-04-11T13:08:06.599Z"
   },
   {
    "duration": 431,
    "start_time": "2024-04-11T13:08:06.747Z"
   },
   {
    "duration": 8,
    "start_time": "2024-04-11T13:08:07.180Z"
   },
   {
    "duration": 167,
    "start_time": "2024-04-11T13:08:07.189Z"
   },
   {
    "duration": 412,
    "start_time": "2024-04-11T13:08:07.357Z"
   },
   {
    "duration": 38,
    "start_time": "2024-04-11T13:08:07.771Z"
   },
   {
    "duration": 44,
    "start_time": "2024-04-11T13:08:07.811Z"
   },
   {
    "duration": 5,
    "start_time": "2024-04-11T13:08:07.857Z"
   },
   {
    "duration": 45,
    "start_time": "2024-04-11T13:08:07.864Z"
   },
   {
    "duration": 25,
    "start_time": "2024-04-11T13:08:07.915Z"
   },
   {
    "duration": 19,
    "start_time": "2024-04-11T13:10:58.876Z"
   },
   {
    "duration": 5,
    "start_time": "2024-04-11T13:11:48.154Z"
   },
   {
    "duration": 4,
    "start_time": "2024-04-11T13:11:51.218Z"
   },
   {
    "duration": 17,
    "start_time": "2024-04-11T13:13:13.557Z"
   },
   {
    "duration": 8,
    "start_time": "2024-04-11T13:15:28.835Z"
   },
   {
    "duration": 50418,
    "start_time": "2024-04-12T08:16:16.839Z"
   },
   {
    "duration": 1601,
    "start_time": "2024-04-12T08:17:07.259Z"
   },
   {
    "duration": 13655,
    "start_time": "2024-04-12T08:17:08.861Z"
   },
   {
    "duration": 337,
    "start_time": "2024-04-12T08:17:22.518Z"
   },
   {
    "duration": 19,
    "start_time": "2024-04-12T08:17:22.857Z"
   },
   {
    "duration": 32,
    "start_time": "2024-04-12T08:17:22.878Z"
   },
   {
    "duration": 19,
    "start_time": "2024-04-12T08:17:22.911Z"
   },
   {
    "duration": 28,
    "start_time": "2024-04-12T08:17:22.932Z"
   },
   {
    "duration": 22,
    "start_time": "2024-04-12T08:17:22.962Z"
   },
   {
    "duration": 34,
    "start_time": "2024-04-12T08:17:22.987Z"
   },
   {
    "duration": 46,
    "start_time": "2024-04-12T08:17:23.023Z"
   },
   {
    "duration": 43,
    "start_time": "2024-04-12T08:17:23.071Z"
   },
   {
    "duration": 62,
    "start_time": "2024-04-12T08:17:23.116Z"
   },
   {
    "duration": 49,
    "start_time": "2024-04-12T08:17:23.180Z"
   },
   {
    "duration": 7,
    "start_time": "2024-04-12T08:17:23.231Z"
   },
   {
    "duration": 11,
    "start_time": "2024-04-12T08:17:23.240Z"
   },
   {
    "duration": 52,
    "start_time": "2024-04-12T08:17:23.252Z"
   },
   {
    "duration": 35,
    "start_time": "2024-04-12T08:17:23.306Z"
   },
   {
    "duration": 26,
    "start_time": "2024-04-12T08:17:23.342Z"
   },
   {
    "duration": 24,
    "start_time": "2024-04-12T08:17:23.369Z"
   },
   {
    "duration": 17,
    "start_time": "2024-04-12T08:17:23.394Z"
   },
   {
    "duration": 43,
    "start_time": "2024-04-12T08:17:23.413Z"
   },
   {
    "duration": 54,
    "start_time": "2024-04-12T08:17:23.458Z"
   },
   {
    "duration": 19,
    "start_time": "2024-04-12T08:17:23.513Z"
   },
   {
    "duration": 23,
    "start_time": "2024-04-12T08:17:23.533Z"
   },
   {
    "duration": 49,
    "start_time": "2024-04-12T08:17:23.557Z"
   },
   {
    "duration": 60,
    "start_time": "2024-04-12T08:17:23.608Z"
   },
   {
    "duration": 2,
    "start_time": "2024-04-12T08:17:23.672Z"
   },
   {
    "duration": 603,
    "start_time": "2024-04-12T08:17:23.676Z"
   },
   {
    "duration": 6,
    "start_time": "2024-04-12T08:17:24.280Z"
   },
   {
    "duration": 46,
    "start_time": "2024-04-12T08:17:24.288Z"
   },
   {
    "duration": 62,
    "start_time": "2024-04-12T08:17:24.336Z"
   },
   {
    "duration": 29,
    "start_time": "2024-04-12T08:17:24.401Z"
   },
   {
    "duration": 325,
    "start_time": "2024-04-12T08:17:24.432Z"
   },
   {
    "duration": 256,
    "start_time": "2024-04-12T08:17:24.758Z"
   },
   {
    "duration": 75,
    "start_time": "2024-04-12T08:17:25.016Z"
   },
   {
    "duration": 69,
    "start_time": "2024-04-12T08:17:25.093Z"
   },
   {
    "duration": 23,
    "start_time": "2024-04-12T08:17:25.163Z"
   },
   {
    "duration": 83,
    "start_time": "2024-04-12T08:17:25.187Z"
   },
   {
    "duration": 104,
    "start_time": "2024-04-12T08:17:25.271Z"
   },
   {
    "duration": 23,
    "start_time": "2024-04-12T08:17:25.377Z"
   },
   {
    "duration": 60,
    "start_time": "2024-04-12T08:17:25.409Z"
   },
   {
    "duration": 56,
    "start_time": "2024-04-12T08:17:25.470Z"
   },
   {
    "duration": 752,
    "start_time": "2024-04-12T08:17:25.527Z"
   },
   {
    "duration": 4,
    "start_time": "2024-04-12T08:17:26.280Z"
   },
   {
    "duration": 128,
    "start_time": "2024-04-12T08:17:26.285Z"
   },
   {
    "duration": 317,
    "start_time": "2024-04-12T08:17:26.415Z"
   },
   {
    "duration": 275,
    "start_time": "2024-04-12T08:17:26.734Z"
   },
   {
    "duration": 11,
    "start_time": "2024-04-12T08:17:27.011Z"
   },
   {
    "duration": 34,
    "start_time": "2024-04-12T08:17:27.023Z"
   },
   {
    "duration": 41,
    "start_time": "2024-04-12T08:17:27.059Z"
   },
   {
    "duration": 62,
    "start_time": "2024-04-12T08:17:27.102Z"
   },
   {
    "duration": 59,
    "start_time": "2024-04-12T08:17:27.165Z"
   },
   {
    "duration": 61,
    "start_time": "2024-04-12T08:17:27.226Z"
   },
   {
    "duration": 48,
    "start_time": "2024-04-12T08:17:27.289Z"
   },
   {
    "duration": 540,
    "start_time": "2024-04-12T08:17:27.338Z"
   },
   {
    "duration": 11,
    "start_time": "2024-04-12T08:17:27.879Z"
   },
   {
    "duration": 25,
    "start_time": "2024-04-12T08:17:27.891Z"
   },
   {
    "duration": 79,
    "start_time": "2024-04-12T08:17:27.917Z"
   },
   {
    "duration": 45,
    "start_time": "2024-04-12T08:17:27.997Z"
   },
   {
    "duration": 17,
    "start_time": "2024-04-12T08:17:28.043Z"
   },
   {
    "duration": 11,
    "start_time": "2024-04-12T08:17:28.062Z"
   },
   {
    "duration": 169,
    "start_time": "2024-04-12T08:17:28.074Z"
   },
   {
    "duration": 435,
    "start_time": "2024-04-12T08:17:28.245Z"
   },
   {
    "duration": 7,
    "start_time": "2024-04-12T08:17:28.682Z"
   },
   {
    "duration": 245,
    "start_time": "2024-04-12T08:17:28.690Z"
   },
   {
    "duration": 405,
    "start_time": "2024-04-12T08:17:28.936Z"
   },
   {
    "duration": 41,
    "start_time": "2024-04-12T08:17:29.343Z"
   },
   {
    "duration": 60,
    "start_time": "2024-04-12T08:17:29.386Z"
   },
   {
    "duration": 46,
    "start_time": "2024-04-12T08:17:29.447Z"
   },
   {
    "duration": 87,
    "start_time": "2024-04-12T08:17:29.495Z"
   },
   {
    "duration": 12,
    "start_time": "2024-04-12T08:17:29.583Z"
   },
   {
    "duration": 61604,
    "start_time": "2024-04-14T13:24:51.183Z"
   },
   {
    "duration": 1589,
    "start_time": "2024-04-14T13:25:52.789Z"
   },
   {
    "duration": 15761,
    "start_time": "2024-04-14T13:25:54.379Z"
   },
   {
    "duration": 330,
    "start_time": "2024-04-14T13:26:10.143Z"
   },
   {
    "duration": 25,
    "start_time": "2024-04-14T13:26:10.477Z"
   },
   {
    "duration": 21,
    "start_time": "2024-04-14T13:26:10.507Z"
   },
   {
    "duration": 9,
    "start_time": "2024-04-14T13:26:10.530Z"
   },
   {
    "duration": 9,
    "start_time": "2024-04-14T13:26:10.541Z"
   },
   {
    "duration": 6,
    "start_time": "2024-04-14T13:26:10.551Z"
   },
   {
    "duration": 6,
    "start_time": "2024-04-14T13:26:10.560Z"
   },
   {
    "duration": 19,
    "start_time": "2024-04-14T13:26:10.595Z"
   },
   {
    "duration": 6,
    "start_time": "2024-04-14T13:26:10.616Z"
   },
   {
    "duration": 34,
    "start_time": "2024-04-14T13:26:10.624Z"
   },
   {
    "duration": 54,
    "start_time": "2024-04-14T13:26:10.660Z"
   },
   {
    "duration": 6,
    "start_time": "2024-04-14T13:26:10.715Z"
   },
   {
    "duration": 9,
    "start_time": "2024-04-14T13:26:10.722Z"
   },
   {
    "duration": 30,
    "start_time": "2024-04-14T13:26:10.733Z"
   },
   {
    "duration": 40,
    "start_time": "2024-04-14T13:26:10.764Z"
   },
   {
    "duration": 7,
    "start_time": "2024-04-14T13:26:10.806Z"
   },
   {
    "duration": 14,
    "start_time": "2024-04-14T13:26:10.815Z"
   },
   {
    "duration": 8,
    "start_time": "2024-04-14T13:26:10.832Z"
   },
   {
    "duration": 11,
    "start_time": "2024-04-14T13:26:10.842Z"
   },
   {
    "duration": 8,
    "start_time": "2024-04-14T13:26:10.855Z"
   },
   {
    "duration": 9,
    "start_time": "2024-04-14T13:26:10.894Z"
   },
   {
    "duration": 5,
    "start_time": "2024-04-14T13:26:10.909Z"
   },
   {
    "duration": 28,
    "start_time": "2024-04-14T13:26:10.915Z"
   },
   {
    "duration": 53,
    "start_time": "2024-04-14T13:26:10.945Z"
   },
   {
    "duration": 3,
    "start_time": "2024-04-14T13:26:11.004Z"
   },
   {
    "duration": 644,
    "start_time": "2024-04-14T13:26:11.008Z"
   },
   {
    "duration": 6,
    "start_time": "2024-04-14T13:26:11.653Z"
   },
   {
    "duration": 3,
    "start_time": "2024-04-14T13:26:11.661Z"
   },
   {
    "duration": 44,
    "start_time": "2024-04-14T13:26:11.666Z"
   },
   {
    "duration": 21,
    "start_time": "2024-04-14T13:26:11.711Z"
   },
   {
    "duration": 397,
    "start_time": "2024-04-14T13:26:11.733Z"
   },
   {
    "duration": 295,
    "start_time": "2024-04-14T13:26:12.132Z"
   },
   {
    "duration": 99,
    "start_time": "2024-04-14T13:26:12.428Z"
   },
   {
    "duration": 81,
    "start_time": "2024-04-14T13:26:12.529Z"
   },
   {
    "duration": 25,
    "start_time": "2024-04-14T13:26:12.612Z"
   },
   {
    "duration": 15,
    "start_time": "2024-04-14T13:26:12.639Z"
   },
   {
    "duration": 107,
    "start_time": "2024-04-14T13:26:12.655Z"
   },
   {
    "duration": 45,
    "start_time": "2024-04-14T13:26:12.764Z"
   },
   {
    "duration": 54,
    "start_time": "2024-04-14T13:26:12.812Z"
   },
   {
    "duration": 52,
    "start_time": "2024-04-14T13:26:12.867Z"
   },
   {
    "duration": 627,
    "start_time": "2024-04-14T13:26:12.920Z"
   },
   {
    "duration": 4,
    "start_time": "2024-04-14T13:26:13.548Z"
   },
   {
    "duration": 685,
    "start_time": "2024-04-14T13:26:13.554Z"
   },
   {
    "duration": 289,
    "start_time": "2024-04-14T13:26:14.241Z"
   },
   {
    "duration": 273,
    "start_time": "2024-04-14T13:26:14.532Z"
   },
   {
    "duration": 11,
    "start_time": "2024-04-14T13:26:14.808Z"
   },
   {
    "duration": 10,
    "start_time": "2024-04-14T13:26:14.820Z"
   },
   {
    "duration": 16,
    "start_time": "2024-04-14T13:26:14.831Z"
   },
   {
    "duration": 72,
    "start_time": "2024-04-14T13:26:14.849Z"
   },
   {
    "duration": 25,
    "start_time": "2024-04-14T13:26:14.923Z"
   },
   {
    "duration": 24,
    "start_time": "2024-04-14T13:26:14.949Z"
   },
   {
    "duration": 46,
    "start_time": "2024-04-14T13:26:14.975Z"
   },
   {
    "duration": 649,
    "start_time": "2024-04-14T13:26:15.023Z"
   },
   {
    "duration": 37,
    "start_time": "2024-04-14T13:26:15.674Z"
   },
   {
    "duration": 49,
    "start_time": "2024-04-14T13:26:15.713Z"
   },
   {
    "duration": 517,
    "start_time": "2024-04-14T13:26:15.764Z"
   },
   {
    "duration": 22,
    "start_time": "2024-04-14T13:26:16.283Z"
   },
   {
    "duration": 18,
    "start_time": "2024-04-14T13:26:16.307Z"
   },
   {
    "duration": 84,
    "start_time": "2024-04-14T13:26:16.327Z"
   },
   {
    "duration": 49,
    "start_time": "2024-04-14T13:26:16.413Z"
   },
   {
    "duration": 43,
    "start_time": "2024-04-14T13:26:16.463Z"
   },
   {
    "duration": 6,
    "start_time": "2024-04-14T13:26:16.509Z"
   },
   {
    "duration": 189,
    "start_time": "2024-04-14T13:26:16.516Z"
   },
   {
    "duration": 505,
    "start_time": "2024-04-14T13:26:16.707Z"
   },
   {
    "duration": 34,
    "start_time": "2024-04-14T13:26:17.213Z"
   },
   {
    "duration": 16,
    "start_time": "2024-04-14T13:26:17.249Z"
   },
   {
    "duration": 352,
    "start_time": "2024-04-14T13:26:17.267Z"
   },
   {
    "duration": 51,
    "start_time": "2024-04-14T13:26:17.620Z"
   },
   {
    "duration": 75,
    "start_time": "2024-04-14T13:26:17.672Z"
   },
   {
    "duration": 8,
    "start_time": "2024-04-14T13:26:17.749Z"
   },
   {
    "duration": 86,
    "start_time": "2024-04-14T13:26:17.759Z"
   },
   {
    "duration": 16,
    "start_time": "2024-04-14T13:26:17.847Z"
   }
  ],
  "kernelspec": {
   "display_name": "Python 3 (ipykernel)",
   "language": "python",
   "name": "python3"
  },
  "language_info": {
   "codemirror_mode": {
    "name": "ipython",
    "version": 3
   },
   "file_extension": ".py",
   "mimetype": "text/x-python",
   "name": "python",
   "nbconvert_exporter": "python",
   "pygments_lexer": "ipython3",
   "version": "3.11.4"
  },
  "toc": {
   "base_numbering": 1,
   "nav_menu": {},
   "number_sections": true,
   "sideBar": true,
   "skip_h1_title": true,
   "title_cell": "Содержание",
   "title_sidebar": "Содержание",
   "toc_cell": true,
   "toc_position": {
    "height": "calc(100% - 180px)",
    "left": "10px",
    "top": "150px",
    "width": "188px"
   },
   "toc_section_display": true,
   "toc_window_display": true
  }
 },
 "nbformat": 4,
 "nbformat_minor": 5
}
