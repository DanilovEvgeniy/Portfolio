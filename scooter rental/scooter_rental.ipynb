{
 "cells": [
  {
   "cell_type": "markdown",
   "id": "6922868c",
   "metadata": {
    "toc": true
   },
   "source": [
    "<h1>Содержание<span class=\"tocSkip\"></span></h1>\n",
    "<div class=\"toc\"><ul class=\"toc-item\"><li><span><a href=\"#Описание-проекта\" data-toc-modified-id=\"Описание-проекта-1\"><span class=\"toc-item-num\">1&nbsp;&nbsp;</span>Описание проекта</a></span><ul class=\"toc-item\"><li><span><a href=\"#Загрузка-данных-и-знакомство\" data-toc-modified-id=\"Загрузка-данных-и-знакомство-1.1\"><span class=\"toc-item-num\">1.1&nbsp;&nbsp;</span>Загрузка данных и знакомство</a></span><ul class=\"toc-item\"><li><span><a href=\"#Промежуточный-вывод-по-загрузке-данных\" data-toc-modified-id=\"Промежуточный-вывод-по-загрузке-данных-1.1.1\"><span class=\"toc-item-num\">1.1.1&nbsp;&nbsp;</span>Промежуточный вывод по загрузке данных</a></span></li></ul></li><li><span><a href=\"#Предобработка-данных\" data-toc-modified-id=\"Предобработка-данных-1.2\"><span class=\"toc-item-num\">1.2&nbsp;&nbsp;</span>Предобработка данных</a></span><ul class=\"toc-item\"><li><span><a href=\"#Проверка-дубликатов-в-датафреймах\" data-toc-modified-id=\"Проверка-дубликатов-в-датафреймах-1.2.1\"><span class=\"toc-item-num\">1.2.1&nbsp;&nbsp;</span>Проверка дубликатов в датафреймах</a></span></li><li><span><a href=\"#Изменение-типов-данных\" data-toc-modified-id=\"Изменение-типов-данных-1.2.2\"><span class=\"toc-item-num\">1.2.2&nbsp;&nbsp;</span>Изменение типов данных</a></span></li><li><span><a href=\"#Промежуточный-вывод-по-предобработке-данных\" data-toc-modified-id=\"Промежуточный-вывод-по-предобработке-данных-1.2.3\"><span class=\"toc-item-num\">1.2.3&nbsp;&nbsp;</span>Промежуточный вывод по предобработке данных</a></span></li></ul></li><li><span><a href=\"#Исследовательский-анализ-данных\" data-toc-modified-id=\"Исследовательский-анализ-данных-1.3\"><span class=\"toc-item-num\">1.3&nbsp;&nbsp;</span>Исследовательский анализ данных</a></span><ul class=\"toc-item\"><li><span><a href=\"#Частота-встречаемости-городов\" data-toc-modified-id=\"Частота-встречаемости-городов-1.3.1\"><span class=\"toc-item-num\">1.3.1&nbsp;&nbsp;</span>Частота встречаемости городов</a></span></li><li><span><a href=\"#Соотношение-пользователей-с-подпиской-и-без-подписки\" data-toc-modified-id=\"Соотношение-пользователей-с-подпиской-и-без-подписки-1.3.2\"><span class=\"toc-item-num\">1.3.2&nbsp;&nbsp;</span>Соотношение пользователей с подпиской и без подписки</a></span></li><li><span><a href=\"#Возраст-пользователей\" data-toc-modified-id=\"Возраст-пользователей-1.3.3\"><span class=\"toc-item-num\">1.3.3&nbsp;&nbsp;</span>Возраст пользователей</a></span></li><li><span><a href=\"#Расстояние,-которое-пользователь-преодолел-за-одну-поездку-(в-метрах)\" data-toc-modified-id=\"Расстояние,-которое-пользователь-преодолел-за-одну-поездку-(в-метрах)-1.3.4\"><span class=\"toc-item-num\">1.3.4&nbsp;&nbsp;</span>Расстояние, которое пользователь преодолел за одну поездку (в метрах)</a></span></li><li><span><a href=\"#Продолжительность-поездок-(в-минутах)\" data-toc-modified-id=\"Продолжительность-поездок-(в-минутах)-1.3.5\"><span class=\"toc-item-num\">1.3.5&nbsp;&nbsp;</span>Продолжительность поездок (в минутах)</a></span></li><li><span><a href=\"#Промежуточный-вывод-по-исследовательскому-анализу-данных\" data-toc-modified-id=\"Промежуточный-вывод-по-исследовательскому-анализу-данных-1.3.6\"><span class=\"toc-item-num\">1.3.6&nbsp;&nbsp;</span>Промежуточный вывод по исследовательскому анализу данных</a></span></li></ul></li><li><span><a href=\"#Объединение-данных\" data-toc-modified-id=\"Объединение-данных-1.4\"><span class=\"toc-item-num\">1.4&nbsp;&nbsp;</span>Объединение данных</a></span><ul class=\"toc-item\"><li><span><a href=\"#Объединение-данных-о-пользователях,-поездках-и-подписках-в-один-датафрейм.\" data-toc-modified-id=\"Объединение-данных-о-пользователях,-поездках-и-подписках-в-один-датафрейм.-1.4.1\"><span class=\"toc-item-num\">1.4.1&nbsp;&nbsp;</span>Объединение данных о пользователях, поездках и подписках в один датафрейм.</a></span></li><li><span><a href=\"#Создание-ещё-двух-датафреймов-с-данными-о-пользователях-с-подпиской-и-без-подписки.\" data-toc-modified-id=\"Создание-ещё-двух-датафреймов-с-данными-о-пользователях-с-подпиской-и-без-подписки.-1.4.2\"><span class=\"toc-item-num\">1.4.2&nbsp;&nbsp;</span>Создание ещё двух датафреймов с данными о пользователях с подпиской и без подписки.</a></span></li><li><span><a href=\"#Визуализация-информации-о-расстоянии-и-времени-поездок-для-пользователей-обеих-категорий\" data-toc-modified-id=\"Визуализация-информации-о-расстоянии-и-времени-поездок-для-пользователей-обеих-категорий-1.4.3\"><span class=\"toc-item-num\">1.4.3&nbsp;&nbsp;</span>Визуализация информации о расстоянии и времени поездок для пользователей обеих категорий</a></span></li><li><span><a href=\"#Промежуточный-вывод\" data-toc-modified-id=\"Промежуточный-вывод-1.4.4\"><span class=\"toc-item-num\">1.4.4&nbsp;&nbsp;</span>Промежуточный вывод</a></span></li></ul></li><li><span><a href=\"#Подсчёт-выручки\" data-toc-modified-id=\"Подсчёт-выручки-1.5\"><span class=\"toc-item-num\">1.5&nbsp;&nbsp;</span>Подсчёт выручки</a></span><ul class=\"toc-item\"><li><span><a href=\"#Поиск-суммарного-расстояния,-количества-поездок-и-суммарного-времени-для-каждого-пользователя\" data-toc-modified-id=\"Поиск-суммарного-расстояния,-количества-поездок-и-суммарного-времени-для-каждого-пользователя-1.5.1\"><span class=\"toc-item-num\">1.5.1&nbsp;&nbsp;</span>Поиск суммарного расстояния, количества поездок и суммарного времени для каждого пользователя</a></span></li><li><span><a href=\"#Подсчет-месячной-выручки-для-каждого-пользователя\" data-toc-modified-id=\"Подсчет-месячной-выручки-для-каждого-пользователя-1.5.2\"><span class=\"toc-item-num\">1.5.2&nbsp;&nbsp;</span>Подсчет месячной выручки для каждого пользователя</a></span></li></ul></li><li><span><a href=\"#Проверка-гипотез\" data-toc-modified-id=\"Проверка-гипотез-1.6\"><span class=\"toc-item-num\">1.6&nbsp;&nbsp;</span>Проверка гипотез</a></span><ul class=\"toc-item\"><li><span><a href=\"#Проверка-гипотезы-по-времени-поездки\" data-toc-modified-id=\"Проверка-гипотезы-по-времени-поездки-1.6.1\"><span class=\"toc-item-num\">1.6.1&nbsp;&nbsp;</span>Проверка гипотезы по времени поездки</a></span></li><li><span><a href=\"#Проверка-гипотезы-одной-поездки-в-3130-метров\" data-toc-modified-id=\"Проверка-гипотезы-одной-поездки-в-3130-метров-1.6.2\"><span class=\"toc-item-num\">1.6.2&nbsp;&nbsp;</span>Проверка гипотезы одной поездки в 3130 метров</a></span></li><li><span><a href=\"#Проверка-гипотезы-помесячной-выручки-среди-пользователей-с-подпиской-и-без\" data-toc-modified-id=\"Проверка-гипотезы-помесячной-выручки-среди-пользователей-с-подпиской-и-без-1.6.3\"><span class=\"toc-item-num\">1.6.3&nbsp;&nbsp;</span>Проверка гипотезы помесячной выручки среди пользователей с подпиской и без</a></span></li></ul></li><li><span><a href=\"#Общий-вывод.\" data-toc-modified-id=\"Общий-вывод.-1.7\"><span class=\"toc-item-num\">1.7&nbsp;&nbsp;</span>Общий вывод.</a></span></li></ul></li></ul></div>"
   ]
  },
  {
   "cell_type": "markdown",
   "id": "6b1eea86",
   "metadata": {},
   "source": [
    "# Исследование популярного сервиса аренды самокатов GoFast."
   ]
  },
  {
   "cell_type": "markdown",
   "id": "8c707630",
   "metadata": {},
   "source": [
    "## Описание проекта"
   ]
  },
  {
   "cell_type": "markdown",
   "id": "a344fcde",
   "metadata": {},
   "source": [
    "Переданы данные о некоторых пользователях сервиса аренды самокатов GoFast из нескольких городов, а также об их поездках. Нужно проанализировать данные и проверить несколько гипотез, которые могут помочь бизнесу вырасти.  \n",
    "\n",
    "Чтобы совершать поездки по городу, пользователи сервиса GoFast пользуются мобильным приложением. Сервисом можно пользоваться:\n",
    "1. без подписки\n",
    "   - абонентская плата отсутствует;\n",
    "   - стоимость одной минуты поездки — 8 рублей;\n",
    "   - стоимость старта (начала поездки) — 50 рублей;\n",
    "2. с подпиской Ultra\n",
    "    - абонентская плата — 199 рублей в месяц;\n",
    "    - стоимость одной минуты поездки — 6 рублей;\n",
    "    - стоимость старта — бесплатно."
   ]
  },
  {
   "cell_type": "markdown",
   "id": "6301ce77",
   "metadata": {},
   "source": [
    "# Описание данных "
   ]
  },
  {
   "cell_type": "markdown",
   "id": "de10d029",
   "metadata": {},
   "source": [
    "В основных данных есть информация о пользователях, их поездках и подписках.  \n",
    "\n",
    "**Пользователи — users_go.csv**\n",
    "- user_id - уникальный идентификатор пользователя\n",
    "- name - имя пользователя\n",
    "- age - возраст\n",
    "- city - город\n",
    "- subscription_type - тип подписки (free, ultra)  \n",
    "\n",
    "**Поездки — rides_go.csv**\n",
    "- user_id - уникальный идентификатор пользователя\n",
    "- distance - расстояние, которое пользователь проехал в текущей сессии (в метрах)\n",
    "- duration - продолжительность сессии (в минутах) — время с того момента, как пользователь нажал кнопку «Начать поездку» до момента, как он нажал кнопку «Завершить поездку»\n",
    "- date - дата совершения поездки  \n",
    "\n",
    "**Подписки — subscriptions_go.csv**\n",
    "- subscription_type - тип подписки\n",
    "- minute_price - стоимость одной минуты поездки по данной подписке\n",
    "- start_ride_price - стоимость начала поездки\n",
    "- subscription_fee - стоимость ежемесячного платежа\n"
   ]
  },
  {
   "cell_type": "code",
   "execution_count": 36,
   "id": "72576667",
   "metadata": {},
   "outputs": [],
   "source": [
    "import pandas as pd\n",
    "import seaborn as sns\n",
    "import numpy as np\n",
    "from scipy import stats as st\n",
    "import matplotlib.pyplot as plt"
   ]
  },
  {
   "cell_type": "markdown",
   "id": "c42cbe00",
   "metadata": {},
   "source": [
    "### Загрузка данных и знакомство"
   ]
  },
  {
   "cell_type": "code",
   "execution_count": 37,
   "id": "eff9f206",
   "metadata": {},
   "outputs": [],
   "source": [
    "user_go = pd.read_csv('/Users/mac/Desktop/проекты в Яндекс Практикуме/Датасеты и проекты/Аренда самокатов/users_go.csv')\n",
    "rides_go = pd.read_csv('/Users/mac/Desktop/проекты в Яндекс Практикуме/Датасеты и проекты/Аренда самокатов/rides_go.csv')\n",
    "subscriptions_go = pd.read_csv('/Users/mac/Desktop/проекты в Яндекс Практикуме/Датасеты и проекты/Аренда самокатов/subscriptions_go.csv')"
   ]
  },
  {
   "cell_type": "code",
   "execution_count": 38,
   "id": "4771de42",
   "metadata": {},
   "outputs": [
    {
     "data": {
      "text/html": [
       "<div>\n",
       "<style scoped>\n",
       "    .dataframe tbody tr th:only-of-type {\n",
       "        vertical-align: middle;\n",
       "    }\n",
       "\n",
       "    .dataframe tbody tr th {\n",
       "        vertical-align: top;\n",
       "    }\n",
       "\n",
       "    .dataframe thead th {\n",
       "        text-align: right;\n",
       "    }\n",
       "</style>\n",
       "<table border=\"1\" class=\"dataframe\">\n",
       "  <thead>\n",
       "    <tr style=\"text-align: right;\">\n",
       "      <th></th>\n",
       "      <th>user_id</th>\n",
       "      <th>name</th>\n",
       "      <th>age</th>\n",
       "      <th>city</th>\n",
       "      <th>subscription_type</th>\n",
       "    </tr>\n",
       "  </thead>\n",
       "  <tbody>\n",
       "    <tr>\n",
       "      <th>0</th>\n",
       "      <td>1</td>\n",
       "      <td>Кира</td>\n",
       "      <td>22</td>\n",
       "      <td>Тюмень</td>\n",
       "      <td>ultra</td>\n",
       "    </tr>\n",
       "    <tr>\n",
       "      <th>1</th>\n",
       "      <td>2</td>\n",
       "      <td>Станислав</td>\n",
       "      <td>31</td>\n",
       "      <td>Омск</td>\n",
       "      <td>ultra</td>\n",
       "    </tr>\n",
       "    <tr>\n",
       "      <th>2</th>\n",
       "      <td>3</td>\n",
       "      <td>Алексей</td>\n",
       "      <td>20</td>\n",
       "      <td>Москва</td>\n",
       "      <td>ultra</td>\n",
       "    </tr>\n",
       "    <tr>\n",
       "      <th>3</th>\n",
       "      <td>4</td>\n",
       "      <td>Константин</td>\n",
       "      <td>26</td>\n",
       "      <td>Ростов-на-Дону</td>\n",
       "      <td>ultra</td>\n",
       "    </tr>\n",
       "    <tr>\n",
       "      <th>4</th>\n",
       "      <td>5</td>\n",
       "      <td>Адель</td>\n",
       "      <td>28</td>\n",
       "      <td>Омск</td>\n",
       "      <td>ultra</td>\n",
       "    </tr>\n",
       "  </tbody>\n",
       "</table>\n",
       "</div>"
      ],
      "text/plain": [
       "   user_id        name  age            city subscription_type\n",
       "0        1        Кира   22          Тюмень             ultra\n",
       "1        2   Станислав   31            Омск             ultra\n",
       "2        3     Алексей   20          Москва             ultra\n",
       "3        4  Константин   26  Ростов-на-Дону             ultra\n",
       "4        5       Адель   28            Омск             ultra"
      ]
     },
     "execution_count": 38,
     "metadata": {},
     "output_type": "execute_result"
    }
   ],
   "source": [
    "user_go.head()"
   ]
  },
  {
   "cell_type": "code",
   "execution_count": 39,
   "id": "e7549b4c",
   "metadata": {},
   "outputs": [
    {
     "name": "stdout",
     "output_type": "stream",
     "text": [
      "<class 'pandas.core.frame.DataFrame'>\n",
      "RangeIndex: 1565 entries, 0 to 1564\n",
      "Data columns (total 5 columns):\n",
      " #   Column             Non-Null Count  Dtype \n",
      "---  ------             --------------  ----- \n",
      " 0   user_id            1565 non-null   int64 \n",
      " 1   name               1565 non-null   object\n",
      " 2   age                1565 non-null   int64 \n",
      " 3   city               1565 non-null   object\n",
      " 4   subscription_type  1565 non-null   object\n",
      "dtypes: int64(2), object(3)\n",
      "memory usage: 61.3+ KB\n"
     ]
    }
   ],
   "source": [
    "user_go.info()"
   ]
  },
  {
   "cell_type": "code",
   "execution_count": 40,
   "id": "aee00387",
   "metadata": {
    "scrolled": true
   },
   "outputs": [
    {
     "data": {
      "image/png": "[encoded data removed]",
      "text/plain": [
       "<Figure size 1200x600 with 2 Axes>"
      ]
     },
     "metadata": {},
     "output_type": "display_data"
    }
   ],
   "source": [
    "fig = user_go.hist(figsize=(12,6))\n",
    "tables = ['пользователи', 'возраст']\n",
    "cnt = 0\n",
    "for ax in fig.ravel():\n",
    "    ax.set_title(tables[cnt])\n",
    "    ax.set_xlabel(\"значения\")\n",
    "    ax.set_ylabel(\"кол-во пользователей\")\n",
    "    cnt +=1"
   ]
  },
  {
   "cell_type": "code",
   "execution_count": 41,
   "id": "f8fa1ae8",
   "metadata": {},
   "outputs": [
    {
     "data": {
      "text/html": [
       "<div>\n",
       "<style scoped>\n",
       "    .dataframe tbody tr th:only-of-type {\n",
       "        vertical-align: middle;\n",
       "    }\n",
       "\n",
       "    .dataframe tbody tr th {\n",
       "        vertical-align: top;\n",
       "    }\n",
       "\n",
       "    .dataframe thead th {\n",
       "        text-align: right;\n",
       "    }\n",
       "</style>\n",
       "<table border=\"1\" class=\"dataframe\">\n",
       "  <thead>\n",
       "    <tr style=\"text-align: right;\">\n",
       "      <th></th>\n",
       "      <th>user_id</th>\n",
       "      <th>distance</th>\n",
       "      <th>duration</th>\n",
       "      <th>date</th>\n",
       "    </tr>\n",
       "  </thead>\n",
       "  <tbody>\n",
       "    <tr>\n",
       "      <th>0</th>\n",
       "      <td>1</td>\n",
       "      <td>4409.919140</td>\n",
       "      <td>25.599769</td>\n",
       "      <td>2021-01-01</td>\n",
       "    </tr>\n",
       "    <tr>\n",
       "      <th>1</th>\n",
       "      <td>1</td>\n",
       "      <td>2617.592153</td>\n",
       "      <td>15.816871</td>\n",
       "      <td>2021-01-18</td>\n",
       "    </tr>\n",
       "    <tr>\n",
       "      <th>2</th>\n",
       "      <td>1</td>\n",
       "      <td>754.159807</td>\n",
       "      <td>6.232113</td>\n",
       "      <td>2021-04-20</td>\n",
       "    </tr>\n",
       "    <tr>\n",
       "      <th>3</th>\n",
       "      <td>1</td>\n",
       "      <td>2694.783254</td>\n",
       "      <td>18.511000</td>\n",
       "      <td>2021-08-11</td>\n",
       "    </tr>\n",
       "    <tr>\n",
       "      <th>4</th>\n",
       "      <td>1</td>\n",
       "      <td>4028.687306</td>\n",
       "      <td>26.265803</td>\n",
       "      <td>2021-08-28</td>\n",
       "    </tr>\n",
       "  </tbody>\n",
       "</table>\n",
       "</div>"
      ],
      "text/plain": [
       "   user_id     distance   duration        date\n",
       "0        1  4409.919140  25.599769  2021-01-01\n",
       "1        1  2617.592153  15.816871  2021-01-18\n",
       "2        1   754.159807   6.232113  2021-04-20\n",
       "3        1  2694.783254  18.511000  2021-08-11\n",
       "4        1  4028.687306  26.265803  2021-08-28"
      ]
     },
     "execution_count": 41,
     "metadata": {},
     "output_type": "execute_result"
    }
   ],
   "source": [
    "rides_go.head()"
   ]
  },
  {
   "cell_type": "code",
   "execution_count": 42,
   "id": "f1125f84",
   "metadata": {},
   "outputs": [
    {
     "name": "stdout",
     "output_type": "stream",
     "text": [
      "<class 'pandas.core.frame.DataFrame'>\n",
      "RangeIndex: 18068 entries, 0 to 18067\n",
      "Data columns (total 4 columns):\n",
      " #   Column    Non-Null Count  Dtype  \n",
      "---  ------    --------------  -----  \n",
      " 0   user_id   18068 non-null  int64  \n",
      " 1   distance  18068 non-null  float64\n",
      " 2   duration  18068 non-null  float64\n",
      " 3   date      18068 non-null  object \n",
      "dtypes: float64(2), int64(1), object(1)\n",
      "memory usage: 564.8+ KB\n"
     ]
    }
   ],
   "source": [
    "rides_go.info()"
   ]
  },
  {
   "cell_type": "code",
   "execution_count": 43,
   "id": "a48d88a3",
   "metadata": {},
   "outputs": [
    {
     "data": {
      "image/png": "[encoded data removed]",
      "text/plain": [
       "<Figure size 1200x600 with 4 Axes>"
      ]
     },
     "metadata": {},
     "output_type": "display_data"
    }
   ],
   "source": [
    "fig = rides_go.hist(figsize=(12,6))\n",
    "\n",
    "tables = ['пользователи', 'расстояние', 'продолжительность сессии']\n",
    "\n",
    "cnt = 0\n",
    "for ax in fig.ravel():\n",
    "    if cnt <=2:\n",
    "        ax.set_title(tables[cnt])\n",
    "        ax.set_xlabel(\"значения\")\n",
    "        ax.set_ylabel(\"кол-во пользователей\")\n",
    "        cnt+=1\n",
    "\n",
    "plt.subplots_adjust(hspace=0.7)\n"
   ]
  },
  {
   "cell_type": "code",
   "execution_count": 44,
   "id": "d6fd1b14",
   "metadata": {},
   "outputs": [
    {
     "data": {
      "text/html": [
       "<div>\n",
       "<style scoped>\n",
       "    .dataframe tbody tr th:only-of-type {\n",
       "        vertical-align: middle;\n",
       "    }\n",
       "\n",
       "    .dataframe tbody tr th {\n",
       "        vertical-align: top;\n",
       "    }\n",
       "\n",
       "    .dataframe thead th {\n",
       "        text-align: right;\n",
       "    }\n",
       "</style>\n",
       "<table border=\"1\" class=\"dataframe\">\n",
       "  <thead>\n",
       "    <tr style=\"text-align: right;\">\n",
       "      <th></th>\n",
       "      <th>subscription_type</th>\n",
       "      <th>minute_price</th>\n",
       "      <th>start_ride_price</th>\n",
       "      <th>subscription_fee</th>\n",
       "    </tr>\n",
       "  </thead>\n",
       "  <tbody>\n",
       "    <tr>\n",
       "      <th>0</th>\n",
       "      <td>free</td>\n",
       "      <td>8</td>\n",
       "      <td>50</td>\n",
       "      <td>0</td>\n",
       "    </tr>\n",
       "    <tr>\n",
       "      <th>1</th>\n",
       "      <td>ultra</td>\n",
       "      <td>6</td>\n",
       "      <td>0</td>\n",
       "      <td>199</td>\n",
       "    </tr>\n",
       "  </tbody>\n",
       "</table>\n",
       "</div>"
      ],
      "text/plain": [
       "  subscription_type  minute_price  start_ride_price  subscription_fee\n",
       "0              free             8                50                 0\n",
       "1             ultra             6                 0               199"
      ]
     },
     "execution_count": 44,
     "metadata": {},
     "output_type": "execute_result"
    }
   ],
   "source": [
    "subscriptions_go"
   ]
  },
  {
   "cell_type": "code",
   "execution_count": 45,
   "id": "bbdfd940",
   "metadata": {},
   "outputs": [
    {
     "name": "stdout",
     "output_type": "stream",
     "text": [
      "<class 'pandas.core.frame.DataFrame'>\n",
      "RangeIndex: 2 entries, 0 to 1\n",
      "Data columns (total 4 columns):\n",
      " #   Column             Non-Null Count  Dtype \n",
      "---  ------             --------------  ----- \n",
      " 0   subscription_type  2 non-null      object\n",
      " 1   minute_price       2 non-null      int64 \n",
      " 2   start_ride_price   2 non-null      int64 \n",
      " 3   subscription_fee   2 non-null      int64 \n",
      "dtypes: int64(3), object(1)\n",
      "memory usage: 196.0+ bytes\n"
     ]
    }
   ],
   "source": [
    "subscriptions_go.info()"
   ]
  },
  {
   "cell_type": "markdown",
   "id": "25f11861",
   "metadata": {},
   "source": [
    "#### Промежуточный вывод по загрузке данных"
   ]
  },
  {
   "cell_type": "markdown",
   "id": "21c483a7",
   "metadata": {},
   "source": [
    "1. Данные представлены неплохие, в них отсутствуют пропуски, названия столбцов в \"змеином\" регистре.\n",
    "2. Значение около \"0\" колонок `distance` и `duration` кажутся подозрительными, в предобработке данных стоит взглянуть на них внимательнее, также тип данных этих колонок целесообразно будет заменить на целочисленный (`int`)"
   ]
  },
  {
   "cell_type": "markdown",
   "id": "e95ebca7",
   "metadata": {},
   "source": [
    "### Предобработка данных"
   ]
  },
  {
   "cell_type": "markdown",
   "id": "cf51001d",
   "metadata": {},
   "source": [
    "#### Проверка дубликатов в датафреймах"
   ]
  },
  {
   "cell_type": "code",
   "execution_count": 46,
   "id": "d08661e4",
   "metadata": {},
   "outputs": [
    {
     "data": {
      "text/html": [
       "<div>\n",
       "<style scoped>\n",
       "    .dataframe tbody tr th:only-of-type {\n",
       "        vertical-align: middle;\n",
       "    }\n",
       "\n",
       "    .dataframe tbody tr th {\n",
       "        vertical-align: top;\n",
       "    }\n",
       "\n",
       "    .dataframe thead th {\n",
       "        text-align: right;\n",
       "    }\n",
       "</style>\n",
       "<table border=\"1\" class=\"dataframe\">\n",
       "  <thead>\n",
       "    <tr style=\"text-align: right;\">\n",
       "      <th></th>\n",
       "      <th>user_id</th>\n",
       "      <th>name</th>\n",
       "      <th>age</th>\n",
       "      <th>city</th>\n",
       "      <th>subscription_type</th>\n",
       "    </tr>\n",
       "  </thead>\n",
       "  <tbody>\n",
       "    <tr>\n",
       "      <th>1560</th>\n",
       "      <td>829</td>\n",
       "      <td>Федор</td>\n",
       "      <td>29</td>\n",
       "      <td>Пятигорск</td>\n",
       "      <td>free</td>\n",
       "    </tr>\n",
       "    <tr>\n",
       "      <th>1561</th>\n",
       "      <td>809</td>\n",
       "      <td>Юрий</td>\n",
       "      <td>26</td>\n",
       "      <td>Сочи</td>\n",
       "      <td>free</td>\n",
       "    </tr>\n",
       "    <tr>\n",
       "      <th>1562</th>\n",
       "      <td>307</td>\n",
       "      <td>Ясмина</td>\n",
       "      <td>19</td>\n",
       "      <td>Краснодар</td>\n",
       "      <td>ultra</td>\n",
       "    </tr>\n",
       "    <tr>\n",
       "      <th>1563</th>\n",
       "      <td>47</td>\n",
       "      <td>Юрий</td>\n",
       "      <td>28</td>\n",
       "      <td>Тюмень</td>\n",
       "      <td>ultra</td>\n",
       "    </tr>\n",
       "    <tr>\n",
       "      <th>1564</th>\n",
       "      <td>1045</td>\n",
       "      <td>Артемий</td>\n",
       "      <td>28</td>\n",
       "      <td>Ростов-на-Дону</td>\n",
       "      <td>free</td>\n",
       "    </tr>\n",
       "  </tbody>\n",
       "</table>\n",
       "</div>"
      ],
      "text/plain": [
       "      user_id     name  age            city subscription_type\n",
       "1560      829    Федор   29       Пятигорск              free\n",
       "1561      809     Юрий   26            Сочи              free\n",
       "1562      307   Ясмина   19       Краснодар             ultra\n",
       "1563       47     Юрий   28          Тюмень             ultra\n",
       "1564     1045  Артемий   28  Ростов-на-Дону              free"
      ]
     },
     "execution_count": 46,
     "metadata": {},
     "output_type": "execute_result"
    }
   ],
   "source": [
    "user_go.tail()"
   ]
  },
  {
   "cell_type": "code",
   "execution_count": 47,
   "id": "36cfd152",
   "metadata": {},
   "outputs": [
    {
     "data": {
      "text/plain": [
       "31"
      ]
     },
     "execution_count": 47,
     "metadata": {},
     "output_type": "execute_result"
    }
   ],
   "source": [
    "# проверяем наличие и количество строк-дубликатов \n",
    "user_go.duplicated().sum()"
   ]
  },
  {
   "cell_type": "code",
   "execution_count": 48,
   "id": "cb29a2ef",
   "metadata": {},
   "outputs": [],
   "source": [
    "# удаляем строки-дубликаты\n",
    "user_go = user_go.drop_duplicates().reset_index(drop=True)"
   ]
  },
  {
   "cell_type": "code",
   "execution_count": 49,
   "id": "e3ab95a6",
   "metadata": {},
   "outputs": [
    {
     "data": {
      "text/plain": [
       "0"
      ]
     },
     "execution_count": 49,
     "metadata": {},
     "output_type": "execute_result"
    }
   ],
   "source": [
    "user_go.duplicated().sum()"
   ]
  },
  {
   "cell_type": "code",
   "execution_count": 50,
   "id": "e54e7810",
   "metadata": {},
   "outputs": [
    {
     "data": {
      "text/html": [
       "<div>\n",
       "<style scoped>\n",
       "    .dataframe tbody tr th:only-of-type {\n",
       "        vertical-align: middle;\n",
       "    }\n",
       "\n",
       "    .dataframe tbody tr th {\n",
       "        vertical-align: top;\n",
       "    }\n",
       "\n",
       "    .dataframe thead th {\n",
       "        text-align: right;\n",
       "    }\n",
       "</style>\n",
       "<table border=\"1\" class=\"dataframe\">\n",
       "  <thead>\n",
       "    <tr style=\"text-align: right;\">\n",
       "      <th></th>\n",
       "      <th>user_id</th>\n",
       "      <th>distance</th>\n",
       "      <th>duration</th>\n",
       "      <th>date</th>\n",
       "    </tr>\n",
       "  </thead>\n",
       "  <tbody>\n",
       "    <tr>\n",
       "      <th>18063</th>\n",
       "      <td>1534</td>\n",
       "      <td>3781.098080</td>\n",
       "      <td>19.822962</td>\n",
       "      <td>2021-11-04</td>\n",
       "    </tr>\n",
       "    <tr>\n",
       "      <th>18064</th>\n",
       "      <td>1534</td>\n",
       "      <td>2840.423057</td>\n",
       "      <td>21.409799</td>\n",
       "      <td>2021-11-16</td>\n",
       "    </tr>\n",
       "    <tr>\n",
       "      <th>18065</th>\n",
       "      <td>1534</td>\n",
       "      <td>3826.185507</td>\n",
       "      <td>18.435051</td>\n",
       "      <td>2021-11-18</td>\n",
       "    </tr>\n",
       "    <tr>\n",
       "      <th>18066</th>\n",
       "      <td>1534</td>\n",
       "      <td>2902.308661</td>\n",
       "      <td>16.674362</td>\n",
       "      <td>2021-11-27</td>\n",
       "    </tr>\n",
       "    <tr>\n",
       "      <th>18067</th>\n",
       "      <td>1534</td>\n",
       "      <td>2371.711192</td>\n",
       "      <td>15.893917</td>\n",
       "      <td>2021-12-29</td>\n",
       "    </tr>\n",
       "  </tbody>\n",
       "</table>\n",
       "</div>"
      ],
      "text/plain": [
       "       user_id     distance   duration        date\n",
       "18063     1534  3781.098080  19.822962  2021-11-04\n",
       "18064     1534  2840.423057  21.409799  2021-11-16\n",
       "18065     1534  3826.185507  18.435051  2021-11-18\n",
       "18066     1534  2902.308661  16.674362  2021-11-27\n",
       "18067     1534  2371.711192  15.893917  2021-12-29"
      ]
     },
     "execution_count": 50,
     "metadata": {},
     "output_type": "execute_result"
    }
   ],
   "source": [
    "rides_go.tail()"
   ]
  },
  {
   "cell_type": "code",
   "execution_count": 51,
   "id": "29e7d945",
   "metadata": {},
   "outputs": [
    {
     "data": {
      "text/plain": [
       "0"
      ]
     },
     "execution_count": 51,
     "metadata": {},
     "output_type": "execute_result"
    }
   ],
   "source": [
    "# проверка строк-дубликатов и их количества в датафрейме rides_go\n",
    "rides_go.duplicated().sum()"
   ]
  },
  {
   "cell_type": "code",
   "execution_count": 52,
   "id": "8d6c9433",
   "metadata": {},
   "outputs": [
    {
     "data": {
      "text/plain": [
       "0    25.599769\n",
       "1    15.816871\n",
       "2     6.232113\n",
       "3    18.511000\n",
       "4    26.265803\n",
       "Name: duration, dtype: float64"
      ]
     },
     "execution_count": 52,
     "metadata": {},
     "output_type": "execute_result"
    }
   ],
   "source": [
    "rides_go['duration'].head()"
   ]
  },
  {
   "cell_type": "code",
   "execution_count": 53,
   "id": "0a4c98c0",
   "metadata": {},
   "outputs": [
    {
     "data": {
      "image/png": "[encoded data removed]",
      "text/plain": [
       "<Figure size 600x300 with 1 Axes>"
      ]
     },
     "metadata": {},
     "output_type": "display_data"
    }
   ],
   "source": [
    "# проверяем подозрительные значения около \"0\" колонки duration\n",
    "rides_go['duration'].plot.hist(range=[0, 5], \n",
    "                               figsize=(6,3), \n",
    "                               ylim=(0,100));\n",
    "plt.xlabel('продолжительность сессии (в минутах)')\n",
    "plt.ylabel('встречаемость значений')\n",
    "plt.title('Продолжительность поездки')\n",
    "plt.show()"
   ]
  },
  {
   "cell_type": "code",
   "execution_count": 54,
   "id": "373763f4",
   "metadata": {},
   "outputs": [
    {
     "data": {
      "text/html": [
       "<div>\n",
       "<style scoped>\n",
       "    .dataframe tbody tr th:only-of-type {\n",
       "        vertical-align: middle;\n",
       "    }\n",
       "\n",
       "    .dataframe tbody tr th {\n",
       "        vertical-align: top;\n",
       "    }\n",
       "\n",
       "    .dataframe thead th {\n",
       "        text-align: right;\n",
       "    }\n",
       "</style>\n",
       "<table border=\"1\" class=\"dataframe\">\n",
       "  <thead>\n",
       "    <tr style=\"text-align: right;\">\n",
       "      <th></th>\n",
       "      <th>user_id</th>\n",
       "      <th>distance</th>\n",
       "      <th>duration</th>\n",
       "      <th>date</th>\n",
       "    </tr>\n",
       "  </thead>\n",
       "  <tbody>\n",
       "    <tr>\n",
       "      <th>6570</th>\n",
       "      <td>704</td>\n",
       "      <td>4830.824371</td>\n",
       "      <td>0.5</td>\n",
       "      <td>2021-10-14</td>\n",
       "    </tr>\n",
       "    <tr>\n",
       "      <th>6680</th>\n",
       "      <td>712</td>\n",
       "      <td>4684.004397</td>\n",
       "      <td>0.5</td>\n",
       "      <td>2021-03-04</td>\n",
       "    </tr>\n",
       "    <tr>\n",
       "      <th>6695</th>\n",
       "      <td>713</td>\n",
       "      <td>5215.642710</td>\n",
       "      <td>0.5</td>\n",
       "      <td>2021-02-25</td>\n",
       "    </tr>\n",
       "    <tr>\n",
       "      <th>6768</th>\n",
       "      <td>718</td>\n",
       "      <td>5197.436649</td>\n",
       "      <td>0.5</td>\n",
       "      <td>2021-02-11</td>\n",
       "    </tr>\n",
       "    <tr>\n",
       "      <th>6860</th>\n",
       "      <td>724</td>\n",
       "      <td>6225.520342</td>\n",
       "      <td>0.5</td>\n",
       "      <td>2021-12-16</td>\n",
       "    </tr>\n",
       "    <tr>\n",
       "      <th>...</th>\n",
       "      <td>...</td>\n",
       "      <td>...</td>\n",
       "      <td>...</td>\n",
       "      <td>...</td>\n",
       "    </tr>\n",
       "    <tr>\n",
       "      <th>17004</th>\n",
       "      <td>1460</td>\n",
       "      <td>5531.335845</td>\n",
       "      <td>0.5</td>\n",
       "      <td>2021-01-19</td>\n",
       "    </tr>\n",
       "    <tr>\n",
       "      <th>17242</th>\n",
       "      <td>1477</td>\n",
       "      <td>6724.932981</td>\n",
       "      <td>0.5</td>\n",
       "      <td>2021-01-12</td>\n",
       "    </tr>\n",
       "    <tr>\n",
       "      <th>17314</th>\n",
       "      <td>1483</td>\n",
       "      <td>4445.481070</td>\n",
       "      <td>0.5</td>\n",
       "      <td>2021-03-06</td>\n",
       "    </tr>\n",
       "    <tr>\n",
       "      <th>17505</th>\n",
       "      <td>1496</td>\n",
       "      <td>5722.551787</td>\n",
       "      <td>0.5</td>\n",
       "      <td>2021-02-14</td>\n",
       "    </tr>\n",
       "    <tr>\n",
       "      <th>17909</th>\n",
       "      <td>1524</td>\n",
       "      <td>4103.998874</td>\n",
       "      <td>0.5</td>\n",
       "      <td>2021-06-18</td>\n",
       "    </tr>\n",
       "  </tbody>\n",
       "</table>\n",
       "<p>94 rows × 4 columns</p>\n",
       "</div>"
      ],
      "text/plain": [
       "       user_id     distance  duration        date\n",
       "6570       704  4830.824371       0.5  2021-10-14\n",
       "6680       712  4684.004397       0.5  2021-03-04\n",
       "6695       713  5215.642710       0.5  2021-02-25\n",
       "6768       718  5197.436649       0.5  2021-02-11\n",
       "6860       724  6225.520342       0.5  2021-12-16\n",
       "...        ...          ...       ...         ...\n",
       "17004     1460  5531.335845       0.5  2021-01-19\n",
       "17242     1477  6724.932981       0.5  2021-01-12\n",
       "17314     1483  4445.481070       0.5  2021-03-06\n",
       "17505     1496  5722.551787       0.5  2021-02-14\n",
       "17909     1524  4103.998874       0.5  2021-06-18\n",
       "\n",
       "[94 rows x 4 columns]"
      ]
     },
     "execution_count": 54,
     "metadata": {},
     "output_type": "execute_result"
    }
   ],
   "source": [
    "# посмотрим на эти значения\n",
    "rides_go.loc[rides_go['duration'].duplicated()]"
   ]
  },
  {
   "cell_type": "markdown",
   "id": "71ee5a0a",
   "metadata": {},
   "source": [
    "Заметка  \n",
    "При такой маленькой сессии наблюдаются явно большие дистанции, которые пользователи успели проехать. Здесь явно ошибка в данных колонки `duration`, удалим строки со значениями \"0,5\"."
   ]
  },
  {
   "cell_type": "code",
   "execution_count": 55,
   "id": "4100c057",
   "metadata": {},
   "outputs": [],
   "source": [
    "rides_go.drop(rides_go.loc[rides_go['duration'] <= 0.5].index, inplace=True)"
   ]
  },
  {
   "cell_type": "code",
   "execution_count": 56,
   "id": "9124e36c",
   "metadata": {},
   "outputs": [
    {
     "data": {
      "image/png": "[encoded data removed]",
      "text/plain": [
       "<Figure size 600x300 with 1 Axes>"
      ]
     },
     "metadata": {},
     "output_type": "display_data"
    }
   ],
   "source": [
    "# проверяем что всё удалилось\n",
    "rides_go['duration'].plot.hist(range=[0, 5], figsize=(6,3), ylim=(0,100));\n",
    "plt.xlabel('продолжительность сессии (в минутах)')\n",
    "plt.ylabel('встречаемость значений')\n",
    "plt.title('Продолжительность поездки')\n",
    "plt.show()"
   ]
  },
  {
   "cell_type": "code",
   "execution_count": 57,
   "id": "731f5450",
   "metadata": {},
   "outputs": [
    {
     "data": {
      "text/plain": [
       "17973"
      ]
     },
     "execution_count": 57,
     "metadata": {},
     "output_type": "execute_result"
    }
   ],
   "source": [
    "len(rides_go)"
   ]
  },
  {
   "cell_type": "code",
   "execution_count": 58,
   "id": "824e940c",
   "metadata": {},
   "outputs": [
    {
     "data": {
      "image/png": "[encoded data removed]",
      "text/plain": [
       "<Figure size 600x300 with 1 Axes>"
      ]
     },
     "metadata": {},
     "output_type": "display_data"
    }
   ],
   "source": [
    "# проверяем подозрительные значения около \"0\" колонки distance\n",
    "rides_go['distance'].plot.hist(range=[0, 1000], figsize=(6,3), ylim=(0,1000));\n",
    "plt.xlabel('расстояние в метрах')\n",
    "plt.ylabel('встречаемость значений')\n",
    "plt.title('Расстояние')\n",
    "plt.show()"
   ]
  },
  {
   "cell_type": "code",
   "execution_count": 59,
   "id": "6be42699",
   "metadata": {},
   "outputs": [
    {
     "data": {
      "text/plain": [
       "<Axes: >"
      ]
     },
     "execution_count": 59,
     "metadata": {},
     "output_type": "execute_result"
    },
    {
     "data": {
      "image/png": "[encoded data removed]",
      "text/plain": [
       "<Figure size 640x480 with 1 Axes>"
      ]
     },
     "metadata": {},
     "output_type": "display_data"
    }
   ],
   "source": [
    "rides_go.boxplot(column='distance')"
   ]
  },
  {
   "cell_type": "code",
   "execution_count": 60,
   "id": "0bd416da",
   "metadata": {},
   "outputs": [
    {
     "data": {
      "text/plain": [
       "count    17973.000000\n",
       "mean      3059.863833\n",
       "std       1108.814612\n",
       "min          0.855683\n",
       "25%       2538.839628\n",
       "50%       3129.029255\n",
       "75%       3762.636244\n",
       "max       7066.003772\n",
       "Name: distance, dtype: float64"
      ]
     },
     "execution_count": 60,
     "metadata": {},
     "output_type": "execute_result"
    }
   ],
   "source": [
    "rides_go['distance'].describe()"
   ]
  },
  {
   "cell_type": "code",
   "execution_count": 61,
   "id": "a1d15c70",
   "metadata": {},
   "outputs": [
    {
     "data": {
      "text/plain": [
       "0"
      ]
     },
     "execution_count": 61,
     "metadata": {},
     "output_type": "execute_result"
    }
   ],
   "source": [
    "rides_go['distance'].duplicated().sum()"
   ]
  },
  {
   "cell_type": "code",
   "execution_count": 62,
   "id": "0a537d6a",
   "metadata": {},
   "outputs": [
    {
     "data": {
      "text/html": [
       "<div>\n",
       "<style scoped>\n",
       "    .dataframe tbody tr th:only-of-type {\n",
       "        vertical-align: middle;\n",
       "    }\n",
       "\n",
       "    .dataframe tbody tr th {\n",
       "        vertical-align: top;\n",
       "    }\n",
       "\n",
       "    .dataframe thead th {\n",
       "        text-align: right;\n",
       "    }\n",
       "</style>\n",
       "<table border=\"1\" class=\"dataframe\">\n",
       "  <thead>\n",
       "    <tr style=\"text-align: right;\">\n",
       "      <th></th>\n",
       "      <th>user_id</th>\n",
       "      <th>distance</th>\n",
       "      <th>duration</th>\n",
       "      <th>date</th>\n",
       "    </tr>\n",
       "  </thead>\n",
       "  <tbody>\n",
       "    <tr>\n",
       "      <th>6312</th>\n",
       "      <td>677</td>\n",
       "      <td>5699.769662</td>\n",
       "      <td>18.213792</td>\n",
       "      <td>2021-03-12</td>\n",
       "    </tr>\n",
       "    <tr>\n",
       "      <th>6549</th>\n",
       "      <td>702</td>\n",
       "      <td>5924.120648</td>\n",
       "      <td>21.156693</td>\n",
       "      <td>2021-11-19</td>\n",
       "    </tr>\n",
       "    <tr>\n",
       "      <th>6754</th>\n",
       "      <td>716</td>\n",
       "      <td>5835.527411</td>\n",
       "      <td>20.506582</td>\n",
       "      <td>2021-11-05</td>\n",
       "    </tr>\n",
       "    <tr>\n",
       "      <th>6788</th>\n",
       "      <td>719</td>\n",
       "      <td>5648.444936</td>\n",
       "      <td>19.837195</td>\n",
       "      <td>2021-10-13</td>\n",
       "    </tr>\n",
       "    <tr>\n",
       "      <th>7026</th>\n",
       "      <td>736</td>\n",
       "      <td>5787.742203</td>\n",
       "      <td>15.890581</td>\n",
       "      <td>2021-02-09</td>\n",
       "    </tr>\n",
       "    <tr>\n",
       "      <th>...</th>\n",
       "      <td>...</td>\n",
       "      <td>...</td>\n",
       "      <td>...</td>\n",
       "      <td>...</td>\n",
       "    </tr>\n",
       "    <tr>\n",
       "      <th>17487</th>\n",
       "      <td>1494</td>\n",
       "      <td>5517.992252</td>\n",
       "      <td>20.049070</td>\n",
       "      <td>2021-01-15</td>\n",
       "    </tr>\n",
       "    <tr>\n",
       "      <th>17491</th>\n",
       "      <td>1494</td>\n",
       "      <td>5594.753114</td>\n",
       "      <td>27.784259</td>\n",
       "      <td>2021-05-23</td>\n",
       "    </tr>\n",
       "    <tr>\n",
       "      <th>17681</th>\n",
       "      <td>1508</td>\n",
       "      <td>5600.052517</td>\n",
       "      <td>19.586316</td>\n",
       "      <td>2021-11-14</td>\n",
       "    </tr>\n",
       "    <tr>\n",
       "      <th>17773</th>\n",
       "      <td>1514</td>\n",
       "      <td>6039.465068</td>\n",
       "      <td>26.421033</td>\n",
       "      <td>2021-09-28</td>\n",
       "    </tr>\n",
       "    <tr>\n",
       "      <th>17822</th>\n",
       "      <td>1517</td>\n",
       "      <td>6131.833778</td>\n",
       "      <td>24.395501</td>\n",
       "      <td>2021-12-17</td>\n",
       "    </tr>\n",
       "  </tbody>\n",
       "</table>\n",
       "<p>147 rows × 4 columns</p>\n",
       "</div>"
      ],
      "text/plain": [
       "       user_id     distance   duration        date\n",
       "6312       677  5699.769662  18.213792  2021-03-12\n",
       "6549       702  5924.120648  21.156693  2021-11-19\n",
       "6754       716  5835.527411  20.506582  2021-11-05\n",
       "6788       719  5648.444936  19.837195  2021-10-13\n",
       "7026       736  5787.742203  15.890581  2021-02-09\n",
       "...        ...          ...        ...         ...\n",
       "17487     1494  5517.992252  20.049070  2021-01-15\n",
       "17491     1494  5594.753114  27.784259  2021-05-23\n",
       "17681     1508  5600.052517  19.586316  2021-11-14\n",
       "17773     1514  6039.465068  26.421033  2021-09-28\n",
       "17822     1517  6131.833778  24.395501  2021-12-17\n",
       "\n",
       "[147 rows x 4 columns]"
      ]
     },
     "execution_count": 62,
     "metadata": {},
     "output_type": "execute_result"
    }
   ],
   "source": [
    "# сначала проверим значения, которые выше 5500 (предполагаемый выброс)\n",
    "rides_go[rides_go['distance'] > 5500]"
   ]
  },
  {
   "cell_type": "code",
   "execution_count": 63,
   "id": "f1f5b595",
   "metadata": {},
   "outputs": [],
   "source": [
    "# для вычисления скорости передвижения с целью проверки на правдоподобность, вычислил среднюю distance \n",
    "# и duration\n",
    "t_1 = (rides_go.loc[rides_go['distance'] > 5500].\n",
    " groupby('user_id')[['distance', 'duration']].mean().reset_index())"
   ]
  },
  {
   "cell_type": "code",
   "execution_count": 64,
   "id": "e2e3ef70",
   "metadata": {},
   "outputs": [],
   "source": [
    "t_1['speed'] = t_1['distance']/t_1['duration']*0.06"
   ]
  },
  {
   "cell_type": "code",
   "execution_count": 65,
   "id": "81220543",
   "metadata": {},
   "outputs": [
    {
     "data": {
      "text/html": [
       "<div>\n",
       "<style scoped>\n",
       "    .dataframe tbody tr th:only-of-type {\n",
       "        vertical-align: middle;\n",
       "    }\n",
       "\n",
       "    .dataframe tbody tr th {\n",
       "        vertical-align: top;\n",
       "    }\n",
       "\n",
       "    .dataframe thead th {\n",
       "        text-align: right;\n",
       "    }\n",
       "</style>\n",
       "<table border=\"1\" class=\"dataframe\">\n",
       "  <thead>\n",
       "    <tr style=\"text-align: right;\">\n",
       "      <th></th>\n",
       "      <th>user_id</th>\n",
       "      <th>distance</th>\n",
       "      <th>duration</th>\n",
       "      <th>speed</th>\n",
       "    </tr>\n",
       "  </thead>\n",
       "  <tbody>\n",
       "    <tr>\n",
       "      <th>0</th>\n",
       "      <td>677</td>\n",
       "      <td>5699.769662</td>\n",
       "      <td>18.213792</td>\n",
       "      <td>18.776221</td>\n",
       "    </tr>\n",
       "    <tr>\n",
       "      <th>1</th>\n",
       "      <td>702</td>\n",
       "      <td>5924.120648</td>\n",
       "      <td>21.156693</td>\n",
       "      <td>16.800700</td>\n",
       "    </tr>\n",
       "    <tr>\n",
       "      <th>2</th>\n",
       "      <td>716</td>\n",
       "      <td>5835.527411</td>\n",
       "      <td>20.506582</td>\n",
       "      <td>17.074110</td>\n",
       "    </tr>\n",
       "    <tr>\n",
       "      <th>3</th>\n",
       "      <td>719</td>\n",
       "      <td>5648.444936</td>\n",
       "      <td>19.837195</td>\n",
       "      <td>17.084407</td>\n",
       "    </tr>\n",
       "    <tr>\n",
       "      <th>4</th>\n",
       "      <td>736</td>\n",
       "      <td>5787.742203</td>\n",
       "      <td>15.890581</td>\n",
       "      <td>21.853482</td>\n",
       "    </tr>\n",
       "    <tr>\n",
       "      <th>...</th>\n",
       "      <td>...</td>\n",
       "      <td>...</td>\n",
       "      <td>...</td>\n",
       "      <td>...</td>\n",
       "    </tr>\n",
       "    <tr>\n",
       "      <th>130</th>\n",
       "      <td>1490</td>\n",
       "      <td>5697.988014</td>\n",
       "      <td>18.287399</td>\n",
       "      <td>18.694801</td>\n",
       "    </tr>\n",
       "    <tr>\n",
       "      <th>131</th>\n",
       "      <td>1494</td>\n",
       "      <td>5556.372683</td>\n",
       "      <td>23.916665</td>\n",
       "      <td>13.939333</td>\n",
       "    </tr>\n",
       "    <tr>\n",
       "      <th>132</th>\n",
       "      <td>1508</td>\n",
       "      <td>5600.052517</td>\n",
       "      <td>19.586316</td>\n",
       "      <td>17.154995</td>\n",
       "    </tr>\n",
       "    <tr>\n",
       "      <th>133</th>\n",
       "      <td>1514</td>\n",
       "      <td>6039.465068</td>\n",
       "      <td>26.421033</td>\n",
       "      <td>13.715130</td>\n",
       "    </tr>\n",
       "    <tr>\n",
       "      <th>134</th>\n",
       "      <td>1517</td>\n",
       "      <td>6131.833778</td>\n",
       "      <td>24.395501</td>\n",
       "      <td>15.081060</td>\n",
       "    </tr>\n",
       "  </tbody>\n",
       "</table>\n",
       "<p>135 rows × 4 columns</p>\n",
       "</div>"
      ],
      "text/plain": [
       "     user_id     distance   duration      speed\n",
       "0        677  5699.769662  18.213792  18.776221\n",
       "1        702  5924.120648  21.156693  16.800700\n",
       "2        716  5835.527411  20.506582  17.074110\n",
       "3        719  5648.444936  19.837195  17.084407\n",
       "4        736  5787.742203  15.890581  21.853482\n",
       "..       ...          ...        ...        ...\n",
       "130     1490  5697.988014  18.287399  18.694801\n",
       "131     1494  5556.372683  23.916665  13.939333\n",
       "132     1508  5600.052517  19.586316  17.154995\n",
       "133     1514  6039.465068  26.421033  13.715130\n",
       "134     1517  6131.833778  24.395501  15.081060\n",
       "\n",
       "[135 rows x 4 columns]"
      ]
     },
     "execution_count": 65,
     "metadata": {},
     "output_type": "execute_result"
    }
   ],
   "source": [
    "t_1"
   ]
  },
  {
   "cell_type": "code",
   "execution_count": 66,
   "id": "2c64bb99",
   "metadata": {},
   "outputs": [
    {
     "data": {
      "text/html": [
       "<div>\n",
       "<style scoped>\n",
       "    .dataframe tbody tr th:only-of-type {\n",
       "        vertical-align: middle;\n",
       "    }\n",
       "\n",
       "    .dataframe tbody tr th {\n",
       "        vertical-align: top;\n",
       "    }\n",
       "\n",
       "    .dataframe thead th {\n",
       "        text-align: right;\n",
       "    }\n",
       "</style>\n",
       "<table border=\"1\" class=\"dataframe\">\n",
       "  <thead>\n",
       "    <tr style=\"text-align: right;\">\n",
       "      <th></th>\n",
       "      <th>user_id</th>\n",
       "      <th>distance</th>\n",
       "      <th>duration</th>\n",
       "      <th>speed</th>\n",
       "    </tr>\n",
       "  </thead>\n",
       "  <tbody>\n",
       "    <tr>\n",
       "      <th>count</th>\n",
       "      <td>135.000000</td>\n",
       "      <td>135.000000</td>\n",
       "      <td>135.000000</td>\n",
       "      <td>135.000000</td>\n",
       "    </tr>\n",
       "    <tr>\n",
       "      <th>mean</th>\n",
       "      <td>1081.651852</td>\n",
       "      <td>5834.115305</td>\n",
       "      <td>24.677185</td>\n",
       "      <td>14.822726</td>\n",
       "    </tr>\n",
       "    <tr>\n",
       "      <th>std</th>\n",
       "      <td>237.215323</td>\n",
       "      <td>293.373925</td>\n",
       "      <td>5.008669</td>\n",
       "      <td>3.333199</td>\n",
       "    </tr>\n",
       "    <tr>\n",
       "      <th>min</th>\n",
       "      <td>677.000000</td>\n",
       "      <td>5502.516813</td>\n",
       "      <td>13.015960</td>\n",
       "      <td>9.592362</td>\n",
       "    </tr>\n",
       "    <tr>\n",
       "      <th>25%</th>\n",
       "      <td>891.500000</td>\n",
       "      <td>5619.965832</td>\n",
       "      <td>21.032133</td>\n",
       "      <td>12.474333</td>\n",
       "    </tr>\n",
       "    <tr>\n",
       "      <th>50%</th>\n",
       "      <td>1043.000000</td>\n",
       "      <td>5750.162571</td>\n",
       "      <td>24.510736</td>\n",
       "      <td>14.213606</td>\n",
       "    </tr>\n",
       "    <tr>\n",
       "      <th>75%</th>\n",
       "      <td>1283.000000</td>\n",
       "      <td>6002.117652</td>\n",
       "      <td>28.832124</td>\n",
       "      <td>17.000077</td>\n",
       "    </tr>\n",
       "    <tr>\n",
       "      <th>max</th>\n",
       "      <td>1517.000000</td>\n",
       "      <td>7066.003772</td>\n",
       "      <td>34.888965</td>\n",
       "      <td>25.390275</td>\n",
       "    </tr>\n",
       "  </tbody>\n",
       "</table>\n",
       "</div>"
      ],
      "text/plain": [
       "           user_id     distance    duration       speed\n",
       "count   135.000000   135.000000  135.000000  135.000000\n",
       "mean   1081.651852  5834.115305   24.677185   14.822726\n",
       "std     237.215323   293.373925    5.008669    3.333199\n",
       "min     677.000000  5502.516813   13.015960    9.592362\n",
       "25%     891.500000  5619.965832   21.032133   12.474333\n",
       "50%    1043.000000  5750.162571   24.510736   14.213606\n",
       "75%    1283.000000  6002.117652   28.832124   17.000077\n",
       "max    1517.000000  7066.003772   34.888965   25.390275"
      ]
     },
     "execution_count": 66,
     "metadata": {},
     "output_type": "execute_result"
    }
   ],
   "source": [
    "t_1.describe()"
   ]
  },
  {
   "cell_type": "markdown",
   "id": "2a0d0314",
   "metadata": {},
   "source": [
    "Заметка  \n",
    "Показатели скорости (км/ч), дистанции и времени не похожи на выбросы, оставим данные значения в исходном датафрейме."
   ]
  },
  {
   "cell_type": "code",
   "execution_count": 67,
   "id": "d0f5e631",
   "metadata": {},
   "outputs": [],
   "source": [
    "# теперь посмотрим на значения меньше 800 (предполагаемые выбросы)\n",
    "t_2 = rides_go[rides_go['distance'] < 800]"
   ]
  },
  {
   "cell_type": "code",
   "execution_count": 68,
   "id": "cab1775c",
   "metadata": {},
   "outputs": [],
   "source": [
    "# для вычисления скорости передвижения для проверки на правдоподобность, вычислил среднюю distance \n",
    "# и duration\n",
    "t_2 = (rides_go.loc[rides_go['distance'] < 800].\n",
    " groupby('user_id')[['distance', 'duration']].mean().reset_index())"
   ]
  },
  {
   "cell_type": "code",
   "execution_count": 69,
   "id": "ba0146fc",
   "metadata": {},
   "outputs": [
    {
     "data": {
      "text/html": [
       "<div>\n",
       "<style scoped>\n",
       "    .dataframe tbody tr th:only-of-type {\n",
       "        vertical-align: middle;\n",
       "    }\n",
       "\n",
       "    .dataframe tbody tr th {\n",
       "        vertical-align: top;\n",
       "    }\n",
       "\n",
       "    .dataframe thead th {\n",
       "        text-align: right;\n",
       "    }\n",
       "</style>\n",
       "<table border=\"1\" class=\"dataframe\">\n",
       "  <thead>\n",
       "    <tr style=\"text-align: right;\">\n",
       "      <th></th>\n",
       "      <th>user_id</th>\n",
       "      <th>distance</th>\n",
       "      <th>duration</th>\n",
       "      <th>speed</th>\n",
       "    </tr>\n",
       "  </thead>\n",
       "  <tbody>\n",
       "    <tr>\n",
       "      <th>0</th>\n",
       "      <td>1</td>\n",
       "      <td>751.425226</td>\n",
       "      <td>10.636999</td>\n",
       "      <td>4.238556</td>\n",
       "    </tr>\n",
       "    <tr>\n",
       "      <th>1</th>\n",
       "      <td>4</td>\n",
       "      <td>724.559572</td>\n",
       "      <td>11.811399</td>\n",
       "      <td>3.680646</td>\n",
       "    </tr>\n",
       "    <tr>\n",
       "      <th>2</th>\n",
       "      <td>10</td>\n",
       "      <td>680.952663</td>\n",
       "      <td>5.150377</td>\n",
       "      <td>7.932849</td>\n",
       "    </tr>\n",
       "    <tr>\n",
       "      <th>3</th>\n",
       "      <td>15</td>\n",
       "      <td>653.371551</td>\n",
       "      <td>13.920229</td>\n",
       "      <td>2.816210</td>\n",
       "    </tr>\n",
       "    <tr>\n",
       "      <th>4</th>\n",
       "      <td>21</td>\n",
       "      <td>518.126969</td>\n",
       "      <td>12.185747</td>\n",
       "      <td>2.551146</td>\n",
       "    </tr>\n",
       "    <tr>\n",
       "      <th>...</th>\n",
       "      <td>...</td>\n",
       "      <td>...</td>\n",
       "      <td>...</td>\n",
       "      <td>...</td>\n",
       "    </tr>\n",
       "    <tr>\n",
       "      <th>694</th>\n",
       "      <td>1530</td>\n",
       "      <td>119.665446</td>\n",
       "      <td>8.755607</td>\n",
       "      <td>0.820038</td>\n",
       "    </tr>\n",
       "    <tr>\n",
       "      <th>695</th>\n",
       "      <td>1531</td>\n",
       "      <td>512.585117</td>\n",
       "      <td>11.193278</td>\n",
       "      <td>2.747641</td>\n",
       "    </tr>\n",
       "    <tr>\n",
       "      <th>696</th>\n",
       "      <td>1532</td>\n",
       "      <td>483.128018</td>\n",
       "      <td>8.660631</td>\n",
       "      <td>3.347063</td>\n",
       "    </tr>\n",
       "    <tr>\n",
       "      <th>697</th>\n",
       "      <td>1533</td>\n",
       "      <td>310.488247</td>\n",
       "      <td>10.642389</td>\n",
       "      <td>1.750480</td>\n",
       "    </tr>\n",
       "    <tr>\n",
       "      <th>698</th>\n",
       "      <td>1534</td>\n",
       "      <td>195.447469</td>\n",
       "      <td>6.469074</td>\n",
       "      <td>1.812755</td>\n",
       "    </tr>\n",
       "  </tbody>\n",
       "</table>\n",
       "<p>699 rows × 4 columns</p>\n",
       "</div>"
      ],
      "text/plain": [
       "     user_id    distance   duration     speed\n",
       "0          1  751.425226  10.636999  4.238556\n",
       "1          4  724.559572  11.811399  3.680646\n",
       "2         10  680.952663   5.150377  7.932849\n",
       "3         15  653.371551  13.920229  2.816210\n",
       "4         21  518.126969  12.185747  2.551146\n",
       "..       ...         ...        ...       ...\n",
       "694     1530  119.665446   8.755607  0.820038\n",
       "695     1531  512.585117  11.193278  2.747641\n",
       "696     1532  483.128018   8.660631  3.347063\n",
       "697     1533  310.488247  10.642389  1.750480\n",
       "698     1534  195.447469   6.469074  1.812755\n",
       "\n",
       "[699 rows x 4 columns]"
      ]
     },
     "execution_count": 69,
     "metadata": {},
     "output_type": "execute_result"
    }
   ],
   "source": [
    "t_2['speed'] = t_2['distance']/t_2['duration']*0.06\n",
    "t_2"
   ]
  },
  {
   "cell_type": "code",
   "execution_count": 70,
   "id": "209b0ffe",
   "metadata": {},
   "outputs": [
    {
     "data": {
      "text/html": [
       "<div>\n",
       "<style scoped>\n",
       "    .dataframe tbody tr th:only-of-type {\n",
       "        vertical-align: middle;\n",
       "    }\n",
       "\n",
       "    .dataframe tbody tr th {\n",
       "        vertical-align: top;\n",
       "    }\n",
       "\n",
       "    .dataframe thead th {\n",
       "        text-align: right;\n",
       "    }\n",
       "</style>\n",
       "<table border=\"1\" class=\"dataframe\">\n",
       "  <thead>\n",
       "    <tr style=\"text-align: right;\">\n",
       "      <th></th>\n",
       "      <th>user_id</th>\n",
       "      <th>distance</th>\n",
       "      <th>duration</th>\n",
       "      <th>speed</th>\n",
       "    </tr>\n",
       "  </thead>\n",
       "  <tbody>\n",
       "    <tr>\n",
       "      <th>count</th>\n",
       "      <td>699.000000</td>\n",
       "      <td>699.000000</td>\n",
       "      <td>699.000000</td>\n",
       "      <td>699.000000</td>\n",
       "    </tr>\n",
       "    <tr>\n",
       "      <th>mean</th>\n",
       "      <td>972.041488</td>\n",
       "      <td>458.477171</td>\n",
       "      <td>9.237023</td>\n",
       "      <td>3.333130</td>\n",
       "    </tr>\n",
       "    <tr>\n",
       "      <th>std</th>\n",
       "      <td>392.057401</td>\n",
       "      <td>194.505734</td>\n",
       "      <td>3.245448</td>\n",
       "      <td>1.858238</td>\n",
       "    </tr>\n",
       "    <tr>\n",
       "      <th>min</th>\n",
       "      <td>1.000000</td>\n",
       "      <td>7.097072</td>\n",
       "      <td>2.224797</td>\n",
       "      <td>0.042469</td>\n",
       "    </tr>\n",
       "    <tr>\n",
       "      <th>25%</th>\n",
       "      <td>761.000000</td>\n",
       "      <td>311.923442</td>\n",
       "      <td>6.810690</td>\n",
       "      <td>2.157358</td>\n",
       "    </tr>\n",
       "    <tr>\n",
       "      <th>50%</th>\n",
       "      <td>1029.000000</td>\n",
       "      <td>478.800442</td>\n",
       "      <td>9.277659</td>\n",
       "      <td>2.988304</td>\n",
       "    </tr>\n",
       "    <tr>\n",
       "      <th>75%</th>\n",
       "      <td>1286.000000</td>\n",
       "      <td>620.422888</td>\n",
       "      <td>11.684263</td>\n",
       "      <td>4.189495</td>\n",
       "    </tr>\n",
       "    <tr>\n",
       "      <th>max</th>\n",
       "      <td>1534.000000</td>\n",
       "      <td>799.999887</td>\n",
       "      <td>17.695512</td>\n",
       "      <td>11.394727</td>\n",
       "    </tr>\n",
       "  </tbody>\n",
       "</table>\n",
       "</div>"
      ],
      "text/plain": [
       "           user_id    distance    duration       speed\n",
       "count   699.000000  699.000000  699.000000  699.000000\n",
       "mean    972.041488  458.477171    9.237023    3.333130\n",
       "std     392.057401  194.505734    3.245448    1.858238\n",
       "min       1.000000    7.097072    2.224797    0.042469\n",
       "25%     761.000000  311.923442    6.810690    2.157358\n",
       "50%    1029.000000  478.800442    9.277659    2.988304\n",
       "75%    1286.000000  620.422888   11.684263    4.189495\n",
       "max    1534.000000  799.999887   17.695512   11.394727"
      ]
     },
     "execution_count": 70,
     "metadata": {},
     "output_type": "execute_result"
    }
   ],
   "source": [
    "t_2.describe()"
   ]
  },
  {
   "cell_type": "markdown",
   "id": "90ea8a44",
   "metadata": {},
   "source": [
    "Заметка  \n",
    "Скорость меньше или равно в 4.189495 км/ч кажется подозрительной. Пока не будем удалять данные строки, посмотрим приносили ли эти люди компании выручку."
   ]
  },
  {
   "cell_type": "code",
   "execution_count": 71,
   "id": "2d58ed48",
   "metadata": {},
   "outputs": [
    {
     "data": {
      "text/html": [
       "<div>\n",
       "<style scoped>\n",
       "    .dataframe tbody tr th:only-of-type {\n",
       "        vertical-align: middle;\n",
       "    }\n",
       "\n",
       "    .dataframe tbody tr th {\n",
       "        vertical-align: top;\n",
       "    }\n",
       "\n",
       "    .dataframe thead th {\n",
       "        text-align: right;\n",
       "    }\n",
       "</style>\n",
       "<table border=\"1\" class=\"dataframe\">\n",
       "  <thead>\n",
       "    <tr style=\"text-align: right;\">\n",
       "      <th></th>\n",
       "      <th>user_id</th>\n",
       "      <th>distance</th>\n",
       "      <th>duration</th>\n",
       "      <th>date</th>\n",
       "    </tr>\n",
       "  </thead>\n",
       "  <tbody>\n",
       "    <tr>\n",
       "      <th>197</th>\n",
       "      <td>21</td>\n",
       "      <td>518.341543</td>\n",
       "      <td>10.151870</td>\n",
       "      <td>2021-02-03</td>\n",
       "    </tr>\n",
       "    <tr>\n",
       "      <th>204</th>\n",
       "      <td>21</td>\n",
       "      <td>517.912395</td>\n",
       "      <td>14.219625</td>\n",
       "      <td>2021-10-01</td>\n",
       "    </tr>\n",
       "    <tr>\n",
       "      <th>228</th>\n",
       "      <td>24</td>\n",
       "      <td>409.829089</td>\n",
       "      <td>10.294197</td>\n",
       "      <td>2021-04-04</td>\n",
       "    </tr>\n",
       "    <tr>\n",
       "      <th>397</th>\n",
       "      <td>42</td>\n",
       "      <td>614.716075</td>\n",
       "      <td>12.844148</td>\n",
       "      <td>2021-08-17</td>\n",
       "    </tr>\n",
       "    <tr>\n",
       "      <th>406</th>\n",
       "      <td>44</td>\n",
       "      <td>504.654111</td>\n",
       "      <td>4.513962</td>\n",
       "      <td>2021-01-25</td>\n",
       "    </tr>\n",
       "    <tr>\n",
       "      <th>...</th>\n",
       "      <td>...</td>\n",
       "      <td>...</td>\n",
       "      <td>...</td>\n",
       "      <td>...</td>\n",
       "    </tr>\n",
       "    <tr>\n",
       "      <th>18007</th>\n",
       "      <td>1531</td>\n",
       "      <td>450.981518</td>\n",
       "      <td>15.591699</td>\n",
       "      <td>2021-02-14</td>\n",
       "    </tr>\n",
       "    <tr>\n",
       "      <th>18018</th>\n",
       "      <td>1531</td>\n",
       "      <td>375.107762</td>\n",
       "      <td>5.406654</td>\n",
       "      <td>2021-06-27</td>\n",
       "    </tr>\n",
       "    <tr>\n",
       "      <th>18031</th>\n",
       "      <td>1532</td>\n",
       "      <td>303.787850</td>\n",
       "      <td>7.792490</td>\n",
       "      <td>2021-05-21</td>\n",
       "    </tr>\n",
       "    <tr>\n",
       "      <th>18043</th>\n",
       "      <td>1533</td>\n",
       "      <td>310.488247</td>\n",
       "      <td>10.642389</td>\n",
       "      <td>2021-02-21</td>\n",
       "    </tr>\n",
       "    <tr>\n",
       "      <th>18058</th>\n",
       "      <td>1534</td>\n",
       "      <td>195.447469</td>\n",
       "      <td>6.469074</td>\n",
       "      <td>2021-06-11</td>\n",
       "    </tr>\n",
       "  </tbody>\n",
       "</table>\n",
       "<p>769 rows × 4 columns</p>\n",
       "</div>"
      ],
      "text/plain": [
       "       user_id    distance   duration        date\n",
       "197         21  518.341543  10.151870  2021-02-03\n",
       "204         21  517.912395  14.219625  2021-10-01\n",
       "228         24  409.829089  10.294197  2021-04-04\n",
       "397         42  614.716075  12.844148  2021-08-17\n",
       "406         44  504.654111   4.513962  2021-01-25\n",
       "...        ...         ...        ...         ...\n",
       "18007     1531  450.981518  15.591699  2021-02-14\n",
       "18018     1531  375.107762   5.406654  2021-06-27\n",
       "18031     1532  303.787850   7.792490  2021-05-21\n",
       "18043     1533  310.488247  10.642389  2021-02-21\n",
       "18058     1534  195.447469   6.469074  2021-06-11\n",
       "\n",
       "[769 rows x 4 columns]"
      ]
     },
     "execution_count": 71,
     "metadata": {},
     "output_type": "execute_result"
    }
   ],
   "source": [
    "rides_go.loc[rides_go['distance'] < 620.422888]"
   ]
  },
  {
   "cell_type": "code",
   "execution_count": 72,
   "id": "63772b38",
   "metadata": {},
   "outputs": [
    {
     "data": {
      "text/plain": [
       "1236    27\n",
       "783     26\n",
       "1063    26\n",
       "1204    24\n",
       "716     23\n",
       "        ..\n",
       "664      3\n",
       "108      3\n",
       "354      3\n",
       "342      2\n",
       "366      2\n",
       "Name: user_id, Length: 1534, dtype: int64"
      ]
     },
     "execution_count": 72,
     "metadata": {},
     "output_type": "execute_result"
    }
   ],
   "source": [
    "# посмотрим на уникальные значения и частоту встречаемсоти каждого в столбце user_id\n",
    "rides_go['user_id'].value_counts(dropna=False)"
   ]
  },
  {
   "cell_type": "markdown",
   "id": "2729437d",
   "metadata": {},
   "source": [
    "#### Изменение типов данных"
   ]
  },
  {
   "cell_type": "markdown",
   "id": "4006e7fd",
   "metadata": {},
   "source": [
    "Для проведения необходимых математических операций изменим тип данных колонки `date` в датафрейме `rides_go` с `object` на `datetime`"
   ]
  },
  {
   "cell_type": "code",
   "execution_count": 73,
   "id": "ab049b0b",
   "metadata": {},
   "outputs": [
    {
     "data": {
      "text/plain": [
       "0    2021-01-01\n",
       "1    2021-01-18\n",
       "2    2021-04-20\n",
       "3    2021-08-11\n",
       "4    2021-08-28\n",
       "Name: date, dtype: object"
      ]
     },
     "execution_count": 73,
     "metadata": {},
     "output_type": "execute_result"
    }
   ],
   "source": [
    "rides_go['date'].head()"
   ]
  },
  {
   "cell_type": "code",
   "execution_count": 74,
   "id": "af6d202c",
   "metadata": {},
   "outputs": [],
   "source": [
    "# преведём данные столбца date датафрейма rides_go к типу данных pandas\n",
    "rides_go['date'] = pd.to_datetime(rides_go['date'], \n",
    "                                  format='%Y-%m-%d')"
   ]
  },
  {
   "cell_type": "code",
   "execution_count": 75,
   "id": "494e819d",
   "metadata": {},
   "outputs": [
    {
     "data": {
      "text/plain": [
       "user_id              int64\n",
       "distance           float64\n",
       "duration           float64\n",
       "date        datetime64[ns]\n",
       "dtype: object"
      ]
     },
     "execution_count": 75,
     "metadata": {},
     "output_type": "execute_result"
    }
   ],
   "source": [
    "rides_go.dtypes"
   ]
  },
  {
   "cell_type": "code",
   "execution_count": 76,
   "id": "f4a5abae",
   "metadata": {},
   "outputs": [],
   "source": [
    "# создаём новый столбец с месяцем на основе столбца date\n",
    "rides_go['month'] = pd.DatetimeIndex(rides_go['date']).month"
   ]
  },
  {
   "cell_type": "code",
   "execution_count": 77,
   "id": "89de91cf",
   "metadata": {},
   "outputs": [
    {
     "data": {
      "text/html": [
       "<div>\n",
       "<style scoped>\n",
       "    .dataframe tbody tr th:only-of-type {\n",
       "        vertical-align: middle;\n",
       "    }\n",
       "\n",
       "    .dataframe tbody tr th {\n",
       "        vertical-align: top;\n",
       "    }\n",
       "\n",
       "    .dataframe thead th {\n",
       "        text-align: right;\n",
       "    }\n",
       "</style>\n",
       "<table border=\"1\" class=\"dataframe\">\n",
       "  <thead>\n",
       "    <tr style=\"text-align: right;\">\n",
       "      <th></th>\n",
       "      <th>user_id</th>\n",
       "      <th>distance</th>\n",
       "      <th>duration</th>\n",
       "      <th>date</th>\n",
       "      <th>month</th>\n",
       "    </tr>\n",
       "  </thead>\n",
       "  <tbody>\n",
       "    <tr>\n",
       "      <th>0</th>\n",
       "      <td>1</td>\n",
       "      <td>4409.919140</td>\n",
       "      <td>25.599769</td>\n",
       "      <td>2021-01-01</td>\n",
       "      <td>1</td>\n",
       "    </tr>\n",
       "    <tr>\n",
       "      <th>1</th>\n",
       "      <td>1</td>\n",
       "      <td>2617.592153</td>\n",
       "      <td>15.816871</td>\n",
       "      <td>2021-01-18</td>\n",
       "      <td>1</td>\n",
       "    </tr>\n",
       "    <tr>\n",
       "      <th>2</th>\n",
       "      <td>1</td>\n",
       "      <td>754.159807</td>\n",
       "      <td>6.232113</td>\n",
       "      <td>2021-04-20</td>\n",
       "      <td>4</td>\n",
       "    </tr>\n",
       "    <tr>\n",
       "      <th>3</th>\n",
       "      <td>1</td>\n",
       "      <td>2694.783254</td>\n",
       "      <td>18.511000</td>\n",
       "      <td>2021-08-11</td>\n",
       "      <td>8</td>\n",
       "    </tr>\n",
       "    <tr>\n",
       "      <th>4</th>\n",
       "      <td>1</td>\n",
       "      <td>4028.687306</td>\n",
       "      <td>26.265803</td>\n",
       "      <td>2021-08-28</td>\n",
       "      <td>8</td>\n",
       "    </tr>\n",
       "  </tbody>\n",
       "</table>\n",
       "</div>"
      ],
      "text/plain": [
       "   user_id     distance   duration       date  month\n",
       "0        1  4409.919140  25.599769 2021-01-01      1\n",
       "1        1  2617.592153  15.816871 2021-01-18      1\n",
       "2        1   754.159807   6.232113 2021-04-20      4\n",
       "3        1  2694.783254  18.511000 2021-08-11      8\n",
       "4        1  4028.687306  26.265803 2021-08-28      8"
      ]
     },
     "execution_count": 77,
     "metadata": {},
     "output_type": "execute_result"
    }
   ],
   "source": [
    "rides_go.head()"
   ]
  },
  {
   "cell_type": "markdown",
   "id": "0abf092b",
   "metadata": {},
   "source": [
    "#### Промежуточный вывод по предобработке данных"
   ]
  },
  {
   "cell_type": "markdown",
   "id": "81f78356",
   "metadata": {},
   "source": [
    "1. Из трёх анализируемых датафреймов, были найдены строки-дубликаты в датафрейме `user_go` - произведено удаление строк-дубликатов.\n",
    "2. Столбец `date` датафрейма `rides_go` привели к типу данных pandas.\n",
    "3. Столбец `distance` содержит подозрительные (похожие на выбросы) значения дистанции меньшее 620.422888, потому что скорость перемещения самоката в таком случае получается менее 4 км/ч - не очень устойчивая и комфортная. Пока не стали удалять эти значения, при подсчёте выручки обратим внимания на них и посмотрим приносят они выручку компании или нет\n"
   ]
  },
  {
   "cell_type": "markdown",
   "id": "212593c7",
   "metadata": {},
   "source": [
    "### Исследовательский анализ данных"
   ]
  },
  {
   "cell_type": "markdown",
   "id": "1e9b19b5",
   "metadata": {},
   "source": [
    "Опишем и визуализируем общую информацию о пользователях и поездках"
   ]
  },
  {
   "cell_type": "markdown",
   "id": "9f735037",
   "metadata": {},
   "source": [
    "#### Частота встречаемости городов"
   ]
  },
  {
   "cell_type": "code",
   "execution_count": 78,
   "id": "ae3e4f96",
   "metadata": {},
   "outputs": [
    {
     "data": {
      "text/html": [
       "<div>\n",
       "<style scoped>\n",
       "    .dataframe tbody tr th:only-of-type {\n",
       "        vertical-align: middle;\n",
       "    }\n",
       "\n",
       "    .dataframe tbody tr th {\n",
       "        vertical-align: top;\n",
       "    }\n",
       "\n",
       "    .dataframe thead th {\n",
       "        text-align: right;\n",
       "    }\n",
       "</style>\n",
       "<table border=\"1\" class=\"dataframe\">\n",
       "  <thead>\n",
       "    <tr style=\"text-align: right;\">\n",
       "      <th></th>\n",
       "      <th>user_id</th>\n",
       "      <th>name</th>\n",
       "      <th>age</th>\n",
       "      <th>city</th>\n",
       "      <th>subscription_type</th>\n",
       "    </tr>\n",
       "  </thead>\n",
       "  <tbody>\n",
       "    <tr>\n",
       "      <th>0</th>\n",
       "      <td>1</td>\n",
       "      <td>Кира</td>\n",
       "      <td>22</td>\n",
       "      <td>Тюмень</td>\n",
       "      <td>ultra</td>\n",
       "    </tr>\n",
       "    <tr>\n",
       "      <th>1</th>\n",
       "      <td>2</td>\n",
       "      <td>Станислав</td>\n",
       "      <td>31</td>\n",
       "      <td>Омск</td>\n",
       "      <td>ultra</td>\n",
       "    </tr>\n",
       "    <tr>\n",
       "      <th>2</th>\n",
       "      <td>3</td>\n",
       "      <td>Алексей</td>\n",
       "      <td>20</td>\n",
       "      <td>Москва</td>\n",
       "      <td>ultra</td>\n",
       "    </tr>\n",
       "    <tr>\n",
       "      <th>3</th>\n",
       "      <td>4</td>\n",
       "      <td>Константин</td>\n",
       "      <td>26</td>\n",
       "      <td>Ростов-на-Дону</td>\n",
       "      <td>ultra</td>\n",
       "    </tr>\n",
       "    <tr>\n",
       "      <th>4</th>\n",
       "      <td>5</td>\n",
       "      <td>Адель</td>\n",
       "      <td>28</td>\n",
       "      <td>Омск</td>\n",
       "      <td>ultra</td>\n",
       "    </tr>\n",
       "  </tbody>\n",
       "</table>\n",
       "</div>"
      ],
      "text/plain": [
       "   user_id        name  age            city subscription_type\n",
       "0        1        Кира   22          Тюмень             ultra\n",
       "1        2   Станислав   31            Омск             ultra\n",
       "2        3     Алексей   20          Москва             ultra\n",
       "3        4  Константин   26  Ростов-на-Дону             ultra\n",
       "4        5       Адель   28            Омск             ultra"
      ]
     },
     "execution_count": 78,
     "metadata": {},
     "output_type": "execute_result"
    }
   ],
   "source": [
    "user_go.head()"
   ]
  },
  {
   "cell_type": "code",
   "execution_count": 79,
   "id": "a833e751",
   "metadata": {},
   "outputs": [
    {
     "data": {
      "image/png": "[encoded data removed]",
      "text/plain": [
       "<Figure size 640x480 with 1 Axes>"
      ]
     },
     "metadata": {},
     "output_type": "display_data"
    }
   ],
   "source": [
    "user_go.groupby('city')['user_id'].agg(['count']).sort_values('count', \n",
    "                                                              ascending=True).plot(kind='barh', \n",
    "                                                                                   xlim=[0, 250], \n",
    "                                                                                   legend=False);\n",
    "plt.title('Частота встречаемости городов')\n",
    "plt.xlabel('количество пользователей')\n",
    "plt.ylabel('города')\n",
    "plt.show()"
   ]
  },
  {
   "cell_type": "markdown",
   "id": "ddefc78d",
   "metadata": {},
   "source": [
    "Заметка  \n",
    "В Пятигорске количество пользователей самокатов больше чем в Москве."
   ]
  },
  {
   "cell_type": "markdown",
   "id": "7b3920bf",
   "metadata": {},
   "source": [
    "#### Соотношение пользователей с подпиской и без подписки"
   ]
  },
  {
   "cell_type": "code",
   "execution_count": 80,
   "id": "36c1016a",
   "metadata": {},
   "outputs": [
    {
     "data": {
      "text/html": [
       "<div>\n",
       "<style scoped>\n",
       "    .dataframe tbody tr th:only-of-type {\n",
       "        vertical-align: middle;\n",
       "    }\n",
       "\n",
       "    .dataframe tbody tr th {\n",
       "        vertical-align: top;\n",
       "    }\n",
       "\n",
       "    .dataframe thead th {\n",
       "        text-align: right;\n",
       "    }\n",
       "</style>\n",
       "<table border=\"1\" class=\"dataframe\">\n",
       "  <thead>\n",
       "    <tr style=\"text-align: right;\">\n",
       "      <th></th>\n",
       "      <th>count</th>\n",
       "    </tr>\n",
       "    <tr>\n",
       "      <th>subscription_type</th>\n",
       "      <th></th>\n",
       "    </tr>\n",
       "  </thead>\n",
       "  <tbody>\n",
       "    <tr>\n",
       "      <th>free</th>\n",
       "      <td>835</td>\n",
       "    </tr>\n",
       "    <tr>\n",
       "      <th>ultra</th>\n",
       "      <td>699</td>\n",
       "    </tr>\n",
       "  </tbody>\n",
       "</table>\n",
       "</div>"
      ],
      "text/plain": [
       "                   count\n",
       "subscription_type       \n",
       "free                 835\n",
       "ultra                699"
      ]
     },
     "execution_count": 80,
     "metadata": {},
     "output_type": "execute_result"
    }
   ],
   "source": [
    "user_go.groupby('subscription_type')['user_id'].agg(['count'])"
   ]
  },
  {
   "cell_type": "code",
   "execution_count": 81,
   "id": "e39ce696",
   "metadata": {},
   "outputs": [
    {
     "data": {
      "image/png": "[encoded data removed]",
      "text/plain": [
       "<Figure size 640x480 with 1 Axes>"
      ]
     },
     "metadata": {},
     "output_type": "display_data"
    }
   ],
   "source": [
    "user_go.groupby('subscription_type')['user_id'].agg(['count']).plot(kind='pie', \n",
    "                                                                    y='count', \n",
    "                                                                    ylabel='', \n",
    "                                                                    autopct='%1.0f%%', \n",
    "                                                                    legend=False);\n",
    "plt.title('Соотношение пользователей с подпиской без подписки')\n",
    "plt.show()"
   ]
  },
  {
   "cell_type": "markdown",
   "id": "d49915e6",
   "metadata": {},
   "source": [
    "Заметка  \n",
    "Пользователей с бесплатной подпиской больше, чем пользователей платной подписки. Соотношение 54% на 46%."
   ]
  },
  {
   "cell_type": "markdown",
   "id": "3fd0b571",
   "metadata": {},
   "source": [
    "#### Возраст пользователей"
   ]
  },
  {
   "cell_type": "code",
   "execution_count": 82,
   "id": "b7c886c3",
   "metadata": {},
   "outputs": [
    {
     "data": {
      "text/plain": [
       "29"
      ]
     },
     "execution_count": 82,
     "metadata": {},
     "output_type": "execute_result"
    }
   ],
   "source": [
    "# посмотрим количество уникальных значений, чтобы понимать стоит по группам объединять или нет\n",
    "user_go['age'].nunique()"
   ]
  },
  {
   "cell_type": "code",
   "execution_count": 83,
   "id": "d2b75dd2",
   "metadata": {},
   "outputs": [
    {
     "data": {
      "image/png": "[encoded data removed]",
      "text/plain": [
       "<Figure size 1200x600 with 1 Axes>"
      ]
     },
     "metadata": {},
     "output_type": "display_data"
    }
   ],
   "source": [
    "user_go.groupby('age')['user_id'].agg(['count']).plot(kind='bar', rot=0, figsize=(12, 6), legend=False);\n",
    "plt.title('Возраст пользователей')\n",
    "plt.xlabel('возраст')\n",
    "plt.ylabel('количество пользователей')\n",
    "plt.show()"
   ]
  },
  {
   "cell_type": "code",
   "execution_count": 84,
   "id": "4e9b7ef1",
   "metadata": {},
   "outputs": [
    {
     "data": {
      "text/plain": [
       "count    1534.000000\n",
       "mean       24.903520\n",
       "std         4.572367\n",
       "min        12.000000\n",
       "25%        22.000000\n",
       "50%        25.000000\n",
       "75%        28.000000\n",
       "max        43.000000\n",
       "Name: age, dtype: float64"
      ]
     },
     "execution_count": 84,
     "metadata": {},
     "output_type": "execute_result"
    }
   ],
   "source": [
    "user_go['age'].describe()"
   ]
  },
  {
   "cell_type": "markdown",
   "id": "9430bf75",
   "metadata": {},
   "source": [
    "Заметка  \n",
    "Средний возраст пользователей самокатов составляет 25 лет. Встречаются также пользователи моложе 18 лет, что допустимо правилами ПДД. Распределение возраста нормальное."
   ]
  },
  {
   "cell_type": "markdown",
   "id": "919f8f05",
   "metadata": {},
   "source": [
    "#### Расстояние, которое пользователь преодолел за одну поездку (в метрах)"
   ]
  },
  {
   "cell_type": "code",
   "execution_count": 85,
   "id": "d9cd96ef",
   "metadata": {},
   "outputs": [
    {
     "data": {
      "text/html": [
       "<div>\n",
       "<style scoped>\n",
       "    .dataframe tbody tr th:only-of-type {\n",
       "        vertical-align: middle;\n",
       "    }\n",
       "\n",
       "    .dataframe tbody tr th {\n",
       "        vertical-align: top;\n",
       "    }\n",
       "\n",
       "    .dataframe thead th {\n",
       "        text-align: right;\n",
       "    }\n",
       "</style>\n",
       "<table border=\"1\" class=\"dataframe\">\n",
       "  <thead>\n",
       "    <tr style=\"text-align: right;\">\n",
       "      <th></th>\n",
       "      <th>user_id</th>\n",
       "      <th>distance</th>\n",
       "      <th>duration</th>\n",
       "      <th>date</th>\n",
       "      <th>month</th>\n",
       "    </tr>\n",
       "  </thead>\n",
       "  <tbody>\n",
       "    <tr>\n",
       "      <th>18063</th>\n",
       "      <td>1534</td>\n",
       "      <td>3781.098080</td>\n",
       "      <td>19.822962</td>\n",
       "      <td>2021-11-04</td>\n",
       "      <td>11</td>\n",
       "    </tr>\n",
       "    <tr>\n",
       "      <th>18064</th>\n",
       "      <td>1534</td>\n",
       "      <td>2840.423057</td>\n",
       "      <td>21.409799</td>\n",
       "      <td>2021-11-16</td>\n",
       "      <td>11</td>\n",
       "    </tr>\n",
       "    <tr>\n",
       "      <th>18065</th>\n",
       "      <td>1534</td>\n",
       "      <td>3826.185507</td>\n",
       "      <td>18.435051</td>\n",
       "      <td>2021-11-18</td>\n",
       "      <td>11</td>\n",
       "    </tr>\n",
       "    <tr>\n",
       "      <th>18066</th>\n",
       "      <td>1534</td>\n",
       "      <td>2902.308661</td>\n",
       "      <td>16.674362</td>\n",
       "      <td>2021-11-27</td>\n",
       "      <td>11</td>\n",
       "    </tr>\n",
       "    <tr>\n",
       "      <th>18067</th>\n",
       "      <td>1534</td>\n",
       "      <td>2371.711192</td>\n",
       "      <td>15.893917</td>\n",
       "      <td>2021-12-29</td>\n",
       "      <td>12</td>\n",
       "    </tr>\n",
       "  </tbody>\n",
       "</table>\n",
       "</div>"
      ],
      "text/plain": [
       "       user_id     distance   duration       date  month\n",
       "18063     1534  3781.098080  19.822962 2021-11-04     11\n",
       "18064     1534  2840.423057  21.409799 2021-11-16     11\n",
       "18065     1534  3826.185507  18.435051 2021-11-18     11\n",
       "18066     1534  2902.308661  16.674362 2021-11-27     11\n",
       "18067     1534  2371.711192  15.893917 2021-12-29     12"
      ]
     },
     "execution_count": 85,
     "metadata": {},
     "output_type": "execute_result"
    }
   ],
   "source": [
    "rides_go.tail()"
   ]
  },
  {
   "cell_type": "code",
   "execution_count": 86,
   "id": "cbd5ab1c",
   "metadata": {},
   "outputs": [
    {
     "data": {
      "text/plain": [
       "count    17973.000000\n",
       "mean      3059.863833\n",
       "std       1108.814612\n",
       "min          0.855683\n",
       "25%       2538.839628\n",
       "50%       3129.029255\n",
       "75%       3762.636244\n",
       "max       7066.003772\n",
       "Name: distance, dtype: float64"
      ]
     },
     "execution_count": 86,
     "metadata": {},
     "output_type": "execute_result"
    }
   ],
   "source": [
    "rides_go['distance'].describe()"
   ]
  },
  {
   "cell_type": "code",
   "execution_count": 87,
   "id": "9da04650",
   "metadata": {},
   "outputs": [
    {
     "data": {
      "image/png": "[encoded data removed]",
      "text/plain": [
       "<Figure size 640x480 with 1 Axes>"
      ]
     },
     "metadata": {},
     "output_type": "display_data"
    }
   ],
   "source": [
    "ax = sns.histplot (data = rides_go['distance'], bins=20)\n",
    "ax.set (xlabel='расстояние (в метрах)',\n",
    " ylabel='пользователи',\n",
    " title='Расстояние, которое пользователь преодолевал за одну поездку')\n",
    "plt.show()"
   ]
  },
  {
   "cell_type": "markdown",
   "id": "01334a82",
   "metadata": {},
   "source": [
    "Заметка  \n",
    "Наиболее часто пользователи совершают поездки на самокатах на расстояние в 3000 метров."
   ]
  },
  {
   "cell_type": "markdown",
   "id": "8cc3ae94",
   "metadata": {},
   "source": [
    "#### Продолжительность поездок (в минутах)"
   ]
  },
  {
   "cell_type": "code",
   "execution_count": 88,
   "id": "24544640",
   "metadata": {},
   "outputs": [
    {
     "data": {
      "text/plain": [
       "count    17973.000000\n",
       "mean        17.896480\n",
       "std          5.975424\n",
       "min          2.035632\n",
       "25%         13.670439\n",
       "50%         17.714122\n",
       "75%         21.747016\n",
       "max         40.823963\n",
       "Name: duration, dtype: float64"
      ]
     },
     "execution_count": 88,
     "metadata": {},
     "output_type": "execute_result"
    }
   ],
   "source": [
    "rides_go['duration'].describe()"
   ]
  },
  {
   "cell_type": "code",
   "execution_count": 89,
   "id": "e983fbcd",
   "metadata": {},
   "outputs": [
    {
     "data": {
      "image/png": "[encoded data removed]",
      "text/plain": [
       "<Figure size 640x480 with 1 Axes>"
      ]
     },
     "metadata": {},
     "output_type": "display_data"
    }
   ],
   "source": [
    "ax = sns.histplot (data = rides_go['duration'], bins=25)\n",
    "ax.set (xlabel='продолжительность сессии (в минутах)',\n",
    " ylabel='количество пользователей',\n",
    " title='Продолжительность поездок')\n",
    "plt.show()"
   ]
  },
  {
   "cell_type": "markdown",
   "id": "ef461443",
   "metadata": {},
   "source": [
    "Заметка  \n",
    "Время в 18 минут являются наиболее распространёнными при аренде самокатов."
   ]
  },
  {
   "cell_type": "markdown",
   "id": "31a91e15",
   "metadata": {},
   "source": [
    "#### Промежуточный вывод по исследовательскому анализу данных"
   ]
  },
  {
   "cell_type": "markdown",
   "id": "e298b5e4",
   "metadata": {},
   "source": [
    "1. Наибольшее количество пользователей самокатов наблюдается в Пятигорске (219), наименьшее в Москве(168).\n",
    "2. Больше всего пользователей с подпиской free чем с подпиской ultra. Соотношение 54% к 46%.\n",
    "3. Среди пользователей больше всего людей 25 лет.\n",
    "4. Наибольшее количество пользователей проезжают расстояние в 3000 метров.\n",
    "5. Средняя продолжительность времени аренды составляет 18 минут."
   ]
  },
  {
   "cell_type": "markdown",
   "id": "4ef51331",
   "metadata": {},
   "source": [
    "### Объединение данных"
   ]
  },
  {
   "cell_type": "markdown",
   "id": "80669d32",
   "metadata": {},
   "source": [
    "#### Объединение данных о пользователях, поездках и подписках в один датафрейм. "
   ]
  },
  {
   "cell_type": "code",
   "execution_count": 90,
   "id": "07fea3a1",
   "metadata": {},
   "outputs": [],
   "source": [
    "# во временную переменную сначала объединим rides_go и user_go\n",
    "t = rides_go.merge(user_go, on='user_id', how='left')"
   ]
  },
  {
   "cell_type": "code",
   "execution_count": 91,
   "id": "18434677",
   "metadata": {},
   "outputs": [],
   "source": [
    "# к получившейся временной переменной добавим значения датафрейма subscriptions_go\n",
    "user_total = t.merge(subscriptions_go, on='subscription_type', how='left')"
   ]
  },
  {
   "cell_type": "code",
   "execution_count": 92,
   "id": "2649c3f3",
   "metadata": {
    "scrolled": true
   },
   "outputs": [
    {
     "data": {
      "text/html": [
       "<div>\n",
       "<style scoped>\n",
       "    .dataframe tbody tr th:only-of-type {\n",
       "        vertical-align: middle;\n",
       "    }\n",
       "\n",
       "    .dataframe tbody tr th {\n",
       "        vertical-align: top;\n",
       "    }\n",
       "\n",
       "    .dataframe thead th {\n",
       "        text-align: right;\n",
       "    }\n",
       "</style>\n",
       "<table border=\"1\" class=\"dataframe\">\n",
       "  <thead>\n",
       "    <tr style=\"text-align: right;\">\n",
       "      <th></th>\n",
       "      <th>user_id</th>\n",
       "      <th>distance</th>\n",
       "      <th>duration</th>\n",
       "      <th>date</th>\n",
       "      <th>month</th>\n",
       "      <th>name</th>\n",
       "      <th>age</th>\n",
       "      <th>city</th>\n",
       "      <th>subscription_type</th>\n",
       "      <th>minute_price</th>\n",
       "      <th>start_ride_price</th>\n",
       "      <th>subscription_fee</th>\n",
       "    </tr>\n",
       "  </thead>\n",
       "  <tbody>\n",
       "    <tr>\n",
       "      <th>0</th>\n",
       "      <td>1</td>\n",
       "      <td>4409.919140</td>\n",
       "      <td>25.599769</td>\n",
       "      <td>2021-01-01</td>\n",
       "      <td>1</td>\n",
       "      <td>Кира</td>\n",
       "      <td>22</td>\n",
       "      <td>Тюмень</td>\n",
       "      <td>ultra</td>\n",
       "      <td>6</td>\n",
       "      <td>0</td>\n",
       "      <td>199</td>\n",
       "    </tr>\n",
       "    <tr>\n",
       "      <th>1</th>\n",
       "      <td>1</td>\n",
       "      <td>2617.592153</td>\n",
       "      <td>15.816871</td>\n",
       "      <td>2021-01-18</td>\n",
       "      <td>1</td>\n",
       "      <td>Кира</td>\n",
       "      <td>22</td>\n",
       "      <td>Тюмень</td>\n",
       "      <td>ultra</td>\n",
       "      <td>6</td>\n",
       "      <td>0</td>\n",
       "      <td>199</td>\n",
       "    </tr>\n",
       "    <tr>\n",
       "      <th>2</th>\n",
       "      <td>1</td>\n",
       "      <td>754.159807</td>\n",
       "      <td>6.232113</td>\n",
       "      <td>2021-04-20</td>\n",
       "      <td>4</td>\n",
       "      <td>Кира</td>\n",
       "      <td>22</td>\n",
       "      <td>Тюмень</td>\n",
       "      <td>ultra</td>\n",
       "      <td>6</td>\n",
       "      <td>0</td>\n",
       "      <td>199</td>\n",
       "    </tr>\n",
       "    <tr>\n",
       "      <th>3</th>\n",
       "      <td>1</td>\n",
       "      <td>2694.783254</td>\n",
       "      <td>18.511000</td>\n",
       "      <td>2021-08-11</td>\n",
       "      <td>8</td>\n",
       "      <td>Кира</td>\n",
       "      <td>22</td>\n",
       "      <td>Тюмень</td>\n",
       "      <td>ultra</td>\n",
       "      <td>6</td>\n",
       "      <td>0</td>\n",
       "      <td>199</td>\n",
       "    </tr>\n",
       "    <tr>\n",
       "      <th>4</th>\n",
       "      <td>1</td>\n",
       "      <td>4028.687306</td>\n",
       "      <td>26.265803</td>\n",
       "      <td>2021-08-28</td>\n",
       "      <td>8</td>\n",
       "      <td>Кира</td>\n",
       "      <td>22</td>\n",
       "      <td>Тюмень</td>\n",
       "      <td>ultra</td>\n",
       "      <td>6</td>\n",
       "      <td>0</td>\n",
       "      <td>199</td>\n",
       "    </tr>\n",
       "  </tbody>\n",
       "</table>\n",
       "</div>"
      ],
      "text/plain": [
       "   user_id     distance   duration       date  month  name  age    city  \\\n",
       "0        1  4409.919140  25.599769 2021-01-01      1  Кира   22  Тюмень   \n",
       "1        1  2617.592153  15.816871 2021-01-18      1  Кира   22  Тюмень   \n",
       "2        1   754.159807   6.232113 2021-04-20      4  Кира   22  Тюмень   \n",
       "3        1  2694.783254  18.511000 2021-08-11      8  Кира   22  Тюмень   \n",
       "4        1  4028.687306  26.265803 2021-08-28      8  Кира   22  Тюмень   \n",
       "\n",
       "  subscription_type  minute_price  start_ride_price  subscription_fee  \n",
       "0             ultra             6                 0               199  \n",
       "1             ultra             6                 0               199  \n",
       "2             ultra             6                 0               199  \n",
       "3             ultra             6                 0               199  \n",
       "4             ultra             6                 0               199  "
      ]
     },
     "execution_count": 92,
     "metadata": {},
     "output_type": "execute_result"
    }
   ],
   "source": [
    "user_total.head()"
   ]
  },
  {
   "cell_type": "code",
   "execution_count": 93,
   "id": "92ca9eb0",
   "metadata": {},
   "outputs": [
    {
     "name": "stdout",
     "output_type": "stream",
     "text": [
      "1534\n",
      "17973\n",
      "2\n"
     ]
    }
   ],
   "source": [
    "# Проверяем длины датафреймов, после объединения их в один датафрейм, длина получившегося должна равняться \n",
    "# длине наибольшего при присоединении.\n",
    "print(len(user_go))\n",
    "print(len(rides_go))\n",
    "print(len(subscriptions_go))"
   ]
  },
  {
   "cell_type": "code",
   "execution_count": 94,
   "id": "238cae54",
   "metadata": {},
   "outputs": [
    {
     "name": "stdout",
     "output_type": "stream",
     "text": [
      "17973\n"
     ]
    }
   ],
   "source": [
    "# убежадемся в том, что длина наибольшего из исходных датафреймов равна длине получившегося датафрейма\n",
    "print(len(user_total)) "
   ]
  },
  {
   "cell_type": "code",
   "execution_count": 95,
   "id": "1a57421b",
   "metadata": {},
   "outputs": [
    {
     "data": {
      "text/plain": [
       "user_id              0\n",
       "distance             0\n",
       "duration             0\n",
       "date                 0\n",
       "month                0\n",
       "name                 0\n",
       "age                  0\n",
       "city                 0\n",
       "subscription_type    0\n",
       "minute_price         0\n",
       "start_ride_price     0\n",
       "subscription_fee     0\n",
       "dtype: int64"
      ]
     },
     "execution_count": 95,
     "metadata": {},
     "output_type": "execute_result"
    }
   ],
   "source": [
    "# проверяем количество пропусков по колонкам\n",
    "user_total.isna().sum()"
   ]
  },
  {
   "cell_type": "code",
   "execution_count": 96,
   "id": "eae110bf",
   "metadata": {},
   "outputs": [
    {
     "data": {
      "text/plain": [
       "0"
      ]
     },
     "execution_count": 96,
     "metadata": {},
     "output_type": "execute_result"
    }
   ],
   "source": [
    "# проверяем количество дубликатов\n",
    "user_total.duplicated().sum()"
   ]
  },
  {
   "cell_type": "markdown",
   "id": "3ac3a7e0",
   "metadata": {},
   "source": [
    "Заметка  \n",
    "Слияние датафреймов в один общий датафрейм произошло успешно: длина совпадает, пропусков не появилось, дубликаты отсутствуют."
   ]
  },
  {
   "cell_type": "markdown",
   "id": "bb9feeb7",
   "metadata": {},
   "source": [
    "#### Создание ещё двух датафреймов с данными о пользователях с подпиской и без подписки."
   ]
  },
  {
   "cell_type": "code",
   "execution_count": 97,
   "id": "06c5e05d",
   "metadata": {},
   "outputs": [],
   "source": [
    "user_total_ultra = user_total.query('subscription_type == \"ultra\"').reset_index(drop=True)"
   ]
  },
  {
   "cell_type": "code",
   "execution_count": 98,
   "id": "f36fdf88",
   "metadata": {},
   "outputs": [
    {
     "data": {
      "text/html": [
       "<div>\n",
       "<style scoped>\n",
       "    .dataframe tbody tr th:only-of-type {\n",
       "        vertical-align: middle;\n",
       "    }\n",
       "\n",
       "    .dataframe tbody tr th {\n",
       "        vertical-align: top;\n",
       "    }\n",
       "\n",
       "    .dataframe thead th {\n",
       "        text-align: right;\n",
       "    }\n",
       "</style>\n",
       "<table border=\"1\" class=\"dataframe\">\n",
       "  <thead>\n",
       "    <tr style=\"text-align: right;\">\n",
       "      <th></th>\n",
       "      <th>user_id</th>\n",
       "      <th>distance</th>\n",
       "      <th>duration</th>\n",
       "      <th>date</th>\n",
       "      <th>month</th>\n",
       "      <th>name</th>\n",
       "      <th>age</th>\n",
       "      <th>city</th>\n",
       "      <th>subscription_type</th>\n",
       "      <th>minute_price</th>\n",
       "      <th>start_ride_price</th>\n",
       "      <th>subscription_fee</th>\n",
       "    </tr>\n",
       "  </thead>\n",
       "  <tbody>\n",
       "    <tr>\n",
       "      <th>0</th>\n",
       "      <td>1</td>\n",
       "      <td>4409.919140</td>\n",
       "      <td>25.599769</td>\n",
       "      <td>2021-01-01</td>\n",
       "      <td>1</td>\n",
       "      <td>Кира</td>\n",
       "      <td>22</td>\n",
       "      <td>Тюмень</td>\n",
       "      <td>ultra</td>\n",
       "      <td>6</td>\n",
       "      <td>0</td>\n",
       "      <td>199</td>\n",
       "    </tr>\n",
       "    <tr>\n",
       "      <th>1</th>\n",
       "      <td>1</td>\n",
       "      <td>2617.592153</td>\n",
       "      <td>15.816871</td>\n",
       "      <td>2021-01-18</td>\n",
       "      <td>1</td>\n",
       "      <td>Кира</td>\n",
       "      <td>22</td>\n",
       "      <td>Тюмень</td>\n",
       "      <td>ultra</td>\n",
       "      <td>6</td>\n",
       "      <td>0</td>\n",
       "      <td>199</td>\n",
       "    </tr>\n",
       "    <tr>\n",
       "      <th>2</th>\n",
       "      <td>1</td>\n",
       "      <td>754.159807</td>\n",
       "      <td>6.232113</td>\n",
       "      <td>2021-04-20</td>\n",
       "      <td>4</td>\n",
       "      <td>Кира</td>\n",
       "      <td>22</td>\n",
       "      <td>Тюмень</td>\n",
       "      <td>ultra</td>\n",
       "      <td>6</td>\n",
       "      <td>0</td>\n",
       "      <td>199</td>\n",
       "    </tr>\n",
       "    <tr>\n",
       "      <th>3</th>\n",
       "      <td>1</td>\n",
       "      <td>2694.783254</td>\n",
       "      <td>18.511000</td>\n",
       "      <td>2021-08-11</td>\n",
       "      <td>8</td>\n",
       "      <td>Кира</td>\n",
       "      <td>22</td>\n",
       "      <td>Тюмень</td>\n",
       "      <td>ultra</td>\n",
       "      <td>6</td>\n",
       "      <td>0</td>\n",
       "      <td>199</td>\n",
       "    </tr>\n",
       "    <tr>\n",
       "      <th>4</th>\n",
       "      <td>1</td>\n",
       "      <td>4028.687306</td>\n",
       "      <td>26.265803</td>\n",
       "      <td>2021-08-28</td>\n",
       "      <td>8</td>\n",
       "      <td>Кира</td>\n",
       "      <td>22</td>\n",
       "      <td>Тюмень</td>\n",
       "      <td>ultra</td>\n",
       "      <td>6</td>\n",
       "      <td>0</td>\n",
       "      <td>199</td>\n",
       "    </tr>\n",
       "  </tbody>\n",
       "</table>\n",
       "</div>"
      ],
      "text/plain": [
       "   user_id     distance   duration       date  month  name  age    city  \\\n",
       "0        1  4409.919140  25.599769 2021-01-01      1  Кира   22  Тюмень   \n",
       "1        1  2617.592153  15.816871 2021-01-18      1  Кира   22  Тюмень   \n",
       "2        1   754.159807   6.232113 2021-04-20      4  Кира   22  Тюмень   \n",
       "3        1  2694.783254  18.511000 2021-08-11      8  Кира   22  Тюмень   \n",
       "4        1  4028.687306  26.265803 2021-08-28      8  Кира   22  Тюмень   \n",
       "\n",
       "  subscription_type  minute_price  start_ride_price  subscription_fee  \n",
       "0             ultra             6                 0               199  \n",
       "1             ultra             6                 0               199  \n",
       "2             ultra             6                 0               199  \n",
       "3             ultra             6                 0               199  \n",
       "4             ultra             6                 0               199  "
      ]
     },
     "execution_count": 98,
     "metadata": {},
     "output_type": "execute_result"
    }
   ],
   "source": [
    "user_total_ultra.head()"
   ]
  },
  {
   "cell_type": "code",
   "execution_count": 99,
   "id": "e0242450",
   "metadata": {},
   "outputs": [
    {
     "data": {
      "text/plain": [
       "6500"
      ]
     },
     "execution_count": 99,
     "metadata": {},
     "output_type": "execute_result"
    }
   ],
   "source": [
    "len(user_total_ultra)"
   ]
  },
  {
   "cell_type": "code",
   "execution_count": 100,
   "id": "e15f67c1",
   "metadata": {},
   "outputs": [],
   "source": [
    "user_total_free = user_total.query('subscription_type == \"free\"').reset_index(drop=True)"
   ]
  },
  {
   "cell_type": "code",
   "execution_count": 101,
   "id": "de450160",
   "metadata": {
    "scrolled": true
   },
   "outputs": [
    {
     "data": {
      "text/html": [
       "<div>\n",
       "<style scoped>\n",
       "    .dataframe tbody tr th:only-of-type {\n",
       "        vertical-align: middle;\n",
       "    }\n",
       "\n",
       "    .dataframe tbody tr th {\n",
       "        vertical-align: top;\n",
       "    }\n",
       "\n",
       "    .dataframe thead th {\n",
       "        text-align: right;\n",
       "    }\n",
       "</style>\n",
       "<table border=\"1\" class=\"dataframe\">\n",
       "  <thead>\n",
       "    <tr style=\"text-align: right;\">\n",
       "      <th></th>\n",
       "      <th>user_id</th>\n",
       "      <th>distance</th>\n",
       "      <th>duration</th>\n",
       "      <th>date</th>\n",
       "      <th>month</th>\n",
       "      <th>name</th>\n",
       "      <th>age</th>\n",
       "      <th>city</th>\n",
       "      <th>subscription_type</th>\n",
       "      <th>minute_price</th>\n",
       "      <th>start_ride_price</th>\n",
       "      <th>subscription_fee</th>\n",
       "    </tr>\n",
       "  </thead>\n",
       "  <tbody>\n",
       "    <tr>\n",
       "      <th>0</th>\n",
       "      <td>700</td>\n",
       "      <td>2515.690719</td>\n",
       "      <td>14.944286</td>\n",
       "      <td>2021-01-02</td>\n",
       "      <td>1</td>\n",
       "      <td>Айдар</td>\n",
       "      <td>22</td>\n",
       "      <td>Омск</td>\n",
       "      <td>free</td>\n",
       "      <td>8</td>\n",
       "      <td>50</td>\n",
       "      <td>0</td>\n",
       "    </tr>\n",
       "    <tr>\n",
       "      <th>1</th>\n",
       "      <td>700</td>\n",
       "      <td>846.932642</td>\n",
       "      <td>16.234663</td>\n",
       "      <td>2021-02-01</td>\n",
       "      <td>2</td>\n",
       "      <td>Айдар</td>\n",
       "      <td>22</td>\n",
       "      <td>Омск</td>\n",
       "      <td>free</td>\n",
       "      <td>8</td>\n",
       "      <td>50</td>\n",
       "      <td>0</td>\n",
       "    </tr>\n",
       "    <tr>\n",
       "      <th>2</th>\n",
       "      <td>700</td>\n",
       "      <td>4004.434142</td>\n",
       "      <td>20.016628</td>\n",
       "      <td>2021-02-04</td>\n",
       "      <td>2</td>\n",
       "      <td>Айдар</td>\n",
       "      <td>22</td>\n",
       "      <td>Омск</td>\n",
       "      <td>free</td>\n",
       "      <td>8</td>\n",
       "      <td>50</td>\n",
       "      <td>0</td>\n",
       "    </tr>\n",
       "    <tr>\n",
       "      <th>3</th>\n",
       "      <td>700</td>\n",
       "      <td>1205.911290</td>\n",
       "      <td>9.782872</td>\n",
       "      <td>2021-02-10</td>\n",
       "      <td>2</td>\n",
       "      <td>Айдар</td>\n",
       "      <td>22</td>\n",
       "      <td>Омск</td>\n",
       "      <td>free</td>\n",
       "      <td>8</td>\n",
       "      <td>50</td>\n",
       "      <td>0</td>\n",
       "    </tr>\n",
       "    <tr>\n",
       "      <th>4</th>\n",
       "      <td>700</td>\n",
       "      <td>3047.379435</td>\n",
       "      <td>17.427673</td>\n",
       "      <td>2021-02-14</td>\n",
       "      <td>2</td>\n",
       "      <td>Айдар</td>\n",
       "      <td>22</td>\n",
       "      <td>Омск</td>\n",
       "      <td>free</td>\n",
       "      <td>8</td>\n",
       "      <td>50</td>\n",
       "      <td>0</td>\n",
       "    </tr>\n",
       "  </tbody>\n",
       "</table>\n",
       "</div>"
      ],
      "text/plain": [
       "   user_id     distance   duration       date  month   name  age  city  \\\n",
       "0      700  2515.690719  14.944286 2021-01-02      1  Айдар   22  Омск   \n",
       "1      700   846.932642  16.234663 2021-02-01      2  Айдар   22  Омск   \n",
       "2      700  4004.434142  20.016628 2021-02-04      2  Айдар   22  Омск   \n",
       "3      700  1205.911290   9.782872 2021-02-10      2  Айдар   22  Омск   \n",
       "4      700  3047.379435  17.427673 2021-02-14      2  Айдар   22  Омск   \n",
       "\n",
       "  subscription_type  minute_price  start_ride_price  subscription_fee  \n",
       "0              free             8                50                 0  \n",
       "1              free             8                50                 0  \n",
       "2              free             8                50                 0  \n",
       "3              free             8                50                 0  \n",
       "4              free             8                50                 0  "
      ]
     },
     "execution_count": 101,
     "metadata": {},
     "output_type": "execute_result"
    }
   ],
   "source": [
    "user_total_free.head()"
   ]
  },
  {
   "cell_type": "code",
   "execution_count": 102,
   "id": "02ef77dc",
   "metadata": {},
   "outputs": [
    {
     "data": {
      "text/plain": [
       "11473"
      ]
     },
     "execution_count": 102,
     "metadata": {},
     "output_type": "execute_result"
    }
   ],
   "source": [
    "len(user_total_free)"
   ]
  },
  {
   "cell_type": "code",
   "execution_count": 103,
   "id": "bc44c229",
   "metadata": {
    "scrolled": true
   },
   "outputs": [
    {
     "data": {
      "text/plain": [
       "0"
      ]
     },
     "execution_count": 103,
     "metadata": {},
     "output_type": "execute_result"
    }
   ],
   "source": [
    "# проверяем что ничего не потеряли. Если отнять от длины исходного датафрейма суммы длин двух новых\n",
    "# датафреймов и получить при этом \"0\" - значит ничего не потеряли\n",
    "len(user_total)-(len(user_total_ultra)+len(user_total_free))"
   ]
  },
  {
   "cell_type": "markdown",
   "id": "5386a013",
   "metadata": {},
   "source": [
    "#### Визуализация информации о расстоянии и времени поездок для пользователей обеих категорий"
   ]
  },
  {
   "cell_type": "code",
   "execution_count": 104,
   "id": "9e2807cb",
   "metadata": {},
   "outputs": [
    {
     "data": {
      "text/plain": [
       "count    6500.000000\n",
       "mean       18.541985\n",
       "std         5.572048\n",
       "min         3.760353\n",
       "25%        14.524654\n",
       "50%        18.178153\n",
       "75%        21.884129\n",
       "max        40.823963\n",
       "Name: duration, dtype: float64"
      ]
     },
     "execution_count": 104,
     "metadata": {},
     "output_type": "execute_result"
    }
   ],
   "source": [
    "user_total_ultra['duration'].describe()"
   ]
  },
  {
   "cell_type": "code",
   "execution_count": 105,
   "id": "ad06d827",
   "metadata": {},
   "outputs": [
    {
     "data": {
      "text/plain": [
       "count    11473.000000\n",
       "mean        17.530771\n",
       "std          6.162609\n",
       "min          2.035632\n",
       "25%         13.085688\n",
       "50%         17.383807\n",
       "75%         21.638038\n",
       "max         34.948498\n",
       "Name: duration, dtype: float64"
      ]
     },
     "execution_count": 105,
     "metadata": {},
     "output_type": "execute_result"
    }
   ],
   "source": [
    "user_total_free['duration'].describe()"
   ]
  },
  {
   "cell_type": "code",
   "execution_count": 106,
   "id": "ee9b64e8",
   "metadata": {},
   "outputs": [
    {
     "data": {
      "image/png": "[encoded data removed]",
      "text/plain": [
       "<Figure size 640x480 with 1 Axes>"
      ]
     },
     "metadata": {},
     "output_type": "display_data"
    }
   ],
   "source": [
    "plt.hist([user_total_free['duration'], \n",
    "          user_total_ultra['duration']], \n",
    "         label=['free', 'ultra'], bins=20)\n",
    "plt.legend(loc='upper right')\n",
    "plt.title('Продолжительность времени поездок пользователей категорий free и ultra')\n",
    "plt.xlabel('продолжительность сессии (в минутах)')\n",
    "plt.ylabel('количество пользователей')\n",
    "plt.show()"
   ]
  },
  {
   "cell_type": "code",
   "execution_count": 107,
   "id": "39d6d1ca",
   "metadata": {},
   "outputs": [
    {
     "data": {
      "text/plain": [
       "count    6500.000000\n",
       "mean     3115.445388\n",
       "std       836.895330\n",
       "min       244.210438\n",
       "25%      2785.444017\n",
       "50%      3148.637229\n",
       "75%      3560.574425\n",
       "max      5699.769662\n",
       "Name: distance, dtype: float64"
      ]
     },
     "execution_count": 107,
     "metadata": {},
     "output_type": "execute_result"
    }
   ],
   "source": [
    "user_total_ultra['distance'].describe()"
   ]
  },
  {
   "cell_type": "code",
   "execution_count": 108,
   "id": "e99b5740",
   "metadata": {},
   "outputs": [
    {
     "data": {
      "text/plain": [
       "count    11473.000000\n",
       "mean      3028.374239\n",
       "std       1235.541051\n",
       "min          0.855683\n",
       "25%       2360.878149\n",
       "50%       3102.083025\n",
       "75%       3883.979311\n",
       "max       7066.003772\n",
       "Name: distance, dtype: float64"
      ]
     },
     "execution_count": 108,
     "metadata": {},
     "output_type": "execute_result"
    }
   ],
   "source": [
    "user_total_free['distance'].describe()"
   ]
  },
  {
   "cell_type": "code",
   "execution_count": 109,
   "id": "439de6ec",
   "metadata": {},
   "outputs": [
    {
     "data": {
      "image/png": "[encoded data removed]",
      "text/plain": [
       "<Figure size 640x480 with 1 Axes>"
      ]
     },
     "metadata": {},
     "output_type": "display_data"
    }
   ],
   "source": [
    "plt.hist([user_total_free['distance'], \n",
    "          user_total_ultra['distance']], \n",
    "         label=['free', 'ultra'], bins=20)\n",
    "plt.legend(loc='upper right')\n",
    "plt.title('Расстояние, которое пользователи категорий free и ultra преодолевали')\n",
    "plt.xlabel('расстояние (в метрах)')\n",
    "plt.ylabel('количество пользователей')\n",
    "plt.show()"
   ]
  },
  {
   "cell_type": "markdown",
   "id": "0360a92d",
   "metadata": {},
   "source": [
    "#### Промежуточный вывод"
   ]
  },
  {
   "cell_type": "markdown",
   "id": "58ca5289",
   "metadata": {},
   "source": [
    "1. Продолжительность времени поездок для пользователей подписок free и ultra практически одинаковая. Стоит отметить, что пользователи с подпиской free не ездят дольше 35 минут.\n",
    "2. Расстояние, которые пользователи с подписками free и ultra проезжают тоже практически одинаковые. Но пользователи с подпиской ultra не ездят дальше 5700 метров за одну поездку."
   ]
  },
  {
   "cell_type": "markdown",
   "id": "402d620f",
   "metadata": {},
   "source": [
    "### Подсчёт выручки"
   ]
  },
  {
   "cell_type": "markdown",
   "id": "b8d7adab",
   "metadata": {},
   "source": [
    "#### Поиск суммарного расстояния, количества поездок и суммарного времени для каждого пользователя"
   ]
  },
  {
   "cell_type": "code",
   "execution_count": 110,
   "id": "6f0a9ac0",
   "metadata": {},
   "outputs": [
    {
     "data": {
      "text/html": [
       "<div>\n",
       "<style scoped>\n",
       "    .dataframe tbody tr th:only-of-type {\n",
       "        vertical-align: middle;\n",
       "    }\n",
       "\n",
       "    .dataframe tbody tr th {\n",
       "        vertical-align: top;\n",
       "    }\n",
       "\n",
       "    .dataframe thead th {\n",
       "        text-align: right;\n",
       "    }\n",
       "</style>\n",
       "<table border=\"1\" class=\"dataframe\">\n",
       "  <thead>\n",
       "    <tr style=\"text-align: right;\">\n",
       "      <th></th>\n",
       "      <th>user_id</th>\n",
       "      <th>distance</th>\n",
       "      <th>duration</th>\n",
       "      <th>date</th>\n",
       "      <th>month</th>\n",
       "      <th>name</th>\n",
       "      <th>age</th>\n",
       "      <th>city</th>\n",
       "      <th>subscription_type</th>\n",
       "      <th>minute_price</th>\n",
       "      <th>start_ride_price</th>\n",
       "      <th>subscription_fee</th>\n",
       "    </tr>\n",
       "  </thead>\n",
       "  <tbody>\n",
       "    <tr>\n",
       "      <th>0</th>\n",
       "      <td>1</td>\n",
       "      <td>4409.919140</td>\n",
       "      <td>25.599769</td>\n",
       "      <td>2021-01-01</td>\n",
       "      <td>1</td>\n",
       "      <td>Кира</td>\n",
       "      <td>22</td>\n",
       "      <td>Тюмень</td>\n",
       "      <td>ultra</td>\n",
       "      <td>6</td>\n",
       "      <td>0</td>\n",
       "      <td>199</td>\n",
       "    </tr>\n",
       "    <tr>\n",
       "      <th>1</th>\n",
       "      <td>1</td>\n",
       "      <td>2617.592153</td>\n",
       "      <td>15.816871</td>\n",
       "      <td>2021-01-18</td>\n",
       "      <td>1</td>\n",
       "      <td>Кира</td>\n",
       "      <td>22</td>\n",
       "      <td>Тюмень</td>\n",
       "      <td>ultra</td>\n",
       "      <td>6</td>\n",
       "      <td>0</td>\n",
       "      <td>199</td>\n",
       "    </tr>\n",
       "    <tr>\n",
       "      <th>2</th>\n",
       "      <td>1</td>\n",
       "      <td>754.159807</td>\n",
       "      <td>6.232113</td>\n",
       "      <td>2021-04-20</td>\n",
       "      <td>4</td>\n",
       "      <td>Кира</td>\n",
       "      <td>22</td>\n",
       "      <td>Тюмень</td>\n",
       "      <td>ultra</td>\n",
       "      <td>6</td>\n",
       "      <td>0</td>\n",
       "      <td>199</td>\n",
       "    </tr>\n",
       "    <tr>\n",
       "      <th>3</th>\n",
       "      <td>1</td>\n",
       "      <td>2694.783254</td>\n",
       "      <td>18.511000</td>\n",
       "      <td>2021-08-11</td>\n",
       "      <td>8</td>\n",
       "      <td>Кира</td>\n",
       "      <td>22</td>\n",
       "      <td>Тюмень</td>\n",
       "      <td>ultra</td>\n",
       "      <td>6</td>\n",
       "      <td>0</td>\n",
       "      <td>199</td>\n",
       "    </tr>\n",
       "    <tr>\n",
       "      <th>4</th>\n",
       "      <td>1</td>\n",
       "      <td>4028.687306</td>\n",
       "      <td>26.265803</td>\n",
       "      <td>2021-08-28</td>\n",
       "      <td>8</td>\n",
       "      <td>Кира</td>\n",
       "      <td>22</td>\n",
       "      <td>Тюмень</td>\n",
       "      <td>ultra</td>\n",
       "      <td>6</td>\n",
       "      <td>0</td>\n",
       "      <td>199</td>\n",
       "    </tr>\n",
       "  </tbody>\n",
       "</table>\n",
       "</div>"
      ],
      "text/plain": [
       "   user_id     distance   duration       date  month  name  age    city  \\\n",
       "0        1  4409.919140  25.599769 2021-01-01      1  Кира   22  Тюмень   \n",
       "1        1  2617.592153  15.816871 2021-01-18      1  Кира   22  Тюмень   \n",
       "2        1   754.159807   6.232113 2021-04-20      4  Кира   22  Тюмень   \n",
       "3        1  2694.783254  18.511000 2021-08-11      8  Кира   22  Тюмень   \n",
       "4        1  4028.687306  26.265803 2021-08-28      8  Кира   22  Тюмень   \n",
       "\n",
       "  subscription_type  minute_price  start_ride_price  subscription_fee  \n",
       "0             ultra             6                 0               199  \n",
       "1             ultra             6                 0               199  \n",
       "2             ultra             6                 0               199  \n",
       "3             ultra             6                 0               199  \n",
       "4             ultra             6                 0               199  "
      ]
     },
     "execution_count": 110,
     "metadata": {},
     "output_type": "execute_result"
    }
   ],
   "source": [
    "# возьмём датафрейм из пункта 4.1\n",
    "user_total.head()"
   ]
  },
  {
   "cell_type": "code",
   "execution_count": 111,
   "id": "406f42a7",
   "metadata": {},
   "outputs": [
    {
     "data": {
      "text/plain": [
       "1534"
      ]
     },
     "execution_count": 111,
     "metadata": {},
     "output_type": "execute_result"
    }
   ],
   "source": [
    "user_total['user_id'].nunique()"
   ]
  },
  {
   "cell_type": "code",
   "execution_count": 112,
   "id": "7b1da4a5",
   "metadata": {},
   "outputs": [],
   "source": [
    "# округлим значения колонки duration до следующего целого числа и изменим формат\n",
    "# на целочисленный\n",
    "user_total['duration'] = np.ceil(user_total['duration']).astype('int')"
   ]
  },
  {
   "cell_type": "code",
   "execution_count": 113,
   "id": "24a72f9a",
   "metadata": {},
   "outputs": [
    {
     "data": {
      "text/plain": [
       "17973"
      ]
     },
     "execution_count": 113,
     "metadata": {},
     "output_type": "execute_result"
    }
   ],
   "source": [
    "len(user_total)"
   ]
  },
  {
   "cell_type": "code",
   "execution_count": 114,
   "id": "e529ad9c",
   "metadata": {},
   "outputs": [],
   "source": [
    "# выполним группировку для поиска суммарного расстояния, количества поездок и суммарного времени\n",
    "# для каждого пользователя ежемесячно.\n",
    "user_total = user_total.pivot_table(index=['user_id', 'month'],\n",
    "                               values=['distance', \n",
    "                                       'duration', \n",
    "                                       'date',\n",
    "                                       'subscription_type', \n",
    "                                       'minute_price', \n",
    "                                       'start_ride_price', \n",
    "                                       'subscription_fee'],\n",
    "                               aggfunc={'distance':'sum', \n",
    "                                        'duration':'sum', \n",
    "                                        'date':'count', \n",
    "                                        'subscription_type':'first', \n",
    "                                        'minute_price':'first', \n",
    "                                        'start_ride_price':'first', \n",
    "                                        'subscription_fee':'first'}\n",
    "                              )"
   ]
  },
  {
   "cell_type": "code",
   "execution_count": 115,
   "id": "de8be4a0",
   "metadata": {},
   "outputs": [
    {
     "data": {
      "text/html": [
       "<div>\n",
       "<style scoped>\n",
       "    .dataframe tbody tr th:only-of-type {\n",
       "        vertical-align: middle;\n",
       "    }\n",
       "\n",
       "    .dataframe tbody tr th {\n",
       "        vertical-align: top;\n",
       "    }\n",
       "\n",
       "    .dataframe thead th {\n",
       "        text-align: right;\n",
       "    }\n",
       "</style>\n",
       "<table border=\"1\" class=\"dataframe\">\n",
       "  <thead>\n",
       "    <tr style=\"text-align: right;\">\n",
       "      <th></th>\n",
       "      <th></th>\n",
       "      <th>date</th>\n",
       "      <th>distance</th>\n",
       "      <th>duration</th>\n",
       "      <th>minute_price</th>\n",
       "      <th>start_ride_price</th>\n",
       "      <th>subscription_fee</th>\n",
       "      <th>subscription_type</th>\n",
       "    </tr>\n",
       "    <tr>\n",
       "      <th>user_id</th>\n",
       "      <th>month</th>\n",
       "      <th></th>\n",
       "      <th></th>\n",
       "      <th></th>\n",
       "      <th></th>\n",
       "      <th></th>\n",
       "      <th></th>\n",
       "      <th></th>\n",
       "    </tr>\n",
       "  </thead>\n",
       "  <tbody>\n",
       "    <tr>\n",
       "      <th rowspan=\"5\" valign=\"top\">1</th>\n",
       "      <th>1</th>\n",
       "      <td>2</td>\n",
       "      <td>7027.511294</td>\n",
       "      <td>42</td>\n",
       "      <td>6</td>\n",
       "      <td>0</td>\n",
       "      <td>199</td>\n",
       "      <td>ultra</td>\n",
       "    </tr>\n",
       "    <tr>\n",
       "      <th>4</th>\n",
       "      <td>1</td>\n",
       "      <td>754.159807</td>\n",
       "      <td>7</td>\n",
       "      <td>6</td>\n",
       "      <td>0</td>\n",
       "      <td>199</td>\n",
       "      <td>ultra</td>\n",
       "    </tr>\n",
       "    <tr>\n",
       "      <th>8</th>\n",
       "      <td>2</td>\n",
       "      <td>6723.470560</td>\n",
       "      <td>46</td>\n",
       "      <td>6</td>\n",
       "      <td>0</td>\n",
       "      <td>199</td>\n",
       "      <td>ultra</td>\n",
       "    </tr>\n",
       "    <tr>\n",
       "      <th>10</th>\n",
       "      <td>2</td>\n",
       "      <td>5809.911100</td>\n",
       "      <td>32</td>\n",
       "      <td>6</td>\n",
       "      <td>0</td>\n",
       "      <td>199</td>\n",
       "      <td>ultra</td>\n",
       "    </tr>\n",
       "    <tr>\n",
       "      <th>11</th>\n",
       "      <td>3</td>\n",
       "      <td>7003.499363</td>\n",
       "      <td>56</td>\n",
       "      <td>6</td>\n",
       "      <td>0</td>\n",
       "      <td>199</td>\n",
       "      <td>ultra</td>\n",
       "    </tr>\n",
       "  </tbody>\n",
       "</table>\n",
       "</div>"
      ],
      "text/plain": [
       "               date     distance  duration  minute_price  start_ride_price  \\\n",
       "user_id month                                                                \n",
       "1       1         2  7027.511294        42             6                 0   \n",
       "        4         1   754.159807         7             6                 0   \n",
       "        8         2  6723.470560        46             6                 0   \n",
       "        10        2  5809.911100        32             6                 0   \n",
       "        11        3  7003.499363        56             6                 0   \n",
       "\n",
       "               subscription_fee subscription_type  \n",
       "user_id month                                      \n",
       "1       1                   199             ultra  \n",
       "        4                   199             ultra  \n",
       "        8                   199             ultra  \n",
       "        10                  199             ultra  \n",
       "        11                  199             ultra  "
      ]
     },
     "execution_count": 115,
     "metadata": {},
     "output_type": "execute_result"
    }
   ],
   "source": [
    "user_total.head()"
   ]
  },
  {
   "cell_type": "code",
   "execution_count": 134,
   "id": "eaa1fae9",
   "metadata": {},
   "outputs": [],
   "source": [
    "# изменим название второго столбца user_id на number of trips\n",
    "user_total = user_total.rename(columns={'date':'number_of_trips'}).reset_index()"
   ]
  },
  {
   "cell_type": "code",
   "execution_count": 135,
   "id": "7526e7fc",
   "metadata": {},
   "outputs": [
    {
     "data": {
      "text/html": [
       "<div>\n",
       "<style scoped>\n",
       "    .dataframe tbody tr th:only-of-type {\n",
       "        vertical-align: middle;\n",
       "    }\n",
       "\n",
       "    .dataframe tbody tr th {\n",
       "        vertical-align: top;\n",
       "    }\n",
       "\n",
       "    .dataframe thead th {\n",
       "        text-align: right;\n",
       "    }\n",
       "</style>\n",
       "<table border=\"1\" class=\"dataframe\">\n",
       "  <thead>\n",
       "    <tr style=\"text-align: right;\">\n",
       "      <th></th>\n",
       "      <th>index</th>\n",
       "      <th>user_id</th>\n",
       "      <th>month</th>\n",
       "      <th>number_of_trips</th>\n",
       "      <th>distance</th>\n",
       "      <th>duration</th>\n",
       "      <th>minute_price</th>\n",
       "      <th>start_ride_price</th>\n",
       "      <th>subscription_fee</th>\n",
       "      <th>subscription_type</th>\n",
       "      <th>revenue</th>\n",
       "    </tr>\n",
       "  </thead>\n",
       "  <tbody>\n",
       "    <tr>\n",
       "      <th>0</th>\n",
       "      <td>0</td>\n",
       "      <td>1</td>\n",
       "      <td>1</td>\n",
       "      <td>2</td>\n",
       "      <td>7027.511294</td>\n",
       "      <td>42</td>\n",
       "      <td>6</td>\n",
       "      <td>0</td>\n",
       "      <td>199</td>\n",
       "      <td>ultra</td>\n",
       "      <td>451</td>\n",
       "    </tr>\n",
       "    <tr>\n",
       "      <th>1</th>\n",
       "      <td>1</td>\n",
       "      <td>1</td>\n",
       "      <td>4</td>\n",
       "      <td>1</td>\n",
       "      <td>754.159807</td>\n",
       "      <td>7</td>\n",
       "      <td>6</td>\n",
       "      <td>0</td>\n",
       "      <td>199</td>\n",
       "      <td>ultra</td>\n",
       "      <td>241</td>\n",
       "    </tr>\n",
       "    <tr>\n",
       "      <th>2</th>\n",
       "      <td>2</td>\n",
       "      <td>1</td>\n",
       "      <td>8</td>\n",
       "      <td>2</td>\n",
       "      <td>6723.470560</td>\n",
       "      <td>46</td>\n",
       "      <td>6</td>\n",
       "      <td>0</td>\n",
       "      <td>199</td>\n",
       "      <td>ultra</td>\n",
       "      <td>475</td>\n",
       "    </tr>\n",
       "    <tr>\n",
       "      <th>3</th>\n",
       "      <td>3</td>\n",
       "      <td>1</td>\n",
       "      <td>10</td>\n",
       "      <td>2</td>\n",
       "      <td>5809.911100</td>\n",
       "      <td>32</td>\n",
       "      <td>6</td>\n",
       "      <td>0</td>\n",
       "      <td>199</td>\n",
       "      <td>ultra</td>\n",
       "      <td>391</td>\n",
       "    </tr>\n",
       "    <tr>\n",
       "      <th>4</th>\n",
       "      <td>4</td>\n",
       "      <td>1</td>\n",
       "      <td>11</td>\n",
       "      <td>3</td>\n",
       "      <td>7003.499363</td>\n",
       "      <td>56</td>\n",
       "      <td>6</td>\n",
       "      <td>0</td>\n",
       "      <td>199</td>\n",
       "      <td>ultra</td>\n",
       "      <td>535</td>\n",
       "    </tr>\n",
       "  </tbody>\n",
       "</table>\n",
       "</div>"
      ],
      "text/plain": [
       "   index  user_id  month  number_of_trips     distance  duration  \\\n",
       "0      0        1      1                2  7027.511294        42   \n",
       "1      1        1      4                1   754.159807         7   \n",
       "2      2        1      8                2  6723.470560        46   \n",
       "3      3        1     10                2  5809.911100        32   \n",
       "4      4        1     11                3  7003.499363        56   \n",
       "\n",
       "   minute_price  start_ride_price  subscription_fee subscription_type  revenue  \n",
       "0             6                 0               199             ultra      451  \n",
       "1             6                 0               199             ultra      241  \n",
       "2             6                 0               199             ultra      475  \n",
       "3             6                 0               199             ultra      391  \n",
       "4             6                 0               199             ultra      535  "
      ]
     },
     "execution_count": 135,
     "metadata": {},
     "output_type": "execute_result"
    }
   ],
   "source": [
    "user_total.head()"
   ]
  },
  {
   "cell_type": "markdown",
   "id": "84bfd624",
   "metadata": {},
   "source": [
    "#### Подсчет месячной выручки для каждого пользователя"
   ]
  },
  {
   "cell_type": "code",
   "execution_count": 122,
   "id": "a848c0e7",
   "metadata": {},
   "outputs": [],
   "source": [
    "user_total['revenue'] = (user_total['start_ride_price']*user_total['number_of_trips'] + \n",
    "                user_total['minute_price']*user_total['duration'] + \n",
    "                user_total['subscription_fee'])"
   ]
  },
  {
   "cell_type": "markdown",
   "id": "e8ee82fc",
   "metadata": {},
   "source": [
    "Ранее в п.2 я писал:  \n",
    "Скорость меньше или равно в 4.189495 км/ч кажется подозрительной. Пока не будем удалять данные строки, посмотрим приносили ли эти люди компании выручку."
   ]
  },
  {
   "cell_type": "code",
   "execution_count": 125,
   "id": "de6f8df1",
   "metadata": {},
   "outputs": [
    {
     "data": {
      "text/plain": [
       "35778"
      ]
     },
     "execution_count": 125,
     "metadata": {},
     "output_type": "execute_result"
    }
   ],
   "source": [
    "user_total.loc[user_total['distance'] < 620.422888, 'revenue'].sum()"
   ]
  },
  {
   "cell_type": "markdown",
   "id": "f115bc0a",
   "metadata": {},
   "source": [
    "Как оказалось выручку эти люди приносят, поэтому было верным решением не удалять эти строки."
   ]
  },
  {
   "cell_type": "markdown",
   "id": "41545ac0",
   "metadata": {},
   "source": [
    "### Проверка гипотез"
   ]
  },
  {
   "cell_type": "markdown",
   "id": "22d1816d",
   "metadata": {},
   "source": [
    "#### Проверка гипотезы по времени поездки"
   ]
  },
  {
   "cell_type": "markdown",
   "id": "e2d1e048",
   "metadata": {},
   "source": [
    "Важно понять, тратят ли пользователи с подпиской больше времени на поездки? Если да, то пользователи с подпиской могут быть «выгоднее» для компании."
   ]
  },
  {
   "cell_type": "markdown",
   "id": "c824545a",
   "metadata": {},
   "source": [
    "Сформулируем гипотезы следующим образом:  \n",
    "\n",
    "H0 - пользователи самокатов с подпиской и без подписки тратят одинаковое количество времени на поездки.\n",
    "\n",
    "H1 - пользователи самокатов с подпиской тратят больше времени на поездки по сравнению с пользователями без подписки."
   ]
  },
  {
   "cell_type": "code",
   "execution_count": 126,
   "id": "3f9bbd1b",
   "metadata": {},
   "outputs": [
    {
     "data": {
      "text/html": [
       "<div>\n",
       "<style scoped>\n",
       "    .dataframe tbody tr th:only-of-type {\n",
       "        vertical-align: middle;\n",
       "    }\n",
       "\n",
       "    .dataframe tbody tr th {\n",
       "        vertical-align: top;\n",
       "    }\n",
       "\n",
       "    .dataframe thead th {\n",
       "        text-align: right;\n",
       "    }\n",
       "</style>\n",
       "<table border=\"1\" class=\"dataframe\">\n",
       "  <thead>\n",
       "    <tr style=\"text-align: right;\">\n",
       "      <th></th>\n",
       "      <th>user_id</th>\n",
       "      <th>distance</th>\n",
       "      <th>duration</th>\n",
       "      <th>date</th>\n",
       "      <th>month</th>\n",
       "      <th>name</th>\n",
       "      <th>age</th>\n",
       "      <th>city</th>\n",
       "      <th>subscription_type</th>\n",
       "      <th>minute_price</th>\n",
       "      <th>start_ride_price</th>\n",
       "      <th>subscription_fee</th>\n",
       "    </tr>\n",
       "  </thead>\n",
       "  <tbody>\n",
       "    <tr>\n",
       "      <th>0</th>\n",
       "      <td>1</td>\n",
       "      <td>4409.919140</td>\n",
       "      <td>25.599769</td>\n",
       "      <td>2021-01-01</td>\n",
       "      <td>1</td>\n",
       "      <td>Кира</td>\n",
       "      <td>22</td>\n",
       "      <td>Тюмень</td>\n",
       "      <td>ultra</td>\n",
       "      <td>6</td>\n",
       "      <td>0</td>\n",
       "      <td>199</td>\n",
       "    </tr>\n",
       "    <tr>\n",
       "      <th>1</th>\n",
       "      <td>1</td>\n",
       "      <td>2617.592153</td>\n",
       "      <td>15.816871</td>\n",
       "      <td>2021-01-18</td>\n",
       "      <td>1</td>\n",
       "      <td>Кира</td>\n",
       "      <td>22</td>\n",
       "      <td>Тюмень</td>\n",
       "      <td>ultra</td>\n",
       "      <td>6</td>\n",
       "      <td>0</td>\n",
       "      <td>199</td>\n",
       "    </tr>\n",
       "    <tr>\n",
       "      <th>2</th>\n",
       "      <td>1</td>\n",
       "      <td>754.159807</td>\n",
       "      <td>6.232113</td>\n",
       "      <td>2021-04-20</td>\n",
       "      <td>4</td>\n",
       "      <td>Кира</td>\n",
       "      <td>22</td>\n",
       "      <td>Тюмень</td>\n",
       "      <td>ultra</td>\n",
       "      <td>6</td>\n",
       "      <td>0</td>\n",
       "      <td>199</td>\n",
       "    </tr>\n",
       "    <tr>\n",
       "      <th>3</th>\n",
       "      <td>1</td>\n",
       "      <td>2694.783254</td>\n",
       "      <td>18.511000</td>\n",
       "      <td>2021-08-11</td>\n",
       "      <td>8</td>\n",
       "      <td>Кира</td>\n",
       "      <td>22</td>\n",
       "      <td>Тюмень</td>\n",
       "      <td>ultra</td>\n",
       "      <td>6</td>\n",
       "      <td>0</td>\n",
       "      <td>199</td>\n",
       "    </tr>\n",
       "    <tr>\n",
       "      <th>4</th>\n",
       "      <td>1</td>\n",
       "      <td>4028.687306</td>\n",
       "      <td>26.265803</td>\n",
       "      <td>2021-08-28</td>\n",
       "      <td>8</td>\n",
       "      <td>Кира</td>\n",
       "      <td>22</td>\n",
       "      <td>Тюмень</td>\n",
       "      <td>ultra</td>\n",
       "      <td>6</td>\n",
       "      <td>0</td>\n",
       "      <td>199</td>\n",
       "    </tr>\n",
       "  </tbody>\n",
       "</table>\n",
       "</div>"
      ],
      "text/plain": [
       "   user_id     distance   duration       date  month  name  age    city  \\\n",
       "0        1  4409.919140  25.599769 2021-01-01      1  Кира   22  Тюмень   \n",
       "1        1  2617.592153  15.816871 2021-01-18      1  Кира   22  Тюмень   \n",
       "2        1   754.159807   6.232113 2021-04-20      4  Кира   22  Тюмень   \n",
       "3        1  2694.783254  18.511000 2021-08-11      8  Кира   22  Тюмень   \n",
       "4        1  4028.687306  26.265803 2021-08-28      8  Кира   22  Тюмень   \n",
       "\n",
       "  subscription_type  minute_price  start_ride_price  subscription_fee  \n",
       "0             ultra             6                 0               199  \n",
       "1             ultra             6                 0               199  \n",
       "2             ultra             6                 0               199  \n",
       "3             ultra             6                 0               199  \n",
       "4             ultra             6                 0               199  "
      ]
     },
     "execution_count": 126,
     "metadata": {},
     "output_type": "execute_result"
    }
   ],
   "source": [
    "# берём данные подписки ultra\n",
    "user_total_ultra.head()"
   ]
  },
  {
   "cell_type": "code",
   "execution_count": 127,
   "id": "692e5426",
   "metadata": {},
   "outputs": [
    {
     "data": {
      "text/html": [
       "<div>\n",
       "<style scoped>\n",
       "    .dataframe tbody tr th:only-of-type {\n",
       "        vertical-align: middle;\n",
       "    }\n",
       "\n",
       "    .dataframe tbody tr th {\n",
       "        vertical-align: top;\n",
       "    }\n",
       "\n",
       "    .dataframe thead th {\n",
       "        text-align: right;\n",
       "    }\n",
       "</style>\n",
       "<table border=\"1\" class=\"dataframe\">\n",
       "  <thead>\n",
       "    <tr style=\"text-align: right;\">\n",
       "      <th></th>\n",
       "      <th>user_id</th>\n",
       "      <th>distance</th>\n",
       "      <th>duration</th>\n",
       "      <th>date</th>\n",
       "      <th>month</th>\n",
       "      <th>name</th>\n",
       "      <th>age</th>\n",
       "      <th>city</th>\n",
       "      <th>subscription_type</th>\n",
       "      <th>minute_price</th>\n",
       "      <th>start_ride_price</th>\n",
       "      <th>subscription_fee</th>\n",
       "    </tr>\n",
       "  </thead>\n",
       "  <tbody>\n",
       "    <tr>\n",
       "      <th>0</th>\n",
       "      <td>700</td>\n",
       "      <td>2515.690719</td>\n",
       "      <td>14.944286</td>\n",
       "      <td>2021-01-02</td>\n",
       "      <td>1</td>\n",
       "      <td>Айдар</td>\n",
       "      <td>22</td>\n",
       "      <td>Омск</td>\n",
       "      <td>free</td>\n",
       "      <td>8</td>\n",
       "      <td>50</td>\n",
       "      <td>0</td>\n",
       "    </tr>\n",
       "    <tr>\n",
       "      <th>1</th>\n",
       "      <td>700</td>\n",
       "      <td>846.932642</td>\n",
       "      <td>16.234663</td>\n",
       "      <td>2021-02-01</td>\n",
       "      <td>2</td>\n",
       "      <td>Айдар</td>\n",
       "      <td>22</td>\n",
       "      <td>Омск</td>\n",
       "      <td>free</td>\n",
       "      <td>8</td>\n",
       "      <td>50</td>\n",
       "      <td>0</td>\n",
       "    </tr>\n",
       "    <tr>\n",
       "      <th>2</th>\n",
       "      <td>700</td>\n",
       "      <td>4004.434142</td>\n",
       "      <td>20.016628</td>\n",
       "      <td>2021-02-04</td>\n",
       "      <td>2</td>\n",
       "      <td>Айдар</td>\n",
       "      <td>22</td>\n",
       "      <td>Омск</td>\n",
       "      <td>free</td>\n",
       "      <td>8</td>\n",
       "      <td>50</td>\n",
       "      <td>0</td>\n",
       "    </tr>\n",
       "    <tr>\n",
       "      <th>3</th>\n",
       "      <td>700</td>\n",
       "      <td>1205.911290</td>\n",
       "      <td>9.782872</td>\n",
       "      <td>2021-02-10</td>\n",
       "      <td>2</td>\n",
       "      <td>Айдар</td>\n",
       "      <td>22</td>\n",
       "      <td>Омск</td>\n",
       "      <td>free</td>\n",
       "      <td>8</td>\n",
       "      <td>50</td>\n",
       "      <td>0</td>\n",
       "    </tr>\n",
       "    <tr>\n",
       "      <th>4</th>\n",
       "      <td>700</td>\n",
       "      <td>3047.379435</td>\n",
       "      <td>17.427673</td>\n",
       "      <td>2021-02-14</td>\n",
       "      <td>2</td>\n",
       "      <td>Айдар</td>\n",
       "      <td>22</td>\n",
       "      <td>Омск</td>\n",
       "      <td>free</td>\n",
       "      <td>8</td>\n",
       "      <td>50</td>\n",
       "      <td>0</td>\n",
       "    </tr>\n",
       "  </tbody>\n",
       "</table>\n",
       "</div>"
      ],
      "text/plain": [
       "   user_id     distance   duration       date  month   name  age  city  \\\n",
       "0      700  2515.690719  14.944286 2021-01-02      1  Айдар   22  Омск   \n",
       "1      700   846.932642  16.234663 2021-02-01      2  Айдар   22  Омск   \n",
       "2      700  4004.434142  20.016628 2021-02-04      2  Айдар   22  Омск   \n",
       "3      700  1205.911290   9.782872 2021-02-10      2  Айдар   22  Омск   \n",
       "4      700  3047.379435  17.427673 2021-02-14      2  Айдар   22  Омск   \n",
       "\n",
       "  subscription_type  minute_price  start_ride_price  subscription_fee  \n",
       "0              free             8                50                 0  \n",
       "1              free             8                50                 0  \n",
       "2              free             8                50                 0  \n",
       "3              free             8                50                 0  \n",
       "4              free             8                50                 0  "
      ]
     },
     "execution_count": 127,
     "metadata": {},
     "output_type": "execute_result"
    }
   ],
   "source": [
    "# берём данные подписки free\n",
    "user_total_free.head()"
   ]
  },
  {
   "cell_type": "code",
   "execution_count": 128,
   "id": "d0910b9b",
   "metadata": {
    "scrolled": true
   },
   "outputs": [
    {
     "name": "stdout",
     "output_type": "stream",
     "text": [
      "p-значение: 4.704468074453899e-28\n",
      "Отвергаем нулевую гипотезу\n"
     ]
    }
   ],
   "source": [
    "alpha = 0.05\n",
    "results = st.ttest_ind(user_total_ultra['duration'], \n",
    "                       user_total_free['duration'], \n",
    "                       alternative='greater')\n",
    "\n",
    "print('p-значение:', results.pvalue)\n",
    "\n",
    "if results.pvalue < alpha:\n",
    "    print('Отвергаем нулевую гипотезу')\n",
    "else:\n",
    "    print('Не получилось отвергнуть нулевую гипотезу')"
   ]
  },
  {
   "cell_type": "markdown",
   "id": "2a96d812",
   "metadata": {},
   "source": [
    "###### Промежуточный вывод  \n",
    "Полученное значение p-value говорит о том, что вероятность встреить наблюдаемое значение при верной нулевой гипотезе крайне низкая, поэтому нулевую гипотезу отвергаем в пользу альтернативной - пользователи самокатов с подпиской тратят больше времени на поездки по сравнению с пользователями без подписки."
   ]
  },
  {
   "cell_type": "markdown",
   "id": "c3ac0c37",
   "metadata": {},
   "source": [
    "#### Проверка гипотезы одной поездки в 3130 метров"
   ]
  },
  {
   "cell_type": "markdown",
   "id": "9c6e8e95",
   "metadata": {},
   "source": [
    "Расстояние одной поездки в 3130 метров — оптимальное с точки зрения износа самоката. "
   ]
  },
  {
   "cell_type": "markdown",
   "id": "45ae4081",
   "metadata": {},
   "source": [
    "Сформулируем гипотезы следующим образом:  \n",
    "\n",
    "H0 - среднее расстояние, которое проезжают пользователи с подпиской за одну поездку равняется 3130 метров.  \n",
    "\n",
    "H1 - среднее расстояние пользователей с подпиской больше 3130 метров за одну поездку."
   ]
  },
  {
   "cell_type": "code",
   "execution_count": 129,
   "id": "65bde7ba",
   "metadata": {},
   "outputs": [
    {
     "name": "stdout",
     "output_type": "stream",
     "text": [
      "p-значение: 0.9195368847849785\n",
      "Не получилось отвергнуть нулевую гипотезу\n"
     ]
    }
   ],
   "source": [
    "average_distance = 3130\n",
    "alpha = 0.05\n",
    "results = st.ttest_1samp(\n",
    "    user_total_ultra['distance'], \n",
    "    average_distance, \n",
    "    alternative='greater')\n",
    "\n",
    "print('p-значение:', results.pvalue)\n",
    "\n",
    "if results.pvalue < alpha:\n",
    "    print('Отвергаем нулевую гипотезу')\n",
    "else:\n",
    "    print('Не получилось отвергнуть нулевую гипотезу')"
   ]
  },
  {
   "cell_type": "markdown",
   "id": "c1dfbfbf",
   "metadata": {},
   "source": [
    "###### Промежуточный вывод  \n",
    "Полученное значение p-value равняется 92%, а значит высока вероятность при верной нулевой гипотезе получить наблюдаемое значение - среднее расстояние, которое проезжают пользователи с подпиской за одну поездку в 3130 метров (оптимальное с точки зрения износа самоката)."
   ]
  },
  {
   "cell_type": "markdown",
   "id": "d0182b20",
   "metadata": {},
   "source": [
    "<div class=\"alert alert-success\" style=\"border-radius: 15px; box-shadow: 4px 4px 4px; border: 1px solid \">\n",
    "<h2> Комментарий ревьюера v_2: <a class=\"tocSkip\"> </h2>\n",
    "    \n",
    "✅ Нулевая гипотеза не была отвергнута, есть основания утверждать, что подписчики проезжают расстояние в пределах оптимального"
   ]
  },
  {
   "cell_type": "markdown",
   "id": "4efadd29",
   "metadata": {},
   "source": [
    "<div class=\"alert alert-info\"  style=\"border-radius: 15px; box-shadow: 4px 4px 4px; border: 1px solid \">\n",
    "    \n",
    "<h2>Комментарий студента v_2: <a class=\"tocSkip\"> </h2>\n",
    "\n",
    "🤝 "
   ]
  },
  {
   "cell_type": "markdown",
   "id": "ac30c2be",
   "metadata": {},
   "source": [
    "#### Проверка гипотезы помесячной выручки среди пользователей с подпиской и без"
   ]
  },
  {
   "cell_type": "markdown",
   "id": "1d2ad21b",
   "metadata": {},
   "source": [
    "СФормулируем гипотезы следующим образом:  \n",
    "\n",
    "Н0 - помесячная выручка одинакова от пользователей с подпиской и без подписки;\n",
    "\n",
    "Н1 - помесячная выручка выше от пользователей с подпиской, чем выручка от пользователей без подписки."
   ]
  },
  {
   "cell_type": "markdown",
   "id": "26e134c2",
   "metadata": {},
   "source": [
    "<div class=\"alert alert-success\" style=\"border-radius: 15px; box-shadow: 4px 4px 4px; border: 1px solid \">\n",
    "<h2> Комментарий ревьюера v_1: <a class=\"tocSkip\"> </h2>\n",
    "    \n",
    "✅ Верно"
   ]
  },
  {
   "cell_type": "markdown",
   "id": "29d4c797",
   "metadata": {},
   "source": [
    "<div class=\"alert alert-info\"  style=\"border-radius: 15px; box-shadow: 4px 4px 4px; border: 1px solid \">\n",
    "    \n",
    "<h2>Комментарий студента v_1: <a class=\"tocSkip\"> </h2>\n",
    "\n",
    "🤝 "
   ]
  },
  {
   "cell_type": "code",
   "execution_count": 130,
   "id": "8650b85b",
   "metadata": {},
   "outputs": [
    {
     "data": {
      "text/html": [
       "<div>\n",
       "<style scoped>\n",
       "    .dataframe tbody tr th:only-of-type {\n",
       "        vertical-align: middle;\n",
       "    }\n",
       "\n",
       "    .dataframe tbody tr th {\n",
       "        vertical-align: top;\n",
       "    }\n",
       "\n",
       "    .dataframe thead th {\n",
       "        text-align: right;\n",
       "    }\n",
       "</style>\n",
       "<table border=\"1\" class=\"dataframe\">\n",
       "  <thead>\n",
       "    <tr style=\"text-align: right;\">\n",
       "      <th></th>\n",
       "      <th>user_id</th>\n",
       "      <th>month</th>\n",
       "      <th>number_of_trips</th>\n",
       "      <th>distance</th>\n",
       "      <th>duration</th>\n",
       "      <th>minute_price</th>\n",
       "      <th>start_ride_price</th>\n",
       "      <th>subscription_fee</th>\n",
       "      <th>subscription_type</th>\n",
       "      <th>revenue</th>\n",
       "    </tr>\n",
       "  </thead>\n",
       "  <tbody>\n",
       "    <tr>\n",
       "      <th>0</th>\n",
       "      <td>1</td>\n",
       "      <td>1</td>\n",
       "      <td>2</td>\n",
       "      <td>7027.511294</td>\n",
       "      <td>42</td>\n",
       "      <td>6</td>\n",
       "      <td>0</td>\n",
       "      <td>199</td>\n",
       "      <td>ultra</td>\n",
       "      <td>451</td>\n",
       "    </tr>\n",
       "    <tr>\n",
       "      <th>1</th>\n",
       "      <td>1</td>\n",
       "      <td>4</td>\n",
       "      <td>1</td>\n",
       "      <td>754.159807</td>\n",
       "      <td>7</td>\n",
       "      <td>6</td>\n",
       "      <td>0</td>\n",
       "      <td>199</td>\n",
       "      <td>ultra</td>\n",
       "      <td>241</td>\n",
       "    </tr>\n",
       "    <tr>\n",
       "      <th>2</th>\n",
       "      <td>1</td>\n",
       "      <td>8</td>\n",
       "      <td>2</td>\n",
       "      <td>6723.470560</td>\n",
       "      <td>46</td>\n",
       "      <td>6</td>\n",
       "      <td>0</td>\n",
       "      <td>199</td>\n",
       "      <td>ultra</td>\n",
       "      <td>475</td>\n",
       "    </tr>\n",
       "    <tr>\n",
       "      <th>3</th>\n",
       "      <td>1</td>\n",
       "      <td>10</td>\n",
       "      <td>2</td>\n",
       "      <td>5809.911100</td>\n",
       "      <td>32</td>\n",
       "      <td>6</td>\n",
       "      <td>0</td>\n",
       "      <td>199</td>\n",
       "      <td>ultra</td>\n",
       "      <td>391</td>\n",
       "    </tr>\n",
       "    <tr>\n",
       "      <th>4</th>\n",
       "      <td>1</td>\n",
       "      <td>11</td>\n",
       "      <td>3</td>\n",
       "      <td>7003.499363</td>\n",
       "      <td>56</td>\n",
       "      <td>6</td>\n",
       "      <td>0</td>\n",
       "      <td>199</td>\n",
       "      <td>ultra</td>\n",
       "      <td>535</td>\n",
       "    </tr>\n",
       "  </tbody>\n",
       "</table>\n",
       "</div>"
      ],
      "text/plain": [
       "   user_id  month  number_of_trips     distance  duration  minute_price  \\\n",
       "0        1      1                2  7027.511294        42             6   \n",
       "1        1      4                1   754.159807         7             6   \n",
       "2        1      8                2  6723.470560        46             6   \n",
       "3        1     10                2  5809.911100        32             6   \n",
       "4        1     11                3  7003.499363        56             6   \n",
       "\n",
       "   start_ride_price  subscription_fee subscription_type  revenue  \n",
       "0                 0               199             ultra      451  \n",
       "1                 0               199             ultra      241  \n",
       "2                 0               199             ultra      475  \n",
       "3                 0               199             ultra      391  \n",
       "4                 0               199             ultra      535  "
      ]
     },
     "execution_count": 130,
     "metadata": {},
     "output_type": "execute_result"
    }
   ],
   "source": [
    "user_total.head()"
   ]
  },
  {
   "cell_type": "code",
   "execution_count": 131,
   "id": "4ae820db",
   "metadata": {},
   "outputs": [],
   "source": [
    "# делаем срез данных для подписки ultra\n",
    "t_revenue_ultra = user_total.query('subscription_type == \"ultra\"')"
   ]
  },
  {
   "cell_type": "code",
   "execution_count": 132,
   "id": "cda45726",
   "metadata": {},
   "outputs": [],
   "source": [
    "# делаем срез данных для подписки free\n",
    "t_revenue_free = user_total.query('subscription_type == \"free\"')"
   ]
  },
  {
   "cell_type": "code",
   "execution_count": 133,
   "id": "f5377a7e",
   "metadata": {},
   "outputs": [
    {
     "name": "stdout",
     "output_type": "stream",
     "text": [
      "p-значение: 2.0314113674863288e-30\n",
      "Отвергаем нулевую гипотезу\n"
     ]
    }
   ],
   "source": [
    "alpha = 0.05\n",
    "results = st.ttest_ind(\n",
    "    t_revenue_ultra['revenue'], \n",
    "    t_revenue_free['revenue'], \n",
    "    alternative='greater')\n",
    "\n",
    "print('p-значение:', results.pvalue)\n",
    "\n",
    "if results.pvalue < alpha:\n",
    "    print('Отвергаем нулевую гипотезу')\n",
    "else:\n",
    "    print('Не получилось отвергнуть нулевую гипотезу')"
   ]
  },
  {
   "cell_type": "markdown",
   "id": "3d38d246",
   "metadata": {},
   "source": [
    "###### Промежуточный вывод  \n",
    "Полученное значение p-value слишком маленькое и с отрицательным знаком, а значит низкая вероятность при верной нулевой гипотезе получить наблюдаемое значение, поэтому выбираем альтернативную гипотезу - помесячная выручка выше от пользователей с подпиской, чем выручка от пользователей без подписки."
   ]
  },
  {
   "cell_type": "markdown",
   "id": "59c05bcc",
   "metadata": {},
   "source": [
    "### Общий вывод.  \n",
    "По данным:  \n",
    "1. В данных присутствуют строки-дубликаты - нужно передать эту информацию техподдержке для проверки корректности записи данных;\n",
    "\n",
    "\n",
    "По пользователям:  \n",
    "1. Пятигорск, Екатеринбург и Ростов-на-Дону - ТОП3 города в которых больше встречаемость пользователей самокатов (с подпиской и без подписки).\n",
    "2. Больше всего пользователей с подпиской free. С подпиской free - 54%, против 46% подписки ultra.\n",
    "3. Средний возраст всех пользователей - 25 лет.\n",
    "4. Наиболее часто пользователи совершают поездки на самокатах на расстояние в 3000 метров.\n",
    "5. Средняя продолжительность времени аренды составляет 18 минут.\n",
    "\n",
    "Важно:  \n",
    "1. Пользователи самокатов с подпиской ultra тратят больше времени на поездки по сравнению с пользователями без подписки (free);\n",
    "2. Помесячная выручка выше от пользователей с ultra, чем выручка от пользователей с подпиской free;\n",
    "3. Среднее расстояние, которое проезжают пользователи с подпиской ultra за одну поездку равняется 3130 метров - оптимальное с точки зрения износа самоката.\n",
    "\n",
    "Резюмирование:  \n",
    "Пользователи самокатов с **подпиской ultra** являются более выгодными для сервиса, так как приносят больше выручки, при этом проезжают оптимальное расстояние с точки зрения износа самоката и тратят больше времени на поездки по сравнению с пользователями без подписки (free)."
   ]
  }
 ],
 "metadata": {
  "ExecuteTimeLog": [
   {
    "duration": 1187,
    "start_time": "2023-11-29T14:12:42.096Z"
   },
   {
    "duration": 235,
    "start_time": "2023-11-29T14:12:43.285Z"
   },
   {
    "duration": 13,
    "start_time": "2023-11-29T14:12:43.522Z"
   },
   {
    "duration": 12,
    "start_time": "2023-11-29T14:12:43.536Z"
   },
   {
    "duration": 304,
    "start_time": "2023-11-29T14:12:43.550Z"
   },
   {
    "duration": 10,
    "start_time": "2023-11-29T14:12:43.855Z"
   },
   {
    "duration": 15,
    "start_time": "2023-11-29T14:12:43.867Z"
   },
   {
    "duration": 413,
    "start_time": "2023-11-29T14:12:43.884Z"
   },
   {
    "duration": 7,
    "start_time": "2023-11-29T14:12:44.299Z"
   },
   {
    "duration": 12,
    "start_time": "2023-11-29T14:12:44.307Z"
   },
   {
    "duration": 15,
    "start_time": "2023-11-29T14:12:44.320Z"
   },
   {
    "duration": 25,
    "start_time": "2023-11-29T14:12:44.337Z"
   },
   {
    "duration": 11,
    "start_time": "2023-11-29T14:12:44.363Z"
   },
   {
    "duration": 6,
    "start_time": "2023-11-29T14:12:44.377Z"
   },
   {
    "duration": 9,
    "start_time": "2023-11-29T14:12:44.384Z"
   },
   {
    "duration": 15,
    "start_time": "2023-11-29T14:12:44.395Z"
   },
   {
    "duration": 153,
    "start_time": "2023-11-29T14:12:44.412Z"
   },
   {
    "duration": 12,
    "start_time": "2023-11-29T14:12:44.567Z"
   },
   {
    "duration": 8,
    "start_time": "2023-11-29T14:12:44.581Z"
   },
   {
    "duration": 151,
    "start_time": "2023-11-29T14:12:44.590Z"
   },
   {
    "duration": 130,
    "start_time": "2023-11-29T14:12:44.743Z"
   },
   {
    "duration": 142,
    "start_time": "2023-11-29T14:12:44.875Z"
   },
   {
    "duration": 9,
    "start_time": "2023-11-29T14:12:45.019Z"
   },
   {
    "duration": 24,
    "start_time": "2023-11-29T14:12:45.030Z"
   },
   {
    "duration": 22,
    "start_time": "2023-11-29T14:12:45.056Z"
   },
   {
    "duration": 18,
    "start_time": "2023-11-29T14:12:45.080Z"
   },
   {
    "duration": 4,
    "start_time": "2023-11-29T14:12:45.100Z"
   },
   {
    "duration": 15,
    "start_time": "2023-11-29T14:12:45.106Z"
   },
   {
    "duration": 23,
    "start_time": "2023-11-29T14:12:45.123Z"
   },
   {
    "duration": 10,
    "start_time": "2023-11-29T14:12:45.148Z"
   },
   {
    "duration": 7,
    "start_time": "2023-11-29T14:12:45.160Z"
   },
   {
    "duration": 15,
    "start_time": "2023-11-29T14:12:45.169Z"
   },
   {
    "duration": 22,
    "start_time": "2023-11-29T14:12:45.186Z"
   },
   {
    "duration": 6,
    "start_time": "2023-11-29T14:12:45.210Z"
   },
   {
    "duration": 155,
    "start_time": "2023-11-29T14:12:45.218Z"
   },
   {
    "duration": 6,
    "start_time": "2023-11-29T14:12:45.375Z"
   },
   {
    "duration": 5,
    "start_time": "2023-11-29T14:12:45.383Z"
   },
   {
    "duration": 8,
    "start_time": "2023-11-29T14:12:45.389Z"
   },
   {
    "duration": 4,
    "start_time": "2023-11-29T14:12:45.399Z"
   },
   {
    "duration": 6,
    "start_time": "2023-11-29T14:12:45.405Z"
   },
   {
    "duration": 3,
    "start_time": "2023-11-29T14:12:45.416Z"
   },
   {
    "duration": 42,
    "start_time": "2023-11-29T14:12:45.421Z"
   },
   {
    "duration": 5,
    "start_time": "2023-11-29T14:12:45.465Z"
   },
   {
    "duration": 9,
    "start_time": "2023-11-29T14:12:45.472Z"
   },
   {
    "duration": 11,
    "start_time": "2023-11-29T14:12:45.484Z"
   },
   {
    "duration": 115,
    "start_time": "2023-11-29T14:12:45.497Z"
   },
   {
    "duration": 165,
    "start_time": "2023-11-29T14:12:45.613Z"
   },
   {
    "duration": 146,
    "start_time": "2023-11-29T14:12:45.780Z"
   },
   {
    "duration": 4,
    "start_time": "2023-11-29T14:12:45.928Z"
   },
   {
    "duration": 298,
    "start_time": "2023-11-29T14:12:45.934Z"
   },
   {
    "duration": 8,
    "start_time": "2023-11-29T14:12:46.233Z"
   },
   {
    "duration": 22,
    "start_time": "2023-11-29T14:12:46.242Z"
   },
   {
    "duration": 7,
    "start_time": "2023-11-29T14:12:46.265Z"
   },
   {
    "duration": 10,
    "start_time": "2023-11-29T14:12:46.273Z"
   },
   {
    "duration": 191,
    "start_time": "2023-11-29T14:12:46.284Z"
   },
   {
    "duration": 9,
    "start_time": "2023-11-29T14:12:46.477Z"
   },
   {
    "duration": 335,
    "start_time": "2023-11-29T14:12:46.487Z"
   },
   {
    "duration": 11,
    "start_time": "2023-11-29T14:12:46.823Z"
   },
   {
    "duration": 23,
    "start_time": "2023-11-29T14:12:46.836Z"
   },
   {
    "duration": 15,
    "start_time": "2023-11-29T14:12:46.860Z"
   },
   {
    "duration": 38,
    "start_time": "2023-11-29T14:12:46.877Z"
   },
   {
    "duration": 37,
    "start_time": "2023-11-29T14:12:46.917Z"
   },
   {
    "duration": 16,
    "start_time": "2023-11-29T14:12:46.955Z"
   },
   {
    "duration": 14,
    "start_time": "2023-11-29T14:12:46.973Z"
   },
   {
    "duration": 28,
    "start_time": "2023-11-29T14:12:46.989Z"
   },
   {
    "duration": 12,
    "start_time": "2023-11-29T14:12:47.019Z"
   },
   {
    "duration": 16,
    "start_time": "2023-11-29T14:12:47.033Z"
   },
   {
    "duration": 34,
    "start_time": "2023-11-29T14:12:47.050Z"
   },
   {
    "duration": 196,
    "start_time": "2023-11-29T14:12:47.086Z"
   },
   {
    "duration": 182,
    "start_time": "2023-11-29T14:12:47.283Z"
   },
   {
    "duration": 7,
    "start_time": "2023-11-29T14:12:47.467Z"
   },
   {
    "duration": 195,
    "start_time": "2023-11-29T14:12:47.476Z"
   },
   {
    "duration": 192,
    "start_time": "2023-11-29T14:12:47.673Z"
   },
   {
    "duration": 5,
    "start_time": "2023-11-29T14:12:47.867Z"
   },
   {
    "duration": 9,
    "start_time": "2023-11-29T14:12:47.874Z"
   },
   {
    "duration": 24,
    "start_time": "2023-11-29T14:12:47.885Z"
   },
   {
    "duration": 5,
    "start_time": "2023-11-29T14:12:47.911Z"
   },
   {
    "duration": 42,
    "start_time": "2023-11-29T14:12:47.918Z"
   },
   {
    "duration": 8,
    "start_time": "2023-11-29T14:12:47.962Z"
   },
   {
    "duration": 12,
    "start_time": "2023-11-29T14:12:47.972Z"
   },
   {
    "duration": 6,
    "start_time": "2023-11-29T14:12:47.986Z"
   },
   {
    "duration": 119,
    "start_time": "2023-11-29T14:12:47.994Z"
   },
   {
    "duration": 20,
    "start_time": "2023-11-29T14:12:48.115Z"
   },
   {
    "duration": 7,
    "start_time": "2023-11-29T14:12:48.137Z"
   },
   {
    "duration": 16,
    "start_time": "2023-11-29T14:12:48.146Z"
   },
   {
    "duration": 7,
    "start_time": "2023-11-29T14:12:48.164Z"
   },
   {
    "duration": 20,
    "start_time": "2023-11-29T14:12:48.172Z"
   },
   {
    "duration": 13,
    "start_time": "2023-11-29T14:12:48.193Z"
   },
   {
    "duration": 6,
    "start_time": "2023-11-29T14:12:48.208Z"
   },
   {
    "duration": 181,
    "start_time": "2023-11-29T14:28:17.490Z"
   },
   {
    "duration": 172,
    "start_time": "2023-11-29T14:28:23.675Z"
   },
   {
    "duration": 7,
    "start_time": "2023-11-29T14:30:13.919Z"
   },
   {
    "duration": 9,
    "start_time": "2023-11-29T14:51:39.539Z"
   },
   {
    "duration": 1226,
    "start_time": "2023-11-29T15:03:06.061Z"
   },
   {
    "duration": 157,
    "start_time": "2023-11-29T15:03:07.289Z"
   },
   {
    "duration": 12,
    "start_time": "2023-11-29T15:03:07.447Z"
   },
   {
    "duration": 37,
    "start_time": "2023-11-29T15:03:07.461Z"
   },
   {
    "duration": 306,
    "start_time": "2023-11-29T15:03:07.500Z"
   },
   {
    "duration": 9,
    "start_time": "2023-11-29T15:03:07.808Z"
   },
   {
    "duration": 12,
    "start_time": "2023-11-29T15:03:07.818Z"
   },
   {
    "duration": 413,
    "start_time": "2023-11-29T15:03:07.831Z"
   },
   {
    "duration": 14,
    "start_time": "2023-11-29T15:03:08.246Z"
   },
   {
    "duration": 9,
    "start_time": "2023-11-29T15:03:08.263Z"
   },
   {
    "duration": 8,
    "start_time": "2023-11-29T15:03:08.274Z"
   },
   {
    "duration": 12,
    "start_time": "2023-11-29T15:03:08.283Z"
   },
   {
    "duration": 5,
    "start_time": "2023-11-29T15:03:08.297Z"
   },
   {
    "duration": 6,
    "start_time": "2023-11-29T15:03:08.303Z"
   },
   {
    "duration": 8,
    "start_time": "2023-11-29T15:03:08.310Z"
   },
   {
    "duration": 40,
    "start_time": "2023-11-29T15:03:08.320Z"
   },
   {
    "duration": 129,
    "start_time": "2023-11-29T15:03:08.362Z"
   },
   {
    "duration": 12,
    "start_time": "2023-11-29T15:03:08.493Z"
   },
   {
    "duration": 7,
    "start_time": "2023-11-29T15:03:08.507Z"
   },
   {
    "duration": 144,
    "start_time": "2023-11-29T15:03:08.516Z"
   },
   {
    "duration": 129,
    "start_time": "2023-11-29T15:03:08.661Z"
   },
   {
    "duration": 130,
    "start_time": "2023-11-29T15:03:08.791Z"
   },
   {
    "duration": 9,
    "start_time": "2023-11-29T15:03:08.922Z"
   },
   {
    "duration": 5,
    "start_time": "2023-11-29T15:03:08.932Z"
   },
   {
    "duration": 30,
    "start_time": "2023-11-29T15:03:08.938Z"
   },
   {
    "duration": 7,
    "start_time": "2023-11-29T15:03:08.969Z"
   },
   {
    "duration": 8,
    "start_time": "2023-11-29T15:03:08.977Z"
   },
   {
    "duration": 10,
    "start_time": "2023-11-29T15:03:08.989Z"
   },
   {
    "duration": 19,
    "start_time": "2023-11-29T15:03:09.001Z"
   },
   {
    "duration": 4,
    "start_time": "2023-11-29T15:03:09.021Z"
   },
   {
    "duration": 37,
    "start_time": "2023-11-29T15:03:09.026Z"
   },
   {
    "duration": 15,
    "start_time": "2023-11-29T15:03:09.065Z"
   },
   {
    "duration": 25,
    "start_time": "2023-11-29T15:03:09.081Z"
   },
   {
    "duration": 5,
    "start_time": "2023-11-29T15:03:09.108Z"
   },
   {
    "duration": 139,
    "start_time": "2023-11-29T15:03:09.115Z"
   },
   {
    "duration": 6,
    "start_time": "2023-11-29T15:03:09.258Z"
   },
   {
    "duration": 6,
    "start_time": "2023-11-29T15:03:09.265Z"
   },
   {
    "duration": 10,
    "start_time": "2023-11-29T15:03:09.273Z"
   },
   {
    "duration": 15,
    "start_time": "2023-11-29T15:03:09.285Z"
   },
   {
    "duration": 8,
    "start_time": "2023-11-29T15:03:09.302Z"
   },
   {
    "duration": 7,
    "start_time": "2023-11-29T15:03:09.311Z"
   },
   {
    "duration": 13,
    "start_time": "2023-11-29T15:03:09.320Z"
   },
   {
    "duration": 20,
    "start_time": "2023-11-29T15:03:09.334Z"
   },
   {
    "duration": 14,
    "start_time": "2023-11-29T15:03:09.359Z"
   },
   {
    "duration": 35,
    "start_time": "2023-11-29T15:03:09.375Z"
   },
   {
    "duration": 15,
    "start_time": "2023-11-29T15:03:09.411Z"
   },
   {
    "duration": 249,
    "start_time": "2023-11-29T15:03:09.427Z"
   },
   {
    "duration": 136,
    "start_time": "2023-11-29T15:03:09.678Z"
   },
   {
    "duration": 4,
    "start_time": "2023-11-29T15:03:09.816Z"
   },
   {
    "duration": 286,
    "start_time": "2023-11-29T15:03:09.822Z"
   },
   {
    "duration": 8,
    "start_time": "2023-11-29T15:03:10.110Z"
   },
   {
    "duration": 23,
    "start_time": "2023-11-29T15:03:10.119Z"
   },
   {
    "duration": 14,
    "start_time": "2023-11-29T15:03:10.143Z"
   },
   {
    "duration": 8,
    "start_time": "2023-11-29T15:03:10.159Z"
   },
   {
    "duration": 177,
    "start_time": "2023-11-29T15:03:10.168Z"
   },
   {
    "duration": 12,
    "start_time": "2023-11-29T15:03:10.347Z"
   },
   {
    "duration": 324,
    "start_time": "2023-11-29T15:03:10.360Z"
   },
   {
    "duration": 10,
    "start_time": "2023-11-29T15:03:10.685Z"
   },
   {
    "duration": 9,
    "start_time": "2023-11-29T15:03:10.697Z"
   },
   {
    "duration": 13,
    "start_time": "2023-11-29T15:03:10.708Z"
   },
   {
    "duration": 36,
    "start_time": "2023-11-29T15:03:10.722Z"
   },
   {
    "duration": 12,
    "start_time": "2023-11-29T15:03:10.760Z"
   },
   {
    "duration": 29,
    "start_time": "2023-11-29T15:03:10.774Z"
   },
   {
    "duration": 17,
    "start_time": "2023-11-29T15:03:10.805Z"
   },
   {
    "duration": 22,
    "start_time": "2023-11-29T15:03:10.824Z"
   },
   {
    "duration": 10,
    "start_time": "2023-11-29T15:03:10.847Z"
   },
   {
    "duration": 6,
    "start_time": "2023-11-29T15:03:10.858Z"
   },
   {
    "duration": 9,
    "start_time": "2023-11-29T15:03:10.866Z"
   },
   {
    "duration": 171,
    "start_time": "2023-11-29T15:03:10.877Z"
   },
   {
    "duration": 176,
    "start_time": "2023-11-29T15:03:11.050Z"
   },
   {
    "duration": 7,
    "start_time": "2023-11-29T15:03:11.228Z"
   },
   {
    "duration": 178,
    "start_time": "2023-11-29T15:03:11.237Z"
   },
   {
    "duration": 177,
    "start_time": "2023-11-29T15:03:11.417Z"
   },
   {
    "duration": 5,
    "start_time": "2023-11-29T15:03:11.596Z"
   },
   {
    "duration": 10,
    "start_time": "2023-11-29T15:03:11.602Z"
   },
   {
    "duration": 24,
    "start_time": "2023-11-29T15:03:11.614Z"
   },
   {
    "duration": 20,
    "start_time": "2023-11-29T15:03:11.640Z"
   },
   {
    "duration": 19,
    "start_time": "2023-11-29T15:03:11.662Z"
   },
   {
    "duration": 16,
    "start_time": "2023-11-29T15:03:11.682Z"
   },
   {
    "duration": 10,
    "start_time": "2023-11-29T15:03:11.699Z"
   },
   {
    "duration": 6,
    "start_time": "2023-11-29T15:03:11.710Z"
   },
   {
    "duration": 9,
    "start_time": "2023-11-29T15:03:11.722Z"
   },
   {
    "duration": 8,
    "start_time": "2023-11-29T15:03:11.733Z"
   },
   {
    "duration": 7,
    "start_time": "2023-11-29T15:03:11.759Z"
   },
   {
    "duration": 6,
    "start_time": "2023-11-29T15:03:11.767Z"
   },
   {
    "duration": 6,
    "start_time": "2023-11-29T15:03:11.774Z"
   },
   {
    "duration": 17,
    "start_time": "2023-11-29T15:03:11.782Z"
   },
   {
    "duration": 12,
    "start_time": "2023-11-29T15:03:11.802Z"
   },
   {
    "duration": 6,
    "start_time": "2023-11-29T15:03:11.816Z"
   },
   {
    "duration": 1203,
    "start_time": "2023-11-29T15:04:53.605Z"
   },
   {
    "duration": 147,
    "start_time": "2023-11-29T15:04:54.810Z"
   },
   {
    "duration": 13,
    "start_time": "2023-11-29T15:04:54.958Z"
   },
   {
    "duration": 40,
    "start_time": "2023-11-29T15:04:54.973Z"
   },
   {
    "duration": 336,
    "start_time": "2023-11-29T15:04:55.014Z"
   },
   {
    "duration": 13,
    "start_time": "2023-11-29T15:04:55.351Z"
   },
   {
    "duration": 16,
    "start_time": "2023-11-29T15:04:55.366Z"
   },
   {
    "duration": 420,
    "start_time": "2023-11-29T15:04:55.384Z"
   },
   {
    "duration": 7,
    "start_time": "2023-11-29T15:04:55.806Z"
   },
   {
    "duration": 11,
    "start_time": "2023-11-29T15:04:55.817Z"
   },
   {
    "duration": 33,
    "start_time": "2023-11-29T15:04:55.830Z"
   },
   {
    "duration": 18,
    "start_time": "2023-11-29T15:04:55.865Z"
   },
   {
    "duration": 6,
    "start_time": "2023-11-29T15:04:55.885Z"
   },
   {
    "duration": 11,
    "start_time": "2023-11-29T15:04:55.893Z"
   },
   {
    "duration": 20,
    "start_time": "2023-11-29T15:04:55.906Z"
   },
   {
    "duration": 13,
    "start_time": "2023-11-29T15:04:55.928Z"
   },
   {
    "duration": 126,
    "start_time": "2023-11-29T15:04:55.943Z"
   },
   {
    "duration": 12,
    "start_time": "2023-11-29T15:04:56.071Z"
   },
   {
    "duration": 11,
    "start_time": "2023-11-29T15:04:56.085Z"
   },
   {
    "duration": 133,
    "start_time": "2023-11-29T15:04:56.098Z"
   },
   {
    "duration": 129,
    "start_time": "2023-11-29T15:04:56.233Z"
   },
   {
    "duration": 132,
    "start_time": "2023-11-29T15:04:56.364Z"
   },
   {
    "duration": 9,
    "start_time": "2023-11-29T15:04:56.498Z"
   },
   {
    "duration": 11,
    "start_time": "2023-11-29T15:04:56.509Z"
   },
   {
    "duration": 12,
    "start_time": "2023-11-29T15:04:56.522Z"
   },
   {
    "duration": 28,
    "start_time": "2023-11-29T15:04:56.536Z"
   },
   {
    "duration": 17,
    "start_time": "2023-11-29T15:04:56.566Z"
   },
   {
    "duration": 12,
    "start_time": "2023-11-29T15:04:56.587Z"
   },
   {
    "duration": 22,
    "start_time": "2023-11-29T15:04:56.601Z"
   },
   {
    "duration": 4,
    "start_time": "2023-11-29T15:04:56.625Z"
   },
   {
    "duration": 33,
    "start_time": "2023-11-29T15:04:56.631Z"
   },
   {
    "duration": 13,
    "start_time": "2023-11-29T15:04:56.666Z"
   },
   {
    "duration": 20,
    "start_time": "2023-11-29T15:04:56.681Z"
   },
   {
    "duration": 7,
    "start_time": "2023-11-29T15:04:56.703Z"
   },
   {
    "duration": 156,
    "start_time": "2023-11-29T15:04:56.712Z"
   },
   {
    "duration": 6,
    "start_time": "2023-11-29T15:04:56.870Z"
   },
   {
    "duration": 7,
    "start_time": "2023-11-29T15:04:56.877Z"
   },
   {
    "duration": 8,
    "start_time": "2023-11-29T15:04:56.885Z"
   },
   {
    "duration": 7,
    "start_time": "2023-11-29T15:04:56.895Z"
   },
   {
    "duration": 9,
    "start_time": "2023-11-29T15:04:56.903Z"
   },
   {
    "duration": 4,
    "start_time": "2023-11-29T15:04:56.913Z"
   },
   {
    "duration": 40,
    "start_time": "2023-11-29T15:04:56.919Z"
   },
   {
    "duration": 5,
    "start_time": "2023-11-29T15:04:56.961Z"
   },
   {
    "duration": 5,
    "start_time": "2023-11-29T15:04:56.968Z"
   },
   {
    "duration": 10,
    "start_time": "2023-11-29T15:04:56.975Z"
   },
   {
    "duration": 10,
    "start_time": "2023-11-29T15:04:56.987Z"
   },
   {
    "duration": 261,
    "start_time": "2023-11-29T15:04:56.999Z"
   },
   {
    "duration": 140,
    "start_time": "2023-11-29T15:04:57.262Z"
   },
   {
    "duration": 4,
    "start_time": "2023-11-29T15:04:57.404Z"
   },
   {
    "duration": 285,
    "start_time": "2023-11-29T15:04:57.410Z"
   },
   {
    "duration": 9,
    "start_time": "2023-11-29T15:04:57.697Z"
   },
   {
    "duration": 9,
    "start_time": "2023-11-29T15:04:57.707Z"
   },
   {
    "duration": 6,
    "start_time": "2023-11-29T15:04:57.717Z"
   },
   {
    "duration": 37,
    "start_time": "2023-11-29T15:04:57.725Z"
   },
   {
    "duration": 184,
    "start_time": "2023-11-29T15:04:57.764Z"
   },
   {
    "duration": 14,
    "start_time": "2023-11-29T15:04:57.950Z"
   },
   {
    "duration": 319,
    "start_time": "2023-11-29T15:04:57.966Z"
   },
   {
    "duration": 10,
    "start_time": "2023-11-29T15:04:58.286Z"
   },
   {
    "duration": 10,
    "start_time": "2023-11-29T15:04:58.297Z"
   },
   {
    "duration": 13,
    "start_time": "2023-11-29T15:04:58.308Z"
   },
   {
    "duration": 10,
    "start_time": "2023-11-29T15:04:58.323Z"
   },
   {
    "duration": 34,
    "start_time": "2023-11-29T15:04:58.335Z"
   },
   {
    "duration": 10,
    "start_time": "2023-11-29T15:04:58.371Z"
   },
   {
    "duration": 23,
    "start_time": "2023-11-29T15:04:58.383Z"
   },
   {
    "duration": 60,
    "start_time": "2023-11-29T15:04:58.408Z"
   },
   {
    "duration": 31,
    "start_time": "2023-11-29T15:04:58.470Z"
   },
   {
    "duration": 19,
    "start_time": "2023-11-29T15:04:58.502Z"
   },
   {
    "duration": 38,
    "start_time": "2023-11-29T15:04:58.523Z"
   },
   {
    "duration": 204,
    "start_time": "2023-11-29T15:04:58.563Z"
   },
   {
    "duration": 169,
    "start_time": "2023-11-29T15:04:58.768Z"
   },
   {
    "duration": 7,
    "start_time": "2023-11-29T15:04:58.938Z"
   },
   {
    "duration": 178,
    "start_time": "2023-11-29T15:04:58.947Z"
   },
   {
    "duration": 183,
    "start_time": "2023-11-29T15:04:59.127Z"
   },
   {
    "duration": 5,
    "start_time": "2023-11-29T15:04:59.312Z"
   },
   {
    "duration": 33,
    "start_time": "2023-11-29T15:04:59.319Z"
   },
   {
    "duration": 44,
    "start_time": "2023-11-29T15:04:59.354Z"
   },
   {
    "duration": 5,
    "start_time": "2023-11-29T15:04:59.400Z"
   },
   {
    "duration": 10,
    "start_time": "2023-11-29T15:04:59.406Z"
   },
   {
    "duration": 16,
    "start_time": "2023-11-29T15:04:59.418Z"
   },
   {
    "duration": 13,
    "start_time": "2023-11-29T15:04:59.436Z"
   },
   {
    "duration": 6,
    "start_time": "2023-11-29T15:04:59.451Z"
   },
   {
    "duration": 34,
    "start_time": "2023-11-29T15:04:59.464Z"
   },
   {
    "duration": 18,
    "start_time": "2023-11-29T15:04:59.500Z"
   },
   {
    "duration": 27,
    "start_time": "2023-11-29T15:04:59.520Z"
   },
   {
    "duration": 7,
    "start_time": "2023-11-29T15:04:59.548Z"
   },
   {
    "duration": 34,
    "start_time": "2023-11-29T15:04:59.557Z"
   },
   {
    "duration": 15,
    "start_time": "2023-11-29T15:04:59.593Z"
   },
   {
    "duration": 12,
    "start_time": "2023-11-29T15:04:59.609Z"
   },
   {
    "duration": 7,
    "start_time": "2023-11-29T15:04:59.623Z"
   },
   {
    "duration": 1202,
    "start_time": "2023-11-30T18:56:38.305Z"
   },
   {
    "duration": 325,
    "start_time": "2023-11-30T18:56:39.509Z"
   },
   {
    "duration": 13,
    "start_time": "2023-11-30T18:56:39.835Z"
   },
   {
    "duration": 12,
    "start_time": "2023-11-30T18:56:39.850Z"
   },
   {
    "duration": 10,
    "start_time": "2023-11-30T18:56:39.863Z"
   },
   {
    "duration": 307,
    "start_time": "2023-11-30T18:56:39.875Z"
   },
   {
    "duration": 8,
    "start_time": "2023-11-30T18:56:40.184Z"
   },
   {
    "duration": 15,
    "start_time": "2023-11-30T18:56:40.194Z"
   },
   {
    "duration": 387,
    "start_time": "2023-11-30T18:56:40.222Z"
   },
   {
    "duration": 11,
    "start_time": "2023-11-30T18:56:40.612Z"
   },
   {
    "duration": 10,
    "start_time": "2023-11-30T18:56:40.625Z"
   },
   {
    "duration": 8,
    "start_time": "2023-11-30T18:56:40.637Z"
   },
   {
    "duration": 7,
    "start_time": "2023-11-30T18:56:40.647Z"
   },
   {
    "duration": 7,
    "start_time": "2023-11-30T18:56:40.656Z"
   },
   {
    "duration": 10,
    "start_time": "2023-11-30T18:56:40.665Z"
   },
   {
    "duration": 9,
    "start_time": "2023-11-30T18:56:40.677Z"
   },
   {
    "duration": 44,
    "start_time": "2023-11-30T18:56:40.688Z"
   },
   {
    "duration": 5,
    "start_time": "2023-11-30T18:56:40.734Z"
   },
   {
    "duration": 154,
    "start_time": "2023-11-30T18:56:40.741Z"
   },
   {
    "duration": 13,
    "start_time": "2023-11-30T18:56:40.897Z"
   },
   {
    "duration": 25,
    "start_time": "2023-11-30T18:56:40.922Z"
   },
   {
    "duration": 156,
    "start_time": "2023-11-30T18:56:40.949Z"
   },
   {
    "duration": 138,
    "start_time": "2023-11-30T18:56:41.107Z"
   },
   {
    "duration": 133,
    "start_time": "2023-11-30T18:56:41.247Z"
   },
   {
    "duration": 9,
    "start_time": "2023-11-30T18:56:41.381Z"
   },
   {
    "duration": 4,
    "start_time": "2023-11-30T18:56:41.392Z"
   },
   {
    "duration": 34,
    "start_time": "2023-11-30T18:56:41.397Z"
   },
   {
    "duration": 7,
    "start_time": "2023-11-30T18:56:41.436Z"
   },
   {
    "duration": 5,
    "start_time": "2023-11-30T18:56:41.444Z"
   },
   {
    "duration": 14,
    "start_time": "2023-11-30T18:56:41.450Z"
   },
   {
    "duration": 22,
    "start_time": "2023-11-30T18:56:41.465Z"
   },
   {
    "duration": 4,
    "start_time": "2023-11-30T18:56:41.491Z"
   },
   {
    "duration": 7,
    "start_time": "2023-11-30T18:56:41.523Z"
   },
   {
    "duration": 14,
    "start_time": "2023-11-30T18:56:41.532Z"
   },
   {
    "duration": 20,
    "start_time": "2023-11-30T18:56:41.548Z"
   },
   {
    "duration": 7,
    "start_time": "2023-11-30T18:56:41.570Z"
   },
   {
    "duration": 5,
    "start_time": "2023-11-30T18:56:41.578Z"
   },
   {
    "duration": 38,
    "start_time": "2023-11-30T18:56:41.585Z"
   },
   {
    "duration": 5,
    "start_time": "2023-11-30T18:56:41.624Z"
   },
   {
    "duration": 8,
    "start_time": "2023-11-30T18:56:41.630Z"
   },
   {
    "duration": 3,
    "start_time": "2023-11-30T18:56:41.639Z"
   },
   {
    "duration": 9,
    "start_time": "2023-11-30T18:56:41.644Z"
   },
   {
    "duration": 8,
    "start_time": "2023-11-30T18:56:41.655Z"
   },
   {
    "duration": 178,
    "start_time": "2023-11-30T18:56:41.665Z"
   },
   {
    "duration": 9,
    "start_time": "2023-11-30T18:56:41.845Z"
   },
   {
    "duration": 8,
    "start_time": "2023-11-30T18:56:41.855Z"
   },
   {
    "duration": 171,
    "start_time": "2023-11-30T18:56:41.865Z"
   },
   {
    "duration": 4,
    "start_time": "2023-11-30T18:56:42.038Z"
   },
   {
    "duration": 283,
    "start_time": "2023-11-30T18:56:42.043Z"
   },
   {
    "duration": 8,
    "start_time": "2023-11-30T18:56:42.327Z"
   },
   {
    "duration": 14,
    "start_time": "2023-11-30T18:56:42.336Z"
   },
   {
    "duration": 13,
    "start_time": "2023-11-30T18:56:42.351Z"
   },
   {
    "duration": 195,
    "start_time": "2023-11-30T18:56:42.365Z"
   },
   {
    "duration": 8,
    "start_time": "2023-11-30T18:56:42.562Z"
   },
   {
    "duration": 193,
    "start_time": "2023-11-30T18:56:42.571Z"
   },
   {
    "duration": 9,
    "start_time": "2023-11-30T18:56:42.766Z"
   },
   {
    "duration": 9,
    "start_time": "2023-11-30T18:56:42.777Z"
   },
   {
    "duration": 19,
    "start_time": "2023-11-30T18:56:42.787Z"
   },
   {
    "duration": 4,
    "start_time": "2023-11-30T18:56:42.821Z"
   },
   {
    "duration": 11,
    "start_time": "2023-11-30T18:56:42.827Z"
   },
   {
    "duration": 10,
    "start_time": "2023-11-30T18:56:42.840Z"
   },
   {
    "duration": 14,
    "start_time": "2023-11-30T18:56:42.851Z"
   },
   {
    "duration": 8,
    "start_time": "2023-11-30T18:56:42.866Z"
   },
   {
    "duration": 11,
    "start_time": "2023-11-30T18:56:42.876Z"
   },
   {
    "duration": 34,
    "start_time": "2023-11-30T18:56:42.889Z"
   },
   {
    "duration": 13,
    "start_time": "2023-11-30T18:56:42.924Z"
   },
   {
    "duration": 13,
    "start_time": "2023-11-30T18:56:42.938Z"
   },
   {
    "duration": 10,
    "start_time": "2023-11-30T18:56:42.952Z"
   },
   {
    "duration": 9,
    "start_time": "2023-11-30T18:56:42.964Z"
   },
   {
    "duration": 237,
    "start_time": "2023-11-30T18:56:42.975Z"
   },
   {
    "duration": 13,
    "start_time": "2023-11-30T18:56:43.214Z"
   },
   {
    "duration": 9,
    "start_time": "2023-11-30T18:56:43.229Z"
   },
   {
    "duration": 237,
    "start_time": "2023-11-30T18:56:43.240Z"
   },
   {
    "duration": 4,
    "start_time": "2023-11-30T18:56:43.479Z"
   },
   {
    "duration": 16,
    "start_time": "2023-11-30T18:56:43.485Z"
   },
   {
    "duration": 36,
    "start_time": "2023-11-30T18:56:43.503Z"
   },
   {
    "duration": 4,
    "start_time": "2023-11-30T18:56:43.540Z"
   },
   {
    "duration": 20,
    "start_time": "2023-11-30T18:56:43.546Z"
   },
   {
    "duration": 11,
    "start_time": "2023-11-30T18:56:43.568Z"
   },
   {
    "duration": 14,
    "start_time": "2023-11-30T18:56:43.580Z"
   },
   {
    "duration": 10,
    "start_time": "2023-11-30T18:56:43.596Z"
   },
   {
    "duration": 20,
    "start_time": "2023-11-30T18:56:43.611Z"
   },
   {
    "duration": 16,
    "start_time": "2023-11-30T18:56:43.632Z"
   },
   {
    "duration": 7,
    "start_time": "2023-11-30T18:56:43.650Z"
   },
   {
    "duration": 15,
    "start_time": "2023-11-30T18:56:43.659Z"
   },
   {
    "duration": 13,
    "start_time": "2023-11-30T18:56:43.675Z"
   },
   {
    "duration": 8,
    "start_time": "2023-11-30T18:56:43.690Z"
   },
   {
    "duration": 20,
    "start_time": "2023-11-30T18:56:43.700Z"
   },
   {
    "duration": 22,
    "start_time": "2023-11-30T18:56:43.721Z"
   },
   {
    "duration": 17,
    "start_time": "2023-11-30T18:56:43.744Z"
   },
   {
    "duration": 16,
    "start_time": "2023-11-30T18:56:43.762Z"
   },
   {
    "duration": 291,
    "start_time": "2023-11-30T19:01:43.257Z"
   },
   {
    "duration": 289,
    "start_time": "2023-11-30T19:02:06.038Z"
   },
   {
    "duration": 470,
    "start_time": "2023-11-30T19:03:27.053Z"
   },
   {
    "duration": 654,
    "start_time": "2023-11-30T19:03:37.998Z"
   },
   {
    "duration": 290,
    "start_time": "2023-11-30T19:03:59.530Z"
   },
   {
    "duration": 295,
    "start_time": "2023-11-30T19:04:52.097Z"
   },
   {
    "duration": 307,
    "start_time": "2023-11-30T19:05:12.920Z"
   },
   {
    "duration": 400,
    "start_time": "2023-11-30T19:05:17.170Z"
   },
   {
    "duration": 18,
    "start_time": "2023-11-30T19:14:14.850Z"
   },
   {
    "duration": 9,
    "start_time": "2023-11-30T19:14:19.729Z"
   },
   {
    "duration": 9,
    "start_time": "2023-11-30T19:14:22.988Z"
   },
   {
    "duration": 22,
    "start_time": "2023-11-30T19:15:49.193Z"
   },
   {
    "duration": 16,
    "start_time": "2023-11-30T19:15:52.244Z"
   },
   {
    "duration": 9,
    "start_time": "2023-11-30T19:17:18.899Z"
   },
   {
    "duration": 1226,
    "start_time": "2023-11-30T19:17:28.851Z"
   },
   {
    "duration": 1260,
    "start_time": "2023-11-30T19:17:41.076Z"
   },
   {
    "duration": 1334,
    "start_time": "2023-11-30T19:17:51.123Z"
   },
   {
    "duration": 126,
    "start_time": "2023-11-30T19:17:58.524Z"
   },
   {
    "duration": 15,
    "start_time": "2023-11-30T19:18:01.115Z"
   },
   {
    "duration": 135,
    "start_time": "2023-11-30T19:18:06.566Z"
   },
   {
    "duration": 10,
    "start_time": "2023-11-30T19:18:08.443Z"
   },
   {
    "duration": 9,
    "start_time": "2023-11-30T19:18:53.386Z"
   },
   {
    "duration": 7,
    "start_time": "2023-11-30T19:20:34.210Z"
   },
   {
    "duration": 23,
    "start_time": "2023-11-30T19:20:37.347Z"
   },
   {
    "duration": 5,
    "start_time": "2023-11-30T19:20:39.658Z"
   },
   {
    "duration": 8,
    "start_time": "2023-11-30T19:20:40.568Z"
   },
   {
    "duration": 6,
    "start_time": "2023-11-30T19:20:58.010Z"
   },
   {
    "duration": 10,
    "start_time": "2023-11-30T19:20:59.444Z"
   },
   {
    "duration": 1199,
    "start_time": "2023-11-30T19:24:19.448Z"
   },
   {
    "duration": 244,
    "start_time": "2023-11-30T19:24:20.649Z"
   },
   {
    "duration": 13,
    "start_time": "2023-11-30T19:24:20.895Z"
   },
   {
    "duration": 27,
    "start_time": "2023-11-30T19:24:20.911Z"
   },
   {
    "duration": 23,
    "start_time": "2023-11-30T19:24:20.939Z"
   },
   {
    "duration": 324,
    "start_time": "2023-11-30T19:24:20.964Z"
   },
   {
    "duration": 9,
    "start_time": "2023-11-30T19:24:21.290Z"
   },
   {
    "duration": 26,
    "start_time": "2023-11-30T19:24:21.301Z"
   },
   {
    "duration": 413,
    "start_time": "2023-11-30T19:24:21.329Z"
   },
   {
    "duration": 7,
    "start_time": "2023-11-30T19:24:21.745Z"
   },
   {
    "duration": 11,
    "start_time": "2023-11-30T19:24:21.754Z"
   },
   {
    "duration": 8,
    "start_time": "2023-11-30T19:24:21.766Z"
   },
   {
    "duration": 8,
    "start_time": "2023-11-30T19:24:21.776Z"
   },
   {
    "duration": 6,
    "start_time": "2023-11-30T19:24:21.786Z"
   },
   {
    "duration": 6,
    "start_time": "2023-11-30T19:24:21.822Z"
   },
   {
    "duration": 8,
    "start_time": "2023-11-30T19:24:21.830Z"
   },
   {
    "duration": 10,
    "start_time": "2023-11-30T19:24:21.840Z"
   },
   {
    "duration": 5,
    "start_time": "2023-11-30T19:24:21.852Z"
   },
   {
    "duration": 164,
    "start_time": "2023-11-30T19:24:21.858Z"
   },
   {
    "duration": 13,
    "start_time": "2023-11-30T19:24:22.023Z"
   },
   {
    "duration": 10,
    "start_time": "2023-11-30T19:24:22.038Z"
   },
   {
    "duration": 156,
    "start_time": "2023-11-30T19:24:22.050Z"
   },
   {
    "duration": 135,
    "start_time": "2023-11-30T19:24:22.208Z"
   },
   {
    "duration": 131,
    "start_time": "2023-11-30T19:24:22.345Z"
   },
   {
    "duration": 9,
    "start_time": "2023-11-30T19:24:22.478Z"
   },
   {
    "duration": 13,
    "start_time": "2023-11-30T19:24:22.488Z"
   },
   {
    "duration": 26,
    "start_time": "2023-11-30T19:24:22.503Z"
   },
   {
    "duration": 7,
    "start_time": "2023-11-30T19:24:22.535Z"
   },
   {
    "duration": 5,
    "start_time": "2023-11-30T19:24:22.543Z"
   },
   {
    "duration": 12,
    "start_time": "2023-11-30T19:24:22.549Z"
   },
   {
    "duration": 25,
    "start_time": "2023-11-30T19:24:22.564Z"
   },
   {
    "duration": 4,
    "start_time": "2023-11-30T19:24:22.590Z"
   },
   {
    "duration": 33,
    "start_time": "2023-11-30T19:24:22.595Z"
   },
   {
    "duration": 18,
    "start_time": "2023-11-30T19:24:22.630Z"
   },
   {
    "duration": 19,
    "start_time": "2023-11-30T19:24:22.649Z"
   },
   {
    "duration": 5,
    "start_time": "2023-11-30T19:24:22.670Z"
   },
   {
    "duration": 9,
    "start_time": "2023-11-30T19:24:22.677Z"
   },
   {
    "duration": 34,
    "start_time": "2023-11-30T19:24:22.688Z"
   },
   {
    "duration": 5,
    "start_time": "2023-11-30T19:24:22.724Z"
   },
   {
    "duration": 15,
    "start_time": "2023-11-30T19:24:22.730Z"
   },
   {
    "duration": 5,
    "start_time": "2023-11-30T19:24:22.747Z"
   },
   {
    "duration": 9,
    "start_time": "2023-11-30T19:24:22.753Z"
   },
   {
    "duration": 18,
    "start_time": "2023-11-30T19:24:22.764Z"
   },
   {
    "duration": 149,
    "start_time": "2023-11-30T19:24:22.783Z"
   },
   {
    "duration": 9,
    "start_time": "2023-11-30T19:24:22.934Z"
   },
   {
    "duration": 28,
    "start_time": "2023-11-30T19:24:22.944Z"
   },
   {
    "duration": 155,
    "start_time": "2023-11-30T19:24:22.974Z"
   },
   {
    "duration": 5,
    "start_time": "2023-11-30T19:24:23.130Z"
   },
   {
    "duration": 287,
    "start_time": "2023-11-30T19:24:23.136Z"
   },
   {
    "duration": 9,
    "start_time": "2023-11-30T19:24:23.424Z"
   },
   {
    "duration": 9,
    "start_time": "2023-11-30T19:24:23.434Z"
   },
   {
    "duration": 26,
    "start_time": "2023-11-30T19:24:23.444Z"
   },
   {
    "duration": 186,
    "start_time": "2023-11-30T19:24:23.472Z"
   },
   {
    "duration": 9,
    "start_time": "2023-11-30T19:24:23.659Z"
   },
   {
    "duration": 177,
    "start_time": "2023-11-30T19:24:23.669Z"
   },
   {
    "duration": 9,
    "start_time": "2023-11-30T19:24:23.848Z"
   },
   {
    "duration": 11,
    "start_time": "2023-11-30T19:24:23.858Z"
   },
   {
    "duration": 29,
    "start_time": "2023-11-30T19:24:23.871Z"
   },
   {
    "duration": 9,
    "start_time": "2023-11-30T19:24:23.902Z"
   },
   {
    "duration": 17,
    "start_time": "2023-11-30T19:24:23.913Z"
   },
   {
    "duration": 12,
    "start_time": "2023-11-30T19:24:23.932Z"
   },
   {
    "duration": 18,
    "start_time": "2023-11-30T19:24:23.946Z"
   },
   {
    "duration": 9,
    "start_time": "2023-11-30T19:24:23.966Z"
   },
   {
    "duration": 34,
    "start_time": "2023-11-30T19:24:23.977Z"
   },
   {
    "duration": 11,
    "start_time": "2023-11-30T19:24:24.013Z"
   },
   {
    "duration": 11,
    "start_time": "2023-11-30T19:24:24.025Z"
   },
   {
    "duration": 6,
    "start_time": "2023-11-30T19:24:24.037Z"
   },
   {
    "duration": 10,
    "start_time": "2023-11-30T19:24:24.044Z"
   },
   {
    "duration": 7,
    "start_time": "2023-11-30T19:24:24.056Z"
   },
   {
    "duration": 216,
    "start_time": "2023-11-30T19:24:24.064Z"
   },
   {
    "duration": 9,
    "start_time": "2023-11-30T19:24:24.282Z"
   },
   {
    "duration": 12,
    "start_time": "2023-11-30T19:24:24.293Z"
   },
   {
    "duration": 229,
    "start_time": "2023-11-30T19:24:24.307Z"
   },
   {
    "duration": 5,
    "start_time": "2023-11-30T19:24:24.538Z"
   },
   {
    "duration": 24,
    "start_time": "2023-11-30T19:24:24.544Z"
   },
   {
    "duration": 37,
    "start_time": "2023-11-30T19:24:24.570Z"
   },
   {
    "duration": 27,
    "start_time": "2023-11-30T19:24:24.609Z"
   },
   {
    "duration": 24,
    "start_time": "2023-11-30T19:24:24.638Z"
   },
   {
    "duration": 18,
    "start_time": "2023-11-30T19:24:24.664Z"
   },
   {
    "duration": 11,
    "start_time": "2023-11-30T19:24:24.684Z"
   },
   {
    "duration": 127,
    "start_time": "2023-11-30T19:24:24.697Z"
   },
   {
    "duration": 0,
    "start_time": "2023-11-30T19:24:24.826Z"
   },
   {
    "duration": 0,
    "start_time": "2023-11-30T19:24:24.828Z"
   },
   {
    "duration": 0,
    "start_time": "2023-11-30T19:24:24.829Z"
   },
   {
    "duration": 0,
    "start_time": "2023-11-30T19:24:24.832Z"
   },
   {
    "duration": 0,
    "start_time": "2023-11-30T19:24:24.833Z"
   },
   {
    "duration": 0,
    "start_time": "2023-11-30T19:24:24.834Z"
   },
   {
    "duration": 0,
    "start_time": "2023-11-30T19:24:24.835Z"
   },
   {
    "duration": 0,
    "start_time": "2023-11-30T19:24:24.837Z"
   },
   {
    "duration": 0,
    "start_time": "2023-11-30T19:24:24.838Z"
   },
   {
    "duration": 0,
    "start_time": "2023-11-30T19:24:24.839Z"
   },
   {
    "duration": 0,
    "start_time": "2023-11-30T19:24:24.841Z"
   },
   {
    "duration": 5,
    "start_time": "2023-11-30T19:24:39.686Z"
   },
   {
    "duration": 9,
    "start_time": "2023-11-30T19:24:41.267Z"
   },
   {
    "duration": 1165,
    "start_time": "2023-11-30T19:29:03.770Z"
   },
   {
    "duration": 151,
    "start_time": "2023-11-30T19:29:04.937Z"
   },
   {
    "duration": 11,
    "start_time": "2023-11-30T19:29:05.090Z"
   },
   {
    "duration": 10,
    "start_time": "2023-11-30T19:29:05.103Z"
   },
   {
    "duration": 37,
    "start_time": "2023-11-30T19:29:05.115Z"
   },
   {
    "duration": 304,
    "start_time": "2023-11-30T19:29:05.154Z"
   },
   {
    "duration": 9,
    "start_time": "2023-11-30T19:29:05.460Z"
   },
   {
    "duration": 11,
    "start_time": "2023-11-30T19:29:05.470Z"
   },
   {
    "duration": 421,
    "start_time": "2023-11-30T19:29:05.483Z"
   },
   {
    "duration": 7,
    "start_time": "2023-11-30T19:29:05.907Z"
   },
   {
    "duration": 10,
    "start_time": "2023-11-30T19:29:05.922Z"
   },
   {
    "duration": 18,
    "start_time": "2023-11-30T19:29:05.933Z"
   },
   {
    "duration": 16,
    "start_time": "2023-11-30T19:29:05.952Z"
   },
   {
    "duration": 30,
    "start_time": "2023-11-30T19:29:05.969Z"
   },
   {
    "duration": 11,
    "start_time": "2023-11-30T19:29:06.001Z"
   },
   {
    "duration": 14,
    "start_time": "2023-11-30T19:29:06.014Z"
   },
   {
    "duration": 30,
    "start_time": "2023-11-30T19:29:06.030Z"
   },
   {
    "duration": 10,
    "start_time": "2023-11-30T19:29:06.061Z"
   },
   {
    "duration": 158,
    "start_time": "2023-11-30T19:29:06.073Z"
   },
   {
    "duration": 11,
    "start_time": "2023-11-30T19:29:06.233Z"
   },
   {
    "duration": 6,
    "start_time": "2023-11-30T19:29:06.246Z"
   },
   {
    "duration": 153,
    "start_time": "2023-11-30T19:29:06.253Z"
   },
   {
    "duration": 141,
    "start_time": "2023-11-30T19:29:06.408Z"
   },
   {
    "duration": 147,
    "start_time": "2023-11-30T19:29:06.550Z"
   },
   {
    "duration": 8,
    "start_time": "2023-11-30T19:29:06.699Z"
   },
   {
    "duration": 14,
    "start_time": "2023-11-30T19:29:06.709Z"
   },
   {
    "duration": 21,
    "start_time": "2023-11-30T19:29:06.725Z"
   },
   {
    "duration": 7,
    "start_time": "2023-11-30T19:29:06.751Z"
   },
   {
    "duration": 11,
    "start_time": "2023-11-30T19:29:06.759Z"
   },
   {
    "duration": 12,
    "start_time": "2023-11-30T19:29:06.771Z"
   },
   {
    "duration": 29,
    "start_time": "2023-11-30T19:29:06.785Z"
   },
   {
    "duration": 4,
    "start_time": "2023-11-30T19:29:06.822Z"
   },
   {
    "duration": 9,
    "start_time": "2023-11-30T19:29:06.827Z"
   },
   {
    "duration": 24,
    "start_time": "2023-11-30T19:29:06.837Z"
   },
   {
    "duration": 28,
    "start_time": "2023-11-30T19:29:06.863Z"
   },
   {
    "duration": 6,
    "start_time": "2023-11-30T19:29:06.892Z"
   },
   {
    "duration": 18,
    "start_time": "2023-11-30T19:29:06.899Z"
   },
   {
    "duration": 21,
    "start_time": "2023-11-30T19:29:06.919Z"
   },
   {
    "duration": 5,
    "start_time": "2023-11-30T19:29:06.942Z"
   },
   {
    "duration": 11,
    "start_time": "2023-11-30T19:29:06.948Z"
   },
   {
    "duration": 12,
    "start_time": "2023-11-30T19:29:06.961Z"
   },
   {
    "duration": 10,
    "start_time": "2023-11-30T19:29:06.975Z"
   },
   {
    "duration": 10,
    "start_time": "2023-11-30T19:29:06.986Z"
   },
   {
    "duration": 156,
    "start_time": "2023-11-30T19:29:06.998Z"
   },
   {
    "duration": 10,
    "start_time": "2023-11-30T19:29:07.155Z"
   },
   {
    "duration": 23,
    "start_time": "2023-11-30T19:29:07.166Z"
   },
   {
    "duration": 166,
    "start_time": "2023-11-30T19:29:07.191Z"
   },
   {
    "duration": 5,
    "start_time": "2023-11-30T19:29:07.360Z"
   },
   {
    "duration": 280,
    "start_time": "2023-11-30T19:29:07.367Z"
   },
   {
    "duration": 8,
    "start_time": "2023-11-30T19:29:07.649Z"
   },
   {
    "duration": 21,
    "start_time": "2023-11-30T19:29:07.659Z"
   },
   {
    "duration": 12,
    "start_time": "2023-11-30T19:29:07.682Z"
   },
   {
    "duration": 193,
    "start_time": "2023-11-30T19:29:07.696Z"
   },
   {
    "duration": 8,
    "start_time": "2023-11-30T19:29:07.891Z"
   },
   {
    "duration": 180,
    "start_time": "2023-11-30T19:29:07.901Z"
   },
   {
    "duration": 8,
    "start_time": "2023-11-30T19:29:08.083Z"
   },
   {
    "duration": 13,
    "start_time": "2023-11-30T19:29:08.093Z"
   },
   {
    "duration": 23,
    "start_time": "2023-11-30T19:29:08.108Z"
   },
   {
    "duration": 15,
    "start_time": "2023-11-30T19:29:08.133Z"
   },
   {
    "duration": 17,
    "start_time": "2023-11-30T19:29:08.150Z"
   },
   {
    "duration": 10,
    "start_time": "2023-11-30T19:29:08.169Z"
   },
   {
    "duration": 15,
    "start_time": "2023-11-30T19:29:08.181Z"
   },
   {
    "duration": 7,
    "start_time": "2023-11-30T19:29:08.198Z"
   },
   {
    "duration": 23,
    "start_time": "2023-11-30T19:29:08.207Z"
   },
   {
    "duration": 8,
    "start_time": "2023-11-30T19:29:08.232Z"
   },
   {
    "duration": 13,
    "start_time": "2023-11-30T19:29:08.242Z"
   },
   {
    "duration": 7,
    "start_time": "2023-11-30T19:29:08.257Z"
   },
   {
    "duration": 10,
    "start_time": "2023-11-30T19:29:08.265Z"
   },
   {
    "duration": 8,
    "start_time": "2023-11-30T19:29:08.277Z"
   },
   {
    "duration": 249,
    "start_time": "2023-11-30T19:29:08.287Z"
   },
   {
    "duration": 9,
    "start_time": "2023-11-30T19:29:08.538Z"
   },
   {
    "duration": 9,
    "start_time": "2023-11-30T19:29:08.548Z"
   },
   {
    "duration": 236,
    "start_time": "2023-11-30T19:29:08.559Z"
   },
   {
    "duration": 5,
    "start_time": "2023-11-30T19:29:08.797Z"
   },
   {
    "duration": 22,
    "start_time": "2023-11-30T19:29:08.804Z"
   },
   {
    "duration": 22,
    "start_time": "2023-11-30T19:29:08.828Z"
   },
   {
    "duration": 5,
    "start_time": "2023-11-30T19:29:08.852Z"
   },
   {
    "duration": 10,
    "start_time": "2023-11-30T19:29:08.858Z"
   },
   {
    "duration": 11,
    "start_time": "2023-11-30T19:29:08.870Z"
   },
   {
    "duration": 11,
    "start_time": "2023-11-30T19:29:08.883Z"
   },
   {
    "duration": 6,
    "start_time": "2023-11-30T19:29:08.923Z"
   },
   {
    "duration": 15,
    "start_time": "2023-11-30T19:29:08.935Z"
   },
   {
    "duration": 20,
    "start_time": "2023-11-30T19:29:08.952Z"
   },
   {
    "duration": 4,
    "start_time": "2023-11-30T19:29:08.974Z"
   },
   {
    "duration": 10,
    "start_time": "2023-11-30T19:29:08.980Z"
   },
   {
    "duration": 4,
    "start_time": "2023-11-30T19:29:08.991Z"
   },
   {
    "duration": 27,
    "start_time": "2023-11-30T19:29:08.997Z"
   },
   {
    "duration": 7,
    "start_time": "2023-11-30T19:29:09.025Z"
   },
   {
    "duration": 15,
    "start_time": "2023-11-30T19:29:09.034Z"
   },
   {
    "duration": 23,
    "start_time": "2023-11-30T19:29:09.051Z"
   },
   {
    "duration": 7,
    "start_time": "2023-11-30T19:29:09.076Z"
   },
   {
    "duration": 1193,
    "start_time": "2023-11-30T19:34:37.686Z"
   },
   {
    "duration": 166,
    "start_time": "2023-11-30T19:34:38.880Z"
   },
   {
    "duration": 12,
    "start_time": "2023-11-30T19:34:39.047Z"
   },
   {
    "duration": 11,
    "start_time": "2023-11-30T19:34:39.062Z"
   },
   {
    "duration": 17,
    "start_time": "2023-11-30T19:34:39.075Z"
   },
   {
    "duration": 294,
    "start_time": "2023-11-30T19:34:39.094Z"
   },
   {
    "duration": 9,
    "start_time": "2023-11-30T19:34:39.390Z"
   },
   {
    "duration": 21,
    "start_time": "2023-11-30T19:34:39.401Z"
   },
   {
    "duration": 392,
    "start_time": "2023-11-30T19:34:39.423Z"
   },
   {
    "duration": 7,
    "start_time": "2023-11-30T19:34:39.821Z"
   },
   {
    "duration": 13,
    "start_time": "2023-11-30T19:34:39.830Z"
   },
   {
    "duration": 10,
    "start_time": "2023-11-30T19:34:39.845Z"
   },
   {
    "duration": 8,
    "start_time": "2023-11-30T19:34:39.857Z"
   },
   {
    "duration": 5,
    "start_time": "2023-11-30T19:34:39.866Z"
   },
   {
    "duration": 6,
    "start_time": "2023-11-30T19:34:39.872Z"
   },
   {
    "duration": 42,
    "start_time": "2023-11-30T19:34:39.880Z"
   },
   {
    "duration": 9,
    "start_time": "2023-11-30T19:34:39.924Z"
   },
   {
    "duration": 7,
    "start_time": "2023-11-30T19:34:39.935Z"
   },
   {
    "duration": 153,
    "start_time": "2023-11-30T19:34:39.943Z"
   },
   {
    "duration": 13,
    "start_time": "2023-11-30T19:34:40.097Z"
   },
   {
    "duration": 26,
    "start_time": "2023-11-30T19:34:40.111Z"
   },
   {
    "duration": 137,
    "start_time": "2023-11-30T19:34:40.138Z"
   },
   {
    "duration": 124,
    "start_time": "2023-11-30T19:34:40.276Z"
   },
   {
    "duration": 122,
    "start_time": "2023-11-30T19:34:40.401Z"
   },
   {
    "duration": 8,
    "start_time": "2023-11-30T19:34:40.525Z"
   },
   {
    "duration": 5,
    "start_time": "2023-11-30T19:34:40.534Z"
   },
   {
    "duration": 14,
    "start_time": "2023-11-30T19:34:40.541Z"
   },
   {
    "duration": 7,
    "start_time": "2023-11-30T19:34:40.559Z"
   },
   {
    "duration": 9,
    "start_time": "2023-11-30T19:34:40.567Z"
   },
   {
    "duration": 18,
    "start_time": "2023-11-30T19:34:40.577Z"
   },
   {
    "duration": 23,
    "start_time": "2023-11-30T19:34:40.621Z"
   },
   {
    "duration": 4,
    "start_time": "2023-11-30T19:34:40.645Z"
   },
   {
    "duration": 7,
    "start_time": "2023-11-30T19:34:40.650Z"
   },
   {
    "duration": 26,
    "start_time": "2023-11-30T19:34:40.659Z"
   },
   {
    "duration": 40,
    "start_time": "2023-11-30T19:34:40.686Z"
   },
   {
    "duration": 6,
    "start_time": "2023-11-30T19:34:40.729Z"
   },
   {
    "duration": 6,
    "start_time": "2023-11-30T19:34:40.736Z"
   },
   {
    "duration": 8,
    "start_time": "2023-11-30T19:34:40.743Z"
   },
   {
    "duration": 12,
    "start_time": "2023-11-30T19:34:40.753Z"
   },
   {
    "duration": 42,
    "start_time": "2023-11-30T19:34:40.767Z"
   },
   {
    "duration": 24,
    "start_time": "2023-11-30T19:34:40.811Z"
   },
   {
    "duration": 23,
    "start_time": "2023-11-30T19:34:40.836Z"
   },
   {
    "duration": 25,
    "start_time": "2023-11-30T19:34:40.861Z"
   },
   {
    "duration": 163,
    "start_time": "2023-11-30T19:34:40.889Z"
   },
   {
    "duration": 11,
    "start_time": "2023-11-30T19:34:41.054Z"
   },
   {
    "duration": 11,
    "start_time": "2023-11-30T19:34:41.067Z"
   },
   {
    "duration": 175,
    "start_time": "2023-11-30T19:34:41.079Z"
   },
   {
    "duration": 4,
    "start_time": "2023-11-30T19:34:41.255Z"
   },
   {
    "duration": 292,
    "start_time": "2023-11-30T19:34:41.261Z"
   },
   {
    "duration": 7,
    "start_time": "2023-11-30T19:34:41.555Z"
   },
   {
    "duration": 72,
    "start_time": "2023-11-30T19:34:41.563Z"
   },
   {
    "duration": 26,
    "start_time": "2023-11-30T19:34:41.637Z"
   },
   {
    "duration": 177,
    "start_time": "2023-11-30T19:34:41.664Z"
   },
   {
    "duration": 9,
    "start_time": "2023-11-30T19:34:41.842Z"
   },
   {
    "duration": 192,
    "start_time": "2023-11-30T19:34:41.853Z"
   },
   {
    "duration": 9,
    "start_time": "2023-11-30T19:34:42.046Z"
   },
   {
    "duration": 9,
    "start_time": "2023-11-30T19:34:42.057Z"
   },
   {
    "duration": 25,
    "start_time": "2023-11-30T19:34:42.067Z"
   },
   {
    "duration": 21,
    "start_time": "2023-11-30T19:34:42.094Z"
   },
   {
    "duration": 13,
    "start_time": "2023-11-30T19:34:42.117Z"
   },
   {
    "duration": 12,
    "start_time": "2023-11-30T19:34:42.132Z"
   },
   {
    "duration": 15,
    "start_time": "2023-11-30T19:34:42.146Z"
   },
   {
    "duration": 7,
    "start_time": "2023-11-30T19:34:42.163Z"
   },
   {
    "duration": 12,
    "start_time": "2023-11-30T19:34:42.172Z"
   },
   {
    "duration": 13,
    "start_time": "2023-11-30T19:34:42.185Z"
   },
   {
    "duration": 33,
    "start_time": "2023-11-30T19:34:42.200Z"
   },
   {
    "duration": 5,
    "start_time": "2023-11-30T19:34:42.235Z"
   },
   {
    "duration": 10,
    "start_time": "2023-11-30T19:34:42.241Z"
   },
   {
    "duration": 18,
    "start_time": "2023-11-30T19:34:42.252Z"
   },
   {
    "duration": 232,
    "start_time": "2023-11-30T19:34:42.272Z"
   },
   {
    "duration": 18,
    "start_time": "2023-11-30T19:34:42.505Z"
   },
   {
    "duration": 8,
    "start_time": "2023-11-30T19:34:42.524Z"
   },
   {
    "duration": 237,
    "start_time": "2023-11-30T19:34:42.533Z"
   },
   {
    "duration": 5,
    "start_time": "2023-11-30T19:34:42.772Z"
   },
   {
    "duration": 17,
    "start_time": "2023-11-30T19:34:42.778Z"
   },
   {
    "duration": 32,
    "start_time": "2023-11-30T19:34:42.796Z"
   },
   {
    "duration": 5,
    "start_time": "2023-11-30T19:34:42.830Z"
   },
   {
    "duration": 9,
    "start_time": "2023-11-30T19:34:42.836Z"
   },
   {
    "duration": 8,
    "start_time": "2023-11-30T19:34:42.847Z"
   },
   {
    "duration": 9,
    "start_time": "2023-11-30T19:34:42.856Z"
   },
   {
    "duration": 7,
    "start_time": "2023-11-30T19:34:42.867Z"
   },
   {
    "duration": 13,
    "start_time": "2023-11-30T19:34:42.879Z"
   },
   {
    "duration": 12,
    "start_time": "2023-11-30T19:34:42.923Z"
   },
   {
    "duration": 4,
    "start_time": "2023-11-30T19:34:42.937Z"
   },
   {
    "duration": 4,
    "start_time": "2023-11-30T19:34:42.943Z"
   },
   {
    "duration": 6,
    "start_time": "2023-11-30T19:34:42.948Z"
   },
   {
    "duration": 6,
    "start_time": "2023-11-30T19:34:42.955Z"
   },
   {
    "duration": 12,
    "start_time": "2023-11-30T19:34:42.962Z"
   },
   {
    "duration": 14,
    "start_time": "2023-11-30T19:34:42.976Z"
   },
   {
    "duration": 14,
    "start_time": "2023-11-30T19:34:43.022Z"
   },
   {
    "duration": 17,
    "start_time": "2023-11-30T19:34:43.037Z"
   },
   {
    "duration": 10,
    "start_time": "2023-11-30T19:35:35.708Z"
   },
   {
    "duration": 7,
    "start_time": "2023-11-30T19:35:42.691Z"
   },
   {
    "duration": 12,
    "start_time": "2023-11-30T19:35:43.932Z"
   },
   {
    "duration": 22,
    "start_time": "2023-11-30T19:35:47.542Z"
   },
   {
    "duration": 5,
    "start_time": "2023-11-30T19:35:48.531Z"
   },
   {
    "duration": 8,
    "start_time": "2023-11-30T19:35:49.371Z"
   },
   {
    "duration": 13,
    "start_time": "2023-11-30T19:35:50.789Z"
   },
   {
    "duration": 1190,
    "start_time": "2023-11-30T19:36:47.706Z"
   },
   {
    "duration": 142,
    "start_time": "2023-11-30T19:36:48.897Z"
   },
   {
    "duration": 11,
    "start_time": "2023-11-30T19:36:49.041Z"
   },
   {
    "duration": 11,
    "start_time": "2023-11-30T19:36:49.054Z"
   },
   {
    "duration": 15,
    "start_time": "2023-11-30T19:36:49.066Z"
   },
   {
    "duration": 296,
    "start_time": "2023-11-30T19:36:49.082Z"
   },
   {
    "duration": 9,
    "start_time": "2023-11-30T19:36:49.380Z"
   },
   {
    "duration": 40,
    "start_time": "2023-11-30T19:36:49.390Z"
   },
   {
    "duration": 400,
    "start_time": "2023-11-30T19:36:49.432Z"
   },
   {
    "duration": 7,
    "start_time": "2023-11-30T19:36:49.835Z"
   },
   {
    "duration": 12,
    "start_time": "2023-11-30T19:36:49.843Z"
   },
   {
    "duration": 9,
    "start_time": "2023-11-30T19:36:49.857Z"
   },
   {
    "duration": 9,
    "start_time": "2023-11-30T19:36:49.867Z"
   },
   {
    "duration": 4,
    "start_time": "2023-11-30T19:36:49.878Z"
   },
   {
    "duration": 10,
    "start_time": "2023-11-30T19:36:49.883Z"
   },
   {
    "duration": 8,
    "start_time": "2023-11-30T19:36:49.922Z"
   },
   {
    "duration": 14,
    "start_time": "2023-11-30T19:36:49.932Z"
   },
   {
    "duration": 4,
    "start_time": "2023-11-30T19:36:49.948Z"
   },
   {
    "duration": 152,
    "start_time": "2023-11-30T19:36:49.953Z"
   },
   {
    "duration": 19,
    "start_time": "2023-11-30T19:36:50.107Z"
   },
   {
    "duration": 45,
    "start_time": "2023-11-30T19:36:50.128Z"
   },
   {
    "duration": 135,
    "start_time": "2023-11-30T19:36:50.174Z"
   },
   {
    "duration": 135,
    "start_time": "2023-11-30T19:36:50.311Z"
   },
   {
    "duration": 136,
    "start_time": "2023-11-30T19:36:50.447Z"
   },
   {
    "duration": 8,
    "start_time": "2023-11-30T19:36:50.586Z"
   },
   {
    "duration": 19,
    "start_time": "2023-11-30T19:36:50.596Z"
   },
   {
    "duration": 32,
    "start_time": "2023-11-30T19:36:50.616Z"
   },
   {
    "duration": 15,
    "start_time": "2023-11-30T19:36:50.654Z"
   },
   {
    "duration": 13,
    "start_time": "2023-11-30T19:36:50.670Z"
   },
   {
    "duration": 26,
    "start_time": "2023-11-30T19:36:50.684Z"
   },
   {
    "duration": 33,
    "start_time": "2023-11-30T19:36:50.712Z"
   },
   {
    "duration": 4,
    "start_time": "2023-11-30T19:36:50.747Z"
   },
   {
    "duration": 20,
    "start_time": "2023-11-30T19:36:50.752Z"
   },
   {
    "duration": 15,
    "start_time": "2023-11-30T19:36:50.774Z"
   },
   {
    "duration": 24,
    "start_time": "2023-11-30T19:36:50.790Z"
   },
   {
    "duration": 10,
    "start_time": "2023-11-30T19:36:50.815Z"
   },
   {
    "duration": 5,
    "start_time": "2023-11-30T19:36:50.826Z"
   },
   {
    "duration": 10,
    "start_time": "2023-11-30T19:36:50.833Z"
   },
   {
    "duration": 7,
    "start_time": "2023-11-30T19:36:50.845Z"
   },
   {
    "duration": 22,
    "start_time": "2023-11-30T19:36:50.854Z"
   },
   {
    "duration": 8,
    "start_time": "2023-11-30T19:36:50.878Z"
   },
   {
    "duration": 28,
    "start_time": "2023-11-30T19:36:50.888Z"
   },
   {
    "duration": 14,
    "start_time": "2023-11-30T19:36:50.918Z"
   },
   {
    "duration": 145,
    "start_time": "2023-11-30T19:36:50.934Z"
   },
   {
    "duration": 9,
    "start_time": "2023-11-30T19:36:51.081Z"
   },
   {
    "duration": 29,
    "start_time": "2023-11-30T19:36:51.091Z"
   },
   {
    "duration": 163,
    "start_time": "2023-11-30T19:36:51.122Z"
   },
   {
    "duration": 4,
    "start_time": "2023-11-30T19:36:51.287Z"
   },
   {
    "duration": 279,
    "start_time": "2023-11-30T19:36:51.293Z"
   },
   {
    "duration": 7,
    "start_time": "2023-11-30T19:36:51.574Z"
   },
   {
    "duration": 14,
    "start_time": "2023-11-30T19:36:51.582Z"
   },
   {
    "duration": 16,
    "start_time": "2023-11-30T19:36:51.597Z"
   },
   {
    "duration": 184,
    "start_time": "2023-11-30T19:36:51.614Z"
   },
   {
    "duration": 9,
    "start_time": "2023-11-30T19:36:51.800Z"
   },
   {
    "duration": 217,
    "start_time": "2023-11-30T19:36:51.810Z"
   },
   {
    "duration": 8,
    "start_time": "2023-11-30T19:36:52.029Z"
   },
   {
    "duration": 15,
    "start_time": "2023-11-30T19:36:52.039Z"
   },
   {
    "duration": 28,
    "start_time": "2023-11-30T19:36:52.055Z"
   },
   {
    "duration": 18,
    "start_time": "2023-11-30T19:36:52.085Z"
   },
   {
    "duration": 33,
    "start_time": "2023-11-30T19:36:52.105Z"
   },
   {
    "duration": 31,
    "start_time": "2023-11-30T19:36:52.139Z"
   },
   {
    "duration": 35,
    "start_time": "2023-11-30T19:36:52.171Z"
   },
   {
    "duration": 17,
    "start_time": "2023-11-30T19:36:52.208Z"
   },
   {
    "duration": 16,
    "start_time": "2023-11-30T19:36:52.226Z"
   },
   {
    "duration": 9,
    "start_time": "2023-11-30T19:36:52.244Z"
   },
   {
    "duration": 37,
    "start_time": "2023-11-30T19:36:52.254Z"
   },
   {
    "duration": 14,
    "start_time": "2023-11-30T19:36:52.293Z"
   },
   {
    "duration": 19,
    "start_time": "2023-11-30T19:36:52.308Z"
   },
   {
    "duration": 9,
    "start_time": "2023-11-30T19:36:52.329Z"
   },
   {
    "duration": 215,
    "start_time": "2023-11-30T19:36:52.340Z"
   },
   {
    "duration": 9,
    "start_time": "2023-11-30T19:36:52.557Z"
   },
   {
    "duration": 29,
    "start_time": "2023-11-30T19:36:52.568Z"
   },
   {
    "duration": 258,
    "start_time": "2023-11-30T19:36:52.599Z"
   },
   {
    "duration": 5,
    "start_time": "2023-11-30T19:36:52.859Z"
   },
   {
    "duration": 19,
    "start_time": "2023-11-30T19:36:52.866Z"
   },
   {
    "duration": 35,
    "start_time": "2023-11-30T19:36:52.887Z"
   },
   {
    "duration": 5,
    "start_time": "2023-11-30T19:36:52.924Z"
   },
   {
    "duration": 33,
    "start_time": "2023-11-30T19:36:52.931Z"
   },
   {
    "duration": 14,
    "start_time": "2023-11-30T19:36:52.966Z"
   },
   {
    "duration": 13,
    "start_time": "2023-11-30T19:36:52.981Z"
   },
   {
    "duration": 8,
    "start_time": "2023-11-30T19:36:52.996Z"
   },
   {
    "duration": 19,
    "start_time": "2023-11-30T19:36:53.011Z"
   },
   {
    "duration": 24,
    "start_time": "2023-11-30T19:36:53.031Z"
   },
   {
    "duration": 13,
    "start_time": "2023-11-30T19:36:53.056Z"
   },
   {
    "duration": 17,
    "start_time": "2023-11-30T19:36:53.071Z"
   },
   {
    "duration": 30,
    "start_time": "2023-11-30T19:36:53.090Z"
   },
   {
    "duration": 13,
    "start_time": "2023-11-30T19:36:53.122Z"
   },
   {
    "duration": 21,
    "start_time": "2023-11-30T19:36:53.137Z"
   },
   {
    "duration": 18,
    "start_time": "2023-11-30T19:36:53.159Z"
   },
   {
    "duration": 16,
    "start_time": "2023-11-30T19:36:53.179Z"
   },
   {
    "duration": 26,
    "start_time": "2023-11-30T19:36:53.196Z"
   },
   {
    "duration": 1252,
    "start_time": "2023-12-02T15:08:32.433Z"
   },
   {
    "duration": 267,
    "start_time": "2023-12-02T15:08:33.687Z"
   },
   {
    "duration": 13,
    "start_time": "2023-12-02T15:08:33.955Z"
   },
   {
    "duration": 11,
    "start_time": "2023-12-02T15:08:33.970Z"
   },
   {
    "duration": 324,
    "start_time": "2023-12-02T15:08:33.983Z"
   },
   {
    "duration": 9,
    "start_time": "2023-12-02T15:08:34.309Z"
   },
   {
    "duration": 34,
    "start_time": "2023-12-02T15:08:34.319Z"
   },
   {
    "duration": 416,
    "start_time": "2023-12-02T15:08:34.354Z"
   },
   {
    "duration": 7,
    "start_time": "2023-12-02T15:08:34.772Z"
   },
   {
    "duration": 14,
    "start_time": "2023-12-02T15:08:34.781Z"
   },
   {
    "duration": 7,
    "start_time": "2023-12-02T15:08:34.807Z"
   },
   {
    "duration": 13,
    "start_time": "2023-12-02T15:08:34.816Z"
   },
   {
    "duration": 8,
    "start_time": "2023-12-02T15:08:34.830Z"
   },
   {
    "duration": 16,
    "start_time": "2023-12-02T15:08:34.839Z"
   },
   {
    "duration": 18,
    "start_time": "2023-12-02T15:08:34.857Z"
   },
   {
    "duration": 15,
    "start_time": "2023-12-02T15:08:34.877Z"
   },
   {
    "duration": 6,
    "start_time": "2023-12-02T15:08:34.893Z"
   },
   {
    "duration": 148,
    "start_time": "2023-12-02T15:08:34.906Z"
   },
   {
    "duration": 11,
    "start_time": "2023-12-02T15:08:35.056Z"
   },
   {
    "duration": 6,
    "start_time": "2023-12-02T15:08:35.069Z"
   },
   {
    "duration": 165,
    "start_time": "2023-12-02T15:08:35.076Z"
   },
   {
    "duration": 140,
    "start_time": "2023-12-02T15:08:35.243Z"
   },
   {
    "duration": 134,
    "start_time": "2023-12-02T15:08:35.385Z"
   },
   {
    "duration": 9,
    "start_time": "2023-12-02T15:08:35.520Z"
   },
   {
    "duration": 31,
    "start_time": "2023-12-02T15:08:35.531Z"
   },
   {
    "duration": 65,
    "start_time": "2023-12-02T15:08:35.563Z"
   },
   {
    "duration": 11,
    "start_time": "2023-12-02T15:08:35.629Z"
   },
   {
    "duration": 17,
    "start_time": "2023-12-02T15:08:35.645Z"
   },
   {
    "duration": 14,
    "start_time": "2023-12-02T15:08:35.664Z"
   },
   {
    "duration": 34,
    "start_time": "2023-12-02T15:08:35.679Z"
   },
   {
    "duration": 30,
    "start_time": "2023-12-02T15:08:35.715Z"
   },
   {
    "duration": 85,
    "start_time": "2023-12-02T15:08:35.747Z"
   },
   {
    "duration": 25,
    "start_time": "2023-12-02T15:08:35.834Z"
   },
   {
    "duration": 25,
    "start_time": "2023-12-02T15:08:35.861Z"
   },
   {
    "duration": 7,
    "start_time": "2023-12-02T15:08:35.889Z"
   },
   {
    "duration": 5,
    "start_time": "2023-12-02T15:08:35.898Z"
   },
   {
    "duration": 54,
    "start_time": "2023-12-02T15:08:35.905Z"
   },
   {
    "duration": 11,
    "start_time": "2023-12-02T15:08:35.961Z"
   },
   {
    "duration": 27,
    "start_time": "2023-12-02T15:08:35.974Z"
   },
   {
    "duration": 23,
    "start_time": "2023-12-02T15:08:36.003Z"
   },
   {
    "duration": 23,
    "start_time": "2023-12-02T15:08:36.028Z"
   },
   {
    "duration": 18,
    "start_time": "2023-12-02T15:08:36.053Z"
   },
   {
    "duration": 390,
    "start_time": "2023-12-02T15:08:36.073Z"
   },
   {
    "duration": 8,
    "start_time": "2023-12-02T15:08:36.465Z"
   },
   {
    "duration": 101,
    "start_time": "2023-12-02T15:08:36.474Z"
   },
   {
    "duration": 5,
    "start_time": "2023-12-02T15:08:36.576Z"
   },
   {
    "duration": 291,
    "start_time": "2023-12-02T15:08:36.582Z"
   },
   {
    "duration": 8,
    "start_time": "2023-12-02T15:08:36.875Z"
   },
   {
    "duration": 45,
    "start_time": "2023-12-02T15:08:36.884Z"
   },
   {
    "duration": 18,
    "start_time": "2023-12-02T15:08:36.931Z"
   },
   {
    "duration": 184,
    "start_time": "2023-12-02T15:08:36.951Z"
   },
   {
    "duration": 8,
    "start_time": "2023-12-02T15:08:37.137Z"
   },
   {
    "duration": 188,
    "start_time": "2023-12-02T15:08:37.147Z"
   },
   {
    "duration": 10,
    "start_time": "2023-12-02T15:08:37.336Z"
   },
   {
    "duration": 33,
    "start_time": "2023-12-02T15:08:37.347Z"
   },
   {
    "duration": 22,
    "start_time": "2023-12-02T15:08:37.381Z"
   },
   {
    "duration": 29,
    "start_time": "2023-12-02T15:08:37.405Z"
   },
   {
    "duration": 19,
    "start_time": "2023-12-02T15:08:37.436Z"
   },
   {
    "duration": 14,
    "start_time": "2023-12-02T15:08:37.456Z"
   },
   {
    "duration": 15,
    "start_time": "2023-12-02T15:08:37.472Z"
   },
   {
    "duration": 26,
    "start_time": "2023-12-02T15:08:37.489Z"
   },
   {
    "duration": 12,
    "start_time": "2023-12-02T15:08:37.516Z"
   },
   {
    "duration": 16,
    "start_time": "2023-12-02T15:08:37.529Z"
   },
   {
    "duration": 32,
    "start_time": "2023-12-02T15:08:37.547Z"
   },
   {
    "duration": 39,
    "start_time": "2023-12-02T15:08:37.580Z"
   },
   {
    "duration": 39,
    "start_time": "2023-12-02T15:08:37.620Z"
   },
   {
    "duration": 8,
    "start_time": "2023-12-02T15:08:37.661Z"
   },
   {
    "duration": 220,
    "start_time": "2023-12-02T15:08:37.670Z"
   },
   {
    "duration": 15,
    "start_time": "2023-12-02T15:08:37.892Z"
   },
   {
    "duration": 9,
    "start_time": "2023-12-02T15:08:37.909Z"
   },
   {
    "duration": 237,
    "start_time": "2023-12-02T15:08:37.920Z"
   },
   {
    "duration": 5,
    "start_time": "2023-12-02T15:08:38.159Z"
   },
   {
    "duration": 26,
    "start_time": "2023-12-02T15:08:38.166Z"
   },
   {
    "duration": 21,
    "start_time": "2023-12-02T15:08:38.194Z"
   },
   {
    "duration": 36,
    "start_time": "2023-12-02T15:08:38.217Z"
   },
   {
    "duration": 5,
    "start_time": "2023-12-02T15:08:38.255Z"
   },
   {
    "duration": 42,
    "start_time": "2023-12-02T15:08:38.262Z"
   },
   {
    "duration": 51,
    "start_time": "2023-12-02T15:08:38.306Z"
   },
   {
    "duration": 12,
    "start_time": "2023-12-02T15:08:38.359Z"
   },
   {
    "duration": 33,
    "start_time": "2023-12-02T15:08:38.373Z"
   },
   {
    "duration": 10,
    "start_time": "2023-12-02T15:08:38.408Z"
   },
   {
    "duration": 8,
    "start_time": "2023-12-02T15:08:38.424Z"
   },
   {
    "duration": 27,
    "start_time": "2023-12-02T15:08:38.433Z"
   },
   {
    "duration": 17,
    "start_time": "2023-12-02T15:08:38.461Z"
   },
   {
    "duration": 7,
    "start_time": "2023-12-02T15:08:38.479Z"
   },
   {
    "duration": 11,
    "start_time": "2023-12-02T15:08:38.487Z"
   },
   {
    "duration": 23,
    "start_time": "2023-12-02T15:08:38.500Z"
   },
   {
    "duration": 5,
    "start_time": "2023-12-02T15:08:38.525Z"
   },
   {
    "duration": 8,
    "start_time": "2023-12-02T15:08:38.531Z"
   },
   {
    "duration": 7,
    "start_time": "2023-12-02T15:08:38.541Z"
   },
   {
    "duration": 13,
    "start_time": "2023-12-02T15:08:38.550Z"
   },
   {
    "duration": 13,
    "start_time": "2023-12-02T15:08:38.564Z"
   },
   {
    "duration": 13,
    "start_time": "2023-12-02T15:08:38.579Z"
   },
   {
    "duration": 22,
    "start_time": "2023-12-02T15:08:38.594Z"
   },
   {
    "duration": 10,
    "start_time": "2023-12-02T15:08:38.618Z"
   },
   {
    "duration": 7,
    "start_time": "2023-12-02T15:23:43.219Z"
   },
   {
    "duration": 10,
    "start_time": "2023-12-02T15:23:48.038Z"
   },
   {
    "duration": 1317,
    "start_time": "2023-12-02T15:23:53.182Z"
   },
   {
    "duration": 11,
    "start_time": "2023-12-02T15:23:55.037Z"
   },
   {
    "duration": 12,
    "start_time": "2023-12-02T15:23:59.172Z"
   },
   {
    "duration": 5,
    "start_time": "2023-12-02T15:24:00.182Z"
   },
   {
    "duration": 1251,
    "start_time": "2023-12-02T15:24:06.975Z"
   },
   {
    "duration": 146,
    "start_time": "2023-12-02T15:24:08.228Z"
   },
   {
    "duration": 11,
    "start_time": "2023-12-02T15:24:08.376Z"
   },
   {
    "duration": 24,
    "start_time": "2023-12-02T15:24:08.389Z"
   },
   {
    "duration": 363,
    "start_time": "2023-12-02T15:24:08.415Z"
   },
   {
    "duration": 9,
    "start_time": "2023-12-02T15:24:08.780Z"
   },
   {
    "duration": 26,
    "start_time": "2023-12-02T15:24:08.791Z"
   },
   {
    "duration": 414,
    "start_time": "2023-12-02T15:24:08.819Z"
   },
   {
    "duration": 8,
    "start_time": "2023-12-02T15:24:09.234Z"
   },
   {
    "duration": 14,
    "start_time": "2023-12-02T15:24:09.244Z"
   },
   {
    "duration": 12,
    "start_time": "2023-12-02T15:24:09.259Z"
   },
   {
    "duration": 17,
    "start_time": "2023-12-02T15:24:09.273Z"
   },
   {
    "duration": 14,
    "start_time": "2023-12-02T15:24:09.292Z"
   },
   {
    "duration": 11,
    "start_time": "2023-12-02T15:24:09.308Z"
   },
   {
    "duration": 11,
    "start_time": "2023-12-02T15:24:09.321Z"
   },
   {
    "duration": 11,
    "start_time": "2023-12-02T15:24:09.334Z"
   },
   {
    "duration": 6,
    "start_time": "2023-12-02T15:24:09.347Z"
   },
   {
    "duration": 167,
    "start_time": "2023-12-02T15:24:09.355Z"
   },
   {
    "duration": 14,
    "start_time": "2023-12-02T15:24:09.524Z"
   },
   {
    "duration": 16,
    "start_time": "2023-12-02T15:24:09.540Z"
   },
   {
    "duration": 155,
    "start_time": "2023-12-02T15:24:09.558Z"
   },
   {
    "duration": 145,
    "start_time": "2023-12-02T15:24:09.715Z"
   },
   {
    "duration": 135,
    "start_time": "2023-12-02T15:24:09.862Z"
   },
   {
    "duration": 9,
    "start_time": "2023-12-02T15:24:10.006Z"
   },
   {
    "duration": 90,
    "start_time": "2023-12-02T15:24:10.017Z"
   },
   {
    "duration": 125,
    "start_time": "2023-12-02T15:24:10.109Z"
   },
   {
    "duration": 101,
    "start_time": "2023-12-02T15:24:10.236Z"
   },
   {
    "duration": 17,
    "start_time": "2023-12-02T15:24:10.342Z"
   },
   {
    "duration": 35,
    "start_time": "2023-12-02T15:24:10.361Z"
   },
   {
    "duration": 29,
    "start_time": "2023-12-02T15:24:10.398Z"
   },
   {
    "duration": 3,
    "start_time": "2023-12-02T15:24:10.429Z"
   },
   {
    "duration": 35,
    "start_time": "2023-12-02T15:24:10.434Z"
   },
   {
    "duration": 28,
    "start_time": "2023-12-02T15:24:10.470Z"
   },
   {
    "duration": 33,
    "start_time": "2023-12-02T15:24:10.500Z"
   },
   {
    "duration": 5,
    "start_time": "2023-12-02T15:24:10.535Z"
   },
   {
    "duration": 8,
    "start_time": "2023-12-02T15:24:10.542Z"
   },
   {
    "duration": 21,
    "start_time": "2023-12-02T15:24:10.552Z"
   },
   {
    "duration": 6,
    "start_time": "2023-12-02T15:24:10.575Z"
   },
   {
    "duration": 20,
    "start_time": "2023-12-02T15:24:10.582Z"
   },
   {
    "duration": 10,
    "start_time": "2023-12-02T15:24:10.604Z"
   },
   {
    "duration": 25,
    "start_time": "2023-12-02T15:24:10.616Z"
   },
   {
    "duration": 14,
    "start_time": "2023-12-02T15:24:10.642Z"
   },
   {
    "duration": 400,
    "start_time": "2023-12-02T15:24:10.658Z"
   },
   {
    "duration": 9,
    "start_time": "2023-12-02T15:24:11.060Z"
   },
   {
    "duration": 97,
    "start_time": "2023-12-02T15:24:11.070Z"
   },
   {
    "duration": 4,
    "start_time": "2023-12-02T15:24:11.169Z"
   },
   {
    "duration": 296,
    "start_time": "2023-12-02T15:24:11.175Z"
   },
   {
    "duration": 7,
    "start_time": "2023-12-02T15:24:11.473Z"
   },
   {
    "duration": 14,
    "start_time": "2023-12-02T15:24:11.482Z"
   },
   {
    "duration": 9,
    "start_time": "2023-12-02T15:24:11.506Z"
   },
   {
    "duration": 193,
    "start_time": "2023-12-02T15:24:11.517Z"
   },
   {
    "duration": 8,
    "start_time": "2023-12-02T15:24:11.712Z"
   },
   {
    "duration": 198,
    "start_time": "2023-12-02T15:24:11.722Z"
   },
   {
    "duration": 10,
    "start_time": "2023-12-02T15:24:11.922Z"
   },
   {
    "duration": 27,
    "start_time": "2023-12-02T15:24:11.933Z"
   },
   {
    "duration": 15,
    "start_time": "2023-12-02T15:24:11.962Z"
   },
   {
    "duration": 8,
    "start_time": "2023-12-02T15:24:11.978Z"
   },
   {
    "duration": 5,
    "start_time": "2023-12-02T15:24:11.988Z"
   },
   {
    "duration": 19,
    "start_time": "2023-12-02T15:24:11.994Z"
   },
   {
    "duration": 29,
    "start_time": "2023-12-02T15:24:12.015Z"
   },
   {
    "duration": 25,
    "start_time": "2023-12-02T15:24:12.046Z"
   },
   {
    "duration": 17,
    "start_time": "2023-12-02T15:24:12.073Z"
   },
   {
    "duration": 19,
    "start_time": "2023-12-02T15:24:12.091Z"
   },
   {
    "duration": 16,
    "start_time": "2023-12-02T15:24:12.111Z"
   },
   {
    "duration": 25,
    "start_time": "2023-12-02T15:24:12.129Z"
   },
   {
    "duration": 20,
    "start_time": "2023-12-02T15:24:12.155Z"
   },
   {
    "duration": 17,
    "start_time": "2023-12-02T15:24:12.177Z"
   },
   {
    "duration": 225,
    "start_time": "2023-12-02T15:24:12.196Z"
   },
   {
    "duration": 8,
    "start_time": "2023-12-02T15:24:12.423Z"
   },
   {
    "duration": 12,
    "start_time": "2023-12-02T15:24:12.432Z"
   },
   {
    "duration": 229,
    "start_time": "2023-12-02T15:24:12.446Z"
   },
   {
    "duration": 5,
    "start_time": "2023-12-02T15:24:12.677Z"
   },
   {
    "duration": 42,
    "start_time": "2023-12-02T15:24:12.684Z"
   },
   {
    "duration": 21,
    "start_time": "2023-12-02T15:24:12.728Z"
   },
   {
    "duration": 39,
    "start_time": "2023-12-02T15:24:12.750Z"
   },
   {
    "duration": 35,
    "start_time": "2023-12-02T15:24:12.791Z"
   },
   {
    "duration": 14,
    "start_time": "2023-12-02T15:24:12.828Z"
   },
   {
    "duration": 39,
    "start_time": "2023-12-02T15:24:12.844Z"
   },
   {
    "duration": 8,
    "start_time": "2023-12-02T15:24:12.884Z"
   },
   {
    "duration": 8,
    "start_time": "2023-12-02T15:24:12.894Z"
   },
   {
    "duration": 9,
    "start_time": "2023-12-02T15:24:12.903Z"
   },
   {
    "duration": 7,
    "start_time": "2023-12-02T15:24:12.917Z"
   },
   {
    "duration": 11,
    "start_time": "2023-12-02T15:24:12.925Z"
   },
   {
    "duration": 24,
    "start_time": "2023-12-02T15:24:12.937Z"
   },
   {
    "duration": 14,
    "start_time": "2023-12-02T15:24:12.962Z"
   },
   {
    "duration": 14,
    "start_time": "2023-12-02T15:24:12.978Z"
   },
   {
    "duration": 27,
    "start_time": "2023-12-02T15:24:12.993Z"
   },
   {
    "duration": 5,
    "start_time": "2023-12-02T15:24:13.022Z"
   },
   {
    "duration": 20,
    "start_time": "2023-12-02T15:24:13.029Z"
   },
   {
    "duration": 20,
    "start_time": "2023-12-02T15:24:13.050Z"
   },
   {
    "duration": 29,
    "start_time": "2023-12-02T15:24:13.072Z"
   },
   {
    "duration": 53,
    "start_time": "2023-12-02T15:24:13.103Z"
   },
   {
    "duration": 26,
    "start_time": "2023-12-02T15:24:13.158Z"
   },
   {
    "duration": 28,
    "start_time": "2023-12-02T15:24:13.186Z"
   },
   {
    "duration": 19,
    "start_time": "2023-12-02T15:24:13.216Z"
   },
   {
    "duration": 84,
    "start_time": "2023-12-02T15:25:01.013Z"
   },
   {
    "duration": 905,
    "start_time": "2023-12-02T15:25:08.640Z"
   },
   {
    "duration": 723,
    "start_time": "2023-12-02T15:25:32.662Z"
   },
   {
    "duration": 707,
    "start_time": "2023-12-02T15:29:21.596Z"
   },
   {
    "duration": 708,
    "start_time": "2023-12-02T15:29:37.746Z"
   },
   {
    "duration": 825,
    "start_time": "2023-12-02T15:30:02.085Z"
   },
   {
    "duration": 723,
    "start_time": "2023-12-02T15:30:29.796Z"
   },
   {
    "duration": 691,
    "start_time": "2023-12-02T15:31:44.863Z"
   },
   {
    "duration": 746,
    "start_time": "2023-12-02T15:31:50.905Z"
   },
   {
    "duration": 600,
    "start_time": "2023-12-02T15:32:10.264Z"
   },
   {
    "duration": 605,
    "start_time": "2023-12-02T15:32:17.814Z"
   },
   {
    "duration": 609,
    "start_time": "2023-12-02T15:32:22.032Z"
   },
   {
    "duration": 691,
    "start_time": "2023-12-02T15:32:26.582Z"
   },
   {
    "duration": 619,
    "start_time": "2023-12-02T15:32:31.887Z"
   },
   {
    "duration": 595,
    "start_time": "2023-12-02T15:32:34.986Z"
   },
   {
    "duration": 687,
    "start_time": "2023-12-02T15:32:41.751Z"
   },
   {
    "duration": 741,
    "start_time": "2023-12-02T15:32:45.398Z"
   },
   {
    "duration": 600,
    "start_time": "2023-12-02T15:32:55.614Z"
   },
   {
    "duration": 599,
    "start_time": "2023-12-02T15:32:59.898Z"
   },
   {
    "duration": 719,
    "start_time": "2023-12-02T15:35:31.175Z"
   },
   {
    "duration": 1291,
    "start_time": "2023-12-02T15:37:45.999Z"
   },
   {
    "duration": 154,
    "start_time": "2023-12-02T15:37:47.292Z"
   },
   {
    "duration": 12,
    "start_time": "2023-12-02T15:37:47.448Z"
   },
   {
    "duration": 17,
    "start_time": "2023-12-02T15:37:47.462Z"
   },
   {
    "duration": 341,
    "start_time": "2023-12-02T15:37:47.480Z"
   },
   {
    "duration": 9,
    "start_time": "2023-12-02T15:37:47.823Z"
   },
   {
    "duration": 46,
    "start_time": "2023-12-02T15:37:47.834Z"
   },
   {
    "duration": 464,
    "start_time": "2023-12-02T15:37:47.882Z"
   },
   {
    "duration": 8,
    "start_time": "2023-12-02T15:37:48.348Z"
   },
   {
    "duration": 21,
    "start_time": "2023-12-02T15:37:48.359Z"
   },
   {
    "duration": 38,
    "start_time": "2023-12-02T15:37:48.382Z"
   },
   {
    "duration": 21,
    "start_time": "2023-12-02T15:37:48.422Z"
   },
   {
    "duration": 19,
    "start_time": "2023-12-02T15:37:48.444Z"
   },
   {
    "duration": 26,
    "start_time": "2023-12-02T15:37:48.464Z"
   },
   {
    "duration": 12,
    "start_time": "2023-12-02T15:37:48.491Z"
   },
   {
    "duration": 20,
    "start_time": "2023-12-02T15:37:48.504Z"
   },
   {
    "duration": 11,
    "start_time": "2023-12-02T15:37:48.526Z"
   },
   {
    "duration": 156,
    "start_time": "2023-12-02T15:37:48.539Z"
   },
   {
    "duration": 24,
    "start_time": "2023-12-02T15:37:48.697Z"
   },
   {
    "duration": 19,
    "start_time": "2023-12-02T15:37:48.724Z"
   },
   {
    "duration": 140,
    "start_time": "2023-12-02T15:37:48.745Z"
   },
   {
    "duration": 140,
    "start_time": "2023-12-02T15:37:48.887Z"
   },
   {
    "duration": 146,
    "start_time": "2023-12-02T15:37:49.028Z"
   },
   {
    "duration": 8,
    "start_time": "2023-12-02T15:37:49.176Z"
   },
   {
    "duration": 30,
    "start_time": "2023-12-02T15:37:49.186Z"
   },
   {
    "duration": 17,
    "start_time": "2023-12-02T15:37:49.218Z"
   },
   {
    "duration": 16,
    "start_time": "2023-12-02T15:37:49.236Z"
   },
   {
    "duration": 20,
    "start_time": "2023-12-02T15:37:49.257Z"
   },
   {
    "duration": 27,
    "start_time": "2023-12-02T15:37:49.279Z"
   },
   {
    "duration": 21,
    "start_time": "2023-12-02T15:37:49.307Z"
   },
   {
    "duration": 10,
    "start_time": "2023-12-02T15:37:49.329Z"
   },
   {
    "duration": 9,
    "start_time": "2023-12-02T15:37:49.341Z"
   },
   {
    "duration": 13,
    "start_time": "2023-12-02T15:37:49.352Z"
   },
   {
    "duration": 28,
    "start_time": "2023-12-02T15:37:49.367Z"
   },
   {
    "duration": 14,
    "start_time": "2023-12-02T15:37:49.396Z"
   },
   {
    "duration": 6,
    "start_time": "2023-12-02T15:37:49.412Z"
   },
   {
    "duration": 25,
    "start_time": "2023-12-02T15:37:49.420Z"
   },
   {
    "duration": 7,
    "start_time": "2023-12-02T15:37:49.447Z"
   },
   {
    "duration": 6,
    "start_time": "2023-12-02T15:37:49.456Z"
   },
   {
    "duration": 4,
    "start_time": "2023-12-02T15:37:49.464Z"
   },
   {
    "duration": 32,
    "start_time": "2023-12-02T15:37:49.469Z"
   },
   {
    "duration": 15,
    "start_time": "2023-12-02T15:37:49.503Z"
   },
   {
    "duration": 372,
    "start_time": "2023-12-02T15:37:49.519Z"
   },
   {
    "duration": 14,
    "start_time": "2023-12-02T15:37:49.893Z"
   },
   {
    "duration": 82,
    "start_time": "2023-12-02T15:37:49.909Z"
   },
   {
    "duration": 5,
    "start_time": "2023-12-02T15:37:50.006Z"
   },
   {
    "duration": 301,
    "start_time": "2023-12-02T15:37:50.013Z"
   },
   {
    "duration": 8,
    "start_time": "2023-12-02T15:37:50.316Z"
   },
   {
    "duration": 16,
    "start_time": "2023-12-02T15:37:50.326Z"
   },
   {
    "duration": 13,
    "start_time": "2023-12-02T15:37:50.344Z"
   },
   {
    "duration": 200,
    "start_time": "2023-12-02T15:37:50.359Z"
   },
   {
    "duration": 10,
    "start_time": "2023-12-02T15:37:50.561Z"
   },
   {
    "duration": 203,
    "start_time": "2023-12-02T15:37:50.573Z"
   },
   {
    "duration": 10,
    "start_time": "2023-12-02T15:37:50.779Z"
   },
   {
    "duration": 23,
    "start_time": "2023-12-02T15:37:50.791Z"
   },
   {
    "duration": 65,
    "start_time": "2023-12-02T15:37:50.816Z"
   },
   {
    "duration": 18,
    "start_time": "2023-12-02T15:37:50.882Z"
   },
   {
    "duration": 11,
    "start_time": "2023-12-02T15:37:50.902Z"
   },
   {
    "duration": 23,
    "start_time": "2023-12-02T15:37:50.915Z"
   },
   {
    "duration": 30,
    "start_time": "2023-12-02T15:37:50.940Z"
   },
   {
    "duration": 9,
    "start_time": "2023-12-02T15:37:50.972Z"
   },
   {
    "duration": 14,
    "start_time": "2023-12-02T15:37:50.983Z"
   },
   {
    "duration": 26,
    "start_time": "2023-12-02T15:37:50.999Z"
   },
   {
    "duration": 24,
    "start_time": "2023-12-02T15:37:51.027Z"
   },
   {
    "duration": 20,
    "start_time": "2023-12-02T15:37:51.053Z"
   },
   {
    "duration": 13,
    "start_time": "2023-12-02T15:37:51.075Z"
   },
   {
    "duration": 12,
    "start_time": "2023-12-02T15:37:51.090Z"
   },
   {
    "duration": 239,
    "start_time": "2023-12-02T15:37:51.103Z"
   },
   {
    "duration": 8,
    "start_time": "2023-12-02T15:37:51.344Z"
   },
   {
    "duration": 17,
    "start_time": "2023-12-02T15:37:51.354Z"
   },
   {
    "duration": 232,
    "start_time": "2023-12-02T15:37:51.373Z"
   },
   {
    "duration": 5,
    "start_time": "2023-12-02T15:37:51.606Z"
   },
   {
    "duration": 82,
    "start_time": "2023-12-02T15:37:51.612Z"
   },
   {
    "duration": 217,
    "start_time": "2023-12-02T15:37:51.695Z"
   },
   {
    "duration": 25,
    "start_time": "2023-12-02T15:37:51.913Z"
   },
   {
    "duration": 4,
    "start_time": "2023-12-02T15:37:51.940Z"
   },
   {
    "duration": 5,
    "start_time": "2023-12-02T15:37:51.946Z"
   },
   {
    "duration": 10,
    "start_time": "2023-12-02T15:37:51.953Z"
   },
   {
    "duration": 20,
    "start_time": "2023-12-02T15:37:51.965Z"
   },
   {
    "duration": 26,
    "start_time": "2023-12-02T15:37:51.987Z"
   },
   {
    "duration": 15,
    "start_time": "2023-12-02T15:37:52.014Z"
   },
   {
    "duration": 15,
    "start_time": "2023-12-02T15:37:52.035Z"
   },
   {
    "duration": 35,
    "start_time": "2023-12-02T15:37:52.052Z"
   },
   {
    "duration": 25,
    "start_time": "2023-12-02T15:37:52.088Z"
   },
   {
    "duration": 18,
    "start_time": "2023-12-02T15:37:52.114Z"
   },
   {
    "duration": 22,
    "start_time": "2023-12-02T15:37:52.134Z"
   },
   {
    "duration": 21,
    "start_time": "2023-12-02T15:37:52.158Z"
   },
   {
    "duration": 31,
    "start_time": "2023-12-02T15:37:52.181Z"
   },
   {
    "duration": 10,
    "start_time": "2023-12-02T15:37:52.214Z"
   },
   {
    "duration": 23,
    "start_time": "2023-12-02T15:37:52.225Z"
   },
   {
    "duration": 26,
    "start_time": "2023-12-02T15:37:52.250Z"
   },
   {
    "duration": 39,
    "start_time": "2023-12-02T15:37:52.277Z"
   },
   {
    "duration": 42,
    "start_time": "2023-12-02T15:37:52.319Z"
   },
   {
    "duration": 56,
    "start_time": "2023-12-02T15:37:52.362Z"
   },
   {
    "duration": 22,
    "start_time": "2023-12-02T15:37:52.419Z"
   },
   {
    "duration": 9,
    "start_time": "2023-12-02T15:38:51.263Z"
   },
   {
    "duration": 7,
    "start_time": "2023-12-02T15:38:58.790Z"
   },
   {
    "duration": 7,
    "start_time": "2023-12-02T15:39:00.008Z"
   },
   {
    "duration": 7,
    "start_time": "2023-12-02T15:39:00.567Z"
   },
   {
    "duration": 7,
    "start_time": "2023-12-02T15:39:01.542Z"
   },
   {
    "duration": 8,
    "start_time": "2023-12-02T15:39:02.554Z"
   },
   {
    "duration": 1312,
    "start_time": "2023-12-02T15:39:04.925Z"
   },
   {
    "duration": 1226,
    "start_time": "2023-12-02T15:39:10.049Z"
   },
   {
    "duration": 140,
    "start_time": "2023-12-02T15:39:11.277Z"
   },
   {
    "duration": 12,
    "start_time": "2023-12-02T15:39:11.419Z"
   },
   {
    "duration": 15,
    "start_time": "2023-12-02T15:39:11.433Z"
   },
   {
    "duration": 341,
    "start_time": "2023-12-02T15:39:11.450Z"
   },
   {
    "duration": 15,
    "start_time": "2023-12-02T15:39:11.793Z"
   },
   {
    "duration": 25,
    "start_time": "2023-12-02T15:39:11.810Z"
   },
   {
    "duration": 421,
    "start_time": "2023-12-02T15:39:11.837Z"
   },
   {
    "duration": 8,
    "start_time": "2023-12-02T15:39:12.260Z"
   },
   {
    "duration": 22,
    "start_time": "2023-12-02T15:39:12.271Z"
   },
   {
    "duration": 31,
    "start_time": "2023-12-02T15:39:12.295Z"
   },
   {
    "duration": 30,
    "start_time": "2023-12-02T15:39:12.327Z"
   },
   {
    "duration": 14,
    "start_time": "2023-12-02T15:39:12.358Z"
   },
   {
    "duration": 29,
    "start_time": "2023-12-02T15:39:12.373Z"
   },
   {
    "duration": 21,
    "start_time": "2023-12-02T15:39:12.404Z"
   },
   {
    "duration": 66,
    "start_time": "2023-12-02T15:39:12.426Z"
   },
   {
    "duration": 12,
    "start_time": "2023-12-02T15:39:12.494Z"
   },
   {
    "duration": 146,
    "start_time": "2023-12-02T15:39:12.508Z"
   },
   {
    "duration": 12,
    "start_time": "2023-12-02T15:39:12.656Z"
   },
   {
    "duration": 26,
    "start_time": "2023-12-02T15:39:12.670Z"
   },
   {
    "duration": 142,
    "start_time": "2023-12-02T15:39:12.699Z"
   },
   {
    "duration": 137,
    "start_time": "2023-12-02T15:39:12.843Z"
   },
   {
    "duration": 132,
    "start_time": "2023-12-02T15:39:12.982Z"
   },
   {
    "duration": 10,
    "start_time": "2023-12-02T15:39:13.115Z"
   },
   {
    "duration": 5,
    "start_time": "2023-12-02T15:39:13.127Z"
   },
   {
    "duration": 12,
    "start_time": "2023-12-02T15:39:13.134Z"
   },
   {
    "duration": 17,
    "start_time": "2023-12-02T15:39:13.148Z"
   },
   {
    "duration": 12,
    "start_time": "2023-12-02T15:39:13.171Z"
   },
   {
    "duration": 14,
    "start_time": "2023-12-02T15:39:13.206Z"
   },
   {
    "duration": 22,
    "start_time": "2023-12-02T15:39:13.221Z"
   },
   {
    "duration": 4,
    "start_time": "2023-12-02T15:39:13.245Z"
   },
   {
    "duration": 19,
    "start_time": "2023-12-02T15:39:13.250Z"
   },
   {
    "duration": 35,
    "start_time": "2023-12-02T15:39:13.271Z"
   },
   {
    "duration": 19,
    "start_time": "2023-12-02T15:39:13.308Z"
   },
   {
    "duration": 11,
    "start_time": "2023-12-02T15:39:13.329Z"
   },
   {
    "duration": 4,
    "start_time": "2023-12-02T15:39:13.342Z"
   },
   {
    "duration": 8,
    "start_time": "2023-12-02T15:39:13.348Z"
   },
   {
    "duration": 5,
    "start_time": "2023-12-02T15:39:13.358Z"
   },
   {
    "duration": 8,
    "start_time": "2023-12-02T15:39:13.364Z"
   },
   {
    "duration": 33,
    "start_time": "2023-12-02T15:39:13.373Z"
   },
   {
    "duration": 9,
    "start_time": "2023-12-02T15:39:13.408Z"
   },
   {
    "duration": 17,
    "start_time": "2023-12-02T15:39:13.418Z"
   },
   {
    "duration": 388,
    "start_time": "2023-12-02T15:39:13.436Z"
   },
   {
    "duration": 8,
    "start_time": "2023-12-02T15:39:13.826Z"
   },
   {
    "duration": 89,
    "start_time": "2023-12-02T15:39:13.836Z"
   },
   {
    "duration": 4,
    "start_time": "2023-12-02T15:39:13.927Z"
   },
   {
    "duration": 276,
    "start_time": "2023-12-02T15:39:13.932Z"
   },
   {
    "duration": 7,
    "start_time": "2023-12-02T15:39:14.210Z"
   },
   {
    "duration": 41,
    "start_time": "2023-12-02T15:39:14.219Z"
   },
   {
    "duration": 35,
    "start_time": "2023-12-02T15:39:14.261Z"
   },
   {
    "duration": 195,
    "start_time": "2023-12-02T15:39:14.297Z"
   },
   {
    "duration": 19,
    "start_time": "2023-12-02T15:39:14.494Z"
   },
   {
    "duration": 185,
    "start_time": "2023-12-02T15:39:14.515Z"
   },
   {
    "duration": 10,
    "start_time": "2023-12-02T15:39:14.706Z"
   },
   {
    "duration": 13,
    "start_time": "2023-12-02T15:39:14.718Z"
   },
   {
    "duration": 17,
    "start_time": "2023-12-02T15:39:14.733Z"
   },
   {
    "duration": 19,
    "start_time": "2023-12-02T15:39:14.752Z"
   },
   {
    "duration": 20,
    "start_time": "2023-12-02T15:39:14.773Z"
   },
   {
    "duration": 11,
    "start_time": "2023-12-02T15:39:14.795Z"
   },
   {
    "duration": 13,
    "start_time": "2023-12-02T15:39:14.808Z"
   },
   {
    "duration": 8,
    "start_time": "2023-12-02T15:39:14.823Z"
   },
   {
    "duration": 12,
    "start_time": "2023-12-02T15:39:14.832Z"
   },
   {
    "duration": 21,
    "start_time": "2023-12-02T15:39:14.846Z"
   },
   {
    "duration": 12,
    "start_time": "2023-12-02T15:39:14.869Z"
   },
   {
    "duration": 14,
    "start_time": "2023-12-02T15:39:14.883Z"
   },
   {
    "duration": 9,
    "start_time": "2023-12-02T15:39:14.906Z"
   },
   {
    "duration": 8,
    "start_time": "2023-12-02T15:39:14.916Z"
   },
   {
    "duration": 237,
    "start_time": "2023-12-02T15:39:14.925Z"
   },
   {
    "duration": 8,
    "start_time": "2023-12-02T15:39:15.164Z"
   },
   {
    "duration": 9,
    "start_time": "2023-12-02T15:39:15.174Z"
   },
   {
    "duration": 239,
    "start_time": "2023-12-02T15:39:15.184Z"
   },
   {
    "duration": 5,
    "start_time": "2023-12-02T15:39:15.425Z"
   },
   {
    "duration": 14,
    "start_time": "2023-12-02T15:39:15.432Z"
   },
   {
    "duration": 6,
    "start_time": "2023-12-02T15:39:15.447Z"
   },
   {
    "duration": 24,
    "start_time": "2023-12-02T15:39:15.454Z"
   },
   {
    "duration": 5,
    "start_time": "2023-12-02T15:39:15.479Z"
   },
   {
    "duration": 4,
    "start_time": "2023-12-02T15:39:15.507Z"
   },
   {
    "duration": 13,
    "start_time": "2023-12-02T15:39:15.512Z"
   },
   {
    "duration": 8,
    "start_time": "2023-12-02T15:39:15.527Z"
   },
   {
    "duration": 8,
    "start_time": "2023-12-02T15:39:15.537Z"
   },
   {
    "duration": 9,
    "start_time": "2023-12-02T15:39:15.546Z"
   },
   {
    "duration": 7,
    "start_time": "2023-12-02T15:39:15.561Z"
   },
   {
    "duration": 8,
    "start_time": "2023-12-02T15:39:15.607Z"
   },
   {
    "duration": 9,
    "start_time": "2023-12-02T15:39:15.617Z"
   },
   {
    "duration": 4,
    "start_time": "2023-12-02T15:39:15.628Z"
   },
   {
    "duration": 14,
    "start_time": "2023-12-02T15:39:15.633Z"
   },
   {
    "duration": 11,
    "start_time": "2023-12-02T15:39:15.649Z"
   },
   {
    "duration": 46,
    "start_time": "2023-12-02T15:39:15.662Z"
   },
   {
    "duration": 4,
    "start_time": "2023-12-02T15:39:15.710Z"
   },
   {
    "duration": 5,
    "start_time": "2023-12-02T15:39:15.716Z"
   },
   {
    "duration": 6,
    "start_time": "2023-12-02T15:39:15.722Z"
   },
   {
    "duration": 7,
    "start_time": "2023-12-02T15:39:15.730Z"
   },
   {
    "duration": 7,
    "start_time": "2023-12-02T15:39:15.738Z"
   },
   {
    "duration": 20,
    "start_time": "2023-12-02T15:39:15.746Z"
   },
   {
    "duration": 42,
    "start_time": "2023-12-02T15:39:15.768Z"
   },
   {
    "duration": 6,
    "start_time": "2023-12-02T15:39:15.812Z"
   },
   {
    "duration": 1235,
    "start_time": "2023-12-02T15:43:55.461Z"
   },
   {
    "duration": 163,
    "start_time": "2023-12-02T15:43:56.698Z"
   },
   {
    "duration": 11,
    "start_time": "2023-12-02T15:43:56.863Z"
   },
   {
    "duration": 12,
    "start_time": "2023-12-02T15:43:56.876Z"
   },
   {
    "duration": 346,
    "start_time": "2023-12-02T15:43:56.889Z"
   },
   {
    "duration": 10,
    "start_time": "2023-12-02T15:43:57.236Z"
   },
   {
    "duration": 25,
    "start_time": "2023-12-02T15:43:57.247Z"
   },
   {
    "duration": 410,
    "start_time": "2023-12-02T15:43:57.274Z"
   },
   {
    "duration": 7,
    "start_time": "2023-12-02T15:43:57.685Z"
   },
   {
    "duration": 11,
    "start_time": "2023-12-02T15:43:57.705Z"
   },
   {
    "duration": 9,
    "start_time": "2023-12-02T15:43:57.718Z"
   },
   {
    "duration": 8,
    "start_time": "2023-12-02T15:43:57.729Z"
   },
   {
    "duration": 5,
    "start_time": "2023-12-02T15:43:57.738Z"
   },
   {
    "duration": 7,
    "start_time": "2023-12-02T15:43:57.744Z"
   },
   {
    "duration": 8,
    "start_time": "2023-12-02T15:43:57.753Z"
   },
   {
    "duration": 44,
    "start_time": "2023-12-02T15:43:57.763Z"
   },
   {
    "duration": 5,
    "start_time": "2023-12-02T15:43:57.809Z"
   },
   {
    "duration": 151,
    "start_time": "2023-12-02T15:43:57.816Z"
   },
   {
    "duration": 12,
    "start_time": "2023-12-02T15:43:57.969Z"
   },
   {
    "duration": 26,
    "start_time": "2023-12-02T15:43:57.983Z"
   },
   {
    "duration": 154,
    "start_time": "2023-12-02T15:43:58.011Z"
   },
   {
    "duration": 146,
    "start_time": "2023-12-02T15:43:58.167Z"
   },
   {
    "duration": 139,
    "start_time": "2023-12-02T15:43:58.315Z"
   },
   {
    "duration": 9,
    "start_time": "2023-12-02T15:43:58.456Z"
   },
   {
    "duration": 13,
    "start_time": "2023-12-02T15:43:58.466Z"
   },
   {
    "duration": 27,
    "start_time": "2023-12-02T15:43:58.481Z"
   },
   {
    "duration": 7,
    "start_time": "2023-12-02T15:43:58.509Z"
   },
   {
    "duration": 6,
    "start_time": "2023-12-02T15:43:58.521Z"
   },
   {
    "duration": 39,
    "start_time": "2023-12-02T15:43:58.528Z"
   },
   {
    "duration": 21,
    "start_time": "2023-12-02T15:43:58.569Z"
   },
   {
    "duration": 3,
    "start_time": "2023-12-02T15:43:58.592Z"
   },
   {
    "duration": 27,
    "start_time": "2023-12-02T15:43:58.597Z"
   },
   {
    "duration": 15,
    "start_time": "2023-12-02T15:43:58.626Z"
   },
   {
    "duration": 40,
    "start_time": "2023-12-02T15:43:58.643Z"
   },
   {
    "duration": 46,
    "start_time": "2023-12-02T15:43:58.686Z"
   },
   {
    "duration": 12,
    "start_time": "2023-12-02T15:43:58.734Z"
   },
   {
    "duration": 25,
    "start_time": "2023-12-02T15:43:58.748Z"
   },
   {
    "duration": 15,
    "start_time": "2023-12-02T15:43:58.774Z"
   },
   {
    "duration": 10,
    "start_time": "2023-12-02T15:43:58.790Z"
   },
   {
    "duration": 9,
    "start_time": "2023-12-02T15:43:58.802Z"
   },
   {
    "duration": 19,
    "start_time": "2023-12-02T15:43:58.813Z"
   },
   {
    "duration": 24,
    "start_time": "2023-12-02T15:43:58.834Z"
   },
   {
    "duration": 380,
    "start_time": "2023-12-02T15:43:58.859Z"
   },
   {
    "duration": 10,
    "start_time": "2023-12-02T15:43:59.241Z"
   },
   {
    "duration": 97,
    "start_time": "2023-12-02T15:43:59.252Z"
   },
   {
    "duration": 5,
    "start_time": "2023-12-02T15:43:59.351Z"
   },
   {
    "duration": 303,
    "start_time": "2023-12-02T15:43:59.357Z"
   },
   {
    "duration": 8,
    "start_time": "2023-12-02T15:43:59.661Z"
   },
   {
    "duration": 15,
    "start_time": "2023-12-02T15:43:59.670Z"
   },
   {
    "duration": 32,
    "start_time": "2023-12-02T15:43:59.686Z"
   },
   {
    "duration": 218,
    "start_time": "2023-12-02T15:43:59.720Z"
   },
   {
    "duration": 8,
    "start_time": "2023-12-02T15:43:59.940Z"
   },
   {
    "duration": 191,
    "start_time": "2023-12-02T15:43:59.950Z"
   },
   {
    "duration": 9,
    "start_time": "2023-12-02T15:44:00.143Z"
   },
   {
    "duration": 64,
    "start_time": "2023-12-02T15:44:00.154Z"
   },
   {
    "duration": 52,
    "start_time": "2023-12-02T15:44:00.220Z"
   },
   {
    "duration": 141,
    "start_time": "2023-12-02T15:44:00.274Z"
   },
   {
    "duration": 153,
    "start_time": "2023-12-02T15:44:00.417Z"
   },
   {
    "duration": 38,
    "start_time": "2023-12-02T15:44:00.572Z"
   },
   {
    "duration": 32,
    "start_time": "2023-12-02T15:44:00.612Z"
   },
   {
    "duration": 12,
    "start_time": "2023-12-02T15:44:00.645Z"
   },
   {
    "duration": 34,
    "start_time": "2023-12-02T15:44:00.659Z"
   },
   {
    "duration": 45,
    "start_time": "2023-12-02T15:44:00.695Z"
   },
   {
    "duration": 38,
    "start_time": "2023-12-02T15:44:00.742Z"
   },
   {
    "duration": 38,
    "start_time": "2023-12-02T15:44:00.782Z"
   },
   {
    "duration": 47,
    "start_time": "2023-12-02T15:44:00.821Z"
   },
   {
    "duration": 27,
    "start_time": "2023-12-02T15:44:00.870Z"
   },
   {
    "duration": 271,
    "start_time": "2023-12-02T15:44:00.899Z"
   },
   {
    "duration": 9,
    "start_time": "2023-12-02T15:44:01.172Z"
   },
   {
    "duration": 47,
    "start_time": "2023-12-02T15:44:01.182Z"
   },
   {
    "duration": 282,
    "start_time": "2023-12-02T15:44:01.230Z"
   },
   {
    "duration": 5,
    "start_time": "2023-12-02T15:44:01.514Z"
   },
   {
    "duration": 50,
    "start_time": "2023-12-02T15:44:01.521Z"
   },
   {
    "duration": 30,
    "start_time": "2023-12-02T15:44:01.573Z"
   },
   {
    "duration": 42,
    "start_time": "2023-12-02T15:44:01.604Z"
   },
   {
    "duration": 34,
    "start_time": "2023-12-02T15:44:01.648Z"
   },
   {
    "duration": 35,
    "start_time": "2023-12-02T15:44:01.684Z"
   },
   {
    "duration": 34,
    "start_time": "2023-12-02T15:44:01.721Z"
   },
   {
    "duration": 67,
    "start_time": "2023-12-02T15:44:01.757Z"
   },
   {
    "duration": 35,
    "start_time": "2023-12-02T15:44:01.826Z"
   },
   {
    "duration": 76,
    "start_time": "2023-12-02T15:44:01.863Z"
   },
   {
    "duration": 25,
    "start_time": "2023-12-02T15:44:01.946Z"
   },
   {
    "duration": 24,
    "start_time": "2023-12-02T15:44:01.973Z"
   },
   {
    "duration": 29,
    "start_time": "2023-12-02T15:44:01.999Z"
   },
   {
    "duration": 26,
    "start_time": "2023-12-02T15:44:02.030Z"
   },
   {
    "duration": 31,
    "start_time": "2023-12-02T15:44:02.058Z"
   },
   {
    "duration": 35,
    "start_time": "2023-12-02T15:44:02.091Z"
   },
   {
    "duration": 30,
    "start_time": "2023-12-02T15:44:02.128Z"
   },
   {
    "duration": 20,
    "start_time": "2023-12-02T15:44:02.160Z"
   },
   {
    "duration": 35,
    "start_time": "2023-12-02T15:44:02.182Z"
   },
   {
    "duration": 28,
    "start_time": "2023-12-02T15:44:02.219Z"
   },
   {
    "duration": 56,
    "start_time": "2023-12-02T15:44:02.249Z"
   },
   {
    "duration": 37,
    "start_time": "2023-12-02T15:44:02.308Z"
   },
   {
    "duration": 49,
    "start_time": "2023-12-02T15:44:02.348Z"
   },
   {
    "duration": 41,
    "start_time": "2023-12-02T15:44:02.399Z"
   },
   {
    "duration": 27,
    "start_time": "2023-12-02T15:44:02.442Z"
   },
   {
    "duration": 16,
    "start_time": "2023-12-02T15:46:41.055Z"
   },
   {
    "duration": 14,
    "start_time": "2023-12-02T15:46:45.777Z"
   },
   {
    "duration": 16,
    "start_time": "2023-12-02T15:46:47.599Z"
   },
   {
    "duration": 11,
    "start_time": "2023-12-02T15:46:50.296Z"
   },
   {
    "duration": 3,
    "start_time": "2023-12-02T15:53:05.907Z"
   },
   {
    "duration": 6,
    "start_time": "2023-12-02T15:53:07.864Z"
   },
   {
    "duration": 1301,
    "start_time": "2023-12-02T15:53:18.899Z"
   },
   {
    "duration": 148,
    "start_time": "2023-12-02T15:53:20.202Z"
   },
   {
    "duration": 13,
    "start_time": "2023-12-02T15:53:20.351Z"
   },
   {
    "duration": 14,
    "start_time": "2023-12-02T15:53:20.366Z"
   },
   {
    "duration": 376,
    "start_time": "2023-12-02T15:53:20.382Z"
   },
   {
    "duration": 10,
    "start_time": "2023-12-02T15:53:20.760Z"
   },
   {
    "duration": 18,
    "start_time": "2023-12-02T15:53:20.772Z"
   },
   {
    "duration": 417,
    "start_time": "2023-12-02T15:53:20.792Z"
   },
   {
    "duration": 9,
    "start_time": "2023-12-02T15:53:21.210Z"
   },
   {
    "duration": 20,
    "start_time": "2023-12-02T15:53:21.222Z"
   },
   {
    "duration": 12,
    "start_time": "2023-12-02T15:53:21.244Z"
   },
   {
    "duration": 19,
    "start_time": "2023-12-02T15:53:21.257Z"
   },
   {
    "duration": 16,
    "start_time": "2023-12-02T15:53:21.278Z"
   },
   {
    "duration": 18,
    "start_time": "2023-12-02T15:53:21.295Z"
   },
   {
    "duration": 12,
    "start_time": "2023-12-02T15:53:21.315Z"
   },
   {
    "duration": 27,
    "start_time": "2023-12-02T15:53:21.329Z"
   },
   {
    "duration": 9,
    "start_time": "2023-12-02T15:53:21.358Z"
   },
   {
    "duration": 142,
    "start_time": "2023-12-02T15:53:21.368Z"
   },
   {
    "duration": 13,
    "start_time": "2023-12-02T15:53:21.512Z"
   },
   {
    "duration": 21,
    "start_time": "2023-12-02T15:53:21.527Z"
   },
   {
    "duration": 146,
    "start_time": "2023-12-02T15:53:21.549Z"
   },
   {
    "duration": 140,
    "start_time": "2023-12-02T15:53:21.697Z"
   },
   {
    "duration": 148,
    "start_time": "2023-12-02T15:53:21.840Z"
   },
   {
    "duration": 19,
    "start_time": "2023-12-02T15:53:21.990Z"
   },
   {
    "duration": 33,
    "start_time": "2023-12-02T15:53:22.011Z"
   },
   {
    "duration": 21,
    "start_time": "2023-12-02T15:53:22.046Z"
   },
   {
    "duration": 6,
    "start_time": "2023-12-02T15:53:22.069Z"
   },
   {
    "duration": 6,
    "start_time": "2023-12-02T15:53:22.079Z"
   },
   {
    "duration": 28,
    "start_time": "2023-12-02T15:53:22.086Z"
   },
   {
    "duration": 21,
    "start_time": "2023-12-02T15:53:22.116Z"
   },
   {
    "duration": 8,
    "start_time": "2023-12-02T15:53:22.139Z"
   },
   {
    "duration": 14,
    "start_time": "2023-12-02T15:53:22.149Z"
   },
   {
    "duration": 13,
    "start_time": "2023-12-02T15:53:22.165Z"
   },
   {
    "duration": 41,
    "start_time": "2023-12-02T15:53:22.180Z"
   },
   {
    "duration": 7,
    "start_time": "2023-12-02T15:53:22.223Z"
   },
   {
    "duration": 5,
    "start_time": "2023-12-02T15:53:22.232Z"
   },
   {
    "duration": 16,
    "start_time": "2023-12-02T15:53:22.239Z"
   },
   {
    "duration": 17,
    "start_time": "2023-12-02T15:53:22.257Z"
   },
   {
    "duration": 14,
    "start_time": "2023-12-02T15:53:22.275Z"
   },
   {
    "duration": 4,
    "start_time": "2023-12-02T15:53:22.291Z"
   },
   {
    "duration": 13,
    "start_time": "2023-12-02T15:53:22.297Z"
   },
   {
    "duration": 21,
    "start_time": "2023-12-02T15:53:22.312Z"
   },
   {
    "duration": 397,
    "start_time": "2023-12-02T15:53:22.334Z"
   },
   {
    "duration": 9,
    "start_time": "2023-12-02T15:53:22.733Z"
   },
   {
    "duration": 102,
    "start_time": "2023-12-02T15:53:22.744Z"
   },
   {
    "duration": 5,
    "start_time": "2023-12-02T15:53:22.848Z"
   },
   {
    "duration": 295,
    "start_time": "2023-12-02T15:53:22.855Z"
   },
   {
    "duration": 8,
    "start_time": "2023-12-02T15:53:23.152Z"
   },
   {
    "duration": 22,
    "start_time": "2023-12-02T15:53:23.161Z"
   },
   {
    "duration": 26,
    "start_time": "2023-12-02T15:53:23.184Z"
   },
   {
    "duration": 201,
    "start_time": "2023-12-02T15:53:23.213Z"
   },
   {
    "duration": 9,
    "start_time": "2023-12-02T15:53:23.416Z"
   },
   {
    "duration": 183,
    "start_time": "2023-12-02T15:53:23.427Z"
   },
   {
    "duration": 9,
    "start_time": "2023-12-02T15:53:23.612Z"
   },
   {
    "duration": 18,
    "start_time": "2023-12-02T15:53:23.623Z"
   },
   {
    "duration": 14,
    "start_time": "2023-12-02T15:53:23.643Z"
   },
   {
    "duration": 5,
    "start_time": "2023-12-02T15:53:23.659Z"
   },
   {
    "duration": 5,
    "start_time": "2023-12-02T15:53:23.665Z"
   },
   {
    "duration": 13,
    "start_time": "2023-12-02T15:53:23.671Z"
   },
   {
    "duration": 35,
    "start_time": "2023-12-02T15:53:23.685Z"
   },
   {
    "duration": 15,
    "start_time": "2023-12-02T15:53:23.721Z"
   },
   {
    "duration": 14,
    "start_time": "2023-12-02T15:53:23.737Z"
   },
   {
    "duration": 14,
    "start_time": "2023-12-02T15:53:23.753Z"
   },
   {
    "duration": 11,
    "start_time": "2023-12-02T15:53:23.769Z"
   },
   {
    "duration": 8,
    "start_time": "2023-12-02T15:53:23.782Z"
   },
   {
    "duration": 25,
    "start_time": "2023-12-02T15:53:23.806Z"
   },
   {
    "duration": 16,
    "start_time": "2023-12-02T15:53:23.833Z"
   },
   {
    "duration": 222,
    "start_time": "2023-12-02T15:53:23.851Z"
   },
   {
    "duration": 9,
    "start_time": "2023-12-02T15:53:24.074Z"
   },
   {
    "duration": 23,
    "start_time": "2023-12-02T15:53:24.085Z"
   },
   {
    "duration": 232,
    "start_time": "2023-12-02T15:53:24.110Z"
   },
   {
    "duration": 5,
    "start_time": "2023-12-02T15:53:24.343Z"
   },
   {
    "duration": 13,
    "start_time": "2023-12-02T15:53:24.350Z"
   },
   {
    "duration": 5,
    "start_time": "2023-12-02T15:53:24.365Z"
   },
   {
    "duration": 48,
    "start_time": "2023-12-02T15:53:24.372Z"
   },
   {
    "duration": 6,
    "start_time": "2023-12-02T15:53:24.422Z"
   },
   {
    "duration": 15,
    "start_time": "2023-12-02T15:53:24.429Z"
   },
   {
    "duration": 17,
    "start_time": "2023-12-02T15:53:24.446Z"
   },
   {
    "duration": 8,
    "start_time": "2023-12-02T15:53:24.465Z"
   },
   {
    "duration": 18,
    "start_time": "2023-12-02T15:53:24.475Z"
   },
   {
    "duration": 28,
    "start_time": "2023-12-02T15:53:24.494Z"
   },
   {
    "duration": 8,
    "start_time": "2023-12-02T15:53:24.530Z"
   },
   {
    "duration": 21,
    "start_time": "2023-12-02T15:53:24.540Z"
   },
   {
    "duration": 11,
    "start_time": "2023-12-02T15:53:24.563Z"
   },
   {
    "duration": 6,
    "start_time": "2023-12-02T15:53:24.576Z"
   },
   {
    "duration": 26,
    "start_time": "2023-12-02T15:53:24.584Z"
   },
   {
    "duration": 14,
    "start_time": "2023-12-02T15:53:24.612Z"
   },
   {
    "duration": 5,
    "start_time": "2023-12-02T15:53:24.628Z"
   },
   {
    "duration": 20,
    "start_time": "2023-12-02T15:53:24.635Z"
   },
   {
    "duration": 12,
    "start_time": "2023-12-02T15:53:24.657Z"
   },
   {
    "duration": 5,
    "start_time": "2023-12-02T15:53:24.670Z"
   },
   {
    "duration": 11,
    "start_time": "2023-12-02T15:53:24.677Z"
   },
   {
    "duration": 20,
    "start_time": "2023-12-02T15:53:24.690Z"
   },
   {
    "duration": 45,
    "start_time": "2023-12-02T15:53:24.712Z"
   },
   {
    "duration": 65,
    "start_time": "2023-12-02T15:53:24.759Z"
   },
   {
    "duration": 8,
    "start_time": "2023-12-02T15:53:24.826Z"
   },
   {
    "duration": 1230,
    "start_time": "2023-12-02T16:03:02.150Z"
   },
   {
    "duration": 223,
    "start_time": "2023-12-02T16:03:03.382Z"
   },
   {
    "duration": 17,
    "start_time": "2023-12-02T16:03:03.608Z"
   },
   {
    "duration": 85,
    "start_time": "2023-12-02T16:03:03.629Z"
   },
   {
    "duration": 363,
    "start_time": "2023-12-02T16:03:03.716Z"
   },
   {
    "duration": 9,
    "start_time": "2023-12-02T16:03:04.081Z"
   },
   {
    "duration": 78,
    "start_time": "2023-12-02T16:03:04.091Z"
   },
   {
    "duration": 426,
    "start_time": "2023-12-02T16:03:04.171Z"
   },
   {
    "duration": 9,
    "start_time": "2023-12-02T16:03:04.599Z"
   },
   {
    "duration": 12,
    "start_time": "2023-12-02T16:03:04.610Z"
   },
   {
    "duration": 12,
    "start_time": "2023-12-02T16:03:04.623Z"
   },
   {
    "duration": 9,
    "start_time": "2023-12-02T16:03:04.636Z"
   },
   {
    "duration": 16,
    "start_time": "2023-12-02T16:03:04.646Z"
   },
   {
    "duration": 6,
    "start_time": "2023-12-02T16:03:04.663Z"
   },
   {
    "duration": 13,
    "start_time": "2023-12-02T16:03:04.671Z"
   },
   {
    "duration": 10,
    "start_time": "2023-12-02T16:03:04.707Z"
   },
   {
    "duration": 8,
    "start_time": "2023-12-02T16:03:04.719Z"
   },
   {
    "duration": 158,
    "start_time": "2023-12-02T16:03:04.728Z"
   },
   {
    "duration": 23,
    "start_time": "2023-12-02T16:03:04.889Z"
   },
   {
    "duration": 16,
    "start_time": "2023-12-02T16:03:04.914Z"
   },
   {
    "duration": 145,
    "start_time": "2023-12-02T16:03:04.932Z"
   },
   {
    "duration": 145,
    "start_time": "2023-12-02T16:03:05.079Z"
   },
   {
    "duration": 137,
    "start_time": "2023-12-02T16:03:05.226Z"
   },
   {
    "duration": 10,
    "start_time": "2023-12-02T16:03:05.365Z"
   },
   {
    "duration": 4,
    "start_time": "2023-12-02T16:03:05.377Z"
   },
   {
    "duration": 36,
    "start_time": "2023-12-02T16:03:05.383Z"
   },
   {
    "duration": 27,
    "start_time": "2023-12-02T16:03:05.420Z"
   },
   {
    "duration": 19,
    "start_time": "2023-12-02T16:03:05.452Z"
   },
   {
    "duration": 41,
    "start_time": "2023-12-02T16:03:05.473Z"
   },
   {
    "duration": 60,
    "start_time": "2023-12-02T16:03:05.516Z"
   },
   {
    "duration": 7,
    "start_time": "2023-12-02T16:03:05.578Z"
   },
   {
    "duration": 30,
    "start_time": "2023-12-02T16:03:05.587Z"
   },
   {
    "duration": 31,
    "start_time": "2023-12-02T16:03:05.619Z"
   },
   {
    "duration": 47,
    "start_time": "2023-12-02T16:03:05.652Z"
   },
   {
    "duration": 8,
    "start_time": "2023-12-02T16:03:05.701Z"
   },
   {
    "duration": 12,
    "start_time": "2023-12-02T16:03:05.711Z"
   },
   {
    "duration": 36,
    "start_time": "2023-12-02T16:03:05.724Z"
   },
   {
    "duration": 10,
    "start_time": "2023-12-02T16:03:05.762Z"
   },
   {
    "duration": 18,
    "start_time": "2023-12-02T16:03:05.774Z"
   },
   {
    "duration": 26,
    "start_time": "2023-12-02T16:03:05.794Z"
   },
   {
    "duration": 46,
    "start_time": "2023-12-02T16:03:05.821Z"
   },
   {
    "duration": 35,
    "start_time": "2023-12-02T16:03:05.868Z"
   },
   {
    "duration": 389,
    "start_time": "2023-12-02T16:03:05.905Z"
   },
   {
    "duration": 15,
    "start_time": "2023-12-02T16:03:06.295Z"
   },
   {
    "duration": 99,
    "start_time": "2023-12-02T16:03:06.311Z"
   },
   {
    "duration": 5,
    "start_time": "2023-12-02T16:03:06.411Z"
   },
   {
    "duration": 307,
    "start_time": "2023-12-02T16:03:06.417Z"
   },
   {
    "duration": 8,
    "start_time": "2023-12-02T16:03:06.726Z"
   },
   {
    "duration": 35,
    "start_time": "2023-12-02T16:03:06.735Z"
   },
   {
    "duration": 35,
    "start_time": "2023-12-02T16:03:06.771Z"
   },
   {
    "duration": 228,
    "start_time": "2023-12-02T16:03:06.807Z"
   },
   {
    "duration": 8,
    "start_time": "2023-12-02T16:03:07.037Z"
   },
   {
    "duration": 201,
    "start_time": "2023-12-02T16:03:07.047Z"
   },
   {
    "duration": 9,
    "start_time": "2023-12-02T16:03:07.250Z"
   },
   {
    "duration": 10,
    "start_time": "2023-12-02T16:03:07.261Z"
   },
   {
    "duration": 173,
    "start_time": "2023-12-02T16:03:07.273Z"
   },
   {
    "duration": 22,
    "start_time": "2023-12-02T16:03:07.448Z"
   },
   {
    "duration": 10,
    "start_time": "2023-12-02T16:03:07.472Z"
   },
   {
    "duration": 12,
    "start_time": "2023-12-02T16:03:07.484Z"
   },
   {
    "duration": 14,
    "start_time": "2023-12-02T16:03:07.498Z"
   },
   {
    "duration": 26,
    "start_time": "2023-12-02T16:03:07.514Z"
   },
   {
    "duration": 94,
    "start_time": "2023-12-02T16:03:07.542Z"
   },
   {
    "duration": 11,
    "start_time": "2023-12-02T16:03:07.638Z"
   },
   {
    "duration": 24,
    "start_time": "2023-12-02T16:03:07.650Z"
   },
   {
    "duration": 9,
    "start_time": "2023-12-02T16:03:07.676Z"
   },
   {
    "duration": 10,
    "start_time": "2023-12-02T16:03:07.687Z"
   },
   {
    "duration": 7,
    "start_time": "2023-12-02T16:03:07.699Z"
   },
   {
    "duration": 239,
    "start_time": "2023-12-02T16:03:07.708Z"
   },
   {
    "duration": 9,
    "start_time": "2023-12-02T16:03:07.949Z"
   },
   {
    "duration": 14,
    "start_time": "2023-12-02T16:03:07.959Z"
   },
   {
    "duration": 239,
    "start_time": "2023-12-02T16:03:07.975Z"
   },
   {
    "duration": 5,
    "start_time": "2023-12-02T16:03:08.215Z"
   },
   {
    "duration": 44,
    "start_time": "2023-12-02T16:03:08.222Z"
   },
   {
    "duration": 39,
    "start_time": "2023-12-02T16:03:08.268Z"
   },
   {
    "duration": 41,
    "start_time": "2023-12-02T16:03:08.309Z"
   },
   {
    "duration": 4,
    "start_time": "2023-12-02T16:03:08.352Z"
   },
   {
    "duration": 4,
    "start_time": "2023-12-02T16:03:08.358Z"
   },
   {
    "duration": 12,
    "start_time": "2023-12-02T16:03:08.364Z"
   },
   {
    "duration": 8,
    "start_time": "2023-12-02T16:03:08.378Z"
   },
   {
    "duration": 22,
    "start_time": "2023-12-02T16:03:08.388Z"
   },
   {
    "duration": 9,
    "start_time": "2023-12-02T16:03:08.412Z"
   },
   {
    "duration": 7,
    "start_time": "2023-12-02T16:03:08.428Z"
   },
   {
    "duration": 8,
    "start_time": "2023-12-02T16:03:08.437Z"
   },
   {
    "duration": 10,
    "start_time": "2023-12-02T16:03:08.447Z"
   },
   {
    "duration": 11,
    "start_time": "2023-12-02T16:03:08.459Z"
   },
   {
    "duration": 35,
    "start_time": "2023-12-02T16:03:08.472Z"
   },
   {
    "duration": 12,
    "start_time": "2023-12-02T16:03:08.510Z"
   },
   {
    "duration": 6,
    "start_time": "2023-12-02T16:03:08.523Z"
   },
   {
    "duration": 38,
    "start_time": "2023-12-02T16:03:08.531Z"
   },
   {
    "duration": 15,
    "start_time": "2023-12-02T16:03:08.570Z"
   },
   {
    "duration": 20,
    "start_time": "2023-12-02T16:03:08.586Z"
   },
   {
    "duration": 25,
    "start_time": "2023-12-02T16:03:08.608Z"
   },
   {
    "duration": 27,
    "start_time": "2023-12-02T16:03:08.635Z"
   },
   {
    "duration": 68,
    "start_time": "2023-12-02T16:03:08.664Z"
   },
   {
    "duration": 55,
    "start_time": "2023-12-02T16:03:08.734Z"
   },
   {
    "duration": 13,
    "start_time": "2023-12-02T16:03:08.791Z"
   },
   {
    "duration": 1291,
    "start_time": "2023-12-02T16:03:56.577Z"
   },
   {
    "duration": 140,
    "start_time": "2023-12-02T16:03:57.870Z"
   },
   {
    "duration": 13,
    "start_time": "2023-12-02T16:03:58.014Z"
   },
   {
    "duration": 21,
    "start_time": "2023-12-02T16:03:58.028Z"
   },
   {
    "duration": 344,
    "start_time": "2023-12-02T16:03:58.051Z"
   },
   {
    "duration": 15,
    "start_time": "2023-12-02T16:03:58.397Z"
   },
   {
    "duration": 12,
    "start_time": "2023-12-02T16:03:58.413Z"
   },
   {
    "duration": 435,
    "start_time": "2023-12-02T16:03:58.427Z"
   },
   {
    "duration": 8,
    "start_time": "2023-12-02T16:03:58.864Z"
   },
   {
    "duration": 20,
    "start_time": "2023-12-02T16:03:58.874Z"
   },
   {
    "duration": 30,
    "start_time": "2023-12-02T16:03:58.896Z"
   },
   {
    "duration": 6,
    "start_time": "2023-12-02T16:03:58.928Z"
   },
   {
    "duration": 13,
    "start_time": "2023-12-02T16:03:58.936Z"
   },
   {
    "duration": 5,
    "start_time": "2023-12-02T16:03:58.951Z"
   },
   {
    "duration": 8,
    "start_time": "2023-12-02T16:03:58.958Z"
   },
   {
    "duration": 12,
    "start_time": "2023-12-02T16:03:58.968Z"
   },
   {
    "duration": 26,
    "start_time": "2023-12-02T16:03:58.981Z"
   },
   {
    "duration": 144,
    "start_time": "2023-12-02T16:03:59.009Z"
   },
   {
    "duration": 14,
    "start_time": "2023-12-02T16:03:59.155Z"
   },
   {
    "duration": 5,
    "start_time": "2023-12-02T16:03:59.171Z"
   },
   {
    "duration": 0,
    "start_time": "2023-12-02T16:03:59.179Z"
   },
   {
    "duration": 0,
    "start_time": "2023-12-02T16:03:59.180Z"
   },
   {
    "duration": 0,
    "start_time": "2023-12-02T16:03:59.182Z"
   },
   {
    "duration": 0,
    "start_time": "2023-12-02T16:03:59.182Z"
   },
   {
    "duration": 0,
    "start_time": "2023-12-02T16:03:59.183Z"
   },
   {
    "duration": 0,
    "start_time": "2023-12-02T16:03:59.184Z"
   },
   {
    "duration": 0,
    "start_time": "2023-12-02T16:03:59.207Z"
   },
   {
    "duration": 0,
    "start_time": "2023-12-02T16:03:59.208Z"
   },
   {
    "duration": 0,
    "start_time": "2023-12-02T16:03:59.209Z"
   },
   {
    "duration": 0,
    "start_time": "2023-12-02T16:03:59.211Z"
   },
   {
    "duration": 0,
    "start_time": "2023-12-02T16:03:59.212Z"
   },
   {
    "duration": 0,
    "start_time": "2023-12-02T16:03:59.213Z"
   },
   {
    "duration": 0,
    "start_time": "2023-12-02T16:03:59.220Z"
   },
   {
    "duration": 0,
    "start_time": "2023-12-02T16:03:59.221Z"
   },
   {
    "duration": 0,
    "start_time": "2023-12-02T16:03:59.223Z"
   },
   {
    "duration": 0,
    "start_time": "2023-12-02T16:03:59.224Z"
   },
   {
    "duration": 0,
    "start_time": "2023-12-02T16:03:59.225Z"
   },
   {
    "duration": 0,
    "start_time": "2023-12-02T16:03:59.226Z"
   },
   {
    "duration": 0,
    "start_time": "2023-12-02T16:03:59.227Z"
   },
   {
    "duration": 0,
    "start_time": "2023-12-02T16:03:59.228Z"
   },
   {
    "duration": 0,
    "start_time": "2023-12-02T16:03:59.229Z"
   },
   {
    "duration": 0,
    "start_time": "2023-12-02T16:03:59.230Z"
   },
   {
    "duration": 0,
    "start_time": "2023-12-02T16:03:59.231Z"
   },
   {
    "duration": 0,
    "start_time": "2023-12-02T16:03:59.232Z"
   },
   {
    "duration": 0,
    "start_time": "2023-12-02T16:03:59.233Z"
   },
   {
    "duration": 0,
    "start_time": "2023-12-02T16:03:59.234Z"
   },
   {
    "duration": 0,
    "start_time": "2023-12-02T16:03:59.235Z"
   },
   {
    "duration": 0,
    "start_time": "2023-12-02T16:03:59.236Z"
   },
   {
    "duration": 0,
    "start_time": "2023-12-02T16:03:59.238Z"
   },
   {
    "duration": 0,
    "start_time": "2023-12-02T16:03:59.239Z"
   },
   {
    "duration": 0,
    "start_time": "2023-12-02T16:03:59.240Z"
   },
   {
    "duration": 0,
    "start_time": "2023-12-02T16:03:59.241Z"
   },
   {
    "duration": 0,
    "start_time": "2023-12-02T16:03:59.242Z"
   },
   {
    "duration": 0,
    "start_time": "2023-12-02T16:03:59.243Z"
   },
   {
    "duration": 0,
    "start_time": "2023-12-02T16:03:59.244Z"
   },
   {
    "duration": 0,
    "start_time": "2023-12-02T16:03:59.246Z"
   },
   {
    "duration": 0,
    "start_time": "2023-12-02T16:03:59.247Z"
   },
   {
    "duration": 0,
    "start_time": "2023-12-02T16:03:59.248Z"
   },
   {
    "duration": 0,
    "start_time": "2023-12-02T16:03:59.306Z"
   },
   {
    "duration": 1,
    "start_time": "2023-12-02T16:03:59.307Z"
   },
   {
    "duration": 0,
    "start_time": "2023-12-02T16:03:59.309Z"
   },
   {
    "duration": 0,
    "start_time": "2023-12-02T16:03:59.310Z"
   },
   {
    "duration": 0,
    "start_time": "2023-12-02T16:03:59.311Z"
   },
   {
    "duration": 0,
    "start_time": "2023-12-02T16:03:59.312Z"
   },
   {
    "duration": 0,
    "start_time": "2023-12-02T16:03:59.313Z"
   },
   {
    "duration": 0,
    "start_time": "2023-12-02T16:03:59.315Z"
   },
   {
    "duration": 0,
    "start_time": "2023-12-02T16:03:59.316Z"
   },
   {
    "duration": 0,
    "start_time": "2023-12-02T16:03:59.317Z"
   },
   {
    "duration": 0,
    "start_time": "2023-12-02T16:03:59.318Z"
   },
   {
    "duration": 0,
    "start_time": "2023-12-02T16:03:59.319Z"
   },
   {
    "duration": 0,
    "start_time": "2023-12-02T16:03:59.320Z"
   },
   {
    "duration": 0,
    "start_time": "2023-12-02T16:03:59.322Z"
   },
   {
    "duration": 0,
    "start_time": "2023-12-02T16:03:59.323Z"
   },
   {
    "duration": 0,
    "start_time": "2023-12-02T16:03:59.324Z"
   },
   {
    "duration": 0,
    "start_time": "2023-12-02T16:03:59.325Z"
   },
   {
    "duration": 0,
    "start_time": "2023-12-02T16:03:59.326Z"
   },
   {
    "duration": 0,
    "start_time": "2023-12-02T16:03:59.327Z"
   },
   {
    "duration": 0,
    "start_time": "2023-12-02T16:03:59.328Z"
   },
   {
    "duration": 0,
    "start_time": "2023-12-02T16:03:59.329Z"
   },
   {
    "duration": 0,
    "start_time": "2023-12-02T16:03:59.330Z"
   },
   {
    "duration": 0,
    "start_time": "2023-12-02T16:03:59.332Z"
   },
   {
    "duration": 0,
    "start_time": "2023-12-02T16:03:59.333Z"
   },
   {
    "duration": 0,
    "start_time": "2023-12-02T16:03:59.334Z"
   },
   {
    "duration": 0,
    "start_time": "2023-12-02T16:03:59.335Z"
   },
   {
    "duration": 0,
    "start_time": "2023-12-02T16:03:59.336Z"
   },
   {
    "duration": 0,
    "start_time": "2023-12-02T16:03:59.337Z"
   },
   {
    "duration": 0,
    "start_time": "2023-12-02T16:03:59.338Z"
   },
   {
    "duration": 0,
    "start_time": "2023-12-02T16:03:59.339Z"
   },
   {
    "duration": 0,
    "start_time": "2023-12-02T16:03:59.341Z"
   },
   {
    "duration": 0,
    "start_time": "2023-12-02T16:03:59.342Z"
   },
   {
    "duration": 0,
    "start_time": "2023-12-02T16:03:59.343Z"
   },
   {
    "duration": 0,
    "start_time": "2023-12-02T16:03:59.406Z"
   },
   {
    "duration": 0,
    "start_time": "2023-12-02T16:03:59.408Z"
   },
   {
    "duration": 0,
    "start_time": "2023-12-02T16:03:59.409Z"
   },
   {
    "duration": 0,
    "start_time": "2023-12-02T16:03:59.410Z"
   },
   {
    "duration": 0,
    "start_time": "2023-12-02T16:03:59.411Z"
   },
   {
    "duration": 1324,
    "start_time": "2023-12-02T16:04:27.250Z"
   },
   {
    "duration": 160,
    "start_time": "2023-12-02T16:04:28.576Z"
   },
   {
    "duration": 13,
    "start_time": "2023-12-02T16:04:28.738Z"
   },
   {
    "duration": 15,
    "start_time": "2023-12-02T16:04:28.753Z"
   },
   {
    "duration": 337,
    "start_time": "2023-12-02T16:04:28.769Z"
   },
   {
    "duration": 9,
    "start_time": "2023-12-02T16:04:29.108Z"
   },
   {
    "duration": 58,
    "start_time": "2023-12-02T16:04:29.119Z"
   },
   {
    "duration": 423,
    "start_time": "2023-12-02T16:04:29.179Z"
   },
   {
    "duration": 10,
    "start_time": "2023-12-02T16:04:29.603Z"
   },
   {
    "duration": 14,
    "start_time": "2023-12-02T16:04:29.615Z"
   },
   {
    "duration": 17,
    "start_time": "2023-12-02T16:04:29.631Z"
   },
   {
    "duration": 9,
    "start_time": "2023-12-02T16:04:29.650Z"
   },
   {
    "duration": 6,
    "start_time": "2023-12-02T16:04:29.661Z"
   },
   {
    "duration": 7,
    "start_time": "2023-12-02T16:04:29.668Z"
   },
   {
    "duration": 35,
    "start_time": "2023-12-02T16:04:29.676Z"
   },
   {
    "duration": 11,
    "start_time": "2023-12-02T16:04:29.713Z"
   },
   {
    "duration": 6,
    "start_time": "2023-12-02T16:04:29.726Z"
   },
   {
    "duration": 165,
    "start_time": "2023-12-02T16:04:29.734Z"
   },
   {
    "duration": 15,
    "start_time": "2023-12-02T16:04:29.901Z"
   },
   {
    "duration": 8,
    "start_time": "2023-12-02T16:04:29.918Z"
   },
   {
    "duration": 164,
    "start_time": "2023-12-02T16:04:29.927Z"
   },
   {
    "duration": 147,
    "start_time": "2023-12-02T16:04:30.093Z"
   },
   {
    "duration": 141,
    "start_time": "2023-12-02T16:04:30.242Z"
   },
   {
    "duration": 24,
    "start_time": "2023-12-02T16:04:30.385Z"
   },
   {
    "duration": 11,
    "start_time": "2023-12-02T16:04:30.411Z"
   },
   {
    "duration": 25,
    "start_time": "2023-12-02T16:04:30.423Z"
   },
   {
    "duration": 27,
    "start_time": "2023-12-02T16:04:30.450Z"
   },
   {
    "duration": 28,
    "start_time": "2023-12-02T16:04:30.483Z"
   },
   {
    "duration": 47,
    "start_time": "2023-12-02T16:04:30.513Z"
   },
   {
    "duration": 41,
    "start_time": "2023-12-02T16:04:30.562Z"
   },
   {
    "duration": 191,
    "start_time": "2023-12-02T16:04:30.605Z"
   },
   {
    "duration": 77,
    "start_time": "2023-12-02T16:04:30.798Z"
   },
   {
    "duration": 69,
    "start_time": "2023-12-02T16:04:30.877Z"
   },
   {
    "duration": 90,
    "start_time": "2023-12-02T16:04:30.948Z"
   },
   {
    "duration": 22,
    "start_time": "2023-12-02T16:04:31.040Z"
   },
   {
    "duration": 31,
    "start_time": "2023-12-02T16:04:31.064Z"
   },
   {
    "duration": 42,
    "start_time": "2023-12-02T16:04:31.097Z"
   },
   {
    "duration": 42,
    "start_time": "2023-12-02T16:04:31.141Z"
   },
   {
    "duration": 101,
    "start_time": "2023-12-02T16:04:31.185Z"
   },
   {
    "duration": 38,
    "start_time": "2023-12-02T16:04:31.288Z"
   },
   {
    "duration": 32,
    "start_time": "2023-12-02T16:04:31.328Z"
   },
   {
    "duration": 44,
    "start_time": "2023-12-02T16:04:31.362Z"
   },
   {
    "duration": 426,
    "start_time": "2023-12-02T16:04:31.407Z"
   },
   {
    "duration": 9,
    "start_time": "2023-12-02T16:04:31.835Z"
   },
   {
    "duration": 110,
    "start_time": "2023-12-02T16:04:31.845Z"
   },
   {
    "duration": 4,
    "start_time": "2023-12-02T16:04:31.956Z"
   },
   {
    "duration": 288,
    "start_time": "2023-12-02T16:04:31.962Z"
   },
   {
    "duration": 8,
    "start_time": "2023-12-02T16:04:32.252Z"
   },
   {
    "duration": 33,
    "start_time": "2023-12-02T16:04:32.261Z"
   },
   {
    "duration": 41,
    "start_time": "2023-12-02T16:04:32.296Z"
   },
   {
    "duration": 204,
    "start_time": "2023-12-02T16:04:32.338Z"
   },
   {
    "duration": 9,
    "start_time": "2023-12-02T16:04:32.543Z"
   },
   {
    "duration": 226,
    "start_time": "2023-12-02T16:04:32.553Z"
   },
   {
    "duration": 10,
    "start_time": "2023-12-02T16:04:32.781Z"
   },
   {
    "duration": 28,
    "start_time": "2023-12-02T16:04:32.793Z"
   },
   {
    "duration": 28,
    "start_time": "2023-12-02T16:04:32.823Z"
   },
   {
    "duration": 21,
    "start_time": "2023-12-02T16:04:32.853Z"
   },
   {
    "duration": 20,
    "start_time": "2023-12-02T16:04:32.876Z"
   },
   {
    "duration": 38,
    "start_time": "2023-12-02T16:04:32.898Z"
   },
   {
    "duration": 35,
    "start_time": "2023-12-02T16:04:32.938Z"
   },
   {
    "duration": 20,
    "start_time": "2023-12-02T16:04:32.975Z"
   },
   {
    "duration": 54,
    "start_time": "2023-12-02T16:04:32.997Z"
   },
   {
    "duration": 24,
    "start_time": "2023-12-02T16:04:33.053Z"
   },
   {
    "duration": 30,
    "start_time": "2023-12-02T16:04:33.079Z"
   },
   {
    "duration": 18,
    "start_time": "2023-12-02T16:04:33.110Z"
   },
   {
    "duration": 26,
    "start_time": "2023-12-02T16:04:33.130Z"
   },
   {
    "duration": 10,
    "start_time": "2023-12-02T16:04:33.158Z"
   },
   {
    "duration": 224,
    "start_time": "2023-12-02T16:04:33.170Z"
   },
   {
    "duration": 13,
    "start_time": "2023-12-02T16:04:33.396Z"
   },
   {
    "duration": 7,
    "start_time": "2023-12-02T16:04:33.410Z"
   },
   {
    "duration": 242,
    "start_time": "2023-12-02T16:04:33.419Z"
   },
   {
    "duration": 4,
    "start_time": "2023-12-02T16:04:33.663Z"
   },
   {
    "duration": 42,
    "start_time": "2023-12-02T16:04:33.669Z"
   },
   {
    "duration": 42,
    "start_time": "2023-12-02T16:04:33.712Z"
   },
   {
    "duration": 85,
    "start_time": "2023-12-02T16:04:33.755Z"
   },
   {
    "duration": 4,
    "start_time": "2023-12-02T16:04:33.842Z"
   },
   {
    "duration": 44,
    "start_time": "2023-12-02T16:04:33.847Z"
   },
   {
    "duration": 34,
    "start_time": "2023-12-02T16:04:33.892Z"
   },
   {
    "duration": 14,
    "start_time": "2023-12-02T16:04:33.927Z"
   },
   {
    "duration": 24,
    "start_time": "2023-12-02T16:04:33.942Z"
   },
   {
    "duration": 28,
    "start_time": "2023-12-02T16:04:33.968Z"
   },
   {
    "duration": 16,
    "start_time": "2023-12-02T16:04:34.002Z"
   },
   {
    "duration": 55,
    "start_time": "2023-12-02T16:04:34.019Z"
   },
   {
    "duration": 17,
    "start_time": "2023-12-02T16:04:34.076Z"
   },
   {
    "duration": 58,
    "start_time": "2023-12-02T16:04:34.094Z"
   },
   {
    "duration": 30,
    "start_time": "2023-12-02T16:04:34.154Z"
   },
   {
    "duration": 25,
    "start_time": "2023-12-02T16:04:34.186Z"
   },
   {
    "duration": 5,
    "start_time": "2023-12-02T16:04:34.212Z"
   },
   {
    "duration": 55,
    "start_time": "2023-12-02T16:04:34.218Z"
   },
   {
    "duration": 32,
    "start_time": "2023-12-02T16:04:34.275Z"
   },
   {
    "duration": 141,
    "start_time": "2023-12-02T16:04:34.309Z"
   },
   {
    "duration": 275,
    "start_time": "2023-12-02T16:04:34.451Z"
   },
   {
    "duration": 57,
    "start_time": "2023-12-02T16:04:34.728Z"
   },
   {
    "duration": 47,
    "start_time": "2023-12-02T16:04:34.787Z"
   },
   {
    "duration": 35,
    "start_time": "2023-12-02T16:04:34.836Z"
   },
   {
    "duration": 32,
    "start_time": "2023-12-02T16:04:34.873Z"
   },
   {
    "duration": 8,
    "start_time": "2023-12-02T16:05:10.923Z"
   },
   {
    "duration": 4,
    "start_time": "2023-12-02T16:05:15.247Z"
   },
   {
    "duration": 4,
    "start_time": "2023-12-02T16:05:16.060Z"
   },
   {
    "duration": 5,
    "start_time": "2023-12-02T16:05:16.595Z"
   },
   {
    "duration": 15,
    "start_time": "2023-12-02T16:07:48.979Z"
   },
   {
    "duration": 10,
    "start_time": "2023-12-02T16:12:10.963Z"
   },
   {
    "duration": 4,
    "start_time": "2023-12-02T16:12:12.198Z"
   },
   {
    "duration": 1227,
    "start_time": "2023-12-02T16:12:22.644Z"
   },
   {
    "duration": 293,
    "start_time": "2023-12-02T16:12:23.873Z"
   },
   {
    "duration": 12,
    "start_time": "2023-12-02T16:12:24.168Z"
   },
   {
    "duration": 34,
    "start_time": "2023-12-02T16:12:24.182Z"
   },
   {
    "duration": 334,
    "start_time": "2023-12-02T16:12:24.218Z"
   },
   {
    "duration": 10,
    "start_time": "2023-12-02T16:12:24.555Z"
   },
   {
    "duration": 60,
    "start_time": "2023-12-02T16:12:24.567Z"
   },
   {
    "duration": 403,
    "start_time": "2023-12-02T16:12:24.629Z"
   },
   {
    "duration": 8,
    "start_time": "2023-12-02T16:12:25.034Z"
   },
   {
    "duration": 23,
    "start_time": "2023-12-02T16:12:25.045Z"
   },
   {
    "duration": 25,
    "start_time": "2023-12-02T16:12:25.069Z"
   },
   {
    "duration": 22,
    "start_time": "2023-12-02T16:12:25.095Z"
   },
   {
    "duration": 20,
    "start_time": "2023-12-02T16:12:25.118Z"
   },
   {
    "duration": 5,
    "start_time": "2023-12-02T16:12:25.140Z"
   },
   {
    "duration": 11,
    "start_time": "2023-12-02T16:12:25.147Z"
   },
   {
    "duration": 24,
    "start_time": "2023-12-02T16:12:25.159Z"
   },
   {
    "duration": 5,
    "start_time": "2023-12-02T16:12:25.185Z"
   },
   {
    "duration": 152,
    "start_time": "2023-12-02T16:12:25.192Z"
   },
   {
    "duration": 12,
    "start_time": "2023-12-02T16:12:25.346Z"
   },
   {
    "duration": 8,
    "start_time": "2023-12-02T16:12:25.359Z"
   },
   {
    "duration": 169,
    "start_time": "2023-12-02T16:12:25.370Z"
   },
   {
    "duration": 142,
    "start_time": "2023-12-02T16:12:25.541Z"
   },
   {
    "duration": 229,
    "start_time": "2023-12-02T16:12:25.684Z"
   },
   {
    "duration": 8,
    "start_time": "2023-12-02T16:12:25.915Z"
   },
   {
    "duration": 6,
    "start_time": "2023-12-02T16:12:25.925Z"
   },
   {
    "duration": 26,
    "start_time": "2023-12-02T16:12:25.933Z"
   },
   {
    "duration": 49,
    "start_time": "2023-12-02T16:12:25.961Z"
   },
   {
    "duration": 4,
    "start_time": "2023-12-02T16:12:26.016Z"
   },
   {
    "duration": 20,
    "start_time": "2023-12-02T16:12:26.021Z"
   },
   {
    "duration": 71,
    "start_time": "2023-12-02T16:12:26.043Z"
   },
   {
    "duration": 4,
    "start_time": "2023-12-02T16:12:26.116Z"
   },
   {
    "duration": 17,
    "start_time": "2023-12-02T16:12:26.122Z"
   },
   {
    "duration": 13,
    "start_time": "2023-12-02T16:12:26.141Z"
   },
   {
    "duration": 62,
    "start_time": "2023-12-02T16:12:26.155Z"
   },
   {
    "duration": 6,
    "start_time": "2023-12-02T16:12:26.219Z"
   },
   {
    "duration": 13,
    "start_time": "2023-12-02T16:12:26.226Z"
   },
   {
    "duration": 16,
    "start_time": "2023-12-02T16:12:26.241Z"
   },
   {
    "duration": 18,
    "start_time": "2023-12-02T16:12:26.258Z"
   },
   {
    "duration": 27,
    "start_time": "2023-12-02T16:12:26.277Z"
   },
   {
    "duration": 4,
    "start_time": "2023-12-02T16:12:26.306Z"
   },
   {
    "duration": 22,
    "start_time": "2023-12-02T16:12:26.312Z"
   },
   {
    "duration": 9,
    "start_time": "2023-12-02T16:12:26.335Z"
   },
   {
    "duration": 402,
    "start_time": "2023-12-02T16:12:26.346Z"
   },
   {
    "duration": 9,
    "start_time": "2023-12-02T16:12:26.750Z"
   },
   {
    "duration": 89,
    "start_time": "2023-12-02T16:12:26.761Z"
   },
   {
    "duration": 5,
    "start_time": "2023-12-02T16:12:26.851Z"
   },
   {
    "duration": 283,
    "start_time": "2023-12-02T16:12:26.857Z"
   },
   {
    "duration": 8,
    "start_time": "2023-12-02T16:12:27.142Z"
   },
   {
    "duration": 18,
    "start_time": "2023-12-02T16:12:27.152Z"
   },
   {
    "duration": 21,
    "start_time": "2023-12-02T16:12:27.171Z"
   },
   {
    "duration": 198,
    "start_time": "2023-12-02T16:12:27.194Z"
   },
   {
    "duration": 9,
    "start_time": "2023-12-02T16:12:27.393Z"
   },
   {
    "duration": 185,
    "start_time": "2023-12-02T16:12:27.407Z"
   },
   {
    "duration": 15,
    "start_time": "2023-12-02T16:12:27.594Z"
   },
   {
    "duration": 9,
    "start_time": "2023-12-02T16:12:27.611Z"
   },
   {
    "duration": 12,
    "start_time": "2023-12-02T16:12:27.622Z"
   },
   {
    "duration": 10,
    "start_time": "2023-12-02T16:12:27.636Z"
   },
   {
    "duration": 5,
    "start_time": "2023-12-02T16:12:27.648Z"
   },
   {
    "duration": 13,
    "start_time": "2023-12-02T16:12:27.654Z"
   },
   {
    "duration": 39,
    "start_time": "2023-12-02T16:12:27.668Z"
   },
   {
    "duration": 8,
    "start_time": "2023-12-02T16:12:27.709Z"
   },
   {
    "duration": 26,
    "start_time": "2023-12-02T16:12:27.719Z"
   },
   {
    "duration": 9,
    "start_time": "2023-12-02T16:12:27.747Z"
   },
   {
    "duration": 11,
    "start_time": "2023-12-02T16:12:27.758Z"
   },
   {
    "duration": 4,
    "start_time": "2023-12-02T16:12:27.771Z"
   },
   {
    "duration": 11,
    "start_time": "2023-12-02T16:12:27.777Z"
   },
   {
    "duration": 8,
    "start_time": "2023-12-02T16:12:27.807Z"
   },
   {
    "duration": 232,
    "start_time": "2023-12-02T16:12:27.817Z"
   },
   {
    "duration": 8,
    "start_time": "2023-12-02T16:12:28.051Z"
   },
   {
    "duration": 17,
    "start_time": "2023-12-02T16:12:28.061Z"
   },
   {
    "duration": 239,
    "start_time": "2023-12-02T16:12:28.079Z"
   },
   {
    "duration": 5,
    "start_time": "2023-12-02T16:12:28.320Z"
   },
   {
    "duration": 18,
    "start_time": "2023-12-02T16:12:28.327Z"
   },
   {
    "duration": 5,
    "start_time": "2023-12-02T16:12:28.347Z"
   },
   {
    "duration": 26,
    "start_time": "2023-12-02T16:12:28.353Z"
   },
   {
    "duration": 4,
    "start_time": "2023-12-02T16:12:28.380Z"
   },
   {
    "duration": 24,
    "start_time": "2023-12-02T16:12:28.386Z"
   },
   {
    "duration": 18,
    "start_time": "2023-12-02T16:12:28.411Z"
   },
   {
    "duration": 9,
    "start_time": "2023-12-02T16:12:28.431Z"
   },
   {
    "duration": 9,
    "start_time": "2023-12-02T16:12:28.442Z"
   },
   {
    "duration": 10,
    "start_time": "2023-12-02T16:12:28.453Z"
   },
   {
    "duration": 13,
    "start_time": "2023-12-02T16:12:28.469Z"
   },
   {
    "duration": 27,
    "start_time": "2023-12-02T16:12:28.484Z"
   },
   {
    "duration": 9,
    "start_time": "2023-12-02T16:12:28.512Z"
   },
   {
    "duration": 16,
    "start_time": "2023-12-02T16:12:28.523Z"
   },
   {
    "duration": 11,
    "start_time": "2023-12-02T16:12:28.541Z"
   },
   {
    "duration": 10,
    "start_time": "2023-12-02T16:12:28.554Z"
   },
   {
    "duration": 6,
    "start_time": "2023-12-02T16:12:28.566Z"
   },
   {
    "duration": 6,
    "start_time": "2023-12-02T16:12:28.574Z"
   },
   {
    "duration": 30,
    "start_time": "2023-12-02T16:12:28.581Z"
   },
   {
    "duration": 42,
    "start_time": "2023-12-02T16:12:28.613Z"
   },
   {
    "duration": 28,
    "start_time": "2023-12-02T16:12:28.656Z"
   },
   {
    "duration": 31,
    "start_time": "2023-12-02T16:12:28.686Z"
   },
   {
    "duration": 17,
    "start_time": "2023-12-02T16:12:28.719Z"
   },
   {
    "duration": 7,
    "start_time": "2023-12-02T16:12:28.738Z"
   },
   {
    "duration": 15,
    "start_time": "2023-12-02T16:13:50.780Z"
   },
   {
    "duration": 12,
    "start_time": "2023-12-02T16:13:57.102Z"
   },
   {
    "duration": 4,
    "start_time": "2023-12-02T16:13:58.317Z"
   },
   {
    "duration": 14,
    "start_time": "2023-12-02T16:13:59.350Z"
   },
   {
    "duration": 7,
    "start_time": "2023-12-02T16:15:18.996Z"
   },
   {
    "duration": 8,
    "start_time": "2023-12-02T16:15:20.795Z"
   },
   {
    "duration": 8,
    "start_time": "2023-12-02T16:15:21.749Z"
   },
   {
    "duration": 7,
    "start_time": "2023-12-02T16:15:22.421Z"
   },
   {
    "duration": 1291,
    "start_time": "2023-12-02T16:17:50.796Z"
   },
   {
    "duration": 223,
    "start_time": "2023-12-02T16:17:52.089Z"
   },
   {
    "duration": 12,
    "start_time": "2023-12-02T16:17:52.316Z"
   },
   {
    "duration": 32,
    "start_time": "2023-12-02T16:17:52.330Z"
   },
   {
    "duration": 350,
    "start_time": "2023-12-02T16:17:52.364Z"
   },
   {
    "duration": 10,
    "start_time": "2023-12-02T16:17:52.716Z"
   },
   {
    "duration": 27,
    "start_time": "2023-12-02T16:17:52.728Z"
   },
   {
    "duration": 408,
    "start_time": "2023-12-02T16:17:52.757Z"
   },
   {
    "duration": 7,
    "start_time": "2023-12-02T16:17:53.169Z"
   },
   {
    "duration": 33,
    "start_time": "2023-12-02T16:17:53.178Z"
   },
   {
    "duration": 37,
    "start_time": "2023-12-02T16:17:53.213Z"
   },
   {
    "duration": 23,
    "start_time": "2023-12-02T16:17:53.252Z"
   },
   {
    "duration": 5,
    "start_time": "2023-12-02T16:17:53.277Z"
   },
   {
    "duration": 17,
    "start_time": "2023-12-02T16:17:53.284Z"
   },
   {
    "duration": 25,
    "start_time": "2023-12-02T16:17:53.303Z"
   },
   {
    "duration": 23,
    "start_time": "2023-12-02T16:17:53.330Z"
   },
   {
    "duration": 38,
    "start_time": "2023-12-02T16:17:53.355Z"
   },
   {
    "duration": 174,
    "start_time": "2023-12-02T16:17:53.395Z"
   },
   {
    "duration": 12,
    "start_time": "2023-12-02T16:17:53.571Z"
   },
   {
    "duration": 6,
    "start_time": "2023-12-02T16:17:53.585Z"
   },
   {
    "duration": 153,
    "start_time": "2023-12-02T16:17:53.593Z"
   },
   {
    "duration": 146,
    "start_time": "2023-12-02T16:17:53.748Z"
   },
   {
    "duration": 138,
    "start_time": "2023-12-02T16:17:53.896Z"
   },
   {
    "duration": 9,
    "start_time": "2023-12-02T16:17:54.035Z"
   },
   {
    "duration": 4,
    "start_time": "2023-12-02T16:17:54.046Z"
   },
   {
    "duration": 12,
    "start_time": "2023-12-02T16:17:54.052Z"
   },
   {
    "duration": 7,
    "start_time": "2023-12-02T16:17:54.068Z"
   },
   {
    "duration": 32,
    "start_time": "2023-12-02T16:17:54.077Z"
   },
   {
    "duration": 18,
    "start_time": "2023-12-02T16:17:54.111Z"
   },
   {
    "duration": 37,
    "start_time": "2023-12-02T16:17:54.131Z"
   },
   {
    "duration": 3,
    "start_time": "2023-12-02T16:17:54.170Z"
   },
   {
    "duration": 32,
    "start_time": "2023-12-02T16:17:54.175Z"
   },
   {
    "duration": 27,
    "start_time": "2023-12-02T16:17:54.209Z"
   },
   {
    "duration": 21,
    "start_time": "2023-12-02T16:17:54.238Z"
   },
   {
    "duration": 5,
    "start_time": "2023-12-02T16:17:54.261Z"
   },
   {
    "duration": 29,
    "start_time": "2023-12-02T16:17:54.267Z"
   },
   {
    "duration": 25,
    "start_time": "2023-12-02T16:17:54.298Z"
   },
   {
    "duration": 5,
    "start_time": "2023-12-02T16:17:54.325Z"
   },
   {
    "duration": 13,
    "start_time": "2023-12-02T16:17:54.332Z"
   },
   {
    "duration": 11,
    "start_time": "2023-12-02T16:17:54.347Z"
   },
   {
    "duration": 22,
    "start_time": "2023-12-02T16:17:54.359Z"
   },
   {
    "duration": 9,
    "start_time": "2023-12-02T16:17:54.383Z"
   },
   {
    "duration": 381,
    "start_time": "2023-12-02T16:17:54.394Z"
   },
   {
    "duration": 13,
    "start_time": "2023-12-02T16:17:54.777Z"
   },
   {
    "duration": 98,
    "start_time": "2023-12-02T16:17:54.792Z"
   },
   {
    "duration": 17,
    "start_time": "2023-12-02T16:17:54.892Z"
   },
   {
    "duration": 281,
    "start_time": "2023-12-02T16:17:54.911Z"
   },
   {
    "duration": 13,
    "start_time": "2023-12-02T16:17:55.194Z"
   },
   {
    "duration": 25,
    "start_time": "2023-12-02T16:17:55.209Z"
   },
   {
    "duration": 21,
    "start_time": "2023-12-02T16:17:55.235Z"
   },
   {
    "duration": 201,
    "start_time": "2023-12-02T16:17:55.258Z"
   },
   {
    "duration": 8,
    "start_time": "2023-12-02T16:17:55.461Z"
   },
   {
    "duration": 196,
    "start_time": "2023-12-02T16:17:55.470Z"
   },
   {
    "duration": 10,
    "start_time": "2023-12-02T16:17:55.668Z"
   },
   {
    "duration": 10,
    "start_time": "2023-12-02T16:17:55.680Z"
   },
   {
    "duration": 13,
    "start_time": "2023-12-02T16:17:55.706Z"
   },
   {
    "duration": 9,
    "start_time": "2023-12-02T16:17:55.721Z"
   },
   {
    "duration": 5,
    "start_time": "2023-12-02T16:17:55.732Z"
   },
   {
    "duration": 19,
    "start_time": "2023-12-02T16:17:55.739Z"
   },
   {
    "duration": 13,
    "start_time": "2023-12-02T16:17:55.760Z"
   },
   {
    "duration": 19,
    "start_time": "2023-12-02T16:17:55.775Z"
   },
   {
    "duration": 24,
    "start_time": "2023-12-02T16:17:55.795Z"
   },
   {
    "duration": 14,
    "start_time": "2023-12-02T16:17:55.821Z"
   },
   {
    "duration": 17,
    "start_time": "2023-12-02T16:17:55.837Z"
   },
   {
    "duration": 18,
    "start_time": "2023-12-02T16:17:55.855Z"
   },
   {
    "duration": 24,
    "start_time": "2023-12-02T16:17:55.875Z"
   },
   {
    "duration": 10,
    "start_time": "2023-12-02T16:17:55.901Z"
   },
   {
    "duration": 233,
    "start_time": "2023-12-02T16:17:55.913Z"
   },
   {
    "duration": 8,
    "start_time": "2023-12-02T16:17:56.148Z"
   },
   {
    "duration": 9,
    "start_time": "2023-12-02T16:17:56.157Z"
   },
   {
    "duration": 243,
    "start_time": "2023-12-02T16:17:56.167Z"
   },
   {
    "duration": 5,
    "start_time": "2023-12-02T16:17:56.412Z"
   },
   {
    "duration": 21,
    "start_time": "2023-12-02T16:17:56.419Z"
   },
   {
    "duration": 6,
    "start_time": "2023-12-02T16:17:56.442Z"
   },
   {
    "duration": 34,
    "start_time": "2023-12-02T16:17:56.450Z"
   },
   {
    "duration": 10,
    "start_time": "2023-12-02T16:17:56.486Z"
   },
   {
    "duration": 9,
    "start_time": "2023-12-02T16:17:56.497Z"
   },
   {
    "duration": 12,
    "start_time": "2023-12-02T16:17:56.507Z"
   },
   {
    "duration": 9,
    "start_time": "2023-12-02T16:17:56.521Z"
   },
   {
    "duration": 14,
    "start_time": "2023-12-02T16:17:56.531Z"
   },
   {
    "duration": 8,
    "start_time": "2023-12-02T16:17:56.551Z"
   },
   {
    "duration": 7,
    "start_time": "2023-12-02T16:17:56.560Z"
   },
   {
    "duration": 14,
    "start_time": "2023-12-02T16:17:56.569Z"
   },
   {
    "duration": 28,
    "start_time": "2023-12-02T16:17:56.585Z"
   },
   {
    "duration": 7,
    "start_time": "2023-12-02T16:17:56.615Z"
   },
   {
    "duration": 16,
    "start_time": "2023-12-02T16:17:56.623Z"
   },
   {
    "duration": 17,
    "start_time": "2023-12-02T16:17:56.640Z"
   },
   {
    "duration": 11,
    "start_time": "2023-12-02T16:17:56.659Z"
   },
   {
    "duration": 7,
    "start_time": "2023-12-02T16:17:56.672Z"
   },
   {
    "duration": 9,
    "start_time": "2023-12-02T16:17:56.681Z"
   },
   {
    "duration": 23,
    "start_time": "2023-12-02T16:17:56.692Z"
   },
   {
    "duration": 11,
    "start_time": "2023-12-02T16:17:56.717Z"
   },
   {
    "duration": 25,
    "start_time": "2023-12-02T16:17:56.730Z"
   },
   {
    "duration": 23,
    "start_time": "2023-12-02T16:17:56.757Z"
   },
   {
    "duration": 7,
    "start_time": "2023-12-02T16:17:56.781Z"
   },
   {
    "duration": 5,
    "start_time": "2023-12-02T16:24:05.499Z"
   },
   {
    "duration": 104,
    "start_time": "2023-12-02T16:24:06.120Z"
   },
   {
    "duration": 5,
    "start_time": "2023-12-02T16:24:11.613Z"
   },
   {
    "duration": 6,
    "start_time": "2023-12-02T16:24:12.569Z"
   },
   {
    "duration": 22,
    "start_time": "2023-12-02T16:27:28.925Z"
   },
   {
    "duration": 5,
    "start_time": "2023-12-02T16:27:35.464Z"
   },
   {
    "duration": 5,
    "start_time": "2023-12-02T16:27:36.358Z"
   },
   {
    "duration": 5,
    "start_time": "2023-12-02T16:27:37.320Z"
   },
   {
    "duration": 11,
    "start_time": "2023-12-02T16:27:43.703Z"
   },
   {
    "duration": 5,
    "start_time": "2023-12-02T16:27:53.254Z"
   },
   {
    "duration": 5,
    "start_time": "2023-12-02T16:27:54.054Z"
   },
   {
    "duration": 6,
    "start_time": "2023-12-02T16:27:54.913Z"
   },
   {
    "duration": 15,
    "start_time": "2023-12-02T16:30:00.921Z"
   },
   {
    "duration": 2053,
    "start_time": "2023-12-02T16:30:01.879Z"
   },
   {
    "duration": 1276,
    "start_time": "2023-12-02T16:30:10.999Z"
   },
   {
    "duration": 139,
    "start_time": "2023-12-02T16:30:12.277Z"
   },
   {
    "duration": 13,
    "start_time": "2023-12-02T16:30:12.418Z"
   },
   {
    "duration": 12,
    "start_time": "2023-12-02T16:30:12.433Z"
   },
   {
    "duration": 340,
    "start_time": "2023-12-02T16:30:12.446Z"
   },
   {
    "duration": 9,
    "start_time": "2023-12-02T16:30:12.787Z"
   },
   {
    "duration": 11,
    "start_time": "2023-12-02T16:30:12.807Z"
   },
   {
    "duration": 403,
    "start_time": "2023-12-02T16:30:12.819Z"
   },
   {
    "duration": 8,
    "start_time": "2023-12-02T16:30:13.225Z"
   },
   {
    "duration": 19,
    "start_time": "2023-12-02T16:30:13.237Z"
   },
   {
    "duration": 13,
    "start_time": "2023-12-02T16:30:13.258Z"
   },
   {
    "duration": 24,
    "start_time": "2023-12-02T16:30:13.272Z"
   },
   {
    "duration": 8,
    "start_time": "2023-12-02T16:30:13.298Z"
   },
   {
    "duration": 7,
    "start_time": "2023-12-02T16:30:13.308Z"
   },
   {
    "duration": 18,
    "start_time": "2023-12-02T16:30:13.317Z"
   },
   {
    "duration": 27,
    "start_time": "2023-12-02T16:30:13.337Z"
   },
   {
    "duration": 6,
    "start_time": "2023-12-02T16:30:13.366Z"
   },
   {
    "duration": 153,
    "start_time": "2023-12-02T16:30:13.373Z"
   },
   {
    "duration": 13,
    "start_time": "2023-12-02T16:30:13.529Z"
   },
   {
    "duration": 20,
    "start_time": "2023-12-02T16:30:13.544Z"
   },
   {
    "duration": 149,
    "start_time": "2023-12-02T16:30:13.565Z"
   },
   {
    "duration": 142,
    "start_time": "2023-12-02T16:30:13.716Z"
   },
   {
    "duration": 130,
    "start_time": "2023-12-02T16:30:13.861Z"
   },
   {
    "duration": 20,
    "start_time": "2023-12-02T16:30:13.993Z"
   },
   {
    "duration": 5,
    "start_time": "2023-12-02T16:30:14.014Z"
   },
   {
    "duration": 22,
    "start_time": "2023-12-02T16:30:14.020Z"
   },
   {
    "duration": 8,
    "start_time": "2023-12-02T16:30:14.044Z"
   },
   {
    "duration": 4,
    "start_time": "2023-12-02T16:30:14.056Z"
   },
   {
    "duration": 23,
    "start_time": "2023-12-02T16:30:14.061Z"
   },
   {
    "duration": 30,
    "start_time": "2023-12-02T16:30:14.085Z"
   },
   {
    "duration": 3,
    "start_time": "2023-12-02T16:30:14.117Z"
   },
   {
    "duration": 17,
    "start_time": "2023-12-02T16:30:14.121Z"
   },
   {
    "duration": 15,
    "start_time": "2023-12-02T16:30:14.139Z"
   },
   {
    "duration": 23,
    "start_time": "2023-12-02T16:30:14.156Z"
   },
   {
    "duration": 6,
    "start_time": "2023-12-02T16:30:14.181Z"
   },
   {
    "duration": 19,
    "start_time": "2023-12-02T16:30:14.188Z"
   },
   {
    "duration": 9,
    "start_time": "2023-12-02T16:30:14.208Z"
   },
   {
    "duration": 5,
    "start_time": "2023-12-02T16:30:14.219Z"
   },
   {
    "duration": 8,
    "start_time": "2023-12-02T16:30:14.225Z"
   },
   {
    "duration": 5,
    "start_time": "2023-12-02T16:30:14.234Z"
   },
   {
    "duration": 44,
    "start_time": "2023-12-02T16:30:14.240Z"
   },
   {
    "duration": 22,
    "start_time": "2023-12-02T16:30:14.286Z"
   },
   {
    "duration": 409,
    "start_time": "2023-12-02T16:30:14.309Z"
   },
   {
    "duration": 8,
    "start_time": "2023-12-02T16:30:14.720Z"
   },
   {
    "duration": 93,
    "start_time": "2023-12-02T16:30:14.730Z"
   },
   {
    "duration": 5,
    "start_time": "2023-12-02T16:30:14.824Z"
   },
   {
    "duration": 293,
    "start_time": "2023-12-02T16:30:14.830Z"
   },
   {
    "duration": 8,
    "start_time": "2023-12-02T16:30:15.124Z"
   },
   {
    "duration": 36,
    "start_time": "2023-12-02T16:30:15.134Z"
   },
   {
    "duration": 25,
    "start_time": "2023-12-02T16:30:15.172Z"
   },
   {
    "duration": 181,
    "start_time": "2023-12-02T16:30:15.198Z"
   },
   {
    "duration": 9,
    "start_time": "2023-12-02T16:30:15.380Z"
   },
   {
    "duration": 188,
    "start_time": "2023-12-02T16:30:15.390Z"
   },
   {
    "duration": 10,
    "start_time": "2023-12-02T16:30:15.579Z"
   },
   {
    "duration": 19,
    "start_time": "2023-12-02T16:30:15.590Z"
   },
   {
    "duration": 28,
    "start_time": "2023-12-02T16:30:15.610Z"
   },
   {
    "duration": 44,
    "start_time": "2023-12-02T16:30:15.640Z"
   },
   {
    "duration": 21,
    "start_time": "2023-12-02T16:30:15.686Z"
   },
   {
    "duration": 14,
    "start_time": "2023-12-02T16:30:15.708Z"
   },
   {
    "duration": 14,
    "start_time": "2023-12-02T16:30:15.724Z"
   },
   {
    "duration": 51,
    "start_time": "2023-12-02T16:30:15.740Z"
   },
   {
    "duration": 44,
    "start_time": "2023-12-02T16:30:15.793Z"
   },
   {
    "duration": 40,
    "start_time": "2023-12-02T16:30:15.839Z"
   },
   {
    "duration": 33,
    "start_time": "2023-12-02T16:30:15.881Z"
   },
   {
    "duration": 16,
    "start_time": "2023-12-02T16:30:15.915Z"
   },
   {
    "duration": 33,
    "start_time": "2023-12-02T16:30:15.933Z"
   },
   {
    "duration": 7,
    "start_time": "2023-12-02T16:30:15.968Z"
   },
   {
    "duration": 218,
    "start_time": "2023-12-02T16:30:15.977Z"
   },
   {
    "duration": 15,
    "start_time": "2023-12-02T16:30:16.197Z"
   },
   {
    "duration": 91,
    "start_time": "2023-12-02T16:30:16.214Z"
   },
   {
    "duration": 233,
    "start_time": "2023-12-02T16:30:16.307Z"
   },
   {
    "duration": 5,
    "start_time": "2023-12-02T16:30:16.542Z"
   },
   {
    "duration": 17,
    "start_time": "2023-12-02T16:30:16.548Z"
   },
   {
    "duration": 9,
    "start_time": "2023-12-02T16:30:16.566Z"
   },
   {
    "duration": 39,
    "start_time": "2023-12-02T16:30:16.577Z"
   },
   {
    "duration": 4,
    "start_time": "2023-12-02T16:30:16.618Z"
   },
   {
    "duration": 30,
    "start_time": "2023-12-02T16:30:16.624Z"
   },
   {
    "duration": 12,
    "start_time": "2023-12-02T16:30:16.656Z"
   },
   {
    "duration": 7,
    "start_time": "2023-12-02T16:30:16.670Z"
   },
   {
    "duration": 12,
    "start_time": "2023-12-02T16:30:16.679Z"
   },
   {
    "duration": 18,
    "start_time": "2023-12-02T16:30:16.693Z"
   },
   {
    "duration": 8,
    "start_time": "2023-12-02T16:30:16.717Z"
   },
   {
    "duration": 7,
    "start_time": "2023-12-02T16:30:16.727Z"
   },
   {
    "duration": 28,
    "start_time": "2023-12-02T16:30:16.735Z"
   },
   {
    "duration": 5,
    "start_time": "2023-12-02T16:30:16.765Z"
   },
   {
    "duration": 34,
    "start_time": "2023-12-02T16:30:16.772Z"
   },
   {
    "duration": 13,
    "start_time": "2023-12-02T16:30:16.808Z"
   },
   {
    "duration": 4,
    "start_time": "2023-12-02T16:30:16.823Z"
   },
   {
    "duration": 8,
    "start_time": "2023-12-02T16:30:16.829Z"
   },
   {
    "duration": 9,
    "start_time": "2023-12-02T16:30:16.839Z"
   },
   {
    "duration": 12,
    "start_time": "2023-12-02T16:30:16.850Z"
   },
   {
    "duration": 17,
    "start_time": "2023-12-02T16:30:16.863Z"
   },
   {
    "duration": 30,
    "start_time": "2023-12-02T16:30:16.883Z"
   },
   {
    "duration": 13,
    "start_time": "2023-12-02T16:30:16.915Z"
   },
   {
    "duration": 14,
    "start_time": "2023-12-02T16:30:16.930Z"
   },
   {
    "duration": 1217,
    "start_time": "2023-12-02T16:30:47.274Z"
   },
   {
    "duration": 158,
    "start_time": "2023-12-02T16:30:48.493Z"
   },
   {
    "duration": 14,
    "start_time": "2023-12-02T16:30:48.652Z"
   },
   {
    "duration": 25,
    "start_time": "2023-12-02T16:30:48.669Z"
   },
   {
    "duration": 341,
    "start_time": "2023-12-02T16:30:48.696Z"
   },
   {
    "duration": 9,
    "start_time": "2023-12-02T16:30:49.038Z"
   },
   {
    "duration": 26,
    "start_time": "2023-12-02T16:30:49.050Z"
   },
   {
    "duration": 426,
    "start_time": "2023-12-02T16:30:49.079Z"
   },
   {
    "duration": 7,
    "start_time": "2023-12-02T16:30:49.507Z"
   },
   {
    "duration": 13,
    "start_time": "2023-12-02T16:30:49.517Z"
   },
   {
    "duration": 9,
    "start_time": "2023-12-02T16:30:49.532Z"
   },
   {
    "duration": 19,
    "start_time": "2023-12-02T16:30:49.543Z"
   },
   {
    "duration": 29,
    "start_time": "2023-12-02T16:30:49.564Z"
   },
   {
    "duration": 17,
    "start_time": "2023-12-02T16:30:49.595Z"
   },
   {
    "duration": 12,
    "start_time": "2023-12-02T16:30:49.614Z"
   },
   {
    "duration": 27,
    "start_time": "2023-12-02T16:30:49.628Z"
   },
   {
    "duration": 27,
    "start_time": "2023-12-02T16:30:49.657Z"
   },
   {
    "duration": 166,
    "start_time": "2023-12-02T16:30:49.686Z"
   },
   {
    "duration": 12,
    "start_time": "2023-12-02T16:30:49.854Z"
   },
   {
    "duration": 23,
    "start_time": "2023-12-02T16:30:49.868Z"
   },
   {
    "duration": 168,
    "start_time": "2023-12-02T16:30:49.893Z"
   },
   {
    "duration": 134,
    "start_time": "2023-12-02T16:30:50.063Z"
   },
   {
    "duration": 138,
    "start_time": "2023-12-02T16:30:50.198Z"
   },
   {
    "duration": 9,
    "start_time": "2023-12-02T16:30:50.337Z"
   },
   {
    "duration": 4,
    "start_time": "2023-12-02T16:30:50.348Z"
   },
   {
    "duration": 12,
    "start_time": "2023-12-02T16:30:50.353Z"
   },
   {
    "duration": 44,
    "start_time": "2023-12-02T16:30:50.366Z"
   },
   {
    "duration": 5,
    "start_time": "2023-12-02T16:30:50.414Z"
   },
   {
    "duration": 22,
    "start_time": "2023-12-02T16:30:50.421Z"
   },
   {
    "duration": 25,
    "start_time": "2023-12-02T16:30:50.445Z"
   },
   {
    "duration": 3,
    "start_time": "2023-12-02T16:30:50.472Z"
   },
   {
    "duration": 119,
    "start_time": "2023-12-02T16:30:50.477Z"
   },
   {
    "duration": 47,
    "start_time": "2023-12-02T16:30:50.598Z"
   },
   {
    "duration": 41,
    "start_time": "2023-12-02T16:30:50.647Z"
   },
   {
    "duration": 6,
    "start_time": "2023-12-02T16:30:50.690Z"
   },
   {
    "duration": 17,
    "start_time": "2023-12-02T16:30:50.697Z"
   },
   {
    "duration": 23,
    "start_time": "2023-12-02T16:30:50.715Z"
   },
   {
    "duration": 25,
    "start_time": "2023-12-02T16:30:50.739Z"
   },
   {
    "duration": 29,
    "start_time": "2023-12-02T16:30:50.765Z"
   },
   {
    "duration": 22,
    "start_time": "2023-12-02T16:30:50.796Z"
   },
   {
    "duration": 13,
    "start_time": "2023-12-02T16:30:50.820Z"
   },
   {
    "duration": 47,
    "start_time": "2023-12-02T16:30:50.835Z"
   },
   {
    "duration": 423,
    "start_time": "2023-12-02T16:30:50.883Z"
   },
   {
    "duration": 11,
    "start_time": "2023-12-02T16:30:51.308Z"
   },
   {
    "duration": 99,
    "start_time": "2023-12-02T16:30:51.320Z"
   },
   {
    "duration": 4,
    "start_time": "2023-12-02T16:30:51.421Z"
   },
   {
    "duration": 286,
    "start_time": "2023-12-02T16:30:51.427Z"
   },
   {
    "duration": 8,
    "start_time": "2023-12-02T16:30:51.715Z"
   },
   {
    "duration": 10,
    "start_time": "2023-12-02T16:30:51.725Z"
   },
   {
    "duration": 26,
    "start_time": "2023-12-02T16:30:51.737Z"
   },
   {
    "duration": 204,
    "start_time": "2023-12-02T16:30:51.764Z"
   },
   {
    "duration": 9,
    "start_time": "2023-12-02T16:30:51.969Z"
   },
   {
    "duration": 203,
    "start_time": "2023-12-02T16:30:51.979Z"
   },
   {
    "duration": 9,
    "start_time": "2023-12-02T16:30:52.184Z"
   },
   {
    "duration": 36,
    "start_time": "2023-12-02T16:30:52.195Z"
   },
   {
    "duration": 53,
    "start_time": "2023-12-02T16:30:52.233Z"
   },
   {
    "duration": 23,
    "start_time": "2023-12-02T16:30:52.288Z"
   },
   {
    "duration": 16,
    "start_time": "2023-12-02T16:30:52.313Z"
   },
   {
    "duration": 12,
    "start_time": "2023-12-02T16:30:52.331Z"
   },
   {
    "duration": 42,
    "start_time": "2023-12-02T16:30:52.345Z"
   },
   {
    "duration": 47,
    "start_time": "2023-12-02T16:30:52.389Z"
   },
   {
    "duration": 29,
    "start_time": "2023-12-02T16:30:52.438Z"
   },
   {
    "duration": 21,
    "start_time": "2023-12-02T16:30:52.469Z"
   },
   {
    "duration": 18,
    "start_time": "2023-12-02T16:30:52.491Z"
   },
   {
    "duration": 27,
    "start_time": "2023-12-02T16:30:52.511Z"
   },
   {
    "duration": 40,
    "start_time": "2023-12-02T16:30:52.539Z"
   },
   {
    "duration": 17,
    "start_time": "2023-12-02T16:30:52.581Z"
   },
   {
    "duration": 254,
    "start_time": "2023-12-02T16:30:52.600Z"
   },
   {
    "duration": 8,
    "start_time": "2023-12-02T16:30:52.856Z"
   },
   {
    "duration": 19,
    "start_time": "2023-12-02T16:30:52.866Z"
   },
   {
    "duration": 247,
    "start_time": "2023-12-02T16:30:52.887Z"
   },
   {
    "duration": 5,
    "start_time": "2023-12-02T16:30:53.136Z"
   },
   {
    "duration": 31,
    "start_time": "2023-12-02T16:30:53.143Z"
   },
   {
    "duration": 29,
    "start_time": "2023-12-02T16:30:53.175Z"
   },
   {
    "duration": 42,
    "start_time": "2023-12-02T16:30:53.206Z"
   },
   {
    "duration": 6,
    "start_time": "2023-12-02T16:30:53.250Z"
   },
   {
    "duration": 5,
    "start_time": "2023-12-02T16:30:53.257Z"
   },
   {
    "duration": 29,
    "start_time": "2023-12-02T16:30:53.263Z"
   },
   {
    "duration": 16,
    "start_time": "2023-12-02T16:30:53.294Z"
   },
   {
    "duration": 16,
    "start_time": "2023-12-02T16:30:53.311Z"
   },
   {
    "duration": 36,
    "start_time": "2023-12-02T16:30:53.329Z"
   },
   {
    "duration": 20,
    "start_time": "2023-12-02T16:30:53.371Z"
   },
   {
    "duration": 28,
    "start_time": "2023-12-02T16:30:53.393Z"
   },
   {
    "duration": 50,
    "start_time": "2023-12-02T16:30:53.423Z"
   },
   {
    "duration": 18,
    "start_time": "2023-12-02T16:30:53.475Z"
   },
   {
    "duration": 23,
    "start_time": "2023-12-02T16:30:53.495Z"
   },
   {
    "duration": 28,
    "start_time": "2023-12-02T16:30:53.520Z"
   },
   {
    "duration": 7,
    "start_time": "2023-12-02T16:30:53.550Z"
   },
   {
    "duration": 24,
    "start_time": "2023-12-02T16:30:53.559Z"
   },
   {
    "duration": 12,
    "start_time": "2023-12-02T16:30:53.585Z"
   },
   {
    "duration": 7,
    "start_time": "2023-12-02T16:30:53.599Z"
   },
   {
    "duration": 7,
    "start_time": "2023-12-02T16:30:53.608Z"
   },
   {
    "duration": 17,
    "start_time": "2023-12-02T16:30:53.617Z"
   },
   {
    "duration": 22,
    "start_time": "2023-12-02T16:30:53.636Z"
   },
   {
    "duration": 6,
    "start_time": "2023-12-02T16:30:53.659Z"
   },
   {
    "duration": 1253,
    "start_time": "2023-12-02T16:31:12.530Z"
   },
   {
    "duration": 141,
    "start_time": "2023-12-02T16:31:13.785Z"
   },
   {
    "duration": 13,
    "start_time": "2023-12-02T16:31:13.928Z"
   },
   {
    "duration": 11,
    "start_time": "2023-12-02T16:31:13.944Z"
   },
   {
    "duration": 326,
    "start_time": "2023-12-02T16:31:13.957Z"
   },
   {
    "duration": 8,
    "start_time": "2023-12-02T16:31:14.286Z"
   },
   {
    "duration": 30,
    "start_time": "2023-12-02T16:31:14.296Z"
   },
   {
    "duration": 414,
    "start_time": "2023-12-02T16:31:14.328Z"
   },
   {
    "duration": 8,
    "start_time": "2023-12-02T16:31:14.744Z"
   },
   {
    "duration": 14,
    "start_time": "2023-12-02T16:31:14.756Z"
   },
   {
    "duration": 9,
    "start_time": "2023-12-02T16:31:14.772Z"
   },
   {
    "duration": 29,
    "start_time": "2023-12-02T16:31:14.782Z"
   },
   {
    "duration": 19,
    "start_time": "2023-12-02T16:31:14.813Z"
   },
   {
    "duration": 6,
    "start_time": "2023-12-02T16:31:14.834Z"
   },
   {
    "duration": 28,
    "start_time": "2023-12-02T16:31:14.842Z"
   },
   {
    "duration": 18,
    "start_time": "2023-12-02T16:31:14.872Z"
   },
   {
    "duration": 5,
    "start_time": "2023-12-02T16:31:14.892Z"
   },
   {
    "duration": 145,
    "start_time": "2023-12-02T16:31:14.899Z"
   },
   {
    "duration": 13,
    "start_time": "2023-12-02T16:31:15.046Z"
   },
   {
    "duration": 45,
    "start_time": "2023-12-02T16:31:15.061Z"
   },
   {
    "duration": 146,
    "start_time": "2023-12-02T16:31:15.108Z"
   },
   {
    "duration": 139,
    "start_time": "2023-12-02T16:31:15.255Z"
   },
   {
    "duration": 138,
    "start_time": "2023-12-02T16:31:15.395Z"
   },
   {
    "duration": 9,
    "start_time": "2023-12-02T16:31:15.534Z"
   },
   {
    "duration": 4,
    "start_time": "2023-12-02T16:31:15.545Z"
   },
   {
    "duration": 21,
    "start_time": "2023-12-02T16:31:15.551Z"
   },
   {
    "duration": 16,
    "start_time": "2023-12-02T16:31:15.573Z"
   },
   {
    "duration": 4,
    "start_time": "2023-12-02T16:31:15.594Z"
   },
   {
    "duration": 19,
    "start_time": "2023-12-02T16:31:15.607Z"
   },
   {
    "duration": 39,
    "start_time": "2023-12-02T16:31:15.628Z"
   },
   {
    "duration": 4,
    "start_time": "2023-12-02T16:31:15.669Z"
   },
   {
    "duration": 12,
    "start_time": "2023-12-02T16:31:15.675Z"
   },
   {
    "duration": 19,
    "start_time": "2023-12-02T16:31:15.689Z"
   },
   {
    "duration": 27,
    "start_time": "2023-12-02T16:31:15.709Z"
   },
   {
    "duration": 5,
    "start_time": "2023-12-02T16:31:15.738Z"
   },
   {
    "duration": 4,
    "start_time": "2023-12-02T16:31:15.745Z"
   },
   {
    "duration": 8,
    "start_time": "2023-12-02T16:31:15.751Z"
   },
   {
    "duration": 19,
    "start_time": "2023-12-02T16:31:15.761Z"
   },
   {
    "duration": 20,
    "start_time": "2023-12-02T16:31:15.782Z"
   },
   {
    "duration": 4,
    "start_time": "2023-12-02T16:31:15.803Z"
   },
   {
    "duration": 10,
    "start_time": "2023-12-02T16:31:15.809Z"
   },
   {
    "duration": 29,
    "start_time": "2023-12-02T16:31:15.821Z"
   },
   {
    "duration": 399,
    "start_time": "2023-12-02T16:31:15.852Z"
   },
   {
    "duration": 9,
    "start_time": "2023-12-02T16:31:16.253Z"
   },
   {
    "duration": 94,
    "start_time": "2023-12-02T16:31:16.264Z"
   },
   {
    "duration": 5,
    "start_time": "2023-12-02T16:31:16.359Z"
   },
   {
    "duration": 294,
    "start_time": "2023-12-02T16:31:16.365Z"
   },
   {
    "duration": 9,
    "start_time": "2023-12-02T16:31:16.661Z"
   },
   {
    "duration": 12,
    "start_time": "2023-12-02T16:31:16.672Z"
   },
   {
    "duration": 35,
    "start_time": "2023-12-02T16:31:16.686Z"
   },
   {
    "duration": 189,
    "start_time": "2023-12-02T16:31:16.723Z"
   },
   {
    "duration": 8,
    "start_time": "2023-12-02T16:31:16.914Z"
   },
   {
    "duration": 185,
    "start_time": "2023-12-02T16:31:16.924Z"
   },
   {
    "duration": 10,
    "start_time": "2023-12-02T16:31:17.110Z"
   },
   {
    "duration": 12,
    "start_time": "2023-12-02T16:31:17.121Z"
   },
   {
    "duration": 27,
    "start_time": "2023-12-02T16:31:17.134Z"
   },
   {
    "duration": 10,
    "start_time": "2023-12-02T16:31:17.164Z"
   },
   {
    "duration": 4,
    "start_time": "2023-12-02T16:31:17.176Z"
   },
   {
    "duration": 13,
    "start_time": "2023-12-02T16:31:17.181Z"
   },
   {
    "duration": 13,
    "start_time": "2023-12-02T16:31:17.207Z"
   },
   {
    "duration": 8,
    "start_time": "2023-12-02T16:31:17.222Z"
   },
   {
    "duration": 11,
    "start_time": "2023-12-02T16:31:17.232Z"
   },
   {
    "duration": 15,
    "start_time": "2023-12-02T16:31:17.245Z"
   },
   {
    "duration": 23,
    "start_time": "2023-12-02T16:31:17.262Z"
   },
   {
    "duration": 20,
    "start_time": "2023-12-02T16:31:17.287Z"
   },
   {
    "duration": 42,
    "start_time": "2023-12-02T16:31:17.309Z"
   },
   {
    "duration": 18,
    "start_time": "2023-12-02T16:31:17.353Z"
   },
   {
    "duration": 224,
    "start_time": "2023-12-02T16:31:17.373Z"
   },
   {
    "duration": 13,
    "start_time": "2023-12-02T16:31:17.599Z"
   },
   {
    "duration": 8,
    "start_time": "2023-12-02T16:31:17.614Z"
   },
   {
    "duration": 240,
    "start_time": "2023-12-02T16:31:17.624Z"
   },
   {
    "duration": 4,
    "start_time": "2023-12-02T16:31:17.866Z"
   },
   {
    "duration": 12,
    "start_time": "2023-12-02T16:31:17.872Z"
   },
   {
    "duration": 6,
    "start_time": "2023-12-02T16:31:17.886Z"
   },
   {
    "duration": 35,
    "start_time": "2023-12-02T16:31:17.893Z"
   },
   {
    "duration": 4,
    "start_time": "2023-12-02T16:31:17.930Z"
   },
   {
    "duration": 6,
    "start_time": "2023-12-02T16:31:17.935Z"
   },
   {
    "duration": 11,
    "start_time": "2023-12-02T16:31:17.943Z"
   },
   {
    "duration": 27,
    "start_time": "2023-12-02T16:31:17.956Z"
   },
   {
    "duration": 27,
    "start_time": "2023-12-02T16:31:17.985Z"
   },
   {
    "duration": 15,
    "start_time": "2023-12-02T16:31:18.014Z"
   },
   {
    "duration": 8,
    "start_time": "2023-12-02T16:31:18.036Z"
   },
   {
    "duration": 8,
    "start_time": "2023-12-02T16:31:18.046Z"
   },
   {
    "duration": 10,
    "start_time": "2023-12-02T16:31:18.055Z"
   },
   {
    "duration": 11,
    "start_time": "2023-12-02T16:31:18.067Z"
   },
   {
    "duration": 11,
    "start_time": "2023-12-02T16:31:18.106Z"
   },
   {
    "duration": 16,
    "start_time": "2023-12-02T16:31:18.118Z"
   },
   {
    "duration": 8,
    "start_time": "2023-12-02T16:31:18.136Z"
   },
   {
    "duration": 4,
    "start_time": "2023-12-02T16:31:18.146Z"
   },
   {
    "duration": 9,
    "start_time": "2023-12-02T16:31:18.152Z"
   },
   {
    "duration": 8,
    "start_time": "2023-12-02T16:31:18.162Z"
   },
   {
    "duration": 16,
    "start_time": "2023-12-02T16:31:18.172Z"
   },
   {
    "duration": 24,
    "start_time": "2023-12-02T16:31:18.190Z"
   },
   {
    "duration": 13,
    "start_time": "2023-12-02T16:31:18.216Z"
   },
   {
    "duration": 23,
    "start_time": "2023-12-02T16:31:18.231Z"
   },
   {
    "duration": 4,
    "start_time": "2023-12-02T16:33:46.598Z"
   },
   {
    "duration": 5,
    "start_time": "2023-12-02T16:33:47.134Z"
   },
   {
    "duration": 6,
    "start_time": "2023-12-02T16:33:47.658Z"
   },
   {
    "duration": 1309,
    "start_time": "2023-12-02T16:38:44.393Z"
   },
   {
    "duration": 132,
    "start_time": "2023-12-02T16:38:45.704Z"
   },
   {
    "duration": 13,
    "start_time": "2023-12-02T16:38:45.837Z"
   },
   {
    "duration": 27,
    "start_time": "2023-12-02T16:38:45.852Z"
   },
   {
    "duration": 355,
    "start_time": "2023-12-02T16:38:45.881Z"
   },
   {
    "duration": 9,
    "start_time": "2023-12-02T16:38:46.238Z"
   },
   {
    "duration": 17,
    "start_time": "2023-12-02T16:38:46.248Z"
   },
   {
    "duration": 432,
    "start_time": "2023-12-02T16:38:46.267Z"
   },
   {
    "duration": 9,
    "start_time": "2023-12-02T16:38:46.702Z"
   },
   {
    "duration": 33,
    "start_time": "2023-12-02T16:38:46.714Z"
   },
   {
    "duration": 28,
    "start_time": "2023-12-02T16:38:46.748Z"
   },
   {
    "duration": 19,
    "start_time": "2023-12-02T16:38:46.778Z"
   },
   {
    "duration": 36,
    "start_time": "2023-12-02T16:38:46.799Z"
   },
   {
    "duration": 19,
    "start_time": "2023-12-02T16:38:46.837Z"
   },
   {
    "duration": 42,
    "start_time": "2023-12-02T16:38:46.858Z"
   },
   {
    "duration": 44,
    "start_time": "2023-12-02T16:38:46.901Z"
   },
   {
    "duration": 31,
    "start_time": "2023-12-02T16:38:46.947Z"
   },
   {
    "duration": 193,
    "start_time": "2023-12-02T16:38:46.979Z"
   },
   {
    "duration": 12,
    "start_time": "2023-12-02T16:38:47.174Z"
   },
   {
    "duration": 30,
    "start_time": "2023-12-02T16:38:47.187Z"
   },
   {
    "duration": 172,
    "start_time": "2023-12-02T16:38:47.219Z"
   },
   {
    "duration": 141,
    "start_time": "2023-12-02T16:38:47.393Z"
   },
   {
    "duration": 128,
    "start_time": "2023-12-02T16:38:47.536Z"
   },
   {
    "duration": 9,
    "start_time": "2023-12-02T16:38:47.666Z"
   },
   {
    "duration": 4,
    "start_time": "2023-12-02T16:38:47.677Z"
   },
   {
    "duration": 32,
    "start_time": "2023-12-02T16:38:47.683Z"
   },
   {
    "duration": 7,
    "start_time": "2023-12-02T16:38:47.717Z"
   },
   {
    "duration": 7,
    "start_time": "2023-12-02T16:38:47.729Z"
   },
   {
    "duration": 22,
    "start_time": "2023-12-02T16:38:47.738Z"
   },
   {
    "duration": 29,
    "start_time": "2023-12-02T16:38:47.762Z"
   },
   {
    "duration": 21,
    "start_time": "2023-12-02T16:38:47.792Z"
   },
   {
    "duration": 25,
    "start_time": "2023-12-02T16:38:47.815Z"
   },
   {
    "duration": 13,
    "start_time": "2023-12-02T16:38:47.841Z"
   },
   {
    "duration": 22,
    "start_time": "2023-12-02T16:38:47.855Z"
   },
   {
    "duration": 5,
    "start_time": "2023-12-02T16:38:47.879Z"
   },
   {
    "duration": 4,
    "start_time": "2023-12-02T16:38:47.886Z"
   },
   {
    "duration": 7,
    "start_time": "2023-12-02T16:38:47.892Z"
   },
   {
    "duration": 4,
    "start_time": "2023-12-02T16:38:47.907Z"
   },
   {
    "duration": 7,
    "start_time": "2023-12-02T16:38:47.913Z"
   },
   {
    "duration": 4,
    "start_time": "2023-12-02T16:38:47.922Z"
   },
   {
    "duration": 11,
    "start_time": "2023-12-02T16:38:47.927Z"
   },
   {
    "duration": 11,
    "start_time": "2023-12-02T16:38:47.939Z"
   },
   {
    "duration": 408,
    "start_time": "2023-12-02T16:38:47.952Z"
   },
   {
    "duration": 9,
    "start_time": "2023-12-02T16:38:48.362Z"
   },
   {
    "duration": 98,
    "start_time": "2023-12-02T16:38:48.373Z"
   },
   {
    "duration": 5,
    "start_time": "2023-12-02T16:38:48.472Z"
   },
   {
    "duration": 316,
    "start_time": "2023-12-02T16:38:48.479Z"
   },
   {
    "duration": 14,
    "start_time": "2023-12-02T16:38:48.797Z"
   },
   {
    "duration": 12,
    "start_time": "2023-12-02T16:38:48.813Z"
   },
   {
    "duration": 14,
    "start_time": "2023-12-02T16:38:48.826Z"
   },
   {
    "duration": 188,
    "start_time": "2023-12-02T16:38:48.842Z"
   },
   {
    "duration": 9,
    "start_time": "2023-12-02T16:38:49.031Z"
   },
   {
    "duration": 196,
    "start_time": "2023-12-02T16:38:49.042Z"
   },
   {
    "duration": 10,
    "start_time": "2023-12-02T16:38:49.240Z"
   },
   {
    "duration": 9,
    "start_time": "2023-12-02T16:38:49.251Z"
   },
   {
    "duration": 12,
    "start_time": "2023-12-02T16:38:49.262Z"
   },
   {
    "duration": 5,
    "start_time": "2023-12-02T16:38:49.276Z"
   },
   {
    "duration": 28,
    "start_time": "2023-12-02T16:38:49.282Z"
   },
   {
    "duration": 13,
    "start_time": "2023-12-02T16:38:49.311Z"
   },
   {
    "duration": 13,
    "start_time": "2023-12-02T16:38:49.326Z"
   },
   {
    "duration": 8,
    "start_time": "2023-12-02T16:38:49.341Z"
   },
   {
    "duration": 11,
    "start_time": "2023-12-02T16:38:49.351Z"
   },
   {
    "duration": 12,
    "start_time": "2023-12-02T16:38:49.363Z"
   },
   {
    "duration": 37,
    "start_time": "2023-12-02T16:38:49.376Z"
   },
   {
    "duration": 12,
    "start_time": "2023-12-02T16:38:49.415Z"
   },
   {
    "duration": 10,
    "start_time": "2023-12-02T16:38:49.428Z"
   },
   {
    "duration": 7,
    "start_time": "2023-12-02T16:38:49.440Z"
   },
   {
    "duration": 240,
    "start_time": "2023-12-02T16:38:49.449Z"
   },
   {
    "duration": 8,
    "start_time": "2023-12-02T16:38:49.691Z"
   },
   {
    "duration": 13,
    "start_time": "2023-12-02T16:38:49.700Z"
   },
   {
    "duration": 239,
    "start_time": "2023-12-02T16:38:49.715Z"
   },
   {
    "duration": 4,
    "start_time": "2023-12-02T16:38:49.956Z"
   },
   {
    "duration": 28,
    "start_time": "2023-12-02T16:38:49.961Z"
   },
   {
    "duration": 25,
    "start_time": "2023-12-02T16:38:49.991Z"
   },
   {
    "duration": 59,
    "start_time": "2023-12-02T16:38:50.018Z"
   },
   {
    "duration": 42,
    "start_time": "2023-12-02T16:38:50.078Z"
   },
   {
    "duration": 30,
    "start_time": "2023-12-02T16:38:50.121Z"
   },
   {
    "duration": 51,
    "start_time": "2023-12-02T16:38:50.152Z"
   },
   {
    "duration": 31,
    "start_time": "2023-12-02T16:38:50.205Z"
   },
   {
    "duration": 124,
    "start_time": "2023-12-02T16:38:50.238Z"
   },
   {
    "duration": 28,
    "start_time": "2023-12-02T16:38:50.364Z"
   },
   {
    "duration": 7,
    "start_time": "2023-12-02T16:38:50.398Z"
   },
   {
    "duration": 17,
    "start_time": "2023-12-02T16:38:50.406Z"
   },
   {
    "duration": 10,
    "start_time": "2023-12-02T16:38:50.425Z"
   },
   {
    "duration": 14,
    "start_time": "2023-12-02T16:38:50.436Z"
   },
   {
    "duration": 21,
    "start_time": "2023-12-02T16:38:50.452Z"
   },
   {
    "duration": 21,
    "start_time": "2023-12-02T16:38:50.475Z"
   },
   {
    "duration": 10,
    "start_time": "2023-12-02T16:38:50.498Z"
   },
   {
    "duration": 37,
    "start_time": "2023-12-02T16:38:50.510Z"
   },
   {
    "duration": 38,
    "start_time": "2023-12-02T16:38:50.548Z"
   },
   {
    "duration": 52,
    "start_time": "2023-12-02T16:38:50.587Z"
   },
   {
    "duration": 22,
    "start_time": "2023-12-02T16:38:50.641Z"
   },
   {
    "duration": 20,
    "start_time": "2023-12-02T16:38:50.666Z"
   },
   {
    "duration": 28,
    "start_time": "2023-12-02T16:38:50.689Z"
   },
   {
    "duration": 23,
    "start_time": "2023-12-02T16:38:50.719Z"
   },
   {
    "duration": 1294,
    "start_time": "2023-12-02T16:40:46.589Z"
   },
   {
    "duration": 147,
    "start_time": "2023-12-02T16:40:47.885Z"
   },
   {
    "duration": 13,
    "start_time": "2023-12-02T16:40:48.034Z"
   },
   {
    "duration": 13,
    "start_time": "2023-12-02T16:40:48.049Z"
   },
   {
    "duration": 326,
    "start_time": "2023-12-02T16:40:48.064Z"
   },
   {
    "duration": 15,
    "start_time": "2023-12-02T16:40:48.391Z"
   },
   {
    "duration": 11,
    "start_time": "2023-12-02T16:40:48.408Z"
   },
   {
    "duration": 428,
    "start_time": "2023-12-02T16:40:48.420Z"
   },
   {
    "duration": 7,
    "start_time": "2023-12-02T16:40:48.850Z"
   },
   {
    "duration": 15,
    "start_time": "2023-12-02T16:40:48.860Z"
   },
   {
    "duration": 13,
    "start_time": "2023-12-02T16:40:48.877Z"
   },
   {
    "duration": 19,
    "start_time": "2023-12-02T16:40:48.891Z"
   },
   {
    "duration": 5,
    "start_time": "2023-12-02T16:40:48.912Z"
   },
   {
    "duration": 8,
    "start_time": "2023-12-02T16:40:48.918Z"
   },
   {
    "duration": 13,
    "start_time": "2023-12-02T16:40:48.927Z"
   },
   {
    "duration": 10,
    "start_time": "2023-12-02T16:40:48.941Z"
   },
   {
    "duration": 6,
    "start_time": "2023-12-02T16:40:48.952Z"
   },
   {
    "duration": 175,
    "start_time": "2023-12-02T16:40:48.960Z"
   },
   {
    "duration": 14,
    "start_time": "2023-12-02T16:40:49.137Z"
   },
   {
    "duration": 7,
    "start_time": "2023-12-02T16:40:49.153Z"
   },
   {
    "duration": 159,
    "start_time": "2023-12-02T16:40:49.162Z"
   },
   {
    "duration": 149,
    "start_time": "2023-12-02T16:40:49.323Z"
   },
   {
    "duration": 134,
    "start_time": "2023-12-02T16:40:49.474Z"
   },
   {
    "duration": 10,
    "start_time": "2023-12-02T16:40:49.610Z"
   },
   {
    "duration": 23,
    "start_time": "2023-12-02T16:40:49.622Z"
   },
   {
    "duration": 20,
    "start_time": "2023-12-02T16:40:49.647Z"
   },
   {
    "duration": 28,
    "start_time": "2023-12-02T16:40:49.669Z"
   },
   {
    "duration": 14,
    "start_time": "2023-12-02T16:40:49.703Z"
   },
   {
    "duration": 26,
    "start_time": "2023-12-02T16:40:49.719Z"
   },
   {
    "duration": 23,
    "start_time": "2023-12-02T16:40:49.747Z"
   },
   {
    "duration": 4,
    "start_time": "2023-12-02T16:40:49.772Z"
   },
   {
    "duration": 12,
    "start_time": "2023-12-02T16:40:49.778Z"
   },
   {
    "duration": 32,
    "start_time": "2023-12-02T16:40:49.792Z"
   },
   {
    "duration": 45,
    "start_time": "2023-12-02T16:40:49.826Z"
   },
   {
    "duration": 10,
    "start_time": "2023-12-02T16:40:49.873Z"
   },
   {
    "duration": 9,
    "start_time": "2023-12-02T16:40:49.885Z"
   },
   {
    "duration": 21,
    "start_time": "2023-12-02T16:40:49.896Z"
   },
   {
    "duration": 7,
    "start_time": "2023-12-02T16:40:49.919Z"
   },
   {
    "duration": 16,
    "start_time": "2023-12-02T16:40:49.927Z"
   },
   {
    "duration": 7,
    "start_time": "2023-12-02T16:40:49.945Z"
   },
   {
    "duration": 12,
    "start_time": "2023-12-02T16:40:49.954Z"
   },
   {
    "duration": 20,
    "start_time": "2023-12-02T16:40:49.968Z"
   },
   {
    "duration": 377,
    "start_time": "2023-12-02T16:40:49.990Z"
   },
   {
    "duration": 8,
    "start_time": "2023-12-02T16:40:50.369Z"
   },
   {
    "duration": 94,
    "start_time": "2023-12-02T16:40:50.379Z"
   },
   {
    "duration": 5,
    "start_time": "2023-12-02T16:40:50.475Z"
   },
   {
    "duration": 286,
    "start_time": "2023-12-02T16:40:50.482Z"
   },
   {
    "duration": 9,
    "start_time": "2023-12-02T16:40:50.770Z"
   },
   {
    "duration": 26,
    "start_time": "2023-12-02T16:40:50.781Z"
   },
   {
    "duration": 10,
    "start_time": "2023-12-02T16:40:50.809Z"
   },
   {
    "duration": 199,
    "start_time": "2023-12-02T16:40:50.820Z"
   },
   {
    "duration": 10,
    "start_time": "2023-12-02T16:40:51.021Z"
   },
   {
    "duration": 208,
    "start_time": "2023-12-02T16:40:51.033Z"
   },
   {
    "duration": 9,
    "start_time": "2023-12-02T16:40:51.243Z"
   },
   {
    "duration": 30,
    "start_time": "2023-12-02T16:40:51.254Z"
   },
   {
    "duration": 21,
    "start_time": "2023-12-02T16:40:51.286Z"
   },
   {
    "duration": 22,
    "start_time": "2023-12-02T16:40:51.309Z"
   },
   {
    "duration": 16,
    "start_time": "2023-12-02T16:40:51.334Z"
   },
   {
    "duration": 32,
    "start_time": "2023-12-02T16:40:51.351Z"
   },
   {
    "duration": 38,
    "start_time": "2023-12-02T16:40:51.384Z"
   },
   {
    "duration": 23,
    "start_time": "2023-12-02T16:40:51.424Z"
   },
   {
    "duration": 24,
    "start_time": "2023-12-02T16:40:51.448Z"
   },
   {
    "duration": 32,
    "start_time": "2023-12-02T16:40:51.474Z"
   },
   {
    "duration": 31,
    "start_time": "2023-12-02T16:40:51.507Z"
   },
   {
    "duration": 45,
    "start_time": "2023-12-02T16:40:51.539Z"
   },
   {
    "duration": 79,
    "start_time": "2023-12-02T16:40:51.586Z"
   },
   {
    "duration": 38,
    "start_time": "2023-12-02T16:40:51.667Z"
   },
   {
    "duration": 232,
    "start_time": "2023-12-02T16:40:51.706Z"
   },
   {
    "duration": 8,
    "start_time": "2023-12-02T16:40:51.940Z"
   },
   {
    "duration": 17,
    "start_time": "2023-12-02T16:40:51.949Z"
   },
   {
    "duration": 246,
    "start_time": "2023-12-02T16:40:51.967Z"
   },
   {
    "duration": 5,
    "start_time": "2023-12-02T16:40:52.215Z"
   },
   {
    "duration": 80,
    "start_time": "2023-12-02T16:40:52.222Z"
   },
   {
    "duration": 52,
    "start_time": "2023-12-02T16:40:52.303Z"
   },
   {
    "duration": 55,
    "start_time": "2023-12-02T16:40:52.356Z"
   },
   {
    "duration": 27,
    "start_time": "2023-12-02T16:40:52.413Z"
   },
   {
    "duration": 164,
    "start_time": "2023-12-02T16:40:52.443Z"
   },
   {
    "duration": 33,
    "start_time": "2023-12-02T16:40:52.608Z"
   },
   {
    "duration": 47,
    "start_time": "2023-12-02T16:40:52.643Z"
   },
   {
    "duration": 17,
    "start_time": "2023-12-02T16:40:52.692Z"
   },
   {
    "duration": 14,
    "start_time": "2023-12-02T16:40:52.710Z"
   },
   {
    "duration": 20,
    "start_time": "2023-12-02T16:40:52.730Z"
   },
   {
    "duration": 10,
    "start_time": "2023-12-02T16:40:52.752Z"
   },
   {
    "duration": 21,
    "start_time": "2023-12-02T16:40:52.763Z"
   },
   {
    "duration": 44,
    "start_time": "2023-12-02T16:40:52.785Z"
   },
   {
    "duration": 35,
    "start_time": "2023-12-02T16:40:52.831Z"
   },
   {
    "duration": 24,
    "start_time": "2023-12-02T16:40:52.867Z"
   },
   {
    "duration": 34,
    "start_time": "2023-12-02T16:40:52.892Z"
   },
   {
    "duration": 33,
    "start_time": "2023-12-02T16:40:52.928Z"
   },
   {
    "duration": 36,
    "start_time": "2023-12-02T16:40:52.963Z"
   },
   {
    "duration": 46,
    "start_time": "2023-12-02T16:40:53.000Z"
   },
   {
    "duration": 20,
    "start_time": "2023-12-02T16:40:53.048Z"
   },
   {
    "duration": 18,
    "start_time": "2023-12-02T16:40:53.070Z"
   },
   {
    "duration": 39,
    "start_time": "2023-12-02T16:40:53.089Z"
   },
   {
    "duration": 33,
    "start_time": "2023-12-02T16:40:53.129Z"
   },
   {
    "duration": 1267,
    "start_time": "2023-12-03T10:39:51.147Z"
   },
   {
    "duration": 263,
    "start_time": "2023-12-03T10:39:52.416Z"
   },
   {
    "duration": 12,
    "start_time": "2023-12-03T10:39:52.681Z"
   },
   {
    "duration": 14,
    "start_time": "2023-12-03T10:39:52.694Z"
   },
   {
    "duration": 288,
    "start_time": "2023-12-03T10:39:52.710Z"
   },
   {
    "duration": 14,
    "start_time": "2023-12-03T10:39:52.999Z"
   },
   {
    "duration": 23,
    "start_time": "2023-12-03T10:39:53.015Z"
   },
   {
    "duration": 391,
    "start_time": "2023-12-03T10:39:53.040Z"
   },
   {
    "duration": 7,
    "start_time": "2023-12-03T10:39:53.434Z"
   },
   {
    "duration": 17,
    "start_time": "2023-12-03T10:39:53.444Z"
   },
   {
    "duration": 12,
    "start_time": "2023-12-03T10:39:53.463Z"
   },
   {
    "duration": 14,
    "start_time": "2023-12-03T10:39:53.477Z"
   },
   {
    "duration": 9,
    "start_time": "2023-12-03T10:39:53.493Z"
   },
   {
    "duration": 6,
    "start_time": "2023-12-03T10:39:53.513Z"
   },
   {
    "duration": 22,
    "start_time": "2023-12-03T10:39:53.521Z"
   },
   {
    "duration": 21,
    "start_time": "2023-12-03T10:39:53.545Z"
   },
   {
    "duration": 16,
    "start_time": "2023-12-03T10:39:53.568Z"
   },
   {
    "duration": 142,
    "start_time": "2023-12-03T10:39:53.586Z"
   },
   {
    "duration": 12,
    "start_time": "2023-12-03T10:39:53.729Z"
   },
   {
    "duration": 7,
    "start_time": "2023-12-03T10:39:53.743Z"
   },
   {
    "duration": 148,
    "start_time": "2023-12-03T10:39:53.751Z"
   },
   {
    "duration": 4,
    "start_time": "2023-12-03T10:39:53.900Z"
   },
   {
    "duration": 125,
    "start_time": "2023-12-03T10:39:53.913Z"
   },
   {
    "duration": 125,
    "start_time": "2023-12-03T10:39:54.040Z"
   },
   {
    "duration": 8,
    "start_time": "2023-12-03T10:39:54.167Z"
   },
   {
    "duration": 4,
    "start_time": "2023-12-03T10:39:54.177Z"
   },
   {
    "duration": 15,
    "start_time": "2023-12-03T10:39:54.182Z"
   },
   {
    "duration": 8,
    "start_time": "2023-12-03T10:39:54.213Z"
   },
   {
    "duration": 24,
    "start_time": "2023-12-03T10:39:54.222Z"
   },
   {
    "duration": 25,
    "start_time": "2023-12-03T10:39:54.248Z"
   },
   {
    "duration": 36,
    "start_time": "2023-12-03T10:39:54.274Z"
   },
   {
    "duration": 27,
    "start_time": "2023-12-03T10:39:54.311Z"
   },
   {
    "duration": 26,
    "start_time": "2023-12-03T10:39:54.339Z"
   },
   {
    "duration": 22,
    "start_time": "2023-12-03T10:39:54.366Z"
   },
   {
    "duration": 25,
    "start_time": "2023-12-03T10:39:54.389Z"
   },
   {
    "duration": 11,
    "start_time": "2023-12-03T10:39:54.415Z"
   },
   {
    "duration": 58,
    "start_time": "2023-12-03T10:39:54.427Z"
   },
   {
    "duration": 25,
    "start_time": "2023-12-03T10:39:54.486Z"
   },
   {
    "duration": 22,
    "start_time": "2023-12-03T10:39:54.512Z"
   },
   {
    "duration": 18,
    "start_time": "2023-12-03T10:39:54.535Z"
   },
   {
    "duration": 41,
    "start_time": "2023-12-03T10:39:54.555Z"
   },
   {
    "duration": 22,
    "start_time": "2023-12-03T10:39:54.598Z"
   },
   {
    "duration": 22,
    "start_time": "2023-12-03T10:39:54.621Z"
   },
   {
    "duration": 44,
    "start_time": "2023-12-03T10:39:54.644Z"
   },
   {
    "duration": 363,
    "start_time": "2023-12-03T10:39:54.690Z"
   },
   {
    "duration": 12,
    "start_time": "2023-12-03T10:39:55.056Z"
   },
   {
    "duration": 110,
    "start_time": "2023-12-03T10:39:55.070Z"
   },
   {
    "duration": 4,
    "start_time": "2023-12-03T10:39:55.181Z"
   },
   {
    "duration": 246,
    "start_time": "2023-12-03T10:39:55.186Z"
   },
   {
    "duration": 7,
    "start_time": "2023-12-03T10:39:55.433Z"
   },
   {
    "duration": 8,
    "start_time": "2023-12-03T10:39:55.441Z"
   },
   {
    "duration": 13,
    "start_time": "2023-12-03T10:39:55.450Z"
   },
   {
    "duration": 174,
    "start_time": "2023-12-03T10:39:55.464Z"
   },
   {
    "duration": 7,
    "start_time": "2023-12-03T10:39:55.640Z"
   },
   {
    "duration": 168,
    "start_time": "2023-12-03T10:39:55.649Z"
   },
   {
    "duration": 9,
    "start_time": "2023-12-03T10:39:55.818Z"
   },
   {
    "duration": 14,
    "start_time": "2023-12-03T10:39:55.828Z"
   },
   {
    "duration": 10,
    "start_time": "2023-12-03T10:39:55.844Z"
   },
   {
    "duration": 16,
    "start_time": "2023-12-03T10:39:55.856Z"
   },
   {
    "duration": 11,
    "start_time": "2023-12-03T10:39:55.873Z"
   },
   {
    "duration": 32,
    "start_time": "2023-12-03T10:39:55.885Z"
   },
   {
    "duration": 14,
    "start_time": "2023-12-03T10:39:55.918Z"
   },
   {
    "duration": 7,
    "start_time": "2023-12-03T10:39:55.933Z"
   },
   {
    "duration": 10,
    "start_time": "2023-12-03T10:39:55.942Z"
   },
   {
    "duration": 17,
    "start_time": "2023-12-03T10:39:55.953Z"
   },
   {
    "duration": 18,
    "start_time": "2023-12-03T10:39:55.972Z"
   },
   {
    "duration": 16,
    "start_time": "2023-12-03T10:39:55.992Z"
   },
   {
    "duration": 29,
    "start_time": "2023-12-03T10:39:56.009Z"
   },
   {
    "duration": 14,
    "start_time": "2023-12-03T10:39:56.039Z"
   },
   {
    "duration": 207,
    "start_time": "2023-12-03T10:39:56.054Z"
   },
   {
    "duration": 8,
    "start_time": "2023-12-03T10:39:56.262Z"
   },
   {
    "duration": 10,
    "start_time": "2023-12-03T10:39:56.272Z"
   },
   {
    "duration": 225,
    "start_time": "2023-12-03T10:39:56.284Z"
   },
   {
    "duration": 12,
    "start_time": "2023-12-03T10:39:56.512Z"
   },
   {
    "duration": 23,
    "start_time": "2023-12-03T10:39:56.526Z"
   },
   {
    "duration": 4,
    "start_time": "2023-12-03T10:39:56.550Z"
   },
   {
    "duration": 3,
    "start_time": "2023-12-03T10:39:56.556Z"
   },
   {
    "duration": 10,
    "start_time": "2023-12-03T10:39:56.560Z"
   },
   {
    "duration": 24,
    "start_time": "2023-12-03T10:39:56.571Z"
   },
   {
    "duration": 21,
    "start_time": "2023-12-03T10:39:56.597Z"
   },
   {
    "duration": 37,
    "start_time": "2023-12-03T10:39:56.620Z"
   },
   {
    "duration": 34,
    "start_time": "2023-12-03T10:39:56.662Z"
   },
   {
    "duration": 24,
    "start_time": "2023-12-03T10:39:56.698Z"
   },
   {
    "duration": 4,
    "start_time": "2023-12-03T10:39:56.724Z"
   },
   {
    "duration": 12,
    "start_time": "2023-12-03T10:39:56.729Z"
   },
   {
    "duration": 16,
    "start_time": "2023-12-03T10:39:56.743Z"
   },
   {
    "duration": 6,
    "start_time": "2023-12-03T10:39:56.760Z"
   },
   {
    "duration": 6,
    "start_time": "2023-12-03T10:39:56.768Z"
   },
   {
    "duration": 10,
    "start_time": "2023-12-03T10:39:56.775Z"
   },
   {
    "duration": 10,
    "start_time": "2023-12-03T10:39:56.786Z"
   },
   {
    "duration": 5,
    "start_time": "2023-12-03T10:39:56.814Z"
   },
   {
    "duration": 6,
    "start_time": "2023-12-03T10:39:56.820Z"
   },
   {
    "duration": 1165,
    "start_time": "2023-12-03T10:45:57.906Z"
   },
   {
    "duration": 155,
    "start_time": "2023-12-03T10:45:59.073Z"
   },
   {
    "duration": 12,
    "start_time": "2023-12-03T10:45:59.229Z"
   },
   {
    "duration": 19,
    "start_time": "2023-12-03T10:45:59.243Z"
   },
   {
    "duration": 296,
    "start_time": "2023-12-03T10:45:59.263Z"
   },
   {
    "duration": 8,
    "start_time": "2023-12-03T10:45:59.560Z"
   },
   {
    "duration": 11,
    "start_time": "2023-12-03T10:45:59.569Z"
   },
   {
    "duration": 364,
    "start_time": "2023-12-03T10:45:59.582Z"
   },
   {
    "duration": 7,
    "start_time": "2023-12-03T10:45:59.947Z"
   },
   {
    "duration": 38,
    "start_time": "2023-12-03T10:45:59.956Z"
   },
   {
    "duration": 76,
    "start_time": "2023-12-03T10:45:59.995Z"
   },
   {
    "duration": 116,
    "start_time": "2023-12-03T10:46:00.072Z"
   },
   {
    "duration": 65,
    "start_time": "2023-12-03T10:46:00.190Z"
   },
   {
    "duration": 66,
    "start_time": "2023-12-03T10:46:00.256Z"
   },
   {
    "duration": 77,
    "start_time": "2023-12-03T10:46:00.323Z"
   },
   {
    "duration": 61,
    "start_time": "2023-12-03T10:46:00.401Z"
   },
   {
    "duration": 60,
    "start_time": "2023-12-03T10:46:00.463Z"
   },
   {
    "duration": 165,
    "start_time": "2023-12-03T10:46:00.524Z"
   },
   {
    "duration": 11,
    "start_time": "2023-12-03T10:46:00.690Z"
   },
   {
    "duration": 36,
    "start_time": "2023-12-03T10:46:00.702Z"
   },
   {
    "duration": 173,
    "start_time": "2023-12-03T10:46:00.739Z"
   },
   {
    "duration": 3,
    "start_time": "2023-12-03T10:46:00.914Z"
   },
   {
    "duration": 144,
    "start_time": "2023-12-03T10:46:00.919Z"
   },
   {
    "duration": 117,
    "start_time": "2023-12-03T10:46:01.065Z"
   },
   {
    "duration": 8,
    "start_time": "2023-12-03T10:46:01.184Z"
   },
   {
    "duration": 42,
    "start_time": "2023-12-03T10:46:01.193Z"
   },
   {
    "duration": 50,
    "start_time": "2023-12-03T10:46:01.236Z"
   },
   {
    "duration": 95,
    "start_time": "2023-12-03T10:46:01.289Z"
   },
   {
    "duration": 44,
    "start_time": "2023-12-03T10:46:01.386Z"
   },
   {
    "duration": 53,
    "start_time": "2023-12-03T10:46:01.432Z"
   },
   {
    "duration": 56,
    "start_time": "2023-12-03T10:46:01.487Z"
   },
   {
    "duration": 53,
    "start_time": "2023-12-03T10:46:01.545Z"
   },
   {
    "duration": 53,
    "start_time": "2023-12-03T10:46:01.599Z"
   },
   {
    "duration": 41,
    "start_time": "2023-12-03T10:46:01.654Z"
   },
   {
    "duration": 64,
    "start_time": "2023-12-03T10:46:01.696Z"
   },
   {
    "duration": 35,
    "start_time": "2023-12-03T10:46:01.762Z"
   },
   {
    "duration": 44,
    "start_time": "2023-12-03T10:46:01.799Z"
   },
   {
    "duration": 99,
    "start_time": "2023-12-03T10:46:01.845Z"
   },
   {
    "duration": 209,
    "start_time": "2023-12-03T10:46:01.945Z"
   },
   {
    "duration": 53,
    "start_time": "2023-12-03T10:46:02.155Z"
   },
   {
    "duration": 26,
    "start_time": "2023-12-03T10:46:02.209Z"
   },
   {
    "duration": 21,
    "start_time": "2023-12-03T10:46:02.237Z"
   },
   {
    "duration": 18,
    "start_time": "2023-12-03T10:46:02.260Z"
   },
   {
    "duration": 35,
    "start_time": "2023-12-03T10:46:02.279Z"
   },
   {
    "duration": 375,
    "start_time": "2023-12-03T10:46:02.315Z"
   },
   {
    "duration": 7,
    "start_time": "2023-12-03T10:46:02.692Z"
   },
   {
    "duration": 104,
    "start_time": "2023-12-03T10:46:02.701Z"
   },
   {
    "duration": 4,
    "start_time": "2023-12-03T10:46:02.806Z"
   },
   {
    "duration": 282,
    "start_time": "2023-12-03T10:46:02.812Z"
   },
   {
    "duration": 10,
    "start_time": "2023-12-03T10:46:03.096Z"
   },
   {
    "duration": 41,
    "start_time": "2023-12-03T10:46:03.113Z"
   },
   {
    "duration": 57,
    "start_time": "2023-12-03T10:46:03.155Z"
   },
   {
    "duration": 214,
    "start_time": "2023-12-03T10:46:03.214Z"
   },
   {
    "duration": 11,
    "start_time": "2023-12-03T10:46:03.429Z"
   },
   {
    "duration": 167,
    "start_time": "2023-12-03T10:46:03.442Z"
   },
   {
    "duration": 9,
    "start_time": "2023-12-03T10:46:03.612Z"
   },
   {
    "duration": 9,
    "start_time": "2023-12-03T10:46:03.623Z"
   },
   {
    "duration": 11,
    "start_time": "2023-12-03T10:46:03.633Z"
   },
   {
    "duration": 15,
    "start_time": "2023-12-03T10:46:03.646Z"
   },
   {
    "duration": 11,
    "start_time": "2023-12-03T10:46:03.662Z"
   },
   {
    "duration": 11,
    "start_time": "2023-12-03T10:46:03.675Z"
   },
   {
    "duration": 39,
    "start_time": "2023-12-03T10:46:03.687Z"
   },
   {
    "duration": 15,
    "start_time": "2023-12-03T10:46:03.728Z"
   },
   {
    "duration": 11,
    "start_time": "2023-12-03T10:46:03.744Z"
   },
   {
    "duration": 13,
    "start_time": "2023-12-03T10:46:03.757Z"
   },
   {
    "duration": 13,
    "start_time": "2023-12-03T10:46:03.772Z"
   },
   {
    "duration": 8,
    "start_time": "2023-12-03T10:46:03.787Z"
   },
   {
    "duration": 16,
    "start_time": "2023-12-03T10:46:03.796Z"
   },
   {
    "duration": 13,
    "start_time": "2023-12-03T10:46:03.813Z"
   },
   {
    "duration": 205,
    "start_time": "2023-12-03T10:46:03.827Z"
   },
   {
    "duration": 8,
    "start_time": "2023-12-03T10:46:04.033Z"
   },
   {
    "duration": 7,
    "start_time": "2023-12-03T10:46:04.042Z"
   },
   {
    "duration": 217,
    "start_time": "2023-12-03T10:46:04.051Z"
   },
   {
    "duration": 11,
    "start_time": "2023-12-03T10:46:04.270Z"
   },
   {
    "duration": 32,
    "start_time": "2023-12-03T10:46:04.282Z"
   },
   {
    "duration": 4,
    "start_time": "2023-12-03T10:46:04.316Z"
   },
   {
    "duration": 5,
    "start_time": "2023-12-03T10:46:04.321Z"
   },
   {
    "duration": 12,
    "start_time": "2023-12-03T10:46:04.327Z"
   },
   {
    "duration": 9,
    "start_time": "2023-12-03T10:46:04.341Z"
   },
   {
    "duration": 9,
    "start_time": "2023-12-03T10:46:04.351Z"
   },
   {
    "duration": 4,
    "start_time": "2023-12-03T10:46:04.361Z"
   },
   {
    "duration": 10,
    "start_time": "2023-12-03T10:46:04.370Z"
   },
   {
    "duration": 40,
    "start_time": "2023-12-03T10:46:04.381Z"
   },
   {
    "duration": 4,
    "start_time": "2023-12-03T10:46:04.422Z"
   },
   {
    "duration": 26,
    "start_time": "2023-12-03T10:46:04.427Z"
   },
   {
    "duration": 32,
    "start_time": "2023-12-03T10:46:04.454Z"
   },
   {
    "duration": 7,
    "start_time": "2023-12-03T10:46:04.488Z"
   },
   {
    "duration": 5,
    "start_time": "2023-12-03T10:46:04.497Z"
   },
   {
    "duration": 9,
    "start_time": "2023-12-03T10:46:04.503Z"
   },
   {
    "duration": 7,
    "start_time": "2023-12-03T10:46:04.514Z"
   },
   {
    "duration": 5,
    "start_time": "2023-12-03T10:46:04.522Z"
   },
   {
    "duration": 9,
    "start_time": "2023-12-03T10:46:04.528Z"
   },
   {
    "duration": 11,
    "start_time": "2023-12-03T10:50:32.328Z"
   },
   {
    "duration": 1146,
    "start_time": "2023-12-03T10:52:22.060Z"
   },
   {
    "duration": 148,
    "start_time": "2023-12-03T10:52:23.208Z"
   },
   {
    "duration": 12,
    "start_time": "2023-12-03T10:52:23.357Z"
   },
   {
    "duration": 22,
    "start_time": "2023-12-03T10:52:23.371Z"
   },
   {
    "duration": 299,
    "start_time": "2023-12-03T10:52:23.395Z"
   },
   {
    "duration": 7,
    "start_time": "2023-12-03T10:52:23.696Z"
   },
   {
    "duration": 23,
    "start_time": "2023-12-03T10:52:23.713Z"
   },
   {
    "duration": 380,
    "start_time": "2023-12-03T10:52:23.738Z"
   },
   {
    "duration": 6,
    "start_time": "2023-12-03T10:52:24.120Z"
   },
   {
    "duration": 20,
    "start_time": "2023-12-03T10:52:24.129Z"
   },
   {
    "duration": 31,
    "start_time": "2023-12-03T10:52:24.151Z"
   },
   {
    "duration": 26,
    "start_time": "2023-12-03T10:52:24.183Z"
   },
   {
    "duration": 7,
    "start_time": "2023-12-03T10:52:24.210Z"
   },
   {
    "duration": 32,
    "start_time": "2023-12-03T10:52:24.219Z"
   },
   {
    "duration": 41,
    "start_time": "2023-12-03T10:52:24.253Z"
   },
   {
    "duration": 18,
    "start_time": "2023-12-03T10:52:24.296Z"
   },
   {
    "duration": 23,
    "start_time": "2023-12-03T10:52:24.316Z"
   },
   {
    "duration": 126,
    "start_time": "2023-12-03T10:52:24.341Z"
   },
   {
    "duration": 12,
    "start_time": "2023-12-03T10:52:24.468Z"
   },
   {
    "duration": 25,
    "start_time": "2023-12-03T10:52:24.482Z"
   },
   {
    "duration": 129,
    "start_time": "2023-12-03T10:52:24.508Z"
   },
   {
    "duration": 4,
    "start_time": "2023-12-03T10:52:24.639Z"
   },
   {
    "duration": 135,
    "start_time": "2023-12-03T10:52:24.644Z"
   },
   {
    "duration": 116,
    "start_time": "2023-12-03T10:52:24.781Z"
   },
   {
    "duration": 17,
    "start_time": "2023-12-03T10:52:24.899Z"
   },
   {
    "duration": 10,
    "start_time": "2023-12-03T10:52:24.917Z"
   },
   {
    "duration": 12,
    "start_time": "2023-12-03T10:52:24.929Z"
   },
   {
    "duration": 6,
    "start_time": "2023-12-03T10:52:24.945Z"
   },
   {
    "duration": 32,
    "start_time": "2023-12-03T10:52:24.952Z"
   },
   {
    "duration": 25,
    "start_time": "2023-12-03T10:52:24.985Z"
   },
   {
    "duration": 27,
    "start_time": "2023-12-03T10:52:25.011Z"
   },
   {
    "duration": 3,
    "start_time": "2023-12-03T10:52:25.039Z"
   },
   {
    "duration": 7,
    "start_time": "2023-12-03T10:52:25.044Z"
   },
   {
    "duration": 23,
    "start_time": "2023-12-03T10:52:25.053Z"
   },
   {
    "duration": 25,
    "start_time": "2023-12-03T10:52:25.077Z"
   },
   {
    "duration": 10,
    "start_time": "2023-12-03T10:52:25.103Z"
   },
   {
    "duration": 7,
    "start_time": "2023-12-03T10:52:25.115Z"
   },
   {
    "duration": 6,
    "start_time": "2023-12-03T10:52:25.123Z"
   },
   {
    "duration": 7,
    "start_time": "2023-12-03T10:52:25.131Z"
   },
   {
    "duration": 16,
    "start_time": "2023-12-03T10:52:25.139Z"
   },
   {
    "duration": 6,
    "start_time": "2023-12-03T10:52:25.156Z"
   },
   {
    "duration": 4,
    "start_time": "2023-12-03T10:52:25.164Z"
   },
   {
    "duration": 11,
    "start_time": "2023-12-03T10:52:25.170Z"
   },
   {
    "duration": 8,
    "start_time": "2023-12-03T10:52:25.183Z"
   },
   {
    "duration": 347,
    "start_time": "2023-12-03T10:52:25.213Z"
   },
   {
    "duration": 9,
    "start_time": "2023-12-03T10:52:25.562Z"
   },
   {
    "duration": 93,
    "start_time": "2023-12-03T10:52:25.573Z"
   },
   {
    "duration": 4,
    "start_time": "2023-12-03T10:52:25.668Z"
   },
   {
    "duration": 249,
    "start_time": "2023-12-03T10:52:25.673Z"
   },
   {
    "duration": 7,
    "start_time": "2023-12-03T10:52:25.923Z"
   },
   {
    "duration": 12,
    "start_time": "2023-12-03T10:52:25.932Z"
   },
   {
    "duration": 9,
    "start_time": "2023-12-03T10:52:25.946Z"
   },
   {
    "duration": 187,
    "start_time": "2023-12-03T10:52:25.957Z"
   },
   {
    "duration": 7,
    "start_time": "2023-12-03T10:52:26.145Z"
   },
   {
    "duration": 167,
    "start_time": "2023-12-03T10:52:26.154Z"
   },
   {
    "duration": 9,
    "start_time": "2023-12-03T10:52:26.322Z"
   },
   {
    "duration": 17,
    "start_time": "2023-12-03T10:52:26.332Z"
   },
   {
    "duration": 33,
    "start_time": "2023-12-03T10:52:26.351Z"
   },
   {
    "duration": 10,
    "start_time": "2023-12-03T10:52:26.386Z"
   },
   {
    "duration": 18,
    "start_time": "2023-12-03T10:52:26.397Z"
   },
   {
    "duration": 20,
    "start_time": "2023-12-03T10:52:26.416Z"
   },
   {
    "duration": 13,
    "start_time": "2023-12-03T10:52:26.437Z"
   },
   {
    "duration": 7,
    "start_time": "2023-12-03T10:52:26.451Z"
   },
   {
    "duration": 23,
    "start_time": "2023-12-03T10:52:26.460Z"
   },
   {
    "duration": 9,
    "start_time": "2023-12-03T10:52:26.484Z"
   },
   {
    "duration": 24,
    "start_time": "2023-12-03T10:52:26.494Z"
   },
   {
    "duration": 28,
    "start_time": "2023-12-03T10:52:26.520Z"
   },
   {
    "duration": 10,
    "start_time": "2023-12-03T10:52:26.550Z"
   },
   {
    "duration": 8,
    "start_time": "2023-12-03T10:52:26.562Z"
   },
   {
    "duration": 191,
    "start_time": "2023-12-03T10:52:26.571Z"
   },
   {
    "duration": 8,
    "start_time": "2023-12-03T10:52:26.764Z"
   },
   {
    "duration": 7,
    "start_time": "2023-12-03T10:52:26.773Z"
   },
   {
    "duration": 215,
    "start_time": "2023-12-03T10:52:26.782Z"
   },
   {
    "duration": 16,
    "start_time": "2023-12-03T10:52:26.999Z"
   },
   {
    "duration": 24,
    "start_time": "2023-12-03T10:52:27.017Z"
   },
   {
    "duration": 9,
    "start_time": "2023-12-03T10:52:27.043Z"
   },
   {
    "duration": 13,
    "start_time": "2023-12-03T10:52:27.053Z"
   },
   {
    "duration": 9,
    "start_time": "2023-12-03T10:52:27.067Z"
   },
   {
    "duration": 8,
    "start_time": "2023-12-03T10:52:27.078Z"
   },
   {
    "duration": 33,
    "start_time": "2023-12-03T10:52:27.087Z"
   },
   {
    "duration": 7,
    "start_time": "2023-12-03T10:52:27.122Z"
   },
   {
    "duration": 11,
    "start_time": "2023-12-03T10:52:27.134Z"
   },
   {
    "duration": 20,
    "start_time": "2023-12-03T10:52:27.146Z"
   },
   {
    "duration": 4,
    "start_time": "2023-12-03T10:52:27.168Z"
   },
   {
    "duration": 26,
    "start_time": "2023-12-03T10:52:27.173Z"
   },
   {
    "duration": 17,
    "start_time": "2023-12-03T10:52:27.200Z"
   },
   {
    "duration": 24,
    "start_time": "2023-12-03T10:52:27.219Z"
   },
   {
    "duration": 6,
    "start_time": "2023-12-03T10:52:27.244Z"
   },
   {
    "duration": 9,
    "start_time": "2023-12-03T10:52:27.252Z"
   },
   {
    "duration": 5,
    "start_time": "2023-12-03T10:52:27.262Z"
   },
   {
    "duration": 12,
    "start_time": "2023-12-03T10:52:27.269Z"
   },
   {
    "duration": 5,
    "start_time": "2023-12-03T10:52:27.282Z"
   },
   {
    "duration": 1329,
    "start_time": "2023-12-03T17:07:38.509Z"
   },
   {
    "duration": 257,
    "start_time": "2023-12-03T17:07:39.840Z"
   },
   {
    "duration": 11,
    "start_time": "2023-12-03T17:07:40.098Z"
   },
   {
    "duration": 10,
    "start_time": "2023-12-03T17:07:40.111Z"
   },
   {
    "duration": 330,
    "start_time": "2023-12-03T17:07:40.123Z"
   },
   {
    "duration": 9,
    "start_time": "2023-12-03T17:07:40.454Z"
   },
   {
    "duration": 17,
    "start_time": "2023-12-03T17:07:40.464Z"
   },
   {
    "duration": 433,
    "start_time": "2023-12-03T17:07:40.483Z"
   },
   {
    "duration": 10,
    "start_time": "2023-12-03T17:07:40.917Z"
   },
   {
    "duration": 13,
    "start_time": "2023-12-03T17:07:40.930Z"
   },
   {
    "duration": 12,
    "start_time": "2023-12-03T17:07:40.945Z"
   },
   {
    "duration": 17,
    "start_time": "2023-12-03T17:07:40.959Z"
   },
   {
    "duration": 11,
    "start_time": "2023-12-03T17:07:40.977Z"
   },
   {
    "duration": 7,
    "start_time": "2023-12-03T17:07:40.990Z"
   },
   {
    "duration": 9,
    "start_time": "2023-12-03T17:07:41.013Z"
   },
   {
    "duration": 15,
    "start_time": "2023-12-03T17:07:41.023Z"
   },
   {
    "duration": 11,
    "start_time": "2023-12-03T17:07:41.040Z"
   },
   {
    "duration": 156,
    "start_time": "2023-12-03T17:07:41.052Z"
   },
   {
    "duration": 14,
    "start_time": "2023-12-03T17:07:41.209Z"
   },
   {
    "duration": 18,
    "start_time": "2023-12-03T17:07:41.225Z"
   },
   {
    "duration": 148,
    "start_time": "2023-12-03T17:07:41.244Z"
   },
   {
    "duration": 4,
    "start_time": "2023-12-03T17:07:41.393Z"
   },
   {
    "duration": 138,
    "start_time": "2023-12-03T17:07:41.398Z"
   },
   {
    "duration": 129,
    "start_time": "2023-12-03T17:07:41.537Z"
   },
   {
    "duration": 7,
    "start_time": "2023-12-03T17:07:41.668Z"
   },
   {
    "duration": 18,
    "start_time": "2023-12-03T17:07:41.677Z"
   },
   {
    "duration": 17,
    "start_time": "2023-12-03T17:07:41.697Z"
   },
   {
    "duration": 11,
    "start_time": "2023-12-03T17:07:41.724Z"
   },
   {
    "duration": 4,
    "start_time": "2023-12-03T17:07:41.738Z"
   },
   {
    "duration": 23,
    "start_time": "2023-12-03T17:07:41.743Z"
   },
   {
    "duration": 19,
    "start_time": "2023-12-03T17:07:41.767Z"
   },
   {
    "duration": 25,
    "start_time": "2023-12-03T17:07:41.788Z"
   },
   {
    "duration": 10,
    "start_time": "2023-12-03T17:07:41.815Z"
   },
   {
    "duration": 18,
    "start_time": "2023-12-03T17:07:41.828Z"
   },
   {
    "duration": 6,
    "start_time": "2023-12-03T17:07:41.848Z"
   },
   {
    "duration": 27,
    "start_time": "2023-12-03T17:07:41.855Z"
   },
   {
    "duration": 37,
    "start_time": "2023-12-03T17:07:41.883Z"
   },
   {
    "duration": 10,
    "start_time": "2023-12-03T17:07:41.922Z"
   },
   {
    "duration": 6,
    "start_time": "2023-12-03T17:07:41.934Z"
   },
   {
    "duration": 9,
    "start_time": "2023-12-03T17:07:41.942Z"
   },
   {
    "duration": 16,
    "start_time": "2023-12-03T17:07:41.952Z"
   },
   {
    "duration": 11,
    "start_time": "2023-12-03T17:07:41.970Z"
   },
   {
    "duration": 13,
    "start_time": "2023-12-03T17:07:41.983Z"
   },
   {
    "duration": 10,
    "start_time": "2023-12-03T17:07:42.014Z"
   },
   {
    "duration": 389,
    "start_time": "2023-12-03T17:07:42.026Z"
   },
   {
    "duration": 9,
    "start_time": "2023-12-03T17:07:42.417Z"
   },
   {
    "duration": 93,
    "start_time": "2023-12-03T17:07:42.427Z"
   },
   {
    "duration": 5,
    "start_time": "2023-12-03T17:07:42.522Z"
   },
   {
    "duration": 271,
    "start_time": "2023-12-03T17:07:42.529Z"
   },
   {
    "duration": 14,
    "start_time": "2023-12-03T17:07:42.801Z"
   },
   {
    "duration": 13,
    "start_time": "2023-12-03T17:07:42.817Z"
   },
   {
    "duration": 18,
    "start_time": "2023-12-03T17:07:42.831Z"
   },
   {
    "duration": 179,
    "start_time": "2023-12-03T17:07:42.850Z"
   },
   {
    "duration": 10,
    "start_time": "2023-12-03T17:07:43.031Z"
   },
   {
    "duration": 221,
    "start_time": "2023-12-03T17:07:43.043Z"
   },
   {
    "duration": 12,
    "start_time": "2023-12-03T17:07:43.266Z"
   },
   {
    "duration": 12,
    "start_time": "2023-12-03T17:07:43.280Z"
   },
   {
    "duration": 30,
    "start_time": "2023-12-03T17:07:43.294Z"
   },
   {
    "duration": 6,
    "start_time": "2023-12-03T17:07:43.326Z"
   },
   {
    "duration": 6,
    "start_time": "2023-12-03T17:07:43.334Z"
   },
   {
    "duration": 20,
    "start_time": "2023-12-03T17:07:43.342Z"
   },
   {
    "duration": 16,
    "start_time": "2023-12-03T17:07:43.364Z"
   },
   {
    "duration": 36,
    "start_time": "2023-12-03T17:07:43.381Z"
   },
   {
    "duration": 18,
    "start_time": "2023-12-03T17:07:43.419Z"
   },
   {
    "duration": 3,
    "start_time": "2023-12-03T17:07:43.439Z"
   },
   {
    "duration": 15,
    "start_time": "2023-12-03T17:07:43.444Z"
   },
   {
    "duration": 29,
    "start_time": "2023-12-03T17:07:43.461Z"
   },
   {
    "duration": 10,
    "start_time": "2023-12-03T17:07:43.492Z"
   },
   {
    "duration": 5,
    "start_time": "2023-12-03T17:07:43.504Z"
   },
   {
    "duration": 12,
    "start_time": "2023-12-03T17:07:43.511Z"
   },
   {
    "duration": 12,
    "start_time": "2023-12-03T17:07:43.526Z"
   },
   {
    "duration": 243,
    "start_time": "2023-12-03T17:07:43.540Z"
   },
   {
    "duration": 8,
    "start_time": "2023-12-03T17:07:43.785Z"
   },
   {
    "duration": 20,
    "start_time": "2023-12-03T17:07:43.794Z"
   },
   {
    "duration": 257,
    "start_time": "2023-12-03T17:07:43.816Z"
   },
   {
    "duration": 11,
    "start_time": "2023-12-03T17:07:44.074Z"
   },
   {
    "duration": 6,
    "start_time": "2023-12-03T17:07:44.087Z"
   },
   {
    "duration": 20,
    "start_time": "2023-12-03T17:07:44.094Z"
   },
   {
    "duration": 7,
    "start_time": "2023-12-03T17:07:44.116Z"
   },
   {
    "duration": 29,
    "start_time": "2023-12-03T17:07:44.125Z"
   },
   {
    "duration": 16,
    "start_time": "2023-12-03T17:07:44.156Z"
   },
   {
    "duration": 3,
    "start_time": "2023-12-03T17:07:44.177Z"
   },
   {
    "duration": 12,
    "start_time": "2023-12-03T17:07:44.182Z"
   },
   {
    "duration": 5,
    "start_time": "2023-12-03T17:07:44.213Z"
   },
   {
    "duration": 16,
    "start_time": "2023-12-03T17:07:44.219Z"
   },
   {
    "duration": 25,
    "start_time": "2023-12-03T17:07:44.236Z"
   },
   {
    "duration": 16,
    "start_time": "2023-12-03T17:07:44.262Z"
   },
   {
    "duration": 11,
    "start_time": "2023-12-03T17:07:44.279Z"
   },
   {
    "duration": 19,
    "start_time": "2023-12-03T17:07:44.292Z"
   },
   {
    "duration": 29,
    "start_time": "2023-12-03T17:07:44.313Z"
   },
   {
    "duration": 4,
    "start_time": "2023-12-03T17:07:44.344Z"
   },
   {
    "duration": 13,
    "start_time": "2023-12-03T17:07:44.349Z"
   },
   {
    "duration": 13,
    "start_time": "2023-12-03T17:07:44.363Z"
   },
   {
    "duration": 5,
    "start_time": "2023-12-03T17:07:44.378Z"
   },
   {
    "duration": 6,
    "start_time": "2023-12-03T17:07:44.385Z"
   },
   {
    "duration": 33,
    "start_time": "2023-12-03T17:07:44.392Z"
   },
   {
    "duration": 6,
    "start_time": "2023-12-03T17:07:44.428Z"
   },
   {
    "duration": 11,
    "start_time": "2023-12-03T17:07:44.436Z"
   },
   {
    "duration": 6,
    "start_time": "2023-12-03T17:07:44.448Z"
   },
   {
    "duration": 14,
    "start_time": "2023-12-03T17:09:24.279Z"
   },
   {
    "duration": 1222,
    "start_time": "2023-12-03T17:11:20.080Z"
   },
   {
    "duration": 156,
    "start_time": "2023-12-03T17:11:21.303Z"
   },
   {
    "duration": 11,
    "start_time": "2023-12-03T17:11:21.460Z"
   },
   {
    "duration": 37,
    "start_time": "2023-12-03T17:11:21.473Z"
   },
   {
    "duration": 331,
    "start_time": "2023-12-03T17:11:21.511Z"
   },
   {
    "duration": 8,
    "start_time": "2023-12-03T17:11:21.844Z"
   },
   {
    "duration": 27,
    "start_time": "2023-12-03T17:11:21.853Z"
   },
   {
    "duration": 403,
    "start_time": "2023-12-03T17:11:21.881Z"
   },
   {
    "duration": 7,
    "start_time": "2023-12-03T17:11:22.286Z"
   },
   {
    "duration": 28,
    "start_time": "2023-12-03T17:11:22.295Z"
   },
   {
    "duration": 32,
    "start_time": "2023-12-03T17:11:22.325Z"
   },
   {
    "duration": 23,
    "start_time": "2023-12-03T17:11:22.358Z"
   },
   {
    "duration": 21,
    "start_time": "2023-12-03T17:11:22.382Z"
   },
   {
    "duration": 43,
    "start_time": "2023-12-03T17:11:22.404Z"
   },
   {
    "duration": 23,
    "start_time": "2023-12-03T17:11:22.448Z"
   },
   {
    "duration": 43,
    "start_time": "2023-12-03T17:11:22.473Z"
   },
   {
    "duration": 35,
    "start_time": "2023-12-03T17:11:22.518Z"
   },
   {
    "duration": 156,
    "start_time": "2023-12-03T17:11:22.554Z"
   },
   {
    "duration": 20,
    "start_time": "2023-12-03T17:11:22.712Z"
   },
   {
    "duration": 6,
    "start_time": "2023-12-03T17:11:22.734Z"
   },
   {
    "duration": 147,
    "start_time": "2023-12-03T17:11:22.742Z"
   },
   {
    "duration": 3,
    "start_time": "2023-12-03T17:11:22.891Z"
   },
   {
    "duration": 159,
    "start_time": "2023-12-03T17:11:22.895Z"
   },
   {
    "duration": 125,
    "start_time": "2023-12-03T17:11:23.055Z"
   },
   {
    "duration": 8,
    "start_time": "2023-12-03T17:11:23.181Z"
   },
   {
    "duration": 23,
    "start_time": "2023-12-03T17:11:23.190Z"
   },
   {
    "duration": 15,
    "start_time": "2023-12-03T17:11:23.216Z"
   },
   {
    "duration": 8,
    "start_time": "2023-12-03T17:11:23.241Z"
   },
   {
    "duration": 9,
    "start_time": "2023-12-03T17:11:23.250Z"
   },
   {
    "duration": 13,
    "start_time": "2023-12-03T17:11:23.261Z"
   },
   {
    "duration": 39,
    "start_time": "2023-12-03T17:11:23.276Z"
   },
   {
    "duration": 8,
    "start_time": "2023-12-03T17:11:23.317Z"
   },
   {
    "duration": 9,
    "start_time": "2023-12-03T17:11:23.327Z"
   },
   {
    "duration": 13,
    "start_time": "2023-12-03T17:11:23.338Z"
   },
   {
    "duration": 6,
    "start_time": "2023-12-03T17:11:23.352Z"
   },
   {
    "duration": 20,
    "start_time": "2023-12-03T17:11:23.360Z"
   },
   {
    "duration": 19,
    "start_time": "2023-12-03T17:11:23.414Z"
   },
   {
    "duration": 7,
    "start_time": "2023-12-03T17:11:23.435Z"
   },
   {
    "duration": 4,
    "start_time": "2023-12-03T17:11:23.443Z"
   },
   {
    "duration": 7,
    "start_time": "2023-12-03T17:11:23.448Z"
   },
   {
    "duration": 5,
    "start_time": "2023-12-03T17:11:23.456Z"
   },
   {
    "duration": 7,
    "start_time": "2023-12-03T17:11:23.462Z"
   },
   {
    "duration": 47,
    "start_time": "2023-12-03T17:11:23.470Z"
   },
   {
    "duration": 10,
    "start_time": "2023-12-03T17:11:23.520Z"
   },
   {
    "duration": 387,
    "start_time": "2023-12-03T17:11:23.532Z"
   },
   {
    "duration": 13,
    "start_time": "2023-12-03T17:11:23.921Z"
   },
   {
    "duration": 102,
    "start_time": "2023-12-03T17:11:23.935Z"
   },
   {
    "duration": 5,
    "start_time": "2023-12-03T17:11:24.038Z"
   },
   {
    "duration": 294,
    "start_time": "2023-12-03T17:11:24.044Z"
   },
   {
    "duration": 8,
    "start_time": "2023-12-03T17:11:24.339Z"
   },
   {
    "duration": 8,
    "start_time": "2023-12-03T17:11:24.349Z"
   },
   {
    "duration": 10,
    "start_time": "2023-12-03T17:11:24.359Z"
   },
   {
    "duration": 194,
    "start_time": "2023-12-03T17:11:24.371Z"
   },
   {
    "duration": 9,
    "start_time": "2023-12-03T17:11:24.566Z"
   },
   {
    "duration": 189,
    "start_time": "2023-12-03T17:11:24.576Z"
   },
   {
    "duration": 9,
    "start_time": "2023-12-03T17:11:24.766Z"
   },
   {
    "duration": 8,
    "start_time": "2023-12-03T17:11:24.777Z"
   },
   {
    "duration": 28,
    "start_time": "2023-12-03T17:11:24.787Z"
   },
   {
    "duration": 6,
    "start_time": "2023-12-03T17:11:24.817Z"
   },
   {
    "duration": 4,
    "start_time": "2023-12-03T17:11:24.825Z"
   },
   {
    "duration": 9,
    "start_time": "2023-12-03T17:11:24.831Z"
   },
   {
    "duration": 14,
    "start_time": "2023-12-03T17:11:24.842Z"
   },
   {
    "duration": 7,
    "start_time": "2023-12-03T17:11:24.857Z"
   },
   {
    "duration": 12,
    "start_time": "2023-12-03T17:11:24.865Z"
   },
   {
    "duration": 5,
    "start_time": "2023-12-03T17:11:24.916Z"
   },
   {
    "duration": 9,
    "start_time": "2023-12-03T17:11:24.922Z"
   },
   {
    "duration": 11,
    "start_time": "2023-12-03T17:11:24.932Z"
   },
   {
    "duration": 9,
    "start_time": "2023-12-03T17:11:24.945Z"
   },
   {
    "duration": 7,
    "start_time": "2023-12-03T17:11:24.955Z"
   },
   {
    "duration": 11,
    "start_time": "2023-12-03T17:11:24.964Z"
   },
   {
    "duration": 8,
    "start_time": "2023-12-03T17:11:24.977Z"
   },
   {
    "duration": 229,
    "start_time": "2023-12-03T17:11:24.986Z"
   },
   {
    "duration": 9,
    "start_time": "2023-12-03T17:11:25.216Z"
   },
   {
    "duration": 10,
    "start_time": "2023-12-03T17:11:25.226Z"
   },
   {
    "duration": 238,
    "start_time": "2023-12-03T17:11:25.238Z"
   },
   {
    "duration": 12,
    "start_time": "2023-12-03T17:11:25.478Z"
   },
   {
    "duration": 28,
    "start_time": "2023-12-03T17:11:25.491Z"
   },
   {
    "duration": 20,
    "start_time": "2023-12-03T17:11:25.521Z"
   },
   {
    "duration": 43,
    "start_time": "2023-12-03T17:11:25.543Z"
   },
   {
    "duration": 40,
    "start_time": "2023-12-03T17:11:25.587Z"
   },
   {
    "duration": 26,
    "start_time": "2023-12-03T17:11:25.628Z"
   },
   {
    "duration": 9,
    "start_time": "2023-12-03T17:11:25.659Z"
   },
   {
    "duration": 11,
    "start_time": "2023-12-03T17:11:25.669Z"
   },
   {
    "duration": 32,
    "start_time": "2023-12-03T17:11:25.681Z"
   },
   {
    "duration": 16,
    "start_time": "2023-12-03T17:11:25.715Z"
   },
   {
    "duration": 15,
    "start_time": "2023-12-03T17:11:25.733Z"
   },
   {
    "duration": 3,
    "start_time": "2023-12-03T17:11:25.749Z"
   },
   {
    "duration": 5,
    "start_time": "2023-12-03T17:11:25.753Z"
   },
   {
    "duration": 20,
    "start_time": "2023-12-03T17:11:25.759Z"
   },
   {
    "duration": 19,
    "start_time": "2023-12-03T17:11:25.780Z"
   },
   {
    "duration": 19,
    "start_time": "2023-12-03T17:11:25.800Z"
   },
   {
    "duration": 12,
    "start_time": "2023-12-03T17:11:25.821Z"
   },
   {
    "duration": 15,
    "start_time": "2023-12-03T17:11:25.834Z"
   },
   {
    "duration": 12,
    "start_time": "2023-12-03T17:11:25.851Z"
   },
   {
    "duration": 17,
    "start_time": "2023-12-03T17:11:25.864Z"
   },
   {
    "duration": 6,
    "start_time": "2023-12-03T17:11:25.883Z"
   },
   {
    "duration": 25,
    "start_time": "2023-12-03T17:11:25.890Z"
   },
   {
    "duration": 21,
    "start_time": "2023-12-03T17:11:25.917Z"
   },
   {
    "duration": 7,
    "start_time": "2023-12-03T17:11:25.940Z"
   },
   {
    "duration": 13,
    "start_time": "2023-12-03T17:11:25.948Z"
   },
   {
    "duration": 16,
    "start_time": "2023-12-03T17:12:49.430Z"
   },
   {
    "duration": 4,
    "start_time": "2023-12-03T17:12:54.184Z"
   },
   {
    "duration": 1270,
    "start_time": "2023-12-03T17:18:34.885Z"
   },
   {
    "duration": 126,
    "start_time": "2023-12-03T17:18:36.156Z"
   },
   {
    "duration": 10,
    "start_time": "2023-12-03T17:18:36.284Z"
   },
   {
    "duration": 17,
    "start_time": "2023-12-03T17:18:36.296Z"
   },
   {
    "duration": 300,
    "start_time": "2023-12-03T17:18:36.314Z"
   },
   {
    "duration": 9,
    "start_time": "2023-12-03T17:18:36.615Z"
   },
   {
    "duration": 15,
    "start_time": "2023-12-03T17:18:36.625Z"
   },
   {
    "duration": 371,
    "start_time": "2023-12-03T17:18:36.642Z"
   },
   {
    "duration": 8,
    "start_time": "2023-12-03T17:18:37.015Z"
   },
   {
    "duration": 11,
    "start_time": "2023-12-03T17:18:37.025Z"
   },
   {
    "duration": 13,
    "start_time": "2023-12-03T17:18:37.038Z"
   },
   {
    "duration": 18,
    "start_time": "2023-12-03T17:18:37.052Z"
   },
   {
    "duration": 9,
    "start_time": "2023-12-03T17:18:37.071Z"
   },
   {
    "duration": 10,
    "start_time": "2023-12-03T17:18:37.081Z"
   },
   {
    "duration": 27,
    "start_time": "2023-12-03T17:18:37.092Z"
   },
   {
    "duration": 12,
    "start_time": "2023-12-03T17:18:37.120Z"
   },
   {
    "duration": 5,
    "start_time": "2023-12-03T17:18:37.134Z"
   },
   {
    "duration": 152,
    "start_time": "2023-12-03T17:18:37.140Z"
   },
   {
    "duration": 21,
    "start_time": "2023-12-03T17:18:37.294Z"
   },
   {
    "duration": 19,
    "start_time": "2023-12-03T17:18:37.316Z"
   },
   {
    "duration": 136,
    "start_time": "2023-12-03T17:18:37.337Z"
   },
   {
    "duration": 4,
    "start_time": "2023-12-03T17:18:37.475Z"
   },
   {
    "duration": 132,
    "start_time": "2023-12-03T17:18:37.480Z"
   },
   {
    "duration": 123,
    "start_time": "2023-12-03T17:18:37.614Z"
   },
   {
    "duration": 8,
    "start_time": "2023-12-03T17:18:37.739Z"
   },
   {
    "duration": 8,
    "start_time": "2023-12-03T17:18:37.748Z"
   },
   {
    "duration": 27,
    "start_time": "2023-12-03T17:18:37.757Z"
   },
   {
    "duration": 25,
    "start_time": "2023-12-03T17:18:37.788Z"
   },
   {
    "duration": 6,
    "start_time": "2023-12-03T17:18:37.815Z"
   },
   {
    "duration": 37,
    "start_time": "2023-12-03T17:18:37.823Z"
   },
   {
    "duration": 32,
    "start_time": "2023-12-03T17:18:37.861Z"
   },
   {
    "duration": 8,
    "start_time": "2023-12-03T17:18:37.894Z"
   },
   {
    "duration": 13,
    "start_time": "2023-12-03T17:18:37.903Z"
   },
   {
    "duration": 13,
    "start_time": "2023-12-03T17:18:37.919Z"
   },
   {
    "duration": 10,
    "start_time": "2023-12-03T17:18:37.933Z"
   },
   {
    "duration": 31,
    "start_time": "2023-12-03T17:18:37.944Z"
   },
   {
    "duration": 11,
    "start_time": "2023-12-03T17:18:37.976Z"
   },
   {
    "duration": 15,
    "start_time": "2023-12-03T17:18:37.988Z"
   },
   {
    "duration": 17,
    "start_time": "2023-12-03T17:18:38.005Z"
   },
   {
    "duration": 10,
    "start_time": "2023-12-03T17:18:38.024Z"
   },
   {
    "duration": 6,
    "start_time": "2023-12-03T17:18:38.035Z"
   },
   {
    "duration": 10,
    "start_time": "2023-12-03T17:18:38.043Z"
   },
   {
    "duration": 14,
    "start_time": "2023-12-03T17:18:38.055Z"
   },
   {
    "duration": 25,
    "start_time": "2023-12-03T17:18:38.071Z"
   },
   {
    "duration": 394,
    "start_time": "2023-12-03T17:18:38.097Z"
   },
   {
    "duration": 9,
    "start_time": "2023-12-03T17:18:38.493Z"
   },
   {
    "duration": 89,
    "start_time": "2023-12-03T17:18:38.504Z"
   },
   {
    "duration": 4,
    "start_time": "2023-12-03T17:18:38.594Z"
   },
   {
    "duration": 263,
    "start_time": "2023-12-03T17:18:38.613Z"
   },
   {
    "duration": 7,
    "start_time": "2023-12-03T17:18:38.877Z"
   },
   {
    "duration": 36,
    "start_time": "2023-12-03T17:18:38.885Z"
   },
   {
    "duration": 13,
    "start_time": "2023-12-03T17:18:38.923Z"
   },
   {
    "duration": 177,
    "start_time": "2023-12-03T17:18:38.937Z"
   },
   {
    "duration": 11,
    "start_time": "2023-12-03T17:18:39.116Z"
   },
   {
    "duration": 216,
    "start_time": "2023-12-03T17:18:39.130Z"
   },
   {
    "duration": 8,
    "start_time": "2023-12-03T17:18:39.348Z"
   },
   {
    "duration": 12,
    "start_time": "2023-12-03T17:18:39.358Z"
   },
   {
    "duration": 13,
    "start_time": "2023-12-03T17:18:39.372Z"
   },
   {
    "duration": 5,
    "start_time": "2023-12-03T17:18:39.386Z"
   },
   {
    "duration": 21,
    "start_time": "2023-12-03T17:18:39.393Z"
   },
   {
    "duration": 12,
    "start_time": "2023-12-03T17:18:39.417Z"
   },
   {
    "duration": 17,
    "start_time": "2023-12-03T17:18:39.434Z"
   },
   {
    "duration": 11,
    "start_time": "2023-12-03T17:18:39.453Z"
   },
   {
    "duration": 15,
    "start_time": "2023-12-03T17:18:39.466Z"
   },
   {
    "duration": 20,
    "start_time": "2023-12-03T17:18:39.483Z"
   },
   {
    "duration": 16,
    "start_time": "2023-12-03T17:18:39.504Z"
   },
   {
    "duration": 23,
    "start_time": "2023-12-03T17:18:39.522Z"
   },
   {
    "duration": 20,
    "start_time": "2023-12-03T17:18:39.546Z"
   },
   {
    "duration": 5,
    "start_time": "2023-12-03T17:18:39.568Z"
   },
   {
    "duration": 13,
    "start_time": "2023-12-03T17:18:39.574Z"
   },
   {
    "duration": 10,
    "start_time": "2023-12-03T17:18:39.589Z"
   },
   {
    "duration": 194,
    "start_time": "2023-12-03T17:18:39.600Z"
   },
   {
    "duration": 7,
    "start_time": "2023-12-03T17:18:39.796Z"
   },
   {
    "duration": 10,
    "start_time": "2023-12-03T17:18:39.814Z"
   },
   {
    "duration": 220,
    "start_time": "2023-12-03T17:18:39.827Z"
   },
   {
    "duration": 11,
    "start_time": "2023-12-03T17:18:40.049Z"
   },
   {
    "duration": 18,
    "start_time": "2023-12-03T17:18:40.061Z"
   },
   {
    "duration": 6,
    "start_time": "2023-12-03T17:18:40.081Z"
   },
   {
    "duration": 9,
    "start_time": "2023-12-03T17:18:40.088Z"
   },
   {
    "duration": 36,
    "start_time": "2023-12-03T17:18:40.098Z"
   },
   {
    "duration": 17,
    "start_time": "2023-12-03T17:18:40.136Z"
   },
   {
    "duration": 19,
    "start_time": "2023-12-03T17:18:40.158Z"
   },
   {
    "duration": 9,
    "start_time": "2023-12-03T17:18:40.178Z"
   },
   {
    "duration": 6,
    "start_time": "2023-12-03T17:18:40.188Z"
   },
   {
    "duration": 10,
    "start_time": "2023-12-03T17:18:40.195Z"
   },
   {
    "duration": 18,
    "start_time": "2023-12-03T17:18:40.206Z"
   },
   {
    "duration": 7,
    "start_time": "2023-12-03T17:18:40.225Z"
   },
   {
    "duration": 8,
    "start_time": "2023-12-03T17:18:40.234Z"
   },
   {
    "duration": 12,
    "start_time": "2023-12-03T17:18:40.244Z"
   },
   {
    "duration": 16,
    "start_time": "2023-12-03T17:18:40.257Z"
   },
   {
    "duration": 27,
    "start_time": "2023-12-03T17:18:40.275Z"
   },
   {
    "duration": 4,
    "start_time": "2023-12-03T17:18:40.303Z"
   },
   {
    "duration": 26,
    "start_time": "2023-12-03T17:18:40.309Z"
   },
   {
    "duration": 12,
    "start_time": "2023-12-03T17:18:40.337Z"
   },
   {
    "duration": 17,
    "start_time": "2023-12-03T17:18:40.351Z"
   },
   {
    "duration": 5,
    "start_time": "2023-12-03T17:18:40.369Z"
   },
   {
    "duration": 10,
    "start_time": "2023-12-03T17:18:40.375Z"
   },
   {
    "duration": 9,
    "start_time": "2023-12-03T17:18:40.386Z"
   },
   {
    "duration": 6,
    "start_time": "2023-12-03T17:18:40.397Z"
   },
   {
    "duration": 11,
    "start_time": "2023-12-03T17:18:40.404Z"
   },
   {
    "duration": 1268,
    "start_time": "2023-12-03T20:31:22.484Z"
   },
   {
    "duration": 651,
    "start_time": "2023-12-03T20:31:23.756Z"
   },
   {
    "duration": 21,
    "start_time": "2023-12-03T20:31:24.415Z"
   },
   {
    "duration": 11,
    "start_time": "2023-12-03T20:31:24.442Z"
   },
   {
    "duration": 340,
    "start_time": "2023-12-03T20:31:24.455Z"
   },
   {
    "duration": 9,
    "start_time": "2023-12-03T20:31:24.796Z"
   },
   {
    "duration": 19,
    "start_time": "2023-12-03T20:31:24.820Z"
   },
   {
    "duration": 432,
    "start_time": "2023-12-03T20:31:24.842Z"
   },
   {
    "duration": 6,
    "start_time": "2023-12-03T20:31:25.278Z"
   },
   {
    "duration": 10,
    "start_time": "2023-12-03T20:31:25.286Z"
   },
   {
    "duration": 34,
    "start_time": "2023-12-03T20:31:25.298Z"
   },
   {
    "duration": 17,
    "start_time": "2023-12-03T20:31:25.334Z"
   },
   {
    "duration": 27,
    "start_time": "2023-12-03T20:31:25.352Z"
   },
   {
    "duration": 17,
    "start_time": "2023-12-03T20:31:25.380Z"
   },
   {
    "duration": 36,
    "start_time": "2023-12-03T20:31:25.399Z"
   },
   {
    "duration": 14,
    "start_time": "2023-12-03T20:31:25.436Z"
   },
   {
    "duration": 18,
    "start_time": "2023-12-03T20:31:25.452Z"
   },
   {
    "duration": 171,
    "start_time": "2023-12-03T20:31:25.471Z"
   },
   {
    "duration": 11,
    "start_time": "2023-12-03T20:31:25.646Z"
   },
   {
    "duration": 6,
    "start_time": "2023-12-03T20:31:25.658Z"
   },
   {
    "duration": 146,
    "start_time": "2023-12-03T20:31:25.666Z"
   },
   {
    "duration": 21,
    "start_time": "2023-12-03T20:31:25.815Z"
   },
   {
    "duration": 141,
    "start_time": "2023-12-03T20:31:25.838Z"
   },
   {
    "duration": 161,
    "start_time": "2023-12-03T20:31:25.981Z"
   },
   {
    "duration": 9,
    "start_time": "2023-12-03T20:31:26.144Z"
   },
   {
    "duration": 6,
    "start_time": "2023-12-03T20:31:26.154Z"
   },
   {
    "duration": 11,
    "start_time": "2023-12-03T20:31:26.164Z"
   },
   {
    "duration": 8,
    "start_time": "2023-12-03T20:31:26.176Z"
   },
   {
    "duration": 5,
    "start_time": "2023-12-03T20:31:26.186Z"
   },
   {
    "duration": 37,
    "start_time": "2023-12-03T20:31:26.193Z"
   },
   {
    "duration": 28,
    "start_time": "2023-12-03T20:31:26.232Z"
   },
   {
    "duration": 22,
    "start_time": "2023-12-03T20:31:26.262Z"
   },
   {
    "duration": 10,
    "start_time": "2023-12-03T20:31:26.285Z"
   },
   {
    "duration": 42,
    "start_time": "2023-12-03T20:31:26.296Z"
   },
   {
    "duration": 24,
    "start_time": "2023-12-03T20:31:26.340Z"
   },
   {
    "duration": 12,
    "start_time": "2023-12-03T20:31:26.365Z"
   },
   {
    "duration": 13,
    "start_time": "2023-12-03T20:31:26.378Z"
   },
   {
    "duration": 15,
    "start_time": "2023-12-03T20:31:26.392Z"
   },
   {
    "duration": 16,
    "start_time": "2023-12-03T20:31:26.413Z"
   },
   {
    "duration": 15,
    "start_time": "2023-12-03T20:31:26.431Z"
   },
   {
    "duration": 7,
    "start_time": "2023-12-03T20:31:26.448Z"
   },
   {
    "duration": 9,
    "start_time": "2023-12-03T20:31:26.457Z"
   },
   {
    "duration": 10,
    "start_time": "2023-12-03T20:31:26.467Z"
   },
   {
    "duration": 400,
    "start_time": "2023-12-03T20:31:26.478Z"
   },
   {
    "duration": 8,
    "start_time": "2023-12-03T20:31:26.880Z"
   },
   {
    "duration": 102,
    "start_time": "2023-12-03T20:31:26.889Z"
   },
   {
    "duration": 4,
    "start_time": "2023-12-03T20:31:26.992Z"
   },
   {
    "duration": 294,
    "start_time": "2023-12-03T20:31:26.998Z"
   },
   {
    "duration": 7,
    "start_time": "2023-12-03T20:31:27.294Z"
   },
   {
    "duration": 16,
    "start_time": "2023-12-03T20:31:27.314Z"
   },
   {
    "duration": 18,
    "start_time": "2023-12-03T20:31:27.332Z"
   },
   {
    "duration": 207,
    "start_time": "2023-12-03T20:31:27.352Z"
   },
   {
    "duration": 8,
    "start_time": "2023-12-03T20:31:27.560Z"
   },
   {
    "duration": 212,
    "start_time": "2023-12-03T20:31:27.570Z"
   },
   {
    "duration": 8,
    "start_time": "2023-12-03T20:31:27.783Z"
   },
   {
    "duration": 27,
    "start_time": "2023-12-03T20:31:27.793Z"
   },
   {
    "duration": 29,
    "start_time": "2023-12-03T20:31:27.821Z"
   },
   {
    "duration": 7,
    "start_time": "2023-12-03T20:31:27.851Z"
   },
   {
    "duration": 9,
    "start_time": "2023-12-03T20:31:27.859Z"
   },
   {
    "duration": 24,
    "start_time": "2023-12-03T20:31:27.870Z"
   },
   {
    "duration": 15,
    "start_time": "2023-12-03T20:31:27.895Z"
   },
   {
    "duration": 13,
    "start_time": "2023-12-03T20:31:27.911Z"
   },
   {
    "duration": 15,
    "start_time": "2023-12-03T20:31:27.935Z"
   },
   {
    "duration": 4,
    "start_time": "2023-12-03T20:31:27.951Z"
   },
   {
    "duration": 20,
    "start_time": "2023-12-03T20:31:27.957Z"
   },
   {
    "duration": 11,
    "start_time": "2023-12-03T20:31:27.979Z"
   },
   {
    "duration": 10,
    "start_time": "2023-12-03T20:31:27.991Z"
   },
   {
    "duration": 27,
    "start_time": "2023-12-03T20:31:28.003Z"
   },
   {
    "duration": 10,
    "start_time": "2023-12-03T20:31:28.036Z"
   },
   {
    "duration": 9,
    "start_time": "2023-12-03T20:31:28.047Z"
   },
   {
    "duration": 231,
    "start_time": "2023-12-03T20:31:28.057Z"
   },
   {
    "duration": 8,
    "start_time": "2023-12-03T20:31:28.291Z"
   },
   {
    "duration": 21,
    "start_time": "2023-12-03T20:31:28.315Z"
   },
   {
    "duration": 272,
    "start_time": "2023-12-03T20:31:28.339Z"
   },
   {
    "duration": 30,
    "start_time": "2023-12-03T20:31:28.612Z"
   },
   {
    "duration": 7,
    "start_time": "2023-12-03T20:31:28.644Z"
   },
   {
    "duration": 5,
    "start_time": "2023-12-03T20:31:28.653Z"
   },
   {
    "duration": 7,
    "start_time": "2023-12-03T20:31:28.659Z"
   },
   {
    "duration": 28,
    "start_time": "2023-12-03T20:31:28.667Z"
   },
   {
    "duration": 38,
    "start_time": "2023-12-03T20:31:28.697Z"
   },
   {
    "duration": 4,
    "start_time": "2023-12-03T20:31:28.743Z"
   },
   {
    "duration": 8,
    "start_time": "2023-12-03T20:31:28.749Z"
   },
   {
    "duration": 6,
    "start_time": "2023-12-03T20:31:28.759Z"
   },
   {
    "duration": 23,
    "start_time": "2023-12-03T20:31:28.767Z"
   },
   {
    "duration": 23,
    "start_time": "2023-12-03T20:31:28.792Z"
   },
   {
    "duration": 12,
    "start_time": "2023-12-03T20:31:28.826Z"
   },
   {
    "duration": 9,
    "start_time": "2023-12-03T20:31:28.840Z"
   },
   {
    "duration": 10,
    "start_time": "2023-12-03T20:31:28.851Z"
   },
   {
    "duration": 20,
    "start_time": "2023-12-03T20:31:28.862Z"
   },
   {
    "duration": 9,
    "start_time": "2023-12-03T20:31:28.884Z"
   },
   {
    "duration": 17,
    "start_time": "2023-12-03T20:31:28.894Z"
   },
   {
    "duration": 31,
    "start_time": "2023-12-03T20:31:28.915Z"
   },
   {
    "duration": 20,
    "start_time": "2023-12-03T20:31:28.948Z"
   },
   {
    "duration": 9,
    "start_time": "2023-12-03T20:31:28.969Z"
   },
   {
    "duration": 14,
    "start_time": "2023-12-03T20:31:28.980Z"
   },
   {
    "duration": 8,
    "start_time": "2023-12-03T20:31:28.995Z"
   },
   {
    "duration": 12,
    "start_time": "2023-12-03T20:31:29.005Z"
   },
   {
    "duration": 8,
    "start_time": "2023-12-03T20:31:29.018Z"
   },
   {
    "duration": 1214,
    "start_time": "2023-12-03T20:33:27.703Z"
   },
   {
    "duration": 157,
    "start_time": "2023-12-03T20:33:28.923Z"
   },
   {
    "duration": 11,
    "start_time": "2023-12-03T20:33:29.082Z"
   },
   {
    "duration": 16,
    "start_time": "2023-12-03T20:33:29.094Z"
   },
   {
    "duration": 332,
    "start_time": "2023-12-03T20:33:29.112Z"
   },
   {
    "duration": 8,
    "start_time": "2023-12-03T20:33:29.445Z"
   },
   {
    "duration": 12,
    "start_time": "2023-12-03T20:33:29.455Z"
   },
   {
    "duration": 421,
    "start_time": "2023-12-03T20:33:29.469Z"
   },
   {
    "duration": 6,
    "start_time": "2023-12-03T20:33:29.892Z"
   },
   {
    "duration": 30,
    "start_time": "2023-12-03T20:33:29.901Z"
   },
   {
    "duration": 10,
    "start_time": "2023-12-03T20:33:29.937Z"
   },
   {
    "duration": 6,
    "start_time": "2023-12-03T20:33:29.949Z"
   },
   {
    "duration": 5,
    "start_time": "2023-12-03T20:33:29.956Z"
   },
   {
    "duration": 8,
    "start_time": "2023-12-03T20:33:29.962Z"
   },
   {
    "duration": 8,
    "start_time": "2023-12-03T20:33:29.971Z"
   },
   {
    "duration": 13,
    "start_time": "2023-12-03T20:33:29.980Z"
   },
   {
    "duration": 20,
    "start_time": "2023-12-03T20:33:29.995Z"
   },
   {
    "duration": 157,
    "start_time": "2023-12-03T20:33:30.017Z"
   },
   {
    "duration": 12,
    "start_time": "2023-12-03T20:33:30.175Z"
   },
   {
    "duration": 19,
    "start_time": "2023-12-03T20:33:30.188Z"
   },
   {
    "duration": 158,
    "start_time": "2023-12-03T20:33:30.208Z"
   },
   {
    "duration": 4,
    "start_time": "2023-12-03T20:33:30.367Z"
   },
   {
    "duration": 177,
    "start_time": "2023-12-03T20:33:30.372Z"
   },
   {
    "duration": 134,
    "start_time": "2023-12-03T20:33:30.551Z"
   },
   {
    "duration": 8,
    "start_time": "2023-12-03T20:33:30.687Z"
   },
   {
    "duration": 43,
    "start_time": "2023-12-03T20:33:30.696Z"
   },
   {
    "duration": 35,
    "start_time": "2023-12-03T20:33:30.740Z"
   },
   {
    "duration": 62,
    "start_time": "2023-12-03T20:33:30.779Z"
   },
   {
    "duration": 26,
    "start_time": "2023-12-03T20:33:30.844Z"
   },
   {
    "duration": 71,
    "start_time": "2023-12-03T20:33:30.872Z"
   },
   {
    "duration": 55,
    "start_time": "2023-12-03T20:33:30.944Z"
   },
   {
    "duration": 53,
    "start_time": "2023-12-03T20:33:31.001Z"
   },
   {
    "duration": 66,
    "start_time": "2023-12-03T20:33:31.056Z"
   },
   {
    "duration": 44,
    "start_time": "2023-12-03T20:33:31.124Z"
   },
   {
    "duration": 69,
    "start_time": "2023-12-03T20:33:31.170Z"
   },
   {
    "duration": 11,
    "start_time": "2023-12-03T20:33:31.243Z"
   },
   {
    "duration": 22,
    "start_time": "2023-12-03T20:33:31.255Z"
   },
   {
    "duration": 22,
    "start_time": "2023-12-03T20:33:31.278Z"
   },
   {
    "duration": 39,
    "start_time": "2023-12-03T20:33:31.302Z"
   },
   {
    "duration": 23,
    "start_time": "2023-12-03T20:33:31.343Z"
   },
   {
    "duration": 27,
    "start_time": "2023-12-03T20:33:31.367Z"
   },
   {
    "duration": 55,
    "start_time": "2023-12-03T20:33:31.396Z"
   },
   {
    "duration": 48,
    "start_time": "2023-12-03T20:33:31.452Z"
   },
   {
    "duration": 406,
    "start_time": "2023-12-03T20:33:31.501Z"
   },
   {
    "duration": 23,
    "start_time": "2023-12-03T20:33:31.909Z"
   },
   {
    "duration": 114,
    "start_time": "2023-12-03T20:33:31.937Z"
   },
   {
    "duration": 5,
    "start_time": "2023-12-03T20:33:32.052Z"
   },
   {
    "duration": 307,
    "start_time": "2023-12-03T20:33:32.058Z"
   },
   {
    "duration": 10,
    "start_time": "2023-12-03T20:33:32.367Z"
   },
   {
    "duration": 38,
    "start_time": "2023-12-03T20:33:32.379Z"
   },
   {
    "duration": 32,
    "start_time": "2023-12-03T20:33:32.418Z"
   },
   {
    "duration": 191,
    "start_time": "2023-12-03T20:33:32.452Z"
   },
   {
    "duration": 8,
    "start_time": "2023-12-03T20:33:32.645Z"
   },
   {
    "duration": 204,
    "start_time": "2023-12-03T20:33:32.655Z"
   },
   {
    "duration": 9,
    "start_time": "2023-12-03T20:33:32.860Z"
   },
   {
    "duration": 31,
    "start_time": "2023-12-03T20:33:32.870Z"
   },
   {
    "duration": 18,
    "start_time": "2023-12-03T20:33:32.903Z"
   },
   {
    "duration": 19,
    "start_time": "2023-12-03T20:33:32.923Z"
   },
   {
    "duration": 17,
    "start_time": "2023-12-03T20:33:32.944Z"
   },
   {
    "duration": 12,
    "start_time": "2023-12-03T20:33:32.962Z"
   },
   {
    "duration": 62,
    "start_time": "2023-12-03T20:33:32.975Z"
   },
   {
    "duration": 8,
    "start_time": "2023-12-03T20:33:33.038Z"
   },
   {
    "duration": 52,
    "start_time": "2023-12-03T20:33:33.047Z"
   },
   {
    "duration": 33,
    "start_time": "2023-12-03T20:33:33.100Z"
   },
   {
    "duration": 10,
    "start_time": "2023-12-03T20:33:33.135Z"
   },
   {
    "duration": 21,
    "start_time": "2023-12-03T20:33:33.147Z"
   },
   {
    "duration": 31,
    "start_time": "2023-12-03T20:33:33.169Z"
   },
   {
    "duration": 37,
    "start_time": "2023-12-03T20:33:33.202Z"
   },
   {
    "duration": 9,
    "start_time": "2023-12-03T20:33:33.241Z"
   },
   {
    "duration": 7,
    "start_time": "2023-12-03T20:33:33.251Z"
   },
   {
    "duration": 229,
    "start_time": "2023-12-03T20:33:33.259Z"
   },
   {
    "duration": 7,
    "start_time": "2023-12-03T20:33:33.490Z"
   },
   {
    "duration": 25,
    "start_time": "2023-12-03T20:33:33.499Z"
   },
   {
    "duration": 225,
    "start_time": "2023-12-03T20:33:33.530Z"
   },
   {
    "duration": 11,
    "start_time": "2023-12-03T20:33:33.757Z"
   },
   {
    "duration": 5,
    "start_time": "2023-12-03T20:33:33.769Z"
   },
   {
    "duration": 4,
    "start_time": "2023-12-03T20:33:33.775Z"
   },
   {
    "duration": 5,
    "start_time": "2023-12-03T20:33:33.780Z"
   },
   {
    "duration": 57,
    "start_time": "2023-12-03T20:33:33.787Z"
   },
   {
    "duration": 15,
    "start_time": "2023-12-03T20:33:33.845Z"
   },
   {
    "duration": 3,
    "start_time": "2023-12-03T20:33:33.862Z"
   },
   {
    "duration": 4,
    "start_time": "2023-12-03T20:33:33.870Z"
   },
   {
    "duration": 3,
    "start_time": "2023-12-03T20:33:33.875Z"
   },
   {
    "duration": 6,
    "start_time": "2023-12-03T20:33:33.879Z"
   },
   {
    "duration": 53,
    "start_time": "2023-12-03T20:33:33.886Z"
   },
   {
    "duration": 4,
    "start_time": "2023-12-03T20:33:33.941Z"
   },
   {
    "duration": 7,
    "start_time": "2023-12-03T20:33:33.946Z"
   },
   {
    "duration": 12,
    "start_time": "2023-12-03T20:33:33.954Z"
   },
   {
    "duration": 14,
    "start_time": "2023-12-03T20:33:33.968Z"
   },
   {
    "duration": 17,
    "start_time": "2023-12-03T20:33:33.983Z"
   },
   {
    "duration": 24,
    "start_time": "2023-12-03T20:33:34.002Z"
   },
   {
    "duration": 17,
    "start_time": "2023-12-03T20:33:34.027Z"
   },
   {
    "duration": 8,
    "start_time": "2023-12-03T20:33:34.045Z"
   },
   {
    "duration": 17,
    "start_time": "2023-12-03T20:33:34.054Z"
   },
   {
    "duration": 15,
    "start_time": "2023-12-03T20:33:34.072Z"
   },
   {
    "duration": 51,
    "start_time": "2023-12-03T20:33:34.089Z"
   },
   {
    "duration": 6,
    "start_time": "2023-12-03T20:33:34.143Z"
   },
   {
    "duration": 6,
    "start_time": "2023-12-03T20:33:34.150Z"
   }
  ],
  "kernelspec": {
   "display_name": "Python 3 (ipykernel)",
   "language": "python",
   "name": "python3"
  },
  "language_info": {
   "codemirror_mode": {
    "name": "ipython",
    "version": 3
   },
   "file_extension": ".py",
   "mimetype": "text/x-python",
   "name": "python",
   "nbconvert_exporter": "python",
   "pygments_lexer": "ipython3",
   "version": "3.11.4"
  },
  "toc": {
   "base_numbering": 1,
   "nav_menu": {},
   "number_sections": true,
   "sideBar": true,
   "skip_h1_title": true,
   "title_cell": "Содержание",
   "title_sidebar": "Содержание",
   "toc_cell": true,
   "toc_position": {
    "height": "calc(100% - 180px)",
    "left": "10px",
    "top": "150px",
    "width": "165px"
   },
   "toc_section_display": true,
   "toc_window_display": true
  }
 },
 "nbformat": 4,
 "nbformat_minor": 5
}
